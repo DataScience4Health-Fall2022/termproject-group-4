{
 "cells": [
  {
   "cell_type": "code",
   "execution_count": 184,
   "metadata": {},
   "outputs": [],
   "source": [
    "import pandas as pd\n",
    "import numpy as np \n",
    "import seaborn as sns\n",
    "import matplotlib.pyplot as plt \n",
    "import math \n",
    "from tqdm import tqdm\n",
    "from random import random \n",
    "import cv2 as cv"
   ]
  },
  {
   "cell_type": "code",
   "execution_count": 185,
   "metadata": {},
   "outputs": [
    {
     "data": {
      "text/html": [
       "<div>\n",
       "<style scoped>\n",
       "    .dataframe tbody tr th:only-of-type {\n",
       "        vertical-align: middle;\n",
       "    }\n",
       "\n",
       "    .dataframe tbody tr th {\n",
       "        vertical-align: top;\n",
       "    }\n",
       "\n",
       "    .dataframe thead th {\n",
       "        text-align: right;\n",
       "    }\n",
       "</style>\n",
       "<table border=\"1\" class=\"dataframe\">\n",
       "  <thead>\n",
       "    <tr style=\"text-align: right;\">\n",
       "      <th></th>\n",
       "      <th>lesion_id</th>\n",
       "      <th>image_id</th>\n",
       "      <th>dx</th>\n",
       "      <th>dx_type</th>\n",
       "      <th>age</th>\n",
       "      <th>sex</th>\n",
       "      <th>localization</th>\n",
       "      <th>dataset</th>\n",
       "    </tr>\n",
       "  </thead>\n",
       "  <tbody>\n",
       "    <tr>\n",
       "      <th>0</th>\n",
       "      <td>HAM_0000118</td>\n",
       "      <td>ISIC_0027419</td>\n",
       "      <td>bkl</td>\n",
       "      <td>histo</td>\n",
       "      <td>80.0</td>\n",
       "      <td>male</td>\n",
       "      <td>scalp</td>\n",
       "      <td>vidir_modern</td>\n",
       "    </tr>\n",
       "    <tr>\n",
       "      <th>1</th>\n",
       "      <td>HAM_0000118</td>\n",
       "      <td>ISIC_0025030</td>\n",
       "      <td>bkl</td>\n",
       "      <td>histo</td>\n",
       "      <td>80.0</td>\n",
       "      <td>male</td>\n",
       "      <td>scalp</td>\n",
       "      <td>vidir_modern</td>\n",
       "    </tr>\n",
       "    <tr>\n",
       "      <th>2</th>\n",
       "      <td>HAM_0002730</td>\n",
       "      <td>ISIC_0026769</td>\n",
       "      <td>bkl</td>\n",
       "      <td>histo</td>\n",
       "      <td>80.0</td>\n",
       "      <td>male</td>\n",
       "      <td>scalp</td>\n",
       "      <td>vidir_modern</td>\n",
       "    </tr>\n",
       "    <tr>\n",
       "      <th>3</th>\n",
       "      <td>HAM_0002730</td>\n",
       "      <td>ISIC_0025661</td>\n",
       "      <td>bkl</td>\n",
       "      <td>histo</td>\n",
       "      <td>80.0</td>\n",
       "      <td>male</td>\n",
       "      <td>scalp</td>\n",
       "      <td>vidir_modern</td>\n",
       "    </tr>\n",
       "    <tr>\n",
       "      <th>4</th>\n",
       "      <td>HAM_0001466</td>\n",
       "      <td>ISIC_0031633</td>\n",
       "      <td>bkl</td>\n",
       "      <td>histo</td>\n",
       "      <td>75.0</td>\n",
       "      <td>male</td>\n",
       "      <td>ear</td>\n",
       "      <td>vidir_modern</td>\n",
       "    </tr>\n",
       "    <tr>\n",
       "      <th>...</th>\n",
       "      <td>...</td>\n",
       "      <td>...</td>\n",
       "      <td>...</td>\n",
       "      <td>...</td>\n",
       "      <td>...</td>\n",
       "      <td>...</td>\n",
       "      <td>...</td>\n",
       "      <td>...</td>\n",
       "    </tr>\n",
       "    <tr>\n",
       "      <th>10010</th>\n",
       "      <td>HAM_0002867</td>\n",
       "      <td>ISIC_0033084</td>\n",
       "      <td>akiec</td>\n",
       "      <td>histo</td>\n",
       "      <td>40.0</td>\n",
       "      <td>male</td>\n",
       "      <td>abdomen</td>\n",
       "      <td>vidir_modern</td>\n",
       "    </tr>\n",
       "    <tr>\n",
       "      <th>10011</th>\n",
       "      <td>HAM_0002867</td>\n",
       "      <td>ISIC_0033550</td>\n",
       "      <td>akiec</td>\n",
       "      <td>histo</td>\n",
       "      <td>40.0</td>\n",
       "      <td>male</td>\n",
       "      <td>abdomen</td>\n",
       "      <td>vidir_modern</td>\n",
       "    </tr>\n",
       "    <tr>\n",
       "      <th>10012</th>\n",
       "      <td>HAM_0002867</td>\n",
       "      <td>ISIC_0033536</td>\n",
       "      <td>akiec</td>\n",
       "      <td>histo</td>\n",
       "      <td>40.0</td>\n",
       "      <td>male</td>\n",
       "      <td>abdomen</td>\n",
       "      <td>vidir_modern</td>\n",
       "    </tr>\n",
       "    <tr>\n",
       "      <th>10013</th>\n",
       "      <td>HAM_0000239</td>\n",
       "      <td>ISIC_0032854</td>\n",
       "      <td>akiec</td>\n",
       "      <td>histo</td>\n",
       "      <td>80.0</td>\n",
       "      <td>male</td>\n",
       "      <td>face</td>\n",
       "      <td>vidir_modern</td>\n",
       "    </tr>\n",
       "    <tr>\n",
       "      <th>10014</th>\n",
       "      <td>HAM_0003521</td>\n",
       "      <td>ISIC_0032258</td>\n",
       "      <td>mel</td>\n",
       "      <td>histo</td>\n",
       "      <td>70.0</td>\n",
       "      <td>female</td>\n",
       "      <td>back</td>\n",
       "      <td>vidir_modern</td>\n",
       "    </tr>\n",
       "  </tbody>\n",
       "</table>\n",
       "<p>10015 rows × 8 columns</p>\n",
       "</div>"
      ],
      "text/plain": [
       "         lesion_id      image_id     dx dx_type   age     sex localization  \\\n",
       "0      HAM_0000118  ISIC_0027419    bkl   histo  80.0    male        scalp   \n",
       "1      HAM_0000118  ISIC_0025030    bkl   histo  80.0    male        scalp   \n",
       "2      HAM_0002730  ISIC_0026769    bkl   histo  80.0    male        scalp   \n",
       "3      HAM_0002730  ISIC_0025661    bkl   histo  80.0    male        scalp   \n",
       "4      HAM_0001466  ISIC_0031633    bkl   histo  75.0    male          ear   \n",
       "...            ...           ...    ...     ...   ...     ...          ...   \n",
       "10010  HAM_0002867  ISIC_0033084  akiec   histo  40.0    male      abdomen   \n",
       "10011  HAM_0002867  ISIC_0033550  akiec   histo  40.0    male      abdomen   \n",
       "10012  HAM_0002867  ISIC_0033536  akiec   histo  40.0    male      abdomen   \n",
       "10013  HAM_0000239  ISIC_0032854  akiec   histo  80.0    male         face   \n",
       "10014  HAM_0003521  ISIC_0032258    mel   histo  70.0  female         back   \n",
       "\n",
       "            dataset  \n",
       "0      vidir_modern  \n",
       "1      vidir_modern  \n",
       "2      vidir_modern  \n",
       "3      vidir_modern  \n",
       "4      vidir_modern  \n",
       "...             ...  \n",
       "10010  vidir_modern  \n",
       "10011  vidir_modern  \n",
       "10012  vidir_modern  \n",
       "10013  vidir_modern  \n",
       "10014  vidir_modern  \n",
       "\n",
       "[10015 rows x 8 columns]"
      ]
     },
     "execution_count": 185,
     "metadata": {},
     "output_type": "execute_result"
    }
   ],
   "source": [
    "df = pd.read_csv(\"./HAM10000/HAM10000_metadata.csv\")\n",
    "df"
   ]
  },
  {
   "cell_type": "code",
   "execution_count": 186,
   "metadata": {},
   "outputs": [
    {
     "data": {
      "text/plain": [
       "{'male': 5406, 'female': 4552, 'unknown': 57}"
      ]
     },
     "execution_count": 186,
     "metadata": {},
     "output_type": "execute_result"
    }
   ],
   "source": [
    "#sex balance \n",
    "sex = {}\n",
    "for s in df[\"sex\"]:\n",
    "    if s not in sex:\n",
    "        sex[s] = 0 \n",
    "    sex[s] += 1\n",
    "sex"
   ]
  },
  {
   "cell_type": "code",
   "execution_count": 187,
   "metadata": {},
   "outputs": [
    {
     "name": "stdout",
     "output_type": "stream",
     "text": [
      "10015\n"
     ]
    },
    {
     "data": {
      "text/plain": [
       "{'bkl': 1099,\n",
       " 'nv': 6705,\n",
       " 'df': 115,\n",
       " 'mel': 1113,\n",
       " 'vasc': 142,\n",
       " 'bcc': 514,\n",
       " 'akiec': 327}"
      ]
     },
     "execution_count": 187,
     "metadata": {},
     "output_type": "execute_result"
    }
   ],
   "source": [
    "c = 0 \n",
    "balance = {}\n",
    "for d in df[\"dx\"]:\n",
    "    if d not in balance:\n",
    "        balance[d] = 0 \n",
    "    balance[d] += 1\n",
    "    c += 1\n",
    "print(c)\n",
    "balance"
   ]
  },
  {
   "cell_type": "code",
   "execution_count": 188,
   "metadata": {},
   "outputs": [],
   "source": [
    "dx  = []\n",
    "nums = []\n",
    "for d in balance:\n",
    "    dx.append(d)\n",
    "    nums.append(balance[d])\n",
    "df = pd.DataFrame()\n",
    "df[\"dx\"] = dx\n",
    "df[\"nums\"] = nums"
   ]
  },
  {
   "cell_type": "code",
   "execution_count": 189,
   "metadata": {},
   "outputs": [
    {
     "data": {
      "text/plain": [
       "[Text(0.5, 0, 'Diagnosis'), Text(0, 0.5, 'Samples')]"
      ]
     },
     "execution_count": 189,
     "metadata": {},
     "output_type": "execute_result"
    },
    {
     "data": {
      "image/png": "[encoded data removed]",
      "text/plain": [
       "<Figure size 1432.08x774.072 with 1 Axes>"
      ]
     },
     "metadata": {},
     "output_type": "display_data"
    }
   ],
   "source": [
    "g = sns.barplot(x=\"dx\", y=\"nums\", data=df)\n",
    "g.set(xlabel=\"Diagnosis\", ylabel=\"Samples\")\n",
    "#here either add legend, or figure description for map "
   ]
  },
  {
   "cell_type": "markdown",
   "metadata": {},
   "source": [
    "Age balance - male female ages "
   ]
  },
  {
   "cell_type": "code",
   "execution_count": 190,
   "metadata": {},
   "outputs": [
    {
     "data": {
      "text/plain": [
       "[Text(0.5, 0, 'Sex'), Text(0, 0.5, 'Age (years)')]"
      ]
     },
     "execution_count": 190,
     "metadata": {},
     "output_type": "execute_result"
    },
    {
     "data": {
      "image/png": "[encoded data removed]",
      "text/plain": [
       "<Figure size 1432.08x774.072 with 1 Axes>"
      ]
     },
     "metadata": {},
     "output_type": "display_data"
    }
   ],
   "source": [
    "df = pd.read_csv(\"./HAM10000/HAM10000_metadata.csv\")\n",
    "\n",
    "g = sns.boxplot(x=\"sex\", y=\"age\", data=df)\n",
    "g.set(xlabel=\"Sex\", ylabel=\"Age (years)\")"
   ]
  },
  {
   "cell_type": "markdown",
   "metadata": {},
   "source": [
    "Average incidence age for dx "
   ]
  },
  {
   "cell_type": "code",
   "execution_count": 191,
   "metadata": {},
   "outputs": [
    {
     "data": {
      "text/plain": [
       "[Text(0.5, 0, 'Diagnosis'), Text(0, 0.5, 'Age (years)')]"
      ]
     },
     "execution_count": 191,
     "metadata": {},
     "output_type": "execute_result"
    },
    {
     "data": {
      "image/png": "[encoded data removed]",
      "text/plain": [
       "<Figure size 1432.08x774.072 with 1 Axes>"
      ]
     },
     "metadata": {},
     "output_type": "display_data"
    }
   ],
   "source": [
    "g = sns.violinplot(x=\"dx\", y=\"age\", data=df)\n",
    "g.set(xlabel=\"Diagnosis\", ylabel=\"Age (years)\")"
   ]
  },
  {
   "cell_type": "markdown",
   "metadata": {},
   "source": [
    "Localization of condition"
   ]
  },
  {
   "cell_type": "code",
   "execution_count": 192,
   "metadata": {},
   "outputs": [
    {
     "name": "stdout",
     "output_type": "stream",
     "text": [
      "10015\n"
     ]
    },
    {
     "data": {
      "text/plain": [
       "{'back': 2192,\n",
       " 'lower extremity': 2077,\n",
       " 'trunk': 1404,\n",
       " 'upper extremity': 1118,\n",
       " 'abdomen': 1022,\n",
       " 'face': 745,\n",
       " 'chest': 407,\n",
       " 'foot': 319,\n",
       " 'unknown': 234,\n",
       " 'neck': 168,\n",
       " 'scalp': 128,\n",
       " 'hand': 90,\n",
       " 'ear': 56,\n",
       " 'genital': 48,\n",
       " 'acral': 7}"
      ]
     },
     "execution_count": 192,
     "metadata": {},
     "output_type": "execute_result"
    }
   ],
   "source": [
    "df = pd.read_csv(\"./HAM10000/HAM10000_metadata.csv\")\n",
    "\n",
    "c = 0 \n",
    "balance = {}\n",
    "for d in df[\"localization\"]:\n",
    "    if d not in balance:\n",
    "        balance[d] = 0 \n",
    "    balance[d] += 1\n",
    "    c += 1\n",
    "print(c)\n",
    "\n",
    "balance = dict(sorted(balance.items(), key=lambda item: item[1], reverse=True))\n",
    "balance"
   ]
  },
  {
   "cell_type": "code",
   "execution_count": 193,
   "metadata": {},
   "outputs": [
    {
     "data": {
      "text/plain": [
       "[Text(0.5, 0, 'Localization'), Text(0, 0.5, 'Samples')]"
      ]
     },
     "execution_count": 193,
     "metadata": {},
     "output_type": "execute_result"
    },
    {
     "data": {
      "image/png": "[encoded data removed]",
      "text/plain": [
       "<Figure size 1263.6x893.16 with 1 Axes>"
      ]
     },
     "metadata": {},
     "output_type": "display_data"
    }
   ],
   "source": [
    "dx  = []\n",
    "nums = []\n",
    "for d in balance:\n",
    "    dx.append(d)\n",
    "    nums.append(balance[d])\n",
    "df = pd.DataFrame()\n",
    "df[\"dx\"] = dx\n",
    "df[\"nums\"] = nums\n",
    "\n",
    "sns.set(font_scale=1, rc={'figure.figsize':(1.5*11.7,1.5*8.27)})\n",
    "g = sns.barplot(x=\"dx\", y=\"nums\", data=df)\n",
    "g.set(xlabel=\"Localization\", ylabel=\"Samples\")"
   ]
  },
  {
   "cell_type": "markdown",
   "metadata": {},
   "source": [
    "Histology distrib "
   ]
  },
  {
   "cell_type": "code",
   "execution_count": 194,
   "metadata": {},
   "outputs": [
    {
     "data": {
      "text/plain": [
       "{'histo': 5340, 'consensus': 902, 'confocal': 69, 'follow_up': 3704}"
      ]
     },
     "execution_count": 194,
     "metadata": {},
     "output_type": "execute_result"
    }
   ],
   "source": [
    "df = pd.read_csv(\"./HAM10000/HAM10000_metadata.csv\")\n",
    "balance = {}\n",
    "for d in df[\"dx_type\"]:\n",
    "    if d not in balance:\n",
    "        balance[d] = 0 \n",
    "    balance[d] += 1\n",
    "balance"
   ]
  },
  {
   "cell_type": "code",
   "execution_count": 195,
   "metadata": {},
   "outputs": [
    {
     "data": {
      "text/plain": [
       "[Text(0.5, 0, 'Localization'), Text(0, 0.5, 'Samples')]"
      ]
     },
     "execution_count": 195,
     "metadata": {},
     "output_type": "execute_result"
    },
    {
     "data": {
      "image/png": "[encoded data removed]",
      "text/plain": [
       "<Figure size 1263.6x893.16 with 1 Axes>"
      ]
     },
     "metadata": {},
     "output_type": "display_data"
    }
   ],
   "source": [
    "hx  = []\n",
    "nums = []\n",
    "for d in balance:\n",
    "    hx.append(d)\n",
    "    nums.append(balance[d])\n",
    "df = pd.DataFrame()\n",
    "df[\"hx\"] = hx\n",
    "df[\"nums\"] = nums\n",
    "g = sns.barplot(x=\"hx\", y=\"nums\", data=df)\n",
    "g.set(xlabel=\"Localization\", ylabel=\"Samples\")"
   ]
  },
  {
   "cell_type": "code",
   "execution_count": 196,
   "metadata": {},
   "outputs": [
    {
     "data": {
      "text/html": [
       "<div>\n",
       "<style scoped>\n",
       "    .dataframe tbody tr th:only-of-type {\n",
       "        vertical-align: middle;\n",
       "    }\n",
       "\n",
       "    .dataframe tbody tr th {\n",
       "        vertical-align: top;\n",
       "    }\n",
       "\n",
       "    .dataframe thead th {\n",
       "        text-align: right;\n",
       "    }\n",
       "</style>\n",
       "<table border=\"1\" class=\"dataframe\">\n",
       "  <thead>\n",
       "    <tr style=\"text-align: right;\">\n",
       "      <th></th>\n",
       "      <th>lesion_id</th>\n",
       "      <th>image_id</th>\n",
       "      <th>dx</th>\n",
       "      <th>dx_type</th>\n",
       "      <th>age</th>\n",
       "      <th>sex</th>\n",
       "      <th>localization</th>\n",
       "      <th>dataset</th>\n",
       "    </tr>\n",
       "  </thead>\n",
       "  <tbody>\n",
       "    <tr>\n",
       "      <th>0</th>\n",
       "      <td>HAM_0000118</td>\n",
       "      <td>ISIC_0027419</td>\n",
       "      <td>bkl</td>\n",
       "      <td>histo</td>\n",
       "      <td>80.0</td>\n",
       "      <td>male</td>\n",
       "      <td>scalp</td>\n",
       "      <td>vidir_modern</td>\n",
       "    </tr>\n",
       "    <tr>\n",
       "      <th>1</th>\n",
       "      <td>HAM_0000118</td>\n",
       "      <td>ISIC_0025030</td>\n",
       "      <td>bkl</td>\n",
       "      <td>histo</td>\n",
       "      <td>80.0</td>\n",
       "      <td>male</td>\n",
       "      <td>scalp</td>\n",
       "      <td>vidir_modern</td>\n",
       "    </tr>\n",
       "    <tr>\n",
       "      <th>2</th>\n",
       "      <td>HAM_0002730</td>\n",
       "      <td>ISIC_0026769</td>\n",
       "      <td>bkl</td>\n",
       "      <td>histo</td>\n",
       "      <td>80.0</td>\n",
       "      <td>male</td>\n",
       "      <td>scalp</td>\n",
       "      <td>vidir_modern</td>\n",
       "    </tr>\n",
       "    <tr>\n",
       "      <th>3</th>\n",
       "      <td>HAM_0002730</td>\n",
       "      <td>ISIC_0025661</td>\n",
       "      <td>bkl</td>\n",
       "      <td>histo</td>\n",
       "      <td>80.0</td>\n",
       "      <td>male</td>\n",
       "      <td>scalp</td>\n",
       "      <td>vidir_modern</td>\n",
       "    </tr>\n",
       "    <tr>\n",
       "      <th>4</th>\n",
       "      <td>HAM_0001466</td>\n",
       "      <td>ISIC_0031633</td>\n",
       "      <td>bkl</td>\n",
       "      <td>histo</td>\n",
       "      <td>75.0</td>\n",
       "      <td>male</td>\n",
       "      <td>ear</td>\n",
       "      <td>vidir_modern</td>\n",
       "    </tr>\n",
       "    <tr>\n",
       "      <th>...</th>\n",
       "      <td>...</td>\n",
       "      <td>...</td>\n",
       "      <td>...</td>\n",
       "      <td>...</td>\n",
       "      <td>...</td>\n",
       "      <td>...</td>\n",
       "      <td>...</td>\n",
       "      <td>...</td>\n",
       "    </tr>\n",
       "    <tr>\n",
       "      <th>10010</th>\n",
       "      <td>HAM_0002867</td>\n",
       "      <td>ISIC_0033084</td>\n",
       "      <td>akiec</td>\n",
       "      <td>histo</td>\n",
       "      <td>40.0</td>\n",
       "      <td>male</td>\n",
       "      <td>abdomen</td>\n",
       "      <td>vidir_modern</td>\n",
       "    </tr>\n",
       "    <tr>\n",
       "      <th>10011</th>\n",
       "      <td>HAM_0002867</td>\n",
       "      <td>ISIC_0033550</td>\n",
       "      <td>akiec</td>\n",
       "      <td>histo</td>\n",
       "      <td>40.0</td>\n",
       "      <td>male</td>\n",
       "      <td>abdomen</td>\n",
       "      <td>vidir_modern</td>\n",
       "    </tr>\n",
       "    <tr>\n",
       "      <th>10012</th>\n",
       "      <td>HAM_0002867</td>\n",
       "      <td>ISIC_0033536</td>\n",
       "      <td>akiec</td>\n",
       "      <td>histo</td>\n",
       "      <td>40.0</td>\n",
       "      <td>male</td>\n",
       "      <td>abdomen</td>\n",
       "      <td>vidir_modern</td>\n",
       "    </tr>\n",
       "    <tr>\n",
       "      <th>10013</th>\n",
       "      <td>HAM_0000239</td>\n",
       "      <td>ISIC_0032854</td>\n",
       "      <td>akiec</td>\n",
       "      <td>histo</td>\n",
       "      <td>80.0</td>\n",
       "      <td>male</td>\n",
       "      <td>face</td>\n",
       "      <td>vidir_modern</td>\n",
       "    </tr>\n",
       "    <tr>\n",
       "      <th>10014</th>\n",
       "      <td>HAM_0003521</td>\n",
       "      <td>ISIC_0032258</td>\n",
       "      <td>mel</td>\n",
       "      <td>histo</td>\n",
       "      <td>70.0</td>\n",
       "      <td>female</td>\n",
       "      <td>back</td>\n",
       "      <td>vidir_modern</td>\n",
       "    </tr>\n",
       "  </tbody>\n",
       "</table>\n",
       "<p>10015 rows × 8 columns</p>\n",
       "</div>"
      ],
      "text/plain": [
       "         lesion_id      image_id     dx dx_type   age     sex localization  \\\n",
       "0      HAM_0000118  ISIC_0027419    bkl   histo  80.0    male        scalp   \n",
       "1      HAM_0000118  ISIC_0025030    bkl   histo  80.0    male        scalp   \n",
       "2      HAM_0002730  ISIC_0026769    bkl   histo  80.0    male        scalp   \n",
       "3      HAM_0002730  ISIC_0025661    bkl   histo  80.0    male        scalp   \n",
       "4      HAM_0001466  ISIC_0031633    bkl   histo  75.0    male          ear   \n",
       "...            ...           ...    ...     ...   ...     ...          ...   \n",
       "10010  HAM_0002867  ISIC_0033084  akiec   histo  40.0    male      abdomen   \n",
       "10011  HAM_0002867  ISIC_0033550  akiec   histo  40.0    male      abdomen   \n",
       "10012  HAM_0002867  ISIC_0033536  akiec   histo  40.0    male      abdomen   \n",
       "10013  HAM_0000239  ISIC_0032854  akiec   histo  80.0    male         face   \n",
       "10014  HAM_0003521  ISIC_0032258    mel   histo  70.0  female         back   \n",
       "\n",
       "            dataset  \n",
       "0      vidir_modern  \n",
       "1      vidir_modern  \n",
       "2      vidir_modern  \n",
       "3      vidir_modern  \n",
       "4      vidir_modern  \n",
       "...             ...  \n",
       "10010  vidir_modern  \n",
       "10011  vidir_modern  \n",
       "10012  vidir_modern  \n",
       "10013  vidir_modern  \n",
       "10014  vidir_modern  \n",
       "\n",
       "[10015 rows x 8 columns]"
      ]
     },
     "execution_count": 196,
     "metadata": {},
     "output_type": "execute_result"
    }
   ],
   "source": [
    "df = pd.read_csv(\"./HAM10000/HAM10000_metadata.csv\")\n",
    "df"
   ]
  },
  {
   "cell_type": "code",
   "execution_count": 197,
   "metadata": {},
   "outputs": [
    {
     "data": {
      "text/plain": [
       "[Text(0.5, 0, 'Localization'), Text(0, 0.5, 'Age (years)')]"
      ]
     },
     "execution_count": 197,
     "metadata": {},
     "output_type": "execute_result"
    },
    {
     "data": {
      "image/png": "[encoded data removed]",
      "text/plain": [
       "<Figure size 1263.6x893.16 with 1 Axes>"
      ]
     },
     "metadata": {},
     "output_type": "display_data"
    }
   ],
   "source": [
    "#age vs localization \n",
    "g = sns.boxplot(x=\"localization\", y=\"age\", data=df)\n",
    "sns.set(font_scale=1, rc={'figure.figsize':(1.5*11.7,1.5*8.27)})\n",
    "g.set(xlabel=\"Localization\", ylabel=\"Age (years)\")"
   ]
  },
  {
   "cell_type": "code",
   "execution_count": 198,
   "metadata": {},
   "outputs": [],
   "source": [
    "#number by diagnoses by sex \n",
    "m_balance = {}\n",
    "f_balance = {}\n",
    "for d,s in zip(list(df[\"dx\"]), list(df[\"sex\"])):\n",
    "    if s == \"male\":\n",
    "        if d not in m_balance:\n",
    "            m_balance[d] = 0 \n",
    "        m_balance[d] += 1\n",
    "    else:\n",
    "        if d not in f_balance:\n",
    "            f_balance[d] = 0 \n",
    "        f_balance[d] += 1"
   ]
  },
  {
   "cell_type": "code",
   "execution_count": 199,
   "metadata": {},
   "outputs": [
    {
     "data": {
      "text/plain": [
       "{'bkl': 626,\n",
       " 'nv': 3421,\n",
       " 'df': 63,\n",
       " 'mel': 689,\n",
       " 'vasc': 69,\n",
       " 'bcc': 317,\n",
       " 'akiec': 221}"
      ]
     },
     "execution_count": 199,
     "metadata": {},
     "output_type": "execute_result"
    }
   ],
   "source": [
    "m_balance"
   ]
  },
  {
   "cell_type": "code",
   "execution_count": 200,
   "metadata": {},
   "outputs": [
    {
     "data": {
      "text/html": [
       "<div>\n",
       "<style scoped>\n",
       "    .dataframe tbody tr th:only-of-type {\n",
       "        vertical-align: middle;\n",
       "    }\n",
       "\n",
       "    .dataframe tbody tr th {\n",
       "        vertical-align: top;\n",
       "    }\n",
       "\n",
       "    .dataframe thead th {\n",
       "        text-align: right;\n",
       "    }\n",
       "</style>\n",
       "<table border=\"1\" class=\"dataframe\">\n",
       "  <thead>\n",
       "    <tr style=\"text-align: right;\">\n",
       "      <th></th>\n",
       "      <th>sex</th>\n",
       "      <th>dx</th>\n",
       "      <th>nums</th>\n",
       "    </tr>\n",
       "  </thead>\n",
       "  <tbody>\n",
       "    <tr>\n",
       "      <th>0</th>\n",
       "      <td>male</td>\n",
       "      <td>bkl</td>\n",
       "      <td>626</td>\n",
       "    </tr>\n",
       "    <tr>\n",
       "      <th>1</th>\n",
       "      <td>male</td>\n",
       "      <td>nv</td>\n",
       "      <td>3421</td>\n",
       "    </tr>\n",
       "    <tr>\n",
       "      <th>2</th>\n",
       "      <td>male</td>\n",
       "      <td>df</td>\n",
       "      <td>63</td>\n",
       "    </tr>\n",
       "    <tr>\n",
       "      <th>3</th>\n",
       "      <td>male</td>\n",
       "      <td>mel</td>\n",
       "      <td>689</td>\n",
       "    </tr>\n",
       "    <tr>\n",
       "      <th>4</th>\n",
       "      <td>male</td>\n",
       "      <td>vasc</td>\n",
       "      <td>69</td>\n",
       "    </tr>\n",
       "    <tr>\n",
       "      <th>5</th>\n",
       "      <td>male</td>\n",
       "      <td>bcc</td>\n",
       "      <td>317</td>\n",
       "    </tr>\n",
       "    <tr>\n",
       "      <th>6</th>\n",
       "      <td>male</td>\n",
       "      <td>akiec</td>\n",
       "      <td>221</td>\n",
       "    </tr>\n",
       "    <tr>\n",
       "      <th>7</th>\n",
       "      <td>female</td>\n",
       "      <td>bkl</td>\n",
       "      <td>473</td>\n",
       "    </tr>\n",
       "    <tr>\n",
       "      <th>8</th>\n",
       "      <td>female</td>\n",
       "      <td>df</td>\n",
       "      <td>52</td>\n",
       "    </tr>\n",
       "    <tr>\n",
       "      <th>9</th>\n",
       "      <td>female</td>\n",
       "      <td>nv</td>\n",
       "      <td>3284</td>\n",
       "    </tr>\n",
       "    <tr>\n",
       "      <th>10</th>\n",
       "      <td>female</td>\n",
       "      <td>mel</td>\n",
       "      <td>424</td>\n",
       "    </tr>\n",
       "    <tr>\n",
       "      <th>11</th>\n",
       "      <td>female</td>\n",
       "      <td>vasc</td>\n",
       "      <td>73</td>\n",
       "    </tr>\n",
       "    <tr>\n",
       "      <th>12</th>\n",
       "      <td>female</td>\n",
       "      <td>bcc</td>\n",
       "      <td>197</td>\n",
       "    </tr>\n",
       "    <tr>\n",
       "      <th>13</th>\n",
       "      <td>female</td>\n",
       "      <td>akiec</td>\n",
       "      <td>106</td>\n",
       "    </tr>\n",
       "  </tbody>\n",
       "</table>\n",
       "</div>"
      ],
      "text/plain": [
       "       sex     dx  nums\n",
       "0     male    bkl   626\n",
       "1     male     nv  3421\n",
       "2     male     df    63\n",
       "3     male    mel   689\n",
       "4     male   vasc    69\n",
       "5     male    bcc   317\n",
       "6     male  akiec   221\n",
       "7   female    bkl   473\n",
       "8   female     df    52\n",
       "9   female     nv  3284\n",
       "10  female    mel   424\n",
       "11  female   vasc    73\n",
       "12  female    bcc   197\n",
       "13  female  akiec   106"
      ]
     },
     "execution_count": 200,
     "metadata": {},
     "output_type": "execute_result"
    }
   ],
   "source": [
    "ndf = pd.DataFrame()\n",
    "sexes = []\n",
    "dxs = []\n",
    "amounts = []\n",
    "\n",
    "for d in m_balance:\n",
    "    sexes.append(\"male\")\n",
    "    dxs.append(d)\n",
    "    amounts.append(m_balance[d])\n",
    "\n",
    "for d in f_balance:\n",
    "    sexes.append(\"female\")\n",
    "    dxs.append(d)\n",
    "    amounts.append(f_balance[d])\n",
    "\n",
    "ndf[\"sex\"] = sexes\n",
    "ndf[\"dx\"] = dxs \n",
    "ndf[\"nums\"] = amounts \n",
    "ndf"
   ]
  },
  {
   "cell_type": "code",
   "execution_count": 201,
   "metadata": {},
   "outputs": [
    {
     "data": {
      "image/png": "[encoded data removed]",
      "text/plain": [
       "<Figure size 504.85x432 with 1 Axes>"
      ]
     },
     "metadata": {},
     "output_type": "display_data"
    }
   ],
   "source": [
    "try:\n",
    "    g = sns.catplot(\n",
    "    data=ndf, kind=\"bar\",\n",
    "    x=\"dx\", y=\"nums\", hue=\"sex\",\n",
    "     palette=\"dark\", alpha=.6, height=6\n",
    "    )\n",
    "    g.despine(left=True)\n",
    "    g.set_axis_labels(\"Diagnosis\", \"Count\")\n",
    "    g.legend.set_title(\"Sex\")\n",
    "except:\n",
    "    pass"
   ]
  },
  {
   "cell_type": "code",
   "execution_count": 202,
   "metadata": {},
   "outputs": [
    {
     "data": {
      "image/png": "[encoded data removed]",
      "text/plain": [
       "<Figure size 1224.85x576 with 1 Axes>"
      ]
     },
     "metadata": {},
     "output_type": "display_data"
    }
   ],
   "source": [
    "#number by localization by sex \n",
    "#number by diagnosis by sex \n",
    "m_balance = {}\n",
    "f_balance = {}\n",
    "for d,s in zip(list(df[\"localization\"]), list(df[\"sex\"])):\n",
    "    if s == \"male\":\n",
    "        if d not in m_balance:\n",
    "            m_balance[d] = 0 \n",
    "        m_balance[d] += 1\n",
    "    else:\n",
    "        if d not in f_balance:\n",
    "            f_balance[d] = 0 \n",
    "        f_balance[d] += 1\n",
    "m_balance\n",
    "ndf = pd.DataFrame()\n",
    "sexes = []\n",
    "ls = []\n",
    "amounts = []\n",
    "\n",
    "for d in m_balance:\n",
    "    sexes.append(\"male\")\n",
    "    ls.append(d)\n",
    "    amounts.append(m_balance[d])\n",
    "\n",
    "for d in f_balance:\n",
    "    sexes.append(\"female\")\n",
    "    ls.append(d)\n",
    "    amounts.append(f_balance[d])\n",
    "\n",
    "ndf[\"sex\"] = sexes\n",
    "ndf[\"localization\"] = ls\n",
    "ndf[\"nums\"] = amounts \n",
    "ndf\n",
    "try:\n",
    "    g = sns.catplot(\n",
    "    data=ndf, kind=\"bar\",\n",
    "    x=\"localization\", y=\"nums\", hue=\"sex\",\n",
    "     palette=\"dark\", alpha=.6, height=8, aspect =2,\n",
    "    )\n",
    "    g.despine(left=True)\n",
    "    g.set_axis_labels(\"Localization\", \"Count\")\n",
    "    g.legend.set_title(\"Sex\")\n",
    "except:\n",
    "    pass"
   ]
  },
  {
   "cell_type": "code",
   "execution_count": 203,
   "metadata": {},
   "outputs": [
    {
     "data": {
      "image/png": "[encoded data removed]",
      "text/plain": [
       "<Figure size 1361.35x864 with 1 Axes>"
      ]
     },
     "metadata": {},
     "output_type": "display_data"
    }
   ],
   "source": [
    "# localization by diagnosis type\n",
    "balance = {} # balance = {location: disease: count}\n",
    "\n",
    "for l,d in zip(list(df[\"localization\"]), list(df[\"dx\"])):\n",
    "    if l not in balance:\n",
    "        balance[l] = {}\n",
    "    if d not in balance[l]:\n",
    "        balance[l][d] = 0 \n",
    "    balance[l][d] += 1\n",
    "\n",
    "ls = []\n",
    "dxs = []\n",
    "count = []\n",
    "for l in balance:\n",
    "    for dx in balance[l]:\n",
    "        dxs.append(dx)\n",
    "        ls.append(l)\n",
    "        count.append(balance[l][dx])\n",
    "\n",
    "ndf = pd.DataFrame()\n",
    "ndf[\"dx\"] = dxs\n",
    "ndf[\"localization\"] = ls\n",
    "ndf[\"count\"] = count \n",
    "ndf\n",
    "try:\n",
    "    g = sns.catplot(\n",
    "    data=ndf, kind=\"bar\",\n",
    "    x=\"localization\", y=\"count\", hue=\"dx\",\n",
    "      alpha=.6, height=12, aspect =1.5,\n",
    "    )\n",
    "    g.despine(left=True)\n",
    "    g.set_axis_labels(\"Localization\", \"Count\")\n",
    "    g.legend.set_title(\"Diagnosis\")\n",
    "except:\n",
    "    pass"
   ]
  },
  {
   "cell_type": "code",
   "execution_count": 204,
   "metadata": {},
   "outputs": [
    {
     "data": {
      "image/png": "[encoded data removed]",
      "text/plain": [
       "<Figure size 1243.85x576 with 1 Axes>"
      ]
     },
     "metadata": {},
     "output_type": "display_data"
    }
   ],
   "source": [
    "histo = {} # {disease: histology: count}\n",
    "for d, h in zip(list(df[\"dx\"]), list(df[\"dx_type\"])):\n",
    "    if d not in histo: \n",
    "        histo[d] = {}\n",
    "    if h not in histo[d]:\n",
    "        histo[d][h] = 0 \n",
    "    histo[d][h] += 1 \n",
    "histo\n",
    "\n",
    "dx = []\n",
    "hx = []\n",
    "count = []\n",
    "for d in histo:\n",
    "    for h in histo[d]:\n",
    "        dx.append(d)\n",
    "        hx.append(h)\n",
    "        count.append(histo[d][h])\n",
    "\n",
    "ndf = pd.DataFrame()\n",
    "ndf[\"dx\"] = dx\n",
    "ndf[\"hx\"] = hx\n",
    "ndf[\"count\"] = count \n",
    "ndf\n",
    "try:\n",
    "    g = sns.catplot(\n",
    "    data=ndf, kind=\"bar\",\n",
    "    x=\"dx\", y=\"count\", hue=\"hx\",\n",
    "     palette=\"dark\", alpha=.6, height=8, aspect =2,\n",
    "    )\n",
    "    g.despine(left=True)\n",
    "    g.set_axis_labels(\"Diagnosis\", \"Count\")\n",
    "    g.legend.set_title(\"Histology\")\n",
    "except:\n",
    "    pass"
   ]
  },
  {
   "cell_type": "markdown",
   "metadata": {},
   "source": [
    "Need to do localization by diagnosis type \n",
    "- segment before \n",
    "- ask Wayner how to proceed for multimodal learning\n",
    "- ask Wayner how to do transfer learning \n",
    "- week 7 transfer learning "
   ]
  },
  {
   "cell_type": "markdown",
   "metadata": {},
   "source": [
    "Actual image EDA "
   ]
  },
  {
   "cell_type": "code",
   "execution_count": 205,
   "metadata": {},
   "outputs": [],
   "source": [
    "import os \n",
    "from tqdm import tqdm \n",
    "import numpy as np \n",
    "from PIL import Image\n"
   ]
  },
  {
   "cell_type": "code",
   "execution_count": 206,
   "metadata": {},
   "outputs": [],
   "source": [
    "def get_dims(file):\n",
    "    '''Returns dimenstions for an RBG image'''\n",
    "    im = Image.open(file)\n",
    "    arr = np.array(im)\n",
    "    h,w,d = arr.shape\n",
    "    return h,w"
   ]
  },
  {
   "cell_type": "code",
   "execution_count": 207,
   "metadata": {},
   "outputs": [
    {
     "name": "stderr",
     "output_type": "stream",
     "text": [
      "100%|██████████| 5000/5000 [00:30<00:00, 164.82it/s]\n",
      "100%|██████████| 5015/5015 [00:30<00:00, 164.79it/s]\n"
     ]
    }
   ],
   "source": [
    "sds = [\"./HAM10000/HAM10000_images_part_1/\", \"./HAM10000/HAM10000_images_part_2/\"]\n",
    "hs = []\n",
    "ws = []\n",
    "for sd in sds:\n",
    "    filelist = [sd + f for f in os.listdir(sd)]\n",
    "    for file in tqdm(filelist):\n",
    "        h, w  = get_dims(file)\n",
    "        hs.append(h)\n",
    "        ws.append(w)\n"
   ]
  },
  {
   "cell_type": "code",
   "execution_count": 208,
   "metadata": {},
   "outputs": [
    {
     "name": "stdout",
     "output_type": "stream",
     "text": [
      "600 450\n"
     ]
    },
    {
     "data": {
      "image/png": "[encoded data removed]",
      "text/plain": [
       "<Figure size 1263.6x893.16 with 1 Axes>"
      ]
     },
     "metadata": {},
     "output_type": "display_data"
    }
   ],
   "source": [
    "g = sns.scatterplot(x=ws, y=hs)\n",
    "print(ws[0], hs[0])\n",
    "# so all images are 600 x 450"
   ]
  },
  {
   "cell_type": "code",
   "execution_count": 209,
   "metadata": {},
   "outputs": [
    {
     "name": "stderr",
     "output_type": "stream",
     "text": [
      "100%|██████████| 5000/5000 [00:00<00:00, 4217076.21it/s]\n",
      "100%|██████████| 5015/5015 [00:00<00:00, 2526355.34it/s]\n"
     ]
    }
   ],
   "source": [
    "#randomly sample several images to view\n",
    "\n",
    "sds = [\"./HAM10000/HAM10000_images_part_1/\", \"./HAM10000/HAM10000_images_part_2/\"]\n",
    "files = []\n",
    "for sd in sds:\n",
    "    for f in tqdm(os.listdir(sd)):\n",
    "        files.append(sd + f)\n"
   ]
  },
  {
   "cell_type": "code",
   "execution_count": 210,
   "metadata": {},
   "outputs": [],
   "source": [
    "sample_num = 10 \n",
    "samples = []\n",
    "for i in range(sample_num):\n",
    "    samples.append(int(random()*len(files)))\n",
    "for i in range(len(samples)):\n",
    "    samples[i] = files[samples[i]]"
   ]
  },
  {
   "cell_type": "code",
   "execution_count": null,
   "metadata": {},
   "outputs": [],
   "source": [
    "for file in samples:\n",
    "    im = Image.open(file)\n",
    "    im.show()"
   ]
  },
  {
   "cell_type": "markdown",
   "metadata": {},
   "source": [
    "-Look at the ways in which people are evaluating unbalanced datasets\n",
    "just change the evaluation metric to fit the problem you are trying to solve "
   ]
  },
  {
   "cell_type": "code",
   "execution_count": 212,
   "metadata": {},
   "outputs": [
    {
     "name": "stderr",
     "output_type": "stream",
     "text": [
      "100%|██████████| 10015/10015 [00:00<00:00, 4206063.34it/s]\n",
      "100%|██████████| 100/100 [01:38<00:00,  1.01it/s]\n"
     ]
    }
   ],
   "source": [
    "#evaluate the size of the white regions (which are the regions of interest/diseased regions) by randomly selecting 100 samples \n",
    "dir = \"HAM10000/HAM10000_segmentations_lesion_tschandl/\"\n",
    "i = 0 \n",
    "files = []\n",
    "for f in tqdm(os.listdir(dir)):\n",
    "       files.append(dir+f)\n",
    "#select 100 random files \n",
    "rfs = []\n",
    "for i in range(100):\n",
    "       rfs.append(files[int(random()*len(files))])\n",
    "sizes = []\n",
    "for f in tqdm(rfs):\n",
    "       img = cv.imread(f)\n",
    "       sizes.append(find_region_size(img))"
   ]
  },
  {
   "cell_type": "code",
   "execution_count": 213,
   "metadata": {},
   "outputs": [
    {
     "data": {
      "text/plain": [
       "<seaborn.axisgrid.FacetGrid at 0x29ac1e550>"
      ]
     },
     "execution_count": 213,
     "metadata": {},
     "output_type": "execute_result"
    },
    {
     "data": {
      "image/png": "[encoded data removed]",
      "text/plain": [
       "<Figure size 360x360 with 1 Axes>"
      ]
     },
     "metadata": {},
     "output_type": "display_data"
    }
   ],
   "source": [
    "g = sns.displot(data=sizes)\n",
    "g.set_axis_labels(\"Disease Area Size (pixels)\", \"Count\")\n"
   ]
  },
  {
   "cell_type": "code",
   "execution_count": 214,
   "metadata": {},
   "outputs": [],
   "source": [
    "def find_region_size(img):\n",
    "    #start in the middle of the image (x, y)\n",
    "    point = (300, 225)\n",
    "    #if point is not white, traverse the image until the first while pixel is found\n",
    "    if not all(img[point[1], point[0]] == [255, 255, 255]):\n",
    "        for x in range(0, 600):\n",
    "            for y in range(0, 450):\n",
    "                if all(img[y, x] == [255, 255, 255]):\n",
    "                    point = (x, y)\n",
    "                    break \n",
    "    #just bfs around while the pixels are still white\n",
    "    queue = []\n",
    "    queue.append(point)\n",
    "    visited = set()\n",
    "    while(len(queue) > 0 ):\n",
    "        #visit pixel if it is unvisted, and add neighbors \n",
    "        pixel = queue.pop(0)\n",
    "        if pixel not in visited:\n",
    "            x_n = [-1,0,1]\n",
    "            y_n = [-1,0,1]\n",
    "            #visit all the neighbors and add them to the queue\n",
    "            for xn in x_n:\n",
    "                for yn in y_n:\n",
    "                    npixel = (pixel[0] + xn, pixel[1] + yn)\n",
    "                    #if it is not visited and white and within the bounds of the image\n",
    "                    #img[y,x]\n",
    "                    if npixel not in visited  and 0 <= npixel[0] < 600 and 0 <= npixel[1] < 450 and all(img[npixel[1], npixel[0]] == [255, 255, 255]):\n",
    "                        queue.append(npixel)\n",
    "        visited.add(pixel)\n",
    "    return len(visited)"
   ]
  },
  {
   "cell_type": "code",
   "execution_count": 215,
   "metadata": {},
   "outputs": [],
   "source": [
    "#disease area size by diagnosis/dx type  \n",
    "df = pd.read_csv(\"./HAM10000/HAM10000_metadata.csv\")\n",
    "dxs = df[\"dx\"].unique()\n",
    "\n",
    "ldxs = {}\n",
    "sizes = []"
   ]
  },
  {
   "cell_type": "code",
   "execution_count": 217,
   "metadata": {},
   "outputs": [],
   "source": [
    "#get 20 samples for each dx type\n",
    "for dx, group in df.groupby(\"dx\"):\n",
    "    ldxs[dx] = []\n",
    "    images = list(group[\"image_id\"])\n",
    "    np.random.shuffle(images)\n",
    "    for i in range(20):\n",
    "        ldxs[dx].append(images[i])"
   ]
  },
  {
   "cell_type": "code",
   "execution_count": 218,
   "metadata": {},
   "outputs": [
    {
     "name": "stderr",
     "output_type": "stream",
     "text": [
      "100%|██████████| 20/20 [00:29<00:00,  1.50s/it]\n",
      "100%|██████████| 20/20 [00:21<00:00,  1.07s/it]\n",
      "100%|██████████| 20/20 [00:27<00:00,  1.39s/it]\n",
      "100%|██████████| 20/20 [00:19<00:00,  1.03it/s]\n",
      "100%|██████████| 20/20 [00:25<00:00,  1.28s/it]\n",
      "100%|██████████| 20/20 [00:12<00:00,  1.55it/s]\n",
      "100%|██████████| 20/20 [00:11<00:00,  1.68it/s]\n"
     ]
    }
   ],
   "source": [
    "#find the size of each of these\n",
    "dxs = []\n",
    "sizes = []\n",
    "for dx in ldxs:\n",
    "    for f in tqdm(ldxs[dx]):\n",
    "        img = cv.imread(dir + f+\"_segmentation.png\")\n",
    "        sizes.append(find_region_size(img))\n",
    "        dxs.append(dx)"
   ]
  },
  {
   "cell_type": "code",
   "execution_count": 219,
   "metadata": {},
   "outputs": [
    {
     "data": {
      "text/plain": [
       "[Text(0.5, 0, 'Disease'), Text(0, 0.5, 'Area Size (pixels)')]"
      ]
     },
     "execution_count": 219,
     "metadata": {},
     "output_type": "execute_result"
    },
    {
     "data": {
      "image/png": "[encoded data removed]",
      "text/plain": [
       "<Figure size 842.4x595.44 with 1 Axes>"
      ]
     },
     "metadata": {},
     "output_type": "display_data"
    }
   ],
   "source": [
    "ndf = pd.DataFrame()\n",
    "ndf[\"dx\"] = dxs\n",
    "ndf[\"sizes\"] = sizes\n",
    "sns.set(font_scale=1.2, rc={'figure.figsize':(11.7,8.27)})\n",
    "g = sns.boxplot(x=\"dx\", y=\"sizes\", data=ndf)\n",
    "g.set(xlabel=\"Disease\", ylabel=\"Area Size (pixels)\")\n",
    "\n",
    "\n"
   ]
  },
  {
   "cell_type": "code",
   "execution_count": 220,
   "metadata": {},
   "outputs": [
    {
     "name": "stderr",
     "output_type": "stream",
     "text": [
      "100%|██████████| 20/20 [00:25<00:00,  1.25s/it]\n",
      "0it [00:00, ?it/s]\n",
      "100%|██████████| 20/20 [00:21<00:00,  1.09s/it]\n",
      "100%|██████████| 20/20 [00:22<00:00,  1.15s/it]\n",
      "100%|██████████| 20/20 [00:11<00:00,  1.71it/s]\n",
      "100%|██████████| 20/20 [00:16<00:00,  1.20it/s]\n",
      "100%|██████████| 20/20 [00:16<00:00,  1.22it/s]\n",
      "100%|██████████| 20/20 [00:28<00:00,  1.40s/it]\n",
      "100%|██████████| 20/20 [00:16<00:00,  1.18it/s]\n",
      "100%|██████████| 20/20 [00:15<00:00,  1.28it/s]\n",
      "100%|██████████| 20/20 [00:18<00:00,  1.08it/s]\n",
      "100%|██████████| 20/20 [00:21<00:00,  1.06s/it]\n",
      "100%|██████████| 20/20 [00:26<00:00,  1.30s/it]\n",
      "100%|██████████| 20/20 [00:15<00:00,  1.25it/s]\n",
      "100%|██████████| 20/20 [00:23<00:00,  1.19s/it]\n"
     ]
    }
   ],
   "source": [
    "# do this same analysis by localization, to understand if different diseases are larger/smaller\n",
    "\n",
    "lcs = {}\n",
    "sizes = []\n",
    "\n",
    "#get 20 samples for each image\n",
    "for lc, group in df.groupby(\"localization\"):\n",
    "    lcs[lc] = []\n",
    "    images = list(group[\"image_id\"])\n",
    "    np.random.shuffle(images)\n",
    "    for i in range(20):\n",
    "        if len(images) > 20: \n",
    "            lcs[lc].append(images[i])\n",
    "locs = []\n",
    "sizes = []\n",
    "for lc in lcs:\n",
    "    for f in tqdm(lcs[lc]):\n",
    "        img = cv.imread(dir + f+\"_segmentation.png\")\n",
    "        sizes.append(find_region_size(img))\n",
    "        locs.append(lc)"
   ]
  },
  {
   "cell_type": "code",
   "execution_count": 221,
   "metadata": {},
   "outputs": [
    {
     "data": {
      "text/plain": [
       "[Text(0.5, 0, 'Disease Localization'), Text(0, 0.5, 'Area Size (pixels)')]"
      ]
     },
     "execution_count": 221,
     "metadata": {},
     "output_type": "execute_result"
    },
    {
     "data": {
      "image/png": "[encoded data removed]",
      "text/plain": [
       "<Figure size 1432.08x774.072 with 1 Axes>"
      ]
     },
     "metadata": {},
     "output_type": "display_data"
    }
   ],
   "source": [
    "ndf = pd.DataFrame()\n",
    "ndf[\"localization\"] = locs\n",
    "ndf[\"sizes\"] = sizes\n",
    "sns.set(font_scale=1.2, rc={'figure.figsize':(1.7*11.7,1.3*8.27)})\n",
    "g = sns.boxplot(x=\"localization\", y=\"sizes\", data=ndf)\n",
    "g.set(xlabel=\"Disease Localization\", ylabel=\"Area Size (pixels)\")\n",
    "\n",
    "\n"
   ]
  },
  {
   "cell_type": "code",
   "execution_count": 223,
   "metadata": {},
   "outputs": [],
   "source": [
    "#how semantically related/different  are these disease/location labels \n",
    "from sentence_transformers import SentenceTransformer\n",
    "import sklearn\n",
    "import plotly.express as px\n",
    "from sklearn.decomposition import PCA\n",
    "from sklearn.preprocessing import StandardScaler\n",
    "\n",
    "sentences = [\"This is an example sentence\", \"Each sentence is converted\"]\n",
    "\n",
    "model = SentenceTransformer('sentence-transformers/all-roberta-large-v1')"
   ]
  },
  {
   "cell_type": "code",
   "execution_count": 229,
   "metadata": {},
   "outputs": [],
   "source": [
    "# get all the different locations\n",
    "locations = df[\"localization\"].unique()\n",
    "# disease_map = {\n",
    "#     \"akiec\": \"Actinic Keratoses and Intraepithelial Carcinoma\", \n",
    "#     \"bcc\": \"Basal cell carcinoma\", \n",
    "#     \"bkl\": \"Benign keratosis\", \n",
    "#     \"df\": \"Dermatofibroma\", \n",
    "#     \"nv\": \"Melanocytic nevi\", \n",
    "#     \"mel\": \"Melanoma\", \n",
    "#     \"vasc\": \"Vascular skin lesions\"\n",
    "# }"
   ]
  },
  {
   "cell_type": "code",
   "execution_count": 230,
   "metadata": {},
   "outputs": [],
   "source": [
    "#make embeddings for them \n",
    "l_encoding = {}\n",
    "for l in locations:\n",
    "    l_encoding[l] = model.encode(l)"
   ]
  },
  {
   "cell_type": "code",
   "execution_count": 233,
   "metadata": {},
   "outputs": [
    {
     "data": {
      "text/html": [
       "<div>\n",
       "<style scoped>\n",
       "    .dataframe tbody tr th:only-of-type {\n",
       "        vertical-align: middle;\n",
       "    }\n",
       "\n",
       "    .dataframe tbody tr th {\n",
       "        vertical-align: top;\n",
       "    }\n",
       "\n",
       "    .dataframe thead th {\n",
       "        text-align: right;\n",
       "    }\n",
       "</style>\n",
       "<table border=\"1\" class=\"dataframe\">\n",
       "  <thead>\n",
       "    <tr style=\"text-align: right;\">\n",
       "      <th></th>\n",
       "      <th>pc1</th>\n",
       "      <th>pc2</th>\n",
       "      <th>pc3</th>\n",
       "      <th>locations</th>\n",
       "    </tr>\n",
       "  </thead>\n",
       "  <tbody>\n",
       "    <tr>\n",
       "      <th>0</th>\n",
       "      <td>-13.835149</td>\n",
       "      <td>-2.603312</td>\n",
       "      <td>2.259849</td>\n",
       "      <td>scalp</td>\n",
       "    </tr>\n",
       "    <tr>\n",
       "      <th>1</th>\n",
       "      <td>-3.920452</td>\n",
       "      <td>-3.435947</td>\n",
       "      <td>6.361957</td>\n",
       "      <td>ear</td>\n",
       "    </tr>\n",
       "    <tr>\n",
       "      <th>2</th>\n",
       "      <td>-4.312849</td>\n",
       "      <td>-16.087454</td>\n",
       "      <td>11.149613</td>\n",
       "      <td>face</td>\n",
       "    </tr>\n",
       "    <tr>\n",
       "      <th>3</th>\n",
       "      <td>-3.661015</td>\n",
       "      <td>-5.676224</td>\n",
       "      <td>-4.567707</td>\n",
       "      <td>back</td>\n",
       "    </tr>\n",
       "    <tr>\n",
       "      <th>4</th>\n",
       "      <td>-1.400513</td>\n",
       "      <td>6.650923</td>\n",
       "      <td>9.130507</td>\n",
       "      <td>trunk</td>\n",
       "    </tr>\n",
       "    <tr>\n",
       "      <th>5</th>\n",
       "      <td>9.066568</td>\n",
       "      <td>0.291162</td>\n",
       "      <td>18.360497</td>\n",
       "      <td>chest</td>\n",
       "    </tr>\n",
       "    <tr>\n",
       "      <th>6</th>\n",
       "      <td>21.076591</td>\n",
       "      <td>6.241405</td>\n",
       "      <td>-7.199512</td>\n",
       "      <td>upper extremity</td>\n",
       "    </tr>\n",
       "    <tr>\n",
       "      <th>7</th>\n",
       "      <td>3.830852</td>\n",
       "      <td>21.705761</td>\n",
       "      <td>8.610315</td>\n",
       "      <td>abdomen</td>\n",
       "    </tr>\n",
       "    <tr>\n",
       "      <th>8</th>\n",
       "      <td>-16.706150</td>\n",
       "      <td>-6.201650</td>\n",
       "      <td>-14.844983</td>\n",
       "      <td>unknown</td>\n",
       "    </tr>\n",
       "    <tr>\n",
       "      <th>9</th>\n",
       "      <td>21.009115</td>\n",
       "      <td>5.637387</td>\n",
       "      <td>-13.990552</td>\n",
       "      <td>lower extremity</td>\n",
       "    </tr>\n",
       "    <tr>\n",
       "      <th>10</th>\n",
       "      <td>-12.500628</td>\n",
       "      <td>6.668406</td>\n",
       "      <td>-5.576210</td>\n",
       "      <td>genital</td>\n",
       "    </tr>\n",
       "    <tr>\n",
       "      <th>11</th>\n",
       "      <td>3.832796</td>\n",
       "      <td>-6.736084</td>\n",
       "      <td>14.883644</td>\n",
       "      <td>neck</td>\n",
       "    </tr>\n",
       "    <tr>\n",
       "      <th>12</th>\n",
       "      <td>6.204970</td>\n",
       "      <td>-17.463989</td>\n",
       "      <td>-7.502296</td>\n",
       "      <td>hand</td>\n",
       "    </tr>\n",
       "    <tr>\n",
       "      <th>13</th>\n",
       "      <td>7.513968</td>\n",
       "      <td>-7.331363</td>\n",
       "      <td>-10.889388</td>\n",
       "      <td>foot</td>\n",
       "    </tr>\n",
       "    <tr>\n",
       "      <th>14</th>\n",
       "      <td>-16.198105</td>\n",
       "      <td>18.340984</td>\n",
       "      <td>-6.185734</td>\n",
       "      <td>acral</td>\n",
       "    </tr>\n",
       "  </tbody>\n",
       "</table>\n",
       "</div>"
      ],
      "text/plain": [
       "          pc1        pc2        pc3        locations\n",
       "0  -13.835149  -2.603312   2.259849            scalp\n",
       "1   -3.920452  -3.435947   6.361957              ear\n",
       "2   -4.312849 -16.087454  11.149613             face\n",
       "3   -3.661015  -5.676224  -4.567707             back\n",
       "4   -1.400513   6.650923   9.130507            trunk\n",
       "5    9.066568   0.291162  18.360497            chest\n",
       "6   21.076591   6.241405  -7.199512  upper extremity\n",
       "7    3.830852  21.705761   8.610315          abdomen\n",
       "8  -16.706150  -6.201650 -14.844983          unknown\n",
       "9   21.009115   5.637387 -13.990552  lower extremity\n",
       "10 -12.500628   6.668406  -5.576210          genital\n",
       "11   3.832796  -6.736084  14.883644             neck\n",
       "12   6.204970 -17.463989  -7.502296             hand\n",
       "13   7.513968  -7.331363 -10.889388             foot\n",
       "14 -16.198105  18.340984  -6.185734            acral"
      ]
     },
     "execution_count": 233,
     "metadata": {},
     "output_type": "execute_result"
    }
   ],
   "source": [
    "# run PCA and condense down these embeddings to 3d \n",
    "ndf = pd.DataFrame()\n",
    "for l in l_encoding:\n",
    "    ndfn = pd.DataFrame(l_encoding[l])\n",
    "    ndfn = ndfn.T\n",
    "    ndf  = ndf.append(ndfn)\n",
    "\n",
    "#transform \n",
    "ndf = StandardScaler().fit_transform(ndf)\n",
    "pca = PCA(n_components=3)\n",
    "principalComponents = pca.fit_transform(ndf)\n",
    "ndf = pd.DataFrame(data = principalComponents, columns = ['pc1', 'pc2', 'pc3'])\n",
    "#ndf\n",
    "ndf[\"locations\"] = list(l_encoding.keys())\n",
    "ndf"
   ]
  },
  {
   "cell_type": "code",
   "execution_count": 238,
   "metadata": {},
   "outputs": [
    {
     "data": {
      "application/vnd.plotly.v1+json": {
       "config": {
        "plotlyServerURL": "https://plot.ly"
       },
       "data": [
        {
         "hovertemplate": "locations=scalp<extra></extra>",
         "legendgroup": "scalp",
         "marker": {
          "color": "#636efa",
          "opacity": 1,
          "symbol": "circle"
         },
         "mode": "markers",
         "name": "scalp",
         "orientation": "v",
         "showlegend": true,
         "type": "scatter",
         "x": [
          -13.835148811340332
         ],
         "xaxis": "x",
         "y": [
          -2.6033122539520264
         ],
         "yaxis": "y"
        },
        {
         "hovertemplate": "locations=ear<extra></extra>",
         "legendgroup": "ear",
         "marker": {
          "color": "#EF553B",
          "opacity": 1,
          "symbol": "circle"
         },
         "mode": "markers",
         "name": "ear",
         "orientation": "v",
         "showlegend": true,
         "type": "scatter",
         "x": [
          -3.920452117919922
         ],
         "xaxis": "x",
         "y": [
          -3.4359471797943115
         ],
         "yaxis": "y"
        },
        {
         "hovertemplate": "locations=face<extra></extra>",
         "legendgroup": "face",
         "marker": {
          "color": "#00cc96",
          "opacity": 1,
          "symbol": "circle"
         },
         "mode": "markers",
         "name": "face",
         "orientation": "v",
         "showlegend": true,
         "type": "scatter",
         "x": [
          -4.312849044799805
         ],
         "xaxis": "x",
         "y": [
          -16.087453842163086
         ],
         "yaxis": "y"
        },
        {
         "hovertemplate": "locations=back<extra></extra>",
         "legendgroup": "back",
         "marker": {
          "color": "#ab63fa",
          "opacity": 1,
          "symbol": "circle"
         },
         "mode": "markers",
         "name": "back",
         "orientation": "v",
         "showlegend": true,
         "type": "scatter",
         "x": [
          -3.6610147953033447
         ],
         "xaxis": "x",
         "y": [
          -5.6762237548828125
         ],
         "yaxis": "y"
        },
        {
         "hovertemplate": "locations=trunk<extra></extra>",
         "legendgroup": "trunk",
         "marker": {
          "color": "#FFA15A",
          "opacity": 1,
          "symbol": "circle"
         },
         "mode": "markers",
         "name": "trunk",
         "orientation": "v",
         "showlegend": true,
         "type": "scatter",
         "x": [
          -1.4005134105682373
         ],
         "xaxis": "x",
         "y": [
          6.650923252105713
         ],
         "yaxis": "y"
        },
        {
         "hovertemplate": "locations=chest<extra></extra>",
         "legendgroup": "chest",
         "marker": {
          "color": "#19d3f3",
          "opacity": 1,
          "symbol": "circle"
         },
         "mode": "markers",
         "name": "chest",
         "orientation": "v",
         "showlegend": true,
         "type": "scatter",
         "x": [
          9.066568374633789
         ],
         "xaxis": "x",
         "y": [
          0.29116183519363403
         ],
         "yaxis": "y"
        },
        {
         "hovertemplate": "locations=upper extremity<extra></extra>",
         "legendgroup": "upper extremity",
         "marker": {
          "color": "#FF6692",
          "opacity": 1,
          "symbol": "circle"
         },
         "mode": "markers",
         "name": "upper extremity",
         "orientation": "v",
         "showlegend": true,
         "type": "scatter",
         "x": [
          21.07659149169922
         ],
         "xaxis": "x",
         "y": [
          6.2414045333862305
         ],
         "yaxis": "y"
        },
        {
         "hovertemplate": "locations=abdomen<extra></extra>",
         "legendgroup": "abdomen",
         "marker": {
          "color": "#B6E880",
          "opacity": 1,
          "symbol": "circle"
         },
         "mode": "markers",
         "name": "abdomen",
         "orientation": "v",
         "showlegend": true,
         "type": "scatter",
         "x": [
          3.8308520317077637
         ],
         "xaxis": "x",
         "y": [
          21.705760955810547
         ],
         "yaxis": "y"
        },
        {
         "hovertemplate": "locations=unknown<extra></extra>",
         "legendgroup": "unknown",
         "marker": {
          "color": "#FF97FF",
          "opacity": 1,
          "symbol": "circle"
         },
         "mode": "markers",
         "name": "unknown",
         "orientation": "v",
         "showlegend": true,
         "type": "scatter",
         "x": [
          -16.70615005493164
         ],
         "xaxis": "x",
         "y": [
          -6.201650142669678
         ],
         "yaxis": "y"
        },
        {
         "hovertemplate": "locations=lower extremity<extra></extra>",
         "legendgroup": "lower extremity",
         "marker": {
          "color": "#FECB52",
          "opacity": 1,
          "symbol": "circle"
         },
         "mode": "markers",
         "name": "lower extremity",
         "orientation": "v",
         "showlegend": true,
         "type": "scatter",
         "x": [
          21.00911521911621
         ],
         "xaxis": "x",
         "y": [
          5.637387275695801
         ],
         "yaxis": "y"
        },
        {
         "hovertemplate": "locations=genital<extra></extra>",
         "legendgroup": "genital",
         "marker": {
          "color": "#636efa",
          "opacity": 1,
          "symbol": "circle"
         },
         "mode": "markers",
         "name": "genital",
         "orientation": "v",
         "showlegend": true,
         "type": "scatter",
         "x": [
          -12.500628471374512
         ],
         "xaxis": "x",
         "y": [
          6.668406009674072
         ],
         "yaxis": "y"
        },
        {
         "hovertemplate": "locations=neck<extra></extra>",
         "legendgroup": "neck",
         "marker": {
          "color": "#EF553B",
          "opacity": 1,
          "symbol": "circle"
         },
         "mode": "markers",
         "name": "neck",
         "orientation": "v",
         "showlegend": true,
         "type": "scatter",
         "x": [
          3.8327958583831787
         ],
         "xaxis": "x",
         "y": [
          -6.736083984375
         ],
         "yaxis": "y"
        },
        {
         "hovertemplate": "locations=hand<extra></extra>",
         "legendgroup": "hand",
         "marker": {
          "color": "#00cc96",
          "opacity": 1,
          "symbol": "circle"
         },
         "mode": "markers",
         "name": "hand",
         "orientation": "v",
         "showlegend": true,
         "type": "scatter",
         "x": [
          6.204970359802246
         ],
         "xaxis": "x",
         "y": [
          -17.4639892578125
         ],
         "yaxis": "y"
        },
        {
         "hovertemplate": "locations=foot<extra></extra>",
         "legendgroup": "foot",
         "marker": {
          "color": "#ab63fa",
          "opacity": 1,
          "symbol": "circle"
         },
         "mode": "markers",
         "name": "foot",
         "orientation": "v",
         "showlegend": true,
         "type": "scatter",
         "x": [
          7.513968467712402
         ],
         "xaxis": "x",
         "y": [
          -7.331362724304199
         ],
         "yaxis": "y"
        },
        {
         "hovertemplate": "locations=acral<extra></extra>",
         "legendgroup": "acral",
         "marker": {
          "color": "#FFA15A",
          "opacity": 1,
          "symbol": "circle"
         },
         "mode": "markers",
         "name": "acral",
         "orientation": "v",
         "showlegend": true,
         "type": "scatter",
         "x": [
          -16.198104858398438
         ],
         "xaxis": "x",
         "y": [
          18.340984344482422
         ],
         "yaxis": "y"
        }
       ],
       "layout": {
        "legend": {
         "title": {
          "text": "locations"
         },
         "tracegroupgap": 0
        },
        "margin": {
         "t": 60
        },
        "template": {
         "data": {
          "bar": [
           {
            "error_x": {
             "color": "#2a3f5f"
            },
            "error_y": {
             "color": "#2a3f5f"
            },
            "marker": {
             "line": {
              "color": "#E5ECF6",
              "width": 0.5
             },
             "pattern": {
              "fillmode": "overlay",
              "size": 10,
              "solidity": 0.2
             }
            },
            "type": "bar"
           }
          ],
          "barpolar": [
           {
            "marker": {
             "line": {
              "color": "#E5ECF6",
              "width": 0.5
             },
             "pattern": {
              "fillmode": "overlay",
              "size": 10,
              "solidity": 0.2
             }
            },
            "type": "barpolar"
           }
          ],
          "carpet": [
           {
            "aaxis": {
             "endlinecolor": "#2a3f5f",
             "gridcolor": "white",
             "linecolor": "white",
             "minorgridcolor": "white",
             "startlinecolor": "#2a3f5f"
            },
            "baxis": {
             "endlinecolor": "#2a3f5f",
             "gridcolor": "white",
             "linecolor": "white",
             "minorgridcolor": "white",
             "startlinecolor": "#2a3f5f"
            },
            "type": "carpet"
           }
          ],
          "choropleth": [
           {
            "colorbar": {
             "outlinewidth": 0,
             "ticks": ""
            },
            "type": "choropleth"
           }
          ],
          "contour": [
           {
            "colorbar": {
             "outlinewidth": 0,
             "ticks": ""
            },
            "colorscale": [
             [
              0,
              "#0d0887"
             ],
             [
              0.1111111111111111,
              "#46039f"
             ],
             [
              0.2222222222222222,
              "#7201a8"
             ],
             [
              0.3333333333333333,
              "#9c179e"
             ],
             [
              0.4444444444444444,
              "#bd3786"
             ],
             [
              0.5555555555555556,
              "#d8576b"
             ],
             [
              0.6666666666666666,
              "#ed7953"
             ],
             [
              0.7777777777777778,
              "#fb9f3a"
             ],
             [
              0.8888888888888888,
              "#fdca26"
             ],
             [
              1,
              "#f0f921"
             ]
            ],
            "type": "contour"
           }
          ],
          "contourcarpet": [
           {
            "colorbar": {
             "outlinewidth": 0,
             "ticks": ""
            },
            "type": "contourcarpet"
           }
          ],
          "heatmap": [
           {
            "colorbar": {
             "outlinewidth": 0,
             "ticks": ""
            },
            "colorscale": [
             [
              0,
              "#0d0887"
             ],
             [
              0.1111111111111111,
              "#46039f"
             ],
             [
              0.2222222222222222,
              "#7201a8"
             ],
             [
              0.3333333333333333,
              "#9c179e"
             ],
             [
              0.4444444444444444,
              "#bd3786"
             ],
             [
              0.5555555555555556,
              "#d8576b"
             ],
             [
              0.6666666666666666,
              "#ed7953"
             ],
             [
              0.7777777777777778,
              "#fb9f3a"
             ],
             [
              0.8888888888888888,
              "#fdca26"
             ],
             [
              1,
              "#f0f921"
             ]
            ],
            "type": "heatmap"
           }
          ],
          "heatmapgl": [
           {
            "colorbar": {
             "outlinewidth": 0,
             "ticks": ""
            },
            "colorscale": [
             [
              0,
              "#0d0887"
             ],
             [
              0.1111111111111111,
              "#46039f"
             ],
             [
              0.2222222222222222,
              "#7201a8"
             ],
             [
              0.3333333333333333,
              "#9c179e"
             ],
             [
              0.4444444444444444,
              "#bd3786"
             ],
             [
              0.5555555555555556,
              "#d8576b"
             ],
             [
              0.6666666666666666,
              "#ed7953"
             ],
             [
              0.7777777777777778,
              "#fb9f3a"
             ],
             [
              0.8888888888888888,
              "#fdca26"
             ],
             [
              1,
              "#f0f921"
             ]
            ],
            "type": "heatmapgl"
           }
          ],
          "histogram": [
           {
            "marker": {
             "pattern": {
              "fillmode": "overlay",
              "size": 10,
              "solidity": 0.2
             }
            },
            "type": "histogram"
           }
          ],
          "histogram2d": [
           {
            "colorbar": {
             "outlinewidth": 0,
             "ticks": ""
            },
            "colorscale": [
             [
              0,
              "#0d0887"
             ],
             [
              0.1111111111111111,
              "#46039f"
             ],
             [
              0.2222222222222222,
              "#7201a8"
             ],
             [
              0.3333333333333333,
              "#9c179e"
             ],
             [
              0.4444444444444444,
              "#bd3786"
             ],
             [
              0.5555555555555556,
              "#d8576b"
             ],
             [
              0.6666666666666666,
              "#ed7953"
             ],
             [
              0.7777777777777778,
              "#fb9f3a"
             ],
             [
              0.8888888888888888,
              "#fdca26"
             ],
             [
              1,
              "#f0f921"
             ]
            ],
            "type": "histogram2d"
           }
          ],
          "histogram2dcontour": [
           {
            "colorbar": {
             "outlinewidth": 0,
             "ticks": ""
            },
            "colorscale": [
             [
              0,
              "#0d0887"
             ],
             [
              0.1111111111111111,
              "#46039f"
             ],
             [
              0.2222222222222222,
              "#7201a8"
             ],
             [
              0.3333333333333333,
              "#9c179e"
             ],
             [
              0.4444444444444444,
              "#bd3786"
             ],
             [
              0.5555555555555556,
              "#d8576b"
             ],
             [
              0.6666666666666666,
              "#ed7953"
             ],
             [
              0.7777777777777778,
              "#fb9f3a"
             ],
             [
              0.8888888888888888,
              "#fdca26"
             ],
             [
              1,
              "#f0f921"
             ]
            ],
            "type": "histogram2dcontour"
           }
          ],
          "mesh3d": [
           {
            "colorbar": {
             "outlinewidth": 0,
             "ticks": ""
            },
            "type": "mesh3d"
           }
          ],
          "parcoords": [
           {
            "line": {
             "colorbar": {
              "outlinewidth": 0,
              "ticks": ""
             }
            },
            "type": "parcoords"
           }
          ],
          "pie": [
           {
            "automargin": true,
            "type": "pie"
           }
          ],
          "scatter": [
           {
            "fillpattern": {
             "fillmode": "overlay",
             "size": 10,
             "solidity": 0.2
            },
            "type": "scatter"
           }
          ],
          "scatter3d": [
           {
            "line": {
             "colorbar": {
              "outlinewidth": 0,
              "ticks": ""
             }
            },
            "marker": {
             "colorbar": {
              "outlinewidth": 0,
              "ticks": ""
             }
            },
            "type": "scatter3d"
           }
          ],
          "scattercarpet": [
           {
            "marker": {
             "colorbar": {
              "outlinewidth": 0,
              "ticks": ""
             }
            },
            "type": "scattercarpet"
           }
          ],
          "scattergeo": [
           {
            "marker": {
             "colorbar": {
              "outlinewidth": 0,
              "ticks": ""
             }
            },
            "type": "scattergeo"
           }
          ],
          "scattergl": [
           {
            "marker": {
             "colorbar": {
              "outlinewidth": 0,
              "ticks": ""
             }
            },
            "type": "scattergl"
           }
          ],
          "scattermapbox": [
           {
            "marker": {
             "colorbar": {
              "outlinewidth": 0,
              "ticks": ""
             }
            },
            "type": "scattermapbox"
           }
          ],
          "scatterpolar": [
           {
            "marker": {
             "colorbar": {
              "outlinewidth": 0,
              "ticks": ""
             }
            },
            "type": "scatterpolar"
           }
          ],
          "scatterpolargl": [
           {
            "marker": {
             "colorbar": {
              "outlinewidth": 0,
              "ticks": ""
             }
            },
            "type": "scatterpolargl"
           }
          ],
          "scatterternary": [
           {
            "marker": {
             "colorbar": {
              "outlinewidth": 0,
              "ticks": ""
             }
            },
            "type": "scatterternary"
           }
          ],
          "surface": [
           {
            "colorbar": {
             "outlinewidth": 0,
             "ticks": ""
            },
            "colorscale": [
             [
              0,
              "#0d0887"
             ],
             [
              0.1111111111111111,
              "#46039f"
             ],
             [
              0.2222222222222222,
              "#7201a8"
             ],
             [
              0.3333333333333333,
              "#9c179e"
             ],
             [
              0.4444444444444444,
              "#bd3786"
             ],
             [
              0.5555555555555556,
              "#d8576b"
             ],
             [
              0.6666666666666666,
              "#ed7953"
             ],
             [
              0.7777777777777778,
              "#fb9f3a"
             ],
             [
              0.8888888888888888,
              "#fdca26"
             ],
             [
              1,
              "#f0f921"
             ]
            ],
            "type": "surface"
           }
          ],
          "table": [
           {
            "cells": {
             "fill": {
              "color": "#EBF0F8"
             },
             "line": {
              "color": "white"
             }
            },
            "header": {
             "fill": {
              "color": "#C8D4E3"
             },
             "line": {
              "color": "white"
             }
            },
            "type": "table"
           }
          ]
         },
         "layout": {
          "annotationdefaults": {
           "arrowcolor": "#2a3f5f",
           "arrowhead": 0,
           "arrowwidth": 1
          },
          "autotypenumbers": "strict",
          "coloraxis": {
           "colorbar": {
            "outlinewidth": 0,
            "ticks": ""
           }
          },
          "colorscale": {
           "diverging": [
            [
             0,
             "#8e0152"
            ],
            [
             0.1,
             "#c51b7d"
            ],
            [
             0.2,
             "#de77ae"
            ],
            [
             0.3,
             "#f1b6da"
            ],
            [
             0.4,
             "#fde0ef"
            ],
            [
             0.5,
             "#f7f7f7"
            ],
            [
             0.6,
             "#e6f5d0"
            ],
            [
             0.7,
             "#b8e186"
            ],
            [
             0.8,
             "#7fbc41"
            ],
            [
             0.9,
             "#4d9221"
            ],
            [
             1,
             "#276419"
            ]
           ],
           "sequential": [
            [
             0,
             "#0d0887"
            ],
            [
             0.1111111111111111,
             "#46039f"
            ],
            [
             0.2222222222222222,
             "#7201a8"
            ],
            [
             0.3333333333333333,
             "#9c179e"
            ],
            [
             0.4444444444444444,
             "#bd3786"
            ],
            [
             0.5555555555555556,
             "#d8576b"
            ],
            [
             0.6666666666666666,
             "#ed7953"
            ],
            [
             0.7777777777777778,
             "#fb9f3a"
            ],
            [
             0.8888888888888888,
             "#fdca26"
            ],
            [
             1,
             "#f0f921"
            ]
           ],
           "sequentialminus": [
            [
             0,
             "#0d0887"
            ],
            [
             0.1111111111111111,
             "#46039f"
            ],
            [
             0.2222222222222222,
             "#7201a8"
            ],
            [
             0.3333333333333333,
             "#9c179e"
            ],
            [
             0.4444444444444444,
             "#bd3786"
            ],
            [
             0.5555555555555556,
             "#d8576b"
            ],
            [
             0.6666666666666666,
             "#ed7953"
            ],
            [
             0.7777777777777778,
             "#fb9f3a"
            ],
            [
             0.8888888888888888,
             "#fdca26"
            ],
            [
             1,
             "#f0f921"
            ]
           ]
          },
          "colorway": [
           "#636efa",
           "#EF553B",
           "#00cc96",
           "#ab63fa",
           "#FFA15A",
           "#19d3f3",
           "#FF6692",
           "#B6E880",
           "#FF97FF",
           "#FECB52"
          ],
          "font": {
           "color": "#2a3f5f"
          },
          "geo": {
           "bgcolor": "white",
           "lakecolor": "white",
           "landcolor": "#E5ECF6",
           "showlakes": true,
           "showland": true,
           "subunitcolor": "white"
          },
          "hoverlabel": {
           "align": "left"
          },
          "hovermode": "closest",
          "mapbox": {
           "style": "light"
          },
          "paper_bgcolor": "white",
          "plot_bgcolor": "#E5ECF6",
          "polar": {
           "angularaxis": {
            "gridcolor": "white",
            "linecolor": "white",
            "ticks": ""
           },
           "bgcolor": "#E5ECF6",
           "radialaxis": {
            "gridcolor": "white",
            "linecolor": "white",
            "ticks": ""
           }
          },
          "scene": {
           "xaxis": {
            "backgroundcolor": "#E5ECF6",
            "gridcolor": "white",
            "gridwidth": 2,
            "linecolor": "white",
            "showbackground": true,
            "ticks": "",
            "zerolinecolor": "white"
           },
           "yaxis": {
            "backgroundcolor": "#E5ECF6",
            "gridcolor": "white",
            "gridwidth": 2,
            "linecolor": "white",
            "showbackground": true,
            "ticks": "",
            "zerolinecolor": "white"
           },
           "zaxis": {
            "backgroundcolor": "#E5ECF6",
            "gridcolor": "white",
            "gridwidth": 2,
            "linecolor": "white",
            "showbackground": true,
            "ticks": "",
            "zerolinecolor": "white"
           }
          },
          "shapedefaults": {
           "line": {
            "color": "#2a3f5f"
           }
          },
          "ternary": {
           "aaxis": {
            "gridcolor": "white",
            "linecolor": "white",
            "ticks": ""
           },
           "baxis": {
            "gridcolor": "white",
            "linecolor": "white",
            "ticks": ""
           },
           "bgcolor": "#E5ECF6",
           "caxis": {
            "gridcolor": "white",
            "linecolor": "white",
            "ticks": ""
           }
          },
          "title": {
           "x": 0.05
          },
          "xaxis": {
           "automargin": true,
           "gridcolor": "white",
           "linecolor": "white",
           "ticks": "",
           "title": {
            "standoff": 15
           },
           "zerolinecolor": "white",
           "zerolinewidth": 2
          },
          "yaxis": {
           "automargin": true,
           "gridcolor": "white",
           "linecolor": "white",
           "ticks": "",
           "title": {
            "standoff": 15
           },
           "zerolinecolor": "white",
           "zerolinewidth": 2
          }
         }
        },
        "xaxis": {
         "anchor": "y",
         "domain": [
          0,
          1
         ],
         "title": {
          "text": "pc1"
         }
        },
        "yaxis": {
         "anchor": "x",
         "domain": [
          0,
          1
         ],
         "title": {
          "text": "pc2"
         }
        }
       }
      }
     },
     "metadata": {},
     "output_type": "display_data"
    }
   ],
   "source": [
    "#plot figure in 2d\n",
    "fig = px.scatter(ndf, x=\"pc1\", y=\"pc2\",color='locations', opacity=1, hover_data={\"pc1\":False, \"pc2\":False})\n",
    "fig.show()"
   ]
  },
  {
   "cell_type": "code",
   "execution_count": null,
   "metadata": {},
   "outputs": [],
   "source": [
    "1"
   ]
  }
 ],
 "metadata": {
  "kernelspec": {
   "display_name": "Python 3 (ipykernel)",
   "language": "python",
   "name": "python3"
  },
  "language_info": {
   "codemirror_mode": {
    "name": "ipython",
    "version": 3
   },
   "file_extension": ".py",
   "mimetype": "text/x-python",
   "name": "python",
   "nbconvert_exporter": "python",
   "pygments_lexer": "ipython3",
   "version": "3.9.5"
  },
  "vscode": {
   "interpreter": {
    "hash": "b0fa6594d8f4cbf19f97940f81e996739fb7646882a419484c72d19e05852a7e"
   }
  }
 },
 "nbformat": 4,
 "nbformat_minor": 2
}
