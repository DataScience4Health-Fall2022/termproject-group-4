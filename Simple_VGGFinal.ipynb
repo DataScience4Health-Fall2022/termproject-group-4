{
  "nbformat": 4,
  "nbformat_minor": 0,
  "metadata": {
    "colab": {
      "provenance": [],
      "machine_shape": "hm"
    },
    "kernelspec": {
      "name": "python3",
      "display_name": "Python 3"
    },
    "language_info": {
      "name": "python"
    },
    "accelerator": "GPU",
    "gpuClass": "premium"
  },
  "cells": [
    {
      "cell_type": "code",
      "execution_count": null,
      "metadata": {
        "colab": {
          "base_uri": "https://localhost:8080/"
        },
        "id": "Ph-khLE4xgqh",
        "outputId": "1e61f321-ec97-41e8-f612-0999d9c10593"
      },
      "outputs": [
        {
          "output_type": "stream",
          "name": "stdout",
          "text": [
            "Mounted at /content/drive\n"
          ]
        }
      ],
      "source": [
        "#linking drive to session then uploading data files\n",
        "from google.colab import drive\n",
        "drive.mount('/content/drive')"
      ]
    },
    {
      "cell_type": "code",
      "source": [
        "! unzip '/content/drive/MyDrive/HAM10000_metadata_gc.zip'"
      ],
      "metadata": {
        "colab": {
          "base_uri": "https://localhost:8080/"
        },
        "id": "mm7FUD3k7Mdi",
        "outputId": "8a9fc965-5845-4fd2-b344-6ca5c17628a3"
      },
      "execution_count": null,
      "outputs": [
        {
          "output_type": "stream",
          "name": "stdout",
          "text": [
            "Archive:  /content/drive/MyDrive/HAM10000_metadata_gc.zip\n",
            "  inflating: HAM10000_metadata       \n"
          ]
        }
      ]
    },
    {
      "cell_type": "code",
      "source": [
        "! unzip '/content/drive/MyDrive/HAM10000_images_part_1_gc'"
      ],
      "metadata": {
        "id": "egfCbfYm7Oyq"
      },
      "execution_count": null,
      "outputs": []
    },
    {
      "cell_type": "code",
      "source": [
        "! unzip '/content/drive/MyDrive/HAM10000_images_part_2_gc'"
      ],
      "metadata": {
        "id": "-cMKshRC7Q3i"
      },
      "execution_count": null,
      "outputs": []
    },
    {
      "cell_type": "code",
      "source": [
        "#Imports\n",
        "import matplotlib.pyplot as plt\n",
        "import numpy as np\n",
        "import pandas as pd\n",
        "import os\n",
        "from glob import glob\n",
        "from tqdm._tqdm_notebook import tqdm_notebook as tqdm\n",
        "import seaborn as sns\n",
        "from PIL import Image\n",
        "import tensorflow as tf\n",
        "import sklearn.metrics as metrics\n",
        "from sklearn.metrics import confusion_matrix\n",
        "import keras\n",
        "from keras.utils.np_utils import to_categorical \n",
        "from keras.models import Model\n",
        "from keras.models import Sequential\n",
        "from keras.layers import Dense, Dropout, Flatten, Conv2D, MaxPool2D, BatchNormalization, Activation, GlobalAveragePooling2D, ZeroPadding2D\n",
        "from keras.applications import vgg16\n",
        "from sklearn.model_selection import train_test_split\n",
        "from scipy import stats\n",
        "from sklearn import preprocessing\n",
        "from sklearn.preprocessing import LabelEncoder\n",
        "from sklearn.utils import resample\n",
        "from tensorflow.keras.models import Model"
      ],
      "metadata": {
        "colab": {
          "base_uri": "https://localhost:8080/"
        },
        "id": "WOdcbMeK7VfK",
        "outputId": "48477578-e143-4a6b-d76e-fc9555cda092"
      },
      "execution_count": null,
      "outputs": [
        {
          "output_type": "stream",
          "name": "stderr",
          "text": [
            "/usr/local/lib/python3.7/dist-packages/ipykernel_launcher.py:6: TqdmDeprecationWarning: This function will be removed in tqdm==5.0.0\n",
            "Please use `tqdm.notebook.*` instead of `tqdm._tqdm_notebook.*`\n",
            "  \n"
          ]
        }
      ]
    },
    {
      "cell_type": "code",
      "source": [
        "#datasets and evaluating datasets"
      ],
      "metadata": {
        "id": "kzcv5-F-rAj_"
      },
      "execution_count": null,
      "outputs": []
    },
    {
      "cell_type": "code",
      "source": [
        "md = pd.read_csv(\"/content/HAM10000_metadata\")\n",
        "md"
      ],
      "metadata": {
        "colab": {
          "base_uri": "https://localhost:8080/",
          "height": 423
        },
        "id": "-IZJcolJ7aba",
        "outputId": "6066d186-e464-424b-df0f-4b11a0f51ce4"
      },
      "execution_count": null,
      "outputs": [
        {
          "output_type": "execute_result",
          "data": {
            "text/plain": [
              "         lesion_id      image_id     dx dx_type   age     sex localization  \\\n",
              "0      HAM_0000118  ISIC_0027419    bkl   histo  80.0    male        scalp   \n",
              "1      HAM_0000118  ISIC_0025030    bkl   histo  80.0    male        scalp   \n",
              "2      HAM_0002730  ISIC_0026769    bkl   histo  80.0    male        scalp   \n",
              "3      HAM_0002730  ISIC_0025661    bkl   histo  80.0    male        scalp   \n",
              "4      HAM_0001466  ISIC_0031633    bkl   histo  75.0    male          ear   \n",
              "...            ...           ...    ...     ...   ...     ...          ...   \n",
              "10010  HAM_0002867  ISIC_0033084  akiec   histo  40.0    male      abdomen   \n",
              "10011  HAM_0002867  ISIC_0033550  akiec   histo  40.0    male      abdomen   \n",
              "10012  HAM_0002867  ISIC_0033536  akiec   histo  40.0    male      abdomen   \n",
              "10013  HAM_0000239  ISIC_0032854  akiec   histo  80.0    male         face   \n",
              "10014  HAM_0003521  ISIC_0032258    mel   histo  70.0  female         back   \n",
              "\n",
              "            dataset  \n",
              "0      vidir_modern  \n",
              "1      vidir_modern  \n",
              "2      vidir_modern  \n",
              "3      vidir_modern  \n",
              "4      vidir_modern  \n",
              "...             ...  \n",
              "10010  vidir_modern  \n",
              "10011  vidir_modern  \n",
              "10012  vidir_modern  \n",
              "10013  vidir_modern  \n",
              "10014  vidir_modern  \n",
              "\n",
              "[10015 rows x 8 columns]"
            ],
            "text/html": [
              "\n",
              "  <div id=\"df-b04c5e01-2bb9-4d46-a713-35de15bc71b1\">\n",
              "    <div class=\"colab-df-container\">\n",
              "      <div>\n",
              "<style scoped>\n",
              "    .dataframe tbody tr th:only-of-type {\n",
              "        vertical-align: middle;\n",
              "    }\n",
              "\n",
              "    .dataframe tbody tr th {\n",
              "        vertical-align: top;\n",
              "    }\n",
              "\n",
              "    .dataframe thead th {\n",
              "        text-align: right;\n",
              "    }\n",
              "</style>\n",
              "<table border=\"1\" class=\"dataframe\">\n",
              "  <thead>\n",
              "    <tr style=\"text-align: right;\">\n",
              "      <th></th>\n",
              "      <th>lesion_id</th>\n",
              "      <th>image_id</th>\n",
              "      <th>dx</th>\n",
              "      <th>dx_type</th>\n",
              "      <th>age</th>\n",
              "      <th>sex</th>\n",
              "      <th>localization</th>\n",
              "      <th>dataset</th>\n",
              "    </tr>\n",
              "  </thead>\n",
              "  <tbody>\n",
              "    <tr>\n",
              "      <th>0</th>\n",
              "      <td>HAM_0000118</td>\n",
              "      <td>ISIC_0027419</td>\n",
              "      <td>bkl</td>\n",
              "      <td>histo</td>\n",
              "      <td>80.0</td>\n",
              "      <td>male</td>\n",
              "      <td>scalp</td>\n",
              "      <td>vidir_modern</td>\n",
              "    </tr>\n",
              "    <tr>\n",
              "      <th>1</th>\n",
              "      <td>HAM_0000118</td>\n",
              "      <td>ISIC_0025030</td>\n",
              "      <td>bkl</td>\n",
              "      <td>histo</td>\n",
              "      <td>80.0</td>\n",
              "      <td>male</td>\n",
              "      <td>scalp</td>\n",
              "      <td>vidir_modern</td>\n",
              "    </tr>\n",
              "    <tr>\n",
              "      <th>2</th>\n",
              "      <td>HAM_0002730</td>\n",
              "      <td>ISIC_0026769</td>\n",
              "      <td>bkl</td>\n",
              "      <td>histo</td>\n",
              "      <td>80.0</td>\n",
              "      <td>male</td>\n",
              "      <td>scalp</td>\n",
              "      <td>vidir_modern</td>\n",
              "    </tr>\n",
              "    <tr>\n",
              "      <th>3</th>\n",
              "      <td>HAM_0002730</td>\n",
              "      <td>ISIC_0025661</td>\n",
              "      <td>bkl</td>\n",
              "      <td>histo</td>\n",
              "      <td>80.0</td>\n",
              "      <td>male</td>\n",
              "      <td>scalp</td>\n",
              "      <td>vidir_modern</td>\n",
              "    </tr>\n",
              "    <tr>\n",
              "      <th>4</th>\n",
              "      <td>HAM_0001466</td>\n",
              "      <td>ISIC_0031633</td>\n",
              "      <td>bkl</td>\n",
              "      <td>histo</td>\n",
              "      <td>75.0</td>\n",
              "      <td>male</td>\n",
              "      <td>ear</td>\n",
              "      <td>vidir_modern</td>\n",
              "    </tr>\n",
              "    <tr>\n",
              "      <th>...</th>\n",
              "      <td>...</td>\n",
              "      <td>...</td>\n",
              "      <td>...</td>\n",
              "      <td>...</td>\n",
              "      <td>...</td>\n",
              "      <td>...</td>\n",
              "      <td>...</td>\n",
              "      <td>...</td>\n",
              "    </tr>\n",
              "    <tr>\n",
              "      <th>10010</th>\n",
              "      <td>HAM_0002867</td>\n",
              "      <td>ISIC_0033084</td>\n",
              "      <td>akiec</td>\n",
              "      <td>histo</td>\n",
              "      <td>40.0</td>\n",
              "      <td>male</td>\n",
              "      <td>abdomen</td>\n",
              "      <td>vidir_modern</td>\n",
              "    </tr>\n",
              "    <tr>\n",
              "      <th>10011</th>\n",
              "      <td>HAM_0002867</td>\n",
              "      <td>ISIC_0033550</td>\n",
              "      <td>akiec</td>\n",
              "      <td>histo</td>\n",
              "      <td>40.0</td>\n",
              "      <td>male</td>\n",
              "      <td>abdomen</td>\n",
              "      <td>vidir_modern</td>\n",
              "    </tr>\n",
              "    <tr>\n",
              "      <th>10012</th>\n",
              "      <td>HAM_0002867</td>\n",
              "      <td>ISIC_0033536</td>\n",
              "      <td>akiec</td>\n",
              "      <td>histo</td>\n",
              "      <td>40.0</td>\n",
              "      <td>male</td>\n",
              "      <td>abdomen</td>\n",
              "      <td>vidir_modern</td>\n",
              "    </tr>\n",
              "    <tr>\n",
              "      <th>10013</th>\n",
              "      <td>HAM_0000239</td>\n",
              "      <td>ISIC_0032854</td>\n",
              "      <td>akiec</td>\n",
              "      <td>histo</td>\n",
              "      <td>80.0</td>\n",
              "      <td>male</td>\n",
              "      <td>face</td>\n",
              "      <td>vidir_modern</td>\n",
              "    </tr>\n",
              "    <tr>\n",
              "      <th>10014</th>\n",
              "      <td>HAM_0003521</td>\n",
              "      <td>ISIC_0032258</td>\n",
              "      <td>mel</td>\n",
              "      <td>histo</td>\n",
              "      <td>70.0</td>\n",
              "      <td>female</td>\n",
              "      <td>back</td>\n",
              "      <td>vidir_modern</td>\n",
              "    </tr>\n",
              "  </tbody>\n",
              "</table>\n",
              "<p>10015 rows × 8 columns</p>\n",
              "</div>\n",
              "      <button class=\"colab-df-convert\" onclick=\"convertToInteractive('df-b04c5e01-2bb9-4d46-a713-35de15bc71b1')\"\n",
              "              title=\"Convert this dataframe to an interactive table.\"\n",
              "              style=\"display:none;\">\n",
              "        \n",
              "  <svg xmlns=\"http://www.w3.org/2000/svg\" height=\"24px\"viewBox=\"0 0 24 24\"\n",
              "       width=\"24px\">\n",
              "    <path d=\"M0 0h24v24H0V0z\" fill=\"none\"/>\n",
              "    <path d=\"M18.56 5.44l.94 2.06.94-2.06 2.06-.94-2.06-.94-.94-2.06-.94 2.06-2.06.94zm-11 1L8.5 8.5l.94-2.06 2.06-.94-2.06-.94L8.5 2.5l-.94 2.06-2.06.94zm10 10l.94 2.06.94-2.06 2.06-.94-2.06-.94-.94-2.06-.94 2.06-2.06.94z\"/><path d=\"M17.41 7.96l-1.37-1.37c-.4-.4-.92-.59-1.43-.59-.52 0-1.04.2-1.43.59L10.3 9.45l-7.72 7.72c-.78.78-.78 2.05 0 2.83L4 21.41c.39.39.9.59 1.41.59.51 0 1.02-.2 1.41-.59l7.78-7.78 2.81-2.81c.8-.78.8-2.07 0-2.86zM5.41 20L4 18.59l7.72-7.72 1.47 1.35L5.41 20z\"/>\n",
              "  </svg>\n",
              "      </button>\n",
              "      \n",
              "  <style>\n",
              "    .colab-df-container {\n",
              "      display:flex;\n",
              "      flex-wrap:wrap;\n",
              "      gap: 12px;\n",
              "    }\n",
              "\n",
              "    .colab-df-convert {\n",
              "      background-color: #E8F0FE;\n",
              "      border: none;\n",
              "      border-radius: 50%;\n",
              "      cursor: pointer;\n",
              "      display: none;\n",
              "      fill: #1967D2;\n",
              "      height: 32px;\n",
              "      padding: 0 0 0 0;\n",
              "      width: 32px;\n",
              "    }\n",
              "\n",
              "    .colab-df-convert:hover {\n",
              "      background-color: #E2EBFA;\n",
              "      box-shadow: 0px 1px 2px rgba(60, 64, 67, 0.3), 0px 1px 3px 1px rgba(60, 64, 67, 0.15);\n",
              "      fill: #174EA6;\n",
              "    }\n",
              "\n",
              "    [theme=dark] .colab-df-convert {\n",
              "      background-color: #3B4455;\n",
              "      fill: #D2E3FC;\n",
              "    }\n",
              "\n",
              "    [theme=dark] .colab-df-convert:hover {\n",
              "      background-color: #434B5C;\n",
              "      box-shadow: 0px 1px 3px 1px rgba(0, 0, 0, 0.15);\n",
              "      filter: drop-shadow(0px 1px 2px rgba(0, 0, 0, 0.3));\n",
              "      fill: #FFFFFF;\n",
              "    }\n",
              "  </style>\n",
              "\n",
              "      <script>\n",
              "        const buttonEl =\n",
              "          document.querySelector('#df-b04c5e01-2bb9-4d46-a713-35de15bc71b1 button.colab-df-convert');\n",
              "        buttonEl.style.display =\n",
              "          google.colab.kernel.accessAllowed ? 'block' : 'none';\n",
              "\n",
              "        async function convertToInteractive(key) {\n",
              "          const element = document.querySelector('#df-b04c5e01-2bb9-4d46-a713-35de15bc71b1');\n",
              "          const dataTable =\n",
              "            await google.colab.kernel.invokeFunction('convertToInteractive',\n",
              "                                                     [key], {});\n",
              "          if (!dataTable) return;\n",
              "\n",
              "          const docLinkHtml = 'Like what you see? Visit the ' +\n",
              "            '<a target=\"_blank\" href=https://colab.research.google.com/notebooks/data_table.ipynb>data table notebook</a>'\n",
              "            + ' to learn more about interactive tables.';\n",
              "          element.innerHTML = '';\n",
              "          dataTable['output_type'] = 'display_data';\n",
              "          await google.colab.output.renderOutput(dataTable, element);\n",
              "          const docLink = document.createElement('div');\n",
              "          docLink.innerHTML = docLinkHtml;\n",
              "          element.appendChild(docLink);\n",
              "        }\n",
              "      </script>\n",
              "    </div>\n",
              "  </div>\n",
              "  "
            ]
          },
          "metadata": {},
          "execution_count": 6
        }
      ]
    },
    {
      "cell_type": "code",
      "source": [
        "#resize images\n",
        "im_size = 224"
      ],
      "metadata": {
        "id": "DSIw0oCO7d0m"
      },
      "execution_count": null,
      "outputs": []
    },
    {
      "cell_type": "code",
      "source": [
        "#numerical labling of diagnosis categories\n",
        "lab_enc = LabelEncoder()\n",
        "lab_enc.fit(md['dx'])\n",
        "LabelEncoder()\n",
        "print(list(lab_enc.classes_))"
      ],
      "metadata": {
        "colab": {
          "base_uri": "https://localhost:8080/"
        },
        "id": "1mOMXCN17gCc",
        "outputId": "366e0682-4b3e-4e58-f5ab-a83d23fe3c79"
      },
      "execution_count": null,
      "outputs": [
        {
          "output_type": "stream",
          "name": "stdout",
          "text": [
            "['akiec', 'bcc', 'bkl', 'df', 'mel', 'nv', 'vasc']\n"
          ]
        }
      ]
    },
    {
      "cell_type": "code",
      "source": [
        "md['label'] = lab_enc.transform(md[\"dx\"]) "
      ],
      "metadata": {
        "id": "RTMfS7dy7mEI"
      },
      "execution_count": null,
      "outputs": []
    },
    {
      "cell_type": "code",
      "source": [
        "#adding image paths for each image in dataset"
      ],
      "metadata": {
        "id": "oeBHJ8enra5O"
      },
      "execution_count": null,
      "outputs": []
    },
    {
      "cell_type": "code",
      "source": [
        "fldr1 = '/content/HAM10000_images_part_1'\n",
        "fldr2 = '/content/HAM10000_images_part_2'\n",
        "\n",
        "im_paths = []\n",
        "\n",
        "for i in md['image_id']:\n",
        "  fid = i\n",
        "\n",
        "  fn = '/' + fid + '.jpg'\n",
        "\n",
        "  if os.path.isfile(fldr1 + fn) == True:\n",
        "    im_paths.append(fldr1+fn)\n",
        "  else:\n",
        "    im_paths.append(fldr2+fn)"
      ],
      "metadata": {
        "id": "DrBaZGtM7pks"
      },
      "execution_count": null,
      "outputs": []
    },
    {
      "cell_type": "code",
      "source": [
        "md['image_paths'] = im_paths\n",
        "md"
      ],
      "metadata": {
        "colab": {
          "base_uri": "https://localhost:8080/",
          "height": 423
        },
        "id": "4IXTcmhR7tKw",
        "outputId": "f23aafb5-5977-4ce3-a1b0-848300f63b57"
      },
      "execution_count": null,
      "outputs": [
        {
          "output_type": "execute_result",
          "data": {
            "text/plain": [
              "         lesion_id      image_id     dx dx_type   age     sex localization  \\\n",
              "0      HAM_0000118  ISIC_0027419    bkl   histo  80.0    male        scalp   \n",
              "1      HAM_0000118  ISIC_0025030    bkl   histo  80.0    male        scalp   \n",
              "2      HAM_0002730  ISIC_0026769    bkl   histo  80.0    male        scalp   \n",
              "3      HAM_0002730  ISIC_0025661    bkl   histo  80.0    male        scalp   \n",
              "4      HAM_0001466  ISIC_0031633    bkl   histo  75.0    male          ear   \n",
              "...            ...           ...    ...     ...   ...     ...          ...   \n",
              "10010  HAM_0002867  ISIC_0033084  akiec   histo  40.0    male      abdomen   \n",
              "10011  HAM_0002867  ISIC_0033550  akiec   histo  40.0    male      abdomen   \n",
              "10012  HAM_0002867  ISIC_0033536  akiec   histo  40.0    male      abdomen   \n",
              "10013  HAM_0000239  ISIC_0032854  akiec   histo  80.0    male         face   \n",
              "10014  HAM_0003521  ISIC_0032258    mel   histo  70.0  female         back   \n",
              "\n",
              "            dataset  label                                       image_paths  \n",
              "0      vidir_modern      2  /content/HAM10000_images_part_1/ISIC_0027419.jpg  \n",
              "1      vidir_modern      2  /content/HAM10000_images_part_1/ISIC_0025030.jpg  \n",
              "2      vidir_modern      2  /content/HAM10000_images_part_1/ISIC_0026769.jpg  \n",
              "3      vidir_modern      2  /content/HAM10000_images_part_1/ISIC_0025661.jpg  \n",
              "4      vidir_modern      2  /content/HAM10000_images_part_2/ISIC_0031633.jpg  \n",
              "...             ...    ...                                               ...  \n",
              "10010  vidir_modern      0  /content/HAM10000_images_part_2/ISIC_0033084.jpg  \n",
              "10011  vidir_modern      0  /content/HAM10000_images_part_2/ISIC_0033550.jpg  \n",
              "10012  vidir_modern      0  /content/HAM10000_images_part_2/ISIC_0033536.jpg  \n",
              "10013  vidir_modern      0  /content/HAM10000_images_part_2/ISIC_0032854.jpg  \n",
              "10014  vidir_modern      4  /content/HAM10000_images_part_2/ISIC_0032258.jpg  \n",
              "\n",
              "[10015 rows x 10 columns]"
            ],
            "text/html": [
              "\n",
              "  <div id=\"df-4f00038b-d7a6-4328-9ec5-53428bd73c2b\">\n",
              "    <div class=\"colab-df-container\">\n",
              "      <div>\n",
              "<style scoped>\n",
              "    .dataframe tbody tr th:only-of-type {\n",
              "        vertical-align: middle;\n",
              "    }\n",
              "\n",
              "    .dataframe tbody tr th {\n",
              "        vertical-align: top;\n",
              "    }\n",
              "\n",
              "    .dataframe thead th {\n",
              "        text-align: right;\n",
              "    }\n",
              "</style>\n",
              "<table border=\"1\" class=\"dataframe\">\n",
              "  <thead>\n",
              "    <tr style=\"text-align: right;\">\n",
              "      <th></th>\n",
              "      <th>lesion_id</th>\n",
              "      <th>image_id</th>\n",
              "      <th>dx</th>\n",
              "      <th>dx_type</th>\n",
              "      <th>age</th>\n",
              "      <th>sex</th>\n",
              "      <th>localization</th>\n",
              "      <th>dataset</th>\n",
              "      <th>label</th>\n",
              "      <th>image_paths</th>\n",
              "    </tr>\n",
              "  </thead>\n",
              "  <tbody>\n",
              "    <tr>\n",
              "      <th>0</th>\n",
              "      <td>HAM_0000118</td>\n",
              "      <td>ISIC_0027419</td>\n",
              "      <td>bkl</td>\n",
              "      <td>histo</td>\n",
              "      <td>80.0</td>\n",
              "      <td>male</td>\n",
              "      <td>scalp</td>\n",
              "      <td>vidir_modern</td>\n",
              "      <td>2</td>\n",
              "      <td>/content/HAM10000_images_part_1/ISIC_0027419.jpg</td>\n",
              "    </tr>\n",
              "    <tr>\n",
              "      <th>1</th>\n",
              "      <td>HAM_0000118</td>\n",
              "      <td>ISIC_0025030</td>\n",
              "      <td>bkl</td>\n",
              "      <td>histo</td>\n",
              "      <td>80.0</td>\n",
              "      <td>male</td>\n",
              "      <td>scalp</td>\n",
              "      <td>vidir_modern</td>\n",
              "      <td>2</td>\n",
              "      <td>/content/HAM10000_images_part_1/ISIC_0025030.jpg</td>\n",
              "    </tr>\n",
              "    <tr>\n",
              "      <th>2</th>\n",
              "      <td>HAM_0002730</td>\n",
              "      <td>ISIC_0026769</td>\n",
              "      <td>bkl</td>\n",
              "      <td>histo</td>\n",
              "      <td>80.0</td>\n",
              "      <td>male</td>\n",
              "      <td>scalp</td>\n",
              "      <td>vidir_modern</td>\n",
              "      <td>2</td>\n",
              "      <td>/content/HAM10000_images_part_1/ISIC_0026769.jpg</td>\n",
              "    </tr>\n",
              "    <tr>\n",
              "      <th>3</th>\n",
              "      <td>HAM_0002730</td>\n",
              "      <td>ISIC_0025661</td>\n",
              "      <td>bkl</td>\n",
              "      <td>histo</td>\n",
              "      <td>80.0</td>\n",
              "      <td>male</td>\n",
              "      <td>scalp</td>\n",
              "      <td>vidir_modern</td>\n",
              "      <td>2</td>\n",
              "      <td>/content/HAM10000_images_part_1/ISIC_0025661.jpg</td>\n",
              "    </tr>\n",
              "    <tr>\n",
              "      <th>4</th>\n",
              "      <td>HAM_0001466</td>\n",
              "      <td>ISIC_0031633</td>\n",
              "      <td>bkl</td>\n",
              "      <td>histo</td>\n",
              "      <td>75.0</td>\n",
              "      <td>male</td>\n",
              "      <td>ear</td>\n",
              "      <td>vidir_modern</td>\n",
              "      <td>2</td>\n",
              "      <td>/content/HAM10000_images_part_2/ISIC_0031633.jpg</td>\n",
              "    </tr>\n",
              "    <tr>\n",
              "      <th>...</th>\n",
              "      <td>...</td>\n",
              "      <td>...</td>\n",
              "      <td>...</td>\n",
              "      <td>...</td>\n",
              "      <td>...</td>\n",
              "      <td>...</td>\n",
              "      <td>...</td>\n",
              "      <td>...</td>\n",
              "      <td>...</td>\n",
              "      <td>...</td>\n",
              "    </tr>\n",
              "    <tr>\n",
              "      <th>10010</th>\n",
              "      <td>HAM_0002867</td>\n",
              "      <td>ISIC_0033084</td>\n",
              "      <td>akiec</td>\n",
              "      <td>histo</td>\n",
              "      <td>40.0</td>\n",
              "      <td>male</td>\n",
              "      <td>abdomen</td>\n",
              "      <td>vidir_modern</td>\n",
              "      <td>0</td>\n",
              "      <td>/content/HAM10000_images_part_2/ISIC_0033084.jpg</td>\n",
              "    </tr>\n",
              "    <tr>\n",
              "      <th>10011</th>\n",
              "      <td>HAM_0002867</td>\n",
              "      <td>ISIC_0033550</td>\n",
              "      <td>akiec</td>\n",
              "      <td>histo</td>\n",
              "      <td>40.0</td>\n",
              "      <td>male</td>\n",
              "      <td>abdomen</td>\n",
              "      <td>vidir_modern</td>\n",
              "      <td>0</td>\n",
              "      <td>/content/HAM10000_images_part_2/ISIC_0033550.jpg</td>\n",
              "    </tr>\n",
              "    <tr>\n",
              "      <th>10012</th>\n",
              "      <td>HAM_0002867</td>\n",
              "      <td>ISIC_0033536</td>\n",
              "      <td>akiec</td>\n",
              "      <td>histo</td>\n",
              "      <td>40.0</td>\n",
              "      <td>male</td>\n",
              "      <td>abdomen</td>\n",
              "      <td>vidir_modern</td>\n",
              "      <td>0</td>\n",
              "      <td>/content/HAM10000_images_part_2/ISIC_0033536.jpg</td>\n",
              "    </tr>\n",
              "    <tr>\n",
              "      <th>10013</th>\n",
              "      <td>HAM_0000239</td>\n",
              "      <td>ISIC_0032854</td>\n",
              "      <td>akiec</td>\n",
              "      <td>histo</td>\n",
              "      <td>80.0</td>\n",
              "      <td>male</td>\n",
              "      <td>face</td>\n",
              "      <td>vidir_modern</td>\n",
              "      <td>0</td>\n",
              "      <td>/content/HAM10000_images_part_2/ISIC_0032854.jpg</td>\n",
              "    </tr>\n",
              "    <tr>\n",
              "      <th>10014</th>\n",
              "      <td>HAM_0003521</td>\n",
              "      <td>ISIC_0032258</td>\n",
              "      <td>mel</td>\n",
              "      <td>histo</td>\n",
              "      <td>70.0</td>\n",
              "      <td>female</td>\n",
              "      <td>back</td>\n",
              "      <td>vidir_modern</td>\n",
              "      <td>4</td>\n",
              "      <td>/content/HAM10000_images_part_2/ISIC_0032258.jpg</td>\n",
              "    </tr>\n",
              "  </tbody>\n",
              "</table>\n",
              "<p>10015 rows × 10 columns</p>\n",
              "</div>\n",
              "      <button class=\"colab-df-convert\" onclick=\"convertToInteractive('df-4f00038b-d7a6-4328-9ec5-53428bd73c2b')\"\n",
              "              title=\"Convert this dataframe to an interactive table.\"\n",
              "              style=\"display:none;\">\n",
              "        \n",
              "  <svg xmlns=\"http://www.w3.org/2000/svg\" height=\"24px\"viewBox=\"0 0 24 24\"\n",
              "       width=\"24px\">\n",
              "    <path d=\"M0 0h24v24H0V0z\" fill=\"none\"/>\n",
              "    <path d=\"M18.56 5.44l.94 2.06.94-2.06 2.06-.94-2.06-.94-.94-2.06-.94 2.06-2.06.94zm-11 1L8.5 8.5l.94-2.06 2.06-.94-2.06-.94L8.5 2.5l-.94 2.06-2.06.94zm10 10l.94 2.06.94-2.06 2.06-.94-2.06-.94-.94-2.06-.94 2.06-2.06.94z\"/><path d=\"M17.41 7.96l-1.37-1.37c-.4-.4-.92-.59-1.43-.59-.52 0-1.04.2-1.43.59L10.3 9.45l-7.72 7.72c-.78.78-.78 2.05 0 2.83L4 21.41c.39.39.9.59 1.41.59.51 0 1.02-.2 1.41-.59l7.78-7.78 2.81-2.81c.8-.78.8-2.07 0-2.86zM5.41 20L4 18.59l7.72-7.72 1.47 1.35L5.41 20z\"/>\n",
              "  </svg>\n",
              "      </button>\n",
              "      \n",
              "  <style>\n",
              "    .colab-df-container {\n",
              "      display:flex;\n",
              "      flex-wrap:wrap;\n",
              "      gap: 12px;\n",
              "    }\n",
              "\n",
              "    .colab-df-convert {\n",
              "      background-color: #E8F0FE;\n",
              "      border: none;\n",
              "      border-radius: 50%;\n",
              "      cursor: pointer;\n",
              "      display: none;\n",
              "      fill: #1967D2;\n",
              "      height: 32px;\n",
              "      padding: 0 0 0 0;\n",
              "      width: 32px;\n",
              "    }\n",
              "\n",
              "    .colab-df-convert:hover {\n",
              "      background-color: #E2EBFA;\n",
              "      box-shadow: 0px 1px 2px rgba(60, 64, 67, 0.3), 0px 1px 3px 1px rgba(60, 64, 67, 0.15);\n",
              "      fill: #174EA6;\n",
              "    }\n",
              "\n",
              "    [theme=dark] .colab-df-convert {\n",
              "      background-color: #3B4455;\n",
              "      fill: #D2E3FC;\n",
              "    }\n",
              "\n",
              "    [theme=dark] .colab-df-convert:hover {\n",
              "      background-color: #434B5C;\n",
              "      box-shadow: 0px 1px 3px 1px rgba(0, 0, 0, 0.15);\n",
              "      filter: drop-shadow(0px 1px 2px rgba(0, 0, 0, 0.3));\n",
              "      fill: #FFFFFF;\n",
              "    }\n",
              "  </style>\n",
              "\n",
              "      <script>\n",
              "        const buttonEl =\n",
              "          document.querySelector('#df-4f00038b-d7a6-4328-9ec5-53428bd73c2b button.colab-df-convert');\n",
              "        buttonEl.style.display =\n",
              "          google.colab.kernel.accessAllowed ? 'block' : 'none';\n",
              "\n",
              "        async function convertToInteractive(key) {\n",
              "          const element = document.querySelector('#df-4f00038b-d7a6-4328-9ec5-53428bd73c2b');\n",
              "          const dataTable =\n",
              "            await google.colab.kernel.invokeFunction('convertToInteractive',\n",
              "                                                     [key], {});\n",
              "          if (!dataTable) return;\n",
              "\n",
              "          const docLinkHtml = 'Like what you see? Visit the ' +\n",
              "            '<a target=\"_blank\" href=https://colab.research.google.com/notebooks/data_table.ipynb>data table notebook</a>'\n",
              "            + ' to learn more about interactive tables.';\n",
              "          element.innerHTML = '';\n",
              "          dataTable['output_type'] = 'display_data';\n",
              "          await google.colab.output.renderOutput(dataTable, element);\n",
              "          const docLink = document.createElement('div');\n",
              "          docLink.innerHTML = docLinkHtml;\n",
              "          element.appendChild(docLink);\n",
              "        }\n",
              "      </script>\n",
              "    </div>\n",
              "  </div>\n",
              "  "
            ]
          },
          "metadata": {},
          "execution_count": 11
        }
      ]
    },
    {
      "cell_type": "code",
      "source": [
        "#flattening image to ndarray"
      ],
      "metadata": {
        "id": "CnWGVqpnrfgp"
      },
      "execution_count": null,
      "outputs": []
    },
    {
      "cell_type": "code",
      "source": [
        "md['image'] = md['image_paths'].map(lambda x: np.asarray(Image.open(x).resize((im_size,im_size))))\n",
        "md"
      ],
      "metadata": {
        "colab": {
          "base_uri": "https://localhost:8080/",
          "height": 423
        },
        "id": "mM4m5-GZ7v30",
        "outputId": "61546274-ef72-4d16-d4d5-b8381cf1b7b8"
      },
      "execution_count": null,
      "outputs": [
        {
          "output_type": "execute_result",
          "data": {
            "text/plain": [
              "         lesion_id      image_id     dx dx_type   age     sex localization  \\\n",
              "0      HAM_0000118  ISIC_0027419    bkl   histo  80.0    male        scalp   \n",
              "1      HAM_0000118  ISIC_0025030    bkl   histo  80.0    male        scalp   \n",
              "2      HAM_0002730  ISIC_0026769    bkl   histo  80.0    male        scalp   \n",
              "3      HAM_0002730  ISIC_0025661    bkl   histo  80.0    male        scalp   \n",
              "4      HAM_0001466  ISIC_0031633    bkl   histo  75.0    male          ear   \n",
              "...            ...           ...    ...     ...   ...     ...          ...   \n",
              "10010  HAM_0002867  ISIC_0033084  akiec   histo  40.0    male      abdomen   \n",
              "10011  HAM_0002867  ISIC_0033550  akiec   histo  40.0    male      abdomen   \n",
              "10012  HAM_0002867  ISIC_0033536  akiec   histo  40.0    male      abdomen   \n",
              "10013  HAM_0000239  ISIC_0032854  akiec   histo  80.0    male         face   \n",
              "10014  HAM_0003521  ISIC_0032258    mel   histo  70.0  female         back   \n",
              "\n",
              "            dataset  label                                       image_paths  \\\n",
              "0      vidir_modern      2  /content/HAM10000_images_part_1/ISIC_0027419.jpg   \n",
              "1      vidir_modern      2  /content/HAM10000_images_part_1/ISIC_0025030.jpg   \n",
              "2      vidir_modern      2  /content/HAM10000_images_part_1/ISIC_0026769.jpg   \n",
              "3      vidir_modern      2  /content/HAM10000_images_part_1/ISIC_0025661.jpg   \n",
              "4      vidir_modern      2  /content/HAM10000_images_part_2/ISIC_0031633.jpg   \n",
              "...             ...    ...                                               ...   \n",
              "10010  vidir_modern      0  /content/HAM10000_images_part_2/ISIC_0033084.jpg   \n",
              "10011  vidir_modern      0  /content/HAM10000_images_part_2/ISIC_0033550.jpg   \n",
              "10012  vidir_modern      0  /content/HAM10000_images_part_2/ISIC_0033536.jpg   \n",
              "10013  vidir_modern      0  /content/HAM10000_images_part_2/ISIC_0032854.jpg   \n",
              "10014  vidir_modern      4  /content/HAM10000_images_part_2/ISIC_0032258.jpg   \n",
              "\n",
              "                                                   image  \n",
              "0      [[[187, 150, 192], [190, 154, 195], [192, 156,...  \n",
              "1      [[[24, 13, 22], [25, 13, 23], [24, 14, 23], [2...  \n",
              "2      [[[186, 127, 135], [188, 129, 137], [191, 135,...  \n",
              "3      [[[23, 11, 15], [24, 11, 18], [24, 10, 19], [2...  \n",
              "4      [[[125, 83, 105], [132, 89, 112], [138, 93, 11...  \n",
              "...                                                  ...  \n",
              "10010  [[[115, 92, 101], [108, 92, 96], [108, 91, 98]...  \n",
              "10011  [[[4, 6, 3], [5, 6, 3], [6, 6, 5], [7, 8, 4], ...  \n",
              "10012  [[[105, 92, 96], [109, 102, 103], [118, 109, 1...  \n",
              "10013  [[[156, 115, 138], [158, 117, 138], [160, 121,...  \n",
              "10014  [[[177, 145, 124], [181, 152, 141], [178, 147,...  \n",
              "\n",
              "[10015 rows x 11 columns]"
            ],
            "text/html": [
              "\n",
              "  <div id=\"df-a7e8b68f-e628-49da-ad40-bedb1cca0177\">\n",
              "    <div class=\"colab-df-container\">\n",
              "      <div>\n",
              "<style scoped>\n",
              "    .dataframe tbody tr th:only-of-type {\n",
              "        vertical-align: middle;\n",
              "    }\n",
              "\n",
              "    .dataframe tbody tr th {\n",
              "        vertical-align: top;\n",
              "    }\n",
              "\n",
              "    .dataframe thead th {\n",
              "        text-align: right;\n",
              "    }\n",
              "</style>\n",
              "<table border=\"1\" class=\"dataframe\">\n",
              "  <thead>\n",
              "    <tr style=\"text-align: right;\">\n",
              "      <th></th>\n",
              "      <th>lesion_id</th>\n",
              "      <th>image_id</th>\n",
              "      <th>dx</th>\n",
              "      <th>dx_type</th>\n",
              "      <th>age</th>\n",
              "      <th>sex</th>\n",
              "      <th>localization</th>\n",
              "      <th>dataset</th>\n",
              "      <th>label</th>\n",
              "      <th>image_paths</th>\n",
              "      <th>image</th>\n",
              "    </tr>\n",
              "  </thead>\n",
              "  <tbody>\n",
              "    <tr>\n",
              "      <th>0</th>\n",
              "      <td>HAM_0000118</td>\n",
              "      <td>ISIC_0027419</td>\n",
              "      <td>bkl</td>\n",
              "      <td>histo</td>\n",
              "      <td>80.0</td>\n",
              "      <td>male</td>\n",
              "      <td>scalp</td>\n",
              "      <td>vidir_modern</td>\n",
              "      <td>2</td>\n",
              "      <td>/content/HAM10000_images_part_1/ISIC_0027419.jpg</td>\n",
              "      <td>[[[187, 150, 192], [190, 154, 195], [192, 156,...</td>\n",
              "    </tr>\n",
              "    <tr>\n",
              "      <th>1</th>\n",
              "      <td>HAM_0000118</td>\n",
              "      <td>ISIC_0025030</td>\n",
              "      <td>bkl</td>\n",
              "      <td>histo</td>\n",
              "      <td>80.0</td>\n",
              "      <td>male</td>\n",
              "      <td>scalp</td>\n",
              "      <td>vidir_modern</td>\n",
              "      <td>2</td>\n",
              "      <td>/content/HAM10000_images_part_1/ISIC_0025030.jpg</td>\n",
              "      <td>[[[24, 13, 22], [25, 13, 23], [24, 14, 23], [2...</td>\n",
              "    </tr>\n",
              "    <tr>\n",
              "      <th>2</th>\n",
              "      <td>HAM_0002730</td>\n",
              "      <td>ISIC_0026769</td>\n",
              "      <td>bkl</td>\n",
              "      <td>histo</td>\n",
              "      <td>80.0</td>\n",
              "      <td>male</td>\n",
              "      <td>scalp</td>\n",
              "      <td>vidir_modern</td>\n",
              "      <td>2</td>\n",
              "      <td>/content/HAM10000_images_part_1/ISIC_0026769.jpg</td>\n",
              "      <td>[[[186, 127, 135], [188, 129, 137], [191, 135,...</td>\n",
              "    </tr>\n",
              "    <tr>\n",
              "      <th>3</th>\n",
              "      <td>HAM_0002730</td>\n",
              "      <td>ISIC_0025661</td>\n",
              "      <td>bkl</td>\n",
              "      <td>histo</td>\n",
              "      <td>80.0</td>\n",
              "      <td>male</td>\n",
              "      <td>scalp</td>\n",
              "      <td>vidir_modern</td>\n",
              "      <td>2</td>\n",
              "      <td>/content/HAM10000_images_part_1/ISIC_0025661.jpg</td>\n",
              "      <td>[[[23, 11, 15], [24, 11, 18], [24, 10, 19], [2...</td>\n",
              "    </tr>\n",
              "    <tr>\n",
              "      <th>4</th>\n",
              "      <td>HAM_0001466</td>\n",
              "      <td>ISIC_0031633</td>\n",
              "      <td>bkl</td>\n",
              "      <td>histo</td>\n",
              "      <td>75.0</td>\n",
              "      <td>male</td>\n",
              "      <td>ear</td>\n",
              "      <td>vidir_modern</td>\n",
              "      <td>2</td>\n",
              "      <td>/content/HAM10000_images_part_2/ISIC_0031633.jpg</td>\n",
              "      <td>[[[125, 83, 105], [132, 89, 112], [138, 93, 11...</td>\n",
              "    </tr>\n",
              "    <tr>\n",
              "      <th>...</th>\n",
              "      <td>...</td>\n",
              "      <td>...</td>\n",
              "      <td>...</td>\n",
              "      <td>...</td>\n",
              "      <td>...</td>\n",
              "      <td>...</td>\n",
              "      <td>...</td>\n",
              "      <td>...</td>\n",
              "      <td>...</td>\n",
              "      <td>...</td>\n",
              "      <td>...</td>\n",
              "    </tr>\n",
              "    <tr>\n",
              "      <th>10010</th>\n",
              "      <td>HAM_0002867</td>\n",
              "      <td>ISIC_0033084</td>\n",
              "      <td>akiec</td>\n",
              "      <td>histo</td>\n",
              "      <td>40.0</td>\n",
              "      <td>male</td>\n",
              "      <td>abdomen</td>\n",
              "      <td>vidir_modern</td>\n",
              "      <td>0</td>\n",
              "      <td>/content/HAM10000_images_part_2/ISIC_0033084.jpg</td>\n",
              "      <td>[[[115, 92, 101], [108, 92, 96], [108, 91, 98]...</td>\n",
              "    </tr>\n",
              "    <tr>\n",
              "      <th>10011</th>\n",
              "      <td>HAM_0002867</td>\n",
              "      <td>ISIC_0033550</td>\n",
              "      <td>akiec</td>\n",
              "      <td>histo</td>\n",
              "      <td>40.0</td>\n",
              "      <td>male</td>\n",
              "      <td>abdomen</td>\n",
              "      <td>vidir_modern</td>\n",
              "      <td>0</td>\n",
              "      <td>/content/HAM10000_images_part_2/ISIC_0033550.jpg</td>\n",
              "      <td>[[[4, 6, 3], [5, 6, 3], [6, 6, 5], [7, 8, 4], ...</td>\n",
              "    </tr>\n",
              "    <tr>\n",
              "      <th>10012</th>\n",
              "      <td>HAM_0002867</td>\n",
              "      <td>ISIC_0033536</td>\n",
              "      <td>akiec</td>\n",
              "      <td>histo</td>\n",
              "      <td>40.0</td>\n",
              "      <td>male</td>\n",
              "      <td>abdomen</td>\n",
              "      <td>vidir_modern</td>\n",
              "      <td>0</td>\n",
              "      <td>/content/HAM10000_images_part_2/ISIC_0033536.jpg</td>\n",
              "      <td>[[[105, 92, 96], [109, 102, 103], [118, 109, 1...</td>\n",
              "    </tr>\n",
              "    <tr>\n",
              "      <th>10013</th>\n",
              "      <td>HAM_0000239</td>\n",
              "      <td>ISIC_0032854</td>\n",
              "      <td>akiec</td>\n",
              "      <td>histo</td>\n",
              "      <td>80.0</td>\n",
              "      <td>male</td>\n",
              "      <td>face</td>\n",
              "      <td>vidir_modern</td>\n",
              "      <td>0</td>\n",
              "      <td>/content/HAM10000_images_part_2/ISIC_0032854.jpg</td>\n",
              "      <td>[[[156, 115, 138], [158, 117, 138], [160, 121,...</td>\n",
              "    </tr>\n",
              "    <tr>\n",
              "      <th>10014</th>\n",
              "      <td>HAM_0003521</td>\n",
              "      <td>ISIC_0032258</td>\n",
              "      <td>mel</td>\n",
              "      <td>histo</td>\n",
              "      <td>70.0</td>\n",
              "      <td>female</td>\n",
              "      <td>back</td>\n",
              "      <td>vidir_modern</td>\n",
              "      <td>4</td>\n",
              "      <td>/content/HAM10000_images_part_2/ISIC_0032258.jpg</td>\n",
              "      <td>[[[177, 145, 124], [181, 152, 141], [178, 147,...</td>\n",
              "    </tr>\n",
              "  </tbody>\n",
              "</table>\n",
              "<p>10015 rows × 11 columns</p>\n",
              "</div>\n",
              "      <button class=\"colab-df-convert\" onclick=\"convertToInteractive('df-a7e8b68f-e628-49da-ad40-bedb1cca0177')\"\n",
              "              title=\"Convert this dataframe to an interactive table.\"\n",
              "              style=\"display:none;\">\n",
              "        \n",
              "  <svg xmlns=\"http://www.w3.org/2000/svg\" height=\"24px\"viewBox=\"0 0 24 24\"\n",
              "       width=\"24px\">\n",
              "    <path d=\"M0 0h24v24H0V0z\" fill=\"none\"/>\n",
              "    <path d=\"M18.56 5.44l.94 2.06.94-2.06 2.06-.94-2.06-.94-.94-2.06-.94 2.06-2.06.94zm-11 1L8.5 8.5l.94-2.06 2.06-.94-2.06-.94L8.5 2.5l-.94 2.06-2.06.94zm10 10l.94 2.06.94-2.06 2.06-.94-2.06-.94-.94-2.06-.94 2.06-2.06.94z\"/><path d=\"M17.41 7.96l-1.37-1.37c-.4-.4-.92-.59-1.43-.59-.52 0-1.04.2-1.43.59L10.3 9.45l-7.72 7.72c-.78.78-.78 2.05 0 2.83L4 21.41c.39.39.9.59 1.41.59.51 0 1.02-.2 1.41-.59l7.78-7.78 2.81-2.81c.8-.78.8-2.07 0-2.86zM5.41 20L4 18.59l7.72-7.72 1.47 1.35L5.41 20z\"/>\n",
              "  </svg>\n",
              "      </button>\n",
              "      \n",
              "  <style>\n",
              "    .colab-df-container {\n",
              "      display:flex;\n",
              "      flex-wrap:wrap;\n",
              "      gap: 12px;\n",
              "    }\n",
              "\n",
              "    .colab-df-convert {\n",
              "      background-color: #E8F0FE;\n",
              "      border: none;\n",
              "      border-radius: 50%;\n",
              "      cursor: pointer;\n",
              "      display: none;\n",
              "      fill: #1967D2;\n",
              "      height: 32px;\n",
              "      padding: 0 0 0 0;\n",
              "      width: 32px;\n",
              "    }\n",
              "\n",
              "    .colab-df-convert:hover {\n",
              "      background-color: #E2EBFA;\n",
              "      box-shadow: 0px 1px 2px rgba(60, 64, 67, 0.3), 0px 1px 3px 1px rgba(60, 64, 67, 0.15);\n",
              "      fill: #174EA6;\n",
              "    }\n",
              "\n",
              "    [theme=dark] .colab-df-convert {\n",
              "      background-color: #3B4455;\n",
              "      fill: #D2E3FC;\n",
              "    }\n",
              "\n",
              "    [theme=dark] .colab-df-convert:hover {\n",
              "      background-color: #434B5C;\n",
              "      box-shadow: 0px 1px 3px 1px rgba(0, 0, 0, 0.15);\n",
              "      filter: drop-shadow(0px 1px 2px rgba(0, 0, 0, 0.3));\n",
              "      fill: #FFFFFF;\n",
              "    }\n",
              "  </style>\n",
              "\n",
              "      <script>\n",
              "        const buttonEl =\n",
              "          document.querySelector('#df-a7e8b68f-e628-49da-ad40-bedb1cca0177 button.colab-df-convert');\n",
              "        buttonEl.style.display =\n",
              "          google.colab.kernel.accessAllowed ? 'block' : 'none';\n",
              "\n",
              "        async function convertToInteractive(key) {\n",
              "          const element = document.querySelector('#df-a7e8b68f-e628-49da-ad40-bedb1cca0177');\n",
              "          const dataTable =\n",
              "            await google.colab.kernel.invokeFunction('convertToInteractive',\n",
              "                                                     [key], {});\n",
              "          if (!dataTable) return;\n",
              "\n",
              "          const docLinkHtml = 'Like what you see? Visit the ' +\n",
              "            '<a target=\"_blank\" href=https://colab.research.google.com/notebooks/data_table.ipynb>data table notebook</a>'\n",
              "            + ' to learn more about interactive tables.';\n",
              "          element.innerHTML = '';\n",
              "          dataTable['output_type'] = 'display_data';\n",
              "          await google.colab.output.renderOutput(dataTable, element);\n",
              "          const docLink = document.createElement('div');\n",
              "          docLink.innerHTML = docLinkHtml;\n",
              "          element.appendChild(docLink);\n",
              "        }\n",
              "      </script>\n",
              "    </div>\n",
              "  </div>\n",
              "  "
            ]
          },
          "metadata": {},
          "execution_count": 12
        }
      ]
    },
    {
      "cell_type": "code",
      "source": [
        "#split data into training and testing set, then standardize ndarrays of images by pixel values, target array of disease categories"
      ],
      "metadata": {
        "id": "hI3L5t3SrjnX"
      },
      "execution_count": null,
      "outputs": []
    },
    {
      "cell_type": "code",
      "source": [
        "train, test = train_test_split(md, test_size=0.25, random_state=29, shuffle=True)"
      ],
      "metadata": {
        "id": "iBjSTJkb7z4u"
      },
      "execution_count": null,
      "outputs": []
    },
    {
      "cell_type": "code",
      "source": [
        "trainX = np.array(train[\"image\"].tolist())\n",
        "trainX = trainX/225\n",
        "\n",
        "trainY = train['label']\n",
        "trainY_dx = to_categorical(trainY, num_classes=7)"
      ],
      "metadata": {
        "id": "FMdBhkPO74ZP"
      },
      "execution_count": null,
      "outputs": []
    },
    {
      "cell_type": "code",
      "source": [
        "testX = np.array(test[\"image\"].tolist())\n",
        "testX = testX/225\n",
        "\n",
        "testY = test['label']\n",
        "testY_dx = to_categorical(testY, num_classes=7)"
      ],
      "metadata": {
        "id": "mrXIq3Dw78Al"
      },
      "execution_count": null,
      "outputs": []
    },
    {
      "cell_type": "code",
      "source": [
        "import tensorflow as tf\n",
        "tf.test.gpu_device_name()"
      ],
      "metadata": {
        "colab": {
          "base_uri": "https://localhost:8080/",
          "height": 36
        },
        "id": "KBnkR52D7-qD",
        "outputId": "dc31e00a-e3a1-43f0-8d9d-3f6b79fe9b69"
      },
      "execution_count": null,
      "outputs": [
        {
          "output_type": "execute_result",
          "data": {
            "text/plain": [
              "'/device:GPU:0'"
            ],
            "application/vnd.google.colaboratory.intrinsic+json": {
              "type": "string"
            }
          },
          "metadata": {},
          "execution_count": 16
        }
      ]
    },
    {
      "cell_type": "code",
      "source": [
        "#finetuning of the pretrained model. 13 conv layers frozen, 5 max pooling layers frozen, top dense layers replaced to make model architecture compatible with number of disease categories. Addiotnally global pooling layer added after frozen layers"
      ],
      "metadata": {
        "id": "NeEldcwWryiw"
      },
      "execution_count": null,
      "outputs": []
    },
    {
      "cell_type": "code",
      "source": [
        "img_rows, img_cols = 224, 224 \n",
        "\n",
        "vgg_mod = vgg16.VGG16(weights = 'imagenet', \n",
        "                 include_top = False, \n",
        "                 input_shape = (img_rows, img_cols, 3))"
      ],
      "metadata": {
        "colab": {
          "base_uri": "https://localhost:8080/"
        },
        "id": "ftxgcFGp8F8g",
        "outputId": "bac81f79-2850-41fb-e11c-634154d06b10"
      },
      "execution_count": null,
      "outputs": [
        {
          "output_type": "stream",
          "name": "stdout",
          "text": [
            "Downloading data from https://storage.googleapis.com/tensorflow/keras-applications/vgg16/vgg16_weights_tf_dim_ordering_tf_kernels_notop.h5\n",
            "58889256/58889256 [==============================] - 0s 0us/step\n"
          ]
        }
      ]
    },
    {
      "cell_type": "code",
      "source": [
        "for layer in vgg_mod.layers:\n",
        "    layer.trainable = False"
      ],
      "metadata": {
        "id": "EDB9-RHT8JWw"
      },
      "execution_count": null,
      "outputs": []
    },
    {
      "cell_type": "code",
      "source": [
        "for (i,layer) in enumerate(vgg_mod.layers):\n",
        "    print(str(i) + \" \"+ layer.__class__.__name__, layer.trainable)"
      ],
      "metadata": {
        "colab": {
          "base_uri": "https://localhost:8080/"
        },
        "id": "34XtuNUu8ML-",
        "outputId": "82ecd176-e233-4ea7-879b-c027c037e968"
      },
      "execution_count": null,
      "outputs": [
        {
          "output_type": "stream",
          "name": "stdout",
          "text": [
            "0 InputLayer False\n",
            "1 Conv2D False\n",
            "2 Conv2D False\n",
            "3 MaxPooling2D False\n",
            "4 Conv2D False\n",
            "5 Conv2D False\n",
            "6 MaxPooling2D False\n",
            "7 Conv2D False\n",
            "8 Conv2D False\n",
            "9 Conv2D False\n",
            "10 MaxPooling2D False\n",
            "11 Conv2D False\n",
            "12 Conv2D False\n",
            "13 Conv2D False\n",
            "14 MaxPooling2D False\n",
            "15 Conv2D False\n",
            "16 Conv2D False\n",
            "17 Conv2D False\n",
            "18 MaxPooling2D False\n"
          ]
        }
      ]
    },
    {
      "cell_type": "code",
      "source": [
        "def lw(bottom_model, num_classes):\n",
        "    \"\"\"creates the top or head of the model that will be \n",
        "    placed ontop of the bottom layers\"\"\"\n",
        "\n",
        "    top_model = bottom_model.output\n",
        "    top_model = GlobalAveragePooling2D()(top_model)\n",
        "    top_model = Dense(1024,activation='relu')(top_model)\n",
        "    top_model = Dense(1024,activation='relu')(top_model)\n",
        "    top_model = Dense(512,activation='relu')(top_model)\n",
        "    top_model = Dense(num_classes,activation='softmax')(top_model)\n",
        "    return top_model "
      ],
      "metadata": {
        "id": "u0J7eKdi8PHZ"
      },
      "execution_count": null,
      "outputs": []
    },
    {
      "cell_type": "code",
      "source": [
        "num_classes = 7\n",
        "\n",
        "FC_Head = lw(vgg_mod, num_classes)\n",
        "model = Model(inputs = vgg_mod.input, outputs = FC_Head)\n",
        "print(model.summary())"
      ],
      "metadata": {
        "colab": {
          "base_uri": "https://localhost:8080/"
        },
        "id": "JRKJSyFG8TIn",
        "outputId": "f5e1e43f-8e0a-46d2-c046-05f2b6dafae2"
      },
      "execution_count": null,
      "outputs": [
        {
          "output_type": "stream",
          "name": "stdout",
          "text": [
            "Model: \"model\"\n",
            "_________________________________________________________________\n",
            " Layer (type)                Output Shape              Param #   \n",
            "=================================================================\n",
            " input_1 (InputLayer)        [(None, 224, 224, 3)]     0         \n",
            "                                                                 \n",
            " block1_conv1 (Conv2D)       (None, 224, 224, 64)      1792      \n",
            "                                                                 \n",
            " block1_conv2 (Conv2D)       (None, 224, 224, 64)      36928     \n",
            "                                                                 \n",
            " block1_pool (MaxPooling2D)  (None, 112, 112, 64)      0         \n",
            "                                                                 \n",
            " block2_conv1 (Conv2D)       (None, 112, 112, 128)     73856     \n",
            "                                                                 \n",
            " block2_conv2 (Conv2D)       (None, 112, 112, 128)     147584    \n",
            "                                                                 \n",
            " block2_pool (MaxPooling2D)  (None, 56, 56, 128)       0         \n",
            "                                                                 \n",
            " block3_conv1 (Conv2D)       (None, 56, 56, 256)       295168    \n",
            "                                                                 \n",
            " block3_conv2 (Conv2D)       (None, 56, 56, 256)       590080    \n",
            "                                                                 \n",
            " block3_conv3 (Conv2D)       (None, 56, 56, 256)       590080    \n",
            "                                                                 \n",
            " block3_pool (MaxPooling2D)  (None, 28, 28, 256)       0         \n",
            "                                                                 \n",
            " block4_conv1 (Conv2D)       (None, 28, 28, 512)       1180160   \n",
            "                                                                 \n",
            " block4_conv2 (Conv2D)       (None, 28, 28, 512)       2359808   \n",
            "                                                                 \n",
            " block4_conv3 (Conv2D)       (None, 28, 28, 512)       2359808   \n",
            "                                                                 \n",
            " block4_pool (MaxPooling2D)  (None, 14, 14, 512)       0         \n",
            "                                                                 \n",
            " block5_conv1 (Conv2D)       (None, 14, 14, 512)       2359808   \n",
            "                                                                 \n",
            " block5_conv2 (Conv2D)       (None, 14, 14, 512)       2359808   \n",
            "                                                                 \n",
            " block5_conv3 (Conv2D)       (None, 14, 14, 512)       2359808   \n",
            "                                                                 \n",
            " block5_pool (MaxPooling2D)  (None, 7, 7, 512)         0         \n",
            "                                                                 \n",
            " global_average_pooling2d (G  (None, 512)              0         \n",
            " lobalAveragePooling2D)                                          \n",
            "                                                                 \n",
            " dense (Dense)               (None, 1024)              525312    \n",
            "                                                                 \n",
            " dense_1 (Dense)             (None, 1024)              1049600   \n",
            "                                                                 \n",
            " dense_2 (Dense)             (None, 512)               524800    \n",
            "                                                                 \n",
            " dense_3 (Dense)             (None, 7)                 3591      \n",
            "                                                                 \n",
            "=================================================================\n",
            "Total params: 16,817,991\n",
            "Trainable params: 2,103,303\n",
            "Non-trainable params: 14,714,688\n",
            "_________________________________________________________________\n",
            "None\n"
          ]
        }
      ]
    },
    {
      "cell_type": "code",
      "source": [
        "model.compile(optimizer='adam', loss = 'categorical_crossentropy',metrics = ['accuracy'])"
      ],
      "metadata": {
        "id": "I7LeZOaX8Wbe"
      },
      "execution_count": null,
      "outputs": []
    },
    {
      "cell_type": "code",
      "source": [
        "#specific hyperparameters then fitting of the models\n",
        "batch_size = 64\n",
        "epochs = 75"
      ],
      "metadata": {
        "id": "0Q95D_Rq8Z1w"
      },
      "execution_count": null,
      "outputs": []
    },
    {
      "cell_type": "code",
      "source": [
        "mod_fit = model.fit(\n",
        "    trainX, trainY_dx,\n",
        "    epochs=epochs,\n",
        "    batch_size = batch_size,\n",
        "    verbose=2)"
      ],
      "metadata": {
        "colab": {
          "base_uri": "https://localhost:8080/"
        },
        "id": "zHi7kSyS8cSQ",
        "outputId": "3b2c5b89-fbac-41a6-8ab2-1669d25c75c0"
      },
      "execution_count": null,
      "outputs": [
        {
          "output_type": "stream",
          "name": "stdout",
          "text": [
            "Epoch 1/75\n",
            "118/118 - 17s - loss: 1.0134 - accuracy: 0.6711 - 17s/epoch - 141ms/step\n",
            "Epoch 2/75\n",
            "118/118 - 6s - loss: 0.8974 - accuracy: 0.6886 - 6s/epoch - 51ms/step\n",
            "Epoch 3/75\n",
            "118/118 - 6s - loss: 0.8500 - accuracy: 0.6932 - 6s/epoch - 51ms/step\n",
            "Epoch 4/75\n",
            "118/118 - 6s - loss: 0.8307 - accuracy: 0.7014 - 6s/epoch - 51ms/step\n",
            "Epoch 5/75\n",
            "118/118 - 6s - loss: 0.8032 - accuracy: 0.7096 - 6s/epoch - 50ms/step\n",
            "Epoch 6/75\n",
            "118/118 - 6s - loss: 0.7774 - accuracy: 0.7168 - 6s/epoch - 51ms/step\n",
            "Epoch 7/75\n",
            "118/118 - 6s - loss: 0.7596 - accuracy: 0.7239 - 6s/epoch - 51ms/step\n",
            "Epoch 8/75\n",
            "118/118 - 6s - loss: 0.7349 - accuracy: 0.7352 - 6s/epoch - 51ms/step\n",
            "Epoch 9/75\n",
            "118/118 - 6s - loss: 0.7297 - accuracy: 0.7327 - 6s/epoch - 50ms/step\n",
            "Epoch 10/75\n",
            "118/118 - 6s - loss: 0.7089 - accuracy: 0.7416 - 6s/epoch - 51ms/step\n",
            "Epoch 11/75\n",
            "118/118 - 6s - loss: 0.6856 - accuracy: 0.7502 - 6s/epoch - 51ms/step\n",
            "Epoch 12/75\n",
            "118/118 - 6s - loss: 0.6885 - accuracy: 0.7486 - 6s/epoch - 51ms/step\n",
            "Epoch 13/75\n",
            "118/118 - 6s - loss: 0.6932 - accuracy: 0.7504 - 6s/epoch - 51ms/step\n",
            "Epoch 14/75\n",
            "118/118 - 6s - loss: 0.6576 - accuracy: 0.7610 - 6s/epoch - 51ms/step\n",
            "Epoch 15/75\n",
            "118/118 - 6s - loss: 0.6434 - accuracy: 0.7646 - 6s/epoch - 51ms/step\n",
            "Epoch 16/75\n",
            "118/118 - 6s - loss: 0.6363 - accuracy: 0.7687 - 6s/epoch - 51ms/step\n",
            "Epoch 17/75\n",
            "118/118 - 6s - loss: 0.6280 - accuracy: 0.7709 - 6s/epoch - 50ms/step\n",
            "Epoch 18/75\n",
            "118/118 - 6s - loss: 0.6134 - accuracy: 0.7743 - 6s/epoch - 50ms/step\n",
            "Epoch 19/75\n",
            "118/118 - 6s - loss: 0.6061 - accuracy: 0.7769 - 6s/epoch - 51ms/step\n",
            "Epoch 20/75\n",
            "118/118 - 6s - loss: 0.5948 - accuracy: 0.7807 - 6s/epoch - 51ms/step\n",
            "Epoch 21/75\n",
            "118/118 - 6s - loss: 0.5651 - accuracy: 0.7883 - 6s/epoch - 50ms/step\n",
            "Epoch 22/75\n",
            "118/118 - 6s - loss: 0.5742 - accuracy: 0.7879 - 6s/epoch - 51ms/step\n",
            "Epoch 23/75\n",
            "118/118 - 6s - loss: 0.5640 - accuracy: 0.7886 - 6s/epoch - 51ms/step\n",
            "Epoch 24/75\n",
            "118/118 - 6s - loss: 0.5472 - accuracy: 0.7999 - 6s/epoch - 50ms/step\n",
            "Epoch 25/75\n",
            "118/118 - 6s - loss: 0.5366 - accuracy: 0.7998 - 6s/epoch - 50ms/step\n",
            "Epoch 26/75\n",
            "118/118 - 6s - loss: 0.5274 - accuracy: 0.8067 - 6s/epoch - 50ms/step\n",
            "Epoch 27/75\n",
            "118/118 - 6s - loss: 0.5147 - accuracy: 0.8163 - 6s/epoch - 50ms/step\n",
            "Epoch 28/75\n",
            "118/118 - 6s - loss: 0.5011 - accuracy: 0.8188 - 6s/epoch - 50ms/step\n",
            "Epoch 29/75\n",
            "118/118 - 6s - loss: 0.5083 - accuracy: 0.8105 - 6s/epoch - 51ms/step\n",
            "Epoch 30/75\n",
            "118/118 - 6s - loss: 0.4948 - accuracy: 0.8204 - 6s/epoch - 50ms/step\n",
            "Epoch 31/75\n",
            "118/118 - 6s - loss: 0.4644 - accuracy: 0.8272 - 6s/epoch - 50ms/step\n",
            "Epoch 32/75\n",
            "118/118 - 6s - loss: 0.4680 - accuracy: 0.8253 - 6s/epoch - 50ms/step\n",
            "Epoch 33/75\n",
            "118/118 - 6s - loss: 0.4489 - accuracy: 0.8342 - 6s/epoch - 51ms/step\n",
            "Epoch 34/75\n",
            "118/118 - 6s - loss: 0.4349 - accuracy: 0.8378 - 6s/epoch - 50ms/step\n",
            "Epoch 35/75\n",
            "118/118 - 6s - loss: 0.4303 - accuracy: 0.8362 - 6s/epoch - 50ms/step\n",
            "Epoch 36/75\n",
            "118/118 - 6s - loss: 0.4352 - accuracy: 0.8388 - 6s/epoch - 51ms/step\n",
            "Epoch 37/75\n",
            "118/118 - 6s - loss: 0.4083 - accuracy: 0.8513 - 6s/epoch - 50ms/step\n",
            "Epoch 38/75\n",
            "118/118 - 6s - loss: 0.4231 - accuracy: 0.8430 - 6s/epoch - 51ms/step\n",
            "Epoch 39/75\n",
            "118/118 - 6s - loss: 0.3985 - accuracy: 0.8518 - 6s/epoch - 51ms/step\n",
            "Epoch 40/75\n",
            "118/118 - 6s - loss: 0.3900 - accuracy: 0.8537 - 6s/epoch - 51ms/step\n",
            "Epoch 41/75\n",
            "118/118 - 6s - loss: 0.3703 - accuracy: 0.8614 - 6s/epoch - 50ms/step\n",
            "Epoch 42/75\n",
            "118/118 - 6s - loss: 0.3708 - accuracy: 0.8621 - 6s/epoch - 51ms/step\n",
            "Epoch 43/75\n",
            "118/118 - 6s - loss: 0.3678 - accuracy: 0.8655 - 6s/epoch - 51ms/step\n",
            "Epoch 44/75\n",
            "118/118 - 6s - loss: 0.3342 - accuracy: 0.8717 - 6s/epoch - 51ms/step\n",
            "Epoch 45/75\n",
            "118/118 - 6s - loss: 0.3243 - accuracy: 0.8779 - 6s/epoch - 51ms/step\n",
            "Epoch 46/75\n",
            "118/118 - 6s - loss: 0.3225 - accuracy: 0.8810 - 6s/epoch - 50ms/step\n",
            "Epoch 47/75\n",
            "118/118 - 6s - loss: 0.3287 - accuracy: 0.8771 - 6s/epoch - 50ms/step\n",
            "Epoch 48/75\n",
            "118/118 - 6s - loss: 0.3073 - accuracy: 0.8864 - 6s/epoch - 50ms/step\n",
            "Epoch 49/75\n",
            "118/118 - 6s - loss: 0.3049 - accuracy: 0.8854 - 6s/epoch - 51ms/step\n",
            "Epoch 50/75\n",
            "118/118 - 6s - loss: 0.2941 - accuracy: 0.8926 - 6s/epoch - 50ms/step\n",
            "Epoch 51/75\n",
            "118/118 - 6s - loss: 0.2863 - accuracy: 0.8927 - 6s/epoch - 51ms/step\n",
            "Epoch 52/75\n",
            "118/118 - 6s - loss: 0.2935 - accuracy: 0.8942 - 6s/epoch - 51ms/step\n",
            "Epoch 53/75\n",
            "118/118 - 6s - loss: 0.2674 - accuracy: 0.8997 - 6s/epoch - 50ms/step\n",
            "Epoch 54/75\n",
            "118/118 - 6s - loss: 0.2461 - accuracy: 0.9072 - 6s/epoch - 51ms/step\n",
            "Epoch 55/75\n",
            "118/118 - 6s - loss: 0.2534 - accuracy: 0.9067 - 6s/epoch - 50ms/step\n",
            "Epoch 56/75\n",
            "118/118 - 6s - loss: 0.2459 - accuracy: 0.9088 - 6s/epoch - 51ms/step\n",
            "Epoch 57/75\n",
            "118/118 - 6s - loss: 0.2297 - accuracy: 0.9153 - 6s/epoch - 51ms/step\n",
            "Epoch 58/75\n",
            "118/118 - 6s - loss: 0.2350 - accuracy: 0.9137 - 6s/epoch - 50ms/step\n",
            "Epoch 59/75\n",
            "118/118 - 6s - loss: 0.2161 - accuracy: 0.9195 - 6s/epoch - 50ms/step\n",
            "Epoch 60/75\n",
            "118/118 - 6s - loss: 0.2208 - accuracy: 0.9172 - 6s/epoch - 50ms/step\n",
            "Epoch 61/75\n",
            "118/118 - 6s - loss: 0.2378 - accuracy: 0.9127 - 6s/epoch - 51ms/step\n",
            "Epoch 62/75\n",
            "118/118 - 6s - loss: 0.2596 - accuracy: 0.9028 - 6s/epoch - 51ms/step\n",
            "Epoch 63/75\n",
            "118/118 - 6s - loss: 0.1775 - accuracy: 0.9348 - 6s/epoch - 51ms/step\n",
            "Epoch 64/75\n",
            "118/118 - 6s - loss: 0.1844 - accuracy: 0.9337 - 6s/epoch - 51ms/step\n",
            "Epoch 65/75\n",
            "118/118 - 6s - loss: 0.1818 - accuracy: 0.9328 - 6s/epoch - 51ms/step\n",
            "Epoch 66/75\n",
            "118/118 - 6s - loss: 0.1672 - accuracy: 0.9410 - 6s/epoch - 50ms/step\n",
            "Epoch 67/75\n",
            "118/118 - 6s - loss: 0.2066 - accuracy: 0.9224 - 6s/epoch - 51ms/step\n",
            "Epoch 68/75\n",
            "118/118 - 6s - loss: 0.1755 - accuracy: 0.9406 - 6s/epoch - 50ms/step\n",
            "Epoch 69/75\n",
            "118/118 - 6s - loss: 0.1914 - accuracy: 0.9296 - 6s/epoch - 51ms/step\n",
            "Epoch 70/75\n",
            "118/118 - 6s - loss: 0.1490 - accuracy: 0.9466 - 6s/epoch - 51ms/step\n",
            "Epoch 71/75\n",
            "118/118 - 6s - loss: 0.1587 - accuracy: 0.9401 - 6s/epoch - 51ms/step\n",
            "Epoch 72/75\n",
            "118/118 - 6s - loss: 0.1324 - accuracy: 0.9533 - 6s/epoch - 50ms/step\n",
            "Epoch 73/75\n",
            "118/118 - 6s - loss: 0.2288 - accuracy: 0.9199 - 6s/epoch - 50ms/step\n",
            "Epoch 74/75\n",
            "118/118 - 6s - loss: 0.1278 - accuracy: 0.9567 - 6s/epoch - 50ms/step\n",
            "Epoch 75/75\n",
            "118/118 - 6s - loss: 0.1480 - accuracy: 0.9502 - 6s/epoch - 51ms/step\n"
          ]
        }
      ]
    },
    {
      "cell_type": "code",
      "source": [
        "#overall testing accuracy\n",
        "mod_acc_val = model.evaluate(testX, testY_dx)\n",
        "print('Test accuracy:', mod_acc_val[1])"
      ],
      "metadata": {
        "colab": {
          "base_uri": "https://localhost:8080/"
        },
        "id": "EWQx719h8yIv",
        "outputId": "3e7558de-cb52-495f-d11b-a23ba8ed8144"
      },
      "execution_count": null,
      "outputs": [
        {
          "output_type": "stream",
          "name": "stdout",
          "text": [
            "79/79 [==============================] - 3s 28ms/step - loss: 1.6716 - accuracy: 0.7185\n",
            "Test accuracy: 0.7184504866600037\n"
          ]
        }
      ]
    },
    {
      "cell_type": "code",
      "source": [
        "#predictions from the models "
      ],
      "metadata": {
        "id": "MuD6gVjqsqhw"
      },
      "execution_count": null,
      "outputs": []
    },
    {
      "cell_type": "code",
      "source": [
        "y_pred = model.predict(testX)"
      ],
      "metadata": {
        "colab": {
          "base_uri": "https://localhost:8080/"
        },
        "id": "cO4cLiVk887C",
        "outputId": "393aa292-501c-40b4-978c-99d002c9922b"
      },
      "execution_count": null,
      "outputs": [
        {
          "output_type": "stream",
          "name": "stdout",
          "text": [
            "79/79 [==============================] - 2s 24ms/step\n"
          ]
        }
      ]
    },
    {
      "cell_type": "code",
      "source": [
        "y_pred_classes = np.argmax(y_pred, axis = 1) "
      ],
      "metadata": {
        "id": "j9VTU9349DHY"
      },
      "execution_count": null,
      "outputs": []
    },
    {
      "cell_type": "code",
      "source": [
        "y_true = np.argmax(testY_dx, axis = 1) "
      ],
      "metadata": {
        "id": "Ac7UkSn99F3Y"
      },
      "execution_count": null,
      "outputs": []
    },
    {
      "cell_type": "code",
      "source": [
        "#class wise precision and recall metrics and overall accuracy, as well as class wise accuracies calculated from (TP+TN)/(TP+TN+FP+FN)"
      ],
      "metadata": {
        "id": "CA5--fjisugz"
      },
      "execution_count": null,
      "outputs": []
    },
    {
      "cell_type": "code",
      "source": [
        "from sklearn.metrics import classification_report\n",
        "\n",
        "report = classification_report(y_true, y_pred_classes, target_names = ['Akiec', 'Bcc', 'Bkl', 'Df', 'Mel', 'Nv', 'Vasc'])\n",
        "print(report)"
      ],
      "metadata": {
        "colab": {
          "base_uri": "https://localhost:8080/"
        },
        "id": "u8Eia2c2QXOY",
        "outputId": "4f1f189a-3fbc-4380-801e-2229ef58776e"
      },
      "execution_count": null,
      "outputs": [
        {
          "output_type": "stream",
          "name": "stdout",
          "text": [
            "              precision    recall  f1-score   support\n",
            "\n",
            "       Akiec       0.46      0.23      0.31        91\n",
            "         Bcc       0.75      0.34      0.47       132\n",
            "         Bkl       0.37      0.55      0.44       271\n",
            "          Df       0.23      0.30      0.26        30\n",
            "         Mel       0.44      0.43      0.43       277\n",
            "          Nv       0.86      0.86      0.86      1669\n",
            "        Vasc       0.72      0.38      0.50        34\n",
            "\n",
            "    accuracy                           0.72      2504\n",
            "   macro avg       0.55      0.44      0.47      2504\n",
            "weighted avg       0.73      0.72      0.72      2504\n",
            "\n"
          ]
        }
      ]
    },
    {
      "cell_type": "code",
      "source": [
        "model_accuracy = metrics.accuracy_score(y_true, y_pred_classes)\n",
        "print(model_accuracy)"
      ],
      "metadata": {
        "colab": {
          "base_uri": "https://localhost:8080/"
        },
        "id": "7Wb5HrJ0QYGr",
        "outputId": "66b59c7b-7d3e-4c62-ed21-b54aede00392"
      },
      "execution_count": null,
      "outputs": [
        {
          "output_type": "stream",
          "name": "stdout",
          "text": [
            "0.7184504792332268\n"
          ]
        }
      ]
    },
    {
      "cell_type": "code",
      "source": [
        "def classwise_accuracy():\n",
        "   a = pd.crosstab(y_true,y_pred_classes)\n",
        "   print(a.max(axis=1)/a.sum(axis=1))\n",
        "classwise_accuracy()"
      ],
      "metadata": {
        "colab": {
          "base_uri": "https://localhost:8080/"
        },
        "id": "bezS-BFWQarF",
        "outputId": "5a48c18f-6064-4421-bade-3f2bb4152332"
      },
      "execution_count": null,
      "outputs": [
        {
          "output_type": "stream",
          "name": "stdout",
          "text": [
            "row_0\n",
            "0    0.329670\n",
            "1    0.340909\n",
            "2    0.549815\n",
            "3    0.300000\n",
            "4    0.429603\n",
            "5    0.864590\n",
            "6    0.441176\n",
            "dtype: float64\n"
          ]
        }
      ]
    },
    {
      "cell_type": "code",
      "source": [
        "#confusion matrix and percent misclassified"
      ],
      "metadata": {
        "id": "Ebn4gCWItJ6g"
      },
      "execution_count": null,
      "outputs": []
    },
    {
      "cell_type": "code",
      "source": [
        "cm = confusion_matrix(y_true, y_pred_classes)\n",
        "fig, ax = plt.subplots(figsize=(10,10))\n",
        "sns.set(font_scale=1.6)\n",
        "sns.heatmap(cm, annot=True, linewidths=.5, ax=ax)"
      ],
      "metadata": {
        "colab": {
          "base_uri": "https://localhost:8080/",
          "height": 610
        },
        "id": "Nz-2wZo29L0E",
        "outputId": "29a1865d-363d-407e-da5d-e26b1ed3c4cf"
      },
      "execution_count": null,
      "outputs": [
        {
          "output_type": "execute_result",
          "data": {
            "text/plain": [
              "<matplotlib.axes._subplots.AxesSubplot at 0x7f653c463ad0>"
            ]
          },
          "metadata": {},
          "execution_count": 32
        },
        {
          "output_type": "display_data",
          "data": {
            "text/plain": [
              "<Figure size 720x720 with 2 Axes>"
            ],
            "image/png": "[encoded data removed]"
          },
          "metadata": {
            "needs_background": "light"
          }
        }
      ]
    },
    {
      "cell_type": "code",
      "source": [
        "incorr_fraction = 1 - np.diag(cm) / np.sum(cm, axis=1)\n",
        "\n",
        "incorr_fraction = incorr_fraction.tolist()\n",
        "\n",
        "incorr_fraction = [round(item, 2) for item in incorr_fraction]\n",
        "\n",
        "incorr_fraction"
      ],
      "metadata": {
        "colab": {
          "base_uri": "https://localhost:8080/"
        },
        "id": "CwQ5aAfX9Pyq",
        "outputId": "35d8e048-458a-41ab-ee5e-925f3a4a47b3"
      },
      "execution_count": null,
      "outputs": [
        {
          "output_type": "execute_result",
          "data": {
            "text/plain": [
              "[0.77, 0.66, 0.45, 0.7, 0.57, 0.14, 0.62]"
            ]
          },
          "metadata": {},
          "execution_count": 33
        }
      ]
    },
    {
      "cell_type": "code",
      "source": [
        "def addlabels(x,y):\n",
        "    for i in range(len(x)):\n",
        "        plt.text(i, y[i], y[i], ha = 'center')\n",
        "  \n",
        "if __name__ == '__main__':\n",
        "  plt.bar(np.arange(7), incorr_fraction)\n",
        "  addlabels(np.arange(7), incorr_fraction)\n",
        "  plt.title(\"Fraction Misclassified per Diagnosis Label\")\n",
        "  plt.xlabel('True Label')\n",
        "  plt.ylabel('Fraction of incorrect predictions')"
      ],
      "metadata": {
        "colab": {
          "base_uri": "https://localhost:8080/",
          "height": 343
        },
        "id": "F3dYYxJp9Sd8",
        "outputId": "429e5344-8002-446f-a358-6b8f70020174"
      },
      "execution_count": null,
      "outputs": [
        {
          "output_type": "display_data",
          "data": {
            "text/plain": [
              "<Figure size 432x288 with 1 Axes>"
            ],
            "image/png": "[encoded data removed]"
          },
          "metadata": {}
        }
      ]
    }
  ]
}