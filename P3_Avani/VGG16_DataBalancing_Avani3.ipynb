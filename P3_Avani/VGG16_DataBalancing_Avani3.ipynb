{
  "nbformat": 4,
  "nbformat_minor": 0,
  "metadata": {
    "colab": {
      "provenance": [],
      "machine_shape": "hm"
    },
    "kernelspec": {
      "name": "python3",
      "display_name": "Python 3"
    },
    "language_info": {
      "name": "python"
    },
    "accelerator": "GPU",
    "gpuClass": "premium"
  },
  "cells": [
    {
      "cell_type": "code",
      "execution_count": null,
      "metadata": {
        "colab": {
          "base_uri": "https://localhost:8080/"
        },
        "id": "FA6E1eaM7xKL",
        "outputId": "7e93dcd9-d1c1-4138-af52-0daafb5e8268"
      },
      "outputs": [
        {
          "output_type": "stream",
          "name": "stderr",
          "text": [
            "/usr/local/lib/python3.7/dist-packages/ipykernel_launcher.py:7: TqdmDeprecationWarning: This function will be removed in tqdm==5.0.0\n",
            "Please use `tqdm.notebook.*` instead of `tqdm._tqdm_notebook.*`\n",
            "  import sys\n"
          ]
        }
      ],
      "source": [
        "#import statements\n",
        "import matplotlib.pyplot as plt\n",
        "import numpy as np\n",
        "import pandas as pd\n",
        "import os\n",
        "from glob import glob\n",
        "from tqdm._tqdm_notebook import tqdm_notebook as tqdm\n",
        "import seaborn as sns\n",
        "from PIL import Image\n",
        "import tensorflow as tf\n",
        "from google.colab import drive\n",
        "from sklearn.metrics import confusion_matrix\n",
        "import keras\n",
        "from keras.utils.np_utils import to_categorical \n",
        "from keras.models import Model\n",
        "from keras.models import Sequential\n",
        "from keras.layers import Dense, Dropout, Flatten, Conv2D, MaxPool2D, BatchNormalization, Activation, GlobalAveragePooling2D, ZeroPadding2D\n",
        "from keras.applications import vgg16\n",
        "from sklearn.model_selection import train_test_split\n",
        "from scipy import stats\n",
        "from sklearn import preprocessing\n",
        "from sklearn.preprocessing import LabelEncoder\n",
        "from sklearn.utils import resample\n",
        "from tensorflow.keras.models import Model"
      ]
    },
    {
      "cell_type": "code",
      "source": [
        "drive.mount('/content/drive')"
      ],
      "metadata": {
        "colab": {
          "base_uri": "https://localhost:8080/"
        },
        "id": "siP3-iKN8BxM",
        "outputId": "8a84f674-339d-48e5-c7ca-e77fed6a15e4"
      },
      "execution_count": null,
      "outputs": [
        {
          "output_type": "stream",
          "name": "stdout",
          "text": [
            "Mounted at /content/drive\n"
          ]
        }
      ]
    },
    {
      "cell_type": "code",
      "source": [
        "! unzip '/content/drive/MyDrive/HAM10000_metadata_gc.zip'"
      ],
      "metadata": {
        "colab": {
          "base_uri": "https://localhost:8080/"
        },
        "id": "RjbbyMtK8Edi",
        "outputId": "14486ab5-4f41-43c9-dc51-ecf3935abb30"
      },
      "execution_count": null,
      "outputs": [
        {
          "output_type": "stream",
          "name": "stdout",
          "text": [
            "Archive:  /content/drive/MyDrive/HAM10000_metadata_gc.zip\n",
            "  inflating: HAM10000_metadata       \n"
          ]
        }
      ]
    },
    {
      "cell_type": "code",
      "source": [
        "! unzip '/content/drive/MyDrive/HAM10000_images_part_1_gc'"
      ],
      "metadata": {
        "id": "jd6Bv23_8HJa"
      },
      "execution_count": null,
      "outputs": []
    },
    {
      "cell_type": "code",
      "source": [
        "! unzip '/content/drive/MyDrive/HAM10000_images_part_2_gc'"
      ],
      "metadata": {
        "id": "BSqBeWk88Jok"
      },
      "execution_count": null,
      "outputs": []
    },
    {
      "cell_type": "code",
      "source": [
        "md = pd.read_csv(\"/content/HAM10000_metadata\")\n",
        "md"
      ],
      "metadata": {
        "id": "tlbUGRLM8Mto"
      },
      "execution_count": null,
      "outputs": []
    },
    {
      "cell_type": "code",
      "source": [
        "#vgg16 model accepts images of 224X224X3\n",
        "im_size = 224"
      ],
      "metadata": {
        "id": "CvqNrM3o8Peu"
      },
      "execution_count": null,
      "outputs": []
    },
    {
      "cell_type": "code",
      "source": [
        "#set aside a portion of full dataset for testing\n",
        "dxs = md[\"dx\"].unique()\n",
        "\n",
        "ldxs = {}\n",
        "\n",
        "for dx, group in md.groupby(\"dx\"):\n",
        "    ldxs[dx] = []\n",
        "    images = list(group[\"image_id\"])\n",
        "    np.random.shuffle(images)\n",
        "    for i in range(75):\n",
        "        ldxs[dx].append(images[i])"
      ],
      "metadata": {
        "id": "P7WngMNo8SOv"
      },
      "execution_count": null,
      "outputs": []
    },
    {
      "cell_type": "code",
      "source": [
        "ts = pd.DataFrame.from_dict(ldxs, orient='index')\n",
        "ts = ts.T\n",
        "ts"
      ],
      "metadata": {
        "id": "3LOSPFjJ8ZYr"
      },
      "execution_count": null,
      "outputs": []
    },
    {
      "cell_type": "code",
      "source": [
        "t_akiec_imid = ts.akiec.values.tolist()\n",
        "t_akiec_dx = ['akiec'] * 75\n",
        "ts_aikec = pd.DataFrame(list(zip(t_akiec_imid, t_akiec_dx)), columns=['image_id', 'dx'])\n",
        "\n",
        "t_bcc_imid = ts.bcc.values.tolist()\n",
        "t_bcc_dx = ['bcc'] * 75\n",
        "ts_bcc = pd.DataFrame(list(zip(t_bcc_imid, t_bcc_dx)), columns=['image_id', 'dx'])\n",
        "\n",
        "t_bkl_imid = ts.bkl.values.tolist()\n",
        "t_bkl_dx = ['bkl'] * 75\n",
        "ts_bkl = pd.DataFrame(list(zip(t_bkl_imid, t_bkl_dx)), columns=['image_id', 'dx'])\n",
        "\n",
        "t_df_imid = ts.df.values.tolist()\n",
        "t_df_dx = ['df'] * 75\n",
        "ts_df = pd.DataFrame(list(zip(t_df_imid, t_df_dx)), columns=['image_id', 'dx'])\n",
        "\n",
        "t_mel_imid = ts.mel.values.tolist()\n",
        "t_mel_dx = ['mel'] * 75\n",
        "ts_mel = pd.DataFrame(list(zip(t_mel_imid, t_mel_dx)), columns=['image_id', 'dx'])\n",
        "\n",
        "t_nv_imid = ts.nv.values.tolist()\n",
        "t_nv_dx = ['nv'] * 75\n",
        "ts_nv = pd.DataFrame(list(zip(t_nv_imid, t_nv_dx)), columns=['image_id', 'dx'])\n",
        "\n",
        "t_vasc_imid = ts.vasc.values.tolist()\n",
        "t_vasc_dx = ['vasc'] * 75\n",
        "ts_vasc = pd.DataFrame(list(zip(t_vasc_imid, t_vasc_dx)), columns=['image_id', 'dx'])\n",
        "\n",
        "ts_balanced = pd.concat([ts_aikec, ts_bcc, ts_bkl, ts_df, ts_mel, ts_nv, ts_vasc])\n",
        "ts_balanced"
      ],
      "metadata": {
        "id": "DQ5GEpNx8cH0"
      },
      "execution_count": null,
      "outputs": []
    },
    {
      "cell_type": "code",
      "source": [
        "cond = md['image_id'].isin(ts_balanced['image_id'])\n",
        "trainset = md.drop(md[cond].index)\n",
        "\n",
        "trainset"
      ],
      "metadata": {
        "id": "t58qG1fa8fBm"
      },
      "execution_count": null,
      "outputs": []
    },
    {
      "cell_type": "code",
      "source": [
        "#label encoding: going from text to numerical\n",
        "lab_enc = LabelEncoder()\n",
        "lab_enc.fit(trainset['dx'])\n",
        "LabelEncoder()\n",
        "print(list(lab_enc.classes_))"
      ],
      "metadata": {
        "colab": {
          "base_uri": "https://localhost:8080/"
        },
        "id": "-YZlaBwh8hTK",
        "outputId": "7c6172d8-a1c1-48a7-9eef-e572f14946e1"
      },
      "execution_count": null,
      "outputs": [
        {
          "output_type": "stream",
          "name": "stdout",
          "text": [
            "['akiec', 'bcc', 'bkl', 'df', 'mel', 'nv', 'vasc']\n"
          ]
        }
      ]
    },
    {
      "cell_type": "code",
      "source": [
        "lab_enc = LabelEncoder()\n",
        "lab_enc.fit(ts_balanced['dx'])\n",
        "LabelEncoder()\n",
        "print(list(lab_enc.classes_))"
      ],
      "metadata": {
        "colab": {
          "base_uri": "https://localhost:8080/"
        },
        "id": "kvtiIYO_8kD_",
        "outputId": "cacbcaad-5a62-4ead-84d8-de8fe52f28a5"
      },
      "execution_count": null,
      "outputs": [
        {
          "output_type": "stream",
          "name": "stdout",
          "text": [
            "['akiec', 'bcc', 'bkl', 'df', 'mel', 'nv', 'vasc']\n"
          ]
        }
      ]
    },
    {
      "cell_type": "code",
      "source": [
        "#label column in md - diagnosis and numerical label in one dataset\n",
        "trainset['label'] = lab_enc.transform(trainset[\"dx\"]) \n",
        "ts_balanced['label'] = lab_enc.transform(ts_balanced[\"dx\"]) \n",
        "trainset"
      ],
      "metadata": {
        "id": "AWY4iVvl8mg-"
      },
      "execution_count": null,
      "outputs": []
    },
    {
      "cell_type": "code",
      "source": [
        "ts_balanced"
      ],
      "metadata": {
        "colab": {
          "base_uri": "https://localhost:8080/",
          "height": 423
        },
        "id": "Hk4AOOu98orK",
        "outputId": "84ce44ad-1d0a-420e-a9b1-5dc4b911296b"
      },
      "execution_count": null,
      "outputs": [
        {
          "output_type": "execute_result",
          "data": {
            "text/plain": [
              "        image_id     dx  label\n",
              "0   ISIC_0030991  akiec      0\n",
              "1   ISIC_0031043  akiec      0\n",
              "2   ISIC_0026194  akiec      0\n",
              "3   ISIC_0033550  akiec      0\n",
              "4   ISIC_0029417  akiec      0\n",
              "..           ...    ...    ...\n",
              "70  ISIC_0027888   vasc      6\n",
              "71  ISIC_0025873   vasc      6\n",
              "72  ISIC_0031996   vasc      6\n",
              "73  ISIC_0024867   vasc      6\n",
              "74  ISIC_0029877   vasc      6\n",
              "\n",
              "[525 rows x 3 columns]"
            ],
            "text/html": [
              "\n",
              "  <div id=\"df-320d019c-a136-46e7-88d8-6d88b88c9a2b\">\n",
              "    <div class=\"colab-df-container\">\n",
              "      <div>\n",
              "<style scoped>\n",
              "    .dataframe tbody tr th:only-of-type {\n",
              "        vertical-align: middle;\n",
              "    }\n",
              "\n",
              "    .dataframe tbody tr th {\n",
              "        vertical-align: top;\n",
              "    }\n",
              "\n",
              "    .dataframe thead th {\n",
              "        text-align: right;\n",
              "    }\n",
              "</style>\n",
              "<table border=\"1\" class=\"dataframe\">\n",
              "  <thead>\n",
              "    <tr style=\"text-align: right;\">\n",
              "      <th></th>\n",
              "      <th>image_id</th>\n",
              "      <th>dx</th>\n",
              "      <th>label</th>\n",
              "    </tr>\n",
              "  </thead>\n",
              "  <tbody>\n",
              "    <tr>\n",
              "      <th>0</th>\n",
              "      <td>ISIC_0030991</td>\n",
              "      <td>akiec</td>\n",
              "      <td>0</td>\n",
              "    </tr>\n",
              "    <tr>\n",
              "      <th>1</th>\n",
              "      <td>ISIC_0031043</td>\n",
              "      <td>akiec</td>\n",
              "      <td>0</td>\n",
              "    </tr>\n",
              "    <tr>\n",
              "      <th>2</th>\n",
              "      <td>ISIC_0026194</td>\n",
              "      <td>akiec</td>\n",
              "      <td>0</td>\n",
              "    </tr>\n",
              "    <tr>\n",
              "      <th>3</th>\n",
              "      <td>ISIC_0033550</td>\n",
              "      <td>akiec</td>\n",
              "      <td>0</td>\n",
              "    </tr>\n",
              "    <tr>\n",
              "      <th>4</th>\n",
              "      <td>ISIC_0029417</td>\n",
              "      <td>akiec</td>\n",
              "      <td>0</td>\n",
              "    </tr>\n",
              "    <tr>\n",
              "      <th>...</th>\n",
              "      <td>...</td>\n",
              "      <td>...</td>\n",
              "      <td>...</td>\n",
              "    </tr>\n",
              "    <tr>\n",
              "      <th>70</th>\n",
              "      <td>ISIC_0027888</td>\n",
              "      <td>vasc</td>\n",
              "      <td>6</td>\n",
              "    </tr>\n",
              "    <tr>\n",
              "      <th>71</th>\n",
              "      <td>ISIC_0025873</td>\n",
              "      <td>vasc</td>\n",
              "      <td>6</td>\n",
              "    </tr>\n",
              "    <tr>\n",
              "      <th>72</th>\n",
              "      <td>ISIC_0031996</td>\n",
              "      <td>vasc</td>\n",
              "      <td>6</td>\n",
              "    </tr>\n",
              "    <tr>\n",
              "      <th>73</th>\n",
              "      <td>ISIC_0024867</td>\n",
              "      <td>vasc</td>\n",
              "      <td>6</td>\n",
              "    </tr>\n",
              "    <tr>\n",
              "      <th>74</th>\n",
              "      <td>ISIC_0029877</td>\n",
              "      <td>vasc</td>\n",
              "      <td>6</td>\n",
              "    </tr>\n",
              "  </tbody>\n",
              "</table>\n",
              "<p>525 rows × 3 columns</p>\n",
              "</div>\n",
              "      <button class=\"colab-df-convert\" onclick=\"convertToInteractive('df-320d019c-a136-46e7-88d8-6d88b88c9a2b')\"\n",
              "              title=\"Convert this dataframe to an interactive table.\"\n",
              "              style=\"display:none;\">\n",
              "        \n",
              "  <svg xmlns=\"http://www.w3.org/2000/svg\" height=\"24px\"viewBox=\"0 0 24 24\"\n",
              "       width=\"24px\">\n",
              "    <path d=\"M0 0h24v24H0V0z\" fill=\"none\"/>\n",
              "    <path d=\"M18.56 5.44l.94 2.06.94-2.06 2.06-.94-2.06-.94-.94-2.06-.94 2.06-2.06.94zm-11 1L8.5 8.5l.94-2.06 2.06-.94-2.06-.94L8.5 2.5l-.94 2.06-2.06.94zm10 10l.94 2.06.94-2.06 2.06-.94-2.06-.94-.94-2.06-.94 2.06-2.06.94z\"/><path d=\"M17.41 7.96l-1.37-1.37c-.4-.4-.92-.59-1.43-.59-.52 0-1.04.2-1.43.59L10.3 9.45l-7.72 7.72c-.78.78-.78 2.05 0 2.83L4 21.41c.39.39.9.59 1.41.59.51 0 1.02-.2 1.41-.59l7.78-7.78 2.81-2.81c.8-.78.8-2.07 0-2.86zM5.41 20L4 18.59l7.72-7.72 1.47 1.35L5.41 20z\"/>\n",
              "  </svg>\n",
              "      </button>\n",
              "      \n",
              "  <style>\n",
              "    .colab-df-container {\n",
              "      display:flex;\n",
              "      flex-wrap:wrap;\n",
              "      gap: 12px;\n",
              "    }\n",
              "\n",
              "    .colab-df-convert {\n",
              "      background-color: #E8F0FE;\n",
              "      border: none;\n",
              "      border-radius: 50%;\n",
              "      cursor: pointer;\n",
              "      display: none;\n",
              "      fill: #1967D2;\n",
              "      height: 32px;\n",
              "      padding: 0 0 0 0;\n",
              "      width: 32px;\n",
              "    }\n",
              "\n",
              "    .colab-df-convert:hover {\n",
              "      background-color: #E2EBFA;\n",
              "      box-shadow: 0px 1px 2px rgba(60, 64, 67, 0.3), 0px 1px 3px 1px rgba(60, 64, 67, 0.15);\n",
              "      fill: #174EA6;\n",
              "    }\n",
              "\n",
              "    [theme=dark] .colab-df-convert {\n",
              "      background-color: #3B4455;\n",
              "      fill: #D2E3FC;\n",
              "    }\n",
              "\n",
              "    [theme=dark] .colab-df-convert:hover {\n",
              "      background-color: #434B5C;\n",
              "      box-shadow: 0px 1px 3px 1px rgba(0, 0, 0, 0.15);\n",
              "      filter: drop-shadow(0px 1px 2px rgba(0, 0, 0, 0.3));\n",
              "      fill: #FFFFFF;\n",
              "    }\n",
              "  </style>\n",
              "\n",
              "      <script>\n",
              "        const buttonEl =\n",
              "          document.querySelector('#df-320d019c-a136-46e7-88d8-6d88b88c9a2b button.colab-df-convert');\n",
              "        buttonEl.style.display =\n",
              "          google.colab.kernel.accessAllowed ? 'block' : 'none';\n",
              "\n",
              "        async function convertToInteractive(key) {\n",
              "          const element = document.querySelector('#df-320d019c-a136-46e7-88d8-6d88b88c9a2b');\n",
              "          const dataTable =\n",
              "            await google.colab.kernel.invokeFunction('convertToInteractive',\n",
              "                                                     [key], {});\n",
              "          if (!dataTable) return;\n",
              "\n",
              "          const docLinkHtml = 'Like what you see? Visit the ' +\n",
              "            '<a target=\"_blank\" href=https://colab.research.google.com/notebooks/data_table.ipynb>data table notebook</a>'\n",
              "            + ' to learn more about interactive tables.';\n",
              "          element.innerHTML = '';\n",
              "          dataTable['output_type'] = 'display_data';\n",
              "          await google.colab.output.renderOutput(dataTable, element);\n",
              "          const docLink = document.createElement('div');\n",
              "          docLink.innerHTML = docLinkHtml;\n",
              "          element.appendChild(docLink);\n",
              "        }\n",
              "      </script>\n",
              "    </div>\n",
              "  </div>\n",
              "  "
            ]
          },
          "metadata": {},
          "execution_count": 15
        }
      ]
    },
    {
      "cell_type": "code",
      "source": [
        "#get all file paths and make a new column\n",
        "fldr1 = '/content/HAM10000_images_part_1'\n",
        "fldr2 = '/content/HAM10000_images_part_2'\n",
        "\n",
        "im_paths = []\n",
        "\n",
        "for i in trainset['image_id']:\n",
        "  fid = i\n",
        "\n",
        "  fn = '/' + fid + '.jpg'\n",
        "\n",
        "  if os.path.isfile(fldr1 + fn) == True:\n",
        "    im_paths.append(fldr1+fn)\n",
        "  else:\n",
        "    im_paths.append(fldr2+fn)"
      ],
      "metadata": {
        "id": "k0fMgq4J8rH4"
      },
      "execution_count": null,
      "outputs": []
    },
    {
      "cell_type": "code",
      "source": [
        "trainset['image_paths'] = im_paths\n",
        "\n",
        "trainset"
      ],
      "metadata": {
        "colab": {
          "base_uri": "https://localhost:8080/",
          "height": 423
        },
        "id": "TUFrbY7R8t1y",
        "outputId": "44cb828a-25fe-4cf5-aafa-9d1a5f31e34b"
      },
      "execution_count": null,
      "outputs": [
        {
          "output_type": "execute_result",
          "data": {
            "text/plain": [
              "         lesion_id      image_id     dx dx_type   age     sex  \\\n",
              "0      HAM_0000118  ISIC_0027419    bkl   histo  80.0    male   \n",
              "1      HAM_0000118  ISIC_0025030    bkl   histo  80.0    male   \n",
              "2      HAM_0002730  ISIC_0026769    bkl   histo  80.0    male   \n",
              "3      HAM_0002730  ISIC_0025661    bkl   histo  80.0    male   \n",
              "4      HAM_0001466  ISIC_0031633    bkl   histo  75.0    male   \n",
              "...            ...           ...    ...     ...   ...     ...   \n",
              "10009  HAM_0005705  ISIC_0031430  akiec   histo  75.0  female   \n",
              "10010  HAM_0002867  ISIC_0033084  akiec   histo  40.0    male   \n",
              "10012  HAM_0002867  ISIC_0033536  akiec   histo  40.0    male   \n",
              "10013  HAM_0000239  ISIC_0032854  akiec   histo  80.0    male   \n",
              "10014  HAM_0003521  ISIC_0032258    mel   histo  70.0  female   \n",
              "\n",
              "          localization       dataset  label  \\\n",
              "0                scalp  vidir_modern      2   \n",
              "1                scalp  vidir_modern      2   \n",
              "2                scalp  vidir_modern      2   \n",
              "3                scalp  vidir_modern      2   \n",
              "4                  ear  vidir_modern      2   \n",
              "...                ...           ...    ...   \n",
              "10009  lower extremity  vidir_modern      0   \n",
              "10010          abdomen  vidir_modern      0   \n",
              "10012          abdomen  vidir_modern      0   \n",
              "10013             face  vidir_modern      0   \n",
              "10014             back  vidir_modern      4   \n",
              "\n",
              "                                            image_paths  \n",
              "0      /content/HAM10000_images_part_1/ISIC_0027419.jpg  \n",
              "1      /content/HAM10000_images_part_1/ISIC_0025030.jpg  \n",
              "2      /content/HAM10000_images_part_1/ISIC_0026769.jpg  \n",
              "3      /content/HAM10000_images_part_1/ISIC_0025661.jpg  \n",
              "4      /content/HAM10000_images_part_2/ISIC_0031633.jpg  \n",
              "...                                                 ...  \n",
              "10009  /content/HAM10000_images_part_2/ISIC_0031430.jpg  \n",
              "10010  /content/HAM10000_images_part_2/ISIC_0033084.jpg  \n",
              "10012  /content/HAM10000_images_part_2/ISIC_0033536.jpg  \n",
              "10013  /content/HAM10000_images_part_2/ISIC_0032854.jpg  \n",
              "10014  /content/HAM10000_images_part_2/ISIC_0032258.jpg  \n",
              "\n",
              "[9490 rows x 10 columns]"
            ],
            "text/html": [
              "\n",
              "  <div id=\"df-6ad88805-4514-4356-8b0a-dfb79a953dd7\">\n",
              "    <div class=\"colab-df-container\">\n",
              "      <div>\n",
              "<style scoped>\n",
              "    .dataframe tbody tr th:only-of-type {\n",
              "        vertical-align: middle;\n",
              "    }\n",
              "\n",
              "    .dataframe tbody tr th {\n",
              "        vertical-align: top;\n",
              "    }\n",
              "\n",
              "    .dataframe thead th {\n",
              "        text-align: right;\n",
              "    }\n",
              "</style>\n",
              "<table border=\"1\" class=\"dataframe\">\n",
              "  <thead>\n",
              "    <tr style=\"text-align: right;\">\n",
              "      <th></th>\n",
              "      <th>lesion_id</th>\n",
              "      <th>image_id</th>\n",
              "      <th>dx</th>\n",
              "      <th>dx_type</th>\n",
              "      <th>age</th>\n",
              "      <th>sex</th>\n",
              "      <th>localization</th>\n",
              "      <th>dataset</th>\n",
              "      <th>label</th>\n",
              "      <th>image_paths</th>\n",
              "    </tr>\n",
              "  </thead>\n",
              "  <tbody>\n",
              "    <tr>\n",
              "      <th>0</th>\n",
              "      <td>HAM_0000118</td>\n",
              "      <td>ISIC_0027419</td>\n",
              "      <td>bkl</td>\n",
              "      <td>histo</td>\n",
              "      <td>80.0</td>\n",
              "      <td>male</td>\n",
              "      <td>scalp</td>\n",
              "      <td>vidir_modern</td>\n",
              "      <td>2</td>\n",
              "      <td>/content/HAM10000_images_part_1/ISIC_0027419.jpg</td>\n",
              "    </tr>\n",
              "    <tr>\n",
              "      <th>1</th>\n",
              "      <td>HAM_0000118</td>\n",
              "      <td>ISIC_0025030</td>\n",
              "      <td>bkl</td>\n",
              "      <td>histo</td>\n",
              "      <td>80.0</td>\n",
              "      <td>male</td>\n",
              "      <td>scalp</td>\n",
              "      <td>vidir_modern</td>\n",
              "      <td>2</td>\n",
              "      <td>/content/HAM10000_images_part_1/ISIC_0025030.jpg</td>\n",
              "    </tr>\n",
              "    <tr>\n",
              "      <th>2</th>\n",
              "      <td>HAM_0002730</td>\n",
              "      <td>ISIC_0026769</td>\n",
              "      <td>bkl</td>\n",
              "      <td>histo</td>\n",
              "      <td>80.0</td>\n",
              "      <td>male</td>\n",
              "      <td>scalp</td>\n",
              "      <td>vidir_modern</td>\n",
              "      <td>2</td>\n",
              "      <td>/content/HAM10000_images_part_1/ISIC_0026769.jpg</td>\n",
              "    </tr>\n",
              "    <tr>\n",
              "      <th>3</th>\n",
              "      <td>HAM_0002730</td>\n",
              "      <td>ISIC_0025661</td>\n",
              "      <td>bkl</td>\n",
              "      <td>histo</td>\n",
              "      <td>80.0</td>\n",
              "      <td>male</td>\n",
              "      <td>scalp</td>\n",
              "      <td>vidir_modern</td>\n",
              "      <td>2</td>\n",
              "      <td>/content/HAM10000_images_part_1/ISIC_0025661.jpg</td>\n",
              "    </tr>\n",
              "    <tr>\n",
              "      <th>4</th>\n",
              "      <td>HAM_0001466</td>\n",
              "      <td>ISIC_0031633</td>\n",
              "      <td>bkl</td>\n",
              "      <td>histo</td>\n",
              "      <td>75.0</td>\n",
              "      <td>male</td>\n",
              "      <td>ear</td>\n",
              "      <td>vidir_modern</td>\n",
              "      <td>2</td>\n",
              "      <td>/content/HAM10000_images_part_2/ISIC_0031633.jpg</td>\n",
              "    </tr>\n",
              "    <tr>\n",
              "      <th>...</th>\n",
              "      <td>...</td>\n",
              "      <td>...</td>\n",
              "      <td>...</td>\n",
              "      <td>...</td>\n",
              "      <td>...</td>\n",
              "      <td>...</td>\n",
              "      <td>...</td>\n",
              "      <td>...</td>\n",
              "      <td>...</td>\n",
              "      <td>...</td>\n",
              "    </tr>\n",
              "    <tr>\n",
              "      <th>10009</th>\n",
              "      <td>HAM_0005705</td>\n",
              "      <td>ISIC_0031430</td>\n",
              "      <td>akiec</td>\n",
              "      <td>histo</td>\n",
              "      <td>75.0</td>\n",
              "      <td>female</td>\n",
              "      <td>lower extremity</td>\n",
              "      <td>vidir_modern</td>\n",
              "      <td>0</td>\n",
              "      <td>/content/HAM10000_images_part_2/ISIC_0031430.jpg</td>\n",
              "    </tr>\n",
              "    <tr>\n",
              "      <th>10010</th>\n",
              "      <td>HAM_0002867</td>\n",
              "      <td>ISIC_0033084</td>\n",
              "      <td>akiec</td>\n",
              "      <td>histo</td>\n",
              "      <td>40.0</td>\n",
              "      <td>male</td>\n",
              "      <td>abdomen</td>\n",
              "      <td>vidir_modern</td>\n",
              "      <td>0</td>\n",
              "      <td>/content/HAM10000_images_part_2/ISIC_0033084.jpg</td>\n",
              "    </tr>\n",
              "    <tr>\n",
              "      <th>10012</th>\n",
              "      <td>HAM_0002867</td>\n",
              "      <td>ISIC_0033536</td>\n",
              "      <td>akiec</td>\n",
              "      <td>histo</td>\n",
              "      <td>40.0</td>\n",
              "      <td>male</td>\n",
              "      <td>abdomen</td>\n",
              "      <td>vidir_modern</td>\n",
              "      <td>0</td>\n",
              "      <td>/content/HAM10000_images_part_2/ISIC_0033536.jpg</td>\n",
              "    </tr>\n",
              "    <tr>\n",
              "      <th>10013</th>\n",
              "      <td>HAM_0000239</td>\n",
              "      <td>ISIC_0032854</td>\n",
              "      <td>akiec</td>\n",
              "      <td>histo</td>\n",
              "      <td>80.0</td>\n",
              "      <td>male</td>\n",
              "      <td>face</td>\n",
              "      <td>vidir_modern</td>\n",
              "      <td>0</td>\n",
              "      <td>/content/HAM10000_images_part_2/ISIC_0032854.jpg</td>\n",
              "    </tr>\n",
              "    <tr>\n",
              "      <th>10014</th>\n",
              "      <td>HAM_0003521</td>\n",
              "      <td>ISIC_0032258</td>\n",
              "      <td>mel</td>\n",
              "      <td>histo</td>\n",
              "      <td>70.0</td>\n",
              "      <td>female</td>\n",
              "      <td>back</td>\n",
              "      <td>vidir_modern</td>\n",
              "      <td>4</td>\n",
              "      <td>/content/HAM10000_images_part_2/ISIC_0032258.jpg</td>\n",
              "    </tr>\n",
              "  </tbody>\n",
              "</table>\n",
              "<p>9490 rows × 10 columns</p>\n",
              "</div>\n",
              "      <button class=\"colab-df-convert\" onclick=\"convertToInteractive('df-6ad88805-4514-4356-8b0a-dfb79a953dd7')\"\n",
              "              title=\"Convert this dataframe to an interactive table.\"\n",
              "              style=\"display:none;\">\n",
              "        \n",
              "  <svg xmlns=\"http://www.w3.org/2000/svg\" height=\"24px\"viewBox=\"0 0 24 24\"\n",
              "       width=\"24px\">\n",
              "    <path d=\"M0 0h24v24H0V0z\" fill=\"none\"/>\n",
              "    <path d=\"M18.56 5.44l.94 2.06.94-2.06 2.06-.94-2.06-.94-.94-2.06-.94 2.06-2.06.94zm-11 1L8.5 8.5l.94-2.06 2.06-.94-2.06-.94L8.5 2.5l-.94 2.06-2.06.94zm10 10l.94 2.06.94-2.06 2.06-.94-2.06-.94-.94-2.06-.94 2.06-2.06.94z\"/><path d=\"M17.41 7.96l-1.37-1.37c-.4-.4-.92-.59-1.43-.59-.52 0-1.04.2-1.43.59L10.3 9.45l-7.72 7.72c-.78.78-.78 2.05 0 2.83L4 21.41c.39.39.9.59 1.41.59.51 0 1.02-.2 1.41-.59l7.78-7.78 2.81-2.81c.8-.78.8-2.07 0-2.86zM5.41 20L4 18.59l7.72-7.72 1.47 1.35L5.41 20z\"/>\n",
              "  </svg>\n",
              "      </button>\n",
              "      \n",
              "  <style>\n",
              "    .colab-df-container {\n",
              "      display:flex;\n",
              "      flex-wrap:wrap;\n",
              "      gap: 12px;\n",
              "    }\n",
              "\n",
              "    .colab-df-convert {\n",
              "      background-color: #E8F0FE;\n",
              "      border: none;\n",
              "      border-radius: 50%;\n",
              "      cursor: pointer;\n",
              "      display: none;\n",
              "      fill: #1967D2;\n",
              "      height: 32px;\n",
              "      padding: 0 0 0 0;\n",
              "      width: 32px;\n",
              "    }\n",
              "\n",
              "    .colab-df-convert:hover {\n",
              "      background-color: #E2EBFA;\n",
              "      box-shadow: 0px 1px 2px rgba(60, 64, 67, 0.3), 0px 1px 3px 1px rgba(60, 64, 67, 0.15);\n",
              "      fill: #174EA6;\n",
              "    }\n",
              "\n",
              "    [theme=dark] .colab-df-convert {\n",
              "      background-color: #3B4455;\n",
              "      fill: #D2E3FC;\n",
              "    }\n",
              "\n",
              "    [theme=dark] .colab-df-convert:hover {\n",
              "      background-color: #434B5C;\n",
              "      box-shadow: 0px 1px 3px 1px rgba(0, 0, 0, 0.15);\n",
              "      filter: drop-shadow(0px 1px 2px rgba(0, 0, 0, 0.3));\n",
              "      fill: #FFFFFF;\n",
              "    }\n",
              "  </style>\n",
              "\n",
              "      <script>\n",
              "        const buttonEl =\n",
              "          document.querySelector('#df-6ad88805-4514-4356-8b0a-dfb79a953dd7 button.colab-df-convert');\n",
              "        buttonEl.style.display =\n",
              "          google.colab.kernel.accessAllowed ? 'block' : 'none';\n",
              "\n",
              "        async function convertToInteractive(key) {\n",
              "          const element = document.querySelector('#df-6ad88805-4514-4356-8b0a-dfb79a953dd7');\n",
              "          const dataTable =\n",
              "            await google.colab.kernel.invokeFunction('convertToInteractive',\n",
              "                                                     [key], {});\n",
              "          if (!dataTable) return;\n",
              "\n",
              "          const docLinkHtml = 'Like what you see? Visit the ' +\n",
              "            '<a target=\"_blank\" href=https://colab.research.google.com/notebooks/data_table.ipynb>data table notebook</a>'\n",
              "            + ' to learn more about interactive tables.';\n",
              "          element.innerHTML = '';\n",
              "          dataTable['output_type'] = 'display_data';\n",
              "          await google.colab.output.renderOutput(dataTable, element);\n",
              "          const docLink = document.createElement('div');\n",
              "          docLink.innerHTML = docLinkHtml;\n",
              "          element.appendChild(docLink);\n",
              "        }\n",
              "      </script>\n",
              "    </div>\n",
              "  </div>\n",
              "  "
            ]
          },
          "metadata": {},
          "execution_count": 17
        }
      ]
    },
    {
      "cell_type": "code",
      "source": [
        "fldr1 = '/content/HAM10000_images_part_1'\n",
        "fldr2 = '/content/HAM10000_images_part_2'\n",
        "\n",
        "im_paths2 = []\n",
        "\n",
        "for i in ts_balanced['image_id']:\n",
        "  fid = i\n",
        "\n",
        "  fn = '/' + fid + '.jpg'\n",
        "\n",
        "  if os.path.isfile(fldr1 + fn) == True:\n",
        "    im_paths2.append(fldr1+fn)\n",
        "  else:\n",
        "    im_paths2.append(fldr2+fn)"
      ],
      "metadata": {
        "id": "95Al43Y58v10"
      },
      "execution_count": null,
      "outputs": []
    },
    {
      "cell_type": "code",
      "source": [
        "ts_balanced['image_paths'] = im_paths2\n",
        "ts_balanced"
      ],
      "metadata": {
        "colab": {
          "base_uri": "https://localhost:8080/",
          "height": 423
        },
        "id": "UX4a5pAC8yZc",
        "outputId": "14c4cfbc-6280-4246-a921-809ba4cc0d3b"
      },
      "execution_count": null,
      "outputs": [
        {
          "output_type": "execute_result",
          "data": {
            "text/plain": [
              "        image_id     dx  label  \\\n",
              "0   ISIC_0030991  akiec      0   \n",
              "1   ISIC_0031043  akiec      0   \n",
              "2   ISIC_0026194  akiec      0   \n",
              "3   ISIC_0033550  akiec      0   \n",
              "4   ISIC_0029417  akiec      0   \n",
              "..           ...    ...    ...   \n",
              "70  ISIC_0027888   vasc      6   \n",
              "71  ISIC_0025873   vasc      6   \n",
              "72  ISIC_0031996   vasc      6   \n",
              "73  ISIC_0024867   vasc      6   \n",
              "74  ISIC_0029877   vasc      6   \n",
              "\n",
              "                                         image_paths  \n",
              "0   /content/HAM10000_images_part_2/ISIC_0030991.jpg  \n",
              "1   /content/HAM10000_images_part_2/ISIC_0031043.jpg  \n",
              "2   /content/HAM10000_images_part_1/ISIC_0026194.jpg  \n",
              "3   /content/HAM10000_images_part_2/ISIC_0033550.jpg  \n",
              "4   /content/HAM10000_images_part_2/ISIC_0029417.jpg  \n",
              "..                                               ...  \n",
              "70  /content/HAM10000_images_part_1/ISIC_0027888.jpg  \n",
              "71  /content/HAM10000_images_part_1/ISIC_0025873.jpg  \n",
              "72  /content/HAM10000_images_part_2/ISIC_0031996.jpg  \n",
              "73  /content/HAM10000_images_part_1/ISIC_0024867.jpg  \n",
              "74  /content/HAM10000_images_part_2/ISIC_0029877.jpg  \n",
              "\n",
              "[525 rows x 4 columns]"
            ],
            "text/html": [
              "\n",
              "  <div id=\"df-6a51d2a3-3dde-4066-bbe4-2d974d3ad465\">\n",
              "    <div class=\"colab-df-container\">\n",
              "      <div>\n",
              "<style scoped>\n",
              "    .dataframe tbody tr th:only-of-type {\n",
              "        vertical-align: middle;\n",
              "    }\n",
              "\n",
              "    .dataframe tbody tr th {\n",
              "        vertical-align: top;\n",
              "    }\n",
              "\n",
              "    .dataframe thead th {\n",
              "        text-align: right;\n",
              "    }\n",
              "</style>\n",
              "<table border=\"1\" class=\"dataframe\">\n",
              "  <thead>\n",
              "    <tr style=\"text-align: right;\">\n",
              "      <th></th>\n",
              "      <th>image_id</th>\n",
              "      <th>dx</th>\n",
              "      <th>label</th>\n",
              "      <th>image_paths</th>\n",
              "    </tr>\n",
              "  </thead>\n",
              "  <tbody>\n",
              "    <tr>\n",
              "      <th>0</th>\n",
              "      <td>ISIC_0030991</td>\n",
              "      <td>akiec</td>\n",
              "      <td>0</td>\n",
              "      <td>/content/HAM10000_images_part_2/ISIC_0030991.jpg</td>\n",
              "    </tr>\n",
              "    <tr>\n",
              "      <th>1</th>\n",
              "      <td>ISIC_0031043</td>\n",
              "      <td>akiec</td>\n",
              "      <td>0</td>\n",
              "      <td>/content/HAM10000_images_part_2/ISIC_0031043.jpg</td>\n",
              "    </tr>\n",
              "    <tr>\n",
              "      <th>2</th>\n",
              "      <td>ISIC_0026194</td>\n",
              "      <td>akiec</td>\n",
              "      <td>0</td>\n",
              "      <td>/content/HAM10000_images_part_1/ISIC_0026194.jpg</td>\n",
              "    </tr>\n",
              "    <tr>\n",
              "      <th>3</th>\n",
              "      <td>ISIC_0033550</td>\n",
              "      <td>akiec</td>\n",
              "      <td>0</td>\n",
              "      <td>/content/HAM10000_images_part_2/ISIC_0033550.jpg</td>\n",
              "    </tr>\n",
              "    <tr>\n",
              "      <th>4</th>\n",
              "      <td>ISIC_0029417</td>\n",
              "      <td>akiec</td>\n",
              "      <td>0</td>\n",
              "      <td>/content/HAM10000_images_part_2/ISIC_0029417.jpg</td>\n",
              "    </tr>\n",
              "    <tr>\n",
              "      <th>...</th>\n",
              "      <td>...</td>\n",
              "      <td>...</td>\n",
              "      <td>...</td>\n",
              "      <td>...</td>\n",
              "    </tr>\n",
              "    <tr>\n",
              "      <th>70</th>\n",
              "      <td>ISIC_0027888</td>\n",
              "      <td>vasc</td>\n",
              "      <td>6</td>\n",
              "      <td>/content/HAM10000_images_part_1/ISIC_0027888.jpg</td>\n",
              "    </tr>\n",
              "    <tr>\n",
              "      <th>71</th>\n",
              "      <td>ISIC_0025873</td>\n",
              "      <td>vasc</td>\n",
              "      <td>6</td>\n",
              "      <td>/content/HAM10000_images_part_1/ISIC_0025873.jpg</td>\n",
              "    </tr>\n",
              "    <tr>\n",
              "      <th>72</th>\n",
              "      <td>ISIC_0031996</td>\n",
              "      <td>vasc</td>\n",
              "      <td>6</td>\n",
              "      <td>/content/HAM10000_images_part_2/ISIC_0031996.jpg</td>\n",
              "    </tr>\n",
              "    <tr>\n",
              "      <th>73</th>\n",
              "      <td>ISIC_0024867</td>\n",
              "      <td>vasc</td>\n",
              "      <td>6</td>\n",
              "      <td>/content/HAM10000_images_part_1/ISIC_0024867.jpg</td>\n",
              "    </tr>\n",
              "    <tr>\n",
              "      <th>74</th>\n",
              "      <td>ISIC_0029877</td>\n",
              "      <td>vasc</td>\n",
              "      <td>6</td>\n",
              "      <td>/content/HAM10000_images_part_2/ISIC_0029877.jpg</td>\n",
              "    </tr>\n",
              "  </tbody>\n",
              "</table>\n",
              "<p>525 rows × 4 columns</p>\n",
              "</div>\n",
              "      <button class=\"colab-df-convert\" onclick=\"convertToInteractive('df-6a51d2a3-3dde-4066-bbe4-2d974d3ad465')\"\n",
              "              title=\"Convert this dataframe to an interactive table.\"\n",
              "              style=\"display:none;\">\n",
              "        \n",
              "  <svg xmlns=\"http://www.w3.org/2000/svg\" height=\"24px\"viewBox=\"0 0 24 24\"\n",
              "       width=\"24px\">\n",
              "    <path d=\"M0 0h24v24H0V0z\" fill=\"none\"/>\n",
              "    <path d=\"M18.56 5.44l.94 2.06.94-2.06 2.06-.94-2.06-.94-.94-2.06-.94 2.06-2.06.94zm-11 1L8.5 8.5l.94-2.06 2.06-.94-2.06-.94L8.5 2.5l-.94 2.06-2.06.94zm10 10l.94 2.06.94-2.06 2.06-.94-2.06-.94-.94-2.06-.94 2.06-2.06.94z\"/><path d=\"M17.41 7.96l-1.37-1.37c-.4-.4-.92-.59-1.43-.59-.52 0-1.04.2-1.43.59L10.3 9.45l-7.72 7.72c-.78.78-.78 2.05 0 2.83L4 21.41c.39.39.9.59 1.41.59.51 0 1.02-.2 1.41-.59l7.78-7.78 2.81-2.81c.8-.78.8-2.07 0-2.86zM5.41 20L4 18.59l7.72-7.72 1.47 1.35L5.41 20z\"/>\n",
              "  </svg>\n",
              "      </button>\n",
              "      \n",
              "  <style>\n",
              "    .colab-df-container {\n",
              "      display:flex;\n",
              "      flex-wrap:wrap;\n",
              "      gap: 12px;\n",
              "    }\n",
              "\n",
              "    .colab-df-convert {\n",
              "      background-color: #E8F0FE;\n",
              "      border: none;\n",
              "      border-radius: 50%;\n",
              "      cursor: pointer;\n",
              "      display: none;\n",
              "      fill: #1967D2;\n",
              "      height: 32px;\n",
              "      padding: 0 0 0 0;\n",
              "      width: 32px;\n",
              "    }\n",
              "\n",
              "    .colab-df-convert:hover {\n",
              "      background-color: #E2EBFA;\n",
              "      box-shadow: 0px 1px 2px rgba(60, 64, 67, 0.3), 0px 1px 3px 1px rgba(60, 64, 67, 0.15);\n",
              "      fill: #174EA6;\n",
              "    }\n",
              "\n",
              "    [theme=dark] .colab-df-convert {\n",
              "      background-color: #3B4455;\n",
              "      fill: #D2E3FC;\n",
              "    }\n",
              "\n",
              "    [theme=dark] .colab-df-convert:hover {\n",
              "      background-color: #434B5C;\n",
              "      box-shadow: 0px 1px 3px 1px rgba(0, 0, 0, 0.15);\n",
              "      filter: drop-shadow(0px 1px 2px rgba(0, 0, 0, 0.3));\n",
              "      fill: #FFFFFF;\n",
              "    }\n",
              "  </style>\n",
              "\n",
              "      <script>\n",
              "        const buttonEl =\n",
              "          document.querySelector('#df-6a51d2a3-3dde-4066-bbe4-2d974d3ad465 button.colab-df-convert');\n",
              "        buttonEl.style.display =\n",
              "          google.colab.kernel.accessAllowed ? 'block' : 'none';\n",
              "\n",
              "        async function convertToInteractive(key) {\n",
              "          const element = document.querySelector('#df-6a51d2a3-3dde-4066-bbe4-2d974d3ad465');\n",
              "          const dataTable =\n",
              "            await google.colab.kernel.invokeFunction('convertToInteractive',\n",
              "                                                     [key], {});\n",
              "          if (!dataTable) return;\n",
              "\n",
              "          const docLinkHtml = 'Like what you see? Visit the ' +\n",
              "            '<a target=\"_blank\" href=https://colab.research.google.com/notebooks/data_table.ipynb>data table notebook</a>'\n",
              "            + ' to learn more about interactive tables.';\n",
              "          element.innerHTML = '';\n",
              "          dataTable['output_type'] = 'display_data';\n",
              "          await google.colab.output.renderOutput(dataTable, element);\n",
              "          const docLink = document.createElement('div');\n",
              "          docLink.innerHTML = docLinkHtml;\n",
              "          element.appendChild(docLink);\n",
              "        }\n",
              "      </script>\n",
              "    </div>\n",
              "  </div>\n",
              "  "
            ]
          },
          "metadata": {},
          "execution_count": 19
        }
      ]
    },
    {
      "cell_type": "code",
      "source": [
        "#seperate data into diagnoses\n",
        "dx_0 = trainset[trainset['label'] == 0]\n",
        "dx_1 = trainset[trainset['label'] == 1]\n",
        "dx_2 = trainset[trainset['label'] == 2]\n",
        "dx_3 = trainset[trainset['label'] == 3]\n",
        "dx_4 = trainset[trainset['label'] == 4]\n",
        "dx_5 = trainset[trainset['label'] == 5]\n",
        "dx_6 = trainset[trainset['label'] == 6]"
      ],
      "metadata": {
        "id": "3cCVXXUx80c7"
      },
      "execution_count": null,
      "outputs": []
    },
    {
      "cell_type": "code",
      "source": [
        "from pandas.core.common import random_state\n",
        "#subset and random resample of data by diagnosis\n",
        "n = 1000\n",
        "dx_0_balanced = resample(dx_0, replace=True, n_samples=n, random_state=42) \n",
        "dx_1_balanced = resample(dx_1, replace=True, n_samples=n, random_state=42) \n",
        "dx_2_balanced = resample(dx_2, replace=True, n_samples=n, random_state=42)\n",
        "dx_3_balanced = resample(dx_3, replace=True, n_samples=n, random_state=42)\n",
        "dx_4_balanced = resample(dx_4, replace=True, n_samples=n, random_state=42)\n",
        "dx_5_balanced = resample(dx_5, replace=True, n_samples=n, random_state=42)\n",
        "dx_6_balanced = resample(dx_6, replace=True, n_samples=n, random_state=42)"
      ],
      "metadata": {
        "id": "yVW-NcTB87w4"
      },
      "execution_count": null,
      "outputs": []
    },
    {
      "cell_type": "code",
      "source": [
        "trainset_balanced = pd.concat([dx_0_balanced, dx_1_balanced, dx_2_balanced, dx_3_balanced, dx_4_balanced, dx_5_balanced, dx_6_balanced])\n",
        "\n",
        "trainset_balanced"
      ],
      "metadata": {
        "colab": {
          "base_uri": "https://localhost:8080/",
          "height": 423
        },
        "id": "IFk9rFBf8-yb",
        "outputId": "d417dc8f-dcf2-47cb-c776-16036148f20b"
      },
      "execution_count": null,
      "outputs": [
        {
          "output_type": "execute_result",
          "data": {
            "text/plain": [
              "        lesion_id      image_id     dx    dx_type   age     sex  \\\n",
              "9821  HAM_0007008  ISIC_0031292  akiec      histo  60.0    male   \n",
              "9915  HAM_0005718  ISIC_0029549  akiec      histo  70.0    male   \n",
              "9808  HAM_0002705  ISIC_0027178  akiec      histo  65.0    male   \n",
              "9707  HAM_0005931  ISIC_0031191  akiec      histo  60.0    male   \n",
              "9828  HAM_0003380  ISIC_0027343  akiec      histo  75.0  female   \n",
              "...           ...           ...    ...        ...   ...     ...   \n",
              "2329  HAM_0002914  ISIC_0024904   vasc      histo  75.0    male   \n",
              "2376  HAM_0007097  ISIC_0033230   vasc      histo  60.0    male   \n",
              "2436  HAM_0004943  ISIC_0027790   vasc  consensus  50.0  female   \n",
              "2380  HAM_0001852  ISIC_0034196   vasc      histo  80.0    male   \n",
              "2394  HAM_0007020  ISIC_0031719   vasc  consensus  75.0  female   \n",
              "\n",
              "         localization        dataset  label  \\\n",
              "9821             hand      rosendahl      0   \n",
              "9915             back      rosendahl      0   \n",
              "9808            scalp      rosendahl      0   \n",
              "9707  lower extremity      rosendahl      0   \n",
              "9828  lower extremity      rosendahl      0   \n",
              "...               ...            ...    ...   \n",
              "2329  upper extremity   vidir_modern      6   \n",
              "2376            trunk   vidir_modern      6   \n",
              "2436             face  vidir_molemax      6   \n",
              "2380  lower extremity   vidir_modern      6   \n",
              "2394             hand   vidir_modern      6   \n",
              "\n",
              "                                           image_paths  \n",
              "9821  /content/HAM10000_images_part_2/ISIC_0031292.jpg  \n",
              "9915  /content/HAM10000_images_part_2/ISIC_0029549.jpg  \n",
              "9808  /content/HAM10000_images_part_1/ISIC_0027178.jpg  \n",
              "9707  /content/HAM10000_images_part_2/ISIC_0031191.jpg  \n",
              "9828  /content/HAM10000_images_part_1/ISIC_0027343.jpg  \n",
              "...                                                ...  \n",
              "2329  /content/HAM10000_images_part_1/ISIC_0024904.jpg  \n",
              "2376  /content/HAM10000_images_part_2/ISIC_0033230.jpg  \n",
              "2436  /content/HAM10000_images_part_1/ISIC_0027790.jpg  \n",
              "2380  /content/HAM10000_images_part_2/ISIC_0034196.jpg  \n",
              "2394  /content/HAM10000_images_part_2/ISIC_0031719.jpg  \n",
              "\n",
              "[7000 rows x 10 columns]"
            ],
            "text/html": [
              "\n",
              "  <div id=\"df-39adcd0e-3a5c-4b0a-87b1-049865872859\">\n",
              "    <div class=\"colab-df-container\">\n",
              "      <div>\n",
              "<style scoped>\n",
              "    .dataframe tbody tr th:only-of-type {\n",
              "        vertical-align: middle;\n",
              "    }\n",
              "\n",
              "    .dataframe tbody tr th {\n",
              "        vertical-align: top;\n",
              "    }\n",
              "\n",
              "    .dataframe thead th {\n",
              "        text-align: right;\n",
              "    }\n",
              "</style>\n",
              "<table border=\"1\" class=\"dataframe\">\n",
              "  <thead>\n",
              "    <tr style=\"text-align: right;\">\n",
              "      <th></th>\n",
              "      <th>lesion_id</th>\n",
              "      <th>image_id</th>\n",
              "      <th>dx</th>\n",
              "      <th>dx_type</th>\n",
              "      <th>age</th>\n",
              "      <th>sex</th>\n",
              "      <th>localization</th>\n",
              "      <th>dataset</th>\n",
              "      <th>label</th>\n",
              "      <th>image_paths</th>\n",
              "    </tr>\n",
              "  </thead>\n",
              "  <tbody>\n",
              "    <tr>\n",
              "      <th>9821</th>\n",
              "      <td>HAM_0007008</td>\n",
              "      <td>ISIC_0031292</td>\n",
              "      <td>akiec</td>\n",
              "      <td>histo</td>\n",
              "      <td>60.0</td>\n",
              "      <td>male</td>\n",
              "      <td>hand</td>\n",
              "      <td>rosendahl</td>\n",
              "      <td>0</td>\n",
              "      <td>/content/HAM10000_images_part_2/ISIC_0031292.jpg</td>\n",
              "    </tr>\n",
              "    <tr>\n",
              "      <th>9915</th>\n",
              "      <td>HAM_0005718</td>\n",
              "      <td>ISIC_0029549</td>\n",
              "      <td>akiec</td>\n",
              "      <td>histo</td>\n",
              "      <td>70.0</td>\n",
              "      <td>male</td>\n",
              "      <td>back</td>\n",
              "      <td>rosendahl</td>\n",
              "      <td>0</td>\n",
              "      <td>/content/HAM10000_images_part_2/ISIC_0029549.jpg</td>\n",
              "    </tr>\n",
              "    <tr>\n",
              "      <th>9808</th>\n",
              "      <td>HAM_0002705</td>\n",
              "      <td>ISIC_0027178</td>\n",
              "      <td>akiec</td>\n",
              "      <td>histo</td>\n",
              "      <td>65.0</td>\n",
              "      <td>male</td>\n",
              "      <td>scalp</td>\n",
              "      <td>rosendahl</td>\n",
              "      <td>0</td>\n",
              "      <td>/content/HAM10000_images_part_1/ISIC_0027178.jpg</td>\n",
              "    </tr>\n",
              "    <tr>\n",
              "      <th>9707</th>\n",
              "      <td>HAM_0005931</td>\n",
              "      <td>ISIC_0031191</td>\n",
              "      <td>akiec</td>\n",
              "      <td>histo</td>\n",
              "      <td>60.0</td>\n",
              "      <td>male</td>\n",
              "      <td>lower extremity</td>\n",
              "      <td>rosendahl</td>\n",
              "      <td>0</td>\n",
              "      <td>/content/HAM10000_images_part_2/ISIC_0031191.jpg</td>\n",
              "    </tr>\n",
              "    <tr>\n",
              "      <th>9828</th>\n",
              "      <td>HAM_0003380</td>\n",
              "      <td>ISIC_0027343</td>\n",
              "      <td>akiec</td>\n",
              "      <td>histo</td>\n",
              "      <td>75.0</td>\n",
              "      <td>female</td>\n",
              "      <td>lower extremity</td>\n",
              "      <td>rosendahl</td>\n",
              "      <td>0</td>\n",
              "      <td>/content/HAM10000_images_part_1/ISIC_0027343.jpg</td>\n",
              "    </tr>\n",
              "    <tr>\n",
              "      <th>...</th>\n",
              "      <td>...</td>\n",
              "      <td>...</td>\n",
              "      <td>...</td>\n",
              "      <td>...</td>\n",
              "      <td>...</td>\n",
              "      <td>...</td>\n",
              "      <td>...</td>\n",
              "      <td>...</td>\n",
              "      <td>...</td>\n",
              "      <td>...</td>\n",
              "    </tr>\n",
              "    <tr>\n",
              "      <th>2329</th>\n",
              "      <td>HAM_0002914</td>\n",
              "      <td>ISIC_0024904</td>\n",
              "      <td>vasc</td>\n",
              "      <td>histo</td>\n",
              "      <td>75.0</td>\n",
              "      <td>male</td>\n",
              "      <td>upper extremity</td>\n",
              "      <td>vidir_modern</td>\n",
              "      <td>6</td>\n",
              "      <td>/content/HAM10000_images_part_1/ISIC_0024904.jpg</td>\n",
              "    </tr>\n",
              "    <tr>\n",
              "      <th>2376</th>\n",
              "      <td>HAM_0007097</td>\n",
              "      <td>ISIC_0033230</td>\n",
              "      <td>vasc</td>\n",
              "      <td>histo</td>\n",
              "      <td>60.0</td>\n",
              "      <td>male</td>\n",
              "      <td>trunk</td>\n",
              "      <td>vidir_modern</td>\n",
              "      <td>6</td>\n",
              "      <td>/content/HAM10000_images_part_2/ISIC_0033230.jpg</td>\n",
              "    </tr>\n",
              "    <tr>\n",
              "      <th>2436</th>\n",
              "      <td>HAM_0004943</td>\n",
              "      <td>ISIC_0027790</td>\n",
              "      <td>vasc</td>\n",
              "      <td>consensus</td>\n",
              "      <td>50.0</td>\n",
              "      <td>female</td>\n",
              "      <td>face</td>\n",
              "      <td>vidir_molemax</td>\n",
              "      <td>6</td>\n",
              "      <td>/content/HAM10000_images_part_1/ISIC_0027790.jpg</td>\n",
              "    </tr>\n",
              "    <tr>\n",
              "      <th>2380</th>\n",
              "      <td>HAM_0001852</td>\n",
              "      <td>ISIC_0034196</td>\n",
              "      <td>vasc</td>\n",
              "      <td>histo</td>\n",
              "      <td>80.0</td>\n",
              "      <td>male</td>\n",
              "      <td>lower extremity</td>\n",
              "      <td>vidir_modern</td>\n",
              "      <td>6</td>\n",
              "      <td>/content/HAM10000_images_part_2/ISIC_0034196.jpg</td>\n",
              "    </tr>\n",
              "    <tr>\n",
              "      <th>2394</th>\n",
              "      <td>HAM_0007020</td>\n",
              "      <td>ISIC_0031719</td>\n",
              "      <td>vasc</td>\n",
              "      <td>consensus</td>\n",
              "      <td>75.0</td>\n",
              "      <td>female</td>\n",
              "      <td>hand</td>\n",
              "      <td>vidir_modern</td>\n",
              "      <td>6</td>\n",
              "      <td>/content/HAM10000_images_part_2/ISIC_0031719.jpg</td>\n",
              "    </tr>\n",
              "  </tbody>\n",
              "</table>\n",
              "<p>7000 rows × 10 columns</p>\n",
              "</div>\n",
              "      <button class=\"colab-df-convert\" onclick=\"convertToInteractive('df-39adcd0e-3a5c-4b0a-87b1-049865872859')\"\n",
              "              title=\"Convert this dataframe to an interactive table.\"\n",
              "              style=\"display:none;\">\n",
              "        \n",
              "  <svg xmlns=\"http://www.w3.org/2000/svg\" height=\"24px\"viewBox=\"0 0 24 24\"\n",
              "       width=\"24px\">\n",
              "    <path d=\"M0 0h24v24H0V0z\" fill=\"none\"/>\n",
              "    <path d=\"M18.56 5.44l.94 2.06.94-2.06 2.06-.94-2.06-.94-.94-2.06-.94 2.06-2.06.94zm-11 1L8.5 8.5l.94-2.06 2.06-.94-2.06-.94L8.5 2.5l-.94 2.06-2.06.94zm10 10l.94 2.06.94-2.06 2.06-.94-2.06-.94-.94-2.06-.94 2.06-2.06.94z\"/><path d=\"M17.41 7.96l-1.37-1.37c-.4-.4-.92-.59-1.43-.59-.52 0-1.04.2-1.43.59L10.3 9.45l-7.72 7.72c-.78.78-.78 2.05 0 2.83L4 21.41c.39.39.9.59 1.41.59.51 0 1.02-.2 1.41-.59l7.78-7.78 2.81-2.81c.8-.78.8-2.07 0-2.86zM5.41 20L4 18.59l7.72-7.72 1.47 1.35L5.41 20z\"/>\n",
              "  </svg>\n",
              "      </button>\n",
              "      \n",
              "  <style>\n",
              "    .colab-df-container {\n",
              "      display:flex;\n",
              "      flex-wrap:wrap;\n",
              "      gap: 12px;\n",
              "    }\n",
              "\n",
              "    .colab-df-convert {\n",
              "      background-color: #E8F0FE;\n",
              "      border: none;\n",
              "      border-radius: 50%;\n",
              "      cursor: pointer;\n",
              "      display: none;\n",
              "      fill: #1967D2;\n",
              "      height: 32px;\n",
              "      padding: 0 0 0 0;\n",
              "      width: 32px;\n",
              "    }\n",
              "\n",
              "    .colab-df-convert:hover {\n",
              "      background-color: #E2EBFA;\n",
              "      box-shadow: 0px 1px 2px rgba(60, 64, 67, 0.3), 0px 1px 3px 1px rgba(60, 64, 67, 0.15);\n",
              "      fill: #174EA6;\n",
              "    }\n",
              "\n",
              "    [theme=dark] .colab-df-convert {\n",
              "      background-color: #3B4455;\n",
              "      fill: #D2E3FC;\n",
              "    }\n",
              "\n",
              "    [theme=dark] .colab-df-convert:hover {\n",
              "      background-color: #434B5C;\n",
              "      box-shadow: 0px 1px 3px 1px rgba(0, 0, 0, 0.15);\n",
              "      filter: drop-shadow(0px 1px 2px rgba(0, 0, 0, 0.3));\n",
              "      fill: #FFFFFF;\n",
              "    }\n",
              "  </style>\n",
              "\n",
              "      <script>\n",
              "        const buttonEl =\n",
              "          document.querySelector('#df-39adcd0e-3a5c-4b0a-87b1-049865872859 button.colab-df-convert');\n",
              "        buttonEl.style.display =\n",
              "          google.colab.kernel.accessAllowed ? 'block' : 'none';\n",
              "\n",
              "        async function convertToInteractive(key) {\n",
              "          const element = document.querySelector('#df-39adcd0e-3a5c-4b0a-87b1-049865872859');\n",
              "          const dataTable =\n",
              "            await google.colab.kernel.invokeFunction('convertToInteractive',\n",
              "                                                     [key], {});\n",
              "          if (!dataTable) return;\n",
              "\n",
              "          const docLinkHtml = 'Like what you see? Visit the ' +\n",
              "            '<a target=\"_blank\" href=https://colab.research.google.com/notebooks/data_table.ipynb>data table notebook</a>'\n",
              "            + ' to learn more about interactive tables.';\n",
              "          element.innerHTML = '';\n",
              "          dataTable['output_type'] = 'display_data';\n",
              "          await google.colab.output.renderOutput(dataTable, element);\n",
              "          const docLink = document.createElement('div');\n",
              "          docLink.innerHTML = docLinkHtml;\n",
              "          element.appendChild(docLink);\n",
              "        }\n",
              "      </script>\n",
              "    </div>\n",
              "  </div>\n",
              "  "
            ]
          },
          "metadata": {},
          "execution_count": 22
        }
      ]
    },
    {
      "cell_type": "code",
      "source": [
        "#turn images to array and add as a new column \n",
        "trainset_balanced['image'] = trainset_balanced['image_paths'].map(lambda x: np.asarray(Image.open(x).resize((im_size,im_size))))"
      ],
      "metadata": {
        "id": "-t44_kZb9Bjw"
      },
      "execution_count": null,
      "outputs": []
    },
    {
      "cell_type": "code",
      "source": [
        "ts_balanced['image'] = ts_balanced['image_paths'].map(lambda x: np.asarray(Image.open(x).resize((im_size,im_size))))\n",
        "\n",
        "ts_balanced"
      ],
      "metadata": {
        "colab": {
          "base_uri": "https://localhost:8080/",
          "height": 423
        },
        "id": "QPpZ9xL29EeK",
        "outputId": "74537bbf-fd35-4c22-8fa7-71cf66a027e5"
      },
      "execution_count": null,
      "outputs": [
        {
          "output_type": "execute_result",
          "data": {
            "text/plain": [
              "        image_id     dx  label  \\\n",
              "0   ISIC_0030991  akiec      0   \n",
              "1   ISIC_0031043  akiec      0   \n",
              "2   ISIC_0026194  akiec      0   \n",
              "3   ISIC_0033550  akiec      0   \n",
              "4   ISIC_0029417  akiec      0   \n",
              "..           ...    ...    ...   \n",
              "70  ISIC_0027888   vasc      6   \n",
              "71  ISIC_0025873   vasc      6   \n",
              "72  ISIC_0031996   vasc      6   \n",
              "73  ISIC_0024867   vasc      6   \n",
              "74  ISIC_0029877   vasc      6   \n",
              "\n",
              "                                         image_paths  \\\n",
              "0   /content/HAM10000_images_part_2/ISIC_0030991.jpg   \n",
              "1   /content/HAM10000_images_part_2/ISIC_0031043.jpg   \n",
              "2   /content/HAM10000_images_part_1/ISIC_0026194.jpg   \n",
              "3   /content/HAM10000_images_part_2/ISIC_0033550.jpg   \n",
              "4   /content/HAM10000_images_part_2/ISIC_0029417.jpg   \n",
              "..                                               ...   \n",
              "70  /content/HAM10000_images_part_1/ISIC_0027888.jpg   \n",
              "71  /content/HAM10000_images_part_1/ISIC_0025873.jpg   \n",
              "72  /content/HAM10000_images_part_2/ISIC_0031996.jpg   \n",
              "73  /content/HAM10000_images_part_1/ISIC_0024867.jpg   \n",
              "74  /content/HAM10000_images_part_2/ISIC_0029877.jpg   \n",
              "\n",
              "                                                image  \n",
              "0   [[[156, 105, 100], [157, 106, 102], [165, 107,...  \n",
              "1   [[[157, 104, 117], [157, 106, 118], [154, 98, ...  \n",
              "2   [[[202, 181, 177], [201, 180, 177], [202, 181,...  \n",
              "3   [[[4, 6, 3], [5, 6, 3], [6, 6, 5], [7, 8, 4], ...  \n",
              "4   [[[30, 15, 17], [30, 15, 20], [33, 16, 20], [3...  \n",
              "..                                                ...  \n",
              "70  [[[199, 147, 146], [202, 147, 146], [199, 143,...  \n",
              "71  [[[190, 178, 179], [196, 184, 185], [201, 190,...  \n",
              "72  [[[223, 188, 197], [223, 187, 196], [222, 186,...  \n",
              "73  [[[198, 117, 124], [199, 119, 128], [201, 120,...  \n",
              "74  [[[234, 129, 143], [233, 128, 143], [233, 129,...  \n",
              "\n",
              "[525 rows x 5 columns]"
            ],
            "text/html": [
              "\n",
              "  <div id=\"df-a1e36c0d-39f5-4395-9d83-66e4fe1d7e5a\">\n",
              "    <div class=\"colab-df-container\">\n",
              "      <div>\n",
              "<style scoped>\n",
              "    .dataframe tbody tr th:only-of-type {\n",
              "        vertical-align: middle;\n",
              "    }\n",
              "\n",
              "    .dataframe tbody tr th {\n",
              "        vertical-align: top;\n",
              "    }\n",
              "\n",
              "    .dataframe thead th {\n",
              "        text-align: right;\n",
              "    }\n",
              "</style>\n",
              "<table border=\"1\" class=\"dataframe\">\n",
              "  <thead>\n",
              "    <tr style=\"text-align: right;\">\n",
              "      <th></th>\n",
              "      <th>image_id</th>\n",
              "      <th>dx</th>\n",
              "      <th>label</th>\n",
              "      <th>image_paths</th>\n",
              "      <th>image</th>\n",
              "    </tr>\n",
              "  </thead>\n",
              "  <tbody>\n",
              "    <tr>\n",
              "      <th>0</th>\n",
              "      <td>ISIC_0030991</td>\n",
              "      <td>akiec</td>\n",
              "      <td>0</td>\n",
              "      <td>/content/HAM10000_images_part_2/ISIC_0030991.jpg</td>\n",
              "      <td>[[[156, 105, 100], [157, 106, 102], [165, 107,...</td>\n",
              "    </tr>\n",
              "    <tr>\n",
              "      <th>1</th>\n",
              "      <td>ISIC_0031043</td>\n",
              "      <td>akiec</td>\n",
              "      <td>0</td>\n",
              "      <td>/content/HAM10000_images_part_2/ISIC_0031043.jpg</td>\n",
              "      <td>[[[157, 104, 117], [157, 106, 118], [154, 98, ...</td>\n",
              "    </tr>\n",
              "    <tr>\n",
              "      <th>2</th>\n",
              "      <td>ISIC_0026194</td>\n",
              "      <td>akiec</td>\n",
              "      <td>0</td>\n",
              "      <td>/content/HAM10000_images_part_1/ISIC_0026194.jpg</td>\n",
              "      <td>[[[202, 181, 177], [201, 180, 177], [202, 181,...</td>\n",
              "    </tr>\n",
              "    <tr>\n",
              "      <th>3</th>\n",
              "      <td>ISIC_0033550</td>\n",
              "      <td>akiec</td>\n",
              "      <td>0</td>\n",
              "      <td>/content/HAM10000_images_part_2/ISIC_0033550.jpg</td>\n",
              "      <td>[[[4, 6, 3], [5, 6, 3], [6, 6, 5], [7, 8, 4], ...</td>\n",
              "    </tr>\n",
              "    <tr>\n",
              "      <th>4</th>\n",
              "      <td>ISIC_0029417</td>\n",
              "      <td>akiec</td>\n",
              "      <td>0</td>\n",
              "      <td>/content/HAM10000_images_part_2/ISIC_0029417.jpg</td>\n",
              "      <td>[[[30, 15, 17], [30, 15, 20], [33, 16, 20], [3...</td>\n",
              "    </tr>\n",
              "    <tr>\n",
              "      <th>...</th>\n",
              "      <td>...</td>\n",
              "      <td>...</td>\n",
              "      <td>...</td>\n",
              "      <td>...</td>\n",
              "      <td>...</td>\n",
              "    </tr>\n",
              "    <tr>\n",
              "      <th>70</th>\n",
              "      <td>ISIC_0027888</td>\n",
              "      <td>vasc</td>\n",
              "      <td>6</td>\n",
              "      <td>/content/HAM10000_images_part_1/ISIC_0027888.jpg</td>\n",
              "      <td>[[[199, 147, 146], [202, 147, 146], [199, 143,...</td>\n",
              "    </tr>\n",
              "    <tr>\n",
              "      <th>71</th>\n",
              "      <td>ISIC_0025873</td>\n",
              "      <td>vasc</td>\n",
              "      <td>6</td>\n",
              "      <td>/content/HAM10000_images_part_1/ISIC_0025873.jpg</td>\n",
              "      <td>[[[190, 178, 179], [196, 184, 185], [201, 190,...</td>\n",
              "    </tr>\n",
              "    <tr>\n",
              "      <th>72</th>\n",
              "      <td>ISIC_0031996</td>\n",
              "      <td>vasc</td>\n",
              "      <td>6</td>\n",
              "      <td>/content/HAM10000_images_part_2/ISIC_0031996.jpg</td>\n",
              "      <td>[[[223, 188, 197], [223, 187, 196], [222, 186,...</td>\n",
              "    </tr>\n",
              "    <tr>\n",
              "      <th>73</th>\n",
              "      <td>ISIC_0024867</td>\n",
              "      <td>vasc</td>\n",
              "      <td>6</td>\n",
              "      <td>/content/HAM10000_images_part_1/ISIC_0024867.jpg</td>\n",
              "      <td>[[[198, 117, 124], [199, 119, 128], [201, 120,...</td>\n",
              "    </tr>\n",
              "    <tr>\n",
              "      <th>74</th>\n",
              "      <td>ISIC_0029877</td>\n",
              "      <td>vasc</td>\n",
              "      <td>6</td>\n",
              "      <td>/content/HAM10000_images_part_2/ISIC_0029877.jpg</td>\n",
              "      <td>[[[234, 129, 143], [233, 128, 143], [233, 129,...</td>\n",
              "    </tr>\n",
              "  </tbody>\n",
              "</table>\n",
              "<p>525 rows × 5 columns</p>\n",
              "</div>\n",
              "      <button class=\"colab-df-convert\" onclick=\"convertToInteractive('df-a1e36c0d-39f5-4395-9d83-66e4fe1d7e5a')\"\n",
              "              title=\"Convert this dataframe to an interactive table.\"\n",
              "              style=\"display:none;\">\n",
              "        \n",
              "  <svg xmlns=\"http://www.w3.org/2000/svg\" height=\"24px\"viewBox=\"0 0 24 24\"\n",
              "       width=\"24px\">\n",
              "    <path d=\"M0 0h24v24H0V0z\" fill=\"none\"/>\n",
              "    <path d=\"M18.56 5.44l.94 2.06.94-2.06 2.06-.94-2.06-.94-.94-2.06-.94 2.06-2.06.94zm-11 1L8.5 8.5l.94-2.06 2.06-.94-2.06-.94L8.5 2.5l-.94 2.06-2.06.94zm10 10l.94 2.06.94-2.06 2.06-.94-2.06-.94-.94-2.06-.94 2.06-2.06.94z\"/><path d=\"M17.41 7.96l-1.37-1.37c-.4-.4-.92-.59-1.43-.59-.52 0-1.04.2-1.43.59L10.3 9.45l-7.72 7.72c-.78.78-.78 2.05 0 2.83L4 21.41c.39.39.9.59 1.41.59.51 0 1.02-.2 1.41-.59l7.78-7.78 2.81-2.81c.8-.78.8-2.07 0-2.86zM5.41 20L4 18.59l7.72-7.72 1.47 1.35L5.41 20z\"/>\n",
              "  </svg>\n",
              "      </button>\n",
              "      \n",
              "  <style>\n",
              "    .colab-df-container {\n",
              "      display:flex;\n",
              "      flex-wrap:wrap;\n",
              "      gap: 12px;\n",
              "    }\n",
              "\n",
              "    .colab-df-convert {\n",
              "      background-color: #E8F0FE;\n",
              "      border: none;\n",
              "      border-radius: 50%;\n",
              "      cursor: pointer;\n",
              "      display: none;\n",
              "      fill: #1967D2;\n",
              "      height: 32px;\n",
              "      padding: 0 0 0 0;\n",
              "      width: 32px;\n",
              "    }\n",
              "\n",
              "    .colab-df-convert:hover {\n",
              "      background-color: #E2EBFA;\n",
              "      box-shadow: 0px 1px 2px rgba(60, 64, 67, 0.3), 0px 1px 3px 1px rgba(60, 64, 67, 0.15);\n",
              "      fill: #174EA6;\n",
              "    }\n",
              "\n",
              "    [theme=dark] .colab-df-convert {\n",
              "      background-color: #3B4455;\n",
              "      fill: #D2E3FC;\n",
              "    }\n",
              "\n",
              "    [theme=dark] .colab-df-convert:hover {\n",
              "      background-color: #434B5C;\n",
              "      box-shadow: 0px 1px 3px 1px rgba(0, 0, 0, 0.15);\n",
              "      filter: drop-shadow(0px 1px 2px rgba(0, 0, 0, 0.3));\n",
              "      fill: #FFFFFF;\n",
              "    }\n",
              "  </style>\n",
              "\n",
              "      <script>\n",
              "        const buttonEl =\n",
              "          document.querySelector('#df-a1e36c0d-39f5-4395-9d83-66e4fe1d7e5a button.colab-df-convert');\n",
              "        buttonEl.style.display =\n",
              "          google.colab.kernel.accessAllowed ? 'block' : 'none';\n",
              "\n",
              "        async function convertToInteractive(key) {\n",
              "          const element = document.querySelector('#df-a1e36c0d-39f5-4395-9d83-66e4fe1d7e5a');\n",
              "          const dataTable =\n",
              "            await google.colab.kernel.invokeFunction('convertToInteractive',\n",
              "                                                     [key], {});\n",
              "          if (!dataTable) return;\n",
              "\n",
              "          const docLinkHtml = 'Like what you see? Visit the ' +\n",
              "            '<a target=\"_blank\" href=https://colab.research.google.com/notebooks/data_table.ipynb>data table notebook</a>'\n",
              "            + ' to learn more about interactive tables.';\n",
              "          element.innerHTML = '';\n",
              "          dataTable['output_type'] = 'display_data';\n",
              "          await google.colab.output.renderOutput(dataTable, element);\n",
              "          const docLink = document.createElement('div');\n",
              "          docLink.innerHTML = docLinkHtml;\n",
              "          element.appendChild(docLink);\n",
              "        }\n",
              "      </script>\n",
              "    </div>\n",
              "  </div>\n",
              "  "
            ]
          },
          "metadata": {},
          "execution_count": 24
        }
      ]
    },
    {
      "cell_type": "code",
      "source": [
        "X_trainset = np.asarray(trainset_balanced['image'].tolist())\n",
        "X_trainset = X_trainset/255. \n",
        "Y_trainset = trainset_balanced['label']\n",
        "Y_dx_trainset = to_categorical(Y_trainset, num_classes=7)"
      ],
      "metadata": {
        "id": "6l0pILON9GZv"
      },
      "execution_count": null,
      "outputs": []
    },
    {
      "cell_type": "code",
      "source": [
        "X_ts = np.asarray(ts_balanced['image'].tolist())\n",
        "X_ts = X_ts/255. \n",
        "Y_ts = ts_balanced['label']\n",
        "Y_dx_ts = to_categorical(Y_ts, num_classes=7)"
      ],
      "metadata": {
        "id": "R9SsClMH9JHw"
      },
      "execution_count": null,
      "outputs": []
    },
    {
      "cell_type": "code",
      "source": [
        "#train/validation split - 70/30 split\n",
        "\n",
        "x_train, x_val, y_train, y_val = train_test_split(X_trainset, Y_dx_trainset, test_size=0.30, random_state=29)"
      ],
      "metadata": {
        "id": "d3Hw8qGi9M-B"
      },
      "execution_count": null,
      "outputs": []
    },
    {
      "cell_type": "code",
      "source": [
        "#GPU\n",
        "import tensorflow as tf\n",
        "tf.test.gpu_device_name()"
      ],
      "metadata": {
        "colab": {
          "base_uri": "https://localhost:8080/",
          "height": 36
        },
        "id": "tINjAL8E9jVB",
        "outputId": "b65fc966-6ab5-4359-bc4a-9e893667d39e"
      },
      "execution_count": null,
      "outputs": [
        {
          "output_type": "execute_result",
          "data": {
            "text/plain": [
              "'/device:GPU:0'"
            ],
            "application/vnd.google.colaboratory.intrinsic+json": {
              "type": "string"
            }
          },
          "metadata": {},
          "execution_count": 28
        }
      ]
    },
    {
      "cell_type": "code",
      "source": [
        "#model\n",
        "\n",
        "img_rows, img_cols = 224, 224 \n",
        "\n",
        "vgg_mod = vgg16.VGG16(weights = 'imagenet', \n",
        "                 include_top = False, \n",
        "                 input_shape = (img_rows, img_cols, 3))"
      ],
      "metadata": {
        "colab": {
          "base_uri": "https://localhost:8080/"
        },
        "id": "foA47NUo9ob4",
        "outputId": "19264be6-841e-497f-b0f0-054dc2f1775e"
      },
      "execution_count": null,
      "outputs": [
        {
          "output_type": "stream",
          "name": "stdout",
          "text": [
            "Downloading data from https://storage.googleapis.com/tensorflow/keras-applications/vgg16/vgg16_weights_tf_dim_ordering_tf_kernels_notop.h5\n",
            "58889256/58889256 [==============================] - 0s 0us/step\n"
          ]
        }
      ]
    },
    {
      "cell_type": "code",
      "source": [
        "#freeze last 4 layers\n",
        "for layer in vgg_mod.layers:\n",
        "    layer.trainable = False"
      ],
      "metadata": {
        "id": "P9z2_KuU9st3"
      },
      "execution_count": null,
      "outputs": []
    },
    {
      "cell_type": "code",
      "source": [
        "for (i,layer) in enumerate(vgg_mod.layers):\n",
        "    print(str(i) + \" \"+ layer.__class__.__name__, layer.trainable)"
      ],
      "metadata": {
        "colab": {
          "base_uri": "https://localhost:8080/"
        },
        "id": "07P-SDAV9vxW",
        "outputId": "370fd98c-7456-4d72-d206-1e4d937e30c8"
      },
      "execution_count": null,
      "outputs": [
        {
          "output_type": "stream",
          "name": "stdout",
          "text": [
            "0 InputLayer False\n",
            "1 Conv2D False\n",
            "2 Conv2D False\n",
            "3 MaxPooling2D False\n",
            "4 Conv2D False\n",
            "5 Conv2D False\n",
            "6 MaxPooling2D False\n",
            "7 Conv2D False\n",
            "8 Conv2D False\n",
            "9 Conv2D False\n",
            "10 MaxPooling2D False\n",
            "11 Conv2D False\n",
            "12 Conv2D False\n",
            "13 Conv2D False\n",
            "14 MaxPooling2D False\n",
            "15 Conv2D False\n",
            "16 Conv2D False\n",
            "17 Conv2D False\n",
            "18 MaxPooling2D False\n"
          ]
        }
      ]
    },
    {
      "cell_type": "code",
      "source": [
        "#top layers replaced by our own - 7 classes. Other layers used as is and as trained on Imagenet\n",
        "\n",
        "def lw(bottom_model, num_classes):\n",
        "    \"\"\"creates the top or head of the model that will be \n",
        "    placed ontop of the bottom layers\"\"\"\n",
        "\n",
        "    top_model = bottom_model.output\n",
        "    top_model = GlobalAveragePooling2D()(top_model)\n",
        "    top_model = Dense(1024,activation='relu')(top_model)\n",
        "    top_model = Dense(1024,activation='relu')(top_model)\n",
        "    top_model = Dense(512,activation='relu')(top_model)\n",
        "    top_model = Dense(num_classes,activation='softmax')(top_model)\n",
        "    return top_model "
      ],
      "metadata": {
        "id": "IrdNTatK9ysu"
      },
      "execution_count": null,
      "outputs": []
    },
    {
      "cell_type": "code",
      "source": [
        "num_classes = 7\n",
        "\n",
        "FC_Head = lw(vgg_mod, num_classes)\n",
        "model = Model(inputs = vgg_mod.input, outputs = FC_Head)\n",
        "print(model.summary())"
      ],
      "metadata": {
        "colab": {
          "base_uri": "https://localhost:8080/"
        },
        "id": "5Um3rYAj95Qe",
        "outputId": "e932409f-efc1-43ba-c0b3-e9a745df9730"
      },
      "execution_count": null,
      "outputs": [
        {
          "output_type": "stream",
          "name": "stdout",
          "text": [
            "Model: \"model\"\n",
            "_________________________________________________________________\n",
            " Layer (type)                Output Shape              Param #   \n",
            "=================================================================\n",
            " input_1 (InputLayer)        [(None, 224, 224, 3)]     0         \n",
            "                                                                 \n",
            " block1_conv1 (Conv2D)       (None, 224, 224, 64)      1792      \n",
            "                                                                 \n",
            " block1_conv2 (Conv2D)       (None, 224, 224, 64)      36928     \n",
            "                                                                 \n",
            " block1_pool (MaxPooling2D)  (None, 112, 112, 64)      0         \n",
            "                                                                 \n",
            " block2_conv1 (Conv2D)       (None, 112, 112, 128)     73856     \n",
            "                                                                 \n",
            " block2_conv2 (Conv2D)       (None, 112, 112, 128)     147584    \n",
            "                                                                 \n",
            " block2_pool (MaxPooling2D)  (None, 56, 56, 128)       0         \n",
            "                                                                 \n",
            " block3_conv1 (Conv2D)       (None, 56, 56, 256)       295168    \n",
            "                                                                 \n",
            " block3_conv2 (Conv2D)       (None, 56, 56, 256)       590080    \n",
            "                                                                 \n",
            " block3_conv3 (Conv2D)       (None, 56, 56, 256)       590080    \n",
            "                                                                 \n",
            " block3_pool (MaxPooling2D)  (None, 28, 28, 256)       0         \n",
            "                                                                 \n",
            " block4_conv1 (Conv2D)       (None, 28, 28, 512)       1180160   \n",
            "                                                                 \n",
            " block4_conv2 (Conv2D)       (None, 28, 28, 512)       2359808   \n",
            "                                                                 \n",
            " block4_conv3 (Conv2D)       (None, 28, 28, 512)       2359808   \n",
            "                                                                 \n",
            " block4_pool (MaxPooling2D)  (None, 14, 14, 512)       0         \n",
            "                                                                 \n",
            " block5_conv1 (Conv2D)       (None, 14, 14, 512)       2359808   \n",
            "                                                                 \n",
            " block5_conv2 (Conv2D)       (None, 14, 14, 512)       2359808   \n",
            "                                                                 \n",
            " block5_conv3 (Conv2D)       (None, 14, 14, 512)       2359808   \n",
            "                                                                 \n",
            " block5_pool (MaxPooling2D)  (None, 7, 7, 512)         0         \n",
            "                                                                 \n",
            " global_average_pooling2d (G  (None, 512)              0         \n",
            " lobalAveragePooling2D)                                          \n",
            "                                                                 \n",
            " dense (Dense)               (None, 1024)              525312    \n",
            "                                                                 \n",
            " dense_1 (Dense)             (None, 1024)              1049600   \n",
            "                                                                 \n",
            " dense_2 (Dense)             (None, 512)               524800    \n",
            "                                                                 \n",
            " dense_3 (Dense)             (None, 7)                 3591      \n",
            "                                                                 \n",
            "=================================================================\n",
            "Total params: 16,817,991\n",
            "Trainable params: 2,103,303\n",
            "Non-trainable params: 14,714,688\n",
            "_________________________________________________________________\n",
            "None\n"
          ]
        }
      ]
    },
    {
      "cell_type": "code",
      "source": [
        "model.compile(optimizer='adam', loss = 'categorical_crossentropy',metrics = ['accuracy'])"
      ],
      "metadata": {
        "id": "Gv-s4dCr98me"
      },
      "execution_count": null,
      "outputs": []
    },
    {
      "cell_type": "code",
      "source": [
        "#training\n",
        "\n",
        "batch_size = 32 \n",
        "epochs = 75"
      ],
      "metadata": {
        "id": "KTXyVEWI-ADw"
      },
      "execution_count": null,
      "outputs": []
    },
    {
      "cell_type": "code",
      "source": [
        "mod_fit = model.fit(\n",
        "    x_train, y_train,\n",
        "    epochs=epochs,\n",
        "    batch_size = batch_size,\n",
        "    validation_data=(x_val, y_val),\n",
        "    verbose=2)"
      ],
      "metadata": {
        "colab": {
          "base_uri": "https://localhost:8080/"
        },
        "id": "10JYbUfo-CRe",
        "outputId": "59cd99f6-7134-413e-8087-d5492a3a294e"
      },
      "execution_count": null,
      "outputs": [
        {
          "output_type": "stream",
          "name": "stdout",
          "text": [
            "Epoch 1/75\n",
            "154/154 - 18s - loss: 1.7015 - accuracy: 0.3078 - val_loss: 1.4597 - val_accuracy: 0.4224 - 18s/epoch - 119ms/step\n",
            "Epoch 2/75\n",
            "154/154 - 6s - loss: 1.4348 - accuracy: 0.4357 - val_loss: 1.4205 - val_accuracy: 0.4329 - 6s/epoch - 40ms/step\n",
            "Epoch 3/75\n",
            "154/154 - 6s - loss: 1.2843 - accuracy: 0.5004 - val_loss: 1.2335 - val_accuracy: 0.5429 - 6s/epoch - 40ms/step\n",
            "Epoch 4/75\n",
            "154/154 - 6s - loss: 1.1682 - accuracy: 0.5561 - val_loss: 1.1721 - val_accuracy: 0.5295 - 6s/epoch - 40ms/step\n",
            "Epoch 5/75\n",
            "154/154 - 6s - loss: 1.0975 - accuracy: 0.5733 - val_loss: 1.0498 - val_accuracy: 0.6081 - 6s/epoch - 40ms/step\n",
            "Epoch 6/75\n",
            "154/154 - 6s - loss: 1.0244 - accuracy: 0.6090 - val_loss: 1.0817 - val_accuracy: 0.5800 - 6s/epoch - 40ms/step\n",
            "Epoch 7/75\n",
            "154/154 - 6s - loss: 0.9481 - accuracy: 0.6357 - val_loss: 1.0732 - val_accuracy: 0.5643 - 6s/epoch - 40ms/step\n",
            "Epoch 8/75\n",
            "154/154 - 6s - loss: 0.8792 - accuracy: 0.6588 - val_loss: 1.0813 - val_accuracy: 0.5676 - 6s/epoch - 40ms/step\n",
            "Epoch 9/75\n",
            "154/154 - 6s - loss: 0.8740 - accuracy: 0.6578 - val_loss: 1.1142 - val_accuracy: 0.5567 - 6s/epoch - 40ms/step\n",
            "Epoch 10/75\n",
            "154/154 - 6s - loss: 0.7915 - accuracy: 0.6929 - val_loss: 0.9167 - val_accuracy: 0.6438 - 6s/epoch - 40ms/step\n",
            "Epoch 11/75\n",
            "154/154 - 6s - loss: 0.8052 - accuracy: 0.6890 - val_loss: 1.0356 - val_accuracy: 0.5990 - 6s/epoch - 40ms/step\n",
            "Epoch 12/75\n",
            "154/154 - 6s - loss: 0.7477 - accuracy: 0.7059 - val_loss: 0.8142 - val_accuracy: 0.7052 - 6s/epoch - 40ms/step\n",
            "Epoch 13/75\n",
            "154/154 - 6s - loss: 0.6935 - accuracy: 0.7361 - val_loss: 0.8016 - val_accuracy: 0.7171 - 6s/epoch - 40ms/step\n",
            "Epoch 14/75\n",
            "154/154 - 6s - loss: 0.6364 - accuracy: 0.7516 - val_loss: 0.8230 - val_accuracy: 0.6943 - 6s/epoch - 40ms/step\n",
            "Epoch 15/75\n",
            "154/154 - 6s - loss: 0.6380 - accuracy: 0.7618 - val_loss: 0.8674 - val_accuracy: 0.6795 - 6s/epoch - 40ms/step\n",
            "Epoch 16/75\n",
            "154/154 - 6s - loss: 0.6324 - accuracy: 0.7678 - val_loss: 0.8031 - val_accuracy: 0.6976 - 6s/epoch - 40ms/step\n",
            "Epoch 17/75\n",
            "154/154 - 6s - loss: 0.5687 - accuracy: 0.7884 - val_loss: 0.7943 - val_accuracy: 0.7290 - 6s/epoch - 40ms/step\n",
            "Epoch 18/75\n",
            "154/154 - 6s - loss: 0.5633 - accuracy: 0.7845 - val_loss: 0.7509 - val_accuracy: 0.7400 - 6s/epoch - 40ms/step\n",
            "Epoch 19/75\n",
            "154/154 - 6s - loss: 0.5461 - accuracy: 0.7924 - val_loss: 0.7797 - val_accuracy: 0.7205 - 6s/epoch - 39ms/step\n",
            "Epoch 20/75\n",
            "154/154 - 6s - loss: 0.5053 - accuracy: 0.8137 - val_loss: 0.7098 - val_accuracy: 0.7538 - 6s/epoch - 40ms/step\n",
            "Epoch 21/75\n",
            "154/154 - 6s - loss: 0.4896 - accuracy: 0.8149 - val_loss: 0.8901 - val_accuracy: 0.6910 - 6s/epoch - 40ms/step\n",
            "Epoch 22/75\n",
            "154/154 - 6s - loss: 0.4833 - accuracy: 0.8145 - val_loss: 0.8182 - val_accuracy: 0.7205 - 6s/epoch - 40ms/step\n",
            "Epoch 23/75\n",
            "154/154 - 6s - loss: 0.4972 - accuracy: 0.8110 - val_loss: 0.7088 - val_accuracy: 0.7662 - 6s/epoch - 40ms/step\n",
            "Epoch 24/75\n",
            "154/154 - 6s - loss: 0.4689 - accuracy: 0.8233 - val_loss: 0.7404 - val_accuracy: 0.7714 - 6s/epoch - 40ms/step\n",
            "Epoch 25/75\n",
            "154/154 - 6s - loss: 0.4330 - accuracy: 0.8396 - val_loss: 0.7958 - val_accuracy: 0.7381 - 6s/epoch - 40ms/step\n",
            "Epoch 26/75\n",
            "154/154 - 6s - loss: 0.3964 - accuracy: 0.8482 - val_loss: 0.7364 - val_accuracy: 0.7795 - 6s/epoch - 40ms/step\n",
            "Epoch 27/75\n",
            "154/154 - 6s - loss: 0.4196 - accuracy: 0.8373 - val_loss: 0.7392 - val_accuracy: 0.7676 - 6s/epoch - 40ms/step\n",
            "Epoch 28/75\n",
            "154/154 - 6s - loss: 0.3640 - accuracy: 0.8596 - val_loss: 0.8214 - val_accuracy: 0.7471 - 6s/epoch - 39ms/step\n",
            "Epoch 29/75\n",
            "154/154 - 6s - loss: 0.3671 - accuracy: 0.8600 - val_loss: 0.7637 - val_accuracy: 0.7890 - 6s/epoch - 40ms/step\n",
            "Epoch 30/75\n",
            "154/154 - 6s - loss: 0.3192 - accuracy: 0.8757 - val_loss: 0.7432 - val_accuracy: 0.7895 - 6s/epoch - 40ms/step\n",
            "Epoch 31/75\n",
            "154/154 - 6s - loss: 0.4272 - accuracy: 0.8463 - val_loss: 0.7816 - val_accuracy: 0.7819 - 6s/epoch - 40ms/step\n",
            "Epoch 32/75\n",
            "154/154 - 6s - loss: 0.3241 - accuracy: 0.8765 - val_loss: 0.7105 - val_accuracy: 0.8048 - 6s/epoch - 40ms/step\n",
            "Epoch 33/75\n",
            "154/154 - 6s - loss: 0.2926 - accuracy: 0.8912 - val_loss: 0.8023 - val_accuracy: 0.7819 - 6s/epoch - 40ms/step\n",
            "Epoch 34/75\n",
            "154/154 - 6s - loss: 0.2535 - accuracy: 0.9031 - val_loss: 0.7867 - val_accuracy: 0.7876 - 6s/epoch - 40ms/step\n",
            "Epoch 35/75\n",
            "154/154 - 6s - loss: 0.3098 - accuracy: 0.8847 - val_loss: 0.9473 - val_accuracy: 0.7671 - 6s/epoch - 40ms/step\n",
            "Epoch 36/75\n",
            "154/154 - 6s - loss: 0.3168 - accuracy: 0.8820 - val_loss: 0.9716 - val_accuracy: 0.7486 - 6s/epoch - 40ms/step\n",
            "Epoch 37/75\n",
            "154/154 - 6s - loss: 0.2734 - accuracy: 0.9008 - val_loss: 0.8423 - val_accuracy: 0.7786 - 6s/epoch - 40ms/step\n",
            "Epoch 38/75\n",
            "154/154 - 6s - loss: 0.2610 - accuracy: 0.9024 - val_loss: 0.7211 - val_accuracy: 0.8167 - 6s/epoch - 40ms/step\n",
            "Epoch 39/75\n",
            "154/154 - 6s - loss: 0.3013 - accuracy: 0.8886 - val_loss: 0.7747 - val_accuracy: 0.8081 - 6s/epoch - 40ms/step\n",
            "Epoch 40/75\n",
            "154/154 - 6s - loss: 0.2523 - accuracy: 0.9049 - val_loss: 0.8461 - val_accuracy: 0.8067 - 6s/epoch - 40ms/step\n",
            "Epoch 41/75\n",
            "154/154 - 6s - loss: 0.2120 - accuracy: 0.9233 - val_loss: 0.7537 - val_accuracy: 0.8205 - 6s/epoch - 40ms/step\n",
            "Epoch 42/75\n",
            "154/154 - 6s - loss: 0.2159 - accuracy: 0.9202 - val_loss: 0.9373 - val_accuracy: 0.7852 - 6s/epoch - 40ms/step\n",
            "Epoch 43/75\n",
            "154/154 - 6s - loss: 0.2052 - accuracy: 0.9218 - val_loss: 0.8420 - val_accuracy: 0.8110 - 6s/epoch - 40ms/step\n",
            "Epoch 44/75\n",
            "154/154 - 6s - loss: 0.1981 - accuracy: 0.9292 - val_loss: 0.9283 - val_accuracy: 0.7971 - 6s/epoch - 40ms/step\n",
            "Epoch 45/75\n",
            "154/154 - 6s - loss: 0.2107 - accuracy: 0.9206 - val_loss: 0.8432 - val_accuracy: 0.8148 - 6s/epoch - 40ms/step\n",
            "Epoch 46/75\n",
            "154/154 - 6s - loss: 0.1801 - accuracy: 0.9320 - val_loss: 0.9161 - val_accuracy: 0.8024 - 6s/epoch - 40ms/step\n",
            "Epoch 47/75\n",
            "154/154 - 6s - loss: 0.2308 - accuracy: 0.9159 - val_loss: 0.8248 - val_accuracy: 0.8129 - 6s/epoch - 40ms/step\n",
            "Epoch 48/75\n",
            "154/154 - 6s - loss: 0.1684 - accuracy: 0.9386 - val_loss: 0.8602 - val_accuracy: 0.8376 - 6s/epoch - 40ms/step\n",
            "Epoch 49/75\n",
            "154/154 - 6s - loss: 0.2577 - accuracy: 0.9069 - val_loss: 0.7660 - val_accuracy: 0.8329 - 6s/epoch - 40ms/step\n",
            "Epoch 50/75\n",
            "154/154 - 6s - loss: 0.2490 - accuracy: 0.9133 - val_loss: 0.9084 - val_accuracy: 0.8157 - 6s/epoch - 40ms/step\n",
            "Epoch 51/75\n",
            "154/154 - 6s - loss: 0.1342 - accuracy: 0.9529 - val_loss: 0.9904 - val_accuracy: 0.8110 - 6s/epoch - 40ms/step\n",
            "Epoch 52/75\n",
            "154/154 - 6s - loss: 0.1802 - accuracy: 0.9292 - val_loss: 0.8674 - val_accuracy: 0.7881 - 6s/epoch - 40ms/step\n",
            "Epoch 53/75\n",
            "154/154 - 6s - loss: 0.1480 - accuracy: 0.9457 - val_loss: 0.9238 - val_accuracy: 0.8000 - 6s/epoch - 40ms/step\n",
            "Epoch 54/75\n",
            "154/154 - 6s - loss: 0.1438 - accuracy: 0.9467 - val_loss: 0.8219 - val_accuracy: 0.8452 - 6s/epoch - 40ms/step\n",
            "Epoch 55/75\n",
            "154/154 - 6s - loss: 0.1271 - accuracy: 0.9557 - val_loss: 0.8802 - val_accuracy: 0.8295 - 6s/epoch - 40ms/step\n",
            "Epoch 56/75\n",
            "154/154 - 6s - loss: 0.1300 - accuracy: 0.9524 - val_loss: 1.0767 - val_accuracy: 0.8286 - 6s/epoch - 40ms/step\n",
            "Epoch 57/75\n",
            "154/154 - 6s - loss: 0.1387 - accuracy: 0.9520 - val_loss: 0.9330 - val_accuracy: 0.8352 - 6s/epoch - 40ms/step\n",
            "Epoch 58/75\n",
            "154/154 - 6s - loss: 0.1988 - accuracy: 0.9296 - val_loss: 0.9283 - val_accuracy: 0.8186 - 6s/epoch - 40ms/step\n",
            "Epoch 59/75\n",
            "154/154 - 6s - loss: 0.1516 - accuracy: 0.9459 - val_loss: 0.9541 - val_accuracy: 0.8338 - 6s/epoch - 40ms/step\n",
            "Epoch 60/75\n",
            "154/154 - 6s - loss: 0.1167 - accuracy: 0.9565 - val_loss: 0.9320 - val_accuracy: 0.8357 - 6s/epoch - 40ms/step\n",
            "Epoch 61/75\n",
            "154/154 - 6s - loss: 0.1011 - accuracy: 0.9631 - val_loss: 0.9185 - val_accuracy: 0.8519 - 6s/epoch - 40ms/step\n",
            "Epoch 62/75\n",
            "154/154 - 6s - loss: 0.1544 - accuracy: 0.9451 - val_loss: 0.9409 - val_accuracy: 0.8429 - 6s/epoch - 40ms/step\n",
            "Epoch 63/75\n",
            "154/154 - 6s - loss: 0.1191 - accuracy: 0.9582 - val_loss: 1.0537 - val_accuracy: 0.8271 - 6s/epoch - 40ms/step\n",
            "Epoch 64/75\n",
            "154/154 - 6s - loss: 0.0997 - accuracy: 0.9653 - val_loss: 0.9393 - val_accuracy: 0.8557 - 6s/epoch - 40ms/step\n",
            "Epoch 65/75\n",
            "154/154 - 6s - loss: 0.0648 - accuracy: 0.9769 - val_loss: 1.0525 - val_accuracy: 0.8314 - 6s/epoch - 40ms/step\n",
            "Epoch 66/75\n",
            "154/154 - 6s - loss: 0.1616 - accuracy: 0.9418 - val_loss: 0.9824 - val_accuracy: 0.8181 - 6s/epoch - 40ms/step\n",
            "Epoch 67/75\n",
            "154/154 - 6s - loss: 0.1507 - accuracy: 0.9484 - val_loss: 0.9875 - val_accuracy: 0.8400 - 6s/epoch - 39ms/step\n",
            "Epoch 68/75\n",
            "154/154 - 6s - loss: 0.0727 - accuracy: 0.9763 - val_loss: 1.0307 - val_accuracy: 0.8552 - 6s/epoch - 40ms/step\n",
            "Epoch 69/75\n",
            "154/154 - 6s - loss: 0.0610 - accuracy: 0.9788 - val_loss: 1.0158 - val_accuracy: 0.8505 - 6s/epoch - 40ms/step\n",
            "Epoch 70/75\n",
            "154/154 - 6s - loss: 0.1421 - accuracy: 0.9476 - val_loss: 0.9865 - val_accuracy: 0.8205 - 6s/epoch - 40ms/step\n",
            "Epoch 71/75\n",
            "154/154 - 6s - loss: 0.1208 - accuracy: 0.9567 - val_loss: 0.9921 - val_accuracy: 0.8424 - 6s/epoch - 40ms/step\n",
            "Epoch 72/75\n",
            "154/154 - 6s - loss: 0.1731 - accuracy: 0.9400 - val_loss: 0.8964 - val_accuracy: 0.8462 - 6s/epoch - 39ms/step\n",
            "Epoch 73/75\n",
            "154/154 - 6s - loss: 0.0765 - accuracy: 0.9782 - val_loss: 0.9498 - val_accuracy: 0.8543 - 6s/epoch - 40ms/step\n",
            "Epoch 74/75\n",
            "154/154 - 6s - loss: 0.1039 - accuracy: 0.9588 - val_loss: 1.1742 - val_accuracy: 0.8024 - 6s/epoch - 40ms/step\n",
            "Epoch 75/75\n",
            "154/154 - 6s - loss: 0.0837 - accuracy: 0.9702 - val_loss: 1.0104 - val_accuracy: 0.8376 - 6s/epoch - 40ms/step\n"
          ]
        }
      ]
    },
    {
      "cell_type": "code",
      "source": [
        "mod_acc_val = model.evaluate(x_val, y_val)\n",
        "print('Validation accuracy:', mod_acc_val[1])"
      ],
      "metadata": {
        "colab": {
          "base_uri": "https://localhost:8080/"
        },
        "id": "v1bCkztt-JCo",
        "outputId": "81bd3416-597f-406f-8265-38cb096ad399"
      },
      "execution_count": null,
      "outputs": [
        {
          "output_type": "stream",
          "name": "stdout",
          "text": [
            "66/66 [==============================] - 2s 29ms/step - loss: 1.0104 - accuracy: 0.8376\n",
            "Validation accuracy: 0.8376190662384033\n"
          ]
        }
      ]
    },
    {
      "cell_type": "code",
      "source": [
        "loss = mod_fit.history['loss']\n",
        "val_loss = mod_fit.history['val_loss']\n",
        "epochs = range(1, len(loss) + 1)\n",
        "plt.plot(epochs, loss, 'y', label='Training loss')\n",
        "plt.plot(epochs, val_loss, 'r', label='Validation loss')\n",
        "plt.title('Training and validation loss')\n",
        "plt.xlabel('Epochs')\n",
        "plt.ylabel('Loss')\n",
        "plt.legend()\n",
        "plt.show()"
      ],
      "metadata": {
        "colab": {
          "base_uri": "https://localhost:8080/",
          "height": 295
        },
        "id": "oykgV1qq-Mvm",
        "outputId": "aaa50a66-e653-4a23-a749-d9239e0d7ad6"
      },
      "execution_count": null,
      "outputs": [
        {
          "output_type": "display_data",
          "data": {
            "text/plain": [
              "<Figure size 432x288 with 1 Axes>"
            ],
            "image/png": "[encoded data removed]"
          },
          "metadata": {
            "needs_background": "light"
          }
        }
      ]
    },
    {
      "cell_type": "code",
      "source": [
        "acc = mod_fit.history['accuracy']\n",
        "val_acc = mod_fit.history['val_accuracy']\n",
        "plt.plot(epochs, acc, 'y', label='Training acc')\n",
        "plt.plot(epochs, val_acc, 'r', label='Validation acc')\n",
        "plt.title('Training and validation accuracy')\n",
        "plt.xlabel('Epochs')\n",
        "plt.ylabel('Accuracy')\n",
        "plt.legend()\n",
        "plt.show()"
      ],
      "metadata": {
        "colab": {
          "base_uri": "https://localhost:8080/",
          "height": 295
        },
        "id": "1lIlrlNe-PbU",
        "outputId": "dd28e06f-fe1c-4dec-9250-3eb502d6489d"
      },
      "execution_count": null,
      "outputs": [
        {
          "output_type": "display_data",
          "data": {
            "text/plain": [
              "<Figure size 432x288 with 1 Axes>"
            ],
            "image/png": "[encoded data removed]"
          },
          "metadata": {
            "needs_background": "light"
          }
        }
      ]
    },
    {
      "cell_type": "code",
      "source": [
        "y_pred = model.predict(X_ts)"
      ],
      "metadata": {
        "colab": {
          "base_uri": "https://localhost:8080/"
        },
        "id": "xNGCuJSa-SSb",
        "outputId": "99ff6de1-6cf7-4ff6-a9b0-edb3354c8f91"
      },
      "execution_count": null,
      "outputs": [
        {
          "output_type": "stream",
          "name": "stdout",
          "text": [
            "17/17 [==============================] - 1s 47ms/step\n"
          ]
        }
      ]
    },
    {
      "cell_type": "code",
      "source": [
        "#one hot encoding --> probs from softmax to 1 and 0\n",
        "y_pred_classes = np.argmax(y_pred, axis = 1) "
      ],
      "metadata": {
        "id": "GXogCOKW-cBu"
      },
      "execution_count": null,
      "outputs": []
    },
    {
      "cell_type": "code",
      "source": [
        "y_true = np.argmax(Y_dx_ts, axis = 1) "
      ],
      "metadata": {
        "id": "dFKnL30S-gjz"
      },
      "execution_count": null,
      "outputs": []
    },
    {
      "cell_type": "code",
      "source": [
        "cm = confusion_matrix(y_true, y_pred_classes)\n",
        "fig, ax = plt.subplots(figsize=(10,10))\n",
        "sns.set(font_scale=1.6)\n",
        "sns.heatmap(cm, annot=True, linewidths=.5, ax=ax)"
      ],
      "metadata": {
        "colab": {
          "base_uri": "https://localhost:8080/",
          "height": 610
        },
        "id": "nlQmpXGM-jUS",
        "outputId": "370f7663-0074-40fb-b933-3f46774822fa"
      },
      "execution_count": null,
      "outputs": [
        {
          "output_type": "execute_result",
          "data": {
            "text/plain": [
              "<matplotlib.axes._subplots.AxesSubplot at 0x7f84f81291d0>"
            ]
          },
          "metadata": {},
          "execution_count": 43
        },
        {
          "output_type": "display_data",
          "data": {
            "text/plain": [
              "<Figure size 720x720 with 2 Axes>"
            ],
            "image/png": "[encoded data removed]"
          },
          "metadata": {
            "needs_background": "light"
          }
        }
      ]
    },
    {
      "cell_type": "code",
      "source": [
        "incorr_fraction = 1 - np.diag(cm) / np.sum(cm, axis=1)\n",
        "\n",
        "incorr_fraction = incorr_fraction.tolist()\n",
        "\n",
        "incorr_fraction = [round(item, 2) for item in incorr_fraction]\n",
        "\n",
        "incorr_fraction"
      ],
      "metadata": {
        "colab": {
          "base_uri": "https://localhost:8080/"
        },
        "id": "UPPeFHxu-sWw",
        "outputId": "9659ea28-2e47-4663-bdf9-a961246fe421"
      },
      "execution_count": null,
      "outputs": [
        {
          "output_type": "execute_result",
          "data": {
            "text/plain": [
              "[0.72, 0.53, 0.48, 0.89, 0.52, 0.23, 0.49]"
            ]
          },
          "metadata": {},
          "execution_count": 44
        }
      ]
    },
    {
      "cell_type": "code",
      "source": [
        "#percent misclassified per dx\n",
        "def addlabels(x,y):\n",
        "    for i in range(len(x)):\n",
        "        plt.text(i, y[i], y[i], ha = 'center')\n",
        "  \n",
        "if __name__ == '__main__':\n",
        "  plt.bar(np.arange(7), incorr_fraction)\n",
        "  addlabels(np.arange(7), incorr_fraction)\n",
        "  plt.title(\"Fraction Misclassified per Diagnosis Label\")\n",
        "  plt.xlabel('True Label')\n",
        "  plt.ylabel('Fraction of incorrect predictions')"
      ],
      "metadata": {
        "colab": {
          "base_uri": "https://localhost:8080/",
          "height": 343
        },
        "id": "-LjjPnDH-u9x",
        "outputId": "bcbbd378-85a2-4474-aec5-d164c7faf104"
      },
      "execution_count": null,
      "outputs": [
        {
          "output_type": "display_data",
          "data": {
            "text/plain": [
              "<Figure size 432x288 with 1 Axes>"
            ],
            "image/png": "[encoded data removed]"
          },
          "metadata": {}
        }
      ]
    },
    {
      "cell_type": "code",
      "source": [
        "mod_acc_test = model.evaluate(X_ts, Y_dx_ts)\n",
        "print('Test accuracy:', mod_acc_test[1])"
      ],
      "metadata": {
        "colab": {
          "base_uri": "https://localhost:8080/"
        },
        "id": "HUyPDEWmCx7y",
        "outputId": "f2b2155f-1965-479c-91a4-53c871e556b8"
      },
      "execution_count": null,
      "outputs": [
        {
          "output_type": "stream",
          "name": "stdout",
          "text": [
            "17/17 [==============================] - 1s 29ms/step - loss: 5.7447 - accuracy: 0.4476\n",
            "Test accuracy: 0.4476190507411957\n"
          ]
        }
      ]
    },
    {
      "cell_type": "code",
      "source": [
        "#reference\n",
        "#https://www.youtube.com/watch?v=Fxy6WTnUIww\n",
        "#https://keras.io/api/layers/core_layers/dense/\n",
        "#https://keras.io/api/models/model/\n",
        "#https://www.educba.com/keras-fit/\n",
        "#https://www.geeksforgeeks.org/adding-value-labels-on-a-matplotlib-bar-chart/\n",
        "#https://pandas.pydata.org/docs/reference/api/pandas.DataFrame.transpose.html\n",
        "#https://pandas.pydata.org/pandas-docs/stable/reference/api/pandas.DataFrame.from_dict.html\n",
        "#https://www.geeksforgeeks.org/drop-rows-from-the-dataframe-based-on-certain-condition-applied-on-a-column/\n",
        "#https://sparkbyexamples.com/pandas/conver-pandas-column-to-list/\n",
        "#https://datascience.stackexchange.com/questions/37227/how-to-remove-rows-from-a-dataframe-that-are-identical-to-another-dataframe"
      ],
      "metadata": {
        "id": "2z_o1c1QDIqn"
      },
      "execution_count": null,
      "outputs": []
    }
  ]
}