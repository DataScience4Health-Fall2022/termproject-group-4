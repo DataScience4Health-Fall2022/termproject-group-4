{
 "cells": [
  {
   "cell_type": "code",
   "execution_count": 1,
   "metadata": {},
   "outputs": [],
   "source": [
    "import pandas as pd\n",
    "import numpy as np \n",
    "import seaborn as sns\n",
    "import matplotlib.pyplot as plt \n",
    "import math \n",
    "from random import random "
   ]
  },
  {
   "cell_type": "code",
   "execution_count": 2,
   "metadata": {},
   "outputs": [
    {
     "data": {
      "text/html": [
       "<div>\n",
       "<style scoped>\n",
       "    .dataframe tbody tr th:only-of-type {\n",
       "        vertical-align: middle;\n",
       "    }\n",
       "\n",
       "    .dataframe tbody tr th {\n",
       "        vertical-align: top;\n",
       "    }\n",
       "\n",
       "    .dataframe thead th {\n",
       "        text-align: right;\n",
       "    }\n",
       "</style>\n",
       "<table border=\"1\" class=\"dataframe\">\n",
       "  <thead>\n",
       "    <tr style=\"text-align: right;\">\n",
       "      <th></th>\n",
       "      <th>lesion_id</th>\n",
       "      <th>image_id</th>\n",
       "      <th>dx</th>\n",
       "      <th>dx_type</th>\n",
       "      <th>age</th>\n",
       "      <th>sex</th>\n",
       "      <th>localization</th>\n",
       "      <th>dataset</th>\n",
       "    </tr>\n",
       "  </thead>\n",
       "  <tbody>\n",
       "    <tr>\n",
       "      <td>0</td>\n",
       "      <td>HAM_0000118</td>\n",
       "      <td>ISIC_0027419</td>\n",
       "      <td>bkl</td>\n",
       "      <td>histo</td>\n",
       "      <td>80.0</td>\n",
       "      <td>male</td>\n",
       "      <td>scalp</td>\n",
       "      <td>vidir_modern</td>\n",
       "    </tr>\n",
       "    <tr>\n",
       "      <td>1</td>\n",
       "      <td>HAM_0000118</td>\n",
       "      <td>ISIC_0025030</td>\n",
       "      <td>bkl</td>\n",
       "      <td>histo</td>\n",
       "      <td>80.0</td>\n",
       "      <td>male</td>\n",
       "      <td>scalp</td>\n",
       "      <td>vidir_modern</td>\n",
       "    </tr>\n",
       "    <tr>\n",
       "      <td>2</td>\n",
       "      <td>HAM_0002730</td>\n",
       "      <td>ISIC_0026769</td>\n",
       "      <td>bkl</td>\n",
       "      <td>histo</td>\n",
       "      <td>80.0</td>\n",
       "      <td>male</td>\n",
       "      <td>scalp</td>\n",
       "      <td>vidir_modern</td>\n",
       "    </tr>\n",
       "    <tr>\n",
       "      <td>3</td>\n",
       "      <td>HAM_0002730</td>\n",
       "      <td>ISIC_0025661</td>\n",
       "      <td>bkl</td>\n",
       "      <td>histo</td>\n",
       "      <td>80.0</td>\n",
       "      <td>male</td>\n",
       "      <td>scalp</td>\n",
       "      <td>vidir_modern</td>\n",
       "    </tr>\n",
       "    <tr>\n",
       "      <td>4</td>\n",
       "      <td>HAM_0001466</td>\n",
       "      <td>ISIC_0031633</td>\n",
       "      <td>bkl</td>\n",
       "      <td>histo</td>\n",
       "      <td>75.0</td>\n",
       "      <td>male</td>\n",
       "      <td>ear</td>\n",
       "      <td>vidir_modern</td>\n",
       "    </tr>\n",
       "    <tr>\n",
       "      <td>...</td>\n",
       "      <td>...</td>\n",
       "      <td>...</td>\n",
       "      <td>...</td>\n",
       "      <td>...</td>\n",
       "      <td>...</td>\n",
       "      <td>...</td>\n",
       "      <td>...</td>\n",
       "      <td>...</td>\n",
       "    </tr>\n",
       "    <tr>\n",
       "      <td>10010</td>\n",
       "      <td>HAM_0002867</td>\n",
       "      <td>ISIC_0033084</td>\n",
       "      <td>akiec</td>\n",
       "      <td>histo</td>\n",
       "      <td>40.0</td>\n",
       "      <td>male</td>\n",
       "      <td>abdomen</td>\n",
       "      <td>vidir_modern</td>\n",
       "    </tr>\n",
       "    <tr>\n",
       "      <td>10011</td>\n",
       "      <td>HAM_0002867</td>\n",
       "      <td>ISIC_0033550</td>\n",
       "      <td>akiec</td>\n",
       "      <td>histo</td>\n",
       "      <td>40.0</td>\n",
       "      <td>male</td>\n",
       "      <td>abdomen</td>\n",
       "      <td>vidir_modern</td>\n",
       "    </tr>\n",
       "    <tr>\n",
       "      <td>10012</td>\n",
       "      <td>HAM_0002867</td>\n",
       "      <td>ISIC_0033536</td>\n",
       "      <td>akiec</td>\n",
       "      <td>histo</td>\n",
       "      <td>40.0</td>\n",
       "      <td>male</td>\n",
       "      <td>abdomen</td>\n",
       "      <td>vidir_modern</td>\n",
       "    </tr>\n",
       "    <tr>\n",
       "      <td>10013</td>\n",
       "      <td>HAM_0000239</td>\n",
       "      <td>ISIC_0032854</td>\n",
       "      <td>akiec</td>\n",
       "      <td>histo</td>\n",
       "      <td>80.0</td>\n",
       "      <td>male</td>\n",
       "      <td>face</td>\n",
       "      <td>vidir_modern</td>\n",
       "    </tr>\n",
       "    <tr>\n",
       "      <td>10014</td>\n",
       "      <td>HAM_0003521</td>\n",
       "      <td>ISIC_0032258</td>\n",
       "      <td>mel</td>\n",
       "      <td>histo</td>\n",
       "      <td>70.0</td>\n",
       "      <td>female</td>\n",
       "      <td>back</td>\n",
       "      <td>vidir_modern</td>\n",
       "    </tr>\n",
       "  </tbody>\n",
       "</table>\n",
       "<p>10015 rows × 8 columns</p>\n",
       "</div>"
      ],
      "text/plain": [
       "         lesion_id      image_id     dx dx_type   age     sex localization  \\\n",
       "0      HAM_0000118  ISIC_0027419    bkl   histo  80.0    male        scalp   \n",
       "1      HAM_0000118  ISIC_0025030    bkl   histo  80.0    male        scalp   \n",
       "2      HAM_0002730  ISIC_0026769    bkl   histo  80.0    male        scalp   \n",
       "3      HAM_0002730  ISIC_0025661    bkl   histo  80.0    male        scalp   \n",
       "4      HAM_0001466  ISIC_0031633    bkl   histo  75.0    male          ear   \n",
       "...            ...           ...    ...     ...   ...     ...          ...   \n",
       "10010  HAM_0002867  ISIC_0033084  akiec   histo  40.0    male      abdomen   \n",
       "10011  HAM_0002867  ISIC_0033550  akiec   histo  40.0    male      abdomen   \n",
       "10012  HAM_0002867  ISIC_0033536  akiec   histo  40.0    male      abdomen   \n",
       "10013  HAM_0000239  ISIC_0032854  akiec   histo  80.0    male         face   \n",
       "10014  HAM_0003521  ISIC_0032258    mel   histo  70.0  female         back   \n",
       "\n",
       "            dataset  \n",
       "0      vidir_modern  \n",
       "1      vidir_modern  \n",
       "2      vidir_modern  \n",
       "3      vidir_modern  \n",
       "4      vidir_modern  \n",
       "...             ...  \n",
       "10010  vidir_modern  \n",
       "10011  vidir_modern  \n",
       "10012  vidir_modern  \n",
       "10013  vidir_modern  \n",
       "10014  vidir_modern  \n",
       "\n",
       "[10015 rows x 8 columns]"
      ]
     },
     "execution_count": 2,
     "metadata": {},
     "output_type": "execute_result"
    }
   ],
   "source": [
    "df = pd.read_csv(\"./HAM10000/HAM10000_metadata.csv\")\n",
    "df"
   ]
  },
  {
   "cell_type": "code",
   "execution_count": 3,
   "metadata": {},
   "outputs": [
    {
     "data": {
      "text/plain": [
       "{'male': 5406, 'female': 4552, 'unknown': 57}"
      ]
     },
     "execution_count": 3,
     "metadata": {},
     "output_type": "execute_result"
    }
   ],
   "source": [
    "#sex balance \n",
    "sex = {}\n",
    "for s in df[\"sex\"]:\n",
    "    if s not in sex:\n",
    "        sex[s] = 0 \n",
    "    sex[s] += 1\n",
    "sex"
   ]
  },
  {
   "cell_type": "code",
   "execution_count": 4,
   "metadata": {},
   "outputs": [
    {
     "name": "stdout",
     "output_type": "stream",
     "text": [
      "10015\n"
     ]
    },
    {
     "data": {
      "text/plain": [
       "{'bkl': 1099,\n",
       " 'nv': 6705,\n",
       " 'df': 115,\n",
       " 'mel': 1113,\n",
       " 'vasc': 142,\n",
       " 'bcc': 514,\n",
       " 'akiec': 327}"
      ]
     },
     "execution_count": 4,
     "metadata": {},
     "output_type": "execute_result"
    }
   ],
   "source": [
    "c = 0 \n",
    "balance = {}\n",
    "for d in df[\"dx\"]:\n",
    "    if d not in balance:\n",
    "        balance[d] = 0 \n",
    "    balance[d] += 1\n",
    "    c += 1\n",
    "print(c)\n",
    "balance"
   ]
  },
  {
   "cell_type": "code",
   "execution_count": 5,
   "metadata": {},
   "outputs": [],
   "source": [
    "dx  = []\n",
    "nums = []\n",
    "for d in balance:\n",
    "    dx.append(d)\n",
    "    nums.append(balance[d])\n",
    "df = pd.DataFrame()\n",
    "df[\"dx\"] = dx\n",
    "df[\"nums\"] = nums"
   ]
  },
  {
   "cell_type": "code",
   "execution_count": 6,
   "metadata": {},
   "outputs": [
    {
     "data": {
      "text/plain": [
       "[Text(0.5, 0, 'Diagnosis'), Text(0, 0.5, 'Samples')]"
      ]
     },
     "execution_count": 6,
     "metadata": {},
     "output_type": "execute_result"
    },
    {
     "data": {
      "image/png": "[encoded data removed]",
      "text/plain": [
       "<Figure size 432x288 with 1 Axes>"
      ]
     },
     "metadata": {
      "needs_background": "light"
     },
     "output_type": "display_data"
    }
   ],
   "source": [
    "g = sns.barplot(x=\"dx\", y=\"nums\", data=df)\n",
    "g.set(xlabel=\"Diagnosis\", ylabel=\"Samples\")\n",
    "#here either add legend, or figure description for map "
   ]
  },
  {
   "cell_type": "markdown",
   "metadata": {},
   "source": [
    "Age balance - male female ages "
   ]
  },
  {
   "cell_type": "code",
   "execution_count": 7,
   "metadata": {},
   "outputs": [
    {
     "data": {
      "text/plain": [
       "[Text(0.5, 0, 'Sex'), Text(0, 0.5, 'Age (years)')]"
      ]
     },
     "execution_count": 7,
     "metadata": {},
     "output_type": "execute_result"
    },
    {
     "data": {
      "image/png": "[encoded data removed]",
      "text/plain": [
       "<Figure size 432x288 with 1 Axes>"
      ]
     },
     "metadata": {
      "needs_background": "light"
     },
     "output_type": "display_data"
    }
   ],
   "source": [
    "df = pd.read_csv(\"./HAM10000/HAM10000_metadata.csv\")\n",
    "\n",
    "g = sns.boxplot(x=\"sex\", y=\"age\", data=df)\n",
    "g.set(xlabel=\"Sex\", ylabel=\"Age (years)\")"
   ]
  },
  {
   "cell_type": "markdown",
   "metadata": {},
   "source": [
    "Average incidence age for dx "
   ]
  },
  {
   "cell_type": "code",
   "execution_count": 8,
   "metadata": {},
   "outputs": [
    {
     "data": {
      "text/plain": [
       "[Text(0.5, 0, 'Diagnosis'), Text(0, 0.5, 'Age (years)')]"
      ]
     },
     "execution_count": 8,
     "metadata": {},
     "output_type": "execute_result"
    },
    {
     "data": {
      "image/png": "[encoded data removed]",
      "text/plain": [
       "<Figure size 432x288 with 1 Axes>"
      ]
     },
     "metadata": {
      "needs_background": "light"
     },
     "output_type": "display_data"
    }
   ],
   "source": [
    "g = sns.violinplot(x=\"dx\", y=\"age\", data=df)\n",
    "g.set(xlabel=\"Diagnosis\", ylabel=\"Age (years)\")"
   ]
  },
  {
   "cell_type": "markdown",
   "metadata": {},
   "source": [
    "Localization of condition"
   ]
  },
  {
   "cell_type": "code",
   "execution_count": 9,
   "metadata": {},
   "outputs": [
    {
     "name": "stdout",
     "output_type": "stream",
     "text": [
      "10015\n"
     ]
    },
    {
     "data": {
      "text/plain": [
       "{'back': 2192,\n",
       " 'lower extremity': 2077,\n",
       " 'trunk': 1404,\n",
       " 'upper extremity': 1118,\n",
       " 'abdomen': 1022,\n",
       " 'face': 745,\n",
       " 'chest': 407,\n",
       " 'foot': 319,\n",
       " 'unknown': 234,\n",
       " 'neck': 168,\n",
       " 'scalp': 128,\n",
       " 'hand': 90,\n",
       " 'ear': 56,\n",
       " 'genital': 48,\n",
       " 'acral': 7}"
      ]
     },
     "execution_count": 9,
     "metadata": {},
     "output_type": "execute_result"
    }
   ],
   "source": [
    "df = pd.read_csv(\"./HAM10000/HAM10000_metadata.csv\")\n",
    "\n",
    "c = 0 \n",
    "balance = {}\n",
    "for d in df[\"localization\"]:\n",
    "    if d not in balance:\n",
    "        balance[d] = 0 \n",
    "    balance[d] += 1\n",
    "    c += 1\n",
    "print(c)\n",
    "\n",
    "balance = dict(sorted(balance.items(), key=lambda item: item[1], reverse=True))\n",
    "balance"
   ]
  },
  {
   "cell_type": "code",
   "execution_count": 10,
   "metadata": {},
   "outputs": [
    {
     "data": {
      "text/plain": [
       "[Text(0.5, 0, 'Localization'), Text(0, 0.5, 'Samples')]"
      ]
     },
     "execution_count": 10,
     "metadata": {},
     "output_type": "execute_result"
    },
    {
     "data": {
      "image/png": "[encoded data removed]",
      "text/plain": [
       "<Figure size 1263.6x893.16 with 1 Axes>"
      ]
     },
     "metadata": {},
     "output_type": "display_data"
    }
   ],
   "source": [
    "dx  = []\n",
    "nums = []\n",
    "for d in balance:\n",
    "    dx.append(d)\n",
    "    nums.append(balance[d])\n",
    "df = pd.DataFrame()\n",
    "df[\"dx\"] = dx\n",
    "df[\"nums\"] = nums\n",
    "\n",
    "sns.set(font_scale=1, rc={'figure.figsize':(1.5*11.7,1.5*8.27)})\n",
    "g = sns.barplot(x=\"dx\", y=\"nums\", data=df)\n",
    "g.set(xlabel=\"Localization\", ylabel=\"Samples\")"
   ]
  },
  {
   "cell_type": "markdown",
   "metadata": {},
   "source": [
    "Histology distrib "
   ]
  },
  {
   "cell_type": "code",
   "execution_count": 11,
   "metadata": {},
   "outputs": [
    {
     "data": {
      "text/plain": [
       "{'histo': 5340, 'consensus': 902, 'confocal': 69, 'follow_up': 3704}"
      ]
     },
     "execution_count": 11,
     "metadata": {},
     "output_type": "execute_result"
    }
   ],
   "source": [
    "df = pd.read_csv(\"./HAM10000/HAM10000_metadata.csv\")\n",
    "balance = {}\n",
    "for d in df[\"dx_type\"]:\n",
    "    if d not in balance:\n",
    "        balance[d] = 0 \n",
    "    balance[d] += 1\n",
    "balance"
   ]
  },
  {
   "cell_type": "code",
   "execution_count": 12,
   "metadata": {},
   "outputs": [
    {
     "data": {
      "text/plain": [
       "[Text(0.5, 0, 'Localization'), Text(0, 0.5, 'Samples')]"
      ]
     },
     "execution_count": 12,
     "metadata": {},
     "output_type": "execute_result"
    },
    {
     "data": {
      "image/png": "[encoded data removed]",
      "text/plain": [
       "<Figure size 1263.6x893.16 with 1 Axes>"
      ]
     },
     "metadata": {},
     "output_type": "display_data"
    }
   ],
   "source": [
    "hx  = []\n",
    "nums = []\n",
    "for d in balance:\n",
    "    hx.append(d)\n",
    "    nums.append(balance[d])\n",
    "df = pd.DataFrame()\n",
    "df[\"hx\"] = hx\n",
    "df[\"nums\"] = nums\n",
    "g = sns.barplot(x=\"hx\", y=\"nums\", data=df)\n",
    "g.set(xlabel=\"Localization\", ylabel=\"Samples\")"
   ]
  },
  {
   "cell_type": "code",
   "execution_count": 13,
   "metadata": {},
   "outputs": [
    {
     "data": {
      "text/html": [
       "<div>\n",
       "<style scoped>\n",
       "    .dataframe tbody tr th:only-of-type {\n",
       "        vertical-align: middle;\n",
       "    }\n",
       "\n",
       "    .dataframe tbody tr th {\n",
       "        vertical-align: top;\n",
       "    }\n",
       "\n",
       "    .dataframe thead th {\n",
       "        text-align: right;\n",
       "    }\n",
       "</style>\n",
       "<table border=\"1\" class=\"dataframe\">\n",
       "  <thead>\n",
       "    <tr style=\"text-align: right;\">\n",
       "      <th></th>\n",
       "      <th>lesion_id</th>\n",
       "      <th>image_id</th>\n",
       "      <th>dx</th>\n",
       "      <th>dx_type</th>\n",
       "      <th>age</th>\n",
       "      <th>sex</th>\n",
       "      <th>localization</th>\n",
       "      <th>dataset</th>\n",
       "    </tr>\n",
       "  </thead>\n",
       "  <tbody>\n",
       "    <tr>\n",
       "      <td>0</td>\n",
       "      <td>HAM_0000118</td>\n",
       "      <td>ISIC_0027419</td>\n",
       "      <td>bkl</td>\n",
       "      <td>histo</td>\n",
       "      <td>80.0</td>\n",
       "      <td>male</td>\n",
       "      <td>scalp</td>\n",
       "      <td>vidir_modern</td>\n",
       "    </tr>\n",
       "    <tr>\n",
       "      <td>1</td>\n",
       "      <td>HAM_0000118</td>\n",
       "      <td>ISIC_0025030</td>\n",
       "      <td>bkl</td>\n",
       "      <td>histo</td>\n",
       "      <td>80.0</td>\n",
       "      <td>male</td>\n",
       "      <td>scalp</td>\n",
       "      <td>vidir_modern</td>\n",
       "    </tr>\n",
       "    <tr>\n",
       "      <td>2</td>\n",
       "      <td>HAM_0002730</td>\n",
       "      <td>ISIC_0026769</td>\n",
       "      <td>bkl</td>\n",
       "      <td>histo</td>\n",
       "      <td>80.0</td>\n",
       "      <td>male</td>\n",
       "      <td>scalp</td>\n",
       "      <td>vidir_modern</td>\n",
       "    </tr>\n",
       "    <tr>\n",
       "      <td>3</td>\n",
       "      <td>HAM_0002730</td>\n",
       "      <td>ISIC_0025661</td>\n",
       "      <td>bkl</td>\n",
       "      <td>histo</td>\n",
       "      <td>80.0</td>\n",
       "      <td>male</td>\n",
       "      <td>scalp</td>\n",
       "      <td>vidir_modern</td>\n",
       "    </tr>\n",
       "    <tr>\n",
       "      <td>4</td>\n",
       "      <td>HAM_0001466</td>\n",
       "      <td>ISIC_0031633</td>\n",
       "      <td>bkl</td>\n",
       "      <td>histo</td>\n",
       "      <td>75.0</td>\n",
       "      <td>male</td>\n",
       "      <td>ear</td>\n",
       "      <td>vidir_modern</td>\n",
       "    </tr>\n",
       "    <tr>\n",
       "      <td>...</td>\n",
       "      <td>...</td>\n",
       "      <td>...</td>\n",
       "      <td>...</td>\n",
       "      <td>...</td>\n",
       "      <td>...</td>\n",
       "      <td>...</td>\n",
       "      <td>...</td>\n",
       "      <td>...</td>\n",
       "    </tr>\n",
       "    <tr>\n",
       "      <td>10010</td>\n",
       "      <td>HAM_0002867</td>\n",
       "      <td>ISIC_0033084</td>\n",
       "      <td>akiec</td>\n",
       "      <td>histo</td>\n",
       "      <td>40.0</td>\n",
       "      <td>male</td>\n",
       "      <td>abdomen</td>\n",
       "      <td>vidir_modern</td>\n",
       "    </tr>\n",
       "    <tr>\n",
       "      <td>10011</td>\n",
       "      <td>HAM_0002867</td>\n",
       "      <td>ISIC_0033550</td>\n",
       "      <td>akiec</td>\n",
       "      <td>histo</td>\n",
       "      <td>40.0</td>\n",
       "      <td>male</td>\n",
       "      <td>abdomen</td>\n",
       "      <td>vidir_modern</td>\n",
       "    </tr>\n",
       "    <tr>\n",
       "      <td>10012</td>\n",
       "      <td>HAM_0002867</td>\n",
       "      <td>ISIC_0033536</td>\n",
       "      <td>akiec</td>\n",
       "      <td>histo</td>\n",
       "      <td>40.0</td>\n",
       "      <td>male</td>\n",
       "      <td>abdomen</td>\n",
       "      <td>vidir_modern</td>\n",
       "    </tr>\n",
       "    <tr>\n",
       "      <td>10013</td>\n",
       "      <td>HAM_0000239</td>\n",
       "      <td>ISIC_0032854</td>\n",
       "      <td>akiec</td>\n",
       "      <td>histo</td>\n",
       "      <td>80.0</td>\n",
       "      <td>male</td>\n",
       "      <td>face</td>\n",
       "      <td>vidir_modern</td>\n",
       "    </tr>\n",
       "    <tr>\n",
       "      <td>10014</td>\n",
       "      <td>HAM_0003521</td>\n",
       "      <td>ISIC_0032258</td>\n",
       "      <td>mel</td>\n",
       "      <td>histo</td>\n",
       "      <td>70.0</td>\n",
       "      <td>female</td>\n",
       "      <td>back</td>\n",
       "      <td>vidir_modern</td>\n",
       "    </tr>\n",
       "  </tbody>\n",
       "</table>\n",
       "<p>10015 rows × 8 columns</p>\n",
       "</div>"
      ],
      "text/plain": [
       "         lesion_id      image_id     dx dx_type   age     sex localization  \\\n",
       "0      HAM_0000118  ISIC_0027419    bkl   histo  80.0    male        scalp   \n",
       "1      HAM_0000118  ISIC_0025030    bkl   histo  80.0    male        scalp   \n",
       "2      HAM_0002730  ISIC_0026769    bkl   histo  80.0    male        scalp   \n",
       "3      HAM_0002730  ISIC_0025661    bkl   histo  80.0    male        scalp   \n",
       "4      HAM_0001466  ISIC_0031633    bkl   histo  75.0    male          ear   \n",
       "...            ...           ...    ...     ...   ...     ...          ...   \n",
       "10010  HAM_0002867  ISIC_0033084  akiec   histo  40.0    male      abdomen   \n",
       "10011  HAM_0002867  ISIC_0033550  akiec   histo  40.0    male      abdomen   \n",
       "10012  HAM_0002867  ISIC_0033536  akiec   histo  40.0    male      abdomen   \n",
       "10013  HAM_0000239  ISIC_0032854  akiec   histo  80.0    male         face   \n",
       "10014  HAM_0003521  ISIC_0032258    mel   histo  70.0  female         back   \n",
       "\n",
       "            dataset  \n",
       "0      vidir_modern  \n",
       "1      vidir_modern  \n",
       "2      vidir_modern  \n",
       "3      vidir_modern  \n",
       "4      vidir_modern  \n",
       "...             ...  \n",
       "10010  vidir_modern  \n",
       "10011  vidir_modern  \n",
       "10012  vidir_modern  \n",
       "10013  vidir_modern  \n",
       "10014  vidir_modern  \n",
       "\n",
       "[10015 rows x 8 columns]"
      ]
     },
     "execution_count": 13,
     "metadata": {},
     "output_type": "execute_result"
    }
   ],
   "source": [
    "df = pd.read_csv(\"./HAM10000/HAM10000_metadata.csv\")\n",
    "df"
   ]
  },
  {
   "cell_type": "code",
   "execution_count": 14,
   "metadata": {},
   "outputs": [
    {
     "data": {
      "text/plain": [
       "[Text(0.5, 0, 'Localization'), Text(0, 0.5, 'Age (years)')]"
      ]
     },
     "execution_count": 14,
     "metadata": {},
     "output_type": "execute_result"
    },
    {
     "data": {
      "image/png": "[encoded data removed]",
      "text/plain": [
       "<Figure size 1263.6x893.16 with 1 Axes>"
      ]
     },
     "metadata": {},
     "output_type": "display_data"
    }
   ],
   "source": [
    "#age vs localization \n",
    "g = sns.boxplot(x=\"localization\", y=\"age\", data=df)\n",
    "sns.set(font_scale=1, rc={'figure.figsize':(1.5*11.7,1.5*8.27)})\n",
    "g.set(xlabel=\"Localization\", ylabel=\"Age (years)\")"
   ]
  },
  {
   "cell_type": "code",
   "execution_count": 15,
   "metadata": {},
   "outputs": [],
   "source": [
    "#number by diagnosis by sex \n",
    "m_balance = {}\n",
    "f_balance = {}\n",
    "for d,s in zip(list(df[\"dx\"]), list(df[\"sex\"])):\n",
    "    if s == \"male\":\n",
    "        if d not in m_balance:\n",
    "            m_balance[d] = 0 \n",
    "        m_balance[d] += 1\n",
    "    else:\n",
    "        if d not in f_balance:\n",
    "            f_balance[d] = 0 \n",
    "        f_balance[d] += 1"
   ]
  },
  {
   "cell_type": "code",
   "execution_count": 16,
   "metadata": {},
   "outputs": [
    {
     "data": {
      "text/plain": [
       "{'bkl': 626,\n",
       " 'nv': 3421,\n",
       " 'df': 63,\n",
       " 'mel': 689,\n",
       " 'vasc': 69,\n",
       " 'bcc': 317,\n",
       " 'akiec': 221}"
      ]
     },
     "execution_count": 16,
     "metadata": {},
     "output_type": "execute_result"
    }
   ],
   "source": [
    "m_balance"
   ]
  },
  {
   "cell_type": "code",
   "execution_count": 17,
   "metadata": {},
   "outputs": [
    {
     "data": {
      "text/html": [
       "<div>\n",
       "<style scoped>\n",
       "    .dataframe tbody tr th:only-of-type {\n",
       "        vertical-align: middle;\n",
       "    }\n",
       "\n",
       "    .dataframe tbody tr th {\n",
       "        vertical-align: top;\n",
       "    }\n",
       "\n",
       "    .dataframe thead th {\n",
       "        text-align: right;\n",
       "    }\n",
       "</style>\n",
       "<table border=\"1\" class=\"dataframe\">\n",
       "  <thead>\n",
       "    <tr style=\"text-align: right;\">\n",
       "      <th></th>\n",
       "      <th>sex</th>\n",
       "      <th>dx</th>\n",
       "      <th>nums</th>\n",
       "    </tr>\n",
       "  </thead>\n",
       "  <tbody>\n",
       "    <tr>\n",
       "      <td>0</td>\n",
       "      <td>male</td>\n",
       "      <td>bkl</td>\n",
       "      <td>626</td>\n",
       "    </tr>\n",
       "    <tr>\n",
       "      <td>1</td>\n",
       "      <td>male</td>\n",
       "      <td>nv</td>\n",
       "      <td>3421</td>\n",
       "    </tr>\n",
       "    <tr>\n",
       "      <td>2</td>\n",
       "      <td>male</td>\n",
       "      <td>df</td>\n",
       "      <td>63</td>\n",
       "    </tr>\n",
       "    <tr>\n",
       "      <td>3</td>\n",
       "      <td>male</td>\n",
       "      <td>mel</td>\n",
       "      <td>689</td>\n",
       "    </tr>\n",
       "    <tr>\n",
       "      <td>4</td>\n",
       "      <td>male</td>\n",
       "      <td>vasc</td>\n",
       "      <td>69</td>\n",
       "    </tr>\n",
       "    <tr>\n",
       "      <td>5</td>\n",
       "      <td>male</td>\n",
       "      <td>bcc</td>\n",
       "      <td>317</td>\n",
       "    </tr>\n",
       "    <tr>\n",
       "      <td>6</td>\n",
       "      <td>male</td>\n",
       "      <td>akiec</td>\n",
       "      <td>221</td>\n",
       "    </tr>\n",
       "    <tr>\n",
       "      <td>7</td>\n",
       "      <td>female</td>\n",
       "      <td>bkl</td>\n",
       "      <td>473</td>\n",
       "    </tr>\n",
       "    <tr>\n",
       "      <td>8</td>\n",
       "      <td>female</td>\n",
       "      <td>df</td>\n",
       "      <td>52</td>\n",
       "    </tr>\n",
       "    <tr>\n",
       "      <td>9</td>\n",
       "      <td>female</td>\n",
       "      <td>nv</td>\n",
       "      <td>3284</td>\n",
       "    </tr>\n",
       "    <tr>\n",
       "      <td>10</td>\n",
       "      <td>female</td>\n",
       "      <td>mel</td>\n",
       "      <td>424</td>\n",
       "    </tr>\n",
       "    <tr>\n",
       "      <td>11</td>\n",
       "      <td>female</td>\n",
       "      <td>vasc</td>\n",
       "      <td>73</td>\n",
       "    </tr>\n",
       "    <tr>\n",
       "      <td>12</td>\n",
       "      <td>female</td>\n",
       "      <td>bcc</td>\n",
       "      <td>197</td>\n",
       "    </tr>\n",
       "    <tr>\n",
       "      <td>13</td>\n",
       "      <td>female</td>\n",
       "      <td>akiec</td>\n",
       "      <td>106</td>\n",
       "    </tr>\n",
       "  </tbody>\n",
       "</table>\n",
       "</div>"
      ],
      "text/plain": [
       "       sex     dx  nums\n",
       "0     male    bkl   626\n",
       "1     male     nv  3421\n",
       "2     male     df    63\n",
       "3     male    mel   689\n",
       "4     male   vasc    69\n",
       "5     male    bcc   317\n",
       "6     male  akiec   221\n",
       "7   female    bkl   473\n",
       "8   female     df    52\n",
       "9   female     nv  3284\n",
       "10  female    mel   424\n",
       "11  female   vasc    73\n",
       "12  female    bcc   197\n",
       "13  female  akiec   106"
      ]
     },
     "execution_count": 17,
     "metadata": {},
     "output_type": "execute_result"
    }
   ],
   "source": [
    "ndf = pd.DataFrame()\n",
    "sexes = []\n",
    "dxs = []\n",
    "amounts = []\n",
    "\n",
    "for d in m_balance:\n",
    "    sexes.append(\"male\")\n",
    "    dxs.append(d)\n",
    "    amounts.append(m_balance[d])\n",
    "\n",
    "for d in f_balance:\n",
    "    sexes.append(\"female\")\n",
    "    dxs.append(d)\n",
    "    amounts.append(f_balance[d])\n",
    "\n",
    "ndf[\"sex\"] = sexes\n",
    "ndf[\"dx\"] = dxs \n",
    "ndf[\"nums\"] = amounts \n",
    "ndf"
   ]
  },
  {
   "cell_type": "code",
   "execution_count": 18,
   "metadata": {},
   "outputs": [
    {
     "data": {
      "image/png": "[encoded data removed]",
      "text/plain": [
       "<Figure size 504.85x432 with 1 Axes>"
      ]
     },
     "metadata": {},
     "output_type": "display_data"
    }
   ],
   "source": [
    "try:\n",
    "    g = sns.catplot(\n",
    "    data=ndf, kind=\"bar\",\n",
    "    x=\"dx\", y=\"nums\", hue=\"sex\",\n",
    "     palette=\"dark\", alpha=.6, height=6\n",
    "    )\n",
    "    g.despine(left=True)\n",
    "    g.set_axis_labels(\"Diagnosis\", \"Count\")\n",
    "    g.legend.set_title(\"Sex\")\n",
    "except:\n",
    "    pass"
   ]
  },
  {
   "cell_type": "code",
   "execution_count": 19,
   "metadata": {},
   "outputs": [
    {
     "data": {
      "image/png": "[encoded data removed]",
      "text/plain": [
       "<Figure size 1224.85x576 with 1 Axes>"
      ]
     },
     "metadata": {},
     "output_type": "display_data"
    }
   ],
   "source": [
    "#number by localization by sex \n",
    "#number by diagnosis by sex \n",
    "m_balance = {}\n",
    "f_balance = {}\n",
    "for d,s in zip(list(df[\"localization\"]), list(df[\"sex\"])):\n",
    "    if s == \"male\":\n",
    "        if d not in m_balance:\n",
    "            m_balance[d] = 0 \n",
    "        m_balance[d] += 1\n",
    "    else:\n",
    "        if d not in f_balance:\n",
    "            f_balance[d] = 0 \n",
    "        f_balance[d] += 1\n",
    "m_balance\n",
    "ndf = pd.DataFrame()\n",
    "sexes = []\n",
    "ls = []\n",
    "amounts = []\n",
    "\n",
    "for d in m_balance:\n",
    "    sexes.append(\"male\")\n",
    "    ls.append(d)\n",
    "    amounts.append(m_balance[d])\n",
    "\n",
    "for d in f_balance:\n",
    "    sexes.append(\"female\")\n",
    "    ls.append(d)\n",
    "    amounts.append(f_balance[d])\n",
    "\n",
    "ndf[\"sex\"] = sexes\n",
    "ndf[\"localization\"] = ls\n",
    "ndf[\"nums\"] = amounts \n",
    "ndf\n",
    "try:\n",
    "    g = sns.catplot(\n",
    "    data=ndf, kind=\"bar\",\n",
    "    x=\"localization\", y=\"nums\", hue=\"sex\",\n",
    "     palette=\"dark\", alpha=.6, height=8, aspect =2,\n",
    "    )\n",
    "    g.despine(left=True)\n",
    "    g.set_axis_labels(\"Localization\", \"Count\")\n",
    "    g.legend.set_title(\"Sex\")\n",
    "except:\n",
    "    pass"
   ]
  },
  {
   "cell_type": "code",
   "execution_count": null,
   "metadata": {},
   "outputs": [],
   "source": []
  },
  {
   "cell_type": "code",
   "execution_count": 20,
   "metadata": {},
   "outputs": [
    {
     "data": {
      "image/png": "[encoded data removed]",
      "text/plain": [
       "<Figure size 1361.35x864 with 1 Axes>"
      ]
     },
     "metadata": {},
     "output_type": "display_data"
    }
   ],
   "source": [
    "# localization by diagnosis type\n",
    "balance = {} # locatization -> dx: count\n",
    "\n",
    "for l,d in zip(list(df[\"localization\"]), list(df[\"dx\"])):\n",
    "    if l not in balance:\n",
    "        balance[l] = {}\n",
    "    if d not in balance[l]:\n",
    "        balance[l][d] = 0 \n",
    "    balance[l][d] += 1\n",
    "\n",
    "ls = []\n",
    "dxs = []\n",
    "count = []\n",
    "for l in balance:\n",
    "    for dx in balance[l]:\n",
    "        dxs.append(dx)\n",
    "        ls.append(l)\n",
    "        count.append(balance[l][dx])\n",
    "\n",
    "ndf = pd.DataFrame()\n",
    "ndf[\"dx\"] = dxs\n",
    "ndf[\"localization\"] = ls\n",
    "ndf[\"count\"] = count \n",
    "ndf\n",
    "try:\n",
    "    g = sns.catplot(\n",
    "    data=ndf, kind=\"bar\",\n",
    "    x=\"localization\", y=\"count\", hue=\"dx\",\n",
    "      alpha=.6, height=12, aspect =1.5,\n",
    "    )\n",
    "    g.despine(left=True)\n",
    "    g.set_axis_labels(\"Localization\", \"Count\")\n",
    "    g.legend.set_title(\"Diagnosis\")\n",
    "except:\n",
    "    pass"
   ]
  },
  {
   "cell_type": "code",
   "execution_count": 21,
   "metadata": {},
   "outputs": [
    {
     "data": {
      "image/png": "[encoded data removed]",
      "text/plain": [
       "<Figure size 1243.85x576 with 1 Axes>"
      ]
     },
     "metadata": {},
     "output_type": "display_data"
    }
   ],
   "source": [
    "histo = {}\n",
    "for d, h in zip(list(df[\"dx\"]), list(df[\"dx_type\"])):\n",
    "    if d not in histo: \n",
    "        histo[d] = {}\n",
    "    if h not in histo[d]:\n",
    "        histo[d][h] = 0 \n",
    "    histo[d][h] += 1 \n",
    "histo\n",
    "\n",
    "dx = []\n",
    "hx = []\n",
    "count = []\n",
    "for d in histo:\n",
    "    for h in histo[d]:\n",
    "        dx.append(d)\n",
    "        hx.append(h)\n",
    "        count.append(histo[d][h])\n",
    "\n",
    "ndf = pd.DataFrame()\n",
    "ndf[\"dx\"] = dx\n",
    "ndf[\"hx\"] = hx\n",
    "ndf[\"count\"] = count \n",
    "ndf\n",
    "try:\n",
    "    g = sns.catplot(\n",
    "    data=ndf, kind=\"bar\",\n",
    "    x=\"dx\", y=\"count\", hue=\"hx\",\n",
    "     palette=\"dark\", alpha=.6, height=8, aspect =2,\n",
    "    )\n",
    "    g.despine(left=True)\n",
    "    g.set_axis_labels(\"Diagnosis\", \"Count\")\n",
    "    g.legend.set_title(\"Histology\")\n",
    "except:\n",
    "    pass"
   ]
  },
  {
   "cell_type": "markdown",
   "metadata": {},
   "source": [
    "Need to do localization by diagnosis type \n",
    "- segment before \n",
    "- ask Wayner how to proceed for multimodal learning\n",
    "- ask Wayner how to do transfer learning \n",
    "- week 7 transfer learning "
   ]
  },
  {
   "cell_type": "markdown",
   "metadata": {},
   "source": [
    "Actual image EDA "
   ]
  },
  {
   "cell_type": "code",
   "execution_count": 22,
   "metadata": {},
   "outputs": [],
   "source": [
    "import os \n",
    "from tqdm import tqdm \n",
    "import numpy as np \n",
    "from PIL import Image\n"
   ]
  },
  {
   "cell_type": "code",
   "execution_count": 23,
   "metadata": {},
   "outputs": [],
   "source": [
    "def get_dims(file):\n",
    "    '''Returns dimenstions for an RBG image'''\n",
    "    im = Image.open(file)\n",
    "    arr = np.array(im)\n",
    "    h,w,d = arr.shape\n",
    "    return h,w"
   ]
  },
  {
   "cell_type": "code",
   "execution_count": 24,
   "metadata": {},
   "outputs": [
    {
     "name": "stderr",
     "output_type": "stream",
     "text": [
      "100%|██████████| 5000/5000 [00:32<00:00, 151.82it/s]\n",
      "100%|██████████| 5015/5015 [00:32<00:00, 152.53it/s]\n"
     ]
    }
   ],
   "source": [
    "sds = [\"./HAM10000/HAM10000_images_part_1/\", \"./HAM10000/HAM10000_images_part_2/\"]\n",
    "hs = []\n",
    "ws = []\n",
    "for sd in sds:\n",
    "    filelist = [sd + f for f in os.listdir(sd)]\n",
    "    for file in tqdm(filelist):\n",
    "        h, w  = get_dims(file)\n",
    "        hs.append(h)\n",
    "        ws.append(w)\n"
   ]
  },
  {
   "cell_type": "code",
   "execution_count": 25,
   "metadata": {},
   "outputs": [
    {
     "name": "stdout",
     "output_type": "stream",
     "text": [
      "600 450\n"
     ]
    },
    {
     "data": {
      "image/png": "[encoded data removed]",
      "text/plain": [
       "<Figure size 1263.6x893.16 with 1 Axes>"
      ]
     },
     "metadata": {},
     "output_type": "display_data"
    }
   ],
   "source": [
    "g = sns.scatterplot(x=ws, y=hs)\n",
    "print(ws[0], hs[0])\n",
    "# so all images are 600 x 450"
   ]
  },
  {
   "cell_type": "code",
   "execution_count": 26,
   "metadata": {},
   "outputs": [
    {
     "name": "stderr",
     "output_type": "stream",
     "text": [
      "100%|██████████| 5000/5000 [00:00<00:00, 2487724.79it/s]\n",
      "100%|██████████| 5015/5015 [00:00<00:00, 2798620.88it/s]\n"
     ]
    }
   ],
   "source": [
    "#randomly sample several images to view\n",
    "\n",
    "sds = [\"./HAM10000/HAM10000_images_part_1/\", \"./HAM10000/HAM10000_images_part_2/\"]\n",
    "files = []\n",
    "for sd in sds:\n",
    "    for f in tqdm(os.listdir(sd)):\n",
    "        files.append(sd + f)\n"
   ]
  },
  {
   "cell_type": "code",
   "execution_count": 27,
   "metadata": {},
   "outputs": [],
   "source": [
    "sample_num = 10 \n",
    "samples = []\n",
    "for i in range(sample_num):\n",
    "    samples.append(int(random()*len(files)))\n",
    "for i in range(len(samples)):\n",
    "    samples[i] = files[samples[i]]"
   ]
  },
  {
   "cell_type": "code",
   "execution_count": 28,
   "metadata": {},
   "outputs": [],
   "source": [
    "for file in samples:\n",
    "    im = Image.open(file)\n",
    "    im.show()"
   ]
  },
  {
   "cell_type": "markdown",
   "metadata": {},
   "source": [
    "-Look at the ways in which people are evaluating unbalanced datasets\n",
    "just change the evaluation metric to fit the problem you are trying to solve "
   ]
  },
  {
   "cell_type": "code",
   "execution_count": null,
   "metadata": {},
   "outputs": [],
   "source": []
  }
 ],
 "metadata": {
  "kernelspec": {
   "display_name": "Python 3 (ipykernel)",
   "language": "python",
   "name": "python3"
  },
  "language_info": {
   "codemirror_mode": {
    "name": "ipython",
    "version": 3
   },
   "file_extension": ".py",
   "mimetype": "text/x-python",
   "name": "python",
   "nbconvert_exporter": "python",
   "pygments_lexer": "ipython3",
   "version": "3.9.5"
  },
  "vscode": {
   "interpreter": {
    "hash": "9722fc3210a6a2135e84c16e3d701be0bd51529494758316206ad34a8c5b1dde"
   }
  }
 },
 "nbformat": 4,
 "nbformat_minor": 2
}
