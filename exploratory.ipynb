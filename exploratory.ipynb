{
  "cells": [
    {
      "cell_type": "code",
      "execution_count": null,
      "metadata": {
        "id": "JcdlhHVFqS-r"
      },
      "outputs": [],
      "source": [
        "import pandas as pd\n",
        "import numpy as np \n",
        "import seaborn as sns\n",
        "import matplotlib.pyplot as plt \n",
        "import math \n",
        "from random import random "
      ]
    },
    {
      "cell_type": "code",
      "execution_count": null,
      "metadata": {
        "id": "pR7Dp6H_qS-v",
        "outputId": "baf45e0d-767d-4954-dde0-16f6d33dfb66"
      },
      "outputs": [
        {
          "data": {
            "text/html": [
              "<div>\n",
              "<style scoped>\n",
              "    .dataframe tbody tr th:only-of-type {\n",
              "        vertical-align: middle;\n",
              "    }\n",
              "\n",
              "    .dataframe tbody tr th {\n",
              "        vertical-align: top;\n",
              "    }\n",
              "\n",
              "    .dataframe thead th {\n",
              "        text-align: right;\n",
              "    }\n",
              "</style>\n",
              "<table border=\"1\" class=\"dataframe\">\n",
              "  <thead>\n",
              "    <tr style=\"text-align: right;\">\n",
              "      <th></th>\n",
              "      <th>lesion_id</th>\n",
              "      <th>image_id</th>\n",
              "      <th>dx</th>\n",
              "      <th>dx_type</th>\n",
              "      <th>age</th>\n",
              "      <th>sex</th>\n",
              "      <th>localization</th>\n",
              "      <th>dataset</th>\n",
              "    </tr>\n",
              "  </thead>\n",
              "  <tbody>\n",
              "    <tr>\n",
              "      <td>0</td>\n",
              "      <td>HAM_0000118</td>\n",
              "      <td>ISIC_0027419</td>\n",
              "      <td>bkl</td>\n",
              "      <td>histo</td>\n",
              "      <td>80.0</td>\n",
              "      <td>male</td>\n",
              "      <td>scalp</td>\n",
              "      <td>vidir_modern</td>\n",
              "    </tr>\n",
              "    <tr>\n",
              "      <td>1</td>\n",
              "      <td>HAM_0000118</td>\n",
              "      <td>ISIC_0025030</td>\n",
              "      <td>bkl</td>\n",
              "      <td>histo</td>\n",
              "      <td>80.0</td>\n",
              "      <td>male</td>\n",
              "      <td>scalp</td>\n",
              "      <td>vidir_modern</td>\n",
              "    </tr>\n",
              "    <tr>\n",
              "      <td>2</td>\n",
              "      <td>HAM_0002730</td>\n",
              "      <td>ISIC_0026769</td>\n",
              "      <td>bkl</td>\n",
              "      <td>histo</td>\n",
              "      <td>80.0</td>\n",
              "      <td>male</td>\n",
              "      <td>scalp</td>\n",
              "      <td>vidir_modern</td>\n",
              "    </tr>\n",
              "    <tr>\n",
              "      <td>3</td>\n",
              "      <td>HAM_0002730</td>\n",
              "      <td>ISIC_0025661</td>\n",
              "      <td>bkl</td>\n",
              "      <td>histo</td>\n",
              "      <td>80.0</td>\n",
              "      <td>male</td>\n",
              "      <td>scalp</td>\n",
              "      <td>vidir_modern</td>\n",
              "    </tr>\n",
              "    <tr>\n",
              "      <td>4</td>\n",
              "      <td>HAM_0001466</td>\n",
              "      <td>ISIC_0031633</td>\n",
              "      <td>bkl</td>\n",
              "      <td>histo</td>\n",
              "      <td>75.0</td>\n",
              "      <td>male</td>\n",
              "      <td>ear</td>\n",
              "      <td>vidir_modern</td>\n",
              "    </tr>\n",
              "    <tr>\n",
              "      <td>...</td>\n",
              "      <td>...</td>\n",
              "      <td>...</td>\n",
              "      <td>...</td>\n",
              "      <td>...</td>\n",
              "      <td>...</td>\n",
              "      <td>...</td>\n",
              "      <td>...</td>\n",
              "      <td>...</td>\n",
              "    </tr>\n",
              "    <tr>\n",
              "      <td>10010</td>\n",
              "      <td>HAM_0002867</td>\n",
              "      <td>ISIC_0033084</td>\n",
              "      <td>akiec</td>\n",
              "      <td>histo</td>\n",
              "      <td>40.0</td>\n",
              "      <td>male</td>\n",
              "      <td>abdomen</td>\n",
              "      <td>vidir_modern</td>\n",
              "    </tr>\n",
              "    <tr>\n",
              "      <td>10011</td>\n",
              "      <td>HAM_0002867</td>\n",
              "      <td>ISIC_0033550</td>\n",
              "      <td>akiec</td>\n",
              "      <td>histo</td>\n",
              "      <td>40.0</td>\n",
              "      <td>male</td>\n",
              "      <td>abdomen</td>\n",
              "      <td>vidir_modern</td>\n",
              "    </tr>\n",
              "    <tr>\n",
              "      <td>10012</td>\n",
              "      <td>HAM_0002867</td>\n",
              "      <td>ISIC_0033536</td>\n",
              "      <td>akiec</td>\n",
              "      <td>histo</td>\n",
              "      <td>40.0</td>\n",
              "      <td>male</td>\n",
              "      <td>abdomen</td>\n",
              "      <td>vidir_modern</td>\n",
              "    </tr>\n",
              "    <tr>\n",
              "      <td>10013</td>\n",
              "      <td>HAM_0000239</td>\n",
              "      <td>ISIC_0032854</td>\n",
              "      <td>akiec</td>\n",
              "      <td>histo</td>\n",
              "      <td>80.0</td>\n",
              "      <td>male</td>\n",
              "      <td>face</td>\n",
              "      <td>vidir_modern</td>\n",
              "    </tr>\n",
              "    <tr>\n",
              "      <td>10014</td>\n",
              "      <td>HAM_0003521</td>\n",
              "      <td>ISIC_0032258</td>\n",
              "      <td>mel</td>\n",
              "      <td>histo</td>\n",
              "      <td>70.0</td>\n",
              "      <td>female</td>\n",
              "      <td>back</td>\n",
              "      <td>vidir_modern</td>\n",
              "    </tr>\n",
              "  </tbody>\n",
              "</table>\n",
              "<p>10015 rows × 8 columns</p>\n",
              "</div>"
            ],
            "text/plain": [
              "         lesion_id      image_id     dx dx_type   age     sex localization  \\\n",
              "0      HAM_0000118  ISIC_0027419    bkl   histo  80.0    male        scalp   \n",
              "1      HAM_0000118  ISIC_0025030    bkl   histo  80.0    male        scalp   \n",
              "2      HAM_0002730  ISIC_0026769    bkl   histo  80.0    male        scalp   \n",
              "3      HAM_0002730  ISIC_0025661    bkl   histo  80.0    male        scalp   \n",
              "4      HAM_0001466  ISIC_0031633    bkl   histo  75.0    male          ear   \n",
              "...            ...           ...    ...     ...   ...     ...          ...   \n",
              "10010  HAM_0002867  ISIC_0033084  akiec   histo  40.0    male      abdomen   \n",
              "10011  HAM_0002867  ISIC_0033550  akiec   histo  40.0    male      abdomen   \n",
              "10012  HAM_0002867  ISIC_0033536  akiec   histo  40.0    male      abdomen   \n",
              "10013  HAM_0000239  ISIC_0032854  akiec   histo  80.0    male         face   \n",
              "10014  HAM_0003521  ISIC_0032258    mel   histo  70.0  female         back   \n",
              "\n",
              "            dataset  \n",
              "0      vidir_modern  \n",
              "1      vidir_modern  \n",
              "2      vidir_modern  \n",
              "3      vidir_modern  \n",
              "4      vidir_modern  \n",
              "...             ...  \n",
              "10010  vidir_modern  \n",
              "10011  vidir_modern  \n",
              "10012  vidir_modern  \n",
              "10013  vidir_modern  \n",
              "10014  vidir_modern  \n",
              "\n",
              "[10015 rows x 8 columns]"
            ]
          },
          "execution_count": 3,
          "metadata": {},
          "output_type": "execute_result"
        }
      ],
      "source": [
        "df = pd.read_csv(\"./HAM10000/HAM10000_metadata.csv\")\n",
        "df"
      ]
    },
    {
      "cell_type": "code",
      "execution_count": null,
      "metadata": {
        "id": "M3wynaMJqS-w",
        "outputId": "a4c2e5bb-64c8-4568-f338-41d8375f1afa"
      },
      "outputs": [
        {
          "data": {
            "text/plain": [
              "{'male': 5406, 'female': 4552, 'unknown': 57}"
            ]
          },
          "execution_count": 4,
          "metadata": {},
          "output_type": "execute_result"
        }
      ],
      "source": [
        "#sex balance \n",
        "sex = {}\n",
        "for s in df[\"sex\"]:\n",
        "    if s not in sex:\n",
        "        sex[s] = 0 \n",
        "    sex[s] += 1\n",
        "sex"
      ]
    },
    {
      "cell_type": "code",
      "execution_count": null,
      "metadata": {
        "id": "krMfwTXoqS-x",
        "outputId": "72418aef-ceb6-4891-814a-27ab86acbd85"
      },
      "outputs": [
        {
          "name": "stdout",
          "output_type": "stream",
          "text": [
            "10015\n"
          ]
        },
        {
          "data": {
            "text/plain": [
              "{'bkl': 1099,\n",
              " 'nv': 6705,\n",
              " 'df': 115,\n",
              " 'mel': 1113,\n",
              " 'vasc': 142,\n",
              " 'bcc': 514,\n",
              " 'akiec': 327}"
            ]
          },
          "execution_count": 5,
          "metadata": {},
          "output_type": "execute_result"
        }
      ],
      "source": [
        "c = 0 \n",
        "balance = {}\n",
        "for d in df[\"dx\"]:\n",
        "    if d not in balance:\n",
        "        balance[d] = 0 \n",
        "    balance[d] += 1\n",
        "    c += 1\n",
        "print(c)\n",
        "balance"
      ]
    },
    {
      "cell_type": "code",
      "execution_count": null,
      "metadata": {
        "id": "Yct1OomfqS-y"
      },
      "outputs": [],
      "source": [
        "dx  = []\n",
        "nums = []\n",
        "for d in balance:\n",
        "    dx.append(d)\n",
        "    nums.append(balance[d])\n",
        "df = pd.DataFrame()\n",
        "df[\"dx\"] = dx\n",
        "df[\"nums\"] = nums"
      ]
    },
    {
      "cell_type": "code",
      "execution_count": null,
      "metadata": {
        "id": "DxYAZrz8qS-z",
        "outputId": "b9e2275d-d406-4e3a-c96c-1b67fdbb54f7"
      },
      "outputs": [
        {
          "data": {
            "text/plain": [
              "[Text(0.5, 0, 'Diagnosis'), Text(0, 0.5, 'Samples')]"
            ]
          },
          "execution_count": 7,
          "metadata": {},
          "output_type": "execute_result"
        },
        {
          "data": {
            "image/png": "[encoded data removed]",
            "text/plain": [
              "<Figure size 432x288 with 1 Axes>"
            ]
          },
          "metadata": {
            "needs_background": "light"
          },
          "output_type": "display_data"
        }
      ],
      "source": [
        "g = sns.barplot(x=\"dx\", y=\"nums\", data=df)\n",
        "g.set(xlabel=\"Diagnosis\", ylabel=\"Samples\")\n",
        "#here either add legend, or figure description for map "
      ]
    },
    {
      "cell_type": "markdown",
      "metadata": {
        "id": "U-rpQixHqS-z"
      },
      "source": [
        "Age balance - male female ages "
      ]
    },
    {
      "cell_type": "code",
      "execution_count": null,
      "metadata": {
        "id": "3YhLJVJZqS-1",
        "outputId": "dc58d69a-0662-4175-89f5-bc4bc731e20f"
      },
      "outputs": [
        {
          "data": {
            "text/plain": [
              "[Text(0.5, 0, 'Sex'), Text(0, 0.5, 'Age')]"
            ]
          },
          "execution_count": 8,
          "metadata": {},
          "output_type": "execute_result"
        },
        {
          "data": {
            "image/png": "[encoded data removed]",
            "text/plain": [
              "<Figure size 432x288 with 1 Axes>"
            ]
          },
          "metadata": {
            "needs_background": "light"
          },
          "output_type": "display_data"
        }
      ],
      "source": [
        "df = pd.read_csv(\"./HAM10000/HAM10000_metadata.csv\")\n",
        "\n",
        "g = sns.boxplot(x=\"sex\", y=\"age\", data=df)\n",
        "g.set(xlabel=\"Sex\", ylabel=\"Age\")"
      ]
    },
    {
      "cell_type": "markdown",
      "metadata": {
        "id": "deCiOGMBqS-2"
      },
      "source": [
        "Average incidence age for dx "
      ]
    },
    {
      "cell_type": "code",
      "execution_count": null,
      "metadata": {
        "id": "NZ0zF8KSqS-3",
        "outputId": "bd88da37-1a1e-4fde-ec3f-bc26395e2ccb"
      },
      "outputs": [
        {
          "data": {
            "text/plain": [
              "[Text(0.5, 0, 'Diagnosis'), Text(0, 0.5, 'Age')]"
            ]
          },
          "execution_count": 9,
          "metadata": {},
          "output_type": "execute_result"
        },
        {
          "data": {
            "image/png": "[encoded data removed]",
            "text/plain": [
              "<Figure size 432x288 with 1 Axes>"
            ]
          },
          "metadata": {
            "needs_background": "light"
          },
          "output_type": "display_data"
        }
      ],
      "source": [
        "g = sns.violinplot(x=\"dx\", y=\"age\", data=df)\n",
        "g.set(xlabel=\"Diagnosis\", ylabel=\"Age\")"
      ]
    },
    {
      "cell_type": "markdown",
      "metadata": {
        "id": "0LJvqBFsqS-3"
      },
      "source": [
        "Localization of condition"
      ]
    },
    {
      "cell_type": "code",
      "execution_count": null,
      "metadata": {
        "id": "fL78pNL7qS-4",
        "outputId": "8c49b91f-8ba1-438d-aafd-d9e4922615c3"
      },
      "outputs": [
        {
          "name": "stdout",
          "output_type": "stream",
          "text": [
            "10015\n"
          ]
        },
        {
          "data": {
            "text/plain": [
              "{'back': 2192,\n",
              " 'lower extremity': 2077,\n",
              " 'trunk': 1404,\n",
              " 'upper extremity': 1118,\n",
              " 'abdomen': 1022,\n",
              " 'face': 745,\n",
              " 'chest': 407,\n",
              " 'foot': 319,\n",
              " 'unknown': 234,\n",
              " 'neck': 168,\n",
              " 'scalp': 128,\n",
              " 'hand': 90,\n",
              " 'ear': 56,\n",
              " 'genital': 48,\n",
              " 'acral': 7}"
            ]
          },
          "execution_count": 10,
          "metadata": {},
          "output_type": "execute_result"
        }
      ],
      "source": [
        "df = pd.read_csv(\"./HAM10000/HAM10000_metadata.csv\")\n",
        "\n",
        "c = 0 \n",
        "balance = {}\n",
        "for d in df[\"localization\"]:\n",
        "    if d not in balance:\n",
        "        balance[d] = 0 \n",
        "    balance[d] += 1\n",
        "    c += 1\n",
        "print(c)\n",
        "\n",
        "balance = dict(sorted(balance.items(), key=lambda item: item[1], reverse=True))\n",
        "balance"
      ]
    },
    {
      "cell_type": "code",
      "execution_count": null,
      "metadata": {
        "id": "yAxUdV5hqS-5",
        "outputId": "d41e432b-c269-4711-a1a6-4a421f74b5f0"
      },
      "outputs": [
        {
          "data": {
            "text/plain": [
              "[Text(0.5, 0, 'Localization'), Text(0, 0.5, 'Samples')]"
            ]
          },
          "execution_count": 11,
          "metadata": {},
          "output_type": "execute_result"
        },
        {
          "data": {
            "image/png": "[encoded data removed]",
            "text/plain": [
              "<Figure size 1263.6x893.16 with 1 Axes>"
            ]
          },
          "metadata": {},
          "output_type": "display_data"
        }
      ],
      "source": [
        "dx  = []\n",
        "nums = []\n",
        "for d in balance:\n",
        "    dx.append(d)\n",
        "    nums.append(balance[d])\n",
        "df = pd.DataFrame()\n",
        "df[\"dx\"] = dx\n",
        "df[\"nums\"] = nums\n",
        "\n",
        "sns.set(font_scale=1, rc={'figure.figsize':(1.5*11.7,1.5*8.27)})\n",
        "g = sns.barplot(x=\"dx\", y=\"nums\", data=df)\n",
        "g.set(xlabel=\"Localization\", ylabel=\"Samples\")"
      ]
    },
    {
      "cell_type": "markdown",
      "metadata": {
        "id": "QtMjxWPKqS-5"
      },
      "source": [
        "Histology distrib "
      ]
    },
    {
      "cell_type": "code",
      "execution_count": null,
      "metadata": {
        "id": "rDrkBAeaqS-5",
        "outputId": "9f377cb9-117a-42ab-fc14-1f22698076a6"
      },
      "outputs": [
        {
          "data": {
            "text/plain": [
              "{'histo': 5340, 'consensus': 902, 'confocal': 69, 'follow_up': 3704}"
            ]
          },
          "execution_count": 13,
          "metadata": {},
          "output_type": "execute_result"
        }
      ],
      "source": [
        "df = pd.read_csv(\"./HAM10000/HAM10000_metadata.csv\")\n",
        "balance = {}\n",
        "for d in df[\"dx_type\"]:\n",
        "    if d not in balance:\n",
        "        balance[d] = 0 \n",
        "    balance[d] += 1\n",
        "balance"
      ]
    },
    {
      "cell_type": "code",
      "execution_count": null,
      "metadata": {
        "id": "EUob_0HbqS-6",
        "outputId": "4f26daf0-0c5e-4f13-8ce3-879741406438"
      },
      "outputs": [
        {
          "data": {
            "text/plain": [
              "[Text(0.5, 0, 'Localization'), Text(0, 0.5, 'Samples')]"
            ]
          },
          "execution_count": 14,
          "metadata": {},
          "output_type": "execute_result"
        },
        {
          "data": {
            "image/png": "[encoded data removed]",
            "text/plain": [
              "<Figure size 1263.6x893.16 with 1 Axes>"
            ]
          },
          "metadata": {},
          "output_type": "display_data"
        }
      ],
      "source": [
        "hx  = []\n",
        "nums = []\n",
        "for d in balance:\n",
        "    hx.append(d)\n",
        "    nums.append(balance[d])\n",
        "df = pd.DataFrame()\n",
        "df[\"hx\"] = hx\n",
        "df[\"nums\"] = nums\n",
        "g = sns.barplot(x=\"hx\", y=\"nums\", data=df)\n",
        "g.set(xlabel=\"Localization\", ylabel=\"Samples\")"
      ]
    },
    {
      "cell_type": "code",
      "execution_count": null,
      "metadata": {
        "id": "w34KnkjgqS-6",
        "outputId": "ed9402aa-acaa-462a-eeb0-0df424b035f8"
      },
      "outputs": [
        {
          "data": {
            "text/html": [
              "<div>\n",
              "<style scoped>\n",
              "    .dataframe tbody tr th:only-of-type {\n",
              "        vertical-align: middle;\n",
              "    }\n",
              "\n",
              "    .dataframe tbody tr th {\n",
              "        vertical-align: top;\n",
              "    }\n",
              "\n",
              "    .dataframe thead th {\n",
              "        text-align: right;\n",
              "    }\n",
              "</style>\n",
              "<table border=\"1\" class=\"dataframe\">\n",
              "  <thead>\n",
              "    <tr style=\"text-align: right;\">\n",
              "      <th></th>\n",
              "      <th>lesion_id</th>\n",
              "      <th>image_id</th>\n",
              "      <th>dx</th>\n",
              "      <th>dx_type</th>\n",
              "      <th>age</th>\n",
              "      <th>sex</th>\n",
              "      <th>localization</th>\n",
              "      <th>dataset</th>\n",
              "    </tr>\n",
              "  </thead>\n",
              "  <tbody>\n",
              "    <tr>\n",
              "      <td>0</td>\n",
              "      <td>HAM_0000118</td>\n",
              "      <td>ISIC_0027419</td>\n",
              "      <td>bkl</td>\n",
              "      <td>histo</td>\n",
              "      <td>80.0</td>\n",
              "      <td>male</td>\n",
              "      <td>scalp</td>\n",
              "      <td>vidir_modern</td>\n",
              "    </tr>\n",
              "    <tr>\n",
              "      <td>1</td>\n",
              "      <td>HAM_0000118</td>\n",
              "      <td>ISIC_0025030</td>\n",
              "      <td>bkl</td>\n",
              "      <td>histo</td>\n",
              "      <td>80.0</td>\n",
              "      <td>male</td>\n",
              "      <td>scalp</td>\n",
              "      <td>vidir_modern</td>\n",
              "    </tr>\n",
              "    <tr>\n",
              "      <td>2</td>\n",
              "      <td>HAM_0002730</td>\n",
              "      <td>ISIC_0026769</td>\n",
              "      <td>bkl</td>\n",
              "      <td>histo</td>\n",
              "      <td>80.0</td>\n",
              "      <td>male</td>\n",
              "      <td>scalp</td>\n",
              "      <td>vidir_modern</td>\n",
              "    </tr>\n",
              "    <tr>\n",
              "      <td>3</td>\n",
              "      <td>HAM_0002730</td>\n",
              "      <td>ISIC_0025661</td>\n",
              "      <td>bkl</td>\n",
              "      <td>histo</td>\n",
              "      <td>80.0</td>\n",
              "      <td>male</td>\n",
              "      <td>scalp</td>\n",
              "      <td>vidir_modern</td>\n",
              "    </tr>\n",
              "    <tr>\n",
              "      <td>4</td>\n",
              "      <td>HAM_0001466</td>\n",
              "      <td>ISIC_0031633</td>\n",
              "      <td>bkl</td>\n",
              "      <td>histo</td>\n",
              "      <td>75.0</td>\n",
              "      <td>male</td>\n",
              "      <td>ear</td>\n",
              "      <td>vidir_modern</td>\n",
              "    </tr>\n",
              "    <tr>\n",
              "      <td>...</td>\n",
              "      <td>...</td>\n",
              "      <td>...</td>\n",
              "      <td>...</td>\n",
              "      <td>...</td>\n",
              "      <td>...</td>\n",
              "      <td>...</td>\n",
              "      <td>...</td>\n",
              "      <td>...</td>\n",
              "    </tr>\n",
              "    <tr>\n",
              "      <td>10010</td>\n",
              "      <td>HAM_0002867</td>\n",
              "      <td>ISIC_0033084</td>\n",
              "      <td>akiec</td>\n",
              "      <td>histo</td>\n",
              "      <td>40.0</td>\n",
              "      <td>male</td>\n",
              "      <td>abdomen</td>\n",
              "      <td>vidir_modern</td>\n",
              "    </tr>\n",
              "    <tr>\n",
              "      <td>10011</td>\n",
              "      <td>HAM_0002867</td>\n",
              "      <td>ISIC_0033550</td>\n",
              "      <td>akiec</td>\n",
              "      <td>histo</td>\n",
              "      <td>40.0</td>\n",
              "      <td>male</td>\n",
              "      <td>abdomen</td>\n",
              "      <td>vidir_modern</td>\n",
              "    </tr>\n",
              "    <tr>\n",
              "      <td>10012</td>\n",
              "      <td>HAM_0002867</td>\n",
              "      <td>ISIC_0033536</td>\n",
              "      <td>akiec</td>\n",
              "      <td>histo</td>\n",
              "      <td>40.0</td>\n",
              "      <td>male</td>\n",
              "      <td>abdomen</td>\n",
              "      <td>vidir_modern</td>\n",
              "    </tr>\n",
              "    <tr>\n",
              "      <td>10013</td>\n",
              "      <td>HAM_0000239</td>\n",
              "      <td>ISIC_0032854</td>\n",
              "      <td>akiec</td>\n",
              "      <td>histo</td>\n",
              "      <td>80.0</td>\n",
              "      <td>male</td>\n",
              "      <td>face</td>\n",
              "      <td>vidir_modern</td>\n",
              "    </tr>\n",
              "    <tr>\n",
              "      <td>10014</td>\n",
              "      <td>HAM_0003521</td>\n",
              "      <td>ISIC_0032258</td>\n",
              "      <td>mel</td>\n",
              "      <td>histo</td>\n",
              "      <td>70.0</td>\n",
              "      <td>female</td>\n",
              "      <td>back</td>\n",
              "      <td>vidir_modern</td>\n",
              "    </tr>\n",
              "  </tbody>\n",
              "</table>\n",
              "<p>10015 rows × 8 columns</p>\n",
              "</div>"
            ],
            "text/plain": [
              "         lesion_id      image_id     dx dx_type   age     sex localization  \\\n",
              "0      HAM_0000118  ISIC_0027419    bkl   histo  80.0    male        scalp   \n",
              "1      HAM_0000118  ISIC_0025030    bkl   histo  80.0    male        scalp   \n",
              "2      HAM_0002730  ISIC_0026769    bkl   histo  80.0    male        scalp   \n",
              "3      HAM_0002730  ISIC_0025661    bkl   histo  80.0    male        scalp   \n",
              "4      HAM_0001466  ISIC_0031633    bkl   histo  75.0    male          ear   \n",
              "...            ...           ...    ...     ...   ...     ...          ...   \n",
              "10010  HAM_0002867  ISIC_0033084  akiec   histo  40.0    male      abdomen   \n",
              "10011  HAM_0002867  ISIC_0033550  akiec   histo  40.0    male      abdomen   \n",
              "10012  HAM_0002867  ISIC_0033536  akiec   histo  40.0    male      abdomen   \n",
              "10013  HAM_0000239  ISIC_0032854  akiec   histo  80.0    male         face   \n",
              "10014  HAM_0003521  ISIC_0032258    mel   histo  70.0  female         back   \n",
              "\n",
              "            dataset  \n",
              "0      vidir_modern  \n",
              "1      vidir_modern  \n",
              "2      vidir_modern  \n",
              "3      vidir_modern  \n",
              "4      vidir_modern  \n",
              "...             ...  \n",
              "10010  vidir_modern  \n",
              "10011  vidir_modern  \n",
              "10012  vidir_modern  \n",
              "10013  vidir_modern  \n",
              "10014  vidir_modern  \n",
              "\n",
              "[10015 rows x 8 columns]"
            ]
          },
          "execution_count": 15,
          "metadata": {},
          "output_type": "execute_result"
        }
      ],
      "source": [
        "df = pd.read_csv(\"./HAM10000/HAM10000_metadata.csv\")\n",
        "df"
      ]
    },
    {
      "cell_type": "code",
      "execution_count": null,
      "metadata": {
        "id": "YkpM7AVqqS-7",
        "outputId": "57582ef9-301f-438e-e2b9-5737e4978359"
      },
      "outputs": [
        {
          "data": {
            "text/plain": [
              "[Text(0.5, 0, 'Localization'), Text(0, 0.5, 'Age')]"
            ]
          },
          "execution_count": 16,
          "metadata": {},
          "output_type": "execute_result"
        },
        {
          "data": {
            "image/png": "[encoded data removed]",
            "text/plain": [
              "<Figure size 1263.6x893.16 with 1 Axes>"
            ]
          },
          "metadata": {},
          "output_type": "display_data"
        }
      ],
      "source": [
        "#age vs localization \n",
        "g = sns.boxplot(x=\"localization\", y=\"age\", data=df)\n",
        "sns.set(font_scale=1, rc={'figure.figsize':(1.5*11.7,1.5*8.27)})\n",
        "g.set(xlabel=\"Localization\", ylabel=\"Age\")"
      ]
    },
    {
      "cell_type": "code",
      "execution_count": null,
      "metadata": {
        "id": "o7O3crJ0qS-7"
      },
      "outputs": [],
      "source": [
        "#number by diagnosis by sex \n",
        "m_balance = {}\n",
        "f_balance = {}\n",
        "for d,s in zip(list(df[\"dx\"]), list(df[\"sex\"])):\n",
        "    if s == \"male\":\n",
        "        if d not in m_balance:\n",
        "            m_balance[d] = 0 \n",
        "        m_balance[d] += 1\n",
        "    else:\n",
        "        if d not in f_balance:\n",
        "            f_balance[d] = 0 \n",
        "        f_balance[d] += 1"
      ]
    },
    {
      "cell_type": "code",
      "execution_count": null,
      "metadata": {
        "id": "eI1fAa98qS-7",
        "outputId": "ca378d30-1c45-4e7a-dda7-06044a4e434c"
      },
      "outputs": [
        {
          "data": {
            "text/plain": [
              "{'bkl': 626,\n",
              " 'nv': 3421,\n",
              " 'df': 63,\n",
              " 'mel': 689,\n",
              " 'vasc': 69,\n",
              " 'bcc': 317,\n",
              " 'akiec': 221}"
            ]
          },
          "execution_count": 18,
          "metadata": {},
          "output_type": "execute_result"
        }
      ],
      "source": [
        "m_balance"
      ]
    },
    {
      "cell_type": "code",
      "execution_count": null,
      "metadata": {
        "id": "hf1jPO_vqS-8",
        "outputId": "9fa7d4a8-aa3f-488f-ed25-7030ef22d6b4"
      },
      "outputs": [
        {
          "data": {
            "text/html": [
              "<div>\n",
              "<style scoped>\n",
              "    .dataframe tbody tr th:only-of-type {\n",
              "        vertical-align: middle;\n",
              "    }\n",
              "\n",
              "    .dataframe tbody tr th {\n",
              "        vertical-align: top;\n",
              "    }\n",
              "\n",
              "    .dataframe thead th {\n",
              "        text-align: right;\n",
              "    }\n",
              "</style>\n",
              "<table border=\"1\" class=\"dataframe\">\n",
              "  <thead>\n",
              "    <tr style=\"text-align: right;\">\n",
              "      <th></th>\n",
              "      <th>sex</th>\n",
              "      <th>dx</th>\n",
              "      <th>nums</th>\n",
              "    </tr>\n",
              "  </thead>\n",
              "  <tbody>\n",
              "    <tr>\n",
              "      <td>0</td>\n",
              "      <td>male</td>\n",
              "      <td>bkl</td>\n",
              "      <td>626</td>\n",
              "    </tr>\n",
              "    <tr>\n",
              "      <td>1</td>\n",
              "      <td>male</td>\n",
              "      <td>nv</td>\n",
              "      <td>3421</td>\n",
              "    </tr>\n",
              "    <tr>\n",
              "      <td>2</td>\n",
              "      <td>male</td>\n",
              "      <td>df</td>\n",
              "      <td>63</td>\n",
              "    </tr>\n",
              "    <tr>\n",
              "      <td>3</td>\n",
              "      <td>male</td>\n",
              "      <td>mel</td>\n",
              "      <td>689</td>\n",
              "    </tr>\n",
              "    <tr>\n",
              "      <td>4</td>\n",
              "      <td>male</td>\n",
              "      <td>vasc</td>\n",
              "      <td>69</td>\n",
              "    </tr>\n",
              "    <tr>\n",
              "      <td>5</td>\n",
              "      <td>male</td>\n",
              "      <td>bcc</td>\n",
              "      <td>317</td>\n",
              "    </tr>\n",
              "    <tr>\n",
              "      <td>6</td>\n",
              "      <td>male</td>\n",
              "      <td>akiec</td>\n",
              "      <td>221</td>\n",
              "    </tr>\n",
              "    <tr>\n",
              "      <td>7</td>\n",
              "      <td>female</td>\n",
              "      <td>bkl</td>\n",
              "      <td>473</td>\n",
              "    </tr>\n",
              "    <tr>\n",
              "      <td>8</td>\n",
              "      <td>female</td>\n",
              "      <td>df</td>\n",
              "      <td>52</td>\n",
              "    </tr>\n",
              "    <tr>\n",
              "      <td>9</td>\n",
              "      <td>female</td>\n",
              "      <td>nv</td>\n",
              "      <td>3284</td>\n",
              "    </tr>\n",
              "    <tr>\n",
              "      <td>10</td>\n",
              "      <td>female</td>\n",
              "      <td>mel</td>\n",
              "      <td>424</td>\n",
              "    </tr>\n",
              "    <tr>\n",
              "      <td>11</td>\n",
              "      <td>female</td>\n",
              "      <td>vasc</td>\n",
              "      <td>73</td>\n",
              "    </tr>\n",
              "    <tr>\n",
              "      <td>12</td>\n",
              "      <td>female</td>\n",
              "      <td>bcc</td>\n",
              "      <td>197</td>\n",
              "    </tr>\n",
              "    <tr>\n",
              "      <td>13</td>\n",
              "      <td>female</td>\n",
              "      <td>akiec</td>\n",
              "      <td>106</td>\n",
              "    </tr>\n",
              "  </tbody>\n",
              "</table>\n",
              "</div>"
            ],
            "text/plain": [
              "       sex     dx  nums\n",
              "0     male    bkl   626\n",
              "1     male     nv  3421\n",
              "2     male     df    63\n",
              "3     male    mel   689\n",
              "4     male   vasc    69\n",
              "5     male    bcc   317\n",
              "6     male  akiec   221\n",
              "7   female    bkl   473\n",
              "8   female     df    52\n",
              "9   female     nv  3284\n",
              "10  female    mel   424\n",
              "11  female   vasc    73\n",
              "12  female    bcc   197\n",
              "13  female  akiec   106"
            ]
          },
          "execution_count": 19,
          "metadata": {},
          "output_type": "execute_result"
        }
      ],
      "source": [
        "ndf = pd.DataFrame()\n",
        "sexes = []\n",
        "dxs = []\n",
        "amounts = []\n",
        "\n",
        "for d in m_balance:\n",
        "    sexes.append(\"male\")\n",
        "    dxs.append(d)\n",
        "    amounts.append(m_balance[d])\n",
        "\n",
        "for d in f_balance:\n",
        "    sexes.append(\"female\")\n",
        "    dxs.append(d)\n",
        "    amounts.append(f_balance[d])\n",
        "\n",
        "ndf[\"sex\"] = sexes\n",
        "ndf[\"dx\"] = dxs \n",
        "ndf[\"nums\"] = amounts \n",
        "ndf"
      ]
    },
    {
      "cell_type": "code",
      "execution_count": null,
      "metadata": {
        "id": "z1fAUccmqS-8",
        "outputId": "490ae7b0-4bd2-4b62-82e0-9d96fe9e8c06"
      },
      "outputs": [
        {
          "data": {
            "image/png": "[encoded data removed]",
            "text/plain": [
              "<Figure size 504.85x432 with 1 Axes>"
            ]
          },
          "metadata": {},
          "output_type": "display_data"
        }
      ],
      "source": [
        "try:\n",
        "    g = sns.catplot(\n",
        "    data=ndf, kind=\"bar\",\n",
        "    x=\"dx\", y=\"nums\", hue=\"sex\",\n",
        "     palette=\"dark\", alpha=.6, height=6\n",
        "    )\n",
        "    g.despine(left=True)\n",
        "    g.set_axis_labels(\"Diagnosis\", \"Count\")\n",
        "    g.legend.set_title(\"Sex\")\n",
        "except:\n",
        "    pass"
      ]
    },
    {
      "cell_type": "code",
      "execution_count": null,
      "metadata": {
        "id": "cFRxUP4-qS-8",
        "outputId": "3288c7a2-e560-4d7a-e759-665ae030ff7c"
      },
      "outputs": [
        {
          "data": {
            "image/png": "[encoded data removed]",
            "text/plain": [
              "<Figure size 1224.85x576 with 1 Axes>"
            ]
          },
          "metadata": {},
          "output_type": "display_data"
        }
      ],
      "source": [
        "#number by localization by sex \n",
        "#number by diagnosis by sex \n",
        "m_balance = {}\n",
        "f_balance = {}\n",
        "for d,s in zip(list(df[\"localization\"]), list(df[\"sex\"])):\n",
        "    if s == \"male\":\n",
        "        if d not in m_balance:\n",
        "            m_balance[d] = 0 \n",
        "        m_balance[d] += 1\n",
        "    else:\n",
        "        if d not in f_balance:\n",
        "            f_balance[d] = 0 \n",
        "        f_balance[d] += 1\n",
        "m_balance\n",
        "ndf = pd.DataFrame()\n",
        "sexes = []\n",
        "ls = []\n",
        "amounts = []\n",
        "\n",
        "for d in m_balance:\n",
        "    sexes.append(\"male\")\n",
        "    ls.append(d)\n",
        "    amounts.append(m_balance[d])\n",
        "\n",
        "for d in f_balance:\n",
        "    sexes.append(\"female\")\n",
        "    ls.append(d)\n",
        "    amounts.append(f_balance[d])\n",
        "\n",
        "ndf[\"sex\"] = sexes\n",
        "ndf[\"localization\"] = ls\n",
        "ndf[\"nums\"] = amounts \n",
        "ndf\n",
        "try:\n",
        "    g = sns.catplot(\n",
        "    data=ndf, kind=\"bar\",\n",
        "    x=\"localization\", y=\"nums\", hue=\"sex\",\n",
        "     palette=\"dark\", alpha=.6, height=8, aspect =2,\n",
        "    )\n",
        "    g.despine(left=True)\n",
        "    g.set_axis_labels(\"Localization\", \"Count\")\n",
        "    g.legend.set_title(\"Sex\")\n",
        "except:\n",
        "    pass"
      ]
    },
    {
      "cell_type": "code",
      "execution_count": null,
      "metadata": {
        "id": "U1uUew4hqS-9"
      },
      "outputs": [],
      "source": []
    },
    {
      "cell_type": "code",
      "execution_count": null,
      "metadata": {
        "id": "5nl_jJ7sqS--",
        "outputId": "92e273d0-babc-4a2f-a8cb-da418479b365"
      },
      "outputs": [
        {
          "data": {
            "image/png": "[encoded data removed]",
            "text/plain": [
              "<Figure size 1361.35x864 with 1 Axes>"
            ]
          },
          "metadata": {},
          "output_type": "display_data"
        }
      ],
      "source": [
        "# localization by diagnosis type\n",
        "balance = {} # locatization -> dx: count\n",
        "\n",
        "for l,d in zip(list(df[\"localization\"]), list(df[\"dx\"])):\n",
        "    if l not in balance:\n",
        "        balance[l] = {}\n",
        "    if d not in balance[l]:\n",
        "        balance[l][d] = 0 \n",
        "    balance[l][d] += 1\n",
        "\n",
        "ls = []\n",
        "dxs = []\n",
        "count = []\n",
        "for l in balance:\n",
        "    for dx in balance[l]:\n",
        "        dxs.append(dx)\n",
        "        ls.append(l)\n",
        "        count.append(balance[l][dx])\n",
        "\n",
        "ndf = pd.DataFrame()\n",
        "ndf[\"dx\"] = dxs\n",
        "ndf[\"localization\"] = ls\n",
        "ndf[\"count\"] = count \n",
        "ndf\n",
        "try:\n",
        "    g = sns.catplot(\n",
        "    data=ndf, kind=\"bar\",\n",
        "    x=\"localization\", y=\"count\", hue=\"dx\",\n",
        "      alpha=.6, height=12, aspect =1.5,\n",
        "    )\n",
        "    g.despine(left=True)\n",
        "    g.set_axis_labels(\"Localization\", \"Count\")\n",
        "    g.legend.set_title(\"Diagnosis\")\n",
        "except:\n",
        "    pass"
      ]
    },
    {
      "cell_type": "code",
      "execution_count": null,
      "metadata": {
        "id": "UXZlFe8_qS--",
        "outputId": "83576353-ac08-40f0-a92b-9f2b87dfda52"
      },
      "outputs": [
        {
          "data": {
            "image/png": "[encoded data removed]",
            "text/plain": [
              "<Figure size 1243.85x576 with 1 Axes>"
            ]
          },
          "metadata": {},
          "output_type": "display_data"
        }
      ],
      "source": [
        "histo = {}\n",
        "for d, h in zip(list(df[\"dx\"]), list(df[\"dx_type\"])):\n",
        "    if d not in histo: \n",
        "        histo[d] = {}\n",
        "    if h not in histo[d]:\n",
        "        histo[d][h] = 0 \n",
        "    histo[d][h] += 1 \n",
        "histo\n",
        "\n",
        "dx = []\n",
        "hx = []\n",
        "count = []\n",
        "for d in histo:\n",
        "    for h in histo[d]:\n",
        "        dx.append(d)\n",
        "        hx.append(h)\n",
        "        count.append(histo[d][h])\n",
        "\n",
        "ndf = pd.DataFrame()\n",
        "ndf[\"dx\"] = dx\n",
        "ndf[\"hx\"] = hx\n",
        "ndf[\"count\"] = count \n",
        "ndf\n",
        "try:\n",
        "    g = sns.catplot(\n",
        "    data=ndf, kind=\"bar\",\n",
        "    x=\"dx\", y=\"count\", hue=\"hx\",\n",
        "     palette=\"dark\", alpha=.6, height=8, aspect =2,\n",
        "    )\n",
        "    g.despine(left=True)\n",
        "    g.set_axis_labels(\"Diagnosis\", \"Count\")\n",
        "    g.legend.set_title(\"Histology\")\n",
        "except:\n",
        "    pass"
      ]
    },
    {
      "cell_type": "markdown",
      "metadata": {
        "id": "PjW5bRp9qS-_"
      },
      "source": [
        "Need to do localization by diagnosis type \n",
        "- segment before \n",
        "- ask Wayner how to proceed for multimodal learning\n",
        "- ask Wayner how to do transfer learning \n",
        "- week 7 transfer learning "
      ]
    },
    {
      "cell_type": "markdown",
      "metadata": {
        "id": "XYTdp0PDqS-_"
      },
      "source": [
        "Actual image EDA "
      ]
    },
    {
      "cell_type": "code",
      "execution_count": null,
      "metadata": {
        "id": "Fy4JUleuqS-_"
      },
      "outputs": [],
      "source": [
        "import os \n",
        "from tqdm import tqdm \n",
        "import numpy as np \n",
        "from PIL import Image\n"
      ]
    },
    {
      "cell_type": "code",
      "execution_count": null,
      "metadata": {
        "id": "00xEGTXYqS_A"
      },
      "outputs": [],
      "source": [
        "def get_dims(file):\n",
        "    '''Returns dimenstions for an RBG image'''\n",
        "    im = Image.open(file)\n",
        "    arr = np.array(im)\n",
        "    h,w,d = arr.shape\n",
        "    return h,w"
      ]
    },
    {
      "cell_type": "code",
      "execution_count": null,
      "metadata": {
        "id": "LXZEVOEFqS_A",
        "outputId": "b01150af-2904-4ca2-f07c-d47c318d5b16"
      },
      "outputs": [
        {
          "name": "stderr",
          "output_type": "stream",
          "text": [
            "100%|██████████| 5000/5000 [00:31<00:00, 157.69it/s]\n",
            "100%|██████████| 5015/5015 [00:31<00:00, 161.05it/s]\n"
          ]
        }
      ],
      "source": [
        "sds = [\"./HAM10000/HAM10000_images_part_1/\", \"./HAM10000/HAM10000_images_part_2/\"]\n",
        "hs = []\n",
        "ws = []\n",
        "for sd in sds:\n",
        "    filelist = [sd + f for f in os.listdir(sd)]\n",
        "    for file in tqdm(filelist):\n",
        "        h, w  = get_dims(file)\n",
        "        hs.append(h)\n",
        "        ws.append(w)\n"
      ]
    },
    {
      "cell_type": "code",
      "execution_count": null,
      "metadata": {
        "id": "LsF90Xc2qS_A",
        "outputId": "af69c0af-79a7-4349-d192-4747f90c6dbf"
      },
      "outputs": [
        {
          "name": "stdout",
          "output_type": "stream",
          "text": [
            "600 450\n"
          ]
        },
        {
          "data": {
            "image/png": "[encoded data removed]",
            "text/plain": [
              "<Figure size 1263.6x893.16 with 1 Axes>"
            ]
          },
          "metadata": {},
          "output_type": "display_data"
        }
      ],
      "source": [
        "g = sns.scatterplot(x=ws, y=hs)\n",
        "print(ws[0], hs[0])\n",
        "# so all images are 600 x 450"
      ]
    },
    {
      "cell_type": "code",
      "execution_count": null,
      "metadata": {
        "id": "lIg9-KT_qS_A",
        "outputId": "93574feb-59c7-4451-9b7d-2480bb39012b"
      },
      "outputs": [
        {
          "name": "stderr",
          "output_type": "stream",
          "text": [
            "100%|██████████| 5000/5000 [00:00<00:00, 1506899.48it/s]\n",
            "100%|██████████| 5015/5015 [00:00<00:00, 2071541.71it/s]\n"
          ]
        }
      ],
      "source": [
        "#randomly sample several images to view\n",
        "\n",
        "sds = [\"./HAM10000/HAM10000_images_part_1/\", \"./HAM10000/HAM10000_images_part_2/\"]\n",
        "files = []\n",
        "for sd in sds:\n",
        "    for f in tqdm(os.listdir(sd)):\n",
        "        files.append(sd + f)\n"
      ]
    },
    {
      "cell_type": "code",
      "execution_count": null,
      "metadata": {
        "id": "Rsn3O_aFqS_B"
      },
      "outputs": [],
      "source": [
        "sample_num = 10 \n",
        "samples = []\n",
        "for i in range(sample_num):\n",
        "    samples.append(int(random()*len(files)))\n",
        "for i in range(len(samples)):\n",
        "    samples[i] = files[samples[i]]"
      ]
    },
    {
      "cell_type": "code",
      "execution_count": null,
      "metadata": {
        "id": "5HcoJVFeqS_B"
      },
      "outputs": [],
      "source": [
        "for file in samples:\n",
        "    im = Image.open(file)\n",
        "    im.show()"
      ]
    },
    {
      "cell_type": "markdown",
      "metadata": {
        "id": "fxZv-cUyqS_B"
      },
      "source": [
        "-Look at the ways in which people are evaluating unbalanced datasets\n",
        "just change the evaluation metric to fit the problem you are trying to solve "
      ]
    },
    {
      "cell_type": "code",
      "execution_count": null,
      "metadata": {
        "colab": {
          "base_uri": "https://localhost:8080/"
        },
        "id": "O5NYZ9uTqS_C",
        "outputId": "5ce7a844-7056-44cf-85a7-45d9768fa919"
      },
      "outputs": [
        {
          "output_type": "stream",
          "name": "stdout",
          "text": [
            "Mounted at /content/drive\n"
          ]
        }
      ],
      "source": [
        "from google.colab import drive\n",
        "drive.mount('/content/drive')"
      ]
    },
    {
      "cell_type": "code",
      "source": [
        "!pip install -q keras\n",
        "import keras"
      ],
      "metadata": {
        "id": "CQUT4BEQqsLD"
      },
      "execution_count": null,
      "outputs": []
    },
    {
      "cell_type": "code",
      "source": [
        "! unzip '/content/drive/MyDrive/HAM10000_images_part_1_gc'"
      ],
      "metadata": {
        "id": "7pErsovPqw54"
      },
      "execution_count": null,
      "outputs": []
    },
    {
      "cell_type": "code",
      "source": [
        "! unzip '/content/drive/MyDrive/HAM10000_images_part_2_gc'"
      ],
      "metadata": {
        "id": "CkAhS2L5q6ae"
      },
      "execution_count": null,
      "outputs": []
    },
    {
      "cell_type": "code",
      "source": [
        "import os\n",
        "import PIL\n",
        "from PIL import Image\n",
        "from skimage import io\n",
        "import tensorflow as tf"
      ],
      "metadata": {
        "id": "bTmHl1qXrBrc"
      },
      "execution_count": null,
      "outputs": []
    },
    {
      "cell_type": "code",
      "source": [
        "import os\n",
        "from os import listdir"
      ],
      "metadata": {
        "id": "A0HbKud-rHqN"
      },
      "execution_count": null,
      "outputs": []
    },
    {
      "cell_type": "code",
      "source": [
        "folder_dir = \"/content/drive/MyDrive/HAM10000_images_part_1_gc/HAM10000_images_part_1\"\n",
        "count = 0\n",
        "for images in os.listdir(folder_dir):\n",
        "  if os.path.isfile(os.path.join(folder_dir, images)):\n",
        "    count += 1\n",
        "print('File count:', count)"
      ],
      "metadata": {
        "colab": {
          "base_uri": "https://localhost:8080/"
        },
        "id": "mYbfiQHGrJN-",
        "outputId": "b57a7a4c-9ed8-4afa-9244-1bc7093c0c82"
      },
      "execution_count": null,
      "outputs": [
        {
          "output_type": "stream",
          "name": "stdout",
          "text": [
            "File count: 5000\n"
          ]
        }
      ]
    },
    {
      "cell_type": "code",
      "source": [
        "folder_dir = \"/content/drive/MyDrive/HAM10000_images_part_2_gc/HAM10000_images_part_2\"\n",
        "count = 0\n",
        "for images in os.listdir(folder_dir):\n",
        "  if os.path.isfile(os.path.join(folder_dir, images)):\n",
        "    count += 1\n",
        "print('File count:', count)"
      ],
      "metadata": {
        "colab": {
          "base_uri": "https://localhost:8080/"
        },
        "id": "6NMEC5LmrR39",
        "outputId": "7af85a3c-3280-414d-e760-c4123797fb15"
      },
      "execution_count": null,
      "outputs": [
        {
          "output_type": "stream",
          "name": "stdout",
          "text": [
            "File count: 5015\n"
          ]
        }
      ]
    },
    {
      "cell_type": "code",
      "source": [
        "from PIL import Image\n",
        "import cv2"
      ],
      "metadata": {
        "id": "2Lpi3ROlrduT"
      },
      "execution_count": null,
      "outputs": []
    },
    {
      "cell_type": "code",
      "source": [
        "folder_dir = \"/content/drive/MyDrive/HAM10000_images_part_1_gc/HAM10000_images_part_1\"\n",
        "\n",
        "imfs = os.listdir(folder_dir)\n",
        "\n",
        "im = cv2.imread('/content/drive/MyDrive/HAM10000_images_part_1_gc/HAM10000_images_part_1/ISIC_0024306.jpg')\n",
        "print(type(im))\n",
        "print(im.shape)\n",
        "print(type(im.shape))\n",
        "w,h,c = im.shape\n",
        "print(w,h,c)\n",
        "\n",
        "fst = '/content/drive/MyDrive/HAM10000_images_part_1_gc/HAM10000_images_part_1/'\n",
        "fn = 'ISIC_0024306.jpg'\n",
        "\n",
        "pic_path = fst + fn\n",
        "print(pic_path)"
      ],
      "metadata": {
        "colab": {
          "base_uri": "https://localhost:8080/"
        },
        "id": "-v9tXr06rfIQ",
        "outputId": "4a2a9896-80ce-4b8c-8b45-49ca3d293e84"
      },
      "execution_count": null,
      "outputs": [
        {
          "output_type": "stream",
          "name": "stdout",
          "text": [
            "<class 'numpy.ndarray'>\n",
            "(450, 600, 3)\n",
            "<class 'tuple'>\n",
            "450 600 3\n",
            "/content/drive/MyDrive/HAM10000_images_part_1_gc/HAM10000_images_part_1/ISIC_0024306.jpg\n"
          ]
        }
      ]
    },
    {
      "cell_type": "code",
      "source": [
        "im_w = []\n",
        "im_h = []\n",
        "im_c = []\n",
        "\n",
        "for i in imfs:\n",
        "  fst = '/content/drive/MyDrive/HAM10000_images_part_1_gc/HAM10000_images_part_1/'\n",
        "  fn = i\n",
        "  pic_path = fst+fn\n",
        "  im = cv2.imread(pic_path)\n",
        "  w,h,c = im.shape\n",
        "  im_w.append(w)\n",
        "  im_h.append(h)\n",
        "  im_c.append(c)"
      ],
      "metadata": {
        "id": "Skc4qLt6rkJp"
      },
      "execution_count": null,
      "outputs": []
    },
    {
      "cell_type": "code",
      "source": [
        "folder_dir2 = \"/content/drive/MyDrive/HAM10000_images_part_2_gc/HAM10000_images_part_2\"\n",
        "imfs2 = os.listdir(folder_dir2)\n",
        "\n",
        "im_w2 = []\n",
        "im_h2 = []\n",
        "im_c2 = []\n",
        "\n",
        "for i in imfs2:\n",
        "  fst = '/content/drive/MyDrive/HAM10000_images_part_2_gc/HAM10000_images_part_2/'\n",
        "  fn = i\n",
        "  pic_path = fst+fn\n",
        "  im = cv2.imread(pic_path)\n",
        "  w,h,c = im.shape\n",
        "  im_w2.append(w)\n",
        "  im_h2.append(h)\n",
        "  im_c2.append(c)"
      ],
      "metadata": {
        "id": "Wmna3yqOtyVv"
      },
      "execution_count": null,
      "outputs": []
    },
    {
      "cell_type": "code",
      "source": [
        "ham10000_image_width = im_w + im_w2\n",
        "ham10000_image_height = im_h + im_h2\n",
        "ham10000_image_channel = im_c + im_c2"
      ],
      "metadata": {
        "id": "01jA_RU2u8Sl"
      },
      "execution_count": null,
      "outputs": []
    },
    {
      "cell_type": "code",
      "source": [
        "import pandas as pd"
      ],
      "metadata": {
        "id": "Mt34sfsDu-3i"
      },
      "execution_count": null,
      "outputs": []
    },
    {
      "cell_type": "code",
      "source": [
        "ham10000_image_vals = pd.DataFrame(list(zip(ham10000_image_width, ham10000_image_height, ham10000_image_channel)), columns=['Image_Width', 'Image_Height', 'Image_Channel'])\n",
        "ham10000_image_vals"
      ],
      "metadata": {
        "colab": {
          "base_uri": "https://localhost:8080/",
          "height": 424
        },
        "id": "1-4N9rxevAAA",
        "outputId": "3c878207-ce3e-4dc3-cc1b-fc90b1d0fb2a"
      },
      "execution_count": null,
      "outputs": [
        {
          "output_type": "execute_result",
          "data": {
            "text/plain": [
              "       Image_Width  Image_Height  Image_Channel\n",
              "0              450           600              3\n",
              "1              450           600              3\n",
              "2              450           600              3\n",
              "3              450           600              3\n",
              "4              450           600              3\n",
              "...            ...           ...            ...\n",
              "10010          450           600              3\n",
              "10011          450           600              3\n",
              "10012          450           600              3\n",
              "10013          450           600              3\n",
              "10014          450           600              3\n",
              "\n",
              "[10015 rows x 3 columns]"
            ],
            "text/html": [
              "\n",
              "  <div id=\"df-4e5dce04-dc28-48d3-82c9-a13765aeeef8\">\n",
              "    <div class=\"colab-df-container\">\n",
              "      <div>\n",
              "<style scoped>\n",
              "    .dataframe tbody tr th:only-of-type {\n",
              "        vertical-align: middle;\n",
              "    }\n",
              "\n",
              "    .dataframe tbody tr th {\n",
              "        vertical-align: top;\n",
              "    }\n",
              "\n",
              "    .dataframe thead th {\n",
              "        text-align: right;\n",
              "    }\n",
              "</style>\n",
              "<table border=\"1\" class=\"dataframe\">\n",
              "  <thead>\n",
              "    <tr style=\"text-align: right;\">\n",
              "      <th></th>\n",
              "      <th>Image_Width</th>\n",
              "      <th>Image_Height</th>\n",
              "      <th>Image_Channel</th>\n",
              "    </tr>\n",
              "  </thead>\n",
              "  <tbody>\n",
              "    <tr>\n",
              "      <th>0</th>\n",
              "      <td>450</td>\n",
              "      <td>600</td>\n",
              "      <td>3</td>\n",
              "    </tr>\n",
              "    <tr>\n",
              "      <th>1</th>\n",
              "      <td>450</td>\n",
              "      <td>600</td>\n",
              "      <td>3</td>\n",
              "    </tr>\n",
              "    <tr>\n",
              "      <th>2</th>\n",
              "      <td>450</td>\n",
              "      <td>600</td>\n",
              "      <td>3</td>\n",
              "    </tr>\n",
              "    <tr>\n",
              "      <th>3</th>\n",
              "      <td>450</td>\n",
              "      <td>600</td>\n",
              "      <td>3</td>\n",
              "    </tr>\n",
              "    <tr>\n",
              "      <th>4</th>\n",
              "      <td>450</td>\n",
              "      <td>600</td>\n",
              "      <td>3</td>\n",
              "    </tr>\n",
              "    <tr>\n",
              "      <th>...</th>\n",
              "      <td>...</td>\n",
              "      <td>...</td>\n",
              "      <td>...</td>\n",
              "    </tr>\n",
              "    <tr>\n",
              "      <th>10010</th>\n",
              "      <td>450</td>\n",
              "      <td>600</td>\n",
              "      <td>3</td>\n",
              "    </tr>\n",
              "    <tr>\n",
              "      <th>10011</th>\n",
              "      <td>450</td>\n",
              "      <td>600</td>\n",
              "      <td>3</td>\n",
              "    </tr>\n",
              "    <tr>\n",
              "      <th>10012</th>\n",
              "      <td>450</td>\n",
              "      <td>600</td>\n",
              "      <td>3</td>\n",
              "    </tr>\n",
              "    <tr>\n",
              "      <th>10013</th>\n",
              "      <td>450</td>\n",
              "      <td>600</td>\n",
              "      <td>3</td>\n",
              "    </tr>\n",
              "    <tr>\n",
              "      <th>10014</th>\n",
              "      <td>450</td>\n",
              "      <td>600</td>\n",
              "      <td>3</td>\n",
              "    </tr>\n",
              "  </tbody>\n",
              "</table>\n",
              "<p>10015 rows × 3 columns</p>\n",
              "</div>\n",
              "      <button class=\"colab-df-convert\" onclick=\"convertToInteractive('df-4e5dce04-dc28-48d3-82c9-a13765aeeef8')\"\n",
              "              title=\"Convert this dataframe to an interactive table.\"\n",
              "              style=\"display:none;\">\n",
              "        \n",
              "  <svg xmlns=\"http://www.w3.org/2000/svg\" height=\"24px\"viewBox=\"0 0 24 24\"\n",
              "       width=\"24px\">\n",
              "    <path d=\"M0 0h24v24H0V0z\" fill=\"none\"/>\n",
              "    <path d=\"M18.56 5.44l.94 2.06.94-2.06 2.06-.94-2.06-.94-.94-2.06-.94 2.06-2.06.94zm-11 1L8.5 8.5l.94-2.06 2.06-.94-2.06-.94L8.5 2.5l-.94 2.06-2.06.94zm10 10l.94 2.06.94-2.06 2.06-.94-2.06-.94-.94-2.06-.94 2.06-2.06.94z\"/><path d=\"M17.41 7.96l-1.37-1.37c-.4-.4-.92-.59-1.43-.59-.52 0-1.04.2-1.43.59L10.3 9.45l-7.72 7.72c-.78.78-.78 2.05 0 2.83L4 21.41c.39.39.9.59 1.41.59.51 0 1.02-.2 1.41-.59l7.78-7.78 2.81-2.81c.8-.78.8-2.07 0-2.86zM5.41 20L4 18.59l7.72-7.72 1.47 1.35L5.41 20z\"/>\n",
              "  </svg>\n",
              "      </button>\n",
              "      \n",
              "  <style>\n",
              "    .colab-df-container {\n",
              "      display:flex;\n",
              "      flex-wrap:wrap;\n",
              "      gap: 12px;\n",
              "    }\n",
              "\n",
              "    .colab-df-convert {\n",
              "      background-color: #E8F0FE;\n",
              "      border: none;\n",
              "      border-radius: 50%;\n",
              "      cursor: pointer;\n",
              "      display: none;\n",
              "      fill: #1967D2;\n",
              "      height: 32px;\n",
              "      padding: 0 0 0 0;\n",
              "      width: 32px;\n",
              "    }\n",
              "\n",
              "    .colab-df-convert:hover {\n",
              "      background-color: #E2EBFA;\n",
              "      box-shadow: 0px 1px 2px rgba(60, 64, 67, 0.3), 0px 1px 3px 1px rgba(60, 64, 67, 0.15);\n",
              "      fill: #174EA6;\n",
              "    }\n",
              "\n",
              "    [theme=dark] .colab-df-convert {\n",
              "      background-color: #3B4455;\n",
              "      fill: #D2E3FC;\n",
              "    }\n",
              "\n",
              "    [theme=dark] .colab-df-convert:hover {\n",
              "      background-color: #434B5C;\n",
              "      box-shadow: 0px 1px 3px 1px rgba(0, 0, 0, 0.15);\n",
              "      filter: drop-shadow(0px 1px 2px rgba(0, 0, 0, 0.3));\n",
              "      fill: #FFFFFF;\n",
              "    }\n",
              "  </style>\n",
              "\n",
              "      <script>\n",
              "        const buttonEl =\n",
              "          document.querySelector('#df-4e5dce04-dc28-48d3-82c9-a13765aeeef8 button.colab-df-convert');\n",
              "        buttonEl.style.display =\n",
              "          google.colab.kernel.accessAllowed ? 'block' : 'none';\n",
              "\n",
              "        async function convertToInteractive(key) {\n",
              "          const element = document.querySelector('#df-4e5dce04-dc28-48d3-82c9-a13765aeeef8');\n",
              "          const dataTable =\n",
              "            await google.colab.kernel.invokeFunction('convertToInteractive',\n",
              "                                                     [key], {});\n",
              "          if (!dataTable) return;\n",
              "\n",
              "          const docLinkHtml = 'Like what you see? Visit the ' +\n",
              "            '<a target=\"_blank\" href=https://colab.research.google.com/notebooks/data_table.ipynb>data table notebook</a>'\n",
              "            + ' to learn more about interactive tables.';\n",
              "          element.innerHTML = '';\n",
              "          dataTable['output_type'] = 'display_data';\n",
              "          await google.colab.output.renderOutput(dataTable, element);\n",
              "          const docLink = document.createElement('div');\n",
              "          docLink.innerHTML = docLinkHtml;\n",
              "          element.appendChild(docLink);\n",
              "        }\n",
              "      </script>\n",
              "    </div>\n",
              "  </div>\n",
              "  "
            ]
          },
          "metadata": {},
          "execution_count": 15
        }
      ]
    },
    {
      "cell_type": "code",
      "source": [
        "ham10000_image_vals.describe()"
      ],
      "metadata": {
        "colab": {
          "base_uri": "https://localhost:8080/",
          "height": 300
        },
        "id": "iywdupg6vD2y",
        "outputId": "5d1c2d8a-7554-4612-a72b-3e53821ea4f1"
      },
      "execution_count": null,
      "outputs": [
        {
          "output_type": "execute_result",
          "data": {
            "text/plain": [
              "       Image_Width  Image_Height  Image_Channel\n",
              "count      10015.0       10015.0        10015.0\n",
              "mean         450.0         600.0            3.0\n",
              "std            0.0           0.0            0.0\n",
              "min          450.0         600.0            3.0\n",
              "25%          450.0         600.0            3.0\n",
              "50%          450.0         600.0            3.0\n",
              "75%          450.0         600.0            3.0\n",
              "max          450.0         600.0            3.0"
            ],
            "text/html": [
              "\n",
              "  <div id=\"df-d54dbf9e-ffa3-487e-b2fa-d822b3b4e746\">\n",
              "    <div class=\"colab-df-container\">\n",
              "      <div>\n",
              "<style scoped>\n",
              "    .dataframe tbody tr th:only-of-type {\n",
              "        vertical-align: middle;\n",
              "    }\n",
              "\n",
              "    .dataframe tbody tr th {\n",
              "        vertical-align: top;\n",
              "    }\n",
              "\n",
              "    .dataframe thead th {\n",
              "        text-align: right;\n",
              "    }\n",
              "</style>\n",
              "<table border=\"1\" class=\"dataframe\">\n",
              "  <thead>\n",
              "    <tr style=\"text-align: right;\">\n",
              "      <th></th>\n",
              "      <th>Image_Width</th>\n",
              "      <th>Image_Height</th>\n",
              "      <th>Image_Channel</th>\n",
              "    </tr>\n",
              "  </thead>\n",
              "  <tbody>\n",
              "    <tr>\n",
              "      <th>count</th>\n",
              "      <td>10015.0</td>\n",
              "      <td>10015.0</td>\n",
              "      <td>10015.0</td>\n",
              "    </tr>\n",
              "    <tr>\n",
              "      <th>mean</th>\n",
              "      <td>450.0</td>\n",
              "      <td>600.0</td>\n",
              "      <td>3.0</td>\n",
              "    </tr>\n",
              "    <tr>\n",
              "      <th>std</th>\n",
              "      <td>0.0</td>\n",
              "      <td>0.0</td>\n",
              "      <td>0.0</td>\n",
              "    </tr>\n",
              "    <tr>\n",
              "      <th>min</th>\n",
              "      <td>450.0</td>\n",
              "      <td>600.0</td>\n",
              "      <td>3.0</td>\n",
              "    </tr>\n",
              "    <tr>\n",
              "      <th>25%</th>\n",
              "      <td>450.0</td>\n",
              "      <td>600.0</td>\n",
              "      <td>3.0</td>\n",
              "    </tr>\n",
              "    <tr>\n",
              "      <th>50%</th>\n",
              "      <td>450.0</td>\n",
              "      <td>600.0</td>\n",
              "      <td>3.0</td>\n",
              "    </tr>\n",
              "    <tr>\n",
              "      <th>75%</th>\n",
              "      <td>450.0</td>\n",
              "      <td>600.0</td>\n",
              "      <td>3.0</td>\n",
              "    </tr>\n",
              "    <tr>\n",
              "      <th>max</th>\n",
              "      <td>450.0</td>\n",
              "      <td>600.0</td>\n",
              "      <td>3.0</td>\n",
              "    </tr>\n",
              "  </tbody>\n",
              "</table>\n",
              "</div>\n",
              "      <button class=\"colab-df-convert\" onclick=\"convertToInteractive('df-d54dbf9e-ffa3-487e-b2fa-d822b3b4e746')\"\n",
              "              title=\"Convert this dataframe to an interactive table.\"\n",
              "              style=\"display:none;\">\n",
              "        \n",
              "  <svg xmlns=\"http://www.w3.org/2000/svg\" height=\"24px\"viewBox=\"0 0 24 24\"\n",
              "       width=\"24px\">\n",
              "    <path d=\"M0 0h24v24H0V0z\" fill=\"none\"/>\n",
              "    <path d=\"M18.56 5.44l.94 2.06.94-2.06 2.06-.94-2.06-.94-.94-2.06-.94 2.06-2.06.94zm-11 1L8.5 8.5l.94-2.06 2.06-.94-2.06-.94L8.5 2.5l-.94 2.06-2.06.94zm10 10l.94 2.06.94-2.06 2.06-.94-2.06-.94-.94-2.06-.94 2.06-2.06.94z\"/><path d=\"M17.41 7.96l-1.37-1.37c-.4-.4-.92-.59-1.43-.59-.52 0-1.04.2-1.43.59L10.3 9.45l-7.72 7.72c-.78.78-.78 2.05 0 2.83L4 21.41c.39.39.9.59 1.41.59.51 0 1.02-.2 1.41-.59l7.78-7.78 2.81-2.81c.8-.78.8-2.07 0-2.86zM5.41 20L4 18.59l7.72-7.72 1.47 1.35L5.41 20z\"/>\n",
              "  </svg>\n",
              "      </button>\n",
              "      \n",
              "  <style>\n",
              "    .colab-df-container {\n",
              "      display:flex;\n",
              "      flex-wrap:wrap;\n",
              "      gap: 12px;\n",
              "    }\n",
              "\n",
              "    .colab-df-convert {\n",
              "      background-color: #E8F0FE;\n",
              "      border: none;\n",
              "      border-radius: 50%;\n",
              "      cursor: pointer;\n",
              "      display: none;\n",
              "      fill: #1967D2;\n",
              "      height: 32px;\n",
              "      padding: 0 0 0 0;\n",
              "      width: 32px;\n",
              "    }\n",
              "\n",
              "    .colab-df-convert:hover {\n",
              "      background-color: #E2EBFA;\n",
              "      box-shadow: 0px 1px 2px rgba(60, 64, 67, 0.3), 0px 1px 3px 1px rgba(60, 64, 67, 0.15);\n",
              "      fill: #174EA6;\n",
              "    }\n",
              "\n",
              "    [theme=dark] .colab-df-convert {\n",
              "      background-color: #3B4455;\n",
              "      fill: #D2E3FC;\n",
              "    }\n",
              "\n",
              "    [theme=dark] .colab-df-convert:hover {\n",
              "      background-color: #434B5C;\n",
              "      box-shadow: 0px 1px 3px 1px rgba(0, 0, 0, 0.15);\n",
              "      filter: drop-shadow(0px 1px 2px rgba(0, 0, 0, 0.3));\n",
              "      fill: #FFFFFF;\n",
              "    }\n",
              "  </style>\n",
              "\n",
              "      <script>\n",
              "        const buttonEl =\n",
              "          document.querySelector('#df-d54dbf9e-ffa3-487e-b2fa-d822b3b4e746 button.colab-df-convert');\n",
              "        buttonEl.style.display =\n",
              "          google.colab.kernel.accessAllowed ? 'block' : 'none';\n",
              "\n",
              "        async function convertToInteractive(key) {\n",
              "          const element = document.querySelector('#df-d54dbf9e-ffa3-487e-b2fa-d822b3b4e746');\n",
              "          const dataTable =\n",
              "            await google.colab.kernel.invokeFunction('convertToInteractive',\n",
              "                                                     [key], {});\n",
              "          if (!dataTable) return;\n",
              "\n",
              "          const docLinkHtml = 'Like what you see? Visit the ' +\n",
              "            '<a target=\"_blank\" href=https://colab.research.google.com/notebooks/data_table.ipynb>data table notebook</a>'\n",
              "            + ' to learn more about interactive tables.';\n",
              "          element.innerHTML = '';\n",
              "          dataTable['output_type'] = 'display_data';\n",
              "          await google.colab.output.renderOutput(dataTable, element);\n",
              "          const docLink = document.createElement('div');\n",
              "          docLink.innerHTML = docLinkHtml;\n",
              "          element.appendChild(docLink);\n",
              "        }\n",
              "      </script>\n",
              "    </div>\n",
              "  </div>\n",
              "  "
            ]
          },
          "metadata": {},
          "execution_count": 16
        }
      ]
    }
  ],
  "metadata": {
    "kernelspec": {
      "display_name": "Python 3.7.4",
      "language": "python",
      "name": "python3"
    },
    "language_info": {
      "codemirror_mode": {
        "name": "ipython",
        "version": 3
      },
      "file_extension": ".py",
      "mimetype": "text/x-python",
      "name": "python",
      "nbconvert_exporter": "python",
      "pygments_lexer": "ipython3",
      "version": "3.7.4"
    },
    "orig_nbformat": 4,
    "vscode": {
      "interpreter": {
        "hash": "9722fc3210a6a2135e84c16e3d701be0bd51529494758316206ad34a8c5b1dde"
      }
    },
    "colab": {
      "provenance": []
    }
  },
  "nbformat": 4,
  "nbformat_minor": 0
}