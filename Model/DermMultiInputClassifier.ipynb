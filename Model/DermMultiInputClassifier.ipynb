{
  "nbformat": 4,
  "nbformat_minor": 0,
  "metadata": {
    "colab": {
      "provenance": [],
      "collapsed_sections": [],
      "machine_shape": "hm"
    },
    "kernelspec": {
      "name": "python3",
      "display_name": "Python 3"
    },
    "language_info": {
      "name": "python"
    },
    "accelerator": "GPU",
    "gpuClass": "premium"
  },
  "cells": [
    {
      "cell_type": "code",
      "execution_count": null,
      "metadata": {
        "id": "8q4ez2aLHF1V"
      },
      "outputs": [],
      "source": [
        "import torch\n",
        "from torch import nn\n",
        "from torch.utils.data import DataLoader\n",
        "from torchvision import datasets\n",
        "from torchvision.transforms import ToTensor"
      ]
    },
    {
      "cell_type": "code",
      "source": [
        "from google.colab import drive\n",
        "drive.mount('/content/drive')"
      ],
      "metadata": {
        "id": "wSP_bk2GJFjw",
        "colab": {
          "base_uri": "https://localhost:8080/"
        },
        "outputId": "8c0d7106-eeee-475a-d8f7-8163ff2c61a4"
      },
      "execution_count": null,
      "outputs": [
        {
          "output_type": "stream",
          "name": "stdout",
          "text": [
            "Mounted at /content/drive\n"
          ]
        }
      ]
    },
    {
      "cell_type": "code",
      "source": [
        "import os\n",
        "import pandas as pd \n",
        "import numpy as np \n",
        "import cv2\n",
        "from tqdm import tqdm\n",
        "import matplotlib.pyplot as plt\n",
        "\n",
        "os.chdir(\"/content/drive/MyDrive/HAM10000\")\n",
        "!ls"
      ],
      "metadata": {
        "id": "OAcNJ6m5M2mJ",
        "colab": {
          "base_uri": "https://localhost:8080/"
        },
        "outputId": "24798281-d651-4baa-b87a-b2e653a071e7"
      },
      "execution_count": null,
      "outputs": [
        {
          "output_type": "stream",
          "name": "stdout",
          "text": [
            "HAM10000_images_augmented\t HAM10000_metadata.csv\n",
            "HAM10000_images_part_1\t\t HAM10000_segmentations_lesion_tschandl\n",
            "HAM10000_images_part_2\t\t training_data.csv\n",
            "HAM10000_metadata_augmented.csv  training_data.npy\n"
          ]
        }
      ]
    },
    {
      "cell_type": "code",
      "source": [
        "#get metadata\n",
        "mdata = pd.read_csv(\"/content/drive/MyDrive/HAM10000/HAM10000_metadata.csv\")\n",
        "mdata"
      ],
      "metadata": {
        "id": "WaP4GWyyONbA",
        "colab": {
          "base_uri": "https://localhost:8080/",
          "height": 424
        },
        "outputId": "40581a49-6748-418b-c35f-d7e242e24001"
      },
      "execution_count": null,
      "outputs": [
        {
          "output_type": "execute_result",
          "data": {
            "text/plain": [
              "         lesion_id      image_id     dx dx_type   age     sex localization  \\\n",
              "0      HAM_0000118  ISIC_0027419    bkl   histo  80.0    male        scalp   \n",
              "1      HAM_0000118  ISIC_0025030    bkl   histo  80.0    male        scalp   \n",
              "2      HAM_0002730  ISIC_0026769    bkl   histo  80.0    male        scalp   \n",
              "3      HAM_0002730  ISIC_0025661    bkl   histo  80.0    male        scalp   \n",
              "4      HAM_0001466  ISIC_0031633    bkl   histo  75.0    male          ear   \n",
              "...            ...           ...    ...     ...   ...     ...          ...   \n",
              "10010  HAM_0002867  ISIC_0033084  akiec   histo  40.0    male      abdomen   \n",
              "10011  HAM_0002867  ISIC_0033550  akiec   histo  40.0    male      abdomen   \n",
              "10012  HAM_0002867  ISIC_0033536  akiec   histo  40.0    male      abdomen   \n",
              "10013  HAM_0000239  ISIC_0032854  akiec   histo  80.0    male         face   \n",
              "10014  HAM_0003521  ISIC_0032258    mel   histo  70.0  female         back   \n",
              "\n",
              "            dataset  \n",
              "0      vidir_modern  \n",
              "1      vidir_modern  \n",
              "2      vidir_modern  \n",
              "3      vidir_modern  \n",
              "4      vidir_modern  \n",
              "...             ...  \n",
              "10010  vidir_modern  \n",
              "10011  vidir_modern  \n",
              "10012  vidir_modern  \n",
              "10013  vidir_modern  \n",
              "10014  vidir_modern  \n",
              "\n",
              "[10015 rows x 8 columns]"
            ],
            "text/html": [
              "\n",
              "  <div id=\"df-e2dd6335-5532-4ec1-a538-24947731269c\">\n",
              "    <div class=\"colab-df-container\">\n",
              "      <div>\n",
              "<style scoped>\n",
              "    .dataframe tbody tr th:only-of-type {\n",
              "        vertical-align: middle;\n",
              "    }\n",
              "\n",
              "    .dataframe tbody tr th {\n",
              "        vertical-align: top;\n",
              "    }\n",
              "\n",
              "    .dataframe thead th {\n",
              "        text-align: right;\n",
              "    }\n",
              "</style>\n",
              "<table border=\"1\" class=\"dataframe\">\n",
              "  <thead>\n",
              "    <tr style=\"text-align: right;\">\n",
              "      <th></th>\n",
              "      <th>lesion_id</th>\n",
              "      <th>image_id</th>\n",
              "      <th>dx</th>\n",
              "      <th>dx_type</th>\n",
              "      <th>age</th>\n",
              "      <th>sex</th>\n",
              "      <th>localization</th>\n",
              "      <th>dataset</th>\n",
              "    </tr>\n",
              "  </thead>\n",
              "  <tbody>\n",
              "    <tr>\n",
              "      <th>0</th>\n",
              "      <td>HAM_0000118</td>\n",
              "      <td>ISIC_0027419</td>\n",
              "      <td>bkl</td>\n",
              "      <td>histo</td>\n",
              "      <td>80.0</td>\n",
              "      <td>male</td>\n",
              "      <td>scalp</td>\n",
              "      <td>vidir_modern</td>\n",
              "    </tr>\n",
              "    <tr>\n",
              "      <th>1</th>\n",
              "      <td>HAM_0000118</td>\n",
              "      <td>ISIC_0025030</td>\n",
              "      <td>bkl</td>\n",
              "      <td>histo</td>\n",
              "      <td>80.0</td>\n",
              "      <td>male</td>\n",
              "      <td>scalp</td>\n",
              "      <td>vidir_modern</td>\n",
              "    </tr>\n",
              "    <tr>\n",
              "      <th>2</th>\n",
              "      <td>HAM_0002730</td>\n",
              "      <td>ISIC_0026769</td>\n",
              "      <td>bkl</td>\n",
              "      <td>histo</td>\n",
              "      <td>80.0</td>\n",
              "      <td>male</td>\n",
              "      <td>scalp</td>\n",
              "      <td>vidir_modern</td>\n",
              "    </tr>\n",
              "    <tr>\n",
              "      <th>3</th>\n",
              "      <td>HAM_0002730</td>\n",
              "      <td>ISIC_0025661</td>\n",
              "      <td>bkl</td>\n",
              "      <td>histo</td>\n",
              "      <td>80.0</td>\n",
              "      <td>male</td>\n",
              "      <td>scalp</td>\n",
              "      <td>vidir_modern</td>\n",
              "    </tr>\n",
              "    <tr>\n",
              "      <th>4</th>\n",
              "      <td>HAM_0001466</td>\n",
              "      <td>ISIC_0031633</td>\n",
              "      <td>bkl</td>\n",
              "      <td>histo</td>\n",
              "      <td>75.0</td>\n",
              "      <td>male</td>\n",
              "      <td>ear</td>\n",
              "      <td>vidir_modern</td>\n",
              "    </tr>\n",
              "    <tr>\n",
              "      <th>...</th>\n",
              "      <td>...</td>\n",
              "      <td>...</td>\n",
              "      <td>...</td>\n",
              "      <td>...</td>\n",
              "      <td>...</td>\n",
              "      <td>...</td>\n",
              "      <td>...</td>\n",
              "      <td>...</td>\n",
              "    </tr>\n",
              "    <tr>\n",
              "      <th>10010</th>\n",
              "      <td>HAM_0002867</td>\n",
              "      <td>ISIC_0033084</td>\n",
              "      <td>akiec</td>\n",
              "      <td>histo</td>\n",
              "      <td>40.0</td>\n",
              "      <td>male</td>\n",
              "      <td>abdomen</td>\n",
              "      <td>vidir_modern</td>\n",
              "    </tr>\n",
              "    <tr>\n",
              "      <th>10011</th>\n",
              "      <td>HAM_0002867</td>\n",
              "      <td>ISIC_0033550</td>\n",
              "      <td>akiec</td>\n",
              "      <td>histo</td>\n",
              "      <td>40.0</td>\n",
              "      <td>male</td>\n",
              "      <td>abdomen</td>\n",
              "      <td>vidir_modern</td>\n",
              "    </tr>\n",
              "    <tr>\n",
              "      <th>10012</th>\n",
              "      <td>HAM_0002867</td>\n",
              "      <td>ISIC_0033536</td>\n",
              "      <td>akiec</td>\n",
              "      <td>histo</td>\n",
              "      <td>40.0</td>\n",
              "      <td>male</td>\n",
              "      <td>abdomen</td>\n",
              "      <td>vidir_modern</td>\n",
              "    </tr>\n",
              "    <tr>\n",
              "      <th>10013</th>\n",
              "      <td>HAM_0000239</td>\n",
              "      <td>ISIC_0032854</td>\n",
              "      <td>akiec</td>\n",
              "      <td>histo</td>\n",
              "      <td>80.0</td>\n",
              "      <td>male</td>\n",
              "      <td>face</td>\n",
              "      <td>vidir_modern</td>\n",
              "    </tr>\n",
              "    <tr>\n",
              "      <th>10014</th>\n",
              "      <td>HAM_0003521</td>\n",
              "      <td>ISIC_0032258</td>\n",
              "      <td>mel</td>\n",
              "      <td>histo</td>\n",
              "      <td>70.0</td>\n",
              "      <td>female</td>\n",
              "      <td>back</td>\n",
              "      <td>vidir_modern</td>\n",
              "    </tr>\n",
              "  </tbody>\n",
              "</table>\n",
              "<p>10015 rows × 8 columns</p>\n",
              "</div>\n",
              "      <button class=\"colab-df-convert\" onclick=\"convertToInteractive('df-e2dd6335-5532-4ec1-a538-24947731269c')\"\n",
              "              title=\"Convert this dataframe to an interactive table.\"\n",
              "              style=\"display:none;\">\n",
              "        \n",
              "  <svg xmlns=\"http://www.w3.org/2000/svg\" height=\"24px\"viewBox=\"0 0 24 24\"\n",
              "       width=\"24px\">\n",
              "    <path d=\"M0 0h24v24H0V0z\" fill=\"none\"/>\n",
              "    <path d=\"M18.56 5.44l.94 2.06.94-2.06 2.06-.94-2.06-.94-.94-2.06-.94 2.06-2.06.94zm-11 1L8.5 8.5l.94-2.06 2.06-.94-2.06-.94L8.5 2.5l-.94 2.06-2.06.94zm10 10l.94 2.06.94-2.06 2.06-.94-2.06-.94-.94-2.06-.94 2.06-2.06.94z\"/><path d=\"M17.41 7.96l-1.37-1.37c-.4-.4-.92-.59-1.43-.59-.52 0-1.04.2-1.43.59L10.3 9.45l-7.72 7.72c-.78.78-.78 2.05 0 2.83L4 21.41c.39.39.9.59 1.41.59.51 0 1.02-.2 1.41-.59l7.78-7.78 2.81-2.81c.8-.78.8-2.07 0-2.86zM5.41 20L4 18.59l7.72-7.72 1.47 1.35L5.41 20z\"/>\n",
              "  </svg>\n",
              "      </button>\n",
              "      \n",
              "  <style>\n",
              "    .colab-df-container {\n",
              "      display:flex;\n",
              "      flex-wrap:wrap;\n",
              "      gap: 12px;\n",
              "    }\n",
              "\n",
              "    .colab-df-convert {\n",
              "      background-color: #E8F0FE;\n",
              "      border: none;\n",
              "      border-radius: 50%;\n",
              "      cursor: pointer;\n",
              "      display: none;\n",
              "      fill: #1967D2;\n",
              "      height: 32px;\n",
              "      padding: 0 0 0 0;\n",
              "      width: 32px;\n",
              "    }\n",
              "\n",
              "    .colab-df-convert:hover {\n",
              "      background-color: #E2EBFA;\n",
              "      box-shadow: 0px 1px 2px rgba(60, 64, 67, 0.3), 0px 1px 3px 1px rgba(60, 64, 67, 0.15);\n",
              "      fill: #174EA6;\n",
              "    }\n",
              "\n",
              "    [theme=dark] .colab-df-convert {\n",
              "      background-color: #3B4455;\n",
              "      fill: #D2E3FC;\n",
              "    }\n",
              "\n",
              "    [theme=dark] .colab-df-convert:hover {\n",
              "      background-color: #434B5C;\n",
              "      box-shadow: 0px 1px 3px 1px rgba(0, 0, 0, 0.15);\n",
              "      filter: drop-shadow(0px 1px 2px rgba(0, 0, 0, 0.3));\n",
              "      fill: #FFFFFF;\n",
              "    }\n",
              "  </style>\n",
              "\n",
              "      <script>\n",
              "        const buttonEl =\n",
              "          document.querySelector('#df-e2dd6335-5532-4ec1-a538-24947731269c button.colab-df-convert');\n",
              "        buttonEl.style.display =\n",
              "          google.colab.kernel.accessAllowed ? 'block' : 'none';\n",
              "\n",
              "        async function convertToInteractive(key) {\n",
              "          const element = document.querySelector('#df-e2dd6335-5532-4ec1-a538-24947731269c');\n",
              "          const dataTable =\n",
              "            await google.colab.kernel.invokeFunction('convertToInteractive',\n",
              "                                                     [key], {});\n",
              "          if (!dataTable) return;\n",
              "\n",
              "          const docLinkHtml = 'Like what you see? Visit the ' +\n",
              "            '<a target=\"_blank\" href=https://colab.research.google.com/notebooks/data_table.ipynb>data table notebook</a>'\n",
              "            + ' to learn more about interactive tables.';\n",
              "          element.innerHTML = '';\n",
              "          dataTable['output_type'] = 'display_data';\n",
              "          await google.colab.output.renderOutput(dataTable, element);\n",
              "          const docLink = document.createElement('div');\n",
              "          docLink.innerHTML = docLinkHtml;\n",
              "          element.appendChild(docLink);\n",
              "        }\n",
              "      </script>\n",
              "    </div>\n",
              "  </div>\n",
              "  "
            ]
          },
          "metadata": {},
          "execution_count": 4
        }
      ]
    },
    {
      "cell_type": "code",
      "source": [
        "#for age \n",
        "nancount = 0 \n",
        "for i in mdata[\"age\"]:\n",
        "  if pd.isna(i):\n",
        "    print(\"nan\")\n",
        "    nancount += 1 \n",
        "print(nancount)"
      ],
      "metadata": {
        "colab": {
          "base_uri": "https://localhost:8080/"
        },
        "id": "N8-K2oUpvBTt",
        "outputId": "de2b9327-7675-42b0-f586-e68ec6f146db"
      },
      "execution_count": null,
      "outputs": [
        {
          "output_type": "stream",
          "name": "stdout",
          "text": [
            "nan\n",
            "nan\n",
            "nan\n",
            "nan\n",
            "nan\n",
            "nan\n",
            "nan\n",
            "nan\n",
            "nan\n",
            "nan\n",
            "nan\n",
            "nan\n",
            "nan\n",
            "nan\n",
            "nan\n",
            "nan\n",
            "nan\n",
            "nan\n",
            "nan\n",
            "nan\n",
            "nan\n",
            "nan\n",
            "nan\n",
            "nan\n",
            "nan\n",
            "nan\n",
            "nan\n",
            "nan\n",
            "nan\n",
            "nan\n",
            "nan\n",
            "nan\n",
            "nan\n",
            "nan\n",
            "nan\n",
            "nan\n",
            "nan\n",
            "nan\n",
            "nan\n",
            "nan\n",
            "nan\n",
            "nan\n",
            "nan\n",
            "nan\n",
            "nan\n",
            "nan\n",
            "nan\n",
            "nan\n",
            "nan\n",
            "nan\n",
            "nan\n",
            "nan\n",
            "nan\n",
            "nan\n",
            "nan\n",
            "nan\n",
            "nan\n",
            "57\n"
          ]
        }
      ]
    },
    {
      "cell_type": "code",
      "source": [
        "#for sex \n",
        "nancount = 0 \n",
        "for i in mdata[\"sex\"]:\n",
        "  if pd.isna(i):\n",
        "    print(\"nan\")\n",
        "    nancount += 1 \n",
        "print(nancount)"
      ],
      "metadata": {
        "colab": {
          "base_uri": "https://localhost:8080/"
        },
        "id": "PrKJe61wveds",
        "outputId": "e737de20-5329-42da-c236-c0aea212985f"
      },
      "execution_count": null,
      "outputs": [
        {
          "output_type": "stream",
          "name": "stdout",
          "text": [
            "0\n"
          ]
        }
      ]
    },
    {
      "cell_type": "code",
      "source": [
        "#transform the function according to the pytorch docs\n",
        "from torchvision import transforms\n",
        "from PIL import Image\n",
        "img_size = 224\n",
        "preprocess = transforms.Compose([\n",
        "    transforms.Resize((img_size, img_size)),\n",
        "    # transforms.CenterCrop(224),\n",
        "    transforms.ToTensor(),\n",
        "    #perhaps we can also consider increasingt the contrast of the image\n",
        "    transforms.Normalize(mean=[0.485, 0.456, 0.406], std=[0.229, 0.224, 0.225]),\n",
        "])\n",
        "\n",
        "# preprocess2 = preprocess = transforms.Compose([\n",
        "    \n",
        "# ])\n",
        "# input_tensor = preprocess(input_image)\n",
        "# input_batch = input_tensor.unsqueeze(0) # create a mini-batch as expected by the model"
      ],
      "metadata": {
        "id": "pnPQuec9M9BM"
      },
      "execution_count": null,
      "outputs": []
    },
    {
      "cell_type": "code",
      "source": [
        "from pyparsing.helpers import identbodychars\n",
        "class DermClassHelper(): \n",
        "  #make images 50 x 50 to start \n",
        "  mdata = pd.read_csv(\"/content/drive/MyDrive/HAM10000/HAM10000_metadata.csv\").append(pd.read_csv(\"/content/drive/MyDrive/HAM10000/HAM10000_metadata_augmented.csv\"))\n",
        "  IMG_SIZE = 224\n",
        "  labels = {}\n",
        "  img_map = {}\n",
        "  #training data \n",
        "  training_data = []\n",
        "  # track balance \n",
        "  balance = {}\n",
        "  #relavent directories \n",
        "  sds = [\"/HAM10000_images_part_1/\", \"/HAM10000_images_part_2/\", \"/HAM10000_images_augmented/\"]\n",
        "  root = \"/content/drive/MyDrive/HAM10000\"\n",
        "  #map file name to age and sex \n",
        "  info_map = {}\n",
        "\n",
        "  def __init__(self):\n",
        "    #assign labels\n",
        "    self.make_labels()\n",
        "    #make the map\n",
        "    self.make_image_map()\n",
        "    #make info map \n",
        "    self.make_info_map()\n",
        "    print(self.labels, self.info_map)\n",
        "\n",
        "  \"\"\" Assign numbers to the diagnosis types\"\"\"\n",
        "  def make_labels(self):\n",
        "    i = 0 \n",
        "    for d in self.mdata[\"dx\"].unique():\n",
        "      self.labels[d] = i \n",
        "      i += 1\n",
        "  \"\"\" Assign to each image the corresponding label \"\"\"\n",
        "  def make_image_map(self):\n",
        "    for im, dx in zip(list(self.mdata[\"image_id\"]), list(self.mdata[\"dx\"])):\n",
        "      self.img_map[im] = self.labels[dx]\n",
        "\n",
        "  def make_info_map(self):\n",
        "    for imname, group in tqdm(self.mdata.groupby(\"image_id\")):\n",
        "      sex = None\n",
        "      if list(group[\"sex\"])[0] == \"male\":\n",
        "        sex = -1\n",
        "      else:\n",
        "        sex = 1\n",
        "      self.info_map[imname] = [list(group[\"age\"])[0], sex]\n",
        "\n",
        "  def make_training_data(self):\n",
        "    for sd in self.sds:\n",
        "      for f in tqdm(os.listdir(self.root+sd)):\n",
        "        # extract the image id from the file path\n",
        "        id = f.split(\".\")[0].strip(\" \").split(\" \")[0]\n",
        "        if self.img_map[id] not in self.balance:\n",
        "          self.balance[self.img_map[id]] = 0\n",
        "        self.balance[self.img_map[id]] += 1\n",
        "    print(self.balance)"
      ],
      "metadata": {
        "id": "JzL3-QzYNDqz"
      },
      "execution_count": null,
      "outputs": []
    },
    {
      "cell_type": "code",
      "source": [
        "dch = DermClassHelper()\n",
        "dch.make_training_data()\n",
        "print(dch.balance)"
      ],
      "metadata": {
        "id": "kA5_shQuOK2J",
        "colab": {
          "base_uri": "https://localhost:8080/"
        },
        "outputId": "e05a85bd-c55e-40ee-b25f-890a68e3286c"
      },
      "execution_count": null,
      "outputs": [
        {
          "output_type": "stream",
          "name": "stderr",
          "text": [
            "100%|██████████| 10934/10934 [00:01<00:00, 8706.09it/s]\n"
          ]
        },
        {
          "output_type": "stream",
          "name": "stdout",
          "text": [
            "{'bkl': 0, 'nv': 1, 'df': 2, 'mel': 3, 'vasc': 4, 'bcc': 5, 'akiec': 6} {'ISIC_0024306': [45.0, -1], 'ISIC_0024307': [50.0, -1], 'ISIC_0024308': [55.0, 1], 'ISIC_0024309': [40.0, -1], 'ISIC_0024310': [60.0, -1], 'ISIC_0024311': [75.0, 1], 'ISIC_0024312': [75.0, -1], 'ISIC_0024313': [50.0, 1], 'ISIC_0024314': [75.0, -1], 'ISIC_0024315': [55.0, -1], 'ISIC_0024316': [55.0, -1], 'ISIC_0024317': [35.0, 1], 'ISIC_0024318': [65.0, 1], 'ISIC_00243181': [65.0, 1], 'ISIC_00243182': [65.0, 1], 'ISIC_00243183': [65.0, 1], 'ISIC_0024319': [55.0, -1], 'ISIC_0024320': [65.0, -1], 'ISIC_0024321': [35.0, -1], 'ISIC_0024322': [65.0, 1], 'ISIC_0024323': [50.0, -1], 'ISIC_0024324': [85.0, -1], 'ISIC_0024325': [40.0, 1], 'ISIC_0024326': [75.0, -1], 'ISIC_0024327': [50.0, 1], 'ISIC_0024328': [55.0, -1], 'ISIC_0024329': [75.0, 1], 'ISIC_0024330': [40.0, -1], 'ISIC_00243301': [40.0, -1], 'ISIC_00243302': [40.0, -1], 'ISIC_00243303': [40.0, -1], 'ISIC_0024331': [65.0, -1], 'ISIC_0024332': [60.0, -1], 'ISIC_0024333': [85.0, -1], 'ISIC_0024334': [45.0, 1], 'ISIC_0024335': [45.0, 1], 'ISIC_0024336': [50.0, 1], 'ISIC_0024337': [50.0, 1], 'ISIC_0024338': [45.0, 1], 'ISIC_0024339': [50.0, -1], 'ISIC_0024340': [10.0, 1], 'ISIC_0024341': [25.0, 1], 'ISIC_0024342': [40.0, -1], 'ISIC_0024343': [50.0, -1], 'ISIC_0024344': [85.0, 1], 'ISIC_0024345': [85.0, -1], 'ISIC_0024346': [50.0, 1], 'ISIC_0024347': [25.0, 1], 'ISIC_0024348': [40.0, 1], 'ISIC_0024349': [35.0, -1], 'ISIC_0024350': [35.0, -1], 'ISIC_0024351': [70.0, 1], 'ISIC_0024352': [30.0, 1], 'ISIC_0024353': [50.0, -1], 'ISIC_0024354': [40.0, 1], 'ISIC_0024355': [35.0, -1], 'ISIC_0024356': [75.0, 1], 'ISIC_0024357': [45.0, 1], 'ISIC_0024358': [60.0, 1], 'ISIC_0024359': [40.0, -1], 'ISIC_0024360': [50.0, 1], 'ISIC_0024361': [35.0, -1], 'ISIC_0024362': [50.0, -1], 'ISIC_0024363': [40.0, -1], 'ISIC_0024364': [45.0, -1], 'ISIC_0024365': [50.0, 1], 'ISIC_0024366': [35.0, 1], 'ISIC_0024367': [35.0, 1], 'ISIC_0024368': [65.0, -1], 'ISIC_0024369': [60.0, -1], 'ISIC_0024370': [55.0, -1], 'ISIC_00243701': [55.0, -1], 'ISIC_00243702': [55.0, -1], 'ISIC_0024371': [70.0, -1], 'ISIC_0024372': [70.0, -1], 'ISIC_00243721': [70.0, -1], 'ISIC_0024373': [60.0, -1], 'ISIC_0024374': [35.0, 1], 'ISIC_0024375': [70.0, 1], 'ISIC_00243751': [70.0, 1], 'ISIC_00243752': [70.0, 1], 'ISIC_0024376': [45.0, -1], 'ISIC_0024377': [45.0, 1], 'ISIC_0024378': [5.0, -1], 'ISIC_0024379': [35.0, 1], 'ISIC_0024380': [60.0, -1], 'ISIC_0024381': [75.0, 1], 'ISIC_0024382': [70.0, -1], 'ISIC_0024383': [70.0, 1], 'ISIC_0024384': [35.0, -1], 'ISIC_0024385': [40.0, 1], 'ISIC_0024386': [40.0, 1], 'ISIC_00243861': [40.0, 1], 'ISIC_00243862': [40.0, 1], 'ISIC_00243863': [40.0, 1], 'ISIC_0024387': [65.0, 1], 'ISIC_0024388': [30.0, -1], 'ISIC_0024389': [45.0, -1], 'ISIC_0024390': [65.0, -1], 'ISIC_0024391': [50.0, -1], 'ISIC_0024392': [65.0, 1], 'ISIC_0024393': [80.0, -1], 'ISIC_0024394': [20.0, 1], 'ISIC_0024395': [60.0, 1], 'ISIC_0024396': [65.0, 1], 'ISIC_00243961': [65.0, 1], 'ISIC_00243962': [65.0, 1], 'ISIC_00243963': [65.0, 1], 'ISIC_0024397': [65.0, -1], 'ISIC_0024398': [65.0, 1], 'ISIC_0024399': [50.0, 1], 'ISIC_0024400': [75.0, 1], 'ISIC_0024401': [25.0, 1], 'ISIC_0024402': [0.0, 1], 'ISIC_00244021': [0.0, 1], 'ISIC_00244022': [0.0, 1], 'ISIC_0024403': [65.0, -1], 'ISIC_0024404': [45.0, 1], 'ISIC_0024405': [45.0, -1], 'ISIC_0024406': [35.0, -1], 'ISIC_0024407': [40.0, -1], 'ISIC_0024408': [35.0, 1], 'ISIC_0024409': [55.0, 1], 'ISIC_0024410': [30.0, -1], 'ISIC_0024411': [75.0, -1], 'ISIC_0024412': [35.0, -1], 'ISIC_0024413': [50.0, -1], 'ISIC_0024414': [70.0, 1], 'ISIC_0024415': [45.0, 1], 'ISIC_0024416': [65.0, 1], 'ISIC_0024417': [75.0, -1], 'ISIC_0024418': [75.0, 1], 'ISIC_00244181': [75.0, 1], 'ISIC_0024419': [35.0, 1], 'ISIC_0024420': [55.0, -1], 'ISIC_0024421': [35.0, -1], 'ISIC_0024422': [75.0, -1], 'ISIC_0024423': [40.0, -1], 'ISIC_0024424': [35.0, -1], 'ISIC_0024425': [40.0, 1], 'ISIC_0024426': [50.0, -1], 'ISIC_0024427': [65.0, -1], 'ISIC_0024428': [35.0, -1], 'ISIC_0024429': [55.0, -1], 'ISIC_0024430': [35.0, -1], 'ISIC_0024431': [45.0, -1], 'ISIC_0024432': [65.0, -1], 'ISIC_0024433': [40.0, 1], 'ISIC_0024434': [40.0, -1], 'ISIC_0024435': [55.0, -1], 'ISIC_0024436': [80.0, -1], 'ISIC_0024437': [55.0, 1], 'ISIC_0024438': [50.0, -1], 'ISIC_0024439': [55.0, -1], 'ISIC_0024440': [40.0, -1], 'ISIC_0024441': [45.0, 1], 'ISIC_0024442': [55.0, 1], 'ISIC_0024443': [55.0, -1], 'ISIC_0024444': [55.0, 1], 'ISIC_0024445': [55.0, -1], 'ISIC_0024446': [45.0, -1], 'ISIC_0024447': [45.0, -1], 'ISIC_0024448': [65.0, -1], 'ISIC_0024449': [55.0, -1], 'ISIC_0024450': [50.0, -1], 'ISIC_00244501': [50.0, -1], 'ISIC_0024451': [35.0, -1], 'ISIC_0024452': [40.0, -1], 'ISIC_0024453': [65.0, 1], 'ISIC_0024454': [80.0, -1], 'ISIC_0024455': [45.0, 1], 'ISIC_0024456': [75.0, 1], 'ISIC_0024457': [85.0, -1], 'ISIC_0024458': [30.0, -1], 'ISIC_0024459': [80.0, -1], 'ISIC_0024460': [50.0, 1], 'ISIC_0024461': [80.0, 1], 'ISIC_0024462': [45.0, -1], 'ISIC_0024463': [50.0, -1], 'ISIC_00244631': [50.0, -1], 'ISIC_0024464': [35.0, -1], 'ISIC_0024465': [45.0, 1], 'ISIC_0024466': [50.0, -1], 'ISIC_0024467': [40.0, -1], 'ISIC_0024468': [75.0, -1], 'ISIC_0024469': [45.0, -1], 'ISIC_0024470': [60.0, -1], 'ISIC_0024471': [55.0, -1], 'ISIC_0024472': [85.0, -1], 'ISIC_0024473': [50.0, -1], 'ISIC_0024474': [65.0, -1], 'ISIC_0024475': [35.0, -1], 'ISIC_00244751': [35.0, -1], 'ISIC_00244752': [35.0, -1], 'ISIC_0024476': [85.0, -1], 'ISIC_0024477': [60.0, -1], 'ISIC_0024478': [45.0, 1], 'ISIC_0024479': [5.0, -1], 'ISIC_0024480': [60.0, -1], 'ISIC_0024481': [50.0, 1], 'ISIC_0024482': [50.0, -1], 'ISIC_0024483': [25.0, 1], 'ISIC_0024484': [55.0, -1], 'ISIC_0024485': [60.0, -1], 'ISIC_0024486': [50.0, -1], 'ISIC_0024487': [40.0, 1], 'ISIC_0024488': [55.0, 1], 'ISIC_0024489': [75.0, 1], 'ISIC_0024490': [75.0, -1], 'ISIC_0024491': [70.0, -1], 'ISIC_0024492': [60.0, -1], 'ISIC_0024493': [40.0, -1], 'ISIC_0024494': [55.0, 1], 'ISIC_0024495': [45.0, 1], 'ISIC_0024496': [60.0, 1], 'ISIC_0024497': [55.0, -1], 'ISIC_0024498': [70.0, -1], 'ISIC_0024499': [55.0, -1], 'ISIC_0024500': [45.0, -1], 'ISIC_0024501': [5.0, -1], 'ISIC_0024502': [45.0, -1], 'ISIC_0024503': [50.0, -1], 'ISIC_0024504': [85.0, 1], 'ISIC_0024505': [40.0, 1], 'ISIC_0024506': [55.0, 1], 'ISIC_0024507': [30.0, 1], 'ISIC_0024508': [50.0, -1], 'ISIC_0024509': [55.0, 1], 'ISIC_0024510': [55.0, 1], 'ISIC_0024511': [55.0, 1], 'ISIC_0024512': [45.0, -1], 'ISIC_0024513': [75.0, -1], 'ISIC_0024514': [50.0, -1], 'ISIC_0024515': [65.0, -1], 'ISIC_0024516': [40.0, -1], 'ISIC_0024517': [65.0, -1], 'ISIC_00245171': [65.0, -1], 'ISIC_0024518': [35.0, 1], 'ISIC_0024519': [55.0, 1], 'ISIC_0024520': [60.0, -1], 'ISIC_0024521': [45.0, 1], 'ISIC_0024522': [65.0, -1], 'ISIC_00245221': [65.0, -1], 'ISIC_0024523': [45.0, 1], 'ISIC_0024524': [5.0, 1], 'ISIC_0024525': [65.0, -1], 'ISIC_0024526': [50.0, 1], 'ISIC_0024527': [50.0, -1], 'ISIC_0024528': [25.0, 1], 'ISIC_0024529': [25.0, -1], 'ISIC_0024530': [35.0, -1], 'ISIC_0024531': [65.0, -1], 'ISIC_0024532': [40.0, -1], 'ISIC_0024533': [45.0, -1], 'ISIC_0024534': [40.0, -1], 'ISIC_0024535': [50.0, -1], 'ISIC_0024536': [40.0, 1], 'ISIC_0024537': [85.0, -1], 'ISIC_0024538': [35.0, -1], 'ISIC_0024539': [70.0, -1], 'ISIC_0024540': [25.0, 1], 'ISIC_0024541': [65.0, -1], 'ISIC_0024542': [40.0, -1], 'ISIC_0024543': [45.0, -1], 'ISIC_0024544': [45.0, -1], 'ISIC_0024545': [60.0, 1], 'ISIC_0024546': [80.0, 1], 'ISIC_0024547': [65.0, -1], 'ISIC_0024548': [60.0, -1], 'ISIC_0024549': [65.0, -1], 'ISIC_0024550': [75.0, -1], 'ISIC_0024551': [50.0, -1], 'ISIC_0024552': [60.0, 1], 'ISIC_0024553': [50.0, 1], 'ISIC_00245531': [50.0, 1], 'ISIC_00245532': [50.0, 1], 'ISIC_00245533': [50.0, 1], 'ISIC_0024554': [65.0, 1], 'ISIC_0024555': [50.0, 1], 'ISIC_0024556': [50.0, 1], 'ISIC_0024557': [40.0, -1], 'ISIC_0024558': [70.0, -1], 'ISIC_0024559': [75.0, -1], 'ISIC_0024560': [65.0, -1], 'ISIC_0024561': [70.0, 1], 'ISIC_0024562': [75.0, -1], 'ISIC_00245621': [75.0, -1], 'ISIC_0024563': [50.0, 1], 'ISIC_0024564': [65.0, -1], 'ISIC_0024565': [45.0, -1], 'ISIC_0024566': [50.0, -1], 'ISIC_0024567': [35.0, 1], 'ISIC_0024568': [40.0, -1], 'ISIC_0024569': [60.0, -1], 'ISIC_0024570': [50.0, -1], 'ISIC_0024571': [65.0, -1], 'ISIC_0024572': [75.0, 1], 'ISIC_0024573': [85.0, -1], 'ISIC_0024574': [40.0, 1], 'ISIC_0024575': [70.0, 1], 'ISIC_00245751': [70.0, 1], 'ISIC_0024576': [35.0, 1], 'ISIC_0024577': [45.0, -1], 'ISIC_0024578': [35.0, 1], 'ISIC_0024579': [75.0, 1], 'ISIC_0024580': [35.0, 1], 'ISIC_0024581': [40.0, -1], 'ISIC_0024582': [75.0, -1], 'ISIC_0024583': [45.0, -1], 'ISIC_0024584': [45.0, 1], 'ISIC_0024585': [45.0, 1], 'ISIC_0024586': [60.0, 1], 'ISIC_0024587': [15.0, 1], 'ISIC_0024588': [40.0, -1], 'ISIC_0024589': [45.0, -1], 'ISIC_0024590': [80.0, -1], 'ISIC_0024591': [35.0, -1], 'ISIC_0024592': [40.0, 1], 'ISIC_0024593': [45.0, 1], 'ISIC_0024594': [40.0, -1], 'ISIC_0024595': [65.0, 1], 'ISIC_0024596': [45.0, 1], 'ISIC_0024597': [20.0, -1], 'ISIC_0024598': [75.0, -1], 'ISIC_0024599': [55.0, -1], 'ISIC_0024600': [50.0, 1], 'ISIC_0024601': [40.0, 1], 'ISIC_0024602': [75.0, 1], 'ISIC_0024603': [65.0, 1], 'ISIC_0024604': [60.0, -1], 'ISIC_0024605': [45.0, -1], 'ISIC_0024606': [65.0, -1], 'ISIC_0024607': [50.0, 1], 'ISIC_0024608': [55.0, -1], 'ISIC_0024609': [40.0, -1], 'ISIC_0024610': [45.0, -1], 'ISIC_0024611': [50.0, 1], 'ISIC_0024612': [85.0, -1], 'ISIC_0024613': [60.0, 1], 'ISIC_0024614': [35.0, 1], 'ISIC_0024615': [35.0, -1], 'ISIC_0024616': [35.0, -1], 'ISIC_0024617': [10.0, 1], 'ISIC_0024618': [25.0, -1], 'ISIC_0024619': [50.0, -1], 'ISIC_0024620': [20.0, 1], 'ISIC_0024621': [70.0, -1], 'ISIC_0024622': [55.0, -1], 'ISIC_0024623': [85.0, 1], 'ISIC_0024624': [75.0, 1], 'ISIC_0024625': [40.0, 1], 'ISIC_0024626': [70.0, -1], 'ISIC_0024627': [75.0, -1], 'ISIC_0024628': [45.0, -1], 'ISIC_0024629': [65.0, -1], 'ISIC_0024630': [85.0, -1], 'ISIC_0024631': [50.0, 1], 'ISIC_0024632': [70.0, 1], 'ISIC_0024633': [45.0, -1], 'ISIC_0024634': [80.0, 1], 'ISIC_0024635': [60.0, 1], 'ISIC_0024636': [45.0, -1], 'ISIC_0024637': [55.0, 1], 'ISIC_0024638': [45.0, -1], 'ISIC_0024639': [60.0, -1], 'ISIC_0024640': [55.0, 1], 'ISIC_0024641': [45.0, -1], 'ISIC_0024642': [55.0, 1], 'ISIC_0024643': [35.0, -1], 'ISIC_0024644': [85.0, 1], 'ISIC_0024645': [40.0, 1], 'ISIC_0024646': [70.0, 1], 'ISIC_0024647': [85.0, 1], 'ISIC_0024648': [55.0, 1], 'ISIC_0024649': [50.0, 1], 'ISIC_0024650': [70.0, -1], 'ISIC_0024651': [50.0, -1], 'ISIC_0024652': [85.0, 1], 'ISIC_0024653': [60.0, 1], 'ISIC_0024654': [75.0, 1], 'ISIC_0024655': [30.0, 1], 'ISIC_0024656': [65.0, -1], 'ISIC_0024657': [60.0, -1], 'ISIC_0024658': [35.0, -1], 'ISIC_0024659': [60.0, -1], 'ISIC_0024660': [55.0, 1], 'ISIC_0024661': [55.0, 1], 'ISIC_0024662': [75.0, -1], 'ISIC_00246621': [75.0, -1], 'ISIC_00246622': [75.0, -1], 'ISIC_0024663': [55.0, 1], 'ISIC_0024664': [45.0, 1], 'ISIC_0024665': [65.0, 1], 'ISIC_0024666': [65.0, -1], 'ISIC_0024667': [50.0, 1], 'ISIC_0024668': [25.0, 1], 'ISIC_0024669': [25.0, 1], 'ISIC_00246691': [25.0, 1], 'ISIC_00246692': [25.0, 1], 'ISIC_00246693': [25.0, 1], 'ISIC_0024670': [45.0, -1], 'ISIC_0024671': [35.0, 1], 'ISIC_0024672': [65.0, -1], 'ISIC_0024673': [70.0, -1], 'ISIC_0024674': [40.0, -1], 'ISIC_0024675': [65.0, 1], 'ISIC_0024676': [75.0, 1], 'ISIC_0024677': [35.0, -1], 'ISIC_0024678': [45.0, 1], 'ISIC_0024679': [50.0, -1], 'ISIC_0024680': [75.0, 1], 'ISIC_0024681': [35.0, 1], 'ISIC_0024682': [20.0, 1], 'ISIC_0024683': [65.0, -1], 'ISIC_0024684': [20.0, -1], 'ISIC_0024685': [55.0, 1], 'ISIC_0024686': [35.0, -1], 'ISIC_0024687': [50.0, 1], 'ISIC_0024688': [40.0, 1], 'ISIC_0024689': [45.0, -1], 'ISIC_0024690': [40.0, 1], 'ISIC_0024691': [50.0, 1], 'ISIC_0024692': [45.0, 1], 'ISIC_0024693': [45.0, 1], 'ISIC_0024694': [65.0, -1], 'ISIC_0024695': [55.0, 1], 'ISIC_0024696': [75.0, -1], 'ISIC_0024697': [15.0, -1], 'ISIC_0024698': [70.0, -1], 'ISIC_0024699': [25.0, 1], 'ISIC_0024700': [35.0, 1], 'ISIC_0024701': [55.0, 1], 'ISIC_0024702': [60.0, -1], 'ISIC_0024703': [20.0, -1], 'ISIC_0024704': [80.0, 1], 'ISIC_0024705': [45.0, 1], 'ISIC_0024706': [50.0, -1], 'ISIC_00247061': [50.0, -1], 'ISIC_00247062': [50.0, -1], 'ISIC_0024707': [60.0, -1], 'ISIC_00247071': [60.0, -1], 'ISIC_0024708': [80.0, -1], 'ISIC_0024709': [65.0, 1], 'ISIC_0024710': [75.0, -1], 'ISIC_00247101': [75.0, -1], 'ISIC_0024711': [75.0, -1], 'ISIC_0024712': [5.0, 1], 'ISIC_0024713': [50.0, 1], 'ISIC_0024714': [70.0, -1], 'ISIC_0024715': [40.0, -1], 'ISIC_0024716': [75.0, 1], 'ISIC_0024717': [35.0, 1], 'ISIC_0024718': [70.0, -1], 'ISIC_0024719': [70.0, -1], 'ISIC_0024720': [45.0, -1], 'ISIC_0024721': [35.0, -1], 'ISIC_0024722': [65.0, 1], 'ISIC_0024723': [45.0, -1], 'ISIC_0024724': [50.0, -1], 'ISIC_0024725': [0.0, 1], 'ISIC_0024726': [65.0, -1], 'ISIC_0024727': [75.0, -1], 'ISIC_0024728': [30.0, 1], 'ISIC_0024729': [55.0, 1], 'ISIC_0024730': [30.0, 1], 'ISIC_0024731': [55.0, 1], 'ISIC_0024732': [50.0, 1], 'ISIC_0024733': [50.0, -1], 'ISIC_0024734': [25.0, -1], 'ISIC_0024735': [50.0, -1], 'ISIC_0024736': [40.0, -1], 'ISIC_0024737': [50.0, -1], 'ISIC_0024738': [45.0, -1], 'ISIC_0024739': [55.0, -1], 'ISIC_0024740': [55.0, -1], 'ISIC_0024741': [75.0, -1], 'ISIC_0024742': [45.0, -1], 'ISIC_0024743': [65.0, 1], 'ISIC_0024744': [50.0, 1], 'ISIC_0024745': [0.0, 1], 'ISIC_0024746': [50.0, -1], 'ISIC_0024747': [70.0, 1], 'ISIC_00247471': [70.0, 1], 'ISIC_00247472': [70.0, 1], 'ISIC_00247473': [70.0, 1], 'ISIC_0024748': [45.0, -1], 'ISIC_0024749': [70.0, 1], 'ISIC_0024750': [50.0, -1], 'ISIC_0024751': [45.0, -1], 'ISIC_0024752': [0.0, -1], 'ISIC_0024753': [40.0, 1], 'ISIC_0024754': [30.0, -1], 'ISIC_0024755': [45.0, -1], 'ISIC_0024756': [60.0, -1], 'ISIC_0024757': [10.0, -1], 'ISIC_0024758': [70.0, 1], 'ISIC_0024759': [50.0, 1], 'ISIC_0024760': [50.0, -1], 'ISIC_0024761': [65.0, -1], 'ISIC_0024762': [55.0, -1], 'ISIC_0024763': [65.0, -1], 'ISIC_0024764': [55.0, 1], 'ISIC_0024765': [45.0, 1], 'ISIC_0024766': [45.0, -1], 'ISIC_0024767': [80.0, -1], 'ISIC_0024768': [35.0, 1], 'ISIC_0024769': [50.0, -1], 'ISIC_0024770': [50.0, -1], 'ISIC_0024771': [75.0, -1], 'ISIC_00247711': [75.0, -1], 'ISIC_0024772': [70.0, -1], 'ISIC_0024773': [70.0, -1], 'ISIC_0024774': [35.0, 1], 'ISIC_0024775': [50.0, 1], 'ISIC_0024776': [40.0, -1], 'ISIC_0024777': [25.0, -1], 'ISIC_0024778': [40.0, -1], 'ISIC_0024779': [35.0, -1], 'ISIC_0024780': [35.0, -1], 'ISIC_0024781': [35.0, -1], 'ISIC_0024782': [65.0, 1], 'ISIC_0024783': [35.0, 1], 'ISIC_0024784': [50.0, 1], 'ISIC_0024785': [45.0, 1], 'ISIC_0024786': [70.0, -1], 'ISIC_0024787': [45.0, -1], 'ISIC_0024788': [40.0, 1], 'ISIC_0024789': [50.0, 1], 'ISIC_0024790': [75.0, -1], 'ISIC_0024791': [50.0, 1], 'ISIC_0024792': [50.0, -1], 'ISIC_0024793': [65.0, -1], 'ISIC_0024794': [55.0, 1], 'ISIC_0024795': [55.0, -1], 'ISIC_0024796': [60.0, -1], 'ISIC_0024797': [35.0, -1], 'ISIC_0024798': [70.0, -1], 'ISIC_0024799': [45.0, -1], 'ISIC_0024800': [50.0, -1], 'ISIC_0024801': [35.0, -1], 'ISIC_0024802': [65.0, -1], 'ISIC_0024803': [45.0, 1], 'ISIC_0024804': [55.0, -1], 'ISIC_0024805': [75.0, -1], 'ISIC_0024806': [70.0, 1], 'ISIC_0024807': [65.0, -1], 'ISIC_0024808': [45.0, -1], 'ISIC_0024809': [40.0, 1], 'ISIC_0024810': [50.0, -1], 'ISIC_0024811': [55.0, -1], 'ISIC_0024812': [30.0, 1], 'ISIC_0024813': [30.0, -1], 'ISIC_0024814': [50.0, 1], 'ISIC_0024815': [25.0, 1], 'ISIC_0024816': [65.0, 1], 'ISIC_0024817': [40.0, 1], 'ISIC_0024818': [40.0, -1], 'ISIC_0024819': [70.0, 1], 'ISIC_0024820': [50.0, 1], 'ISIC_0024821': [65.0, -1], 'ISIC_0024822': [65.0, -1], 'ISIC_0024823': [35.0, -1], 'ISIC_0024824': [50.0, 1], 'ISIC_0024825': [70.0, -1], 'ISIC_0024826': [40.0, 1], 'ISIC_0024827': [60.0, -1], 'ISIC_0024828': [60.0, -1], 'ISIC_0024829': [75.0, -1], 'ISIC_0024830': [15.0, 1], 'ISIC_0024831': [50.0, 1], 'ISIC_0024832': [40.0, 1], 'ISIC_0024833': [65.0, -1], 'ISIC_0024834': [70.0, -1], 'ISIC_0024835': [45.0, 1], 'ISIC_0024836': [45.0, -1], 'ISIC_0024837': [50.0, 1], 'ISIC_0024838': [45.0, 1], 'ISIC_0024839': [50.0, -1], 'ISIC_0024840': [45.0, -1], 'ISIC_0024841': [60.0, -1], 'ISIC_0024842': [45.0, -1], 'ISIC_0024843': [70.0, 1], 'ISIC_00248431': [70.0, 1], 'ISIC_0024844': [60.0, -1], 'ISIC_0024845': [40.0, -1], 'ISIC_00248451': [40.0, -1], 'ISIC_00248452': [40.0, -1], 'ISIC_00248453': [40.0, -1], 'ISIC_0024846': [40.0, 1], 'ISIC_0024847': [45.0, 1], 'ISIC_0024848': [80.0, -1], 'ISIC_0024849': [55.0, 1], 'ISIC_0024850': [55.0, 1], 'ISIC_0024851': [85.0, -1], 'ISIC_0024852': [70.0, -1], 'ISIC_0024853': [70.0, -1], 'ISIC_0024854': [15.0, -1], 'ISIC_0024855': [30.0, 1], 'ISIC_0024856': [75.0, -1], 'ISIC_0024857': [30.0, -1], 'ISIC_0024858': [40.0, -1], 'ISIC_0024859': [50.0, -1], 'ISIC_0024860': [55.0, -1], 'ISIC_0024861': [40.0, 1], 'ISIC_0024862': [85.0, -1], 'ISIC_0024863': [55.0, -1], 'ISIC_0024864': [40.0, 1], 'ISIC_0024865': [55.0, -1], 'ISIC_0024866': [40.0, 1], 'ISIC_0024867': [75.0, -1], 'ISIC_00248671': [75.0, -1], 'ISIC_00248672': [75.0, -1], 'ISIC_0024868': [55.0, -1], 'ISIC_0024869': [45.0, -1], 'ISIC_0024870': [25.0, -1], 'ISIC_0024871': [65.0, -1], 'ISIC_0024872': [55.0, -1], 'ISIC_0024873': [35.0, -1], 'ISIC_0024874': [45.0, 1], 'ISIC_0024875': [85.0, 1], 'ISIC_0024876': [40.0, 1], 'ISIC_0024877': [50.0, -1], 'ISIC_0024878': [80.0, -1], 'ISIC_0024879': [45.0, 1], 'ISIC_0024880': [40.0, -1], 'ISIC_0024881': [65.0, -1], 'ISIC_0024882': [70.0, -1], 'ISIC_0024883': [35.0, 1], 'ISIC_0024884': [55.0, -1], 'ISIC_0024885': [50.0, 1], 'ISIC_0024886': [55.0, 1], 'ISIC_0024887': [35.0, -1], 'ISIC_0024888': [45.0, 1], 'ISIC_0024889': [50.0, 1], 'ISIC_0024890': [60.0, 1], 'ISIC_0024891': [55.0, 1], 'ISIC_0024892': [55.0, 1], 'ISIC_0024893': [65.0, 1], 'ISIC_0024894': [55.0, 1], 'ISIC_0024895': [50.0, 1], 'ISIC_0024896': [45.0, -1], 'ISIC_0024897': [75.0, 1], 'ISIC_0024898': [80.0, -1], 'ISIC_0024899': [25.0, 1], 'ISIC_0024900': [65.0, 1], 'ISIC_0024901': [20.0, 1], 'ISIC_0024902': [25.0, -1], 'ISIC_0024903': [45.0, 1], 'ISIC_0024904': [75.0, -1], 'ISIC_00249041': [75.0, -1], 'ISIC_00249042': [75.0, -1], 'ISIC_00249043': [75.0, -1], 'ISIC_0024905': [55.0, -1], 'ISIC_0024906': [35.0, 1], 'ISIC_0024907': [30.0, 1], 'ISIC_0024908': [40.0, -1], 'ISIC_0024909': [85.0, 1], 'ISIC_0024910': [70.0, 1], 'ISIC_0024911': [45.0, 1], 'ISIC_0024912': [45.0, -1], 'ISIC_0024913': [85.0, -1], 'ISIC_00249131': [85.0, -1], 'ISIC_0024914': [45.0, 1], 'ISIC_0024915': [55.0, 1], 'ISIC_0024916': [45.0, 1], 'ISIC_0024917': [35.0, 1], 'ISIC_0024918': [30.0, -1], 'ISIC_0024919': [50.0, 1], 'ISIC_0024920': [45.0, -1], 'ISIC_0024921': [60.0, -1], 'ISIC_0024922': [60.0, -1], 'ISIC_0024923': [75.0, 1], 'ISIC_0024924': [55.0, -1], 'ISIC_0024925': [75.0, -1], 'ISIC_0024926': [35.0, 1], 'ISIC_0024927': [40.0, -1], 'ISIC_0024928': [75.0, 1], 'ISIC_0024929': [55.0, -1], 'ISIC_0024930': [60.0, -1], 'ISIC_0024931': [85.0, -1], 'ISIC_0024932': [55.0, 1], 'ISIC_0024933': [45.0, 1], 'ISIC_0024934': [25.0, -1], 'ISIC_0024935': [65.0, -1], 'ISIC_0024936': [25.0, -1], 'ISIC_0024937': [45.0, 1], 'ISIC_0024938': [75.0, -1], 'ISIC_0024939': [45.0, -1], 'ISIC_0024940': [80.0, -1], 'ISIC_0024941': [40.0, 1], 'ISIC_0024942': [65.0, 1], 'ISIC_0024943': [75.0, 1], 'ISIC_0024944': [40.0, -1], 'ISIC_0024945': [40.0, -1], 'ISIC_0024946': [45.0, -1], 'ISIC_00249461': [45.0, -1], 'ISIC_0024947': [40.0, -1], 'ISIC_0024948': [55.0, 1], 'ISIC_0024949': [75.0, -1], 'ISIC_0024950': [45.0, 1], 'ISIC_0024951': [70.0, -1], 'ISIC_0024952': [60.0, -1], 'ISIC_0024953': [45.0, 1], 'ISIC_0024954': [35.0, -1], 'ISIC_0024955': [30.0, 1], 'ISIC_0024956': [60.0, -1], 'ISIC_0024957': [80.0, -1], 'ISIC_0024958': [45.0, -1], 'ISIC_0024959': [45.0, -1], 'ISIC_0024960': [80.0, -1], 'ISIC_0024961': [75.0, -1], 'ISIC_0024962': [35.0, -1], 'ISIC_0024963': [35.0, -1], 'ISIC_0024964': [50.0, 1], 'ISIC_0024965': [60.0, -1], 'ISIC_0024966': [45.0, 1], 'ISIC_0024967': [60.0, -1], 'ISIC_0024968': [50.0, -1], 'ISIC_0024969': [30.0, 1], 'ISIC_0024970': [85.0, -1], 'ISIC_0024971': [50.0, -1], 'ISIC_0024972': [75.0, 1], 'ISIC_0024973': [75.0, -1], 'ISIC_00249731': [75.0, -1], 'ISIC_00249732': [75.0, -1], 'ISIC_00249733': [75.0, -1], 'ISIC_0024974': [40.0, -1], 'ISIC_0024975': [35.0, 1], 'ISIC_0024976': [35.0, -1], 'ISIC_0024977': [60.0, -1], 'ISIC_0024978': [45.0, -1], 'ISIC_0024979': [45.0, -1], 'ISIC_0024980': [55.0, -1], 'ISIC_0024981': [80.0, -1], 'ISIC_0024982': [55.0, -1], 'ISIC_0024983': [45.0, -1], 'ISIC_0024984': [55.0, 1], 'ISIC_0024985': [75.0, 1], 'ISIC_0024986': [35.0, 1], 'ISIC_0024987': [75.0, -1], 'ISIC_0024988': [40.0, 1], 'ISIC_0024989': [45.0, 1], 'ISIC_0024990': [60.0, 1], 'ISIC_0024991': [40.0, 1], 'ISIC_0024992': [40.0, -1], 'ISIC_0024993': [55.0, 1], 'ISIC_0024994': [40.0, 1], 'ISIC_00249941': [40.0, 1], 'ISIC_00249942': [40.0, 1], 'ISIC_00249943': [40.0, 1], 'ISIC_0024995': [65.0, -1], 'ISIC_0024996': [15.0, -1], 'ISIC_0024997': [60.0, -1], 'ISIC_0024998': [45.0, 1], 'ISIC_0024999': [50.0, -1], 'ISIC_0025000': [45.0, 1], 'ISIC_0025001': [60.0, -1], 'ISIC_0025002': [35.0, -1], 'ISIC_0025003': [50.0, 1], 'ISIC_0025004': [35.0, -1], 'ISIC_0025005': [70.0, -1], 'ISIC_0025006': [40.0, -1], 'ISIC_0025007': [50.0, 1], 'ISIC_0025008': [70.0, -1], 'ISIC_0025009': [nan, 1], 'ISIC_0025010': [70.0, -1], 'ISIC_0025011': [55.0, 1], 'ISIC_0025012': [40.0, -1], 'ISIC_0025013': [45.0, -1], 'ISIC_0025014': [35.0, -1], 'ISIC_0025015': [40.0, 1], 'ISIC_0025016': [75.0, -1], 'ISIC_0025017': [65.0, -1], 'ISIC_0025018': [45.0, -1], 'ISIC_0025019': [65.0, -1], 'ISIC_0025020': [35.0, -1], 'ISIC_0025021': [40.0, -1], 'ISIC_0025022': [40.0, -1], 'ISIC_0025023': [45.0, 1], 'ISIC_0025024': [60.0, -1], 'ISIC_0025025': [35.0, -1], 'ISIC_0025026': [50.0, 1], 'ISIC_0025027': [45.0, 1], 'ISIC_0025028': [45.0, 1], 'ISIC_0025029': [75.0, 1], 'ISIC_0025030': [80.0, -1], 'ISIC_0025031': [60.0, -1], 'ISIC_0025032': [75.0, 1], 'ISIC_0025033': [60.0, -1], 'ISIC_0025034': [50.0, -1], 'ISIC_0025035': [70.0, 1], 'ISIC_0025036': [50.0, 1], 'ISIC_0025037': [75.0, -1], 'ISIC_0025038': [60.0, 1], 'ISIC_0025039': [75.0, -1], 'ISIC_0025040': [35.0, 1], 'ISIC_0025041': [55.0, -1], 'ISIC_0025042': [45.0, -1], 'ISIC_0025043': [30.0, -1], 'ISIC_0025044': [40.0, 1], 'ISIC_0025045': [65.0, -1], 'ISIC_0025046': [65.0, 1], 'ISIC_0025047': [20.0, -1], 'ISIC_0025048': [50.0, -1], 'ISIC_0025049': [65.0, -1], 'ISIC_0025050': [45.0, -1], 'ISIC_0025051': [45.0, 1], 'ISIC_0025052': [45.0, 1], 'ISIC_0025053': [50.0, 1], 'ISIC_0025054': [75.0, -1], 'ISIC_0025055': [45.0, -1], 'ISIC_0025056': [45.0, 1], 'ISIC_0025057': [45.0, 1], 'ISIC_0025058': [25.0, -1], 'ISIC_0025059': [40.0, 1], 'ISIC_0025060': [50.0, -1], 'ISIC_0025061': [45.0, 1], 'ISIC_0025062': [55.0, 1], 'ISIC_0025063': [85.0, -1], 'ISIC_0025064': [35.0, 1], 'ISIC_0025065': [30.0, 1], 'ISIC_0025066': [60.0, -1], 'ISIC_0025067': [55.0, -1], 'ISIC_0025068': [80.0, -1], 'ISIC_0025069': [75.0, -1], 'ISIC_00250691': [75.0, -1], 'ISIC_0025070': [25.0, -1], 'ISIC_0025071': [45.0, -1], 'ISIC_0025072': [65.0, -1], 'ISIC_0025073': [35.0, 1], 'ISIC_0025074': [50.0, 1], 'ISIC_0025075': [60.0, -1], 'ISIC_0025076': [50.0, -1], 'ISIC_0025077': [45.0, 1], 'ISIC_0025078': [20.0, 1], 'ISIC_0025079': [55.0, -1], 'ISIC_0025080': [50.0, -1], 'ISIC_0025081': [30.0, 1], 'ISIC_0025082': [45.0, 1], 'ISIC_0025083': [55.0, -1], 'ISIC_0025084': [45.0, -1], 'ISIC_0025085': [75.0, -1], 'ISIC_0025086': [75.0, 1], 'ISIC_0025087': [50.0, 1], 'ISIC_0025088': [30.0, 1], 'ISIC_0025089': [65.0, -1], 'ISIC_00250891': [65.0, -1], 'ISIC_0025090': [5.0, -1], 'ISIC_0025091': [40.0, -1], 'ISIC_0025092': [50.0, -1], 'ISIC_0025093': [40.0, 1], 'ISIC_0025094': [50.0, -1], 'ISIC_0025095': [65.0, 1], 'ISIC_0025096': [60.0, -1], 'ISIC_0025097': [55.0, -1], 'ISIC_0025098': [55.0, -1], 'ISIC_0025099': [60.0, -1], 'ISIC_0025100': [25.0, -1], 'ISIC_0025101': [5.0, 1], 'ISIC_0025102': [70.0, -1], 'ISIC_0025103': [70.0, 1], 'ISIC_0025104': [50.0, 1], 'ISIC_0025105': [65.0, -1], 'ISIC_0025106': [65.0, -1], 'ISIC_0025107': [55.0, 1], 'ISIC_0025108': [40.0, 1], 'ISIC_0025109': [65.0, -1], 'ISIC_0025110': [40.0, 1], 'ISIC_0025111': [45.0, -1], 'ISIC_0025112': [50.0, -1], 'ISIC_0025113': [70.0, 1], 'ISIC_0025114': [35.0, -1], 'ISIC_0025115': [30.0, -1], 'ISIC_0025116': [45.0, -1], 'ISIC_0025117': [25.0, 1], 'ISIC_0025118': [30.0, -1], 'ISIC_0025119': [40.0, -1], 'ISIC_0025120': [45.0, 1], 'ISIC_0025121': [50.0, 1], 'ISIC_0025122': [30.0, -1], 'ISIC_0025123': [20.0, 1], 'ISIC_0025124': [45.0, -1], 'ISIC_0025125': [70.0, -1], 'ISIC_0025126': [45.0, 1], 'ISIC_0025127': [60.0, -1], 'ISIC_0025128': [80.0, 1], 'ISIC_0025129': [35.0, 1], 'ISIC_0025130': [80.0, 1], 'ISIC_00251301': [80.0, 1], 'ISIC_0025131': [75.0, 1], 'ISIC_0025132': [80.0, -1], 'ISIC_0025133': [70.0, -1], 'ISIC_0025134': [55.0, -1], 'ISIC_0025135': [60.0, 1], 'ISIC_0025136': [55.0, 1], 'ISIC_0025137': [50.0, 1], 'ISIC_0025138': [40.0, -1], 'ISIC_0025139': [35.0, 1], 'ISIC_0025140': [75.0, -1], 'ISIC_0025141': [60.0, 1], 'ISIC_0025142': [40.0, -1], 'ISIC_0025143': [45.0, -1], 'ISIC_0025144': [75.0, -1], 'ISIC_0025145': [80.0, 1], 'ISIC_0025146': [50.0, 1], 'ISIC_0025147': [40.0, 1], 'ISIC_0025148': [35.0, -1], 'ISIC_0025149': [30.0, -1], 'ISIC_0025150': [35.0, 1], 'ISIC_0025151': [30.0, -1], 'ISIC_0025152': [70.0, -1], 'ISIC_0025153': [45.0, 1], 'ISIC_0025154': [55.0, -1], 'ISIC_00251541': [55.0, -1], 'ISIC_00251542': [55.0, -1], 'ISIC_00251543': [55.0, -1], 'ISIC_0025155': [80.0, -1], 'ISIC_0025156': [45.0, -1], 'ISIC_0025157': [45.0, -1], 'ISIC_0025158': [45.0, -1], 'ISIC_0025159': [35.0, 1], 'ISIC_0025160': [10.0, 1], 'ISIC_0025161': [20.0, -1], 'ISIC_0025162': [50.0, -1], 'ISIC_0025163': [50.0, -1], 'ISIC_0025164': [45.0, -1], 'ISIC_0025165': [60.0, 1], 'ISIC_0025166': [0.0, 1], 'ISIC_0025167': [50.0, 1], 'ISIC_0025168': [10.0, 1], 'ISIC_0025169': [5.0, -1], 'ISIC_0025170': [60.0, -1], 'ISIC_0025171': [30.0, 1], 'ISIC_0025172': [25.0, 1], 'ISIC_0025173': [55.0, 1], 'ISIC_0025174': [55.0, 1], 'ISIC_0025175': [50.0, 1], 'ISIC_0025176': [60.0, -1], 'ISIC_0025177': [20.0, -1], 'ISIC_0025178': [65.0, -1], 'ISIC_00251781': [65.0, -1], 'ISIC_0025179': [65.0, 1], 'ISIC_0025180': [35.0, 1], 'ISIC_0025181': [80.0, -1], 'ISIC_0025182': [60.0, 1], 'ISIC_00251821': [60.0, 1], 'ISIC_0025183': [75.0, 1], 'ISIC_0025184': [70.0, 1], 'ISIC_0025185': [55.0, -1], 'ISIC_0025186': [45.0, 1], 'ISIC_0025187': [60.0, 1], 'ISIC_0025188': [55.0, -1], 'ISIC_0025189': [65.0, -1], 'ISIC_0025190': [55.0, 1], 'ISIC_0025191': [45.0, -1], 'ISIC_0025192': [35.0, -1], 'ISIC_0025193': [5.0, -1], 'ISIC_0025194': [35.0, 1], 'ISIC_0025195': [60.0, 1], 'ISIC_0025196': [80.0, 1], 'ISIC_00251961': [80.0, 1], 'ISIC_0025197': [50.0, 1], 'ISIC_00251971': [50.0, 1], 'ISIC_00251972': [50.0, 1], 'ISIC_0025198': [35.0, 1], 'ISIC_0025199': [60.0, 1], 'ISIC_0025200': [55.0, -1], 'ISIC_0025201': [45.0, 1], 'ISIC_0025202': [80.0, -1], 'ISIC_0025203': [55.0, -1], 'ISIC_0025204': [35.0, 1], 'ISIC_0025205': [45.0, 1], 'ISIC_0025206': [50.0, 1], 'ISIC_0025207': [50.0, 1], 'ISIC_0025208': [35.0, -1], 'ISIC_0025209': [70.0, 1], 'ISIC_0025210': [45.0, -1], 'ISIC_0025211': [65.0, -1], 'ISIC_0025212': [40.0, -1], 'ISIC_0025213': [45.0, 1], 'ISIC_0025214': [45.0, -1], 'ISIC_0025215': [45.0, 1], 'ISIC_0025216': [40.0, -1], 'ISIC_0025217': [50.0, -1], 'ISIC_0025218': [50.0, -1], 'ISIC_0025219': [80.0, 1], 'ISIC_0025220': [55.0, 1], 'ISIC_0025221': [45.0, 1], 'ISIC_0025222': [65.0, 1], 'ISIC_0025223': [60.0, -1], 'ISIC_00252231': [60.0, -1], 'ISIC_00252232': [60.0, -1], 'ISIC_00252233': [60.0, -1], 'ISIC_0025224': [55.0, -1], 'ISIC_0025225': [50.0, 1], 'ISIC_0025226': [40.0, -1], 'ISIC_0025227': [50.0, -1], 'ISIC_0025228': [50.0, 1], 'ISIC_0025229': [30.0, 1], 'ISIC_0025230': [50.0, -1], 'ISIC_0025231': [75.0, -1], 'ISIC_0025232': [40.0, -1], 'ISIC_0025233': [50.0, -1], 'ISIC_0025234': [70.0, -1], 'ISIC_0025235': [45.0, 1], 'ISIC_0025236': [45.0, -1], 'ISIC_0025237': [65.0, -1], 'ISIC_0025238': [55.0, -1], 'ISIC_0025239': [30.0, 1], 'ISIC_0025240': [45.0, -1], 'ISIC_0025241': [70.0, -1], 'ISIC_0025242': [60.0, 1], 'ISIC_0025243': [70.0, 1], 'ISIC_0025244': [45.0, 1], 'ISIC_00252441': [45.0, 1], 'ISIC_00252442': [45.0, 1], 'ISIC_0025245': [35.0, 1], 'ISIC_0025246': [5.0, -1], 'ISIC_0025247': [70.0, -1], 'ISIC_0025248': [70.0, -1], 'ISIC_0025249': [30.0, 1], 'ISIC_00252491': [30.0, 1], 'ISIC_00252492': [30.0, 1], 'ISIC_0025250': [30.0, -1], 'ISIC_00252501': [30.0, -1], 'ISIC_00252502': [30.0, -1], 'ISIC_0025251': [45.0, 1], 'ISIC_0025252': [25.0, -1], 'ISIC_0025253': [0.0, -1], 'ISIC_0025254': [75.0, -1], 'ISIC_0025255': [50.0, 1], 'ISIC_0025256': [45.0, -1], 'ISIC_0025257': [70.0, 1], 'ISIC_0025258': [55.0, 1], 'ISIC_0025259': [45.0, 1], 'ISIC_0025260': [70.0, -1], 'ISIC_0025261': [20.0, 1], 'ISIC_0025262': [80.0, -1], 'ISIC_0025263': [50.0, -1], 'ISIC_0025264': [75.0, -1], 'ISIC_0025265': [30.0, -1], 'ISIC_0025266': [65.0, 1], 'ISIC_0025267': [35.0, 1], 'ISIC_0025268': [65.0, -1], 'ISIC_0025269': [60.0, -1], 'ISIC_0025270': [60.0, -1], 'ISIC_0025271': [65.0, -1], 'ISIC_0025272': [55.0, 1], 'ISIC_0025273': [45.0, -1], 'ISIC_0025274': [45.0, -1], 'ISIC_0025275': [70.0, 1], 'ISIC_0025276': [55.0, 1], 'ISIC_0025277': [75.0, -1], 'ISIC_0025278': [30.0, 1], 'ISIC_0025279': [45.0, 1], 'ISIC_0025280': [35.0, 1], 'ISIC_0025281': [55.0, -1], 'ISIC_0025282': [35.0, -1], 'ISIC_0025283': [50.0, 1], 'ISIC_0025284': [75.0, -1], 'ISIC_0025285': [75.0, 1], 'ISIC_0025286': [50.0, -1], 'ISIC_0025287': [50.0, 1], 'ISIC_0025288': [65.0, 1], 'ISIC_0025289': [50.0, -1], 'ISIC_0025290': [60.0, 1], 'ISIC_0025291': [50.0, -1], 'ISIC_0025292': [85.0, -1], 'ISIC_0025293': [40.0, 1], 'ISIC_0025294': [35.0, 1], 'ISIC_0025295': [80.0, -1], 'ISIC_0025296': [50.0, 1], 'ISIC_0025297': [75.0, 1], 'ISIC_0025298': [35.0, -1], 'ISIC_0025299': [70.0, -1], 'ISIC_0025300': [35.0, 1], 'ISIC_0025301': [70.0, -1], 'ISIC_0025302': [60.0, 1], 'ISIC_00253021': [60.0, 1], 'ISIC_00253022': [60.0, 1], 'ISIC_00253023': [60.0, 1], 'ISIC_00253024': [60.0, 1], 'ISIC_0025303': [55.0, -1], 'ISIC_0025304': [45.0, 1], 'ISIC_0025305': [30.0, 1], 'ISIC_0025306': [45.0, 1], 'ISIC_0025307': [40.0, -1], 'ISIC_0025308': [40.0, -1], 'ISIC_0025309': [30.0, 1], 'ISIC_0025310': [75.0, 1], 'ISIC_0025311': [45.0, 1], 'ISIC_0025312': [65.0, 1], 'ISIC_0025313': [35.0, 1], 'ISIC_0025314': [35.0, 1], 'ISIC_00253141': [35.0, 1], 'ISIC_00253142': [35.0, 1], 'ISIC_00253143': [35.0, 1], 'ISIC_0025315': [40.0, 1], 'ISIC_0025316': [45.0, 1], 'ISIC_0025317': [80.0, -1], 'ISIC_0025318': [50.0, -1], 'ISIC_0025319': [80.0, -1], 'ISIC_0025320': [45.0, -1], 'ISIC_0025321': [85.0, -1], 'ISIC_00253211': [85.0, -1], 'ISIC_00253212': [85.0, -1], 'ISIC_00253213': [85.0, -1], 'ISIC_0025322': [65.0, -1], 'ISIC_0025323': [60.0, 1], 'ISIC_0025324': [45.0, 1], 'ISIC_0025325': [50.0, -1], 'ISIC_0025326': [50.0, 1], 'ISIC_0025327': [50.0, -1], 'ISIC_0025328': [20.0, 1], 'ISIC_0025329': [25.0, -1], 'ISIC_0025330': [50.0, 1], 'ISIC_0025331': [80.0, -1], 'ISIC_00253311': [80.0, -1], 'ISIC_0025332': [55.0, 1], 'ISIC_0025333': [50.0, 1], 'ISIC_0025334': [50.0, 1], 'ISIC_0025335': [60.0, -1], 'ISIC_0025336': [45.0, -1], 'ISIC_0025337': [35.0, -1], 'ISIC_0025338': [60.0, 1], 'ISIC_0025339': [65.0, -1], 'ISIC_0025340': [70.0, -1], 'ISIC_0025341': [60.0, 1], 'ISIC_0025342': [40.0, -1], 'ISIC_0025343': [35.0, -1], 'ISIC_0025344': [40.0, 1], 'ISIC_0025345': [70.0, -1], 'ISIC_0025346': [60.0, -1], 'ISIC_0025347': [35.0, 1], 'ISIC_0025348': [60.0, -1], 'ISIC_0025349': [50.0, -1], 'ISIC_0025350': [70.0, -1], 'ISIC_0025351': [75.0, -1], 'ISIC_0025352': [50.0, -1], 'ISIC_0025353': [55.0, -1], 'ISIC_0025354': [45.0, -1], 'ISIC_0025355': [35.0, 1], 'ISIC_0025356': [35.0, 1], 'ISIC_0025357': [35.0, 1], 'ISIC_0025358': [60.0, 1], 'ISIC_00253581': [60.0, 1], 'ISIC_0025359': [5.0, -1], 'ISIC_0025360': [50.0, -1], 'ISIC_0025361': [35.0, 1], 'ISIC_0025362': [65.0, 1], 'ISIC_0025363': [70.0, -1], 'ISIC_0025364': [50.0, 1], 'ISIC_0025365': [45.0, 1], 'ISIC_0025366': [50.0, 1], 'ISIC_0025367': [35.0, 1], 'ISIC_0025368': [40.0, 1], 'ISIC_0025369': [40.0, -1], 'ISIC_0025370': [15.0, 1], 'ISIC_0025371': [65.0, -1], 'ISIC_0025372': [30.0, 1], 'ISIC_0025373': [35.0, 1], 'ISIC_00253731': [35.0, 1], 'ISIC_00253732': [35.0, 1], 'ISIC_00253733': [35.0, 1], 'ISIC_0025374': [75.0, 1], 'ISIC_0025375': [35.0, 1], 'ISIC_0025376': [75.0, -1], 'ISIC_0025377': [50.0, -1], 'ISIC_0025378': [55.0, 1], 'ISIC_0025379': [85.0, -1], 'ISIC_0025380': [35.0, -1], 'ISIC_0025381': [40.0, -1], 'ISIC_0025382': [50.0, 1], 'ISIC_0025383': [40.0, -1], 'ISIC_0025384': [45.0, 1], 'ISIC_0025385': [50.0, -1], 'ISIC_0025386': [25.0, -1], 'ISIC_0025387': [70.0, 1], 'ISIC_0025388': [40.0, 1], 'ISIC_0025389': [65.0, -1], 'ISIC_0025390': [50.0, 1], 'ISIC_0025391': [55.0, -1], 'ISIC_0025392': [45.0, 1], 'ISIC_0025393': [25.0, 1], 'ISIC_0025394': [45.0, -1], 'ISIC_0025395': [55.0, 1], 'ISIC_0025396': [50.0, 1], 'ISIC_0025397': [45.0, 1], 'ISIC_0025398': [45.0, -1], 'ISIC_0025399': [30.0, 1], 'ISIC_0025400': [85.0, -1], 'ISIC_0025401': [45.0, -1], 'ISIC_0025402': [70.0, -1], 'ISIC_0025403': [45.0, -1], 'ISIC_0025404': [80.0, -1], 'ISIC_0025405': [50.0, 1], 'ISIC_0025406': [35.0, 1], 'ISIC_0025407': [45.0, 1], 'ISIC_0025408': [50.0, 1], 'ISIC_0025409': [80.0, 1], 'ISIC_0025410': [50.0, -1], 'ISIC_0025411': [50.0, -1], 'ISIC_00254111': [50.0, -1], 'ISIC_0025412': [20.0, 1], 'ISIC_0025413': [50.0, -1], 'ISIC_0025414': [55.0, -1], 'ISIC_0025415': [45.0, -1], 'ISIC_0025416': [50.0, 1], 'ISIC_0025417': [70.0, -1], 'ISIC_0025418': [30.0, 1], 'ISIC_0025419': [40.0, -1], 'ISIC_0025420': [55.0, -1], 'ISIC_0025421': [40.0, -1], 'ISIC_0025422': [30.0, -1], 'ISIC_0025423': [55.0, 1], 'ISIC_0025424': [40.0, 1], 'ISIC_0025425': [50.0, -1], 'ISIC_00254251': [50.0, -1], 'ISIC_00254252': [50.0, -1], 'ISIC_0025426': [60.0, -1], 'ISIC_0025427': [85.0, -1], 'ISIC_0025428': [35.0, -1], 'ISIC_0025429': [65.0, -1], 'ISIC_0025430': [40.0, 1], 'ISIC_0025431': [45.0, 1], 'ISIC_0025432': [50.0, 1], 'ISIC_0025433': [50.0, -1], 'ISIC_0025434': [60.0, 1], 'ISIC_0025435': [45.0, 1], 'ISIC_0025436': [55.0, -1], 'ISIC_0025437': [40.0, -1], 'ISIC_0025438': [40.0, -1], 'ISIC_0025439': [55.0, -1], 'ISIC_0025440': [40.0, -1], 'ISIC_0025441': [40.0, 1], 'ISIC_0025442': [25.0, -1], 'ISIC_0025443': [75.0, -1], 'ISIC_0025444': [50.0, 1], 'ISIC_0025445': [55.0, 1], 'ISIC_0025446': [5.0, 1], 'ISIC_0025447': [30.0, 1], 'ISIC_0025448': [40.0, 1], 'ISIC_0025449': [60.0, -1], 'ISIC_0025450': [60.0, 1], 'ISIC_0025451': [25.0, 1], 'ISIC_0025452': [55.0, 1], 'ISIC_00254521': [55.0, 1], 'ISIC_00254522': [55.0, 1], 'ISIC_0025453': [50.0, -1], 'ISIC_0025454': [70.0, -1], 'ISIC_0025455': [50.0, -1], 'ISIC_0025456': [30.0, -1], 'ISIC_0025457': [50.0, -1], 'ISIC_0025458': [45.0, 1], 'ISIC_0025459': [50.0, 1], 'ISIC_0025460': [45.0, 1], 'ISIC_0025461': [55.0, -1], 'ISIC_0025462': [45.0, 1], 'ISIC_0025463': [50.0, -1], 'ISIC_0025464': [50.0, -1], 'ISIC_0025465': [80.0, 1], 'ISIC_0025466': [70.0, -1], 'ISIC_0025467': [65.0, 1], 'ISIC_0025468': [70.0, -1], 'ISIC_0025469': [70.0, -1], 'ISIC_0025470': [85.0, 1], 'ISIC_0025471': [85.0, -1], 'ISIC_0025472': [55.0, -1], 'ISIC_0025473': [5.0, -1], 'ISIC_0025474': [55.0, 1], 'ISIC_0025475': [45.0, 1], 'ISIC_0025476': [60.0, 1], 'ISIC_0025477': [55.0, -1], 'ISIC_0025478': [40.0, 1], 'ISIC_0025479': [35.0, -1], 'ISIC_0025480': [55.0, 1], 'ISIC_0025481': [55.0, -1], 'ISIC_0025482': [40.0, -1], 'ISIC_0025483': [40.0, 1], 'ISIC_0025484': [70.0, 1], 'ISIC_0025485': [65.0, -1], 'ISIC_0025486': [50.0, 1], 'ISIC_0025487': [50.0, 1], 'ISIC_0025488': [40.0, -1], 'ISIC_0025489': [30.0, -1], 'ISIC_0025490': [55.0, -1], 'ISIC_0025491': [60.0, -1], 'ISIC_0025492': [55.0, -1], 'ISIC_0025493': [60.0, 1], 'ISIC_0025494': [55.0, -1], 'ISIC_0025495': [55.0, -1], 'ISIC_0025496': [45.0, 1], 'ISIC_0025497': [50.0, 1], 'ISIC_0025498': [30.0, -1], 'ISIC_0025499': [30.0, -1], 'ISIC_0025500': [55.0, 1], 'ISIC_0025501': [45.0, 1], 'ISIC_0025502': [50.0, -1], 'ISIC_0025503': [40.0, -1], 'ISIC_0025504': [50.0, 1], 'ISIC_00255041': [50.0, 1], 'ISIC_00255042': [50.0, 1], 'ISIC_00255043': [50.0, 1], 'ISIC_00255044': [50.0, 1], 'ISIC_0025505': [45.0, 1], 'ISIC_0025506': [35.0, 1], 'ISIC_0025507': [65.0, 1], 'ISIC_0025508': [40.0, 1], 'ISIC_0025509': [55.0, -1], 'ISIC_0025510': [35.0, 1], 'ISIC_0025511': [35.0, 1], 'ISIC_0025512': [50.0, -1], 'ISIC_0025513': [40.0, -1], 'ISIC_0025514': [75.0, 1], 'ISIC_0025515': [30.0, 1], 'ISIC_0025516': [20.0, 1], 'ISIC_0025517': [50.0, -1], 'ISIC_0025518': [40.0, 1], 'ISIC_0025519': [50.0, -1], 'ISIC_0025520': [65.0, -1], 'ISIC_0025521': [55.0, 1], 'ISIC_0025522': [35.0, 1], 'ISIC_0025523': [30.0, 1], 'ISIC_0025524': [50.0, 1], 'ISIC_0025525': [65.0, -1], 'ISIC_0025526': [60.0, -1], 'ISIC_0025527': [65.0, -1], 'ISIC_0025528': [45.0, 1], 'ISIC_0025529': [80.0, -1], 'ISIC_0025530': [80.0, 1], 'ISIC_0025531': [80.0, -1], 'ISIC_0025532': [45.0, 1], 'ISIC_0025533': [35.0, -1], 'ISIC_0025534': [60.0, -1], 'ISIC_0025535': [50.0, 1], 'ISIC_0025536': [35.0, 1], 'ISIC_0025537': [50.0, 1], 'ISIC_0025538': [55.0, -1], 'ISIC_0025539': [75.0, -1], 'ISIC_00255391': [75.0, -1], 'ISIC_0025540': [35.0, 1], 'ISIC_0025541': [25.0, 1], 'ISIC_0025542': [20.0, 1], 'ISIC_0025543': [85.0, 1], 'ISIC_0025544': [20.0, 1], 'ISIC_0025545': [30.0, 1], 'ISIC_0025546': [55.0, -1], 'ISIC_0025547': [25.0, 1], 'ISIC_0025548': [75.0, -1], 'ISIC_0025549': [55.0, 1], 'ISIC_0025550': [80.0, 1], 'ISIC_0025551': [45.0, 1], 'ISIC_0025552': [50.0, -1], 'ISIC_0025553': [65.0, 1], 'ISIC_0025554': [75.0, -1], 'ISIC_0025555': [35.0, 1], 'ISIC_0025556': [50.0, 1], 'ISIC_0025557': [80.0, 1], 'ISIC_0025558': [45.0, 1], 'ISIC_0025559': [45.0, -1], 'ISIC_0025560': [35.0, 1], 'ISIC_0025561': [40.0, -1], 'ISIC_0025562': [70.0, -1], 'ISIC_0025563': [35.0, 1], 'ISIC_0025564': [50.0, -1], 'ISIC_0025565': [40.0, -1], 'ISIC_0025566': [35.0, 1], 'ISIC_0025567': [40.0, -1], 'ISIC_0025568': [50.0, 1], 'ISIC_0025569': [40.0, -1], 'ISIC_0025570': [40.0, -1], 'ISIC_0025571': [50.0, -1], 'ISIC_0025572': [50.0, 1], 'ISIC_0025573': [80.0, -1], 'ISIC_0025574': [50.0, -1], 'ISIC_0025575': [60.0, -1], 'ISIC_0025576': [55.0, -1], 'ISIC_0025577': [75.0, 1], 'ISIC_0025578': [5.0, -1], 'ISIC_00255781': [5.0, -1], 'ISIC_00255782': [5.0, -1], 'ISIC_00255783': [5.0, -1], 'ISIC_0025579': [45.0, 1], 'ISIC_0025580': [50.0, -1], 'ISIC_0025581': [0.0, -1], 'ISIC_0025582': [60.0, -1], 'ISIC_0025583': [60.0, 1], 'ISIC_0025584': [80.0, -1], 'ISIC_0025585': [55.0, -1], 'ISIC_0025586': [35.0, -1], 'ISIC_0025587': [20.0, 1], 'ISIC_0025588': [30.0, -1], 'ISIC_0025589': [55.0, 1], 'ISIC_0025590': [40.0, -1], 'ISIC_0025591': [60.0, -1], 'ISIC_0025592': [55.0, 1], 'ISIC_0025593': [50.0, 1], 'ISIC_0025594': [65.0, 1], 'ISIC_00255941': [65.0, 1], 'ISIC_00255942': [65.0, 1], 'ISIC_00255943': [65.0, 1], 'ISIC_0025595': [45.0, 1], 'ISIC_0025596': [45.0, 1], 'ISIC_00255961': [45.0, 1], 'ISIC_00255962': [45.0, 1], 'ISIC_0025597': [50.0, 1], 'ISIC_0025598': [65.0, 1], 'ISIC_0025599': [15.0, -1], 'ISIC_00255991': [15.0, -1], 'ISIC_00255992': [15.0, -1], 'ISIC_00255993': [15.0, -1], 'ISIC_0025600': [85.0, 1], 'ISIC_0025601': [40.0, 1], 'ISIC_0025602': [40.0, 1], 'ISIC_0025603': [75.0, -1], 'ISIC_0025604': [35.0, 1], 'ISIC_0025605': [60.0, 1], 'ISIC_0025606': [55.0, -1], 'ISIC_00256061': [55.0, -1], 'ISIC_00256062': [55.0, -1], 'ISIC_0025607': [30.0, -1], 'ISIC_0025608': [50.0, 1], 'ISIC_0025609': [40.0, -1], 'ISIC_0025610': [35.0, -1], 'ISIC_0025611': [65.0, -1], 'ISIC_0025612': [45.0, 1], 'ISIC_00256121': [45.0, 1], 'ISIC_00256122': [45.0, 1], 'ISIC_0025613': [45.0, -1], 'ISIC_0025614': [60.0, -1], 'ISIC_0025615': [45.0, 1], 'ISIC_0025616': [70.0, 1], 'ISIC_0025617': [40.0, 1], 'ISIC_0025618': [30.0, 1], 'ISIC_0025619': [20.0, 1], 'ISIC_0025620': [30.0, -1], 'ISIC_0025621': [30.0, 1], 'ISIC_0025622': [50.0, -1], 'ISIC_00256221': [50.0, -1], 'ISIC_00256222': [50.0, -1], 'ISIC_00256223': [50.0, -1], 'ISIC_0025623': [75.0, -1], 'ISIC_0025624': [55.0, -1], 'ISIC_0025625': [40.0, 1], 'ISIC_0025626': [30.0, -1], 'ISIC_0025627': [40.0, -1], 'ISIC_0025628': [80.0, -1], 'ISIC_00256281': [80.0, -1], 'ISIC_00256282': [80.0, -1], 'ISIC_0025629': [45.0, -1], 'ISIC_0025630': [60.0, 1], 'ISIC_0025631': [60.0, 1], 'ISIC_0025632': [40.0, 1], 'ISIC_0025633': [60.0, -1], 'ISIC_0025634': [45.0, 1], 'ISIC_0025635': [40.0, 1], 'ISIC_0025636': [40.0, -1], 'ISIC_0025637': [75.0, -1], 'ISIC_00256371': [75.0, -1], 'ISIC_0025638': [20.0, 1], 'ISIC_0025639': [60.0, 1], 'ISIC_0025640': [40.0, -1], 'ISIC_0025641': [60.0, 1], 'ISIC_0025642': [50.0, -1], 'ISIC_0025643': [45.0, 1], 'ISIC_0025644': [40.0, 1], 'ISIC_0025645': [45.0, -1], 'ISIC_0025646': [35.0, 1], 'ISIC_0025647': [60.0, 1], 'ISIC_0025648': [40.0, -1], 'ISIC_0025649': [50.0, 1], 'ISIC_0025650': [70.0, -1], 'ISIC_0025651': [70.0, -1], 'ISIC_0025652': [15.0, 1], 'ISIC_0025653': [55.0, 1], 'ISIC_0025654': [70.0, 1], 'ISIC_0025655': [80.0, -1], 'ISIC_0025656': [45.0, -1], 'ISIC_0025657': [50.0, 1], 'ISIC_0025658': [60.0, -1], 'ISIC_0025659': [75.0, -1], 'ISIC_0025660': [45.0, 1], 'ISIC_0025661': [80.0, -1], 'ISIC_0025662': [35.0, -1], 'ISIC_0025663': [75.0, 1], 'ISIC_0025664': [50.0, 1], 'ISIC_0025665': [55.0, 1], 'ISIC_0025666': [50.0, -1], 'ISIC_0025667': [30.0, 1], 'ISIC_0025668': [65.0, -1], 'ISIC_00256681': [65.0, -1], 'ISIC_00256682': [65.0, -1], 'ISIC_00256683': [65.0, -1], 'ISIC_00256684': [65.0, -1], 'ISIC_0025669': [35.0, 1], 'ISIC_0025670': [0.0, -1], 'ISIC_0025671': [30.0, 1], 'ISIC_0025672': [70.0, -1], 'ISIC_0025673': [45.0, -1], 'ISIC_0025674': [85.0, -1], 'ISIC_0025675': [50.0, 1], 'ISIC_0025676': [40.0, -1], 'ISIC_0025677': [50.0, 1], 'ISIC_00256771': [50.0, 1], 'ISIC_00256772': [50.0, 1], 'ISIC_0025678': [30.0, -1], 'ISIC_0025679': [30.0, -1], 'ISIC_0025680': [55.0, 1], 'ISIC_00256801': [55.0, 1], 'ISIC_00256802': [55.0, 1], 'ISIC_0025681': [70.0, -1], 'ISIC_0025682': [35.0, 1], 'ISIC_0025683': [25.0, 1], 'ISIC_0025684': [45.0, 1], 'ISIC_0025685': [50.0, 1], 'ISIC_0025686': [65.0, -1], 'ISIC_0025687': [20.0, 1], 'ISIC_0025688': [50.0, 1], 'ISIC_0025689': [40.0, 1], 'ISIC_0025690': [50.0, -1], 'ISIC_0025691': [50.0, 1], 'ISIC_0025692': [45.0, 1], 'ISIC_0025693': [80.0, -1], 'ISIC_0025694': [55.0, 1], 'ISIC_0025695': [10.0, -1], 'ISIC_0025696': [60.0, -1], 'ISIC_00256961': [60.0, -1], 'ISIC_0025697': [50.0, -1], 'ISIC_0025698': [40.0, 1], 'ISIC_0025699': [65.0, 1], 'ISIC_0025700': [85.0, 1], 'ISIC_0025701': [35.0, 1], 'ISIC_0025702': [80.0, 1], 'ISIC_0025703': [70.0, -1], 'ISIC_0025704': [55.0, 1], 'ISIC_0025705': [55.0, 1], 'ISIC_0025706': [40.0, -1], 'ISIC_0025707': [35.0, -1], 'ISIC_00257071': [35.0, -1], 'ISIC_00257072': [35.0, -1], 'ISIC_0025708': [30.0, 1], 'ISIC_0025709': [65.0, -1], 'ISIC_0025710': [70.0, 1], 'ISIC_0025711': [80.0, -1], 'ISIC_0025712': [70.0, 1], 'ISIC_00257121': [70.0, 1], 'ISIC_0025713': [25.0, 1], 'ISIC_0025714': [20.0, -1], 'ISIC_0025715': [40.0, 1], 'ISIC_0025716': [85.0, -1], 'ISIC_0025717': [40.0, 1], 'ISIC_0025718': [70.0, -1], 'ISIC_0025719': [40.0, -1], 'ISIC_0025720': [40.0, -1], 'ISIC_0025721': [35.0, -1], 'ISIC_0025722': [50.0, -1], 'ISIC_0025723': [35.0, -1], 'ISIC_0025724': [45.0, 1], 'ISIC_0025725': [55.0, 1], 'ISIC_0025726': [40.0, 1], 'ISIC_0025727': [40.0, -1], 'ISIC_0025728': [50.0, -1], 'ISIC_0025729': [30.0, -1], 'ISIC_0025730': [30.0, -1], 'ISIC_0025731': [65.0, -1], 'ISIC_0025732': [85.0, -1], 'ISIC_0025733': [50.0, -1], 'ISIC_0025734': [25.0, -1], 'ISIC_0025735': [70.0, -1], 'ISIC_0025736': [50.0, 1], 'ISIC_0025737': [50.0, -1], 'ISIC_0025738': [5.0, -1], 'ISIC_0025739': [35.0, 1], 'ISIC_0025740': [45.0, 1], 'ISIC_0025741': [35.0, 1], 'ISIC_0025742': [60.0, 1], 'ISIC_0025743': [85.0, -1], 'ISIC_0025744': [70.0, -1], 'ISIC_0025745': [40.0, 1], 'ISIC_0025746': [60.0, 1], 'ISIC_0025747': [35.0, 1], 'ISIC_0025748': [70.0, -1], 'ISIC_0025749': [55.0, -1], 'ISIC_0025750': [45.0, -1], 'ISIC_0025751': [65.0, -1], 'ISIC_0025752': [65.0, -1], 'ISIC_0025753': [70.0, -1], 'ISIC_0025754': [65.0, -1], 'ISIC_0025755': [60.0, 1], 'ISIC_0025756': [30.0, 1], 'ISIC_0025757': [50.0, 1], 'ISIC_0025758': [45.0, 1], 'ISIC_0025759': [40.0, -1], 'ISIC_0025760': [55.0, 1], 'ISIC_0025761': [65.0, 1], 'ISIC_0025762': [35.0, -1], 'ISIC_0025763': [50.0, -1], 'ISIC_0025764': [35.0, -1], 'ISIC_0025765': [45.0, 1], 'ISIC_0025766': [50.0, -1], 'ISIC_0025767': [70.0, -1], 'ISIC_0025768': [45.0, -1], 'ISIC_0025769': [30.0, 1], 'ISIC_0025770': [45.0, 1], 'ISIC_0025771': [35.0, 1], 'ISIC_00257711': [35.0, 1], 'ISIC_00257712': [35.0, 1], 'ISIC_00257713': [35.0, 1], 'ISIC_0025772': [45.0, -1], 'ISIC_0025773': [70.0, -1], 'ISIC_0025774': [45.0, 1], 'ISIC_0025775': [45.0, 1], 'ISIC_0025776': [65.0, -1], 'ISIC_0025777': [80.0, -1], 'ISIC_0025778': [75.0, 1], 'ISIC_0025779': [25.0, -1], 'ISIC_0025780': [70.0, -1], 'ISIC_0025781': [75.0, -1], 'ISIC_0025782': [35.0, 1], 'ISIC_0025783': [65.0, -1], 'ISIC_0025784': [30.0, -1], 'ISIC_0025785': [20.0, 1], 'ISIC_0025786': [65.0, -1], 'ISIC_0025787': [30.0, 1], 'ISIC_0025788': [65.0, -1], 'ISIC_0025789': [65.0, 1], 'ISIC_0025790': [75.0, 1], 'ISIC_0025791': [80.0, -1], 'ISIC_0025792': [60.0, 1], 'ISIC_0025793': [60.0, -1], 'ISIC_0025794': [45.0, 1], 'ISIC_0025795': [35.0, 1], 'ISIC_0025796': [75.0, -1], 'ISIC_0025797': [40.0, -1], 'ISIC_0025798': [60.0, 1], 'ISIC_0025799': [75.0, 1], 'ISIC_0025800': [65.0, -1], 'ISIC_0025801': [50.0, 1], 'ISIC_0025802': [45.0, 1], 'ISIC_0025803': [80.0, -1], 'ISIC_0025804': [50.0, -1], 'ISIC_0025805': [60.0, 1], 'ISIC_0025806': [55.0, -1], 'ISIC_0025807': [50.0, 1], 'ISIC_00258071': [50.0, 1], 'ISIC_00258072': [50.0, 1], 'ISIC_00258073': [50.0, 1], 'ISIC_0025808': [50.0, -1], 'ISIC_00258081': [50.0, -1], 'ISIC_0025809': [55.0, -1], 'ISIC_0025810': [75.0, -1], 'ISIC_0025811': [55.0, -1], 'ISIC_00258111': [55.0, -1], 'ISIC_0025812': [50.0, 1], 'ISIC_0025813': [50.0, -1], 'ISIC_0025814': [65.0, -1], 'ISIC_0025815': [50.0, 1], 'ISIC_0025816': [75.0, -1], 'ISIC_0025817': [55.0, 1], 'ISIC_0025818': [70.0, 1], 'ISIC_0025819': [75.0, 1], 'ISIC_0025820': [50.0, 1], 'ISIC_0025821': [35.0, -1], 'ISIC_0025822': [55.0, -1], 'ISIC_0025823': [15.0, 1], 'ISIC_0025824': [75.0, -1], 'ISIC_0025825': [80.0, 1], 'ISIC_00258251': [80.0, 1], 'ISIC_0025826': [65.0, 1], 'ISIC_0025827': [50.0, -1], 'ISIC_0025828': [40.0, 1], 'ISIC_0025829': [45.0, -1], 'ISIC_0025830': [80.0, -1], 'ISIC_0025831': [65.0, 1], 'ISIC_00258311': [65.0, 1], 'ISIC_0025832': [65.0, -1], 'ISIC_0025833': [35.0, 1], 'ISIC_0025834': [40.0, -1], 'ISIC_0025835': [75.0, -1], 'ISIC_0025836': [85.0, 1], 'ISIC_0025837': [70.0, 1], 'ISIC_0025838': [75.0, -1], 'ISIC_0025839': [40.0, 1], 'ISIC_0025840': [30.0, 1], 'ISIC_0025841': [40.0, -1], 'ISIC_0025842': [60.0, 1], 'ISIC_0025843': [45.0, 1], 'ISIC_0025844': [35.0, -1], 'ISIC_0025845': [65.0, -1], 'ISIC_0025846': [80.0, -1], 'ISIC_0025847': [40.0, 1], 'ISIC_0025848': [60.0, -1], 'ISIC_0025849': [45.0, 1], 'ISIC_0025850': [35.0, 1], 'ISIC_0025851': [80.0, 1], 'ISIC_0025852': [50.0, -1], 'ISIC_0025853': [60.0, 1], 'ISIC_0025854': [35.0, -1], 'ISIC_0025855': [50.0, 1], 'ISIC_0025856': [55.0, -1], 'ISIC_0025857': [80.0, -1], 'ISIC_0025858': [60.0, -1], 'ISIC_0025859': [50.0, 1], 'ISIC_0025860': [5.0, -1], 'ISIC_0025861': [30.0, -1], 'ISIC_0025862': [55.0, 1], 'ISIC_0025863': [65.0, 1], 'ISIC_0025864': [45.0, 1], 'ISIC_0025865': [65.0, -1], 'ISIC_0025866': [55.0, 1], 'ISIC_0025867': [60.0, -1], 'ISIC_0025868': [50.0, 1], 'ISIC_0025869': [60.0, -1], 'ISIC_0025870': [70.0, 1], 'ISIC_0025871': [50.0, -1], 'ISIC_0025872': [45.0, -1], 'ISIC_0025873': [50.0, 1], 'ISIC_00258731': [50.0, 1], 'ISIC_00258732': [50.0, 1], 'ISIC_0025874': [80.0, -1], 'ISIC_0025875': [75.0, -1], 'ISIC_0025876': [70.0, -1], 'ISIC_0025877': [55.0, 1], 'ISIC_0025878': [45.0, -1], 'ISIC_0025879': [45.0, 1], 'ISIC_0025880': [50.0, -1], 'ISIC_0025881': [70.0, -1], 'ISIC_0025882': [55.0, -1], 'ISIC_0025883': [75.0, -1], 'ISIC_0025884': [45.0, 1], 'ISIC_0025885': [85.0, -1], 'ISIC_0025886': [45.0, 1], 'ISIC_0025887': [55.0, -1], 'ISIC_0025888': [35.0, 1], 'ISIC_0025889': [55.0, 1], 'ISIC_0025890': [50.0, 1], 'ISIC_0025891': [65.0, 1], 'ISIC_0025892': [40.0, 1], 'ISIC_0025893': [45.0, -1], 'ISIC_0025894': [50.0, 1], 'ISIC_0025895': [40.0, 1], 'ISIC_0025896': [60.0, -1], 'ISIC_0025897': [75.0, -1], 'ISIC_0025898': [0.0, -1], 'ISIC_0025899': [15.0, -1], 'ISIC_0025900': [45.0, 1], 'ISIC_0025901': [55.0, 1], 'ISIC_0025902': [80.0, -1], 'ISIC_0025903': [60.0, -1], 'ISIC_00259031': [60.0, -1], 'ISIC_00259032': [60.0, -1], 'ISIC_00259033': [60.0, -1], 'ISIC_0025904': [70.0, -1], 'ISIC_0025905': [45.0, -1], 'ISIC_0025906': [0.0, 1], 'ISIC_0025907': [55.0, -1], 'ISIC_0025908': [65.0, -1], 'ISIC_0025909': [35.0, -1], 'ISIC_0025910': [50.0, -1], 'ISIC_0025911': [65.0, 1], 'ISIC_00259111': [65.0, 1], 'ISIC_00259112': [65.0, 1], 'ISIC_00259113': [65.0, 1], 'ISIC_0025912': [45.0, -1], 'ISIC_0025913': [50.0, -1], 'ISIC_0025914': [45.0, 1], 'ISIC_0025915': [75.0, -1], 'ISIC_0025916': [50.0, 1], 'ISIC_0025917': [30.0, 1], 'ISIC_0025918': [75.0, -1], 'ISIC_0025919': [75.0, -1], 'ISIC_0025920': [55.0, 1], 'ISIC_0025921': [45.0, 1], 'ISIC_0025922': [45.0, -1], 'ISIC_0025923': [50.0, -1], 'ISIC_0025924': [30.0, 1], 'ISIC_00259241': [30.0, 1], 'ISIC_00259242': [30.0, 1], 'ISIC_00259243': [30.0, 1], 'ISIC_0025925': [50.0, 1], 'ISIC_0025926': [60.0, 1], 'ISIC_0025927': [50.0, 1], 'ISIC_0025928': [85.0, 1], 'ISIC_0025929': [50.0, 1], 'ISIC_0025930': [35.0, 1], 'ISIC_0025931': [45.0, 1], 'ISIC_0025932': [85.0, -1], 'ISIC_0025933': [50.0, 1], 'ISIC_0025934': [50.0, 1], 'ISIC_0025935': [55.0, 1], 'ISIC_0025936': [30.0, 1], 'ISIC_0025937': [75.0, -1], 'ISIC_0025938': [30.0, -1], 'ISIC_0025939': [45.0, -1], 'ISIC_0025940': [55.0, -1], 'ISIC_0025941': [55.0, -1], 'ISIC_0025942': [50.0, 1], 'ISIC_0025943': [50.0, 1], 'ISIC_0025944': [40.0, -1], 'ISIC_0025945': [75.0, 1], 'ISIC_0025946': [60.0, 1], 'ISIC_0025947': [45.0, -1], 'ISIC_0025948': [75.0, -1], 'ISIC_00259481': [75.0, -1], 'ISIC_0025949': [60.0, -1], 'ISIC_0025950': [25.0, -1], 'ISIC_0025951': [55.0, 1], 'ISIC_0025952': [50.0, -1], 'ISIC_0025953': [65.0, -1], 'ISIC_00259531': [65.0, -1], 'ISIC_0025954': [40.0, -1], 'ISIC_00259541': [40.0, -1], 'ISIC_00259542': [40.0, -1], 'ISIC_00259543': [40.0, -1], 'ISIC_00259544': [40.0, -1], 'ISIC_0025955': [45.0, -1], 'ISIC_0025956': [35.0, -1], 'ISIC_0025957': [60.0, 1], 'ISIC_0025958': [40.0, 1], 'ISIC_0025959': [55.0, 1], 'ISIC_0025960': [75.0, -1], 'ISIC_0025961': [35.0, -1], 'ISIC_0025962': [35.0, 1], 'ISIC_0025963': [50.0, 1], 'ISIC_0025964': [40.0, 1], 'ISIC_0025965': [50.0, -1], 'ISIC_0025966': [45.0, -1], 'ISIC_0025967': [35.0, 1], 'ISIC_0025968': [60.0, -1], 'ISIC_0025969': [40.0, -1], 'ISIC_0025970': [60.0, 1], 'ISIC_0025971': [45.0, -1], 'ISIC_0025972': [75.0, -1], 'ISIC_0025973': [80.0, 1], 'ISIC_0025974': [55.0, 1], 'ISIC_0025975': [40.0, -1], 'ISIC_0025976': [40.0, -1], 'ISIC_0025977': [25.0, 1], 'ISIC_0025978': [30.0, 1], 'ISIC_0025979': [35.0, 1], 'ISIC_0025980': [55.0, 1], 'ISIC_00259801': [55.0, 1], 'ISIC_00259802': [55.0, 1], 'ISIC_00259803': [55.0, 1], 'ISIC_0025981': [45.0, 1], 'ISIC_0025982': [60.0, 1], 'ISIC_0025983': [20.0, 1], 'ISIC_0025984': [85.0, 1], 'ISIC_0025985': [70.0, -1], 'ISIC_0025986': [70.0, 1], 'ISIC_0025987': [25.0, 1], 'ISIC_0025988': [40.0, 1], 'ISIC_0025989': [60.0, 1], 'ISIC_0025990': [75.0, 1], 'ISIC_0025991': [45.0, 1], 'ISIC_0025992': [65.0, -1], 'ISIC_0025993': [25.0, 1], 'ISIC_0025994': [50.0, 1], 'ISIC_0025995': [35.0, 1], 'ISIC_0025996': [60.0, -1], 'ISIC_0025997': [50.0, 1], 'ISIC_0025998': [70.0, -1], 'ISIC_0025999': [50.0, 1], 'ISIC_0026000': [80.0, -1], 'ISIC_0026001': [55.0, -1], 'ISIC_0026002': [60.0, 1], 'ISIC_0026003': [50.0, -1], 'ISIC_0026004': [55.0, 1], 'ISIC_0026005': [45.0, -1], 'ISIC_0026006': [40.0, 1], 'ISIC_0026007': [65.0, -1], 'ISIC_0026008': [65.0, -1], 'ISIC_0026009': [80.0, 1], 'ISIC_0026010': [35.0, 1], 'ISIC_0026011': [45.0, -1], 'ISIC_0026012': [35.0, 1], 'ISIC_0026013': [50.0, 1], 'ISIC_0026014': [85.0, -1], 'ISIC_00260141': [85.0, -1], 'ISIC_0026015': [85.0, -1], 'ISIC_0026016': [55.0, 1], 'ISIC_0026017': [65.0, -1], 'ISIC_0026018': [65.0, -1], 'ISIC_0026019': [30.0, -1], 'ISIC_0026020': [45.0, 1], 'ISIC_0026021': [35.0, 1], 'ISIC_0026022': [45.0, 1], 'ISIC_0026023': [30.0, 1], 'ISIC_0026024': [0.0, -1], 'ISIC_0026025': [50.0, -1], 'ISIC_0026026': [45.0, -1], 'ISIC_0026027': [50.0, 1], 'ISIC_0026028': [40.0, 1], 'ISIC_0026029': [25.0, 1], 'ISIC_0026030': [50.0, 1], 'ISIC_0026031': [60.0, -1], 'ISIC_0026032': [50.0, -1], 'ISIC_0026033': [60.0, 1], 'ISIC_0026034': [60.0, -1], 'ISIC_0026035': [45.0, -1], 'ISIC_0026036': [40.0, -1], 'ISIC_0026037': [30.0, 1], 'ISIC_0026038': [65.0, 1], 'ISIC_0026039': [50.0, 1], 'ISIC_0026040': [70.0, 1], 'ISIC_0026041': [45.0, 1], 'ISIC_0026042': [75.0, -1], 'ISIC_0026043': [30.0, -1], 'ISIC_0026044': [60.0, 1], 'ISIC_0026045': [65.0, -1], 'ISIC_0026046': [70.0, 1], 'ISIC_0026047': [45.0, 1], 'ISIC_0026048': [65.0, 1], 'ISIC_0026049': [30.0, 1], 'ISIC_0026050': [50.0, -1], 'ISIC_0026051': [20.0, -1], 'ISIC_0026052': [15.0, 1], 'ISIC_0026053': [70.0, -1], 'ISIC_0026054': [50.0, -1], 'ISIC_0026055': [50.0, 1], 'ISIC_0026056': [80.0, -1], 'ISIC_0026057': [45.0, -1], 'ISIC_0026058': [55.0, 1], 'ISIC_0026059': [30.0, 1], 'ISIC_0026060': [70.0, 1], 'ISIC_0026061': [65.0, 1], 'ISIC_0026062': [40.0, 1], 'ISIC_0026063': [55.0, -1], 'ISIC_0026064': [55.0, 1], 'ISIC_0026065': [65.0, -1], 'ISIC_0026066': [50.0, -1], 'ISIC_0026067': [35.0, 1], 'ISIC_0026068': [55.0, 1], 'ISIC_00260681': [55.0, 1], 'ISIC_00260682': [55.0, 1], 'ISIC_0026069': [65.0, 1], 'ISIC_0026070': [70.0, 1], 'ISIC_0026071': [70.0, 1], 'ISIC_0026072': [45.0, -1], 'ISIC_0026073': [80.0, -1], 'ISIC_0026074': [40.0, 1], 'ISIC_0026075': [30.0, -1], 'ISIC_0026076': [45.0, 1], 'ISIC_0026077': [50.0, -1], 'ISIC_0026078': [50.0, 1], 'ISIC_0026079': [35.0, 1], 'ISIC_0026080': [45.0, -1], 'ISIC_0026081': [50.0, 1], 'ISIC_0026082': [55.0, 1], 'ISIC_0026083': [55.0, -1], 'ISIC_00260831': [55.0, -1], 'ISIC_0026084': [80.0, -1], 'ISIC_0026085': [85.0, -1], 'ISIC_0026086': [55.0, -1], 'ISIC_0026087': [50.0, 1], 'ISIC_0026088': [45.0, -1], 'ISIC_0026089': [60.0, -1], 'ISIC_0026090': [75.0, 1], 'ISIC_0026091': [75.0, -1], 'ISIC_0026092': [75.0, -1], 'ISIC_00260921': [75.0, -1], 'ISIC_00260922': [75.0, -1], 'ISIC_00260923': [75.0, -1], 'ISIC_0026093': [50.0, -1], 'ISIC_0026094': [20.0, -1], 'ISIC_0026095': [45.0, 1], 'ISIC_0026096': [35.0, -1], 'ISIC_0026097': [5.0, -1], 'ISIC_0026098': [55.0, -1], 'ISIC_0026099': [65.0, 1], 'ISIC_0026100': [70.0, -1], 'ISIC_00261001': [70.0, -1], 'ISIC_0026101': [40.0, 1], 'ISIC_0026102': [25.0, 1], 'ISIC_0026103': [40.0, -1], 'ISIC_0026104': [40.0, -1], 'ISIC_0026105': [65.0, -1], 'ISIC_0026106': [35.0, -1], 'ISIC_0026107': [35.0, 1], 'ISIC_0026108': [30.0, 1], 'ISIC_0026109': [50.0, -1], 'ISIC_0026110': [40.0, 1], 'ISIC_0026111': [65.0, 1], 'ISIC_0026112': [65.0, 1], 'ISIC_0026113': [50.0, -1], 'ISIC_0026114': [50.0, 1], 'ISIC_0026115': [70.0, -1], 'ISIC_0026116': [30.0, -1], 'ISIC_0026117': [75.0, 1], 'ISIC_0026118': [80.0, -1], 'ISIC_0026119': [60.0, 1], 'ISIC_0026120': [55.0, -1], 'ISIC_0026121': [30.0, 1], 'ISIC_0026122': [0.0, -1], 'ISIC_0026123': [40.0, 1], 'ISIC_0026124': [75.0, -1], 'ISIC_0026125': [20.0, 1], 'ISIC_0026126': [35.0, -1], 'ISIC_0026127': [55.0, -1], 'ISIC_0026128': [65.0, 1], 'ISIC_0026129': [60.0, -1], 'ISIC_0026130': [40.0, 1], 'ISIC_0026131': [75.0, 1], 'ISIC_0026132': [70.0, -1], 'ISIC_0026133': [75.0, -1], 'ISIC_0026134': [40.0, 1], 'ISIC_0026135': [75.0, 1], 'ISIC_0026136': [75.0, -1], 'ISIC_0026137': [25.0, 1], 'ISIC_0026138': [85.0, 1], 'ISIC_00261381': [85.0, 1], 'ISIC_0026139': [45.0, 1], 'ISIC_0026140': [55.0, -1], 'ISIC_0026141': [60.0, 1], 'ISIC_0026142': [60.0, 1], 'ISIC_0026143': [45.0, -1], 'ISIC_0026144': [40.0, -1], 'ISIC_0026145': [45.0, 1], 'ISIC_0026146': [65.0, -1], 'ISIC_0026147': [30.0, 1], 'ISIC_0026148': [45.0, -1], 'ISIC_0026149': [65.0, -1], 'ISIC_0026150': [50.0, 1], 'ISIC_0026151': [55.0, -1], 'ISIC_0026152': [70.0, -1], 'ISIC_00261521': [70.0, -1], 'ISIC_0026153': [70.0, -1], 'ISIC_0026154': [85.0, -1], 'ISIC_0026155': [50.0, -1], 'ISIC_0026156': [80.0, -1], 'ISIC_0026157': [35.0, -1], 'ISIC_0026158': [75.0, -1], 'ISIC_0026159': [45.0, -1], 'ISIC_0026160': [55.0, 1], 'ISIC_0026161': [50.0, 1], 'ISIC_0026162': [40.0, -1], 'ISIC_0026163': [50.0, 1], 'ISIC_00261631': [50.0, 1], 'ISIC_00261632': [50.0, 1], 'ISIC_00261633': [50.0, 1], 'ISIC_0026164': [35.0, 1], 'ISIC_0026165': [45.0, -1], 'ISIC_0026166': [55.0, -1], 'ISIC_0026167': [50.0, -1], 'ISIC_0026168': [35.0, -1], 'ISIC_0026169': [45.0, -1], 'ISIC_0026170': [60.0, 1], 'ISIC_0026171': [60.0, 1], 'ISIC_0026172': [50.0, 1], 'ISIC_0026173': [45.0, 1], 'ISIC_0026174': [65.0, -1], 'ISIC_0026175': [45.0, -1], 'ISIC_0026176': [25.0, 1], 'ISIC_0026177': [30.0, -1], 'ISIC_0026178': [60.0, -1], 'ISIC_0026179': [40.0, -1], 'ISIC_0026180': [55.0, -1], 'ISIC_0026181': [35.0, 1], 'ISIC_0026182': [45.0, 1], 'ISIC_0026183': [35.0, -1], 'ISIC_0026184': [55.0, -1], 'ISIC_0026185': [55.0, -1], 'ISIC_0026186': [45.0, -1], 'ISIC_0026187': [35.0, 1], 'ISIC_0026188': [70.0, -1], 'ISIC_0026189': [65.0, -1], 'ISIC_0026190': [70.0, -1], 'ISIC_0026191': [45.0, 1], 'ISIC_0026192': [70.0, -1], 'ISIC_0026193': [55.0, -1], 'ISIC_0026194': [30.0, -1], 'ISIC_0026195': [55.0, -1], 'ISIC_0026196': [60.0, 1], 'ISIC_0026197': [55.0, 1], 'ISIC_0026198': [40.0, 1], 'ISIC_0026199': [35.0, -1], 'ISIC_0026200': [50.0, 1], 'ISIC_0026201': [5.0, -1], 'ISIC_0026202': [50.0, 1], 'ISIC_0026203': [70.0, -1], 'ISIC_00262031': [70.0, -1], 'ISIC_0026204': [55.0, -1], 'ISIC_0026205': [35.0, -1], 'ISIC_0026206': [85.0, -1], 'ISIC_0026207': [45.0, 1], 'ISIC_0026208': [50.0, -1], 'ISIC_0026209': [70.0, -1], 'ISIC_0026210': [25.0, -1], 'ISIC_0026211': [50.0, -1], 'ISIC_0026212': [45.0, -1], 'ISIC_00262121': [45.0, -1], 'ISIC_0026213': [70.0, -1], 'ISIC_0026214': [40.0, -1], 'ISIC_0026215': [55.0, 1], 'ISIC_0026216': [65.0, 1], 'ISIC_0026217': [35.0, -1], 'ISIC_0026218': [30.0, -1], 'ISIC_0026219': [60.0, 1], 'ISIC_0026220': [60.0, 1], 'ISIC_0026221': [45.0, -1], 'ISIC_0026222': [85.0, 1], 'ISIC_0026223': [55.0, 1], 'ISIC_0026224': [45.0, -1], 'ISIC_0026225': [55.0, -1], 'ISIC_0026226': [50.0, -1], 'ISIC_0026227': [45.0, 1], 'ISIC_0026228': [55.0, 1], 'ISIC_0026229': [65.0, -1], 'ISIC_0026230': [50.0, 1], 'ISIC_0026231': [35.0, -1], 'ISIC_0026232': [45.0, 1], 'ISIC_0026233': [50.0, 1], 'ISIC_0026234': [50.0, 1], 'ISIC_0026235': [55.0, 1], 'ISIC_0026236': [70.0, -1], 'ISIC_0026237': [25.0, 1], 'ISIC_0026238': [45.0, 1], 'ISIC_0026239': [55.0, -1], 'ISIC_0026240': [75.0, -1], 'ISIC_0026241': [50.0, 1], 'ISIC_0026242': [50.0, -1], 'ISIC_0026243': [5.0, -1], 'ISIC_0026244': [50.0, -1], 'ISIC_0026245': [45.0, 1], 'ISIC_0026246': [45.0, 1], 'ISIC_0026247': [85.0, -1], 'ISIC_0026248': [80.0, -1], 'ISIC_0026249': [75.0, -1], 'ISIC_0026250': [45.0, 1], 'ISIC_0026251': [30.0, 1], 'ISIC_0026252': [45.0, -1], 'ISIC_0026253': [80.0, -1], 'ISIC_0026254': [45.0, -1], 'ISIC_00262541': [45.0, -1], 'ISIC_00262542': [45.0, -1], 'ISIC_00262543': [45.0, -1], 'ISIC_0026255': [55.0, -1], 'ISIC_0026256': [45.0, -1], 'ISIC_0026257': [60.0, -1], 'ISIC_0026258': [45.0, 1], 'ISIC_0026259': [40.0, 1], 'ISIC_0026260': [55.0, -1], 'ISIC_0026261': [50.0, 1], 'ISIC_0026262': [60.0, 1], 'ISIC_0026263': [75.0, 1], 'ISIC_0026264': [75.0, -1], 'ISIC_0026265': [50.0, -1], 'ISIC_0026266': [60.0, -1], 'ISIC_0026267': [55.0, -1], 'ISIC_0026268': [80.0, -1], 'ISIC_0026269': [60.0, -1], 'ISIC_0026270': [60.0, -1], 'ISIC_0026271': [65.0, 1], 'ISIC_0026272': [35.0, -1], 'ISIC_0026273': [60.0, -1], 'ISIC_0026274': [40.0, 1], 'ISIC_0026275': [85.0, -1], 'ISIC_0026276': [75.0, 1], 'ISIC_0026277': [75.0, -1], 'ISIC_0026278': [50.0, -1], 'ISIC_0026279': [30.0, 1], 'ISIC_0026280': [50.0, -1], 'ISIC_0026281': [70.0, -1], 'ISIC_0026282': [50.0, -1], 'ISIC_0026283': [50.0, 1], 'ISIC_0026284': [40.0, -1], 'ISIC_0026285': [65.0, -1], 'ISIC_0026286': [40.0, -1], 'ISIC_0026287': [35.0, -1], 'ISIC_0026288': [30.0, 1], 'ISIC_0026289': [35.0, 1], 'ISIC_0026290': [85.0, -1], 'ISIC_0026291': [80.0, -1], 'ISIC_0026292': [45.0, 1], 'ISIC_0026293': [30.0, 1], 'ISIC_0026294': [50.0, 1], 'ISIC_0026295': [60.0, 1], 'ISIC_0026296': [45.0, -1], 'ISIC_0026297': [65.0, 1], 'ISIC_0026298': [60.0, 1], 'ISIC_0026299': [45.0, -1], 'ISIC_0026300': [65.0, 1], 'ISIC_0026301': [65.0, -1], 'ISIC_0026302': [55.0, 1], 'ISIC_0026303': [55.0, -1], 'ISIC_0026304': [50.0, -1], 'ISIC_0026305': [60.0, -1], 'ISIC_0026306': [50.0, -1], 'ISIC_0026307': [40.0, -1], 'ISIC_0026308': [55.0, -1], 'ISIC_0026309': [75.0, -1], 'ISIC_0026310': [40.0, -1], 'ISIC_0026311': [55.0, 1], 'ISIC_0026312': [50.0, 1], 'ISIC_0026313': [50.0, -1], 'ISIC_00263131': [50.0, -1], 'ISIC_00263132': [50.0, -1], 'ISIC_00263133': [50.0, -1], 'ISIC_0026314': [45.0, -1], 'ISIC_0026315': [60.0, -1], 'ISIC_0026316': [70.0, -1], 'ISIC_0026317': [40.0, -1], 'ISIC_0026318': [5.0, -1], 'ISIC_0026319': [80.0, -1], 'ISIC_0026320': [45.0, 1], 'ISIC_0026321': [65.0, 1], 'ISIC_0026322': [60.0, -1], 'ISIC_0026323': [30.0, -1], 'ISIC_0026324': [85.0, 1], 'ISIC_0026325': [50.0, -1], 'ISIC_0026326': [30.0, -1], 'ISIC_0026327': [55.0, 1], 'ISIC_00263271': [55.0, 1], 'ISIC_0026328': [40.0, -1], 'ISIC_0026329': [50.0, 1], 'ISIC_0026330': [70.0, -1], 'ISIC_0026331': [45.0, -1], 'ISIC_0026332': [75.0, -1], 'ISIC_0026333': [60.0, 1], 'ISIC_0026334': [50.0, -1], 'ISIC_0026335': [50.0, -1], 'ISIC_0026336': [50.0, -1], 'ISIC_00263361': [50.0, -1], 'ISIC_00263362': [50.0, -1], 'ISIC_0026337': [80.0, -1], 'ISIC_0026338': [65.0, 1], 'ISIC_0026339': [50.0, 1], 'ISIC_0026340': [40.0, 1], 'ISIC_0026341': [40.0, -1], 'ISIC_0026342': [45.0, -1], 'ISIC_0026343': [70.0, -1], 'ISIC_0026344': [40.0, -1], 'ISIC_0026345': [35.0, 1], 'ISIC_0026346': [20.0, -1], 'ISIC_0026347': [75.0, -1], 'ISIC_0026348': [55.0, -1], 'ISIC_0026349': [60.0, 1], 'ISIC_00263491': [60.0, 1], 'ISIC_00263492': [60.0, 1], 'ISIC_0026350': [30.0, 1], 'ISIC_0026351': [55.0, -1], 'ISIC_0026352': [40.0, 1], 'ISIC_0026353': [40.0, -1], 'ISIC_0026354': [60.0, -1], 'ISIC_0026355': [60.0, -1], 'ISIC_0026356': [60.0, 1], 'ISIC_0026357': [50.0, -1], 'ISIC_0026358': [5.0, -1], 'ISIC_0026359': [60.0, -1], 'ISIC_0026360': [60.0, -1], 'ISIC_0026361': [60.0, -1], 'ISIC_0026362': [60.0, 1], 'ISIC_00263621': [60.0, 1], 'ISIC_0026363': [35.0, -1], 'ISIC_0026364': [55.0, -1], 'ISIC_0026365': [45.0, -1], 'ISIC_0026366': [35.0, -1], 'ISIC_0026367': [45.0, -1], 'ISIC_0026368': [55.0, -1], 'ISIC_0026369': [30.0, 1], 'ISIC_0026370': [30.0, -1], 'ISIC_0026371': [30.0, -1], 'ISIC_0026372': [45.0, -1], 'ISIC_0026373': [40.0, -1], 'ISIC_0026374': [60.0, 1], 'ISIC_0026375': [50.0, 1], 'ISIC_0026376': [30.0, -1], 'ISIC_0026377': [75.0, 1], 'ISIC_0026378': [50.0, -1], 'ISIC_0026379': [45.0, -1], 'ISIC_0026380': [40.0, -1], 'ISIC_0026381': [40.0, 1], 'ISIC_0026382': [45.0, 1], 'ISIC_0026383': [80.0, -1], 'ISIC_0026384': [55.0, 1], 'ISIC_0026385': [60.0, 1], 'ISIC_0026386': [45.0, -1], 'ISIC_0026387': [65.0, 1], 'ISIC_0026388': [75.0, 1], 'ISIC_0026389': [70.0, -1], 'ISIC_0026390': [30.0, 1], 'ISIC_0026391': [30.0, -1], 'ISIC_0026392': [40.0, -1], 'ISIC_0026393': [80.0, -1], 'ISIC_00263931': [80.0, -1], 'ISIC_00263932': [80.0, -1], 'ISIC_0026394': [60.0, -1], 'ISIC_0026395': [50.0, 1], 'ISIC_0026396': [50.0, 1], 'ISIC_0026397': [80.0, -1], 'ISIC_0026398': [40.0, -1], 'ISIC_0026399': [35.0, 1], 'ISIC_0026400': [75.0, -1], 'ISIC_0026401': [30.0, 1], 'ISIC_0026402': [25.0, 1], 'ISIC_0026403': [25.0, 1], 'ISIC_0026404': [60.0, -1], 'ISIC_0026405': [50.0, 1], 'ISIC_0026406': [30.0, 1], 'ISIC_0026407': [60.0, 1], 'ISIC_0026408': [40.0, 1], 'ISIC_0026409': [70.0, -1], 'ISIC_0026410': [60.0, -1], 'ISIC_0026411': [70.0, 1], 'ISIC_00264111': [70.0, 1], 'ISIC_0026412': [45.0, -1], 'ISIC_0026413': [65.0, -1], 'ISIC_0026414': [80.0, -1], 'ISIC_0026415': [5.0, -1], 'ISIC_0026416': [45.0, 1], 'ISIC_0026417': [30.0, -1], 'ISIC_00264171': [30.0, -1], 'ISIC_00264172': [30.0, -1], 'ISIC_00264173': [30.0, -1], 'ISIC_0026418': [50.0, 1], 'ISIC_0026419': [15.0, -1], 'ISIC_0026420': [80.0, -1], 'ISIC_0026421': [50.0, -1], 'ISIC_0026422': [80.0, -1], 'ISIC_0026423': [45.0, -1], 'ISIC_0026424': [15.0, -1], 'ISIC_0026425': [45.0, 1], 'ISIC_0026426': [65.0, 1], 'ISIC_0026427': [10.0, -1], 'ISIC_0026428': [50.0, -1], 'ISIC_0026429': [65.0, -1], 'ISIC_0026430': [60.0, 1], 'ISIC_0026431': [45.0, -1], 'ISIC_0026432': [50.0, 1], 'ISIC_0026433': [70.0, -1], 'ISIC_0026434': [40.0, 1], 'ISIC_0026435': [50.0, 1], 'ISIC_0026436': [75.0, -1], 'ISIC_0026437': [80.0, -1], 'ISIC_0026438': [30.0, 1], 'ISIC_0026439': [35.0, -1], 'ISIC_0026440': [55.0, -1], 'ISIC_0026441': [80.0, -1], 'ISIC_0026442': [70.0, -1], 'ISIC_0026443': [80.0, 1], 'ISIC_0026444': [70.0, -1], 'ISIC_0026445': [35.0, -1], 'ISIC_0026446': [75.0, 1], 'ISIC_0026447': [40.0, -1], 'ISIC_0026448': [60.0, 1], 'ISIC_0026449': [15.0, -1], 'ISIC_0026450': [35.0, -1], 'ISIC_0026451': [5.0, 1], 'ISIC_0026452': [55.0, 1], 'ISIC_0026453': [55.0, 1], 'ISIC_0026454': [50.0, -1], 'ISIC_0026455': [45.0, -1], 'ISIC_0026456': [60.0, -1], 'ISIC_00264561': [60.0, -1], 'ISIC_00264562': [60.0, -1], 'ISIC_00264563': [60.0, -1], 'ISIC_0026457': [75.0, 1], 'ISIC_0026458': [80.0, 1], 'ISIC_0026459': [35.0, -1], 'ISIC_0026460': [45.0, -1], 'ISIC_0026461': [55.0, -1], 'ISIC_0026462': [55.0, 1], 'ISIC_0026463': [50.0, 1], 'ISIC_0026464': [50.0, -1], 'ISIC_0026465': [45.0, -1], 'ISIC_0026466': [65.0, 1], 'ISIC_00264661': [65.0, 1], 'ISIC_0026467': [55.0, -1], 'ISIC_00264671': [55.0, -1], 'ISIC_00264672': [55.0, -1], 'ISIC_0026468': [50.0, -1], 'ISIC_0026469': [45.0, 1], 'ISIC_0026470': [5.0, -1], 'ISIC_0026471': [60.0, -1], 'ISIC_00264711': [60.0, -1], 'ISIC_00264712': [60.0, -1], 'ISIC_00264713': [60.0, -1], 'ISIC_0026472': [50.0, 1], 'ISIC_0026473': [65.0, -1], 'ISIC_00264731': [65.0, -1], 'ISIC_00264732': [65.0, -1], 'ISIC_00264733': [65.0, -1], 'ISIC_0026474': [40.0, -1], 'ISIC_0026475': [40.0, 1], 'ISIC_0026476': [50.0, 1], 'ISIC_0026477': [50.0, 1], 'ISIC_0026478': [45.0, -1], 'ISIC_0026479': [50.0, 1], 'ISIC_0026480': [5.0, 1], 'ISIC_0026481': [70.0, -1], 'ISIC_0026482': [65.0, -1], 'ISIC_0026483': [65.0, -1], 'ISIC_0026484': [40.0, 1], 'ISIC_0026485': [50.0, 1], 'ISIC_0026486': [50.0, -1], 'ISIC_0026487': [20.0, 1], 'ISIC_0026488': [30.0, -1], 'ISIC_0026489': [80.0, -1], 'ISIC_0026490': [65.0, 1], 'ISIC_00264901': [65.0, 1], 'ISIC_00264902': [65.0, 1], 'ISIC_0026491': [50.0, 1], 'ISIC_0026492': [70.0, -1], 'ISIC_00264921': [70.0, -1], 'ISIC_0026493': [60.0, -1], 'ISIC_0026494': [75.0, 1], 'ISIC_0026495': [50.0, -1], 'ISIC_0026496': [70.0, -1], 'ISIC_0026497': [30.0, 1], 'ISIC_0026498': [35.0, 1], 'ISIC_0026499': [40.0, 1], 'ISIC_0026500': [75.0, 1], 'ISIC_0026501': [40.0, 1], 'ISIC_0026502': [55.0, 1], 'ISIC_0026503': [55.0, 1], 'ISIC_0026504': [50.0, 1], 'ISIC_0026505': [40.0, 1], 'ISIC_0026506': [40.0, 1], 'ISIC_0026507': [75.0, -1], 'ISIC_0026508': [60.0, -1], 'ISIC_0026509': [35.0, -1], 'ISIC_0026510': [70.0, 1], 'ISIC_0026511': [45.0, -1], 'ISIC_0026512': [30.0, -1], 'ISIC_0026513': [60.0, -1], 'ISIC_0026514': [65.0, -1], 'ISIC_0026515': [45.0, 1], 'ISIC_0026516': [45.0, 1], 'ISIC_0026517': [65.0, 1], 'ISIC_0026518': [45.0, -1], 'ISIC_0026519': [40.0, -1], 'ISIC_0026520': [45.0, 1], 'ISIC_0026521': [60.0, -1], 'ISIC_0026522': [50.0, -1], 'ISIC_00265221': [50.0, -1], 'ISIC_0026523': [65.0, 1], 'ISIC_0026524': [65.0, 1], 'ISIC_0026525': [45.0, -1], 'ISIC_0026526': [60.0, -1], 'ISIC_0026527': [75.0, 1], 'ISIC_0026528': [70.0, -1], 'ISIC_0026529': [55.0, -1], 'ISIC_0026530': [55.0, 1], 'ISIC_0026531': [55.0, -1], 'ISIC_0026532': [75.0, 1], 'ISIC_0026533': [45.0, 1], 'ISIC_0026534': [70.0, -1], 'ISIC_0026535': [50.0, 1], 'ISIC_0026536': [55.0, 1], 'ISIC_0026537': [45.0, 1], 'ISIC_0026538': [80.0, -1], 'ISIC_0026539': [65.0, -1], 'ISIC_0026540': [45.0, 1], 'ISIC_0026541': [45.0, -1], 'ISIC_0026542': [55.0, -1], 'ISIC_0026543': [75.0, -1], 'ISIC_0026544': [40.0, -1], 'ISIC_0026545': [55.0, 1], 'ISIC_0026546': [25.0, 1], 'ISIC_0026547': [45.0, -1], 'ISIC_0026548': [65.0, -1], 'ISIC_0026549': [75.0, -1], 'ISIC_00265491': [75.0, -1], 'ISIC_0026550': [40.0, 1], 'ISIC_0026551': [45.0, 1], 'ISIC_0026552': [25.0, 1], 'ISIC_0026553': [65.0, 1], 'ISIC_0026554': [75.0, -1], 'ISIC_0026555': [50.0, -1], 'ISIC_0026556': [70.0, 1], 'ISIC_0026557': [50.0, 1], 'ISIC_0026558': [65.0, -1], 'ISIC_0026559': [60.0, 1], 'ISIC_0026560': [45.0, 1], 'ISIC_0026561': [45.0, 1], 'ISIC_0026562': [45.0, 1], 'ISIC_0026563': [35.0, -1], 'ISIC_0026564': [35.0, -1], 'ISIC_0026565': [40.0, 1], 'ISIC_0026566': [70.0, 1], 'ISIC_0026567': [70.0, 1], 'ISIC_0026568': [55.0, -1], 'ISIC_0026569': [70.0, -1], 'ISIC_0026570': [70.0, 1], 'ISIC_0026571': [40.0, 1], 'ISIC_0026572': [40.0, -1], 'ISIC_0026573': [60.0, 1], 'ISIC_0026574': [70.0, -1], 'ISIC_0026575': [80.0, -1], 'ISIC_00265751': [80.0, -1], 'ISIC_0026576': [85.0, -1], 'ISIC_0026577': [75.0, -1], 'ISIC_0026578': [40.0, 1], 'ISIC_0026579': [45.0, -1], 'ISIC_0026580': [60.0, -1], 'ISIC_0026581': [30.0, 1], 'ISIC_0026582': [50.0, -1], 'ISIC_0026583': [50.0, -1], 'ISIC_0026584': [75.0, -1], 'ISIC_0026585': [55.0, -1], 'ISIC_0026586': [85.0, -1], 'ISIC_0026587': [50.0, 1], 'ISIC_0026588': [60.0, -1], 'ISIC_0026589': [45.0, 1], 'ISIC_0026590': [55.0, -1], 'ISIC_0026591': [55.0, -1], 'ISIC_0026592': [25.0, 1], 'ISIC_0026593': [85.0, 1], 'ISIC_0026594': [50.0, -1], 'ISIC_0026595': [35.0, -1], 'ISIC_0026596': [85.0, -1], 'ISIC_0026597': [75.0, 1], 'ISIC_0026598': [65.0, -1], 'ISIC_0026599': [70.0, 1], 'ISIC_0026600': [30.0, 1], 'ISIC_0026601': [25.0, -1], 'ISIC_0026602': [50.0, 1], 'ISIC_0026603': [75.0, 1], 'ISIC_0026604': [70.0, -1], 'ISIC_0026605': [35.0, -1], 'ISIC_0026606': [70.0, 1], 'ISIC_0026607': [50.0, -1], 'ISIC_0026608': [50.0, -1], 'ISIC_0026609': [40.0, 1], 'ISIC_0026610': [40.0, 1], 'ISIC_0026611': [30.0, 1], 'ISIC_0026612': [45.0, 1], 'ISIC_0026613': [40.0, 1], 'ISIC_0026614': [45.0, -1], 'ISIC_0026615': [85.0, -1], 'ISIC_0026616': [35.0, -1], 'ISIC_0026617': [40.0, 1], 'ISIC_0026618': [80.0, 1], 'ISIC_0026619': [50.0, -1], 'ISIC_0026620': [40.0, -1], 'ISIC_0026621': [45.0, 1], 'ISIC_0026622': [80.0, -1], 'ISIC_0026623': [70.0, -1], 'ISIC_0026624': [60.0, -1], 'ISIC_0026625': [60.0, -1], 'ISIC_00266251': [60.0, -1], 'ISIC_0026626': [65.0, 1], 'ISIC_0026627': [55.0, -1], 'ISIC_0026628': [50.0, -1], 'ISIC_0026629': [65.0, 1], 'ISIC_00266291': [65.0, 1], 'ISIC_00266292': [65.0, 1], 'ISIC_00266293': [65.0, 1], 'ISIC_0026630': [50.0, -1], 'ISIC_0026631': [75.0, -1], 'ISIC_0026632': [45.0, 1], 'ISIC_0026633': [45.0, -1], 'ISIC_0026634': [80.0, -1], 'ISIC_0026635': [65.0, -1], 'ISIC_0026636': [70.0, -1], 'ISIC_0026637': [45.0, -1], 'ISIC_0026638': [50.0, 1], 'ISIC_0026639': [45.0, 1], 'ISIC_0026640': [45.0, -1], 'ISIC_0026641': [55.0, -1], 'ISIC_0026642': [50.0, -1], 'ISIC_0026643': [75.0, -1], 'ISIC_0026644': [60.0, 1], 'ISIC_0026645': [65.0, -1], 'ISIC_00266451': [65.0, -1], 'ISIC_0026646': [50.0, -1], 'ISIC_0026647': [75.0, -1], 'ISIC_0026648': [55.0, 1], 'ISIC_0026649': [60.0, 1], 'ISIC_0026650': [70.0, -1], 'ISIC_0026651': [55.0, -1], 'ISIC_0026652': [65.0, -1], 'ISIC_0026653': [45.0, -1], 'ISIC_0026654': [70.0, -1], 'ISIC_0026655': [60.0, -1], 'ISIC_0026656': [45.0, -1], 'ISIC_0026657': [60.0, 1], 'ISIC_0026658': [65.0, -1], 'ISIC_0026659': [40.0, 1], 'ISIC_0026660': [60.0, 1], 'ISIC_0026661': [65.0, 1], 'ISIC_0026662': [45.0, -1], 'ISIC_0026663': [85.0, -1], 'ISIC_0026664': [65.0, 1], 'ISIC_0026665': [30.0, 1], 'ISIC_0026666': [25.0, 1], 'ISIC_0026667': [55.0, -1], 'ISIC_0026668': [70.0, 1], 'ISIC_0026669': [45.0, -1], 'ISIC_0026670': [80.0, 1], 'ISIC_0026671': [55.0, -1], 'ISIC_0026672': [80.0, -1], 'ISIC_0026673': [70.0, -1], 'ISIC_0026674': [35.0, -1], 'ISIC_0026675': [35.0, 1], 'ISIC_0026676': [55.0, 1], 'ISIC_0026677': [55.0, 1], 'ISIC_0026678': [75.0, 1], 'ISIC_0026679': [70.0, 1], 'ISIC_0026680': [45.0, -1], 'ISIC_0026681': [50.0, -1], 'ISIC_0026682': [50.0, 1], 'ISIC_0026683': [30.0, -1], 'ISIC_0026684': [40.0, 1], 'ISIC_0026685': [70.0, 1], 'ISIC_0026686': [50.0, -1], 'ISIC_0026687': [60.0, -1], 'ISIC_0026688': [70.0, -1], 'ISIC_0026689': [35.0, -1], 'ISIC_0026690': [50.0, -1], 'ISIC_0026691': [40.0, 1], 'ISIC_0026692': [55.0, 1], 'ISIC_0026693': [75.0, -1], 'ISIC_00266931': [75.0, -1], 'ISIC_00266932': [75.0, -1], 'ISIC_00266933': [75.0, -1], 'ISIC_0026694': [50.0, 1], 'ISIC_0026695': [55.0, -1], 'ISIC_0026696': [45.0, 1], 'ISIC_0026697': [75.0, -1], 'ISIC_0026698': [60.0, -1], 'ISIC_0026699': [70.0, -1], 'ISIC_0026700': [55.0, -1], 'ISIC_0026701': [50.0, -1], 'ISIC_0026702': [80.0, 1], 'ISIC_0026703': [65.0, -1], 'ISIC_0026704': [65.0, 1], 'ISIC_0026705': [20.0, 1], 'ISIC_0026706': [40.0, 1], 'ISIC_0026707': [40.0, 1], 'ISIC_0026708': [50.0, 1], 'ISIC_0026709': [60.0, 1], 'ISIC_0026710': [65.0, 1], 'ISIC_0026711': [50.0, -1], 'ISIC_0026712': [65.0, 1], 'ISIC_0026713': [35.0, 1], 'ISIC_00267131': [35.0, 1], 'ISIC_00267132': [35.0, 1], 'ISIC_0026714': [75.0, -1], 'ISIC_0026715': [55.0, 1], 'ISIC_0026716': [45.0, -1], 'ISIC_0026717': [70.0, -1], 'ISIC_0026718': [55.0, 1], 'ISIC_0026719': [35.0, -1], 'ISIC_0026720': [75.0, -1], 'ISIC_0026721': [50.0, 1], 'ISIC_0026722': [75.0, -1], 'ISIC_0026723': [35.0, -1], 'ISIC_0026724': [40.0, -1], 'ISIC_0026725': [55.0, 1], 'ISIC_0026726': [75.0, -1], 'ISIC_0026727': [80.0, -1], 'ISIC_0026728': [65.0, -1], 'ISIC_0026729': [50.0, -1], 'ISIC_00267291': [50.0, -1], 'ISIC_0026730': [30.0, -1], 'ISIC_0026731': [50.0, 1], 'ISIC_0026732': [30.0, -1], 'ISIC_0026733': [50.0, 1], 'ISIC_0026734': [50.0, 1], 'ISIC_0026735': [85.0, 1], 'ISIC_0026736': [70.0, -1], 'ISIC_0026737': [65.0, 1], 'ISIC_0026738': [85.0, 1], 'ISIC_0026739': [25.0, 1], 'ISIC_0026740': [65.0, 1], 'ISIC_0026741': [80.0, 1], 'ISIC_0026742': [50.0, 1], 'ISIC_0026743': [65.0, 1], 'ISIC_0026744': [85.0, -1], 'ISIC_0026745': [80.0, 1], 'ISIC_0026746': [65.0, 1], 'ISIC_0026747': [40.0, -1], 'ISIC_0026748': [75.0, -1], 'ISIC_0026749': [25.0, 1], 'ISIC_0026750': [70.0, -1], 'ISIC_0026751': [65.0, -1], 'ISIC_0026752': [75.0, 1], 'ISIC_0026753': [65.0, -1], 'ISIC_0026754': [65.0, 1], 'ISIC_0026755': [45.0, 1], 'ISIC_0026756': [30.0, 1], 'ISIC_0026757': [35.0, 1], 'ISIC_0026758': [45.0, -1], 'ISIC_0026759': [70.0, 1], 'ISIC_0026760': [70.0, -1], 'ISIC_0026761': [15.0, 1], 'ISIC_0026762': [55.0, 1], 'ISIC_0026763': [45.0, 1], 'ISIC_0026764': [55.0, -1], 'ISIC_0026765': [55.0, 1], 'ISIC_0026766': [70.0, -1], 'ISIC_0026767': [40.0, -1], 'ISIC_0026768': [55.0, -1], 'ISIC_0026769': [80.0, -1], 'ISIC_0026770': [65.0, -1], 'ISIC_0026771': [65.0, -1], 'ISIC_0026772': [70.0, -1], 'ISIC_0026773': [45.0, 1], 'ISIC_0026774': [70.0, 1], 'ISIC_0026775': [75.0, -1], 'ISIC_0026776': [55.0, -1], 'ISIC_0026777': [45.0, 1], 'ISIC_0026778': [45.0, 1], 'ISIC_0026779': [45.0, -1], 'ISIC_0026780': [50.0, -1], 'ISIC_0026781': [55.0, 1], 'ISIC_0026782': [30.0, 1], 'ISIC_0026783': [75.0, -1], 'ISIC_0026784': [30.0, -1], 'ISIC_0026785': [30.0, 1], 'ISIC_0026786': [40.0, 1], 'ISIC_0026787': [65.0, -1], 'ISIC_0026788': [65.0, 1], 'ISIC_0026789': [65.0, -1], 'ISIC_00267891': [65.0, -1], 'ISIC_00267892': [65.0, -1], 'ISIC_00267893': [65.0, -1], 'ISIC_0026790': [55.0, -1], 'ISIC_0026791': [60.0, 1], 'ISIC_0026792': [50.0, 1], 'ISIC_0026793': [40.0, -1], 'ISIC_0026794': [60.0, 1], 'ISIC_0026795': [30.0, -1], 'ISIC_0026796': [70.0, -1], 'ISIC_0026797': [50.0, -1], 'ISIC_0026798': [45.0, -1], 'ISIC_0026799': [45.0, -1], 'ISIC_0026800': [40.0, -1], 'ISIC_0026801': [60.0, -1], 'ISIC_0026802': [85.0, -1], 'ISIC_0026803': [45.0, 1], 'ISIC_0026804': [25.0, -1], 'ISIC_0026805': [75.0, 1], 'ISIC_0026806': [35.0, -1], 'ISIC_0026807': [55.0, 1], 'ISIC_0026808': [55.0, 1], 'ISIC_0026809': [80.0, -1], 'ISIC_0026810': [30.0, -1], 'ISIC_0026811': [55.0, -1], 'ISIC_0026812': [60.0, -1], 'ISIC_0026813': [40.0, 1], 'ISIC_0026814': [65.0, 1], 'ISIC_0026815': [45.0, -1], 'ISIC_0026816': [20.0, 1], 'ISIC_0026817': [45.0, -1], 'ISIC_0026818': [20.0, 1], 'ISIC_0026819': [10.0, 1], 'ISIC_0026820': [5.0, 1], 'ISIC_0026821': [50.0, 1], 'ISIC_0026822': [45.0, -1], 'ISIC_0026823': [55.0, -1], 'ISIC_0026824': [50.0, -1], 'ISIC_0026825': [55.0, -1], 'ISIC_0026826': [10.0, 1], 'ISIC_0026827': [60.0, 1], 'ISIC_0026828': [55.0, -1], 'ISIC_0026829': [60.0, 1], 'ISIC_0026830': [35.0, 1], 'ISIC_0026831': [70.0, -1], 'ISIC_0026832': [80.0, -1], 'ISIC_0026833': [55.0, -1], 'ISIC_0026834': [35.0, 1], 'ISIC_0026835': [70.0, -1], 'ISIC_0026836': [40.0, 1], 'ISIC_0026837': [55.0, -1], 'ISIC_0026838': [40.0, 1], 'ISIC_0026839': [50.0, -1], 'ISIC_0026840': [65.0, 1], 'ISIC_0026841': [75.0, 1], 'ISIC_0026842': [45.0, 1], 'ISIC_0026843': [65.0, 1], 'ISIC_0026844': [75.0, -1], 'ISIC_0026845': [80.0, -1], 'ISIC_0026846': [80.0, -1], 'ISIC_0026847': [65.0, -1], 'ISIC_0026848': [55.0, -1], 'ISIC_0026849': [70.0, -1], 'ISIC_0026850': [40.0, -1], 'ISIC_0026851': [45.0, 1], 'ISIC_0026852': [40.0, 1], 'ISIC_0026853': [65.0, -1], 'ISIC_0026854': [60.0, -1], 'ISIC_0026855': [70.0, 1], 'ISIC_0026856': [50.0, -1], 'ISIC_0026857': [55.0, -1], 'ISIC_0026858': [50.0, 1], 'ISIC_0026859': [50.0, 1], 'ISIC_0026860': [35.0, 1], 'ISIC_0026861': [85.0, 1], 'ISIC_0026862': [45.0, 1], 'ISIC_0026863': [45.0, -1], 'ISIC_0026864': [40.0, -1], 'ISIC_0026865': [70.0, 1], 'ISIC_0026866': [40.0, 1], 'ISIC_0026867': [55.0, -1], 'ISIC_0026868': [75.0, -1], 'ISIC_0026869': [50.0, 1], 'ISIC_0026870': [75.0, 1], 'ISIC_0026871': [55.0, -1], 'ISIC_0026872': [85.0, -1], 'ISIC_00268721': [85.0, -1], 'ISIC_0026873': [55.0, 1], 'ISIC_0026874': [80.0, -1], 'ISIC_0026875': [35.0, 1], 'ISIC_0026876': [0.0, 1], 'ISIC_00268761': [0.0, 1], 'ISIC_00268762': [0.0, 1], 'ISIC_00268763': [0.0, 1], 'ISIC_0026877': [70.0, -1], 'ISIC_0026878': [40.0, -1], 'ISIC_0026879': [40.0, -1], 'ISIC_0026880': [25.0, 1], 'ISIC_0026881': [50.0, 1], 'ISIC_0026882': [40.0, -1], 'ISIC_0026883': [20.0, 1], 'ISIC_0026884': [80.0, -1], 'ISIC_0026885': [85.0, 1], 'ISIC_0026886': [10.0, 1], 'ISIC_0026887': [50.0, 1], 'ISIC_0026888': [50.0, 1], 'ISIC_0026889': [5.0, -1], 'ISIC_0026890': [30.0, -1], 'ISIC_0026891': [55.0, -1], 'ISIC_0026892': [75.0, -1], 'ISIC_0026893': [65.0, -1], 'ISIC_0026894': [45.0, 1], 'ISIC_0026895': [55.0, -1], 'ISIC_0026896': [40.0, 1], 'ISIC_0026897': [75.0, -1], 'ISIC_0026898': [75.0, -1], 'ISIC_0026899': [50.0, 1], 'ISIC_0026900': [40.0, -1], 'ISIC_0026901': [50.0, -1], 'ISIC_0026902': [80.0, -1], 'ISIC_0026903': [60.0, 1], 'ISIC_0026904': [55.0, -1], 'ISIC_0026905': [70.0, -1], 'ISIC_0026906': [55.0, 1], 'ISIC_0026907': [55.0, -1], 'ISIC_0026908': [80.0, -1], 'ISIC_0026909': [30.0, 1], 'ISIC_0026910': [35.0, 1], 'ISIC_0026911': [55.0, -1], 'ISIC_0026912': [85.0, 1], 'ISIC_0026913': [40.0, -1], 'ISIC_0026914': [55.0, -1], 'ISIC_0026915': [55.0, 1], 'ISIC_0026916': [55.0, -1], 'ISIC_0026917': [50.0, 1], 'ISIC_0026918': [50.0, -1], 'ISIC_0026919': [45.0, 1], 'ISIC_0026920': [50.0, 1], 'ISIC_0026921': [70.0, 1], 'ISIC_0026922': [60.0, 1], 'ISIC_0026923': [75.0, -1], 'ISIC_0026924': [50.0, 1], 'ISIC_0026925': [50.0, -1], 'ISIC_0026926': [45.0, -1], 'ISIC_0026927': [75.0, -1], 'ISIC_00269271': [75.0, -1], 'ISIC_0026928': [55.0, 1], 'ISIC_0026929': [50.0, 1], 'ISIC_0026930': [60.0, -1], 'ISIC_0026931': [50.0, 1], 'ISIC_0026932': [50.0, -1], 'ISIC_0026933': [45.0, -1], 'ISIC_0026934': [20.0, -1], 'ISIC_0026935': [40.0, 1], 'ISIC_0026936': [45.0, 1], 'ISIC_0026937': [45.0, 1], 'ISIC_0026938': [45.0, -1], 'ISIC_0026939': [45.0, 1], 'ISIC_0026940': [75.0, -1], 'ISIC_0026941': [70.0, 1], 'ISIC_0026942': [20.0, 1], 'ISIC_0026943': [30.0, 1], 'ISIC_0026944': [75.0, -1], 'ISIC_0026945': [80.0, -1], 'ISIC_0026946': [45.0, 1], 'ISIC_0026947': [50.0, -1], 'ISIC_0026948': [45.0, 1], 'ISIC_0026949': [55.0, -1], 'ISIC_0026950': [85.0, 1], 'ISIC_0026951': [40.0, 1], 'ISIC_0026952': [55.0, -1], 'ISIC_0026953': [55.0, 1], 'ISIC_0026954': [50.0, -1], 'ISIC_0026955': [75.0, -1], 'ISIC_0026956': [60.0, 1], 'ISIC_0026957': [70.0, -1], 'ISIC_0026958': [40.0, 1], 'ISIC_0026959': [75.0, -1], 'ISIC_0026960': [55.0, -1], 'ISIC_0026961': [65.0, -1], 'ISIC_0026962': [40.0, 1], 'ISIC_0026963': [65.0, -1], 'ISIC_0026964': [65.0, -1], 'ISIC_0026965': [50.0, 1], 'ISIC_0026966': [45.0, 1], 'ISIC_0026967': [75.0, 1], 'ISIC_0026968': [75.0, 1], 'ISIC_0026969': [35.0, 1], 'ISIC_0026970': [80.0, -1], 'ISIC_0026971': [35.0, 1], 'ISIC_0026972': [45.0, -1], 'ISIC_0026973': [75.0, -1], 'ISIC_0026974': [30.0, -1], 'ISIC_0026975': [45.0, 1], 'ISIC_0026976': [60.0, -1], 'ISIC_0026977': [45.0, -1], 'ISIC_0026978': [80.0, -1], 'ISIC_0026979': [15.0, 1], 'ISIC_0026980': [60.0, -1], 'ISIC_0026981': [55.0, -1], 'ISIC_0026982': [50.0, -1], 'ISIC_0026983': [40.0, 1], 'ISIC_0026984': [50.0, -1], 'ISIC_0026985': [70.0, -1], 'ISIC_0026986': [40.0, 1], 'ISIC_0026987': [30.0, -1], 'ISIC_0026988': [60.0, -1], 'ISIC_0026989': [55.0, -1], 'ISIC_0026990': [45.0, 1], 'ISIC_0026991': [45.0, 1], 'ISIC_0026992': [85.0, -1], 'ISIC_00269921': [85.0, -1], 'ISIC_0026993': [45.0, 1], 'ISIC_0026994': [45.0, 1], 'ISIC_0026995': [80.0, -1], 'ISIC_0026996': [45.0, 1], 'ISIC_0026997': [50.0, -1], 'ISIC_0026998': [40.0, 1], 'ISIC_0026999': [60.0, 1], 'ISIC_0027000': [45.0, 1], 'ISIC_0027001': [40.0, 1], 'ISIC_0027002': [55.0, 1], 'ISIC_0027003': [25.0, 1], 'ISIC_0027004': [70.0, -1], 'ISIC_0027005': [35.0, -1], 'ISIC_0027006': [75.0, -1], 'ISIC_0027007': [55.0, 1], 'ISIC_0027008': [75.0, -1], 'ISIC_00270081': [75.0, -1], 'ISIC_00270082': [75.0, -1], 'ISIC_00270083': [75.0, -1], 'ISIC_00270084': [75.0, -1], 'ISIC_0027009': [70.0, 1], 'ISIC_0027010': [70.0, -1], 'ISIC_0027011': [65.0, -1], 'ISIC_0027012': [25.0, -1], 'ISIC_0027013': [35.0, 1], 'ISIC_0027014': [40.0, 1], 'ISIC_0027015': [45.0, -1], 'ISIC_0027016': [40.0, 1], 'ISIC_0027017': [75.0, -1], 'ISIC_0027018': [45.0, 1], 'ISIC_0027019': [45.0, 1], 'ISIC_0027020': [40.0, -1], 'ISIC_0027021': [55.0, -1], 'ISIC_0027022': [50.0, -1], 'ISIC_0027023': [60.0, -1], 'ISIC_0027024': [35.0, 1], 'ISIC_0027025': [70.0, -1], 'ISIC_0027026': [85.0, 1], 'ISIC_0027027': [70.0, 1], 'ISIC_0027028': [40.0, -1], 'ISIC_0027029': [45.0, -1], 'ISIC_0027030': [65.0, 1], 'ISIC_0027031': [30.0, -1], 'ISIC_0027032': [45.0, 1], 'ISIC_0027033': [85.0, -1], 'ISIC_0027034': [15.0, 1], 'ISIC_0027035': [70.0, -1], 'ISIC_0027036': [85.0, 1], 'ISIC_0027037': [70.0, 1], 'ISIC_0027038': [45.0, -1], 'ISIC_0027039': [45.0, -1], 'ISIC_0027040': [nan, 1], 'ISIC_0027041': [75.0, -1], 'ISIC_0027042': [60.0, 1], 'ISIC_0027043': [50.0, -1], 'ISIC_0027044': [35.0, 1], 'ISIC_00270441': [35.0, 1], 'ISIC_00270442': [35.0, 1], 'ISIC_00270443': [35.0, 1], 'ISIC_0027045': [60.0, -1], 'ISIC_0027046': [65.0, 1], 'ISIC_0027047': [70.0, -1], 'ISIC_00270471': [70.0, -1], 'ISIC_0027048': [55.0, 1], 'ISIC_0027049': [35.0, 1], 'ISIC_0027050': [40.0, -1], 'ISIC_0027051': [75.0, -1], 'ISIC_0027052': [15.0, -1], 'ISIC_0027053': [85.0, -1], 'ISIC_0027054': [40.0, 1], 'ISIC_0027055': [40.0, 1], 'ISIC_0027056': [60.0, -1], 'ISIC_0027057': [65.0, 1], 'ISIC_0027058': [75.0, -1], 'ISIC_0027059': [60.0, 1], 'ISIC_0027060': [40.0, 1], 'ISIC_0027061': [45.0, 1], 'ISIC_0027062': [70.0, 1], 'ISIC_0027063': [80.0, -1], 'ISIC_0027064': [60.0, 1], 'ISIC_0027065': [85.0, 1], 'ISIC_0027066': [65.0, -1], 'ISIC_0027067': [80.0, -1], 'ISIC_0027068': [65.0, 1], 'ISIC_0027069': [75.0, -1], 'ISIC_0027070': [30.0, -1], 'ISIC_0027071': [50.0, 1], 'ISIC_0027072': [20.0, -1], 'ISIC_0027073': [55.0, -1], 'ISIC_0027074': [35.0, -1], 'ISIC_0027075': [40.0, -1], 'ISIC_0027076': [75.0, -1], 'ISIC_0027077': [55.0, 1], 'ISIC_0027078': [75.0, -1], 'ISIC_0027079': [25.0, 1], 'ISIC_0027080': [65.0, -1], 'ISIC_0027081': [50.0, 1], 'ISIC_0027082': [45.0, 1], 'ISIC_0027083': [85.0, 1], 'ISIC_0027084': [65.0, 1], 'ISIC_00270841': [65.0, 1], 'ISIC_0027085': [35.0, -1], 'ISIC_0027086': [40.0, 1], 'ISIC_0027087': [25.0, -1], 'ISIC_0027088': [35.0, -1], 'ISIC_0027089': [55.0, -1], 'ISIC_0027090': [60.0, -1], 'ISIC_0027091': [15.0, -1], 'ISIC_0027092': [50.0, -1], 'ISIC_0027093': [65.0, 1], 'ISIC_0027094': [60.0, -1], 'ISIC_0027095': [50.0, -1], 'ISIC_0027096': [50.0, -1], 'ISIC_0027097': [85.0, -1], 'ISIC_0027098': [70.0, -1], 'ISIC_0027099': [85.0, 1], 'ISIC_0027100': [75.0, -1], 'ISIC_0027101': [65.0, -1], 'ISIC_0027102': [35.0, 1], 'ISIC_0027103': [15.0, 1], 'ISIC_0027104': [40.0, -1], 'ISIC_0027105': [45.0, -1], 'ISIC_0027106': [45.0, -1], 'ISIC_0027107': [55.0, -1], 'ISIC_00271071': [55.0, -1], 'ISIC_00271072': [55.0, -1], 'ISIC_00271073': [55.0, -1], 'ISIC_00271074': [55.0, -1], 'ISIC_0027108': [50.0, -1], 'ISIC_0027109': [20.0, 1], 'ISIC_0027110': [65.0, -1], 'ISIC_0027111': [65.0, 1], 'ISIC_0027112': [45.0, 1], 'ISIC_0027113': [55.0, -1], 'ISIC_0027114': [40.0, 1], 'ISIC_0027115': [45.0, -1], 'ISIC_0027116': [45.0, 1], 'ISIC_0027117': [70.0, 1], 'ISIC_0027118': [50.0, 1], 'ISIC_00271181': [50.0, 1], 'ISIC_00271182': [50.0, 1], 'ISIC_00271183': [50.0, 1], 'ISIC_00271184': [50.0, 1], 'ISIC_0027119': [75.0, 1], 'ISIC_0027120': [80.0, 1], 'ISIC_0027121': [35.0, -1], 'ISIC_0027122': [65.0, -1], 'ISIC_0027123': [30.0, 1], 'ISIC_0027124': [45.0, 1], 'ISIC_0027125': [85.0, 1], 'ISIC_0027126': [80.0, -1], 'ISIC_0027127': [55.0, 1], 'ISIC_0027128': [45.0, -1], 'ISIC_0027129': [35.0, 1], 'ISIC_0027130': [70.0, -1], 'ISIC_0027131': [55.0, -1], 'ISIC_0027132': [70.0, -1], 'ISIC_0027133': [5.0, -1], 'ISIC_0027134': [65.0, -1], 'ISIC_0027135': [60.0, -1], 'ISIC_0027136': [50.0, -1], 'ISIC_0027137': [30.0, 1], 'ISIC_0027138': [10.0, -1], 'ISIC_0027139': [65.0, -1], 'ISIC_0027140': [15.0, 1], 'ISIC_0027141': [45.0, 1], 'ISIC_00271411': [45.0, 1], 'ISIC_00271412': [45.0, 1], 'ISIC_00271413': [45.0, 1], 'ISIC_0027142': [55.0, -1], 'ISIC_0027143': [25.0, -1], 'ISIC_0027144': [40.0, 1], 'ISIC_0027145': [45.0, -1], 'ISIC_0027146': [50.0, -1], 'ISIC_0027147': [75.0, -1], 'ISIC_0027148': [45.0, -1], 'ISIC_0027149': [80.0, -1], 'ISIC_0027150': [20.0, 1], 'ISIC_0027151': [0.0, 1], 'ISIC_0027152': [25.0, 1], 'ISIC_0027153': [50.0, 1], 'ISIC_0027154': [80.0, -1], 'ISIC_0027155': [65.0, -1], 'ISIC_0027156': [50.0, 1], 'ISIC_0027157': [30.0, -1], 'ISIC_0027158': [45.0, -1], 'ISIC_0027159': [85.0, 1], 'ISIC_00271591': [85.0, 1], 'ISIC_00271592': [85.0, 1], 'ISIC_00271593': [85.0, 1], 'ISIC_0027160': [45.0, 1], 'ISIC_0027161': [55.0, -1], 'ISIC_0027162': [70.0, -1], 'ISIC_0027163': [60.0, 1], 'ISIC_0027164': [45.0, 1], 'ISIC_0027165': [45.0, -1], 'ISIC_0027166': [50.0, 1], 'ISIC_0027167': [75.0, -1], 'ISIC_0027168': [30.0, -1], 'ISIC_0027169': [50.0, -1], 'ISIC_0027170': [50.0, -1], 'ISIC_0027171': [45.0, 1], 'ISIC_0027172': [75.0, -1], 'ISIC_00271721': [75.0, -1], 'ISIC_0027173': [45.0, 1], 'ISIC_0027174': [50.0, -1], 'ISIC_0027175': [70.0, 1], 'ISIC_0027176': [30.0, -1], 'ISIC_0027177': [25.0, -1], 'ISIC_0027178': [65.0, -1], 'ISIC_00271781': [65.0, -1], 'ISIC_0027179': [85.0, -1], 'ISIC_0027180': [60.0, 1], 'ISIC_0027181': [75.0, 1], 'ISIC_0027182': [50.0, 1], 'ISIC_0027183': [25.0, -1], 'ISIC_0027184': [60.0, -1], 'ISIC_0027185': [50.0, -1], 'ISIC_0027186': [45.0, 1], 'ISIC_0027187': [65.0, -1], 'ISIC_0027188': [40.0, -1], 'ISIC_00271881': [40.0, -1], 'ISIC_00271882': [40.0, -1], 'ISIC_00271883': [40.0, -1], 'ISIC_0027189': [80.0, 1], 'ISIC_0027190': [80.0, -1], 'ISIC_0027191': [45.0, 1], 'ISIC_0027192': [45.0, -1], 'ISIC_0027193': [55.0, 1], 'ISIC_0027194': [80.0, -1], 'ISIC_0027195': [25.0, 1], 'ISIC_0027196': [35.0, 1], 'ISIC_0027197': [45.0, 1], 'ISIC_0027198': [25.0, -1], 'ISIC_0027199': [45.0, -1], 'ISIC_0027200': [55.0, -1], 'ISIC_0027201': [30.0, -1], 'ISIC_0027202': [55.0, -1], 'ISIC_0027203': [70.0, -1], 'ISIC_0027204': [70.0, -1], 'ISIC_0027205': [40.0, 1], 'ISIC_0027206': [50.0, 1], 'ISIC_0027207': [45.0, 1], 'ISIC_0027208': [30.0, 1], 'ISIC_0027209': [10.0, 1], 'ISIC_0027210': [30.0, 1], 'ISIC_00272101': [30.0, 1], 'ISIC_00272102': [30.0, 1], 'ISIC_00272103': [30.0, 1], 'ISIC_0027211': [75.0, 1], 'ISIC_0027212': [55.0, -1], 'ISIC_0027213': [65.0, -1], 'ISIC_0027214': [50.0, 1], 'ISIC_0027215': [60.0, -1], 'ISIC_0027216': [60.0, 1], 'ISIC_00272161': [60.0, 1], 'ISIC_00272162': [60.0, 1], 'ISIC_00272163': [60.0, 1], 'ISIC_0027217': [55.0, 1], 'ISIC_0027218': [50.0, 1], 'ISIC_0027219': [50.0, -1], 'ISIC_0027220': [60.0, -1], 'ISIC_0027221': [75.0, -1], 'ISIC_0027222': [40.0, -1], 'ISIC_0027223': [35.0, 1], 'ISIC_0027224': [30.0, -1], 'ISIC_0027225': [60.0, 1], 'ISIC_0027226': [75.0, 1], 'ISIC_0027227': [40.0, -1], 'ISIC_0027228': [70.0, 1], 'ISIC_0027229': [70.0, -1], 'ISIC_0027230': [50.0, -1], 'ISIC_0027231': [85.0, -1], 'ISIC_00272311': [85.0, -1], 'ISIC_0027232': [75.0, 1], 'ISIC_0027233': [50.0, 1], 'ISIC_0027234': [65.0, -1], 'ISIC_0027235': [25.0, 1], 'ISIC_0027236': [35.0, 1], 'ISIC_0027237': [50.0, -1], 'ISIC_0027238': [55.0, 1], 'ISIC_0027239': [70.0, 1], 'ISIC_0027240': [70.0, -1], 'ISIC_0027241': [40.0, 1], 'ISIC_0027242': [45.0, 1], 'ISIC_0027243': [45.0, 1], 'ISIC_0027244': [55.0, 1], 'ISIC_0027245': [55.0, -1], 'ISIC_0027246': [30.0, -1], 'ISIC_0027247': [45.0, 1], 'ISIC_0027248': [30.0, 1], 'ISIC_0027249': [55.0, 1], 'ISIC_0027250': [30.0, 1], 'ISIC_0027251': [35.0, -1], 'ISIC_0027252': [45.0, -1], 'ISIC_0027253': [75.0, -1], 'ISIC_0027254': [75.0, -1], 'ISIC_0027255': [60.0, 1], 'ISIC_0027256': [0.0, 1], 'ISIC_00272561': [0.0, 1], 'ISIC_00272562': [0.0, 1], 'ISIC_0027257': [50.0, 1], 'ISIC_0027258': [55.0, 1], 'ISIC_0027259': [60.0, -1], 'ISIC_0027260': [70.0, -1], 'ISIC_0027261': [75.0, -1], 'ISIC_0027262': [45.0, 1], 'ISIC_0027263': [85.0, -1], 'ISIC_0027264': [50.0, 1], 'ISIC_0027265': [55.0, 1], 'ISIC_0027266': [65.0, -1], 'ISIC_0027267': [50.0, -1], 'ISIC_0027268': [45.0, 1], 'ISIC_0027269': [60.0, 1], 'ISIC_00272691': [60.0, 1], 'ISIC_00272692': [60.0, 1], 'ISIC_0027270': [55.0, 1], 'ISIC_0027271': [55.0, -1], 'ISIC_0027272': [45.0, 1], 'ISIC_0027273': [70.0, -1], 'ISIC_0027274': [60.0, -1], 'ISIC_0027275': [50.0, -1], 'ISIC_0027276': [40.0, 1], 'ISIC_0027277': [40.0, -1], 'ISIC_0027278': [55.0, -1], 'ISIC_0027279': [65.0, -1], 'ISIC_0027280': [40.0, -1], 'ISIC_0027281': [70.0, -1], 'ISIC_0027282': [60.0, 1], 'ISIC_0027283': [50.0, 1], 'ISIC_0027284': [15.0, -1], 'ISIC_0027285': [40.0, 1], 'ISIC_0027286': [75.0, -1], 'ISIC_0027287': [55.0, 1], 'ISIC_0027288': [35.0, 1], 'ISIC_0027289': [40.0, 1], 'ISIC_0027290': [60.0, -1], 'ISIC_0027291': [70.0, -1], 'ISIC_0027292': [75.0, -1], 'ISIC_0027293': [15.0, 1], 'ISIC_0027294': [75.0, 1], 'ISIC_0027295': [60.0, -1], 'ISIC_0027296': [65.0, 1], 'ISIC_0027297': [70.0, -1], 'ISIC_0027298': [70.0, -1], 'ISIC_0027299': [40.0, -1], 'ISIC_0027300': [60.0, -1], 'ISIC_0027301': [40.0, 1], 'ISIC_0027302': [35.0, 1], 'ISIC_0027303': [85.0, -1], 'ISIC_00273031': [85.0, -1], 'ISIC_0027304': [50.0, 1], 'ISIC_0027305': [35.0, -1], 'ISIC_0027306': [60.0, -1], 'ISIC_0027307': [50.0, 1], 'ISIC_0027308': [50.0, -1], 'ISIC_0027309': [55.0, 1], 'ISIC_0027310': [60.0, -1], 'ISIC_0027311': [0.0, -1], 'ISIC_0027312': [45.0, -1], 'ISIC_0027313': [75.0, -1], 'ISIC_0027314': [60.0, -1], 'ISIC_0027315': [50.0, -1], 'ISIC_0027316': [45.0, 1], 'ISIC_0027317': [50.0, -1], 'ISIC_0027318': [35.0, 1], 'ISIC_0027319': [30.0, 1], 'ISIC_0027320': [85.0, 1], 'ISIC_0027321': [55.0, 1], 'ISIC_0027322': [60.0, 1], 'ISIC_0027323': [50.0, -1], 'ISIC_0027324': [45.0, 1], 'ISIC_0027325': [50.0, 1], 'ISIC_0027326': [75.0, -1], 'ISIC_0027327': [55.0, 1], 'ISIC_0027328': [65.0, -1], 'ISIC_0027329': [50.0, 1], 'ISIC_0027330': [45.0, -1], 'ISIC_0027331': [40.0, -1], 'ISIC_0027332': [70.0, 1], 'ISIC_0027333': [40.0, -1], 'ISIC_0027334': [45.0, -1], 'ISIC_0027335': [75.0, -1], 'ISIC_0027336': [55.0, -1], 'ISIC_0027337': [75.0, -1], 'ISIC_0027338': [60.0, -1], 'ISIC_0027339': [50.0, 1], 'ISIC_0027340': [45.0, 1], 'ISIC_0027341': [25.0, -1], 'ISIC_0027342': [45.0, 1], 'ISIC_0027343': [75.0, 1], 'ISIC_00273431': [75.0, 1], 'ISIC_0027344': [70.0, -1], 'ISIC_0027345': [50.0, 1], 'ISIC_0027346': [55.0, -1], 'ISIC_0027347': [45.0, 1], 'ISIC_0027348': [15.0, 1], 'ISIC_0027349': [50.0, 1], 'ISIC_0027350': [60.0, -1], 'ISIC_0027351': [40.0, 1], 'ISIC_0027352': [75.0, -1], 'ISIC_0027353': [50.0, -1], 'ISIC_0027354': [55.0, 1], 'ISIC_0027355': [70.0, 1], 'ISIC_0027356': [35.0, -1], 'ISIC_0027357': [50.0, -1], 'ISIC_0027358': [60.0, -1], 'ISIC_0027359': [45.0, 1], 'ISIC_0027360': [40.0, -1], 'ISIC_0027361': [10.0, 1], 'ISIC_0027362': [45.0, -1], 'ISIC_0027363': [30.0, 1], 'ISIC_0027364': [25.0, -1], 'ISIC_0027365': [70.0, -1], 'ISIC_0027366': [45.0, -1], 'ISIC_0027367': [70.0, 1], 'ISIC_0027368': [60.0, -1], 'ISIC_0027369': [40.0, 1], 'ISIC_0027370': [50.0, 1], 'ISIC_0027371': [65.0, -1], 'ISIC_0027372': [70.0, -1], 'ISIC_0027373': [55.0, -1], 'ISIC_0027374': [70.0, 1], 'ISIC_0027375': [45.0, -1], 'ISIC_0027376': [45.0, -1], 'ISIC_0027377': [45.0, 1], 'ISIC_0027378': [65.0, 1], 'ISIC_0027379': [70.0, -1], 'ISIC_0027380': [65.0, 1], 'ISIC_0027381': [35.0, -1], 'ISIC_0027382': [20.0, 1], 'ISIC_0027383': [75.0, -1], 'ISIC_0027384': [60.0, -1], 'ISIC_0027385': [20.0, -1], 'ISIC_00273851': [20.0, -1], 'ISIC_00273852': [20.0, -1], 'ISIC_00273853': [20.0, -1], 'ISIC_0027386': [45.0, -1], 'ISIC_0027387': [45.0, 1], 'ISIC_0027388': [80.0, 1], 'ISIC_0027389': [45.0, 1], 'ISIC_0027390': [35.0, 1], 'ISIC_0027391': [45.0, 1], 'ISIC_0027392': [85.0, -1], 'ISIC_0027393': [50.0, 1], 'ISIC_0027394': [75.0, -1], 'ISIC_0027395': [45.0, 1], 'ISIC_0027396': [35.0, -1], 'ISIC_0027397': [60.0, -1], 'ISIC_0027398': [40.0, 1], 'ISIC_0027399': [50.0, -1], 'ISIC_0027400': [45.0, 1], 'ISIC_0027401': [65.0, -1], 'ISIC_0027402': [60.0, -1], 'ISIC_0027403': [45.0, 1], 'ISIC_0027404': [35.0, -1], 'ISIC_0027405': [45.0, -1], 'ISIC_0027406': [75.0, 1], 'ISIC_0027407': [70.0, 1], 'ISIC_0027408': [80.0, -1], 'ISIC_0027409': [60.0, -1], 'ISIC_0027410': [75.0, -1], 'ISIC_0027411': [40.0, -1], 'ISIC_0027412': [45.0, 1], 'ISIC_0027413': [50.0, 1], 'ISIC_0027414': [30.0, 1], 'ISIC_0027415': [25.0, -1], 'ISIC_0027416': [50.0, -1], 'ISIC_0027417': [40.0, 1], 'ISIC_0027418': [55.0, 1], 'ISIC_0027419': [80.0, -1], 'ISIC_0027420': [60.0, -1], 'ISIC_0027421': [35.0, -1], 'ISIC_0027422': [55.0, 1], 'ISIC_0027423': [65.0, -1], 'ISIC_0027424': [45.0, 1], 'ISIC_0027425': [75.0, -1], 'ISIC_0027426': [45.0, 1], 'ISIC_0027427': [70.0, -1], 'ISIC_0027428': [75.0, 1], 'ISIC_0027429': [55.0, -1], 'ISIC_0027430': [40.0, 1], 'ISIC_0027431': [nan, -1], 'ISIC_0027432': [30.0, 1], 'ISIC_0027433': [80.0, -1], 'ISIC_0027434': [40.0, 1], 'ISIC_0027435': [70.0, 1], 'ISIC_0027436': [50.0, -1], 'ISIC_0027437': [65.0, 1], 'ISIC_0027438': [65.0, -1], 'ISIC_0027439': [55.0, -1], 'ISIC_0027440': [35.0, 1], 'ISIC_0027441': [45.0, 1], 'ISIC_0027442': [80.0, -1], 'ISIC_0027443': [60.0, -1], 'ISIC_0027444': [80.0, 1], 'ISIC_0027445': [45.0, 1], 'ISIC_0027446': [40.0, -1], 'ISIC_0027447': [65.0, -1], 'ISIC_0027448': [45.0, 1], 'ISIC_0027449': [45.0, 1], 'ISIC_0027450': [50.0, -1], 'ISIC_0027451': [75.0, 1], 'ISIC_0027452': [70.0, -1], 'ISIC_0027453': [80.0, -1], 'ISIC_0027454': [75.0, 1], 'ISIC_0027455': [50.0, -1], 'ISIC_0027456': [35.0, 1], 'ISIC_0027457': [60.0, -1], 'ISIC_0027458': [15.0, 1], 'ISIC_0027459': [40.0, -1], 'ISIC_0027460': [50.0, -1], 'ISIC_0027461': [75.0, 1], 'ISIC_0027462': [75.0, -1], 'ISIC_0027463': [75.0, -1], 'ISIC_0027464': [40.0, 1], 'ISIC_0027465': [75.0, -1], 'ISIC_0027466': [45.0, 1], 'ISIC_0027467': [35.0, 1], 'ISIC_0027468': [70.0, -1], 'ISIC_0027469': [30.0, -1], 'ISIC_0027470': [50.0, 1], 'ISIC_0027471': [75.0, 1], 'ISIC_0027472': [20.0, 1], 'ISIC_0027473': [65.0, 1], 'ISIC_0027474': [45.0, -1], 'ISIC_0027475': [45.0, 1], 'ISIC_0027476': [60.0, -1], 'ISIC_0027477': [60.0, -1], 'ISIC_0027478': [40.0, -1], 'ISIC_0027479': [45.0, -1], 'ISIC_0027480': [55.0, 1], 'ISIC_0027481': [65.0, -1], 'ISIC_0027482': [55.0, 1], 'ISIC_0027483': [60.0, 1], 'ISIC_0027484': [80.0, -1], 'ISIC_0027485': [40.0, -1], 'ISIC_0027486': [40.0, 1], 'ISIC_0027487': [35.0, 1], 'ISIC_0027488': [45.0, -1], 'ISIC_00274881': [45.0, -1], 'ISIC_00274882': [45.0, -1], 'ISIC_00274883': [45.0, -1], 'ISIC_0027489': [80.0, -1], 'ISIC_0027490': [30.0, -1], 'ISIC_0027491': [35.0, 1], 'ISIC_0027492': [50.0, 1], 'ISIC_0027493': [35.0, 1], 'ISIC_0027494': [45.0, -1], 'ISIC_0027495': [75.0, -1], 'ISIC_0027496': [60.0, 1], 'ISIC_0027497': [10.0, 1], 'ISIC_0027498': [45.0, 1], 'ISIC_0027499': [40.0, 1], 'ISIC_0027500': [55.0, 1], 'ISIC_0027501': [30.0, -1], 'ISIC_0027502': [45.0, -1], 'ISIC_0027503': [40.0, 1], 'ISIC_0027504': [80.0, -1], 'ISIC_0027505': [20.0, 1], 'ISIC_0027506': [55.0, 1], 'ISIC_00275061': [55.0, 1], 'ISIC_0027507': [60.0, -1], 'ISIC_0027508': [45.0, 1], 'ISIC_0027509': [60.0, 1], 'ISIC_0027510': [35.0, -1], 'ISIC_0027511': [50.0, -1], 'ISIC_0027512': [85.0, -1], 'ISIC_0027513': [55.0, -1], 'ISIC_0027514': [75.0, -1], 'ISIC_0027515': [40.0, 1], 'ISIC_0027516': [35.0, -1], 'ISIC_0027517': [70.0, -1], 'ISIC_0027518': [50.0, 1], 'ISIC_0027519': [40.0, 1], 'ISIC_0027520': [40.0, 1], 'ISIC_0027521': [55.0, -1], 'ISIC_0027522': [55.0, -1], 'ISIC_00275221': [55.0, -1], 'ISIC_00275222': [55.0, -1], 'ISIC_0027523': [30.0, 1], 'ISIC_0027524': [40.0, 1], 'ISIC_0027525': [75.0, -1], 'ISIC_0027526': [85.0, -1], 'ISIC_0027527': [55.0, -1], 'ISIC_0027528': [50.0, 1], 'ISIC_0027529': [50.0, -1], 'ISIC_00275291': [50.0, -1], 'ISIC_0027530': [20.0, -1], 'ISIC_0027531': [65.0, -1], 'ISIC_0027532': [30.0, -1], 'ISIC_0027533': [55.0, -1], 'ISIC_0027534': [75.0, 1], 'ISIC_0027535': [75.0, -1], 'ISIC_0027536': [65.0, -1], 'ISIC_0027537': [55.0, 1], 'ISIC_0027538': [65.0, -1], 'ISIC_0027539': [40.0, 1], 'ISIC_0027540': [60.0, -1], 'ISIC_0027541': [50.0, 1], 'ISIC_0027542': [75.0, 1], 'ISIC_0027543': [50.0, 1], 'ISIC_0027544': [20.0, 1], 'ISIC_0027545': [80.0, -1], 'ISIC_0027546': [65.0, -1], 'ISIC_0027547': [40.0, 1], 'ISIC_0027548': [10.0, 1], 'ISIC_0027549': [0.0, -1], 'ISIC_0027550': [65.0, 1], 'ISIC_0027551': [65.0, -1], 'ISIC_0027552': [40.0, -1], 'ISIC_0027553': [80.0, -1], 'ISIC_0027554': [50.0, 1], 'ISIC_0027555': [60.0, 1], 'ISIC_0027556': [50.0, 1], 'ISIC_0027557': [50.0, 1], 'ISIC_0027558': [40.0, -1], 'ISIC_0027559': [35.0, 1], 'ISIC_0027560': [25.0, 1], 'ISIC_0027561': [70.0, 1], 'ISIC_0027562': [60.0, 1], 'ISIC_0027563': [70.0, -1], 'ISIC_00275631': [70.0, -1], 'ISIC_00275632': [70.0, -1], 'ISIC_0027564': [45.0, -1], 'ISIC_0027565': [45.0, -1], 'ISIC_0027566': [5.0, -1], 'ISIC_0027567': [30.0, 1], 'ISIC_0027568': [70.0, -1], 'ISIC_0027569': [20.0, -1], 'ISIC_0027570': [50.0, -1], 'ISIC_0027571': [30.0, -1], 'ISIC_0027572': [55.0, -1], 'ISIC_0027573': [55.0, -1], 'ISIC_0027574': [30.0, 1], 'ISIC_0027575': [45.0, 1], 'ISIC_0027576': [45.0, 1], 'ISIC_0027577': [55.0, -1], 'ISIC_00275771': [55.0, -1], 'ISIC_0027578': [80.0, -1], 'ISIC_0027579': [45.0, 1], 'ISIC_0027580': [75.0, -1], 'ISIC_0027581': [35.0, 1], 'ISIC_0027582': [40.0, 1], 'ISIC_0027583': [45.0, -1], 'ISIC_0027584': [45.0, -1], 'ISIC_0027585': [55.0, 1], 'ISIC_0027586': [45.0, 1], 'ISIC_0027587': [60.0, -1], 'ISIC_0027588': [50.0, 1], 'ISIC_0027589': [50.0, 1], 'ISIC_0027590': [85.0, 1], 'ISIC_0027591': [50.0, 1], 'ISIC_0027592': [50.0, 1], 'ISIC_0027593': [70.0, 1], 'ISIC_0027594': [45.0, -1], 'ISIC_0027595': [40.0, 1], 'ISIC_0027596': [35.0, 1], 'ISIC_0027597': [45.0, 1], 'ISIC_0027598': [60.0, 1], 'ISIC_00275981': [60.0, 1], 'ISIC_00275982': [60.0, 1], 'ISIC_00275983': [60.0, 1], 'ISIC_0027599': [60.0, 1], 'ISIC_0027600': [45.0, 1], 'ISIC_0027601': [75.0, 1], 'ISIC_0027602': [40.0, -1], 'ISIC_0027603': [40.0, -1], 'ISIC_0027604': [70.0, -1], 'ISIC_0027605': [60.0, -1], 'ISIC_0027606': [65.0, -1], 'ISIC_0027607': [35.0, -1], 'ISIC_0027608': [65.0, 1], 'ISIC_0027609': [80.0, -1], 'ISIC_0027610': [55.0, -1], 'ISIC_0027611': [25.0, -1], 'ISIC_0027612': [55.0, -1], 'ISIC_0027613': [75.0, 1], 'ISIC_00276131': [75.0, 1], 'ISIC_00276132': [75.0, 1], 'ISIC_00276133': [75.0, 1], 'ISIC_00276134': [75.0, 1], 'ISIC_0027614': [35.0, 1], 'ISIC_0027615': [70.0, -1], 'ISIC_0027616': [55.0, 1], 'ISIC_0027617': [60.0, -1], 'ISIC_0027618': [35.0, -1], 'ISIC_0027619': [40.0, -1], 'ISIC_0027620': [80.0, -1], 'ISIC_0027621': [40.0, 1], 'ISIC_0027622': [40.0, 1], 'ISIC_0027623': [15.0, 1], 'ISIC_0027624': [45.0, -1], 'ISIC_0027625': [55.0, 1], 'ISIC_0027626': [45.0, 1], 'ISIC_00276261': [45.0, 1], 'ISIC_00276262': [45.0, 1], 'ISIC_00276263': [45.0, 1], 'ISIC_0027627': [45.0, 1], 'ISIC_0027628': [55.0, -1], 'ISIC_0027629': [85.0, -1], 'ISIC_0027630': [40.0, -1], 'ISIC_0027631': [65.0, -1], 'ISIC_0027632': [50.0, -1], 'ISIC_0027633': [70.0, -1], 'ISIC_0027634': [60.0, 1], 'ISIC_0027635': [50.0, -1], 'ISIC_0027636': [60.0, -1], 'ISIC_0027637': [75.0, -1], 'ISIC_0027638': [55.0, 1], 'ISIC_0027639': [55.0, -1], 'ISIC_0027640': [45.0, -1], 'ISIC_0027641': [65.0, 1], 'ISIC_0027642': [50.0, -1], 'ISIC_0027643': [45.0, -1], 'ISIC_0027644': [40.0, -1], 'ISIC_0027645': [50.0, 1], 'ISIC_0027646': [20.0, -1], 'ISIC_0027647': [65.0, -1], 'ISIC_0027648': [55.0, -1], 'ISIC_00276481': [55.0, -1], 'ISIC_00276482': [55.0, -1], 'ISIC_00276483': [55.0, -1], 'ISIC_00276484': [55.0, -1], 'ISIC_0027649': [85.0, 1], 'ISIC_0027650': [40.0, -1], 'ISIC_00276501': [40.0, -1], 'ISIC_0027651': [50.0, -1], 'ISIC_0027652': [70.0, -1], 'ISIC_0027653': [60.0, -1], 'ISIC_0027654': [20.0, 1], 'ISIC_0027655': [50.0, 1], 'ISIC_0027656': [40.0, -1], 'ISIC_0027657': [40.0, -1], 'ISIC_0027658': [10.0, 1], 'ISIC_0027659': [70.0, -1], 'ISIC_0027660': [40.0, 1], 'ISIC_0027661': [35.0, -1], 'ISIC_0027662': [15.0, -1], 'ISIC_0027663': [40.0, -1], 'ISIC_0027664': [40.0, -1], 'ISIC_0027665': [50.0, -1], 'ISIC_00276651': [50.0, -1], 'ISIC_00276652': [50.0, -1], 'ISIC_0027666': [50.0, 1], 'ISIC_0027667': [55.0, -1], 'ISIC_0027668': [60.0, -1], 'ISIC_0027669': [65.0, -1], 'ISIC_0027670': [85.0, -1], 'ISIC_0027671': [25.0, 1], 'ISIC_0027672': [55.0, 1], 'ISIC_00276721': [55.0, 1], 'ISIC_00276722': [55.0, 1], 'ISIC_00276723': [55.0, 1], 'ISIC_0027673': [70.0, 1], 'ISIC_0027674': [50.0, -1], 'ISIC_0027675': [70.0, 1], 'ISIC_0027676': [50.0, 1], 'ISIC_0027677': [65.0, -1], 'ISIC_0027678': [60.0, -1], 'ISIC_00276781': [60.0, -1], 'ISIC_0027679': [35.0, -1], 'ISIC_0027680': [80.0, -1], 'ISIC_0027681': [85.0, -1], 'ISIC_0027682': [35.0, 1], 'ISIC_0027683': [55.0, 1], 'ISIC_0027684': [45.0, 1], 'ISIC_0027685': [50.0, -1], 'ISIC_0027686': [55.0, 1], 'ISIC_0027687': [50.0, 1], 'ISIC_0027688': [80.0, 1], 'ISIC_0027689': [40.0, -1], 'ISIC_0027690': [40.0, -1], 'ISIC_0027691': [45.0, 1], 'ISIC_0027692': [50.0, 1], 'ISIC_0027693': [45.0, 1], 'ISIC_0027694': [45.0, -1], 'ISIC_0027695': [40.0, 1], 'ISIC_0027696': [40.0, 1], 'ISIC_0027697': [40.0, -1], 'ISIC_0027698': [15.0, 1], 'ISIC_0027699': [65.0, 1], 'ISIC_0027700': [80.0, -1], 'ISIC_00277001': [80.0, -1], 'ISIC_0027701': [45.0, 1], 'ISIC_0027702': [70.0, 1], 'ISIC_0027703': [50.0, 1], 'ISIC_0027704': [75.0, -1], 'ISIC_0027705': [35.0, 1], 'ISIC_0027706': [30.0, 1], 'ISIC_0027707': [20.0, -1], 'ISIC_0027708': [50.0, 1], 'ISIC_00277081': [50.0, 1], 'ISIC_0027709': [5.0, -1], 'ISIC_0027710': [50.0, -1], 'ISIC_0027711': [40.0, -1], 'ISIC_0027712': [55.0, -1], 'ISIC_0027713': [80.0, -1], 'ISIC_0027714': [50.0, 1], 'ISIC_0027715': [40.0, -1], 'ISIC_0027716': [50.0, -1], 'ISIC_0027717': [50.0, -1], 'ISIC_0027718': [35.0, -1], 'ISIC_0027719': [60.0, -1], 'ISIC_00277191': [60.0, -1], 'ISIC_0027720': [45.0, 1], 'ISIC_0027721': [75.0, -1], 'ISIC_0027722': [70.0, -1], 'ISIC_0027723': [50.0, -1], 'ISIC_0027724': [45.0, -1], 'ISIC_0027725': [45.0, -1], 'ISIC_0027726': [60.0, -1], 'ISIC_0027727': [55.0, -1], 'ISIC_00277271': [55.0, -1], 'ISIC_00277272': [55.0, -1], 'ISIC_00277273': [55.0, -1], 'ISIC_00277274': [55.0, -1], 'ISIC_0027728': [30.0, -1], 'ISIC_0027729': [15.0, 1], 'ISIC_0027730': [70.0, 1], 'ISIC_0027731': [55.0, 1], 'ISIC_0027732': [45.0, 1], 'ISIC_0027733': [40.0, -1], 'ISIC_0027734': [75.0, -1], 'ISIC_0027735': [50.0, 1], 'ISIC_0027736': [55.0, -1], 'ISIC_0027737': [35.0, 1], 'ISIC_0027738': [70.0, -1], 'ISIC_0027739': [50.0, -1], 'ISIC_0027740': [45.0, -1], 'ISIC_0027741': [50.0, -1], 'ISIC_0027742': [60.0, -1], 'ISIC_0027743': [45.0, 1], 'ISIC_0027744': [50.0, -1], 'ISIC_0027745': [50.0, 1], 'ISIC_00277451': [50.0, 1], 'ISIC_00277452': [50.0, 1], 'ISIC_00277453': [50.0, 1], 'ISIC_0027746': [40.0, -1], 'ISIC_0027747': [55.0, -1], 'ISIC_0027748': [65.0, -1], 'ISIC_0027749': [45.0, 1], 'ISIC_0027750': [30.0, 1], 'ISIC_0027751': [15.0, 1], 'ISIC_0027752': [50.0, 1], 'ISIC_0027753': [70.0, -1], 'ISIC_00277531': [70.0, -1], 'ISIC_0027754': [50.0, 1], 'ISIC_0027755': [30.0, 1], 'ISIC_0027756': [25.0, 1], 'ISIC_0027757': [10.0, 1], 'ISIC_0027758': [35.0, 1], 'ISIC_0027759': [60.0, 1], 'ISIC_0027760': [80.0, -1], 'ISIC_0027761': [50.0, -1], 'ISIC_0027762': [50.0, -1], 'ISIC_0027763': [55.0, -1], 'ISIC_0027764': [45.0, -1], 'ISIC_0027765': [40.0, 1], 'ISIC_0027766': [65.0, -1], 'ISIC_0027767': [85.0, -1], 'ISIC_0027768': [75.0, -1], 'ISIC_0027769': [70.0, -1], 'ISIC_0027770': [75.0, -1], 'ISIC_0027771': [60.0, 1], 'ISIC_0027772': [30.0, -1], 'ISIC_0027773': [30.0, 1], 'ISIC_0027774': [85.0, 1], 'ISIC_0027775': [65.0, -1], 'ISIC_0027776': [70.0, 1], 'ISIC_0027777': [40.0, -1], 'ISIC_0027778': [30.0, 1], 'ISIC_0027779': [70.0, -1], 'ISIC_0027780': [70.0, -1], 'ISIC_0027781': [80.0, -1], 'ISIC_0027782': [50.0, -1], 'ISIC_0027783': [50.0, 1], 'ISIC_0027784': [45.0, 1], 'ISIC_0027785': [45.0, 1], 'ISIC_0027786': [55.0, -1], 'ISIC_0027787': [40.0, -1], 'ISIC_0027788': [75.0, 1], 'ISIC_0027789': [45.0, 1], 'ISIC_0027790': [50.0, 1], 'ISIC_00277901': [50.0, 1], 'ISIC_00277902': [50.0, 1], 'ISIC_0027791': [55.0, -1], 'ISIC_0027792': [75.0, -1], 'ISIC_0027793': [35.0, 1], 'ISIC_0027794': [50.0, -1], 'ISIC_0027795': [70.0, -1], 'ISIC_00277951': [70.0, -1], 'ISIC_0027796': [70.0, 1], 'ISIC_0027797': [50.0, 1], 'ISIC_0027798': [45.0, 1], 'ISIC_0027799': [45.0, -1], 'ISIC_0027800': [60.0, 1], 'ISIC_0027801': [55.0, 1], 'ISIC_0027802': [50.0, -1], 'ISIC_0027803': [70.0, -1], 'ISIC_0027804': [50.0, 1], 'ISIC_0027805': [35.0, -1], 'ISIC_0027806': [80.0, 1], 'ISIC_0027807': [45.0, 1], 'ISIC_0027808': [50.0, 1], 'ISIC_0027809': [45.0, 1], 'ISIC_0027810': [50.0, 1], 'ISIC_0027811': [50.0, -1], 'ISIC_0027812': [45.0, 1], 'ISIC_0027813': [50.0, -1], 'ISIC_0027814': [85.0, 1], 'ISIC_0027815': [80.0, -1], 'ISIC_0027816': [45.0, 1], 'ISIC_0027817': [40.0, 1], 'ISIC_0027818': [45.0, 1], 'ISIC_0027819': [50.0, 1], 'ISIC_0027820': [50.0, -1], 'ISIC_0027821': [40.0, -1], 'ISIC_0027822': [85.0, -1], 'ISIC_0027823': [35.0, 1], 'ISIC_0027824': [60.0, -1], 'ISIC_0027825': [55.0, -1], 'ISIC_0027826': [75.0, 1], 'ISIC_0027827': [60.0, -1], 'ISIC_0027828': [40.0, -1], 'ISIC_0027829': [55.0, 1], 'ISIC_0027830': [70.0, -1], 'ISIC_0027831': [60.0, -1], 'ISIC_0027832': [75.0, -1], 'ISIC_0027833': [50.0, 1], 'ISIC_0027834': [45.0, -1], 'ISIC_0027835': [35.0, 1], 'ISIC_0027836': [50.0, 1], 'ISIC_0027837': [15.0, -1], 'ISIC_0027838': [35.0, 1], 'ISIC_0027839': [45.0, -1], 'ISIC_0027840': [65.0, 1], 'ISIC_0027841': [60.0, -1], 'ISIC_0027842': [30.0, -1], 'ISIC_0027843': [60.0, -1], 'ISIC_0027844': [50.0, -1], 'ISIC_0027845': [50.0, 1], 'ISIC_0027846': [65.0, 1], 'ISIC_0027847': [65.0, 1], 'ISIC_0027848': [35.0, 1], 'ISIC_0027849': [45.0, -1], 'ISIC_0027850': [75.0, -1], 'ISIC_0027851': [55.0, -1], 'ISIC_0027852': [75.0, -1], 'ISIC_0027853': [30.0, 1], 'ISIC_0027854': [50.0, 1], 'ISIC_0027855': [45.0, 1], 'ISIC_0027856': [45.0, 1], 'ISIC_00278561': [45.0, 1], 'ISIC_00278562': [45.0, 1], 'ISIC_0027857': [55.0, 1], 'ISIC_0027858': [75.0, -1], 'ISIC_0027859': [70.0, 1], 'ISIC_0027860': [35.0, -1], 'ISIC_0027861': [5.0, 1], 'ISIC_0027862': [30.0, -1], 'ISIC_0027863': [55.0, -1], 'ISIC_0027864': [75.0, -1], 'ISIC_0027865': [40.0, 1], 'ISIC_0027866': [35.0, -1], 'ISIC_0027867': [65.0, -1], 'ISIC_0027868': [55.0, -1], 'ISIC_0027869': [35.0, 1], 'ISIC_0027870': [40.0, -1], 'ISIC_0027871': [40.0, 1], 'ISIC_0027872': [55.0, 1], 'ISIC_0027873': [30.0, 1], 'ISIC_0027874': [40.0, 1], 'ISIC_0027875': [80.0, -1], 'ISIC_0027876': [65.0, 1], 'ISIC_00278761': [65.0, 1], 'ISIC_00278762': [65.0, 1], 'ISIC_00278763': [65.0, 1], 'ISIC_00278764': [65.0, 1], 'ISIC_0027877': [25.0, -1], 'ISIC_0027878': [40.0, 1], 'ISIC_0027879': [40.0, 1], 'ISIC_0027880': [65.0, -1], 'ISIC_0027881': [40.0, 1], 'ISIC_0027882': [40.0, -1], 'ISIC_0027883': [85.0, -1], 'ISIC_0027884': [60.0, -1], 'ISIC_0027885': [35.0, 1], 'ISIC_0027886': [55.0, -1], 'ISIC_0027887': [75.0, 1], 'ISIC_0027888': [40.0, -1], 'ISIC_00278881': [40.0, -1], 'ISIC_00278882': [40.0, -1], 'ISIC_0027889': [70.0, 1], 'ISIC_0027890': [50.0, -1], 'ISIC_0027891': [40.0, -1], 'ISIC_0027892': [50.0, 1], 'ISIC_0027893': [80.0, -1], 'ISIC_0027894': [45.0, 1], 'ISIC_0027895': [55.0, 1], 'ISIC_0027896': [75.0, -1], 'ISIC_00278961': [75.0, -1], 'ISIC_0027897': [30.0, 1], 'ISIC_0027898': [75.0, -1], 'ISIC_0027899': [45.0, -1], 'ISIC_0027900': [40.0, 1], 'ISIC_0027901': [50.0, 1], 'ISIC_0027902': [75.0, 1], 'ISIC_0027903': [45.0, 1], 'ISIC_00279031': [45.0, 1], 'ISIC_00279032': [45.0, 1], 'ISIC_00279033': [45.0, 1], 'ISIC_0027904': [55.0, 1], 'ISIC_0027905': [70.0, 1], 'ISIC_0027906': [80.0, -1], 'ISIC_0027907': [70.0, 1], 'ISIC_0027908': [25.0, -1], 'ISIC_0027909': [45.0, 1], 'ISIC_0027910': [5.0, -1], 'ISIC_0027911': [50.0, -1], 'ISIC_0027912': [50.0, 1], 'ISIC_0027913': [40.0, -1], 'ISIC_0027914': [45.0, -1], 'ISIC_0027915': [80.0, -1], 'ISIC_0027916': [80.0, -1], 'ISIC_0027917': [35.0, -1], 'ISIC_0027918': [45.0, -1], 'ISIC_0027919': [40.0, 1], 'ISIC_0027920': [75.0, -1], 'ISIC_0027921': [50.0, -1], 'ISIC_0027922': [70.0, 1], 'ISIC_0027923': [50.0, 1], 'ISIC_0027924': [20.0, -1], 'ISIC_0027925': [30.0, -1], 'ISIC_0027926': [55.0, 1], 'ISIC_0027927': [50.0, -1], 'ISIC_0027928': [80.0, -1], 'ISIC_0027929': [45.0, -1], 'ISIC_0027930': [60.0, -1], 'ISIC_0027931': [60.0, 1], 'ISIC_0027932': [55.0, -1], 'ISIC_0027933': [40.0, -1], 'ISIC_0027934': [65.0, 1], 'ISIC_0027935': [35.0, 1], 'ISIC_0027936': [40.0, -1], 'ISIC_0027937': [70.0, -1], 'ISIC_00279371': [70.0, -1], 'ISIC_00279372': [70.0, -1], 'ISIC_0027938': [30.0, -1], 'ISIC_0027939': [45.0, 1], 'ISIC_0027940': [40.0, -1], 'ISIC_0027941': [40.0, -1], 'ISIC_0027942': [10.0, 1], 'ISIC_0027943': [55.0, 1], 'ISIC_0027944': [45.0, -1], 'ISIC_0027945': [35.0, 1], 'ISIC_0027946': [35.0, 1], 'ISIC_0027947': [50.0, -1], 'ISIC_0027948': [25.0, 1], 'ISIC_0027949': [60.0, 1], 'ISIC_0027950': [60.0, 1], 'ISIC_0027951': [65.0, -1], 'ISIC_0027952': [30.0, 1], 'ISIC_0027953': [35.0, 1], 'ISIC_0027954': [5.0, -1], 'ISIC_0027955': [50.0, -1], 'ISIC_0027956': [50.0, 1], 'ISIC_0027957': [50.0, -1], 'ISIC_0027958': [75.0, -1], 'ISIC_00279581': [75.0, -1], 'ISIC_0027959': [85.0, -1], 'ISIC_0027960': [75.0, -1], 'ISIC_0027961': [0.0, -1], 'ISIC_0027962': [50.0, 1], 'ISIC_0027963': [30.0, 1], 'ISIC_0027964': [60.0, -1], 'ISIC_0027965': [50.0, -1], 'ISIC_0027966': [65.0, -1], 'ISIC_0027967': [45.0, 1], 'ISIC_0027968': [40.0, -1], 'ISIC_0027969': [70.0, 1], 'ISIC_0027970': [25.0, -1], 'ISIC_0027971': [55.0, 1], 'ISIC_0027972': [55.0, 1], 'ISIC_0027973': [85.0, 1], 'ISIC_0027974': [45.0, -1], 'ISIC_0027975': [30.0, -1], 'ISIC_0027976': [80.0, -1], 'ISIC_0027977': [55.0, -1], 'ISIC_0027978': [60.0, -1], 'ISIC_0027979': [30.0, -1], 'ISIC_0027980': [35.0, -1], 'ISIC_0027981': [45.0, -1], 'ISIC_0027982': [65.0, 1], 'ISIC_0027983': [75.0, -1], 'ISIC_00279831': [75.0, -1], 'ISIC_00279832': [75.0, -1], 'ISIC_00279833': [75.0, -1], 'ISIC_0027984': [50.0, -1], 'ISIC_0027985': [55.0, 1], 'ISIC_0027986': [30.0, 1], 'ISIC_0027987': [40.0, -1], 'ISIC_0027988': [65.0, 1], 'ISIC_0027989': [75.0, 1], 'ISIC_0027990': [55.0, -1], 'ISIC_0027991': [55.0, -1], 'ISIC_0027992': [55.0, 1], 'ISIC_0027993': [60.0, 1], 'ISIC_0027994': [60.0, -1], 'ISIC_0027995': [45.0, -1], 'ISIC_0027996': [40.0, 1], 'ISIC_0027997': [70.0, 1], 'ISIC_0027998': [65.0, 1], 'ISIC_0027999': [40.0, -1], 'ISIC_0028000': [65.0, 1], 'ISIC_0028001': [50.0, -1], 'ISIC_0028002': [35.0, -1], 'ISIC_0028003': [30.0, -1], 'ISIC_0028004': [60.0, -1], 'ISIC_0028005': [45.0, -1], 'ISIC_0028006': [45.0, -1], 'ISIC_0028007': [45.0, 1], 'ISIC_0028008': [55.0, -1], 'ISIC_0028009': [10.0, 1], 'ISIC_0028010': [50.0, -1], 'ISIC_0028011': [35.0, -1], 'ISIC_0028012': [50.0, -1], 'ISIC_0028013': [55.0, -1], 'ISIC_0028014': [30.0, -1], 'ISIC_0028015': [55.0, 1], 'ISIC_0028016': [45.0, -1], 'ISIC_0028017': [50.0, 1], 'ISIC_0028018': [40.0, -1], 'ISIC_0028019': [35.0, -1], 'ISIC_0028020': [50.0, 1], 'ISIC_0028021': [70.0, 1], 'ISIC_0028022': [70.0, 1], 'ISIC_0028023': [5.0, -1], 'ISIC_0028024': [45.0, -1], 'ISIC_0028025': [55.0, -1], 'ISIC_0028026': [55.0, 1], 'ISIC_0028027': [70.0, 1], 'ISIC_0028028': [45.0, -1], 'ISIC_0028029': [75.0, 1], 'ISIC_0028030': [35.0, -1], 'ISIC_0028031': [45.0, -1], 'ISIC_0028032': [70.0, -1], 'ISIC_0028033': [55.0, -1], 'ISIC_0028034': [55.0, -1], 'ISIC_0028035': [70.0, -1], 'ISIC_0028036': [70.0, -1], 'ISIC_0028037': [45.0, 1], 'ISIC_0028038': [45.0, -1], 'ISIC_0028039': [20.0, -1], 'ISIC_0028040': [35.0, -1], 'ISIC_0028041': [60.0, -1], 'ISIC_0028042': [60.0, -1], 'ISIC_0028043': [70.0, -1], 'ISIC_0028044': [45.0, 1], 'ISIC_0028045': [25.0, 1], 'ISIC_0028046': [45.0, -1], 'ISIC_0028047': [35.0, 1], 'ISIC_0028048': [55.0, 1], 'ISIC_0028049': [55.0, 1], 'ISIC_0028050': [65.0, 1], 'ISIC_0028051': [45.0, -1], 'ISIC_0028052': [60.0, -1], 'ISIC_0028053': [55.0, -1], 'ISIC_0028054': [50.0, -1], 'ISIC_0028055': [50.0, 1], 'ISIC_0028056': [85.0, -1], 'ISIC_0028057': [55.0, 1], 'ISIC_0028058': [55.0, 1], 'ISIC_0028059': [40.0, -1], 'ISIC_0028060': [75.0, -1], 'ISIC_0028061': [40.0, 1], 'ISIC_0028062': [30.0, -1], 'ISIC_0028063': [50.0, -1], 'ISIC_0028064': [20.0, -1], 'ISIC_0028065': [60.0, -1], 'ISIC_0028066': [20.0, -1], 'ISIC_0028067': [60.0, 1], 'ISIC_0028068': [35.0, 1], 'ISIC_0028069': [35.0, 1], 'ISIC_0028070': [55.0, -1], 'ISIC_0028071': [40.0, 1], 'ISIC_0028072': [45.0, -1], 'ISIC_0028073': [30.0, 1], 'ISIC_0028074': [40.0, -1], 'ISIC_0028075': [55.0, -1], 'ISIC_0028076': [60.0, -1], 'ISIC_0028077': [55.0, -1], 'ISIC_0028078': [40.0, 1], 'ISIC_0028079': [65.0, 1], 'ISIC_0028080': [40.0, 1], 'ISIC_0028081': [45.0, 1], 'ISIC_0028082': [40.0, 1], 'ISIC_0028083': [55.0, -1], 'ISIC_0028084': [80.0, -1], 'ISIC_0028085': [50.0, 1], 'ISIC_0028086': [60.0, -1], 'ISIC_0028087': [65.0, 1], 'ISIC_0028088': [70.0, 1], 'ISIC_0028089': [55.0, -1], 'ISIC_0028090': [55.0, -1], 'ISIC_0028091': [5.0, -1], 'ISIC_0028092': [60.0, -1], 'ISIC_0028093': [35.0, -1], 'ISIC_0028094': [70.0, -1], 'ISIC_0028095': [75.0, 1], 'ISIC_0028096': [70.0, -1], 'ISIC_0028097': [55.0, -1], 'ISIC_0028098': [15.0, 1], 'ISIC_0028099': [50.0, -1], 'ISIC_0028100': [60.0, 1], 'ISIC_0028101': [20.0, 1], 'ISIC_0028102': [60.0, -1], 'ISIC_0028103': [70.0, 1], 'ISIC_0028104': [65.0, -1], 'ISIC_0028105': [35.0, -1], 'ISIC_0028106': [75.0, 1], 'ISIC_0028107': [55.0, -1], 'ISIC_0028108': [45.0, -1], 'ISIC_0028109': [65.0, -1], 'ISIC_0028110': [40.0, 1], 'ISIC_0028111': [55.0, -1], 'ISIC_0028112': [50.0, -1], 'ISIC_0028113': [80.0, -1], 'ISIC_0028114': [70.0, 1], 'ISIC_0028115': [15.0, -1], 'ISIC_0028116': [75.0, -1], 'ISIC_0028117': [15.0, -1], 'ISIC_0028118': [80.0, -1], 'ISIC_0028119': [45.0, -1], 'ISIC_0028120': [65.0, -1], 'ISIC_0028121': [65.0, 1], 'ISIC_0028122': [70.0, 1], 'ISIC_0028123': [65.0, 1], 'ISIC_0028124': [60.0, 1], 'ISIC_0028125': [45.0, 1], 'ISIC_0028126': [30.0, 1], 'ISIC_0028127': [70.0, 1], 'ISIC_0028128': [55.0, -1], 'ISIC_0028129': [45.0, -1], 'ISIC_0028130': [50.0, 1], 'ISIC_0028131': [65.0, -1], 'ISIC_0028132': [80.0, 1], 'ISIC_00281321': [80.0, 1], 'ISIC_0028133': [75.0, -1], 'ISIC_0028134': [35.0, 1], 'ISIC_0028135': [45.0, 1], 'ISIC_0028136': [60.0, -1], 'ISIC_0028137': [35.0, 1], 'ISIC_0028138': [55.0, -1], 'ISIC_0028139': [35.0, 1], 'ISIC_0028140': [50.0, -1], 'ISIC_0028141': [45.0, 1], 'ISIC_0028142': [35.0, -1], 'ISIC_0028143': [50.0, 1], 'ISIC_0028144': [35.0, 1], 'ISIC_0028145': [5.0, -1], 'ISIC_0028146': [60.0, 1], 'ISIC_00281461': [60.0, 1], 'ISIC_00281462': [60.0, 1], 'ISIC_00281463': [60.0, 1], 'ISIC_0028147': [65.0, 1], 'ISIC_0028148': [85.0, -1], 'ISIC_0028149': [35.0, 1], 'ISIC_0028150': [45.0, -1], 'ISIC_0028151': [60.0, -1], 'ISIC_0028152': [50.0, -1], 'ISIC_0028153': [50.0, 1], 'ISIC_0028154': [70.0, -1], 'ISIC_0028155': [50.0, -1], 'ISIC_0028156': [55.0, -1], 'ISIC_0028157': [75.0, 1], 'ISIC_0028158': [70.0, 1], 'ISIC_00281581': [70.0, 1], 'ISIC_0028159': [40.0, 1], 'ISIC_0028160': [55.0, -1], 'ISIC_0028161': [45.0, 1], 'ISIC_0028162': [45.0, 1], 'ISIC_0028163': [25.0, 1], 'ISIC_00281631': [25.0, 1], 'ISIC_00281632': [25.0, 1], 'ISIC_00281633': [25.0, 1], 'ISIC_0028164': [45.0, 1], 'ISIC_0028165': [60.0, 1], 'ISIC_0028166': [30.0, 1], 'ISIC_0028167': [65.0, 1], 'ISIC_0028168': [65.0, 1], 'ISIC_0028169': [45.0, -1], 'ISIC_0028170': [55.0, 1], 'ISIC_0028171': [75.0, -1], 'ISIC_0028172': [55.0, 1], 'ISIC_0028173': [45.0, -1], 'ISIC_0028174': [50.0, -1], 'ISIC_0028175': [45.0, -1], 'ISIC_0028176': [50.0, -1], 'ISIC_0028177': [45.0, 1], 'ISIC_0028178': [30.0, 1], 'ISIC_0028179': [55.0, -1], 'ISIC_0028180': [70.0, 1], 'ISIC_0028181': [55.0, -1], 'ISIC_0028182': [50.0, -1], 'ISIC_0028183': [30.0, 1], 'ISIC_0028184': [20.0, -1], 'ISIC_0028185': [55.0, -1], 'ISIC_0028186': [65.0, 1], 'ISIC_0028187': [65.0, 1], 'ISIC_0028188': [85.0, 1], 'ISIC_00281881': [85.0, 1], 'ISIC_00281882': [85.0, 1], 'ISIC_00281883': [85.0, 1], 'ISIC_0028189': [60.0, -1], 'ISIC_0028190': [45.0, -1], 'ISIC_00281901': [45.0, -1], 'ISIC_0028191': [35.0, 1], 'ISIC_0028192': [45.0, -1], 'ISIC_0028193': [55.0, 1], 'ISIC_0028194': [55.0, -1], 'ISIC_0028195': [35.0, 1], 'ISIC_0028196': [35.0, 1], 'ISIC_0028197': [85.0, -1], 'ISIC_0028198': [40.0, 1], 'ISIC_0028199': [50.0, 1], 'ISIC_0028200': [65.0, -1], 'ISIC_0028201': [80.0, -1], 'ISIC_0028202': [75.0, -1], 'ISIC_0028203': [60.0, 1], 'ISIC_0028204': [40.0, -1], 'ISIC_0028205': [45.0, -1], 'ISIC_0028206': [45.0, 1], 'ISIC_0028207': [45.0, -1], 'ISIC_0028208': [70.0, 1], 'ISIC_0028209': [50.0, -1], 'ISIC_0028210': [40.0, -1], 'ISIC_0028211': [65.0, -1], 'ISIC_0028212': [75.0, -1], 'ISIC_0028213': [35.0, 1], 'ISIC_0028214': [50.0, -1], 'ISIC_0028215': [75.0, 1], 'ISIC_0028216': [55.0, -1], 'ISIC_0028217': [35.0, 1], 'ISIC_0028218': [60.0, -1], 'ISIC_0028219': [45.0, -1], 'ISIC_0028220': [60.0, -1], 'ISIC_0028221': [50.0, -1], 'ISIC_0028222': [35.0, -1], 'ISIC_0028223': [55.0, 1], 'ISIC_0028224': [40.0, 1], 'ISIC_0028225': [70.0, 1], 'ISIC_0028226': [25.0, -1], 'ISIC_0028227': [55.0, -1], 'ISIC_0028228': [75.0, 1], 'ISIC_0028229': [70.0, 1], 'ISIC_0028230': [35.0, 1], 'ISIC_0028231': [80.0, -1], 'ISIC_00282311': [80.0, -1], 'ISIC_0028232': [60.0, -1], 'ISIC_00282321': [60.0, -1], 'ISIC_0028233': [55.0, -1], 'ISIC_0028234': [50.0, -1], 'ISIC_0028235': [15.0, -1], 'ISIC_0028236': [70.0, 1], 'ISIC_0028237': [85.0, 1], 'ISIC_0028238': [80.0, -1], 'ISIC_0028239': [45.0, 1], 'ISIC_0028240': [80.0, -1], 'ISIC_0028241': [70.0, -1], 'ISIC_0028242': [35.0, -1], 'ISIC_0028243': [55.0, -1], 'ISIC_0028244': [50.0, -1], 'ISIC_0028245': [40.0, 1], 'ISIC_0028246': [45.0, -1], 'ISIC_0028247': [25.0, -1], 'ISIC_0028248': [35.0, 1], 'ISIC_0028249': [40.0, 1], 'ISIC_0028250': [45.0, 1], 'ISIC_0028251': [55.0, 1], 'ISIC_0028252': [40.0, 1], 'ISIC_0028253': [35.0, 1], 'ISIC_0028254': [70.0, 1], 'ISIC_0028255': [10.0, 1], 'ISIC_0028256': [60.0, -1], 'ISIC_0028257': [35.0, -1], 'ISIC_0028258': [85.0, 1], 'ISIC_0028259': [35.0, 1], 'ISIC_0028260': [55.0, -1], 'ISIC_0028261': [60.0, 1], 'ISIC_0028262': [50.0, -1], 'ISIC_0028263': [75.0, 1], 'ISIC_0028264': [60.0, -1], 'ISIC_0028265': [45.0, -1], 'ISIC_0028266': [50.0, -1], 'ISIC_0028267': [45.0, -1], 'ISIC_0028268': [60.0, -1], 'ISIC_0028269': [45.0, 1], 'ISIC_0028270': [45.0, 1], 'ISIC_0028271': [35.0, -1], 'ISIC_0028272': [75.0, 1], 'ISIC_0028273': [20.0, 1], 'ISIC_0028274': [50.0, -1], 'ISIC_0028275': [30.0, -1], 'ISIC_0028276': [20.0, 1], 'ISIC_0028277': [55.0, 1], 'ISIC_0028278': [40.0, -1], 'ISIC_0028279': [70.0, -1], 'ISIC_0028280': [55.0, -1], 'ISIC_0028281': [35.0, 1], 'ISIC_0028282': [50.0, -1], 'ISIC_0028283': [70.0, 1], 'ISIC_0028284': [55.0, 1], 'ISIC_0028285': [80.0, -1], 'ISIC_0028286': [30.0, 1], 'ISIC_0028287': [45.0, 1], 'ISIC_0028288': [65.0, -1], 'ISIC_0028289': [45.0, 1], 'ISIC_0028290': [35.0, -1], 'ISIC_0028291': [65.0, -1], 'ISIC_0028292': [40.0, -1], 'ISIC_0028293': [70.0, -1], 'ISIC_0028294': [75.0, 1], 'ISIC_0028295': [30.0, 1], 'ISIC_0028296': [80.0, -1], 'ISIC_0028297': [70.0, 1], 'ISIC_0028298': [45.0, -1], 'ISIC_0028299': [60.0, -1], 'ISIC_0028300': [55.0, 1], 'ISIC_0028301': [60.0, 1], 'ISIC_0028302': [35.0, 1], 'ISIC_0028303': [75.0, 1], 'ISIC_0028304': [60.0, 1], 'ISIC_0028305': [50.0, 1], 'ISIC_0028306': [55.0, -1], 'ISIC_0028307': [75.0, 1], 'ISIC_0028308': [50.0, 1], 'ISIC_0028309': [70.0, 1], 'ISIC_0028310': [40.0, -1], 'ISIC_0028311': [45.0, -1], 'ISIC_0028312': [50.0, -1], 'ISIC_0028313': [45.0, -1], 'ISIC_0028314': [60.0, -1], 'ISIC_00283141': [60.0, -1], 'ISIC_0028315': [35.0, 1], 'ISIC_0028316': [60.0, 1], 'ISIC_0028317': [65.0, 1], 'ISIC_0028318': [50.0, 1], 'ISIC_0028319': [70.0, -1], 'ISIC_0028320': [40.0, -1], 'ISIC_0028321': [55.0, -1], 'ISIC_0028322': [45.0, -1], 'ISIC_0028323': [80.0, 1], 'ISIC_0028324': [45.0, -1], 'ISIC_0028325': [85.0, -1], 'ISIC_0028326': [40.0, 1], 'ISIC_0028327': [35.0, -1], 'ISIC_0028328': [40.0, 1], 'ISIC_0028329': [80.0, 1], 'ISIC_0028330': [55.0, -1], 'ISIC_0028331': [80.0, -1], 'ISIC_0028332': [40.0, -1], 'ISIC_0028333': [75.0, -1], 'ISIC_0028334': [30.0, 1], 'ISIC_0028335': [60.0, 1], 'ISIC_0028336': [60.0, -1], 'ISIC_0028337': [55.0, -1], 'ISIC_0028338': [50.0, 1], 'ISIC_0028339': [50.0, 1], 'ISIC_0028340': [75.0, -1], 'ISIC_0028341': [45.0, -1], 'ISIC_0028342': [35.0, 1], 'ISIC_0028343': [30.0, -1], 'ISIC_0028344': [65.0, -1], 'ISIC_0028345': [45.0, -1], 'ISIC_0028346': [65.0, 1], 'ISIC_00283461': [65.0, 1], 'ISIC_00283462': [65.0, 1], 'ISIC_00283463': [65.0, 1], 'ISIC_0028347': [80.0, -1], 'ISIC_0028348': [60.0, -1], 'ISIC_0028349': [30.0, -1], 'ISIC_0028350': [70.0, 1], 'ISIC_0028351': [35.0, -1], 'ISIC_0028352': [55.0, -1], 'ISIC_0028353': [65.0, 1], 'ISIC_0028354': [50.0, -1], 'ISIC_0028355': [30.0, 1], 'ISIC_0028356': [40.0, 1], 'ISIC_0028357': [50.0, 1], 'ISIC_0028358': [50.0, 1], 'ISIC_0028359': [45.0, 1], 'ISIC_0028360': [35.0, 1], 'ISIC_0028361': [45.0, -1], 'ISIC_0028362': [35.0, -1], 'ISIC_0028363': [75.0, -1], 'ISIC_0028364': [50.0, 1], 'ISIC_0028365': [45.0, -1], 'ISIC_0028366': [45.0, 1], 'ISIC_0028367': [35.0, 1], 'ISIC_0028368': [35.0, 1], 'ISIC_0028369': [55.0, 1], 'ISIC_0028370': [60.0, -1], 'ISIC_0028371': [50.0, -1], 'ISIC_0028372': [55.0, 1], 'ISIC_00283721': [55.0, 1], 'ISIC_0028373': [70.0, -1], 'ISIC_0028374': [45.0, 1], 'ISIC_0028375': [35.0, 1], 'ISIC_0028376': [85.0, -1], 'ISIC_0028377': [5.0, -1], 'ISIC_0028378': [40.0, 1], 'ISIC_0028379': [35.0, 1], 'ISIC_0028380': [15.0, 1], 'ISIC_0028381': [55.0, 1], 'ISIC_00283811': [55.0, 1], 'ISIC_0028382': [50.0, 1], 'ISIC_0028383': [50.0, -1], 'ISIC_0028384': [0.0, -1], 'ISIC_0028385': [45.0, 1], 'ISIC_0028386': [50.0, 1], 'ISIC_0028387': [55.0, 1], 'ISIC_0028388': [50.0, 1], 'ISIC_0028389': [40.0, -1], 'ISIC_0028390': [40.0, -1], 'ISIC_0028391': [55.0, 1], 'ISIC_0028392': [50.0, -1], 'ISIC_0028393': [80.0, -1], 'ISIC_0028394': [50.0, 1], 'ISIC_0028395': [45.0, 1], 'ISIC_0028396': [65.0, 1], 'ISIC_0028397': [70.0, 1], 'ISIC_0028398': [40.0, -1], 'ISIC_0028399': [75.0, -1], 'ISIC_0028400': [65.0, -1], 'ISIC_0028401': [35.0, 1], 'ISIC_0028402': [45.0, 1], 'ISIC_0028403': [55.0, -1], 'ISIC_0028404': [80.0, -1], 'ISIC_0028405': [60.0, 1], 'ISIC_0028406': [80.0, -1], 'ISIC_00284061': [80.0, -1], 'ISIC_00284062': [80.0, -1], 'ISIC_0028407': [55.0, 1], 'ISIC_0028408': [55.0, -1], 'ISIC_0028409': [75.0, 1], 'ISIC_0028410': [45.0, -1], 'ISIC_0028411': [45.0, -1], 'ISIC_0028412': [55.0, -1], 'ISIC_0028413': [50.0, 1], 'ISIC_0028414': [70.0, -1], 'ISIC_0028415': [60.0, -1], 'ISIC_0028416': [50.0, 1], 'ISIC_0028417': [45.0, 1], 'ISIC_0028418': [45.0, 1], 'ISIC_0028419': [35.0, -1], 'ISIC_0028420': [80.0, -1], 'ISIC_0028421': [45.0, -1], 'ISIC_0028422': [35.0, -1], 'ISIC_0028423': [30.0, 1], 'ISIC_0028424': [40.0, -1], 'ISIC_0028425': [25.0, 1], 'ISIC_0028426': [45.0, -1], 'ISIC_0028427': [45.0, -1], 'ISIC_0028428': [55.0, -1], 'ISIC_0028429': [40.0, 1], 'ISIC_0028430': [45.0, 1], 'ISIC_0028431': [50.0, -1], 'ISIC_00284311': [50.0, -1], 'ISIC_00284312': [50.0, -1], 'ISIC_0028432': [45.0, 1], 'ISIC_0028433': [40.0, -1], 'ISIC_0028434': [45.0, -1], 'ISIC_0028435': [30.0, 1], 'ISIC_0028436': [55.0, 1], 'ISIC_0028437': [70.0, -1], 'ISIC_0028438': [55.0, 1], 'ISIC_0028439': [50.0, -1], 'ISIC_0028440': [45.0, -1], 'ISIC_0028441': [80.0, -1], 'ISIC_0028442': [75.0, -1], 'ISIC_0028443': [45.0, -1], 'ISIC_0028444': [70.0, -1], 'ISIC_0028445': [75.0, -1], 'ISIC_0028446': [45.0, -1], 'ISIC_0028447': [45.0, -1], 'ISIC_0028448': [55.0, -1], 'ISIC_0028449': [65.0, 1], 'ISIC_0028450': [55.0, -1], 'ISIC_0028451': [65.0, 1], 'ISIC_0028452': [50.0, -1], 'ISIC_0028453': [70.0, -1], 'ISIC_0028454': [60.0, -1], 'ISIC_0028455': [50.0, -1], 'ISIC_0028456': [40.0, 1], 'ISIC_0028457': [75.0, 1], 'ISIC_0028458': [40.0, 1], 'ISIC_0028459': [70.0, 1], 'ISIC_0028460': [65.0, -1], 'ISIC_0028461': [60.0, 1], 'ISIC_0028462': [45.0, 1], 'ISIC_0028463': [60.0, 1], 'ISIC_0028464': [45.0, -1], 'ISIC_0028465': [65.0, -1], 'ISIC_0028466': [50.0, 1], 'ISIC_0028467': [85.0, -1], 'ISIC_0028468': [70.0, -1], 'ISIC_0028469': [40.0, -1], 'ISIC_0028470': [35.0, -1], 'ISIC_0028471': [55.0, 1], 'ISIC_0028472': [60.0, -1], 'ISIC_0028473': [75.0, -1], 'ISIC_0028474': [50.0, 1], 'ISIC_0028475': [35.0, -1], 'ISIC_0028476': [55.0, -1], 'ISIC_0028477': [45.0, -1], 'ISIC_0028478': [70.0, -1], 'ISIC_0028479': [75.0, 1], 'ISIC_0028480': [55.0, -1], 'ISIC_0028481': [70.0, -1], 'ISIC_0028482': [55.0, -1], 'ISIC_0028483': [55.0, -1], 'ISIC_0028484': [10.0, 1], 'ISIC_0028485': [40.0, -1], 'ISIC_0028486': [65.0, -1], 'ISIC_0028487': [35.0, -1], 'ISIC_0028488': [30.0, 1], 'ISIC_0028489': [70.0, -1], 'ISIC_0028490': [65.0, -1], 'ISIC_0028491': [45.0, 1], 'ISIC_0028492': [50.0, 1], 'ISIC_0028493': [85.0, -1], 'ISIC_0028494': [20.0, 1], 'ISIC_0028495': [50.0, 1], 'ISIC_0028496': [65.0, -1], 'ISIC_0028497': [80.0, -1], 'ISIC_0028498': [60.0, -1], 'ISIC_0028499': [80.0, 1], 'ISIC_0028500': [30.0, 1], 'ISIC_0028501': [45.0, 1], 'ISIC_0028502': [45.0, 1], 'ISIC_0028503': [70.0, -1], 'ISIC_0028504': [40.0, 1], 'ISIC_0028505': [75.0, -1], 'ISIC_0028506': [60.0, -1], 'ISIC_0028507': [70.0, 1], 'ISIC_0028508': [75.0, -1], 'ISIC_0028509': [65.0, 1], 'ISIC_0028510': [30.0, 1], 'ISIC_0028511': [75.0, -1], 'ISIC_0028512': [60.0, -1], 'ISIC_0028513': [40.0, -1], 'ISIC_0028514': [40.0, 1], 'ISIC_0028515': [45.0, 1], 'ISIC_0028516': [70.0, 1], 'ISIC_0028517': [60.0, -1], 'ISIC_0028518': [25.0, -1], 'ISIC_0028519': [80.0, -1], 'ISIC_0028520': [75.0, -1], 'ISIC_0028521': [50.0, 1], 'ISIC_0028522': [35.0, -1], 'ISIC_0028523': [55.0, -1], 'ISIC_0028524': [25.0, 1], 'ISIC_0028525': [75.0, -1], 'ISIC_0028526': [30.0, 1], 'ISIC_0028527': [55.0, 1], 'ISIC_0028528': [80.0, -1], 'ISIC_0028529': [55.0, -1], 'ISIC_0028530': [40.0, 1], 'ISIC_0028531': [30.0, 1], 'ISIC_0028532': [35.0, -1], 'ISIC_0028533': [60.0, -1], 'ISIC_0028534': [45.0, -1], 'ISIC_0028535': [40.0, 1], 'ISIC_0028536': [40.0, -1], 'ISIC_0028537': [35.0, -1], 'ISIC_0028538': [25.0, 1], 'ISIC_0028539': [45.0, 1], 'ISIC_0028540': [25.0, 1], 'ISIC_0028541': [50.0, 1], 'ISIC_0028542': [45.0, -1], 'ISIC_0028543': [55.0, 1], 'ISIC_0028544': [55.0, -1], 'ISIC_0028545': [30.0, 1], 'ISIC_0028546': [50.0, -1], 'ISIC_0028547': [60.0, -1], 'ISIC_0028548': [60.0, 1], 'ISIC_0028549': [45.0, 1], 'ISIC_0028550': [60.0, -1], 'ISIC_0028551': [75.0, -1], 'ISIC_0028552': [60.0, -1], 'ISIC_0028553': [45.0, 1], 'ISIC_0028554': [75.0, 1], 'ISIC_0028555': [50.0, -1], 'ISIC_0028556': [55.0, -1], 'ISIC_0028557': [75.0, 1], 'ISIC_0028558': [75.0, -1], 'ISIC_00285581': [75.0, -1], 'ISIC_0028559': [70.0, -1], 'ISIC_0028560': [85.0, -1], 'ISIC_0028561': [50.0, -1], 'ISIC_0028562': [65.0, 1], 'ISIC_0028563': [65.0, -1], 'ISIC_0028564': [45.0, 1], 'ISIC_0028565': [55.0, 1], 'ISIC_0028566': [35.0, 1], 'ISIC_0028567': [65.0, 1], 'ISIC_0028568': [70.0, 1], 'ISIC_0028569': [70.0, -1], 'ISIC_0028570': [85.0, 1], 'ISIC_0028571': [75.0, -1], 'ISIC_0028572': [35.0, -1], 'ISIC_0028573': [65.0, -1], 'ISIC_0028574': [40.0, 1], 'ISIC_0028575': [55.0, -1], 'ISIC_0028576': [30.0, 1], 'ISIC_0028577': [65.0, 1], 'ISIC_0028578': [40.0, 1], 'ISIC_0028579': [35.0, 1], 'ISIC_0028580': [60.0, 1], 'ISIC_0028581': [25.0, 1], 'ISIC_0028582': [60.0, -1], 'ISIC_0028583': [65.0, -1], 'ISIC_0028584': [70.0, 1], 'ISIC_0028585': [30.0, -1], 'ISIC_0028586': [30.0, 1], 'ISIC_0028587': [80.0, -1], 'ISIC_0028588': [70.0, -1], 'ISIC_0028589': [75.0, -1], 'ISIC_0028590': [65.0, -1], 'ISIC_0028591': [5.0, 1], 'ISIC_0028592': [20.0, -1], 'ISIC_0028593': [55.0, 1], 'ISIC_0028594': [35.0, 1], 'ISIC_0028595': [65.0, -1], 'ISIC_0028596': [50.0, 1], 'ISIC_0028597': [40.0, 1], 'ISIC_0028598': [40.0, 1], 'ISIC_0028599': [70.0, -1], 'ISIC_0028600': [65.0, 1], 'ISIC_0028601': [40.0, -1], 'ISIC_0028602': [30.0, 1], 'ISIC_0028603': [35.0, 1], 'ISIC_0028604': [45.0, 1], 'ISIC_0028605': [30.0, 1], 'ISIC_0028606': [30.0, 1], 'ISIC_0028607': [65.0, -1], 'ISIC_0028608': [30.0, 1], 'ISIC_0028609': [55.0, 1], 'ISIC_0028610': [75.0, 1], 'ISIC_0028611': [80.0, 1], 'ISIC_0028612': [75.0, 1], 'ISIC_0028613': [35.0, -1], 'ISIC_0028614': [30.0, 1], 'ISIC_0028615': [40.0, -1], 'ISIC_0028616': [60.0, 1], 'ISIC_0028617': [70.0, 1], 'ISIC_0028618': [70.0, -1], 'ISIC_0028619': [60.0, 1], 'ISIC_0028620': [35.0, 1], 'ISIC_0028621': [25.0, 1], 'ISIC_0028622': [60.0, 1], 'ISIC_0028623': [30.0, 1], 'ISIC_0028624': [45.0, -1], 'ISIC_0028625': [65.0, -1], 'ISIC_0028626': [45.0, -1], 'ISIC_0028627': [45.0, -1], 'ISIC_0028628': [75.0, -1], 'ISIC_0028629': [70.0, -1], 'ISIC_0028630': [30.0, -1], 'ISIC_0028631': [30.0, -1], 'ISIC_0028632': [60.0, -1], 'ISIC_0028633': [55.0, 1], 'ISIC_0028634': [60.0, -1], 'ISIC_0028635': [20.0, 1], 'ISIC_0028636': [20.0, 1], 'ISIC_0028637': [65.0, -1], 'ISIC_0028638': [35.0, -1], 'ISIC_0028639': [50.0, -1], 'ISIC_0028640': [70.0, -1], 'ISIC_0028641': [45.0, -1], 'ISIC_0028642': [40.0, -1], 'ISIC_0028643': [60.0, -1], 'ISIC_0028644': [65.0, 1], 'ISIC_00286441': [65.0, 1], 'ISIC_0028645': [75.0, -1], 'ISIC_0028646': [75.0, -1], 'ISIC_0028647': [40.0, 1], 'ISIC_0028648': [20.0, 1], 'ISIC_0028649': [60.0, -1], 'ISIC_0028650': [85.0, 1], 'ISIC_0028651': [55.0, 1], 'ISIC_00286511': [55.0, 1], 'ISIC_00286512': [55.0, 1], 'ISIC_00286513': [55.0, 1], 'ISIC_0028652': [65.0, -1], 'ISIC_0028653': [50.0, 1], 'ISIC_0028654': [35.0, -1], 'ISIC_0028655': [55.0, -1], 'ISIC_0028656': [50.0, 1], 'ISIC_0028657': [70.0, -1], 'ISIC_0028658': [10.0, -1], 'ISIC_0028659': [70.0, 1], 'ISIC_00286591': [70.0, 1], 'ISIC_0028660': [45.0, -1], 'ISIC_0028661': [55.0, -1], 'ISIC_0028662': [75.0, 1], 'ISIC_0028663': [60.0, 1], 'ISIC_0028664': [45.0, -1], 'ISIC_0028665': [50.0, 1], 'ISIC_0028666': [75.0, -1], 'ISIC_0028667': [45.0, 1], 'ISIC_0028668': [45.0, 1], 'ISIC_0028669': [45.0, -1], 'ISIC_0028670': [65.0, -1], 'ISIC_0028671': [55.0, -1], 'ISIC_0028672': [50.0, 1], 'ISIC_0028673': [45.0, 1], 'ISIC_0028674': [60.0, 1], 'ISIC_0028675': [40.0, 1], 'ISIC_0028676': [60.0, -1], 'ISIC_0028677': [70.0, -1], 'ISIC_0028678': [10.0, 1], 'ISIC_0028679': [25.0, 1], 'ISIC_0028680': [45.0, 1], 'ISIC_00286801': [45.0, 1], 'ISIC_00286802': [45.0, 1], 'ISIC_0028681': [70.0, 1], 'ISIC_0028682': [25.0, 1], 'ISIC_0028683': [50.0, 1], 'ISIC_0028684': [30.0, 1], 'ISIC_0028685': [55.0, -1], 'ISIC_0028686': [45.0, 1], 'ISIC_0028687': [80.0, 1], 'ISIC_0028688': [60.0, -1], 'ISIC_0028689': [30.0, -1], 'ISIC_0028690': [55.0, -1], 'ISIC_0028691': [50.0, 1], 'ISIC_0028692': [45.0, 1], 'ISIC_0028693': [75.0, 1], 'ISIC_0028694': [40.0, 1], 'ISIC_0028695': [75.0, 1], 'ISIC_0028696': [75.0, -1], 'ISIC_0028697': [80.0, -1], 'ISIC_0028698': [60.0, 1], 'ISIC_0028699': [35.0, -1], 'ISIC_0028700': [70.0, -1], 'ISIC_0028701': [55.0, 1], 'ISIC_0028702': [60.0, -1], 'ISIC_0028703': [45.0, 1], 'ISIC_0028704': [60.0, -1], 'ISIC_0028705': [40.0, 1], 'ISIC_0028706': [70.0, 1], 'ISIC_0028707': [60.0, -1], 'ISIC_0028708': [45.0, -1], 'ISIC_0028709': [50.0, -1], 'ISIC_0028710': [45.0, 1], 'ISIC_0028711': [55.0, -1], 'ISIC_0028712': [65.0, 1], 'ISIC_0028713': [45.0, -1], 'ISIC_0028714': [60.0, 1], 'ISIC_00287141': [60.0, 1], 'ISIC_00287142': [60.0, 1], 'ISIC_00287143': [60.0, 1], 'ISIC_0028715': [60.0, 1], 'ISIC_0028716': [40.0, 1], 'ISIC_0028717': [55.0, -1], 'ISIC_0028718': [35.0, 1], 'ISIC_0028719': [80.0, -1], 'ISIC_0028720': [5.0, -1], 'ISIC_0028721': [55.0, -1], 'ISIC_0028722': [40.0, -1], 'ISIC_0028723': [30.0, 1], 'ISIC_0028724': [45.0, 1], 'ISIC_0028725': [40.0, -1], 'ISIC_0028726': [40.0, -1], 'ISIC_0028727': [50.0, -1], 'ISIC_0028728': [40.0, 1], 'ISIC_0028729': [40.0, 1], 'ISIC_0028730': [65.0, -1], 'ISIC_00287301': [65.0, -1], 'ISIC_0028731': [75.0, 1], 'ISIC_0028732': [70.0, -1], 'ISIC_0028733': [45.0, -1], 'ISIC_0028734': [20.0, 1], 'ISIC_0028735': [30.0, -1], 'ISIC_00287351': [30.0, -1], 'ISIC_00287352': [30.0, -1], 'ISIC_00287353': [30.0, -1], 'ISIC_0028736': [55.0, -1], 'ISIC_0028737': [65.0, -1], 'ISIC_0028738': [45.0, 1], 'ISIC_0028739': [70.0, -1], 'ISIC_0028740': [65.0, -1], 'ISIC_0028741': [45.0, -1], 'ISIC_0028742': [50.0, -1], 'ISIC_0028743': [30.0, 1], 'ISIC_0028744': [50.0, -1], 'ISIC_0028745': [60.0, 1], 'ISIC_0028746': [70.0, -1], 'ISIC_0028747': [85.0, -1], 'ISIC_0028748': [50.0, -1], 'ISIC_0028749': [65.0, -1], 'ISIC_0028750': [55.0, 1], 'ISIC_0028751': [35.0, 1], 'ISIC_0028752': [45.0, 1], 'ISIC_0028753': [55.0, -1], 'ISIC_0028754': [45.0, -1], 'ISIC_0028755': [70.0, 1], 'ISIC_0028756': [5.0, -1], 'ISIC_0028757': [75.0, 1], 'ISIC_0028758': [75.0, -1], 'ISIC_0028759': [25.0, -1], 'ISIC_0028760': [30.0, 1], 'ISIC_0028761': [45.0, 1], 'ISIC_0028762': [35.0, 1], 'ISIC_0028763': [85.0, -1], 'ISIC_0028764': [65.0, 1], 'ISIC_0028765': [80.0, -1], 'ISIC_0028766': [30.0, -1], 'ISIC_0028767': [5.0, -1], 'ISIC_0028768': [75.0, 1], 'ISIC_0028769': [65.0, -1], 'ISIC_0028770': [50.0, 1], 'ISIC_0028771': [80.0, -1], 'ISIC_0028772': [55.0, 1], 'ISIC_0028773': [70.0, -1], 'ISIC_0028774': [65.0, -1], 'ISIC_0028775': [50.0, -1], 'ISIC_0028776': [55.0, -1], 'ISIC_0028777': [60.0, -1], 'ISIC_0028778': [55.0, 1], 'ISIC_0028779': [65.0, 1], 'ISIC_0028780': [25.0, -1], 'ISIC_0028781': [45.0, -1], 'ISIC_0028782': [45.0, -1], 'ISIC_0028783': [40.0, -1], 'ISIC_0028784': [65.0, 1], 'ISIC_0028785': [30.0, 1], 'ISIC_0028786': [65.0, 1], 'ISIC_0028787': [65.0, -1], 'ISIC_0028788': [65.0, -1], 'ISIC_0028789': [45.0, 1], 'ISIC_0028790': [75.0, -1], 'ISIC_00287901': [75.0, -1], 'ISIC_00287902': [75.0, -1], 'ISIC_00287903': [75.0, -1], 'ISIC_00287904': [75.0, -1], 'ISIC_0028791': [30.0, -1], 'ISIC_0028792': [65.0, -1], 'ISIC_0028793': [30.0, 1], 'ISIC_0028794': [50.0, -1], 'ISIC_0028795': [50.0, -1], 'ISIC_00287951': [50.0, -1], 'ISIC_0028796': [35.0, 1], 'ISIC_0028797': [75.0, -1], 'ISIC_0028798': [65.0, 1], 'ISIC_0028799': [40.0, -1], 'ISIC_0028800': [60.0, -1], 'ISIC_0028801': [50.0, -1], 'ISIC_0028802': [50.0, 1], 'ISIC_0028803': [45.0, -1], 'ISIC_0028804': [75.0, 1], 'ISIC_0028805': [50.0, 1], 'ISIC_0028806': [50.0, 1], 'ISIC_0028807': [70.0, -1], 'ISIC_0028808': [60.0, -1], 'ISIC_0028809': [65.0, -1], 'ISIC_0028810': [45.0, -1], 'ISIC_0028811': [40.0, 1], 'ISIC_0028812': [45.0, 1], 'ISIC_0028813': [40.0, -1], 'ISIC_0028814': [70.0, -1], 'ISIC_0028815': [70.0, 1], 'ISIC_0028816': [60.0, -1], 'ISIC_00288161': [60.0, -1], 'ISIC_0028817': [60.0, -1], 'ISIC_0028818': [70.0, -1], 'ISIC_0028819': [45.0, -1], 'ISIC_0028820': [80.0, -1], 'ISIC_0028821': [55.0, -1], 'ISIC_0028822': [65.0, -1], 'ISIC_0028823': [25.0, -1], 'ISIC_0028824': [50.0, 1], 'ISIC_0028825': [30.0, 1], 'ISIC_0028826': [70.0, -1], 'ISIC_0028827': [45.0, 1], 'ISIC_0028828': [70.0, -1], 'ISIC_0028829': [45.0, -1], 'ISIC_0028830': [65.0, -1], 'ISIC_0028831': [35.0, -1], 'ISIC_0028832': [55.0, -1], 'ISIC_0028833': [50.0, 1], 'ISIC_0028834': [50.0, -1], 'ISIC_0028835': [25.0, 1], 'ISIC_0028836': [20.0, 1], 'ISIC_0028837': [60.0, -1], 'ISIC_0028838': [65.0, -1], 'ISIC_0028839': [40.0, 1], 'ISIC_0028840': [60.0, -1], 'ISIC_0028841': [50.0, -1], 'ISIC_0028842': [70.0, -1], 'ISIC_0028843': [35.0, 1], 'ISIC_0028844': [30.0, 1], 'ISIC_0028845': [35.0, -1], 'ISIC_0028846': [45.0, -1], 'ISIC_0028847': [75.0, -1], 'ISIC_0028848': [50.0, 1], 'ISIC_0028849': [55.0, 1], 'ISIC_0028850': [40.0, 1], 'ISIC_0028851': [35.0, -1], 'ISIC_0028852': [20.0, -1], 'ISIC_0028853': [35.0, 1], 'ISIC_0028854': [60.0, -1], 'ISIC_00288541': [60.0, -1], 'ISIC_0028855': [40.0, -1], 'ISIC_0028856': [65.0, -1], 'ISIC_0028857': [85.0, -1], 'ISIC_0028858': [55.0, -1], 'ISIC_0028859': [60.0, -1], 'ISIC_0028860': [65.0, -1], 'ISIC_0028861': [55.0, -1], 'ISIC_0028862': [50.0, 1], 'ISIC_0028863': [45.0, -1], 'ISIC_0028864': [40.0, 1], 'ISIC_0028865': [45.0, -1], 'ISIC_0028866': [55.0, 1], 'ISIC_0028867': [45.0, 1], 'ISIC_0028868': [30.0, -1], 'ISIC_0028869': [40.0, 1], 'ISIC_0028870': [80.0, -1], 'ISIC_0028871': [80.0, -1], 'ISIC_0028872': [55.0, -1], 'ISIC_00288721': [55.0, -1], 'ISIC_0028873': [70.0, 1], 'ISIC_0028874': [20.0, -1], 'ISIC_0028875': [70.0, -1], 'ISIC_0028876': [75.0, 1], 'ISIC_0028877': [70.0, 1], 'ISIC_0028878': [55.0, -1], 'ISIC_0028879': [55.0, -1], 'ISIC_0028880': [55.0, -1], 'ISIC_00288801': [55.0, -1], 'ISIC_00288802': [55.0, -1], 'ISIC_00288803': [55.0, -1], 'ISIC_00288804': [55.0, -1], 'ISIC_0028881': [75.0, -1], 'ISIC_0028882': [35.0, -1], 'ISIC_0028883': [45.0, 1], 'ISIC_0028884': [30.0, 1], 'ISIC_0028885': [75.0, -1], 'ISIC_00288851': [75.0, -1], 'ISIC_00288852': [75.0, -1], 'ISIC_0028886': [60.0, 1], 'ISIC_0028887': [45.0, 1], 'ISIC_0028888': [50.0, -1], 'ISIC_0028889': [65.0, 1], 'ISIC_0028890': [65.0, -1], 'ISIC_0028891': [25.0, 1], 'ISIC_0028892': [40.0, -1], 'ISIC_0028893': [35.0, -1], 'ISIC_0028894': [60.0, 1], 'ISIC_0028895': [55.0, 1], 'ISIC_0028896': [35.0, -1], 'ISIC_0028897': [75.0, 1], 'ISIC_0028898': [60.0, 1], 'ISIC_0028899': [70.0, -1], 'ISIC_0028900': [70.0, -1], 'ISIC_0028901': [35.0, 1], 'ISIC_0028902': [40.0, 1], 'ISIC_0028903': [0.0, 1], 'ISIC_0028904': [55.0, 1], 'ISIC_0028905': [20.0, 1], 'ISIC_0028906': [65.0, 1], 'ISIC_0028907': [40.0, 1], 'ISIC_0028908': [60.0, 1], 'ISIC_0028909': [25.0, 1], 'ISIC_0028910': [40.0, 1], 'ISIC_0028911': [40.0, 1], 'ISIC_0028912': [50.0, 1], 'ISIC_0028913': [65.0, -1], 'ISIC_0028914': [45.0, 1], 'ISIC_0028915': [50.0, -1], 'ISIC_0028916': [60.0, 1], 'ISIC_0028917': [65.0, 1], 'ISIC_0028918': [25.0, -1], 'ISIC_0028919': [60.0, -1], 'ISIC_0028920': [75.0, -1], 'ISIC_0028921': [75.0, -1], 'ISIC_0028922': [80.0, -1], 'ISIC_0028923': [65.0, -1], 'ISIC_0028924': [55.0, -1], 'ISIC_0028925': [70.0, 1], 'ISIC_0028926': [65.0, -1], 'ISIC_00289261': [65.0, -1], 'ISIC_00289262': [65.0, -1], 'ISIC_00289263': [65.0, -1], 'ISIC_00289264': [65.0, -1], 'ISIC_0028927': [70.0, -1], 'ISIC_0028928': [55.0, 1], 'ISIC_0028929': [65.0, 1], 'ISIC_0028930': [55.0, 1], 'ISIC_0028931': [70.0, -1], 'ISIC_0028932': [40.0, -1], 'ISIC_0028933': [35.0, -1], 'ISIC_0028934': [80.0, -1], 'ISIC_0028935': [50.0, 1], 'ISIC_0028936': [65.0, -1], 'ISIC_0028937': [80.0, -1], 'ISIC_0028938': [0.0, 1], 'ISIC_0028939': [55.0, 1], 'ISIC_0028940': [55.0, 1], 'ISIC_0028941': [70.0, 1], 'ISIC_0028942': [55.0, 1], 'ISIC_0028943': [70.0, -1], 'ISIC_0028944': [40.0, 1], 'ISIC_0028945': [65.0, -1], 'ISIC_0028946': [40.0, -1], 'ISIC_0028947': [35.0, -1], 'ISIC_0028948': [35.0, 1], 'ISIC_0028949': [40.0, -1], 'ISIC_0028950': [40.0, 1], 'ISIC_0028951': [45.0, -1], 'ISIC_0028952': [40.0, 1], 'ISIC_0028953': [40.0, -1], 'ISIC_0028954': [55.0, 1], 'ISIC_0028955': [35.0, -1], 'ISIC_0028956': [30.0, 1], 'ISIC_0028957': [35.0, -1], 'ISIC_0028958': [60.0, 1], 'ISIC_0028959': [45.0, -1], 'ISIC_0028960': [35.0, 1], 'ISIC_0028961': [30.0, 1], 'ISIC_0028962': [45.0, -1], 'ISIC_0028963': [30.0, 1], 'ISIC_0028964': [45.0, -1], 'ISIC_0028965': [50.0, -1], 'ISIC_0028966': [10.0, 1], 'ISIC_0028967': [45.0, 1], 'ISIC_0028968': [55.0, -1], 'ISIC_0028969': [75.0, -1], 'ISIC_0028970': [65.0, 1], 'ISIC_0028971': [35.0, 1], 'ISIC_0028972': [70.0, -1], 'ISIC_0028973': [85.0, 1], 'ISIC_0028974': [55.0, -1], 'ISIC_0028975': [40.0, 1], 'ISIC_0028976': [70.0, 1], 'ISIC_0028977': [50.0, 1], 'ISIC_0028978': [40.0, 1], 'ISIC_0028979': [40.0, -1], 'ISIC_0028980': [85.0, -1], 'ISIC_0028981': [25.0, 1], 'ISIC_0028982': [30.0, 1], 'ISIC_0028983': [35.0, 1], 'ISIC_0028984': [50.0, -1], 'ISIC_0028985': [45.0, 1], 'ISIC_0028986': [65.0, 1], 'ISIC_0028987': [60.0, 1], 'ISIC_0028988': [25.0, -1], 'ISIC_0028989': [65.0, -1], 'ISIC_0028990': [70.0, -1], 'ISIC_0028991': [45.0, 1], 'ISIC_0028992': [55.0, -1], 'ISIC_0028993': [60.0, 1], 'ISIC_0028994': [85.0, -1], 'ISIC_0028995': [60.0, 1], 'ISIC_0028996': [60.0, 1], 'ISIC_0028997': [35.0, 1], 'ISIC_0028998': [35.0, -1], 'ISIC_0028999': [70.0, -1], 'ISIC_0029000': [45.0, -1], 'ISIC_0029001': [45.0, -1], 'ISIC_0029002': [55.0, -1], 'ISIC_0029003': [75.0, -1], 'ISIC_0029004': [65.0, 1], 'ISIC_0029005': [45.0, -1], 'ISIC_0029006': [40.0, -1], 'ISIC_0029007': [45.0, 1], 'ISIC_0029008': [45.0, -1], 'ISIC_0029009': [30.0, -1], 'ISIC_0029010': [55.0, -1], 'ISIC_0029011': [40.0, 1], 'ISIC_0029012': [45.0, -1], 'ISIC_0029013': [45.0, 1], 'ISIC_0029014': [70.0, 1], 'ISIC_0029015': [45.0, -1], 'ISIC_0029016': [40.0, 1], 'ISIC_0029017': [45.0, 1], 'ISIC_0029018': [0.0, -1], 'ISIC_0029019': [40.0, -1], 'ISIC_0029020': [50.0, -1], 'ISIC_0029021': [65.0, 1], 'ISIC_0029022': [70.0, -1], 'ISIC_0029023': [45.0, -1], 'ISIC_0029024': [45.0, -1], 'ISIC_0029025': [70.0, -1], 'ISIC_0029026': [40.0, -1], 'ISIC_0029027': [30.0, 1], 'ISIC_0029028': [85.0, 1], 'ISIC_0029029': [60.0, 1], 'ISIC_0029030': [55.0, 1], 'ISIC_0029031': [50.0, -1], 'ISIC_0029032': [75.0, -1], 'ISIC_0029033': [30.0, 1], 'ISIC_0029034': [75.0, -1], 'ISIC_0029035': [70.0, -1], 'ISIC_0029036': [70.0, 1], 'ISIC_0029037': [35.0, 1], 'ISIC_0029038': [70.0, -1], 'ISIC_0029039': [50.0, 1], 'ISIC_00290391': [50.0, 1], 'ISIC_00290392': [50.0, 1], 'ISIC_00290393': [50.0, 1], 'ISIC_00290394': [50.0, 1], 'ISIC_0029040': [40.0, -1], 'ISIC_0029041': [80.0, -1], 'ISIC_00290411': [80.0, -1], 'ISIC_0029042': [35.0, -1], 'ISIC_0029043': [70.0, -1], 'ISIC_0029044': [50.0, -1], 'ISIC_0029045': [35.0, 1], 'ISIC_0029046': [65.0, -1], 'ISIC_0029047': [70.0, -1], 'ISIC_0029048': [45.0, 1], 'ISIC_0029049': [0.0, -1], 'ISIC_0029050': [35.0, 1], 'ISIC_0029051': [65.0, -1], 'ISIC_0029052': [75.0, 1], 'ISIC_00290521': [75.0, 1], 'ISIC_00290522': [75.0, 1], 'ISIC_00290523': [75.0, 1], 'ISIC_0029053': [75.0, 1], 'ISIC_0029054': [45.0, -1], 'ISIC_0029055': [35.0, 1], 'ISIC_0029056': [85.0, -1], 'ISIC_0029057': [45.0, -1], 'ISIC_0029058': [50.0, -1], 'ISIC_0029059': [80.0, 1], 'ISIC_00290591': [80.0, 1], 'ISIC_0029060': [80.0, -1], 'ISIC_0029061': [70.0, 1], 'ISIC_0029062': [65.0, 1], 'ISIC_0029063': [55.0, -1], 'ISIC_0029064': [60.0, 1], 'ISIC_0029065': [40.0, 1], 'ISIC_0029066': [35.0, -1], 'ISIC_0029067': [65.0, -1], 'ISIC_00290671': [65.0, -1], 'ISIC_0029068': [60.0, -1], 'ISIC_0029069': [30.0, 1], 'ISIC_0029070': [65.0, -1], 'ISIC_0029071': [50.0, 1], 'ISIC_0029072': [30.0, 1], 'ISIC_0029073': [60.0, -1], 'ISIC_0029074': [40.0, 1], 'ISIC_0029075': [45.0, 1], 'ISIC_0029076': [80.0, -1], 'ISIC_0029077': [30.0, 1], 'ISIC_0029078': [60.0, -1], 'ISIC_0029079': [50.0, -1], 'ISIC_0029080': [70.0, -1], 'ISIC_0029081': [70.0, -1], 'ISIC_0029082': [85.0, 1], 'ISIC_0029083': [70.0, -1], 'ISIC_0029084': [45.0, -1], 'ISIC_0029085': [65.0, 1], 'ISIC_0029086': [50.0, 1], 'ISIC_0029087': [60.0, -1], 'ISIC_0029088': [60.0, 1], 'ISIC_0029089': [70.0, -1], 'ISIC_0029090': [45.0, -1], 'ISIC_0029091': [5.0, -1], 'ISIC_0029092': [65.0, 1], 'ISIC_0029093': [70.0, -1], 'ISIC_0029094': [45.0, 1], 'ISIC_0029095': [20.0, 1], 'ISIC_0029096': [30.0, 1], 'ISIC_0029097': [30.0, -1], 'ISIC_0029098': [40.0, -1], 'ISIC_0029099': [70.0, 1], 'ISIC_00290991': [70.0, 1], 'ISIC_00290992': [70.0, 1], 'ISIC_0029100': [65.0, -1], 'ISIC_0029101': [50.0, -1], 'ISIC_0029102': [80.0, -1], 'ISIC_0029103': [40.0, 1], 'ISIC_0029104': [40.0, 1], 'ISIC_0029105': [45.0, 1], 'ISIC_0029106': [55.0, 1], 'ISIC_0029107': [80.0, -1], 'ISIC_0029108': [35.0, 1], 'ISIC_0029109': [20.0, 1], 'ISIC_0029110': [35.0, -1], 'ISIC_0029111': [45.0, 1], 'ISIC_0029112': [25.0, 1], 'ISIC_0029113': [55.0, -1], 'ISIC_0029114': [60.0, 1], 'ISIC_0029115': [60.0, 1], 'ISIC_0029116': [50.0, 1], 'ISIC_0029117': [50.0, 1], 'ISIC_0029118': [55.0, -1], 'ISIC_0029119': [55.0, -1], 'ISIC_0029120': [70.0, -1], 'ISIC_0029121': [60.0, -1], 'ISIC_0029122': [65.0, 1], 'ISIC_0029123': [80.0, -1], 'ISIC_0029124': [50.0, -1], 'ISIC_0029125': [55.0, 1], 'ISIC_0029126': [60.0, -1], 'ISIC_0029127': [55.0, 1], 'ISIC_0029128': [75.0, -1], 'ISIC_0029129': [85.0, -1], 'ISIC_0029130': [70.0, -1], 'ISIC_00291301': [70.0, -1], 'ISIC_00291302': [70.0, -1], 'ISIC_00291303': [70.0, -1], 'ISIC_0029131': [35.0, -1], 'ISIC_0029132': [55.0, -1], 'ISIC_0029133': [65.0, 1], 'ISIC_0029134': [30.0, -1], 'ISIC_0029135': [75.0, -1], 'ISIC_0029136': [55.0, -1], 'ISIC_0029137': [70.0, -1], 'ISIC_0029138': [20.0, 1], 'ISIC_0029139': [60.0, -1], 'ISIC_0029140': [25.0, -1], 'ISIC_0029141': [60.0, 1], 'ISIC_0029142': [55.0, -1], 'ISIC_0029143': [15.0, 1], 'ISIC_0029144': [55.0, 1], 'ISIC_0029145': [45.0, -1], 'ISIC_0029146': [65.0, -1], 'ISIC_0029147': [75.0, -1], 'ISIC_0029148': [40.0, -1], 'ISIC_0029149': [45.0, 1], 'ISIC_0029150': [50.0, 1], 'ISIC_0029151': [55.0, 1], 'ISIC_0029152': [40.0, -1], 'ISIC_0029153': [55.0, -1], 'ISIC_0029154': [40.0, 1], 'ISIC_0029155': [50.0, -1], 'ISIC_0029156': [55.0, 1], 'ISIC_0029157': [60.0, -1], 'ISIC_0029158': [45.0, 1], 'ISIC_0029159': [35.0, -1], 'ISIC_0029160': [60.0, 1], 'ISIC_0029161': [60.0, -1], 'ISIC_0029162': [50.0, 1], 'ISIC_0029163': [80.0, -1], 'ISIC_0029164': [65.0, -1], 'ISIC_0029165': [55.0, -1], 'ISIC_0029166': [60.0, 1], 'ISIC_0029167': [60.0, 1], 'ISIC_0029168': [50.0, 1], 'ISIC_0029169': [45.0, 1], 'ISIC_0029170': [65.0, 1], 'ISIC_0029171': [55.0, 1], 'ISIC_0029172': [70.0, -1], 'ISIC_0029173': [65.0, -1], 'ISIC_0029174': [80.0, -1], 'ISIC_0029175': [55.0, 1], 'ISIC_0029176': [60.0, -1], 'ISIC_0029177': [35.0, 1], 'ISIC_00291771': [35.0, 1], 'ISIC_00291772': [35.0, 1], 'ISIC_00291773': [35.0, 1], 'ISIC_0029178': [50.0, 1], 'ISIC_0029179': [45.0, -1], 'ISIC_0029180': [70.0, -1], 'ISIC_0029181': [40.0, 1], 'ISIC_0029182': [60.0, -1], 'ISIC_0029183': [80.0, -1], 'ISIC_0029184': [45.0, 1], 'ISIC_0029185': [40.0, -1], 'ISIC_0029186': [35.0, -1], 'ISIC_0029187': [35.0, 1], 'ISIC_0029188': [60.0, 1], 'ISIC_0029189': [40.0, 1], 'ISIC_0029190': [45.0, 1], 'ISIC_0029191': [45.0, 1], 'ISIC_0029192': [85.0, 1], 'ISIC_0029193': [85.0, -1], 'ISIC_0029194': [30.0, -1], 'ISIC_0029195': [75.0, 1], 'ISIC_0029196': [25.0, -1], 'ISIC_0029197': [55.0, -1], 'ISIC_0029198': [65.0, 1], 'ISIC_0029199': [40.0, -1], 'ISIC_0029200': [65.0, -1], 'ISIC_0029201': [35.0, -1], 'ISIC_0029202': [35.0, -1], 'ISIC_0029203': [30.0, 1], 'ISIC_0029204': [50.0, 1], 'ISIC_0029205': [50.0, 1], 'ISIC_0029206': [65.0, 1], 'ISIC_0029207': [45.0, 1], 'ISIC_0029208': [35.0, -1], 'ISIC_0029209': [50.0, -1], 'ISIC_0029210': [40.0, -1], 'ISIC_00292101': [40.0, -1], 'ISIC_0029211': [75.0, -1], 'ISIC_0029212': [75.0, 1], 'ISIC_0029213': [80.0, -1], 'ISIC_0029214': [45.0, 1], 'ISIC_0029215': [35.0, -1], 'ISIC_0029216': [80.0, -1], 'ISIC_0029217': [35.0, -1], 'ISIC_0029218': [70.0, 1], 'ISIC_0029219': [80.0, -1], 'ISIC_0029220': [80.0, -1], 'ISIC_0029221': [80.0, -1], 'ISIC_0029222': [15.0, 1], 'ISIC_0029223': [50.0, -1], 'ISIC_0029224': [65.0, -1], 'ISIC_0029225': [55.0, -1], 'ISIC_0029226': [60.0, -1], 'ISIC_0029227': [70.0, -1], 'ISIC_0029228': [35.0, -1], 'ISIC_0029229': [40.0, -1], 'ISIC_0029230': [50.0, -1], 'ISIC_0029231': [25.0, 1], 'ISIC_0029232': [85.0, 1], 'ISIC_0029233': [75.0, 1], 'ISIC_0029234': [35.0, -1], 'ISIC_0029235': [80.0, -1], 'ISIC_0029236': [65.0, 1], 'ISIC_0029237': [35.0, -1], 'ISIC_0029238': [65.0, -1], 'ISIC_0029239': [45.0, 1], 'ISIC_0029240': [25.0, 1], 'ISIC_0029241': [70.0, -1], 'ISIC_0029242': [85.0, -1], 'ISIC_0029243': [55.0, 1], 'ISIC_0029244': [45.0, 1], 'ISIC_0029245': [65.0, -1], 'ISIC_0029246': [40.0, 1], 'ISIC_0029247': [0.0, -1], 'ISIC_0029248': [55.0, -1], 'ISIC_00292481': [55.0, -1], 'ISIC_00292482': [55.0, -1], 'ISIC_00292483': [55.0, -1], 'ISIC_00292484': [55.0, -1], 'ISIC_0029249': [75.0, 1], 'ISIC_0029250': [50.0, -1], 'ISIC_0029251': [70.0, 1], 'ISIC_0029252': [65.0, -1], 'ISIC_0029253': [65.0, 1], 'ISIC_0029254': [50.0, -1], 'ISIC_0029255': [55.0, 1], 'ISIC_0029256': [50.0, -1], 'ISIC_0029257': [70.0, -1], 'ISIC_0029258': [55.0, -1], 'ISIC_0029259': [35.0, -1], 'ISIC_0029260': [70.0, -1], 'ISIC_0029261': [55.0, 1], 'ISIC_0029262': [55.0, 1], 'ISIC_0029263': [60.0, -1], 'ISIC_0029264': [75.0, -1], 'ISIC_0029265': [85.0, -1], 'ISIC_0029266': [45.0, 1], 'ISIC_0029267': [40.0, 1], 'ISIC_0029268': [85.0, -1], 'ISIC_0029269': [30.0, 1], 'ISIC_0029270': [55.0, 1], 'ISIC_0029271': [60.0, 1], 'ISIC_0029272': [60.0, 1], 'ISIC_0029273': [50.0, 1], 'ISIC_0029274': [45.0, -1], 'ISIC_0029275': [35.0, -1], 'ISIC_0029276': [25.0, -1], 'ISIC_0029277': [30.0, -1], 'ISIC_0029278': [60.0, -1], 'ISIC_0029279': [80.0, -1], 'ISIC_00292791': [80.0, -1], 'ISIC_0029280': [45.0, 1], 'ISIC_0029281': [35.0, 1], 'ISIC_0029282': [55.0, -1], 'ISIC_0029283': [50.0, 1], 'ISIC_0029284': [45.0, 1], 'ISIC_0029285': [45.0, -1], 'ISIC_0029286': [40.0, 1], 'ISIC_0029287': [50.0, -1], 'ISIC_0029288': [75.0, 1], 'ISIC_0029289': [60.0, 1], 'ISIC_0029290': [45.0, 1], 'ISIC_0029291': [40.0, -1], 'ISIC_0029292': [45.0, -1], 'ISIC_0029293': [50.0, -1], 'ISIC_0029294': [40.0, 1], 'ISIC_0029295': [40.0, -1], 'ISIC_0029296': [40.0, 1], 'ISIC_0029297': [40.0, 1], 'ISIC_00292971': [40.0, 1], 'ISIC_00292972': [40.0, 1], 'ISIC_00292973': [40.0, 1], 'ISIC_0029298': [65.0, 1], 'ISIC_0029299': [55.0, 1], 'ISIC_0029300': [45.0, -1], 'ISIC_0029301': [45.0, -1], 'ISIC_0029302': [45.0, 1], 'ISIC_0029303': [50.0, -1], 'ISIC_0029304': [35.0, -1], 'ISIC_0029305': [40.0, -1], 'ISIC_0029306': [35.0, 1], 'ISIC_0029307': [50.0, 1], 'ISIC_0029308': [60.0, 1], 'ISIC_0029309': [80.0, -1], 'ISIC_0029310': [40.0, 1], 'ISIC_0029311': [60.0, 1], 'ISIC_0029312': [70.0, 1], 'ISIC_0029313': [30.0, -1], 'ISIC_0029314': [50.0, -1], 'ISIC_0029315': [75.0, -1], 'ISIC_00293151': [75.0, -1], 'ISIC_0029316': [45.0, 1], 'ISIC_0029317': [45.0, 1], 'ISIC_0029318': [60.0, 1], 'ISIC_0029319': [85.0, -1], 'ISIC_0029320': [0.0, -1], 'ISIC_0029321': [60.0, -1], 'ISIC_0029322': [50.0, 1], 'ISIC_0029323': [75.0, -1], 'ISIC_0029324': [55.0, 1], 'ISIC_0029325': [45.0, -1], 'ISIC_0029326': [30.0, -1], 'ISIC_0029327': [70.0, 1], 'ISIC_0029328': [10.0, -1], 'ISIC_0029329': [85.0, -1], 'ISIC_0029330': [50.0, 1], 'ISIC_0029331': [50.0, -1], 'ISIC_0029332': [65.0, -1], 'ISIC_0029333': [40.0, -1], 'ISIC_0029334': [40.0, -1], 'ISIC_0029335': [50.0, 1], 'ISIC_0029336': [55.0, -1], 'ISIC_0029337': [75.0, -1], 'ISIC_0029338': [50.0, 1], 'ISIC_0029339': [55.0, -1], 'ISIC_0029340': [40.0, -1], 'ISIC_0029341': [70.0, -1], 'ISIC_0029342': [65.0, 1], 'ISIC_0029343': [75.0, -1], 'ISIC_0029344': [45.0, 1], 'ISIC_0029345': [80.0, -1], 'ISIC_0029346': [40.0, -1], 'ISIC_0029347': [50.0, -1], 'ISIC_0029348': [85.0, -1], 'ISIC_0029349': [25.0, 1], 'ISIC_0029350': [35.0, 1], 'ISIC_0029351': [55.0, -1], 'ISIC_0029352': [60.0, 1], 'ISIC_0029353': [60.0, -1], 'ISIC_0029354': [25.0, -1], 'ISIC_0029355': [50.0, 1], 'ISIC_0029356': [35.0, -1], 'ISIC_0029357': [50.0, 1], 'ISIC_0029358': [85.0, -1], 'ISIC_0029359': [60.0, 1], 'ISIC_0029360': [70.0, -1], 'ISIC_00293601': [70.0, -1], 'ISIC_0029361': [50.0, -1], 'ISIC_0029362': [80.0, 1], 'ISIC_00293621': [80.0, 1], 'ISIC_0029363': [80.0, -1], 'ISIC_0029364': [70.0, -1], 'ISIC_0029365': [40.0, -1], 'ISIC_0029366': [55.0, 1], 'ISIC_0029367': [45.0, 1], 'ISIC_0029368': [65.0, -1], 'ISIC_0029369': [45.0, -1], 'ISIC_0029370': [85.0, 1], 'ISIC_0029371': [45.0, -1], 'ISIC_00293711': [45.0, -1], 'ISIC_0029372': [80.0, -1], 'ISIC_0029373': [45.0, 1], 'ISIC_0029374': [55.0, -1], 'ISIC_0029375': [55.0, -1], 'ISIC_0029376': [30.0, -1], 'ISIC_0029377': [60.0, -1], 'ISIC_0029378': [45.0, 1], 'ISIC_0029379': [40.0, -1], 'ISIC_0029380': [40.0, -1], 'ISIC_0029381': [30.0, -1], 'ISIC_0029382': [75.0, -1], 'ISIC_0029383': [45.0, -1], 'ISIC_0029384': [40.0, -1], 'ISIC_0029385': [40.0, 1], 'ISIC_0029386': [60.0, -1], 'ISIC_0029387': [80.0, -1], 'ISIC_0029388': [50.0, -1], 'ISIC_0029389': [50.0, 1], 'ISIC_0029390': [65.0, -1], 'ISIC_0029391': [65.0, 1], 'ISIC_0029392': [75.0, -1], 'ISIC_0029393': [25.0, -1], 'ISIC_0029394': [55.0, 1], 'ISIC_0029395': [65.0, 1], 'ISIC_0029396': [85.0, 1], 'ISIC_0029397': [5.0, -1], 'ISIC_0029398': [35.0, 1], 'ISIC_0029399': [40.0, 1], 'ISIC_0029400': [55.0, 1], 'ISIC_0029401': [35.0, -1], 'ISIC_0029402': [30.0, -1], 'ISIC_0029403': [60.0, -1], 'ISIC_0029404': [10.0, -1], 'ISIC_00294041': [10.0, -1], 'ISIC_00294042': [10.0, -1], 'ISIC_00294043': [10.0, -1], 'ISIC_0029405': [25.0, -1], 'ISIC_0029406': [65.0, -1], 'ISIC_0029407': [40.0, -1], 'ISIC_0029408': [45.0, 1], 'ISIC_0029409': [55.0, -1], 'ISIC_0029410': [60.0, -1], 'ISIC_0029411': [50.0, -1], 'ISIC_0029412': [80.0, -1], 'ISIC_0029413': [70.0, 1], 'ISIC_0029414': [45.0, -1], 'ISIC_0029415': [65.0, -1], 'ISIC_0029416': [40.0, 1], 'ISIC_0029417': [80.0, 1], 'ISIC_00294171': [80.0, 1], 'ISIC_0029418': [50.0, -1], 'ISIC_0029419': [55.0, 1], 'ISIC_0029420': [35.0, -1], 'ISIC_0029421': [50.0, 1], 'ISIC_0029422': [75.0, -1], 'ISIC_0029423': [40.0, 1], 'ISIC_0029424': [35.0, 1], 'ISIC_0029425': [60.0, 1], 'ISIC_0029426': [50.0, 1], 'ISIC_0029427': [0.0, -1], 'ISIC_0029428': [45.0, 1], 'ISIC_0029429': [50.0, -1], 'ISIC_0029430': [45.0, -1], 'ISIC_0029431': [55.0, 1], 'ISIC_0029432': [75.0, -1], 'ISIC_0029433': [35.0, -1], 'ISIC_0029434': [70.0, -1], 'ISIC_0029435': [30.0, 1], 'ISIC_0029436': [50.0, 1], 'ISIC_0029437': [55.0, -1], 'ISIC_0029438': [65.0, 1], 'ISIC_0029439': [50.0, -1], 'ISIC_00294391': [50.0, -1], 'ISIC_00294392': [50.0, -1], 'ISIC_0029440': [60.0, -1], 'ISIC_0029441': [45.0, -1], 'ISIC_0029442': [55.0, 1], 'ISIC_0029443': [65.0, -1], 'ISIC_0029444': [50.0, 1], 'ISIC_0029445': [30.0, -1], 'ISIC_0029446': [45.0, 1], 'ISIC_0029447': [40.0, -1], 'ISIC_0029448': [5.0, -1], 'ISIC_00294481': [5.0, -1], 'ISIC_00294482': [5.0, -1], 'ISIC_00294483': [5.0, -1], 'ISIC_0029449': [55.0, 1], 'ISIC_0029450': [75.0, 1], 'ISIC_0029451': [45.0, 1], 'ISIC_0029452': [60.0, 1], 'ISIC_0029453': [40.0, 1], 'ISIC_0029454': [80.0, -1], 'ISIC_0029455': [70.0, -1], 'ISIC_0029456': [50.0, 1], 'ISIC_0029457': [20.0, 1], 'ISIC_0029458': [45.0, -1], 'ISIC_0029459': [50.0, 1], 'ISIC_0029460': [70.0, -1], 'ISIC_0029461': [45.0, -1], 'ISIC_0029462': [60.0, -1], 'ISIC_0029463': [35.0, 1], 'ISIC_0029464': [55.0, 1], 'ISIC_0029465': [75.0, 1], 'ISIC_0029466': [65.0, 1], 'ISIC_0029467': [60.0, -1], 'ISIC_0029468': [30.0, -1], 'ISIC_0029469': [35.0, -1], 'ISIC_0029470': [50.0, -1], 'ISIC_0029471': [35.0, 1], 'ISIC_0029472': [65.0, -1], 'ISIC_0029473': [70.0, -1], 'ISIC_0029474': [70.0, -1], 'ISIC_0029475': [70.0, -1], 'ISIC_0029476': [70.0, -1], 'ISIC_0029477': [85.0, -1], 'ISIC_0029478': [40.0, -1], 'ISIC_0029479': [60.0, 1], 'ISIC_0029480': [55.0, 1], 'ISIC_0029481': [35.0, -1], 'ISIC_0029482': [35.0, 1], 'ISIC_0029483': [40.0, 1], 'ISIC_0029484': [50.0, -1], 'ISIC_0029485': [45.0, 1], 'ISIC_0029486': [55.0, -1], 'ISIC_00294861': [55.0, -1], 'ISIC_00294862': [55.0, -1], 'ISIC_00294863': [55.0, -1], 'ISIC_0029487': [55.0, -1], 'ISIC_0029488': [85.0, 1], 'ISIC_0029489': [85.0, 1], 'ISIC_0029490': [50.0, 1], 'ISIC_0029491': [25.0, 1], 'ISIC_0029492': [40.0, 1], 'ISIC_0029493': [30.0, -1], 'ISIC_0029494': [50.0, 1], 'ISIC_0029495': [70.0, 1], 'ISIC_0029496': [50.0, 1], 'ISIC_0029497': [40.0, -1], 'ISIC_0029498': [60.0, 1], 'ISIC_0029499': [35.0, -1], 'ISIC_0029500': [45.0, -1], 'ISIC_0029501': [70.0, -1], 'ISIC_0029502': [50.0, 1], 'ISIC_0029503': [45.0, -1], 'ISIC_0029504': [30.0, 1], 'ISIC_0029505': [55.0, 1], 'ISIC_0029506': [60.0, -1], 'ISIC_0029507': [50.0, -1], 'ISIC_0029508': [65.0, -1], 'ISIC_0029509': [65.0, -1], 'ISIC_0029510': [45.0, -1], 'ISIC_0029511': [50.0, -1], 'ISIC_0029512': [55.0, 1], 'ISIC_0029513': [70.0, -1], 'ISIC_0029514': [55.0, 1], 'ISIC_00295141': [55.0, 1], 'ISIC_00295142': [55.0, 1], 'ISIC_00295143': [55.0, 1], 'ISIC_0029515': [80.0, -1], 'ISIC_0029516': [20.0, 1], 'ISIC_0029517': [60.0, 1], 'ISIC_0029518': [50.0, -1], 'ISIC_0029519': [60.0, -1], 'ISIC_0029520': [65.0, 1], 'ISIC_0029521': [50.0, -1], 'ISIC_0029522': [75.0, -1], 'ISIC_0029523': [45.0, 1], 'ISIC_0029524': [65.0, 1], 'ISIC_0029525': [70.0, -1], 'ISIC_0029526': [45.0, -1], 'ISIC_0029527': [75.0, 1], 'ISIC_0029528': [35.0, -1], 'ISIC_0029529': [40.0, -1], 'ISIC_0029530': [80.0, -1], 'ISIC_0029531': [35.0, 1], 'ISIC_0029532': [60.0, -1], 'ISIC_0029533': [70.0, -1], 'ISIC_00295331': [70.0, -1], 'ISIC_0029534': [65.0, -1], 'ISIC_0029535': [60.0, -1], 'ISIC_0029536': [70.0, 1], 'ISIC_0029537': [5.0, 1], 'ISIC_0029538': [80.0, -1], 'ISIC_0029539': [40.0, -1], 'ISIC_0029540': [55.0, -1], 'ISIC_0029541': [55.0, -1], 'ISIC_00295411': [55.0, -1], 'ISIC_0029542': [65.0, -1], 'ISIC_0029543': [85.0, 1], 'ISIC_0029544': [85.0, -1], 'ISIC_0029545': [55.0, 1], 'ISIC_0029546': [45.0, 1], 'ISIC_0029547': [80.0, -1], 'ISIC_0029548': [75.0, 1], 'ISIC_0029549': [70.0, -1], 'ISIC_0029550': [60.0, 1], 'ISIC_0029551': [45.0, -1], 'ISIC_0029552': [75.0, -1], 'ISIC_0029553': [35.0, -1], 'ISIC_0029554': [40.0, -1], 'ISIC_0029555': [75.0, 1], 'ISIC_0029556': [60.0, -1], 'ISIC_0029557': [70.0, 1], 'ISIC_0029558': [75.0, -1], 'ISIC_0029559': [85.0, -1], 'ISIC_0029560': [45.0, -1], 'ISIC_0029561': [50.0, 1], 'ISIC_0029562': [40.0, 1], 'ISIC_0029563': [85.0, -1], 'ISIC_00295631': [85.0, -1], 'ISIC_0029564': [55.0, 1], 'ISIC_0029565': [60.0, -1], 'ISIC_0029566': [50.0, -1], 'ISIC_0029567': [70.0, -1], 'ISIC_00295671': [70.0, -1], 'ISIC_0029568': [50.0, -1], 'ISIC_0029569': [55.0, -1], 'ISIC_0029570': [50.0, 1], 'ISIC_0029571': [55.0, 1], 'ISIC_0029572': [55.0, -1], 'ISIC_0029573': [70.0, -1], 'ISIC_0029574': [60.0, -1], 'ISIC_0029575': [45.0, -1], 'ISIC_0029576': [70.0, 1], 'ISIC_0029577': [65.0, -1], 'ISIC_0029578': [60.0, -1], 'ISIC_00295781': [60.0, -1], 'ISIC_00295782': [60.0, -1], 'ISIC_00295783': [60.0, -1], 'ISIC_00295784': [60.0, -1], 'ISIC_0029579': [30.0, 1], 'ISIC_0029580': [60.0, 1], 'ISIC_0029581': [35.0, 1], 'ISIC_0029582': [75.0, -1], 'ISIC_00295821': [75.0, -1], 'ISIC_0029583': [75.0, -1], 'ISIC_0029584': [25.0, 1], 'ISIC_0029585': [85.0, 1], 'ISIC_0029586': [60.0, 1], 'ISIC_0029587': [75.0, 1], 'ISIC_0029588': [40.0, -1], 'ISIC_0029589': [70.0, -1], 'ISIC_0029590': [45.0, 1], 'ISIC_0029591': [65.0, 1], 'ISIC_0029592': [30.0, 1], 'ISIC_0029593': [40.0, -1], 'ISIC_0029594': [50.0, -1], 'ISIC_0029595': [60.0, 1], 'ISIC_0029596': [75.0, -1], 'ISIC_0029597': [30.0, -1], 'ISIC_0029598': [55.0, -1], 'ISIC_0029599': [45.0, -1], 'ISIC_0029600': [85.0, 1], 'ISIC_0029601': [35.0, -1], 'ISIC_0029602': [60.0, 1], 'ISIC_0029603': [70.0, -1], 'ISIC_0029604': [45.0, 1], 'ISIC_0029605': [55.0, 1], 'ISIC_0029606': [40.0, 1], 'ISIC_0029607': [50.0, -1], 'ISIC_0029608': [70.0, -1], 'ISIC_00296081': [70.0, -1], 'ISIC_00296082': [70.0, -1], 'ISIC_0029609': [35.0, 1], 'ISIC_0029610': [85.0, -1], 'ISIC_00296101': [85.0, -1], 'ISIC_0029611': [55.0, -1], 'ISIC_0029612': [65.0, -1], 'ISIC_0029613': [85.0, 1], 'ISIC_0029614': [40.0, -1], 'ISIC_0029615': [35.0, -1], 'ISIC_0029616': [45.0, -1], 'ISIC_0029617': [65.0, 1], 'ISIC_0029618': [35.0, -1], 'ISIC_0029619': [45.0, 1], 'ISIC_0029620': [45.0, -1], 'ISIC_0029621': [45.0, -1], 'ISIC_0029622': [40.0, 1], 'ISIC_0029623': [45.0, -1], 'ISIC_0029624': [45.0, 1], 'ISIC_0029625': [65.0, -1], 'ISIC_0029626': [55.0, 1], 'ISIC_0029627': [75.0, 1], 'ISIC_0029628': [65.0, 1], 'ISIC_0029629': [45.0, 1], 'ISIC_0029630': [80.0, -1], 'ISIC_0029631': [50.0, -1], 'ISIC_0029632': [55.0, -1], 'ISIC_0029633': [50.0, -1], 'ISIC_0029634': [60.0, -1], 'ISIC_00296341': [60.0, -1], 'ISIC_0029635': [40.0, -1], 'ISIC_0029636': [60.0, 1], 'ISIC_0029637': [45.0, -1], 'ISIC_0029638': [75.0, 1], 'ISIC_0029639': [60.0, 1], 'ISIC_0029640': [20.0, -1], 'ISIC_0029641': [30.0, 1], 'ISIC_0029642': [60.0, 1], 'ISIC_0029643': [35.0, 1], 'ISIC_0029644': [40.0, 1], 'ISIC_0029645': [40.0, -1], 'ISIC_0029646': [20.0, 1], 'ISIC_0029647': [75.0, -1], 'ISIC_0029648': [45.0, -1], 'ISIC_0029649': [55.0, -1], 'ISIC_0029650': [40.0, 1], 'ISIC_0029651': [65.0, -1], 'ISIC_0029652': [50.0, -1], 'ISIC_0029653': [55.0, -1], 'ISIC_0029654': [25.0, 1], 'ISIC_0029655': [75.0, -1], 'ISIC_0029656': [40.0, -1], 'ISIC_0029657': [45.0, 1], 'ISIC_0029658': [45.0, -1], 'ISIC_0029659': [70.0, 1], 'ISIC_00296591': [70.0, 1], 'ISIC_0029660': [60.0, 1], 'ISIC_0029661': [80.0, 1], 'ISIC_0029662': [50.0, 1], 'ISIC_0029663': [50.0, 1], 'ISIC_0029664': [55.0, 1], 'ISIC_0029665': [45.0, -1], 'ISIC_0029666': [15.0, 1], 'ISIC_0029667': [50.0, -1], 'ISIC_0029668': [5.0, 1], 'ISIC_0029669': [65.0, 1], 'ISIC_0029670': [50.0, -1], 'ISIC_0029671': [60.0, -1], 'ISIC_0029672': [60.0, -1], 'ISIC_0029673': [55.0, -1], 'ISIC_0029674': [65.0, -1], 'ISIC_0029675': [60.0, -1], 'ISIC_0029676': [75.0, -1], 'ISIC_0029677': [35.0, -1], 'ISIC_0029678': [85.0, -1], 'ISIC_0029679': [75.0, -1], 'ISIC_0029680': [70.0, -1], 'ISIC_0029681': [65.0, -1], 'ISIC_0029682': [65.0, -1], 'ISIC_0029683': [65.0, -1], 'ISIC_0029684': [35.0, -1], 'ISIC_0029685': [50.0, 1], 'ISIC_0029686': [50.0, -1], 'ISIC_0029687': [50.0, -1], 'ISIC_0029688': [55.0, -1], 'ISIC_0029689': [65.0, 1], 'ISIC_0029690': [50.0, -1], 'ISIC_0029691': [50.0, 1], 'ISIC_0029692': [50.0, 1], 'ISIC_0029693': [55.0, -1], 'ISIC_0029694': [65.0, -1], 'ISIC_0029695': [55.0, 1], 'ISIC_0029696': [65.0, 1], 'ISIC_0029697': [55.0, -1], 'ISIC_0029698': [70.0, 1], 'ISIC_0029699': [30.0, -1], 'ISIC_0029700': [45.0, 1], 'ISIC_0029701': [40.0, 1], 'ISIC_0029702': [50.0, -1], 'ISIC_0029703': [75.0, -1], 'ISIC_0029704': [30.0, -1], 'ISIC_0029705': [80.0, -1], 'ISIC_0029706': [40.0, 1], 'ISIC_0029707': [55.0, 1], 'ISIC_0029708': [65.0, 1], 'ISIC_0029709': [60.0, -1], 'ISIC_0029710': [45.0, 1], 'ISIC_0029711': [45.0, 1], 'ISIC_0029712': [45.0, -1], 'ISIC_0029713': [85.0, -1], 'ISIC_0029714': [60.0, 1], 'ISIC_0029715': [70.0, -1], 'ISIC_00297151': [70.0, -1], 'ISIC_0029716': [35.0, 1], 'ISIC_0029717': [45.0, 1], 'ISIC_0029718': [80.0, -1], 'ISIC_0029719': [45.0, 1], 'ISIC_0029720': [50.0, 1], 'ISIC_0029721': [70.0, -1], 'ISIC_0029722': [35.0, 1], 'ISIC_0029723': [50.0, -1], 'ISIC_0029724': [20.0, -1], 'ISIC_0029725': [55.0, -1], 'ISIC_0029726': [75.0, -1], 'ISIC_0029727': [40.0, 1], 'ISIC_0029728': [35.0, 1], 'ISIC_0029729': [75.0, 1], 'ISIC_0029730': [30.0, -1], 'ISIC_0029731': [75.0, -1], 'ISIC_0029732': [65.0, 1], 'ISIC_0029733': [70.0, -1], 'ISIC_0029734': [40.0, 1], 'ISIC_0029735': [50.0, -1], 'ISIC_0029736': [35.0, -1], 'ISIC_0029737': [45.0, -1], 'ISIC_0029738': [50.0, 1], 'ISIC_0029739': [40.0, 1], 'ISIC_0029740': [65.0, -1], 'ISIC_0029741': [70.0, 1], 'ISIC_0029742': [5.0, -1], 'ISIC_00297421': [5.0, -1], 'ISIC_00297422': [5.0, -1], 'ISIC_0029743': [45.0, -1], 'ISIC_0029744': [35.0, 1], 'ISIC_0029745': [35.0, -1], 'ISIC_0029746': [60.0, 1], 'ISIC_0029747': [85.0, 1], 'ISIC_0029748': [40.0, -1], 'ISIC_0029749': [75.0, -1], 'ISIC_0029750': [40.0, 1], 'ISIC_0029751': [75.0, -1], 'ISIC_0029752': [35.0, 1], 'ISIC_0029753': [55.0, 1], 'ISIC_0029754': [50.0, -1], 'ISIC_0029755': [80.0, -1], 'ISIC_0029756': [40.0, 1], 'ISIC_0029757': [60.0, -1], 'ISIC_0029758': [60.0, 1], 'ISIC_0029759': [65.0, 1], 'ISIC_0029760': [70.0, -1], 'ISIC_00297601': [70.0, -1], 'ISIC_00297602': [70.0, -1], 'ISIC_00297603': [70.0, -1], 'ISIC_00297604': [70.0, -1], 'ISIC_0029761': [20.0, -1], 'ISIC_0029762': [60.0, 1], 'ISIC_0029763': [35.0, -1], 'ISIC_0029764': [65.0, -1], 'ISIC_0029765': [75.0, -1], 'ISIC_0029766': [40.0, 1], 'ISIC_0029767': [40.0, -1], 'ISIC_0029768': [55.0, 1], 'ISIC_0029769': [40.0, 1], 'ISIC_0029770': [65.0, -1], 'ISIC_0029771': [45.0, 1], 'ISIC_0029772': [50.0, -1], 'ISIC_0029773': [70.0, 1], 'ISIC_0029774': [55.0, -1], 'ISIC_0029775': [45.0, -1], 'ISIC_0029776': [70.0, 1], 'ISIC_0029777': [30.0, 1], 'ISIC_0029778': [85.0, 1], 'ISIC_0029779': [35.0, -1], 'ISIC_0029780': [50.0, 1], 'ISIC_0029781': [75.0, -1], 'ISIC_0029782': [60.0, -1], 'ISIC_0029783': [40.0, -1], 'ISIC_00297831': [40.0, -1], 'ISIC_00297832': [40.0, -1], 'ISIC_00297833': [40.0, -1], 'ISIC_00297834': [40.0, -1], 'ISIC_0029784': [50.0, -1], 'ISIC_0029785': [70.0, -1], 'ISIC_0029786': [50.0, -1], 'ISIC_0029787': [55.0, -1], 'ISIC_0029788': [45.0, 1], 'ISIC_0029789': [80.0, -1], 'ISIC_0029790': [30.0, 1], 'ISIC_0029791': [70.0, 1], 'ISIC_0029792': [40.0, 1], 'ISIC_0029793': [70.0, 1], 'ISIC_0029794': [50.0, 1], 'ISIC_0029795': [50.0, -1], 'ISIC_0029796': [45.0, -1], 'ISIC_0029797': [35.0, -1], 'ISIC_0029798': [55.0, -1], 'ISIC_0029799': [65.0, -1], 'ISIC_0029800': [35.0, -1], 'ISIC_0029801': [70.0, 1], 'ISIC_0029802': [85.0, -1], 'ISIC_0029803': [25.0, 1], 'ISIC_0029804': [35.0, 1], 'ISIC_0029805': [85.0, -1], 'ISIC_0029806': [60.0, -1], 'ISIC_0029807': [50.0, 1], 'ISIC_0029808': [75.0, -1], 'ISIC_0029809': [45.0, -1], 'ISIC_0029810': [55.0, 1], 'ISIC_0029811': [65.0, -1], 'ISIC_00298111': [65.0, -1], 'ISIC_0029812': [75.0, -1], 'ISIC_0029813': [35.0, 1], 'ISIC_0029814': [35.0, 1], 'ISIC_0029815': [35.0, 1], 'ISIC_0029816': [35.0, -1], 'ISIC_0029817': [25.0, 1], 'ISIC_0029818': [65.0, -1], 'ISIC_0029819': [70.0, 1], 'ISIC_0029820': [80.0, -1], 'ISIC_0029821': [50.0, -1], 'ISIC_0029822': [35.0, 1], 'ISIC_0029823': [30.0, 1], 'ISIC_0029824': [50.0, -1], 'ISIC_00298241': [50.0, -1], 'ISIC_00298242': [50.0, -1], 'ISIC_00298243': [50.0, -1], 'ISIC_0029825': [70.0, -1], 'ISIC_0029826': [50.0, -1], 'ISIC_0029827': [60.0, -1], 'ISIC_0029828': [55.0, 1], 'ISIC_0029829': [60.0, -1], 'ISIC_0029830': [60.0, -1], 'ISIC_0029831': [85.0, -1], 'ISIC_0029832': [35.0, -1], 'ISIC_0029833': [25.0, 1], 'ISIC_0029834': [25.0, -1], 'ISIC_0029835': [20.0, 1], 'ISIC_0029836': [70.0, -1], 'ISIC_0029837': [40.0, -1], 'ISIC_0029838': [5.0, 1], 'ISIC_0029839': [65.0, -1], 'ISIC_0029840': [60.0, -1], 'ISIC_00298401': [60.0, -1], 'ISIC_0029841': [55.0, -1], 'ISIC_0029842': [55.0, 1], 'ISIC_0029843': [70.0, -1], 'ISIC_0029844': [40.0, -1], 'ISIC_0029845': [40.0, -1], 'ISIC_0029846': [30.0, -1], 'ISIC_0029847': [40.0, 1], 'ISIC_0029848': [45.0, 1], 'ISIC_0029849': [55.0, -1], 'ISIC_0029850': [60.0, 1], 'ISIC_0029851': [80.0, -1], 'ISIC_00298511': [80.0, -1], 'ISIC_0029852': [35.0, 1], 'ISIC_0029853': [45.0, -1], 'ISIC_0029854': [55.0, 1], 'ISIC_0029855': [40.0, -1], 'ISIC_0029856': [75.0, -1], 'ISIC_0029857': [55.0, 1], 'ISIC_0029858': [40.0, 1], 'ISIC_0029859': [75.0, -1], 'ISIC_0029860': [85.0, -1], 'ISIC_00298601': [85.0, -1], 'ISIC_0029861': [35.0, 1], 'ISIC_0029862': [40.0, 1], 'ISIC_0029863': [50.0, -1], 'ISIC_0029864': [40.0, 1], 'ISIC_0029865': [35.0, 1], 'ISIC_0029866': [45.0, -1], 'ISIC_0029867': [35.0, 1], 'ISIC_0029868': [65.0, -1], 'ISIC_0029869': [45.0, 1], 'ISIC_0029870': [65.0, -1], 'ISIC_0029871': [65.0, -1], 'ISIC_0029872': [65.0, 1], 'ISIC_0029873': [45.0, -1], 'ISIC_0029874': [45.0, -1], 'ISIC_0029875': [50.0, 1], 'ISIC_0029876': [40.0, 1], 'ISIC_0029877': [80.0, -1], 'ISIC_00298771': [80.0, -1], 'ISIC_00298772': [80.0, -1], 'ISIC_0029878': [55.0, -1], 'ISIC_0029879': [40.0, 1], 'ISIC_0029880': [70.0, 1], 'ISIC_0029881': [40.0, -1], 'ISIC_0029882': [50.0, -1], 'ISIC_0029883': [45.0, 1], 'ISIC_0029884': [70.0, -1], 'ISIC_0029885': [35.0, -1], 'ISIC_0029886': [55.0, 1], 'ISIC_0029887': [45.0, -1], 'ISIC_0029888': [65.0, 1], 'ISIC_0029889': [40.0, 1], 'ISIC_00298891': [40.0, 1], 'ISIC_00298892': [40.0, 1], 'ISIC_00298893': [40.0, 1], 'ISIC_0029890': [40.0, -1], 'ISIC_0029891': [75.0, -1], 'ISIC_00298911': [75.0, -1], 'ISIC_00298912': [75.0, -1], 'ISIC_00298913': [75.0, -1], 'ISIC_0029892': [50.0, 1], 'ISIC_0029893': [65.0, -1], 'ISIC_0029894': [70.0, -1], 'ISIC_0029895': [25.0, 1], 'ISIC_0029896': [50.0, 1], 'ISIC_0029897': [80.0, 1], 'ISIC_0029898': [80.0, -1], 'ISIC_0029899': [50.0, 1], 'ISIC_0029900': [60.0, -1], 'ISIC_0029901': [35.0, -1], 'ISIC_0029902': [25.0, -1], 'ISIC_0029903': [55.0, -1], 'ISIC_0029904': [35.0, -1], 'ISIC_0029905': [50.0, 1], 'ISIC_0029906': [55.0, 1], 'ISIC_0029907': [30.0, 1], 'ISIC_0029908': [50.0, 1], 'ISIC_0029909': [75.0, 1], 'ISIC_0029910': [50.0, -1], 'ISIC_0029911': [45.0, 1], 'ISIC_0029912': [60.0, 1], 'ISIC_0029913': [30.0, 1], 'ISIC_0029914': [60.0, -1], 'ISIC_0029915': [50.0, 1], 'ISIC_00299151': [50.0, 1], 'ISIC_0029916': [60.0, -1], 'ISIC_0029917': [80.0, -1], 'ISIC_0029918': [40.0, 1], 'ISIC_0029919': [75.0, -1], 'ISIC_0029920': [85.0, 1], 'ISIC_0029921': [30.0, -1], 'ISIC_0029922': [35.0, -1], 'ISIC_0029923': [50.0, -1], 'ISIC_0029924': [55.0, 1], 'ISIC_0029925': [40.0, 1], 'ISIC_0029926': [50.0, -1], 'ISIC_0029927': [70.0, 1], 'ISIC_0029928': [40.0, -1], 'ISIC_0029929': [80.0, -1], 'ISIC_0029930': [70.0, 1], 'ISIC_00299301': [70.0, 1], 'ISIC_0029931': [60.0, -1], 'ISIC_0029932': [70.0, 1], 'ISIC_00299321': [70.0, 1], 'ISIC_0029933': [45.0, 1], 'ISIC_0029934': [50.0, 1], 'ISIC_0029935': [50.0, 1], 'ISIC_0029936': [30.0, -1], 'ISIC_0029937': [40.0, -1], 'ISIC_0029938': [25.0, -1], 'ISIC_0029939': [45.0, -1], 'ISIC_0029940': [65.0, 1], 'ISIC_0029941': [40.0, -1], 'ISIC_0029942': [45.0, 1], 'ISIC_0029943': [50.0, 1], 'ISIC_0029944': [40.0, 1], 'ISIC_0029945': [80.0, -1], 'ISIC_0029946': [50.0, -1], 'ISIC_0029947': [75.0, -1], 'ISIC_0029948': [35.0, -1], 'ISIC_0029949': [55.0, 1], 'ISIC_0029950': [50.0, -1], 'ISIC_0029951': [75.0, -1], 'ISIC_0029952': [30.0, -1], 'ISIC_0029953': [10.0, -1], 'ISIC_0029954': [45.0, -1], 'ISIC_0029955': [40.0, 1], 'ISIC_0029956': [45.0, 1], 'ISIC_0029957': [65.0, 1], 'ISIC_0029958': [65.0, 1], 'ISIC_0029959': [40.0, 1], 'ISIC_0029960': [55.0, 1], 'ISIC_0029961': [50.0, -1], 'ISIC_0029962': [65.0, -1], 'ISIC_00299621': [65.0, -1], 'ISIC_00299622': [65.0, -1], 'ISIC_00299623': [65.0, -1], 'ISIC_0029963': [20.0, 1], 'ISIC_0029964': [55.0, 1], 'ISIC_0029965': [45.0, 1], 'ISIC_0029966': [40.0, -1], 'ISIC_0029967': [65.0, 1], 'ISIC_00299671': [65.0, 1], 'ISIC_00299672': [65.0, 1], 'ISIC_00299673': [65.0, 1], 'ISIC_00299674': [65.0, 1], 'ISIC_0029968': [50.0, 1], 'ISIC_0029969': [50.0, -1], 'ISIC_0029970': [5.0, 1], 'ISIC_0029971': [55.0, -1], 'ISIC_0029972': [35.0, 1], 'ISIC_0029973': [60.0, -1], 'ISIC_00299731': [60.0, -1], 'ISIC_00299732': [60.0, -1], 'ISIC_00299733': [60.0, -1], 'ISIC_0029974': [85.0, 1], 'ISIC_0029975': [75.0, -1], 'ISIC_0029976': [45.0, -1], 'ISIC_0029977': [45.0, 1], 'ISIC_0029978': [40.0, 1], 'ISIC_0029979': [45.0, 1], 'ISIC_0029980': [60.0, -1], 'ISIC_0029981': [40.0, 1], 'ISIC_0029982': [50.0, 1], 'ISIC_0029983': [80.0, -1], 'ISIC_0029984': [45.0, 1], 'ISIC_0029985': [55.0, 1], 'ISIC_0029986': [70.0, -1], 'ISIC_0029987': [40.0, 1], 'ISIC_0029988': [40.0, -1], 'ISIC_0029989': [40.0, 1], 'ISIC_0029990': [45.0, -1], 'ISIC_0029991': [75.0, -1], 'ISIC_0029992': [50.0, -1], 'ISIC_0029993': [80.0, 1], 'ISIC_0029994': [50.0, -1], 'ISIC_0029995': [65.0, -1], 'ISIC_0029996': [60.0, -1], 'ISIC_0029997': [5.0, -1], 'ISIC_0029998': [75.0, -1], 'ISIC_0029999': [50.0, 1], 'ISIC_0030000': [45.0, -1], 'ISIC_0030001': [75.0, -1], 'ISIC_0030002': [65.0, -1], 'ISIC_0030003': [35.0, -1], 'ISIC_0030004': [65.0, -1], 'ISIC_0030005': [75.0, 1], 'ISIC_0030006': [20.0, 1], 'ISIC_0030007': [85.0, 1], 'ISIC_0030008': [30.0, -1], 'ISIC_0030009': [40.0, 1], 'ISIC_0030010': [65.0, 1], 'ISIC_0030011': [45.0, 1], 'ISIC_00300111': [45.0, 1], 'ISIC_00300112': [45.0, 1], 'ISIC_00300113': [45.0, 1], 'ISIC_00300114': [45.0, 1], 'ISIC_0030012': [45.0, -1], 'ISIC_0030013': [55.0, -1], 'ISIC_0030014': [50.0, -1], 'ISIC_0030015': [65.0, -1], 'ISIC_00300151': [65.0, -1], 'ISIC_00300152': [65.0, -1], 'ISIC_00300153': [65.0, -1], 'ISIC_0030016': [35.0, -1], 'ISIC_0030017': [80.0, -1], 'ISIC_0030018': [45.0, -1], 'ISIC_0030019': [60.0, 1], 'ISIC_0030020': [30.0, 1], 'ISIC_0030021': [50.0, 1], 'ISIC_00300211': [50.0, 1], 'ISIC_00300212': [50.0, 1], 'ISIC_00300213': [50.0, 1], 'ISIC_00300214': [50.0, 1], 'ISIC_0030022': [50.0, 1], 'ISIC_0030023': [40.0, -1], 'ISIC_0030024': [40.0, -1], 'ISIC_0030025': [50.0, -1], 'ISIC_0030026': [75.0, 1], 'ISIC_0030027': [20.0, -1], 'ISIC_0030028': [40.0, 1], 'ISIC_0030029': [45.0, -1], 'ISIC_0030030': [50.0, 1], 'ISIC_0030031': [55.0, -1], 'ISIC_0030032': [75.0, -1], 'ISIC_0030033': [30.0, -1], 'ISIC_0030034': [50.0, 1], 'ISIC_0030035': [40.0, 1], 'ISIC_0030036': [60.0, -1], 'ISIC_0030037': [55.0, 1], 'ISIC_0030038': [30.0, 1], 'ISIC_0030039': [85.0, -1], 'ISIC_0030040': [45.0, 1], 'ISIC_0030041': [45.0, 1], 'ISIC_0030042': [45.0, 1], 'ISIC_0030043': [45.0, 1], 'ISIC_0030044': [25.0, 1], 'ISIC_0030045': [65.0, -1], 'ISIC_0030046': [30.0, 1], 'ISIC_0030047': [70.0, 1], 'ISIC_0030048': [30.0, -1], 'ISIC_0030049': [35.0, 1], 'ISIC_0030050': [50.0, 1], 'ISIC_0030051': [40.0, -1], 'ISIC_0030052': [40.0, -1], 'ISIC_0030053': [65.0, 1], 'ISIC_0030054': [35.0, 1], 'ISIC_0030055': [30.0, -1], 'ISIC_0030056': [50.0, -1], 'ISIC_0030057': [65.0, -1], 'ISIC_0030058': [30.0, 1], 'ISIC_0030059': [0.0, -1], 'ISIC_0030060': [80.0, 1], 'ISIC_0030061': [45.0, 1], 'ISIC_0030062': [45.0, 1], 'ISIC_0030063': [50.0, -1], 'ISIC_0030064': [25.0, -1], 'ISIC_0030065': [75.0, -1], 'ISIC_0030066': [35.0, -1], 'ISIC_0030067': [70.0, -1], 'ISIC_0030068': [45.0, -1], 'ISIC_0030069': [75.0, -1], 'ISIC_0030070': [75.0, 1], 'ISIC_00300701': [75.0, 1], 'ISIC_00300702': [75.0, 1], 'ISIC_0030071': [50.0, 1], 'ISIC_0030072': [55.0, -1], 'ISIC_0030073': [60.0, 1], 'ISIC_0030074': [40.0, -1], 'ISIC_0030075': [40.0, 1], 'ISIC_0030076': [85.0, 1], 'ISIC_00300761': [85.0, 1], 'ISIC_0030077': [35.0, 1], 'ISIC_0030078': [50.0, 1], 'ISIC_0030079': [40.0, -1], 'ISIC_0030080': [75.0, -1], 'ISIC_0030081': [80.0, -1], 'ISIC_0030082': [20.0, -1], 'ISIC_0030083': [65.0, -1], 'ISIC_0030084': [45.0, 1], 'ISIC_0030085': [85.0, -1], 'ISIC_0030086': [35.0, 1], 'ISIC_0030087': [60.0, -1], 'ISIC_0030088': [75.0, -1], 'ISIC_0030089': [55.0, 1], 'ISIC_0030090': [45.0, -1], 'ISIC_0030091': [50.0, 1], 'ISIC_0030092': [45.0, 1], 'ISIC_0030093': [75.0, -1], 'ISIC_0030094': [85.0, -1], 'ISIC_0030095': [60.0, -1], 'ISIC_0030096': [65.0, -1], 'ISIC_0030097': [35.0, -1], 'ISIC_0030098': [40.0, 1], 'ISIC_0030099': [45.0, 1], 'ISIC_0030100': [45.0, -1], 'ISIC_0030101': [55.0, 1], 'ISIC_0030102': [55.0, -1], 'ISIC_0030103': [50.0, -1], 'ISIC_0030104': [65.0, 1], 'ISIC_00301041': [65.0, 1], 'ISIC_00301042': [65.0, 1], 'ISIC_0030105': [80.0, 1], 'ISIC_0030106': [70.0, -1], 'ISIC_0030107': [20.0, 1], 'ISIC_0030108': [50.0, -1], 'ISIC_0030109': [50.0, -1], 'ISIC_0030110': [50.0, 1], 'ISIC_0030111': [45.0, -1], 'ISIC_0030112': [40.0, -1], 'ISIC_0030113': [40.0, -1], 'ISIC_0030114': [75.0, -1], 'ISIC_0030115': [60.0, -1], 'ISIC_0030116': [60.0, -1], 'ISIC_0030117': [45.0, 1], 'ISIC_0030118': [80.0, 1], 'ISIC_0030119': [75.0, 1], 'ISIC_0030120': [45.0, -1], 'ISIC_0030121': [35.0, -1], 'ISIC_0030122': [55.0, -1], 'ISIC_0030123': [65.0, 1], 'ISIC_0030124': [65.0, -1], 'ISIC_0030125': [55.0, -1], 'ISIC_0030126': [45.0, -1], 'ISIC_0030127': [60.0, -1], 'ISIC_0030128': [30.0, 1], 'ISIC_0030129': [55.0, -1], 'ISIC_0030130': [85.0, -1], 'ISIC_0030131': [50.0, 1], 'ISIC_0030132': [60.0, -1], 'ISIC_0030133': [65.0, -1], 'ISIC_0030134': [30.0, 1], 'ISIC_0030135': [60.0, -1], 'ISIC_0030136': [55.0, 1], 'ISIC_0030137': [70.0, -1], 'ISIC_0030138': [45.0, 1], 'ISIC_0030139': [45.0, -1], 'ISIC_0030140': [35.0, 1], 'ISIC_0030141': [50.0, -1], 'ISIC_0030142': [60.0, -1], 'ISIC_0030143': [65.0, 1], 'ISIC_00301431': [65.0, 1], 'ISIC_0030144': [25.0, 1], 'ISIC_0030145': [60.0, -1], 'ISIC_0030146': [65.0, 1], 'ISIC_0030147': [40.0, -1], 'ISIC_0030148': [55.0, -1], 'ISIC_0030149': [45.0, 1], 'ISIC_0030150': [80.0, 1], 'ISIC_0030151': [65.0, 1], 'ISIC_0030152': [75.0, -1], 'ISIC_0030153': [45.0, 1], 'ISIC_0030154': [55.0, -1], 'ISIC_0030155': [0.0, -1], 'ISIC_0030156': [35.0, 1], 'ISIC_0030157': [25.0, 1], 'ISIC_0030158': [55.0, -1], 'ISIC_0030159': [75.0, 1], 'ISIC_0030160': [80.0, -1], 'ISIC_0030161': [35.0, 1], 'ISIC_0030162': [30.0, 1], 'ISIC_0030163': [55.0, 1], 'ISIC_0030164': [45.0, 1], 'ISIC_0030165': [70.0, 1], 'ISIC_0030166': [75.0, 1], 'ISIC_0030167': [65.0, -1], 'ISIC_0030168': [45.0, 1], 'ISIC_0030169': [65.0, -1], 'ISIC_0030170': [45.0, 1], 'ISIC_0030171': [65.0, -1], 'ISIC_0030172': [55.0, -1], 'ISIC_0030173': [45.0, -1], 'ISIC_0030174': [50.0, 1], 'ISIC_0030175': [85.0, 1], 'ISIC_00301751': [85.0, 1], 'ISIC_0030176': [40.0, 1], 'ISIC_0030177': [70.0, 1], 'ISIC_0030178': [50.0, -1], 'ISIC_0030179': [35.0, -1], 'ISIC_0030180': [30.0, -1], 'ISIC_0030181': [45.0, -1], 'ISIC_0030182': [30.0, 1], 'ISIC_0030183': [70.0, -1], 'ISIC_0030184': [45.0, -1], 'ISIC_0030185': [55.0, -1], 'ISIC_0030186': [45.0, 1], 'ISIC_0030187': [35.0, -1], 'ISIC_0030188': [80.0, -1], 'ISIC_0030189': [75.0, 1], 'ISIC_0030190': [55.0, 1], 'ISIC_0030191': [60.0, 1], 'ISIC_00301911': [60.0, 1], 'ISIC_0030192': [70.0, -1], 'ISIC_0030193': [45.0, 1], 'ISIC_0030194': [15.0, 1], 'ISIC_0030195': [35.0, 1], 'ISIC_0030196': [50.0, 1], 'ISIC_0030197': [75.0, -1], 'ISIC_0030198': [45.0, 1], 'ISIC_0030199': [40.0, -1], 'ISIC_0030200': [50.0, -1], 'ISIC_0030201': [50.0, 1], 'ISIC_0030202': [45.0, 1], 'ISIC_0030203': [50.0, -1], 'ISIC_0030204': [35.0, -1], 'ISIC_0030205': [35.0, 1], 'ISIC_0030206': [30.0, -1], 'ISIC_0030207': [75.0, 1], 'ISIC_0030208': [40.0, 1], 'ISIC_0030209': [45.0, 1], 'ISIC_0030210': [40.0, -1], 'ISIC_0030211': [80.0, 1], 'ISIC_0030212': [45.0, 1], 'ISIC_0030213': [45.0, -1], 'ISIC_0030214': [50.0, -1], 'ISIC_0030215': [35.0, 1], 'ISIC_0030216': [80.0, -1], 'ISIC_0030217': [45.0, -1], 'ISIC_0030218': [35.0, 1], 'ISIC_0030219': [70.0, 1], 'ISIC_0030220': [45.0, -1], 'ISIC_0030221': [45.0, 1], 'ISIC_0030222': [55.0, 1], 'ISIC_0030223': [70.0, -1], 'ISIC_0030224': [55.0, 1], 'ISIC_0030225': [70.0, -1], 'ISIC_0030226': [35.0, -1], 'ISIC_0030227': [65.0, -1], 'ISIC_0030228': [50.0, 1], 'ISIC_0030229': [60.0, -1], 'ISIC_0030230': [55.0, 1], 'ISIC_0030231': [55.0, 1], 'ISIC_0030232': [20.0, 1], 'ISIC_0030233': [80.0, -1], 'ISIC_0030234': [45.0, -1], 'ISIC_0030235': [35.0, 1], 'ISIC_0030236': [40.0, -1], 'ISIC_0030237': [45.0, 1], 'ISIC_0030238': [45.0, -1], 'ISIC_0030239': [45.0, 1], 'ISIC_0030240': [70.0, -1], 'ISIC_0030241': [60.0, 1], 'ISIC_0030242': [80.0, -1], 'ISIC_00302421': [80.0, -1], 'ISIC_0030243': [40.0, 1], 'ISIC_0030244': [50.0, -1], 'ISIC_00302441': [50.0, -1], 'ISIC_00302442': [50.0, -1], 'ISIC_00302443': [50.0, -1], 'ISIC_00302444': [50.0, -1], 'ISIC_0030245': [75.0, -1], 'ISIC_0030246': [60.0, -1], 'ISIC_0030247': [60.0, -1], 'ISIC_0030248': [40.0, 1], 'ISIC_0030249': [80.0, 1], 'ISIC_0030250': [50.0, -1], 'ISIC_0030251': [65.0, -1], 'ISIC_0030252': [25.0, 1], 'ISIC_0030253': [20.0, 1], 'ISIC_0030254': [45.0, 1], 'ISIC_0030255': [70.0, 1], 'ISIC_0030256': [50.0, 1], 'ISIC_0030257': [40.0, 1], 'ISIC_0030258': [85.0, -1], 'ISIC_0030259': [60.0, -1], 'ISIC_0030260': [75.0, -1], 'ISIC_0030261': [70.0, -1], 'ISIC_0030262': [40.0, 1], 'ISIC_0030263': [55.0, -1], 'ISIC_0030264': [20.0, 1], 'ISIC_0030265': [50.0, -1], 'ISIC_0030266': [55.0, -1], 'ISIC_0030267': [40.0, 1], 'ISIC_0030268': [50.0, -1], 'ISIC_0030269': [65.0, 1], 'ISIC_0030270': [50.0, -1], 'ISIC_0030271': [75.0, -1], 'ISIC_0030272': [50.0, 1], 'ISIC_0030273': [75.0, 1], 'ISIC_0030274': [50.0, -1], 'ISIC_0030275': [10.0, -1], 'ISIC_00302751': [10.0, -1], 'ISIC_00302752': [10.0, -1], 'ISIC_00302753': [10.0, -1], 'ISIC_0030276': [60.0, -1], 'ISIC_0030277': [55.0, 1], 'ISIC_0030278': [35.0, 1], 'ISIC_0030279': [60.0, -1], 'ISIC_0030280': [70.0, -1], 'ISIC_0030281': [50.0, 1], 'ISIC_0030282': [50.0, 1], 'ISIC_0030283': [55.0, -1], 'ISIC_00302831': [55.0, -1], 'ISIC_00302832': [55.0, -1], 'ISIC_0030284': [40.0, 1], 'ISIC_0030285': [45.0, 1], 'ISIC_0030286': [60.0, 1], 'ISIC_0030287': [45.0, 1], 'ISIC_0030288': [55.0, -1], 'ISIC_0030289': [35.0, -1], 'ISIC_0030290': [60.0, -1], 'ISIC_0030291': [55.0, 1], 'ISIC_0030292': [45.0, -1], 'ISIC_0030293': [60.0, -1], 'ISIC_0030294': [40.0, 1], 'ISIC_0030295': [50.0, 1], 'ISIC_0030296': [60.0, -1], 'ISIC_0030297': [70.0, 1], 'ISIC_00302971': [70.0, 1], 'ISIC_0030298': [35.0, 1], 'ISIC_0030299': [55.0, 1], 'ISIC_0030300': [15.0, -1], 'ISIC_0030301': [35.0, 1], 'ISIC_0030302': [45.0, 1], 'ISIC_0030303': [40.0, -1], 'ISIC_0030304': [55.0, 1], 'ISIC_0030305': [25.0, -1], 'ISIC_0030306': [45.0, 1], 'ISIC_0030307': [60.0, 1], 'ISIC_0030308': [45.0, 1], 'ISIC_0030309': [55.0, -1], 'ISIC_0030310': [65.0, 1], 'ISIC_0030311': [45.0, 1], 'ISIC_0030312': [45.0, -1], 'ISIC_0030313': [30.0, -1], 'ISIC_0030314': [40.0, 1], 'ISIC_0030315': [45.0, 1], 'ISIC_0030316': [80.0, -1], 'ISIC_0030317': [50.0, 1], 'ISIC_0030318': [65.0, 1], 'ISIC_0030319': [85.0, 1], 'ISIC_0030320': [55.0, -1], 'ISIC_0030321': [30.0, -1], 'ISIC_00303211': [30.0, -1], 'ISIC_00303212': [30.0, -1], 'ISIC_00303213': [30.0, -1], 'ISIC_00303214': [30.0, -1], 'ISIC_0030322': [45.0, 1], 'ISIC_0030323': [55.0, -1], 'ISIC_0030324': [85.0, -1], 'ISIC_0030325': [60.0, -1], 'ISIC_0030326': [60.0, -1], 'ISIC_0030327': [40.0, -1], 'ISIC_0030328': [45.0, -1], 'ISIC_0030329': [70.0, 1], 'ISIC_0030330': [60.0, -1], 'ISIC_0030331': [50.0, -1], 'ISIC_0030332': [55.0, -1], 'ISIC_0030333': [80.0, -1], 'ISIC_0030334': [50.0, -1], 'ISIC_0030335': [60.0, -1], 'ISIC_0030336': [25.0, -1], 'ISIC_0030337': [40.0, 1], 'ISIC_0030338': [50.0, 1], 'ISIC_0030339': [75.0, 1], 'ISIC_0030340': [75.0, -1], 'ISIC_0030341': [70.0, 1], 'ISIC_00303411': [70.0, 1], 'ISIC_0030342': [50.0, 1], 'ISIC_0030343': [40.0, -1], 'ISIC_0030344': [55.0, 1], 'ISIC_0030345': [50.0, 1], 'ISIC_0030346': [60.0, -1], 'ISIC_0030347': [55.0, 1], 'ISIC_0030348': [5.0, 1], 'ISIC_0030349': [75.0, -1], 'ISIC_0030350': [30.0, 1], 'ISIC_0030351': [50.0, 1], 'ISIC_0030352': [70.0, 1], 'ISIC_0030353': [55.0, -1], 'ISIC_0030354': [40.0, 1], 'ISIC_0030355': [0.0, -1], 'ISIC_0030356': [45.0, -1], 'ISIC_0030357': [50.0, 1], 'ISIC_0030358': [60.0, -1], 'ISIC_0030359': [50.0, 1], 'ISIC_0030360': [65.0, -1], 'ISIC_0030361': [40.0, 1], 'ISIC_0030362': [25.0, 1], 'ISIC_0030363': [40.0, 1], 'ISIC_0030364': [45.0, 1], 'ISIC_0030365': [50.0, -1], 'ISIC_0030366': [60.0, 1], 'ISIC_0030367': [35.0, -1], 'ISIC_0030368': [45.0, -1], 'ISIC_0030369': [70.0, -1], 'ISIC_0030370': [30.0, 1], 'ISIC_0030371': [35.0, 1], 'ISIC_0030372': [80.0, -1], 'ISIC_0030373': [35.0, -1], 'ISIC_0030374': [60.0, -1], 'ISIC_0030375': [65.0, -1], 'ISIC_00303751': [65.0, -1], 'ISIC_0030376': [55.0, -1], 'ISIC_0030377': [70.0, -1], 'ISIC_0030378': [20.0, -1], 'ISIC_0030379': [40.0, -1], 'ISIC_0030380': [80.0, -1], 'ISIC_0030381': [45.0, 1], 'ISIC_0030382': [60.0, -1], 'ISIC_0030383': [80.0, 1], 'ISIC_0030384': [10.0, -1], 'ISIC_0030385': [75.0, 1], 'ISIC_0030386': [50.0, 1], 'ISIC_0030387': [65.0, -1], 'ISIC_00303871': [65.0, -1], 'ISIC_0030388': [40.0, 1], 'ISIC_0030389': [45.0, -1], 'ISIC_0030390': [55.0, 1], 'ISIC_0030391': [50.0, 1], 'ISIC_0030392': [35.0, -1], 'ISIC_0030393': [50.0, -1], 'ISIC_0030394': [55.0, 1], 'ISIC_0030395': [40.0, -1], 'ISIC_0030396': [50.0, 1], 'ISIC_0030397': [35.0, 1], 'ISIC_0030398': [40.0, -1], 'ISIC_0030399': [30.0, -1], 'ISIC_0030400': [50.0, 1], 'ISIC_0030401': [65.0, -1], 'ISIC_0030402': [60.0, -1], 'ISIC_0030403': [65.0, 1], 'ISIC_0030404': [0.0, -1], 'ISIC_0030405': [40.0, -1], 'ISIC_0030406': [45.0, -1], 'ISIC_0030407': [55.0, -1], 'ISIC_0030408': [80.0, -1], 'ISIC_00304081': [80.0, -1], 'ISIC_0030409': [50.0, 1], 'ISIC_0030410': [20.0, 1], 'ISIC_0030411': [45.0, 1], 'ISIC_0030412': [35.0, 1], 'ISIC_0030413': [50.0, -1], 'ISIC_0030414': [80.0, -1], 'ISIC_0030415': [50.0, 1], 'ISIC_0030416': [60.0, 1], 'ISIC_0030417': [70.0, -1], 'ISIC_0030418': [40.0, 1], 'ISIC_0030419': [60.0, -1], 'ISIC_0030420': [30.0, -1], 'ISIC_0030421': [45.0, 1], 'ISIC_0030422': [45.0, 1], 'ISIC_0030423': [65.0, 1], 'ISIC_0030424': [55.0, -1], 'ISIC_0030425': [55.0, 1], 'ISIC_0030426': [75.0, -1], 'ISIC_0030427': [45.0, 1], 'ISIC_00304271': [45.0, 1], 'ISIC_00304272': [45.0, 1], 'ISIC_00304273': [45.0, 1], 'ISIC_00304274': [45.0, 1], 'ISIC_0030428': [50.0, 1], 'ISIC_0030429': [40.0, 1], 'ISIC_0030430': [40.0, -1], 'ISIC_0030431': [35.0, 1], 'ISIC_0030432': [35.0, -1], 'ISIC_0030433': [50.0, 1], 'ISIC_0030434': [25.0, 1], 'ISIC_0030435': [50.0, -1], 'ISIC_0030436': [55.0, -1], 'ISIC_0030437': [25.0, -1], 'ISIC_0030438': [40.0, -1], 'ISIC_0030439': [40.0, -1], 'ISIC_0030440': [50.0, 1], 'ISIC_0030441': [50.0, -1], 'ISIC_0030442': [55.0, -1], 'ISIC_00304421': [55.0, -1], 'ISIC_00304422': [55.0, -1], 'ISIC_00304423': [55.0, -1], 'ISIC_00304424': [55.0, -1], 'ISIC_0030443': [85.0, 1], 'ISIC_0030444': [20.0, -1], 'ISIC_0030445': [75.0, -1], 'ISIC_0030446': [80.0, 1], 'ISIC_0030447': [40.0, -1], 'ISIC_0030448': [45.0, 1], 'ISIC_0030449': [35.0, 1], 'ISIC_0030450': [75.0, 1], 'ISIC_0030451': [85.0, -1], 'ISIC_0030452': [80.0, -1], 'ISIC_0030453': [30.0, 1], 'ISIC_0030454': [45.0, -1], 'ISIC_0030455': [25.0, 1], 'ISIC_0030456': [50.0, 1], 'ISIC_0030457': [45.0, 1], 'ISIC_0030458': [60.0, 1], 'ISIC_0030459': [70.0, 1], 'ISIC_0030460': [80.0, -1], 'ISIC_0030461': [55.0, -1], 'ISIC_0030462': [40.0, -1], 'ISIC_0030463': [70.0, 1], 'ISIC_0030464': [55.0, -1], 'ISIC_0030465': [85.0, -1], 'ISIC_0030466': [25.0, -1], 'ISIC_0030467': [45.0, 1], 'ISIC_0030468': [50.0, 1], 'ISIC_0030469': [45.0, 1], 'ISIC_0030470': [45.0, 1], 'ISIC_0030471': [35.0, 1], 'ISIC_0030472': [65.0, -1], 'ISIC_0030473': [60.0, -1], 'ISIC_0030474': [60.0, -1], 'ISIC_0030475': [45.0, -1], 'ISIC_0030476': [55.0, 1], 'ISIC_0030477': [35.0, 1], 'ISIC_0030478': [45.0, 1], 'ISIC_0030479': [50.0, -1], 'ISIC_0030480': [45.0, 1], 'ISIC_0030481': [55.0, 1], 'ISIC_0030482': [45.0, -1], 'ISIC_0030483': [35.0, -1], 'ISIC_0030484': [65.0, -1], 'ISIC_0030485': [60.0, 1], 'ISIC_0030486': [80.0, -1], 'ISIC_0030487': [75.0, -1], 'ISIC_0030488': [70.0, 1], 'ISIC_0030489': [30.0, -1], 'ISIC_0030490': [55.0, -1], 'ISIC_0030491': [80.0, -1], 'ISIC_00304911': [80.0, -1], 'ISIC_0030492': [65.0, 1], 'ISIC_0030493': [65.0, 1], 'ISIC_0030494': [50.0, 1], 'ISIC_0030495': [45.0, 1], 'ISIC_0030496': [65.0, -1], 'ISIC_0030497': [25.0, 1], 'ISIC_0030498': [80.0, -1], 'ISIC_0030499': [40.0, 1], 'ISIC_0030500': [40.0, 1], 'ISIC_0030501': [50.0, -1], 'ISIC_0030502': [45.0, 1], 'ISIC_0030503': [60.0, -1], 'ISIC_0030504': [60.0, -1], 'ISIC_0030505': [40.0, -1], 'ISIC_0030506': [35.0, -1], 'ISIC_0030507': [65.0, -1], 'ISIC_0030508': [30.0, -1], 'ISIC_0030509': [75.0, 1], 'ISIC_0030510': [55.0, 1], 'ISIC_0030511': [70.0, 1], 'ISIC_0030512': [50.0, -1], 'ISIC_0030513': [50.0, 1], 'ISIC_0030514': [85.0, -1], 'ISIC_0030515': [45.0, -1], 'ISIC_0030516': [35.0, 1], 'ISIC_0030517': [55.0, -1], 'ISIC_0030518': [65.0, 1], 'ISIC_0030519': [55.0, -1], 'ISIC_0030520': [40.0, 1], 'ISIC_0030521': [30.0, 1], 'ISIC_0030522': [70.0, -1], 'ISIC_0030523': [55.0, -1], 'ISIC_0030524': [35.0, -1], 'ISIC_0030525': [70.0, 1], 'ISIC_0030526': [80.0, 1], 'ISIC_0030527': [50.0, 1], 'ISIC_0030528': [45.0, 1], 'ISIC_0030529': [45.0, -1], 'ISIC_0030530': [45.0, 1], 'ISIC_0030531': [50.0, -1], 'ISIC_0030532': [60.0, 1], 'ISIC_0030533': [75.0, 1], 'ISIC_0030534': [50.0, 1], 'ISIC_0030535': [60.0, -1], 'ISIC_0030536': [55.0, -1], 'ISIC_0030537': [45.0, 1], 'ISIC_0030538': [65.0, 1], 'ISIC_0030539': [65.0, 1], 'ISIC_0030540': [45.0, 1], 'ISIC_0030541': [45.0, 1], 'ISIC_0030542': [70.0, 1], 'ISIC_0030543': [65.0, -1], 'ISIC_0030544': [60.0, 1], 'ISIC_0030545': [70.0, 1], 'ISIC_0030546': [20.0, 1], 'ISIC_0030547': [35.0, 1], 'ISIC_0030548': [45.0, -1], 'ISIC_0030549': [50.0, -1], 'ISIC_0030550': [50.0, -1], 'ISIC_0030551': [60.0, 1], 'ISIC_0030552': [75.0, -1], 'ISIC_0030553': [50.0, -1], 'ISIC_0030554': [65.0, 1], 'ISIC_0030555': [70.0, -1], 'ISIC_00305551': [70.0, -1], 'ISIC_00305552': [70.0, -1], 'ISIC_00305553': [70.0, -1], 'ISIC_00305554': [70.0, -1], 'ISIC_0030556': [55.0, -1], 'ISIC_0030557': [25.0, -1], 'ISIC_0030558': [35.0, 1], 'ISIC_0030559': [75.0, -1], 'ISIC_0030560': [80.0, -1], 'ISIC_0030561': [40.0, 1], 'ISIC_0030562': [50.0, 1], 'ISIC_0030563': [40.0, 1], 'ISIC_0030564': [45.0, -1], 'ISIC_0030565': [65.0, -1], 'ISIC_0030566': [35.0, -1], 'ISIC_0030567': [30.0, -1], 'ISIC_0030568': [50.0, 1], 'ISIC_0030569': [80.0, -1], 'ISIC_0030570': [5.0, -1], 'ISIC_0030571': [55.0, 1], 'ISIC_0030572': [50.0, 1], 'ISIC_0030573': [50.0, 1], 'ISIC_0030574': [50.0, 1], 'ISIC_0030575': [25.0, -1], 'ISIC_0030576': [45.0, 1], 'ISIC_0030577': [60.0, 1], 'ISIC_0030578': [50.0, -1], 'ISIC_0030579': [55.0, 1], 'ISIC_00305791': [55.0, 1], 'ISIC_00305792': [55.0, 1], 'ISIC_00305793': [55.0, 1], 'ISIC_00305794': [55.0, 1], 'ISIC_0030580': [55.0, -1], 'ISIC_0030581': [5.0, 1], 'ISIC_0030582': [50.0, 1], 'ISIC_0030583': [35.0, 1], 'ISIC_0030584': [55.0, 1], 'ISIC_0030585': [50.0, 1], 'ISIC_0030586': [80.0, -1], 'ISIC_00305861': [80.0, -1], 'ISIC_0030587': [30.0, 1], 'ISIC_0030588': [35.0, 1], 'ISIC_0030589': [50.0, 1], 'ISIC_0030590': [35.0, -1], 'ISIC_0030591': [75.0, 1], 'ISIC_0030592': [20.0, -1], 'ISIC_0030593': [30.0, -1], 'ISIC_0030594': [75.0, -1], 'ISIC_0030595': [40.0, -1], 'ISIC_0030596': [50.0, -1], 'ISIC_0030597': [55.0, 1], 'ISIC_0030598': [50.0, -1], 'ISIC_0030599': [45.0, 1], 'ISIC_0030600': [35.0, -1], 'ISIC_0030601': [45.0, -1], 'ISIC_0030602': [60.0, -1], 'ISIC_00306021': [60.0, -1], 'ISIC_0030603': [75.0, 1], 'ISIC_0030604': [45.0, -1], 'ISIC_0030605': [85.0, -1], 'ISIC_0030606': [0.0, 1], 'ISIC_00306061': [0.0, 1], 'ISIC_00306062': [0.0, 1], 'ISIC_00306063': [0.0, 1], 'ISIC_0030607': [80.0, -1], 'ISIC_0030608': [45.0, -1], 'ISIC_0030609': [60.0, -1], 'ISIC_0030610': [65.0, -1], 'ISIC_0030611': [30.0, 1], 'ISIC_0030612': [35.0, 1], 'ISIC_0030613': [40.0, 1], 'ISIC_0030614': [50.0, -1], 'ISIC_0030615': [60.0, -1], 'ISIC_0030616': [80.0, 1], 'ISIC_0030617': [50.0, 1], 'ISIC_0030618': [55.0, -1], 'ISIC_0030619': [30.0, 1], 'ISIC_0030620': [60.0, 1], 'ISIC_0030621': [50.0, 1], 'ISIC_0030622': [30.0, -1], 'ISIC_0030623': [40.0, 1], 'ISIC_0030624': [45.0, 1], 'ISIC_0030625': [35.0, -1], 'ISIC_0030626': [40.0, -1], 'ISIC_0030627': [40.0, 1], 'ISIC_0030628': [45.0, 1], 'ISIC_0030629': [20.0, -1], 'ISIC_0030630': [70.0, -1], 'ISIC_0030631': [50.0, -1], 'ISIC_0030632': [35.0, 1], 'ISIC_0030633': [45.0, -1], 'ISIC_0030634': [55.0, -1], 'ISIC_0030635': [75.0, 1], 'ISIC_0030636': [70.0, 1], 'ISIC_0030637': [85.0, -1], 'ISIC_0030638': [65.0, -1], 'ISIC_0030639': [30.0, 1], 'ISIC_0030640': [45.0, -1], 'ISIC_0030641': [30.0, -1], 'ISIC_0030642': [50.0, 1], 'ISIC_0030643': [50.0, -1], 'ISIC_0030644': [85.0, -1], 'ISIC_0030645': [35.0, 1], 'ISIC_0030646': [45.0, 1], 'ISIC_0030647': [65.0, -1], 'ISIC_0030648': [35.0, -1], 'ISIC_0030649': [55.0, -1], 'ISIC_0030650': [45.0, -1], 'ISIC_0030651': [35.0, -1], 'ISIC_0030652': [50.0, -1], 'ISIC_0030653': [65.0, 1], 'ISIC_0030654': [35.0, 1], 'ISIC_0030655': [60.0, 1], 'ISIC_0030656': [30.0, 1], 'ISIC_0030657': [45.0, 1], 'ISIC_0030658': [50.0, -1], 'ISIC_0030659': [60.0, -1], 'ISIC_0030660': [50.0, 1], 'ISIC_0030661': [85.0, -1], 'ISIC_0030662': [40.0, -1], 'ISIC_0030663': [30.0, -1], 'ISIC_0030664': [70.0, -1], 'ISIC_0030665': [55.0, 1], 'ISIC_00306651': [55.0, 1], 'ISIC_00306652': [55.0, 1], 'ISIC_00306653': [55.0, 1], 'ISIC_0030666': [50.0, 1], 'ISIC_0030667': [45.0, -1], 'ISIC_0030668': [40.0, 1], 'ISIC_0030669': [40.0, -1], 'ISIC_0030670': [65.0, -1], 'ISIC_0030671': [45.0, -1], 'ISIC_0030672': [40.0, -1], 'ISIC_0030673': [50.0, -1], 'ISIC_0030674': [85.0, -1], 'ISIC_0030675': [55.0, 1], 'ISIC_0030676': [40.0, -1], 'ISIC_0030677': [65.0, 1], 'ISIC_0030678': [40.0, -1], 'ISIC_0030679': [65.0, 1], 'ISIC_0030680': [80.0, -1], 'ISIC_0030681': [55.0, 1], 'ISIC_0030682': [45.0, 1], 'ISIC_0030683': [45.0, -1], 'ISIC_0030684': [50.0, -1], 'ISIC_0030685': [40.0, -1], 'ISIC_0030686': [55.0, -1], 'ISIC_0030687': [80.0, -1], 'ISIC_0030688': [70.0, -1], 'ISIC_0030689': [80.0, 1], 'ISIC_0030690': [50.0, 1], 'ISIC_0030691': [45.0, -1], 'ISIC_0030692': [70.0, -1], 'ISIC_0030693': [40.0, -1], 'ISIC_0030694': [70.0, 1], 'ISIC_0030695': [80.0, -1], 'ISIC_0030696': [50.0, -1], 'ISIC_0030697': [25.0, -1], 'ISIC_0030698': [40.0, -1], 'ISIC_0030699': [50.0, -1], 'ISIC_0030700': [70.0, 1], 'ISIC_0030701': [40.0, 1], 'ISIC_0030702': [20.0, -1], 'ISIC_0030703': [40.0, -1], 'ISIC_0030704': [80.0, -1], 'ISIC_0030705': [50.0, 1], 'ISIC_0030706': [85.0, -1], 'ISIC_0030707': [80.0, 1], 'ISIC_00307071': [80.0, 1], 'ISIC_0030708': [55.0, 1], 'ISIC_0030709': [65.0, 1], 'ISIC_0030710': [15.0, 1], 'ISIC_0030711': [50.0, 1], 'ISIC_0030712': [70.0, -1], 'ISIC_0030713': [65.0, 1], 'ISIC_0030714': [70.0, 1], 'ISIC_00307141': [70.0, 1], 'ISIC_0030715': [50.0, 1], 'ISIC_0030716': [55.0, 1], 'ISIC_0030717': [35.0, 1], 'ISIC_0030718': [45.0, 1], 'ISIC_0030719': [50.0, 1], 'ISIC_0030720': [35.0, 1], 'ISIC_0030721': [85.0, -1], 'ISIC_0030722': [45.0, 1], 'ISIC_00307221': [45.0, 1], 'ISIC_00307222': [45.0, 1], 'ISIC_00307223': [45.0, 1], 'ISIC_0030723': [75.0, 1], 'ISIC_0030724': [50.0, -1], 'ISIC_0030725': [40.0, 1], 'ISIC_0030726': [50.0, -1], 'ISIC_0030727': [50.0, 1], 'ISIC_0030728': [35.0, 1], 'ISIC_0030729': [45.0, 1], 'ISIC_0030730': [60.0, 1], 'ISIC_0030731': [70.0, -1], 'ISIC_0030732': [65.0, 1], 'ISIC_0030733': [60.0, -1], 'ISIC_0030734': [60.0, -1], 'ISIC_0030735': [50.0, 1], 'ISIC_0030736': [50.0, 1], 'ISIC_0030737': [45.0, -1], 'ISIC_0030738': [65.0, 1], 'ISIC_0030739': [30.0, 1], 'ISIC_0030740': [30.0, 1], 'ISIC_0030741': [35.0, 1], 'ISIC_0030742': [80.0, -1], 'ISIC_0030743': [60.0, -1], 'ISIC_0030744': [85.0, 1], 'ISIC_0030745': [75.0, -1], 'ISIC_0030746': [70.0, 1], 'ISIC_0030747': [35.0, 1], 'ISIC_0030748': [65.0, 1], 'ISIC_0030749': [45.0, 1], 'ISIC_0030750': [40.0, -1], 'ISIC_0030751': [55.0, 1], 'ISIC_0030752': [55.0, 1], 'ISIC_0030753': [45.0, -1], 'ISIC_0030754': [50.0, 1], 'ISIC_0030755': [85.0, -1], 'ISIC_0030756': [85.0, -1], 'ISIC_0030757': [80.0, -1], 'ISIC_00307571': [80.0, -1], 'ISIC_00307572': [80.0, -1], 'ISIC_00307573': [80.0, -1], 'ISIC_0030758': [70.0, -1], 'ISIC_0030759': [55.0, 1], 'ISIC_0030760': [55.0, 1], 'ISIC_0030761': [80.0, -1], 'ISIC_0030762': [50.0, 1], 'ISIC_0030763': [30.0, 1], 'ISIC_0030764': [50.0, -1], 'ISIC_0030765': [30.0, 1], 'ISIC_0030766': [70.0, 1], 'ISIC_0030767': [75.0, -1], 'ISIC_0030768': [40.0, -1], 'ISIC_0030769': [35.0, -1], 'ISIC_0030770': [65.0, 1], 'ISIC_00307701': [65.0, 1], 'ISIC_00307702': [65.0, 1], 'ISIC_00307703': [65.0, 1], 'ISIC_0030771': [45.0, -1], 'ISIC_0030772': [30.0, -1], 'ISIC_0030773': [45.0, 1], 'ISIC_0030774': [55.0, -1], 'ISIC_0030775': [50.0, 1], 'ISIC_0030776': [50.0, -1], 'ISIC_0030777': [50.0, 1], 'ISIC_0030778': [85.0, 1], 'ISIC_0030779': [65.0, -1], 'ISIC_0030780': [45.0, -1], 'ISIC_0030781': [50.0, 1], 'ISIC_0030782': [80.0, -1], 'ISIC_0030783': [70.0, 1], 'ISIC_0030784': [85.0, -1], 'ISIC_0030785': [75.0, -1], 'ISIC_00307851': [75.0, -1], 'ISIC_0030786': [45.0, -1], 'ISIC_0030787': [45.0, -1], 'ISIC_0030788': [60.0, -1], 'ISIC_0030789': [75.0, -1], 'ISIC_0030790': [65.0, 1], 'ISIC_0030791': [45.0, -1], 'ISIC_0030792': [80.0, -1], 'ISIC_0030793': [45.0, -1], 'ISIC_0030794': [65.0, -1], 'ISIC_00307941': [65.0, -1], 'ISIC_0030795': [60.0, -1], 'ISIC_0030796': [60.0, 1], 'ISIC_0030797': [55.0, -1], 'ISIC_0030798': [80.0, -1], 'ISIC_0030799': [50.0, 1], 'ISIC_0030800': [75.0, -1], 'ISIC_0030801': [55.0, -1], 'ISIC_0030802': [80.0, 1], 'ISIC_0030803': [65.0, 1], 'ISIC_00308031': [65.0, 1], 'ISIC_0030804': [50.0, 1], 'ISIC_0030805': [45.0, 1], 'ISIC_0030806': [50.0, 1], 'ISIC_0030807': [35.0, 1], 'ISIC_0030808': [35.0, -1], 'ISIC_0030809': [65.0, -1], 'ISIC_0030810': [55.0, 1], 'ISIC_0030811': [45.0, 1], 'ISIC_0030812': [85.0, -1], 'ISIC_0030813': [65.0, -1], 'ISIC_0030814': [45.0, 1], 'ISIC_0030815': [50.0, 1], 'ISIC_0030816': [35.0, -1], 'ISIC_0030817': [50.0, -1], 'ISIC_0030818': [65.0, 1], 'ISIC_0030819': [50.0, 1], 'ISIC_0030820': [55.0, -1], 'ISIC_0030821': [75.0, -1], 'ISIC_00308211': [75.0, -1], 'ISIC_0030822': [75.0, 1], 'ISIC_0030823': [40.0, -1], 'ISIC_0030824': [60.0, -1], 'ISIC_0030825': [40.0, -1], 'ISIC_0030826': [70.0, -1], 'ISIC_00308261': [70.0, -1], 'ISIC_0030827': [40.0, 1], 'ISIC_00308271': [40.0, 1], 'ISIC_0030828': [75.0, -1], 'ISIC_0030829': [35.0, 1], 'ISIC_0030830': [50.0, 1], 'ISIC_00308301': [50.0, 1], 'ISIC_00308302': [50.0, 1], 'ISIC_00308303': [50.0, 1], 'ISIC_0030831': [40.0, 1], 'ISIC_0030832': [45.0, -1], 'ISIC_0030833': [40.0, -1], 'ISIC_0030834': [50.0, 1], 'ISIC_0030835': [50.0, -1], 'ISIC_0030836': [35.0, -1], 'ISIC_0030837': [45.0, -1], 'ISIC_0030838': [45.0, 1], 'ISIC_0030839': [70.0, -1], 'ISIC_0030840': [70.0, -1], 'ISIC_0030841': [55.0, -1], 'ISIC_0030842': [50.0, -1], 'ISIC_0030843': [60.0, 1], 'ISIC_0030844': [80.0, 1], 'ISIC_0030845': [30.0, 1], 'ISIC_0030846': [45.0, 1], 'ISIC_0030847': [65.0, -1], 'ISIC_0030848': [50.0, 1], 'ISIC_0030849': [65.0, -1], 'ISIC_0030850': [45.0, -1], 'ISIC_0030851': [65.0, -1], 'ISIC_0030852': [50.0, -1], 'ISIC_0030853': [35.0, -1], 'ISIC_0030854': [30.0, -1], 'ISIC_0030855': [45.0, 1], 'ISIC_0030856': [65.0, 1], 'ISIC_0030857': [65.0, -1], 'ISIC_0030858': [60.0, -1], 'ISIC_0030859': [30.0, 1], 'ISIC_0030860': [55.0, -1], 'ISIC_0030861': [75.0, -1], 'ISIC_0030862': [35.0, 1], 'ISIC_0030863': [55.0, 1], 'ISIC_0030864': [45.0, 1], 'ISIC_0030865': [50.0, -1], 'ISIC_0030866': [50.0, 1], 'ISIC_0030867': [55.0, 1], 'ISIC_0030868': [80.0, -1], 'ISIC_0030869': [70.0, -1], 'ISIC_0030870': [45.0, 1], 'ISIC_00308701': [45.0, 1], 'ISIC_00308702': [45.0, 1], 'ISIC_00308703': [45.0, 1], 'ISIC_0030871': [40.0, 1], 'ISIC_0030872': [80.0, -1], 'ISIC_0030873': [45.0, -1], 'ISIC_0030874': [45.0, 1], 'ISIC_0030875': [50.0, 1], 'ISIC_0030876': [55.0, -1], 'ISIC_0030877': [60.0, 1], 'ISIC_0030878': [50.0, 1], 'ISIC_0030879': [75.0, -1], 'ISIC_0030880': [55.0, -1], 'ISIC_0030881': [55.0, -1], 'ISIC_0030882': [20.0, -1], 'ISIC_00308821': [20.0, -1], 'ISIC_00308822': [20.0, -1], 'ISIC_00308823': [20.0, -1], 'ISIC_0030883': [75.0, 1], 'ISIC_0030884': [45.0, -1], 'ISIC_0030885': [45.0, 1], 'ISIC_0030886': [45.0, 1], 'ISIC_0030887': [55.0, 1], 'ISIC_0030888': [45.0, 1], 'ISIC_0030889': [35.0, -1], 'ISIC_0030890': [20.0, 1], 'ISIC_0030891': [45.0, 1], 'ISIC_0030892': [45.0, -1], 'ISIC_0030893': [70.0, -1], 'ISIC_0030894': [75.0, 1], 'ISIC_0030895': [55.0, -1], 'ISIC_0030896': [55.0, -1], 'ISIC_0030897': [50.0, -1], 'ISIC_0030898': [50.0, -1], 'ISIC_0030899': [15.0, 1], 'ISIC_0030900': [75.0, 1], 'ISIC_0030901': [55.0, -1], 'ISIC_0030902': [35.0, 1], 'ISIC_0030903': [45.0, -1], 'ISIC_0030904': [55.0, -1], 'ISIC_0030905': [50.0, -1], 'ISIC_0030906': [45.0, 1], 'ISIC_0030907': [45.0, 1], 'ISIC_0030908': [40.0, 1], 'ISIC_0030909': [30.0, 1], 'ISIC_0030910': [65.0, -1], 'ISIC_0030911': [40.0, 1], 'ISIC_0030912': [70.0, 1], 'ISIC_0030913': [65.0, -1], 'ISIC_0030914': [25.0, 1], 'ISIC_0030915': [60.0, -1], 'ISIC_0030916': [50.0, -1], 'ISIC_0030917': [25.0, 1], 'ISIC_0030918': [45.0, -1], 'ISIC_0030919': [60.0, -1], 'ISIC_0030920': [30.0, -1], 'ISIC_0030921': [60.0, 1], 'ISIC_0030922': [75.0, -1], 'ISIC_0030923': [70.0, -1], 'ISIC_0030924': [50.0, -1], 'ISIC_0030925': [45.0, -1], 'ISIC_0030926': [75.0, 1], 'ISIC_0030927': [40.0, 1], 'ISIC_0030928': [55.0, 1], 'ISIC_0030929': [55.0, 1], 'ISIC_0030930': [30.0, 1], 'ISIC_0030931': [55.0, -1], 'ISIC_0030932': [70.0, 1], 'ISIC_0030933': [30.0, -1], 'ISIC_0030934': [40.0, 1], 'ISIC_0030935': [80.0, -1], 'ISIC_0030936': [45.0, 1], 'ISIC_0030937': [85.0, -1], 'ISIC_0030938': [75.0, -1], 'ISIC_0030939': [45.0, 1], 'ISIC_0030940': [55.0, -1], 'ISIC_0030941': [60.0, -1], 'ISIC_0030942': [50.0, 1], 'ISIC_0030943': [45.0, 1], 'ISIC_0030944': [35.0, -1], 'ISIC_0030945': [75.0, -1], 'ISIC_0030946': [65.0, -1], 'ISIC_0030947': [45.0, -1], 'ISIC_0030948': [50.0, 1], 'ISIC_0030949': [50.0, -1], 'ISIC_0030950': [70.0, 1], 'ISIC_0030951': [85.0, 1], 'ISIC_0030952': [35.0, -1], 'ISIC_0030953': [80.0, 1], 'ISIC_00309531': [80.0, 1], 'ISIC_0030954': [85.0, -1], 'ISIC_0030955': [45.0, -1], 'ISIC_0030956': [60.0, 1], 'ISIC_00309561': [60.0, 1], 'ISIC_00309562': [60.0, 1], 'ISIC_00309563': [60.0, 1], 'ISIC_0030957': [35.0, 1], 'ISIC_0030958': [50.0, 1], 'ISIC_0030959': [70.0, 1], 'ISIC_0030960': [45.0, 1], 'ISIC_0030961': [35.0, 1], 'ISIC_0030962': [60.0, 1], 'ISIC_0030963': [5.0, -1], 'ISIC_0030964': [55.0, -1], 'ISIC_0030965': [75.0, 1], 'ISIC_0030966': [45.0, 1], 'ISIC_0030967': [60.0, 1], 'ISIC_0030968': [60.0, -1], 'ISIC_0030969': [40.0, -1], 'ISIC_0030970': [50.0, 1], 'ISIC_0030971': [50.0, 1], 'ISIC_0030972': [80.0, -1], 'ISIC_0030973': [20.0, -1], 'ISIC_0030974': [45.0, 1], 'ISIC_0030975': [35.0, 1], 'ISIC_0030976': [60.0, -1], 'ISIC_0030977': [55.0, -1], 'ISIC_0030978': [85.0, -1], 'ISIC_0030979': [5.0, -1], 'ISIC_0030980': [20.0, -1], 'ISIC_0030981': [15.0, -1], 'ISIC_0030982': [55.0, 1], 'ISIC_0030983': [65.0, -1], 'ISIC_0030984': [45.0, -1], 'ISIC_0030985': [40.0, -1], 'ISIC_0030986': [55.0, 1], 'ISIC_0030987': [50.0, 1], 'ISIC_0030988': [45.0, -1], 'ISIC_0030989': [50.0, 1], 'ISIC_0030990': [40.0, 1], 'ISIC_0030991': [45.0, -1], 'ISIC_00309911': [45.0, -1], 'ISIC_0030992': [65.0, -1], 'ISIC_0030993': [45.0, -1], 'ISIC_0030994': [45.0, -1], 'ISIC_0030995': [55.0, -1], 'ISIC_0030996': [45.0, -1], 'ISIC_0030997': [60.0, 1], 'ISIC_0030998': [55.0, 1], 'ISIC_0030999': [55.0, 1], 'ISIC_0031000': [85.0, -1], 'ISIC_0031001': [45.0, -1], 'ISIC_0031002': [65.0, -1], 'ISIC_00310021': [65.0, -1], 'ISIC_00310022': [65.0, -1], 'ISIC_00310023': [65.0, -1], 'ISIC_00310024': [65.0, -1], 'ISIC_0031003': [40.0, 1], 'ISIC_0031004': [80.0, -1], 'ISIC_0031005': [65.0, -1], 'ISIC_0031006': [55.0, -1], 'ISIC_0031007': [80.0, -1], 'ISIC_0031008': [75.0, 1], 'ISIC_0031009': [70.0, 1], 'ISIC_0031010': [45.0, -1], 'ISIC_0031011': [35.0, -1], 'ISIC_0031012': [70.0, -1], 'ISIC_00310121': [70.0, -1], 'ISIC_0031013': [65.0, 1], 'ISIC_0031014': [30.0, 1], 'ISIC_0031015': [60.0, -1], 'ISIC_0031016': [70.0, -1], 'ISIC_0031017': [60.0, 1], 'ISIC_0031018': [75.0, -1], 'ISIC_0031019': [70.0, -1], 'ISIC_0031020': [50.0, 1], 'ISIC_0031021': [50.0, 1], 'ISIC_0031022': [60.0, -1], 'ISIC_0031023': [60.0, -1], 'ISIC_0031024': [50.0, -1], 'ISIC_0031025': [60.0, 1], 'ISIC_0031026': [65.0, -1], 'ISIC_0031027': [40.0, 1], 'ISIC_0031028': [45.0, -1], 'ISIC_0031029': [75.0, -1], 'ISIC_0031030': [45.0, 1], 'ISIC_0031031': [80.0, -1], 'ISIC_0031032': [65.0, 1], 'ISIC_0031033': [60.0, -1], 'ISIC_0031034': [75.0, -1], 'ISIC_0031035': [60.0, -1], 'ISIC_0031036': [5.0, 1], 'ISIC_0031037': [65.0, 1], 'ISIC_0031038': [75.0, -1], 'ISIC_0031039': [30.0, 1], 'ISIC_0031040': [80.0, -1], 'ISIC_00310401': [80.0, -1], 'ISIC_0031041': [70.0, -1], 'ISIC_0031042': [75.0, -1], 'ISIC_0031043': [85.0, -1], 'ISIC_00310431': [85.0, -1], 'ISIC_0031044': [60.0, -1], 'ISIC_00310441': [60.0, -1], 'ISIC_0031045': [45.0, 1], 'ISIC_0031046': [50.0, -1], 'ISIC_0031047': [45.0, 1], 'ISIC_0031048': [30.0, 1], 'ISIC_0031049': [45.0, -1], 'ISIC_0031050': [70.0, 1], 'ISIC_0031051': [40.0, -1], 'ISIC_0031052': [55.0, -1], 'ISIC_0031053': [30.0, -1], 'ISIC_0031054': [25.0, 1], 'ISIC_0031055': [60.0, 1], 'ISIC_0031056': [65.0, 1], 'ISIC_0031057': [70.0, 1], 'ISIC_0031058': [40.0, -1], 'ISIC_0031059': [0.0, -1], 'ISIC_0031060': [70.0, 1], 'ISIC_0031061': [60.0, -1], 'ISIC_0031062': [65.0, 1], 'ISIC_0031063': [70.0, 1], 'ISIC_0031064': [65.0, -1], 'ISIC_0031065': [35.0, 1], 'ISIC_00310651': [35.0, 1], 'ISIC_00310652': [35.0, 1], 'ISIC_0031066': [60.0, -1], 'ISIC_0031067': [45.0, 1], 'ISIC_0031068': [45.0, -1], 'ISIC_0031069': [40.0, 1], 'ISIC_0031070': [25.0, 1], 'ISIC_0031071': [45.0, -1], 'ISIC_0031072': [30.0, 1], 'ISIC_0031073': [45.0, -1], 'ISIC_0031074': [50.0, 1], 'ISIC_0031075': [45.0, 1], 'ISIC_0031076': [25.0, 1], 'ISIC_0031077': [65.0, 1], 'ISIC_0031078': [80.0, 1], 'ISIC_0031079': [25.0, 1], 'ISIC_0031080': [30.0, 1], 'ISIC_0031081': [35.0, -1], 'ISIC_0031082': [70.0, -1], 'ISIC_0031083': [65.0, 1], 'ISIC_0031084': [40.0, -1], 'ISIC_0031085': [75.0, -1], 'ISIC_0031086': [50.0, 1], 'ISIC_0031087': [65.0, -1], 'ISIC_0031088': [45.0, 1], 'ISIC_0031089': [30.0, -1], 'ISIC_0031090': [55.0, 1], 'ISIC_00310901': [55.0, 1], 'ISIC_00310902': [55.0, 1], 'ISIC_00310903': [55.0, 1], 'ISIC_0031091': [55.0, -1], 'ISIC_0031092': [35.0, 1], 'ISIC_0031093': [70.0, -1], 'ISIC_00310931': [70.0, -1], 'ISIC_00310932': [70.0, -1], 'ISIC_0031094': [55.0, -1], 'ISIC_0031095': [85.0, -1], 'ISIC_0031096': [45.0, 1], 'ISIC_0031097': [65.0, 1], 'ISIC_0031098': [55.0, 1], 'ISIC_0031099': [50.0, -1], 'ISIC_0031100': [55.0, -1], 'ISIC_0031101': [45.0, 1], 'ISIC_0031102': [40.0, 1], 'ISIC_0031103': [35.0, 1], 'ISIC_00311031': [35.0, 1], 'ISIC_00311032': [35.0, 1], 'ISIC_0031104': [60.0, 1], 'ISIC_0031105': [55.0, 1], 'ISIC_0031106': [40.0, -1], 'ISIC_0031107': [45.0, 1], 'ISIC_0031108': [60.0, -1], 'ISIC_0031109': [45.0, -1], 'ISIC_0031110': [60.0, -1], 'ISIC_0031111': [55.0, -1], 'ISIC_0031112': [45.0, -1], 'ISIC_0031113': [70.0, 1], 'ISIC_0031114': [75.0, 1], 'ISIC_0031115': [40.0, -1], 'ISIC_0031116': [50.0, -1], 'ISIC_0031117': [70.0, -1], 'ISIC_0031118': [75.0, -1], 'ISIC_0031119': [80.0, -1], 'ISIC_00311191': [80.0, -1], 'ISIC_0031120': [55.0, -1], 'ISIC_0031121': [55.0, -1], 'ISIC_0031122': [65.0, -1], 'ISIC_0031123': [40.0, -1], 'ISIC_00311231': [40.0, -1], 'ISIC_00311232': [40.0, -1], 'ISIC_00311233': [40.0, -1], 'ISIC_0031124': [35.0, -1], 'ISIC_0031125': [60.0, 1], 'ISIC_0031126': [30.0, 1], 'ISIC_0031127': [40.0, -1], 'ISIC_0031128': [60.0, -1], 'ISIC_0031129': [45.0, 1], 'ISIC_0031130': [50.0, 1], 'ISIC_0031131': [75.0, -1], 'ISIC_0031132': [75.0, -1], 'ISIC_0031133': [70.0, 1], 'ISIC_0031134': [65.0, -1], 'ISIC_0031135': [55.0, 1], 'ISIC_0031136': [50.0, -1], 'ISIC_0031137': [50.0, 1], 'ISIC_0031138': [45.0, 1], 'ISIC_0031139': [35.0, 1], 'ISIC_0031140': [60.0, -1], 'ISIC_0031141': [40.0, 1], 'ISIC_0031142': [25.0, -1], 'ISIC_0031143': [50.0, -1], 'ISIC_0031144': [40.0, 1], 'ISIC_0031145': [45.0, 1], 'ISIC_0031146': [20.0, 1], 'ISIC_0031147': [35.0, 1], 'ISIC_0031148': [50.0, 1], 'ISIC_0031149': [75.0, 1], 'ISIC_0031150': [70.0, 1], 'ISIC_0031151': [45.0, 1], 'ISIC_0031152': [40.0, 1], 'ISIC_0031153': [35.0, -1], 'ISIC_0031154': [65.0, 1], 'ISIC_0031155': [45.0, 1], 'ISIC_0031156': [45.0, 1], 'ISIC_0031157': [45.0, -1], 'ISIC_0031158': [40.0, -1], 'ISIC_0031159': [60.0, 1], 'ISIC_0031160': [35.0, 1], 'ISIC_0031161': [60.0, -1], 'ISIC_0031162': [50.0, -1], 'ISIC_0031163': [40.0, -1], 'ISIC_0031164': [30.0, 1], 'ISIC_0031165': [55.0, 1], 'ISIC_0031166': [75.0, 1], 'ISIC_0031167': [45.0, 1], 'ISIC_0031168': [60.0, -1], 'ISIC_0031169': [65.0, 1], 'ISIC_0031170': [85.0, 1], 'ISIC_0031171': [75.0, -1], 'ISIC_0031172': [55.0, -1], 'ISIC_0031173': [5.0, -1], 'ISIC_0031174': [55.0, -1], 'ISIC_0031175': [85.0, -1], 'ISIC_0031176': [45.0, 1], 'ISIC_0031177': [40.0, 1], 'ISIC_0031178': [20.0, -1], 'ISIC_0031179': [45.0, 1], 'ISIC_0031180': [35.0, -1], 'ISIC_0031181': [40.0, -1], 'ISIC_0031182': [45.0, 1], 'ISIC_0031183': [30.0, 1], 'ISIC_0031184': [40.0, 1], 'ISIC_0031185': [35.0, 1], 'ISIC_0031186': [70.0, -1], 'ISIC_0031187': [40.0, -1], 'ISIC_0031188': [85.0, 1], 'ISIC_0031189': [60.0, -1], 'ISIC_0031190': [55.0, 1], 'ISIC_0031191': [60.0, -1], 'ISIC_00311911': [60.0, -1], 'ISIC_0031192': [55.0, 1], 'ISIC_0031193': [70.0, -1], 'ISIC_0031194': [25.0, -1], 'ISIC_0031195': [40.0, -1], 'ISIC_0031196': [45.0, -1], 'ISIC_0031197': [20.0, -1], 'ISIC_00311971': [20.0, -1], 'ISIC_00311972': [20.0, -1], 'ISIC_00311973': [20.0, -1], 'ISIC_0031198': [55.0, 1], 'ISIC_00311981': [55.0, 1], 'ISIC_0031199': [45.0, -1], 'ISIC_0031200': [50.0, 1], 'ISIC_0031201': [45.0, -1], 'ISIC_00312011': [45.0, -1], 'ISIC_00312012': [45.0, -1], 'ISIC_0031202': [45.0, -1], 'ISIC_0031203': [80.0, -1], 'ISIC_0031204': [50.0, -1], 'ISIC_0031205': [35.0, 1], 'ISIC_0031206': [25.0, 1], 'ISIC_0031207': [45.0, -1], 'ISIC_0031208': [55.0, 1], 'ISIC_0031209': [50.0, 1], 'ISIC_0031210': [35.0, -1], 'ISIC_0031211': [75.0, -1], 'ISIC_00312111': [75.0, -1], 'ISIC_0031212': [50.0, -1], 'ISIC_0031213': [75.0, -1], 'ISIC_0031214': [70.0, -1], 'ISIC_0031215': [75.0, -1], 'ISIC_00312151': [75.0, -1], 'ISIC_00312152': [75.0, -1], 'ISIC_0031216': [50.0, 1], 'ISIC_0031217': [15.0, -1], 'ISIC_00312171': [15.0, -1], 'ISIC_00312172': [15.0, -1], 'ISIC_00312173': [15.0, -1], 'ISIC_0031218': [75.0, -1], 'ISIC_0031219': [40.0, 1], 'ISIC_0031220': [35.0, 1], 'ISIC_0031221': [45.0, -1], 'ISIC_0031222': [70.0, -1], 'ISIC_0031223': [75.0, 1], 'ISIC_0031224': [50.0, 1], 'ISIC_0031225': [60.0, 1], 'ISIC_0031226': [70.0, -1], 'ISIC_0031227': [40.0, -1], 'ISIC_0031228': [65.0, -1], 'ISIC_0031229': [45.0, 1], 'ISIC_0031230': [40.0, 1], 'ISIC_0031231': [40.0, 1], 'ISIC_0031232': [35.0, 1], 'ISIC_0031233': [45.0, -1], 'ISIC_0031234': [45.0, -1], 'ISIC_0031235': [55.0, 1], 'ISIC_0031236': [45.0, 1], 'ISIC_0031237': [40.0, 1], 'ISIC_0031238': [60.0, 1], 'ISIC_0031239': [60.0, -1], 'ISIC_0031240': [55.0, 1], 'ISIC_0031241': [35.0, -1], 'ISIC_0031242': [40.0, 1], 'ISIC_0031243': [85.0, 1], 'ISIC_0031244': [40.0, 1], 'ISIC_0031245': [65.0, -1], 'ISIC_0031246': [55.0, 1], 'ISIC_0031247': [55.0, 1], 'ISIC_0031248': [50.0, 1], 'ISIC_0031249': [60.0, -1], 'ISIC_0031250': [45.0, -1], 'ISIC_0031251': [45.0, 1], 'ISIC_0031252': [40.0, -1], 'ISIC_0031253': [60.0, -1], 'ISIC_0031254': [50.0, -1], 'ISIC_0031255': [65.0, -1], 'ISIC_0031256': [30.0, -1], 'ISIC_0031257': [55.0, 1], 'ISIC_00312571': [55.0, 1], 'ISIC_00312572': [55.0, 1], 'ISIC_00312573': [55.0, 1], 'ISIC_0031258': [40.0, -1], 'ISIC_0031259': [0.0, 1], 'ISIC_0031260': [75.0, -1], 'ISIC_0031261': [75.0, -1], 'ISIC_0031262': [50.0, -1], 'ISIC_0031263': [80.0, -1], 'ISIC_0031264': [45.0, 1], 'ISIC_0031265': [40.0, 1], 'ISIC_0031266': [80.0, -1], 'ISIC_0031267': [40.0, -1], 'ISIC_0031268': [45.0, 1], 'ISIC_0031269': [40.0, 1], 'ISIC_0031270': [20.0, -1], 'ISIC_00312701': [20.0, -1], 'ISIC_00312702': [20.0, -1], 'ISIC_00312703': [20.0, -1], 'ISIC_0031271': [45.0, 1], 'ISIC_00312711': [45.0, 1], 'ISIC_00312712': [45.0, 1], 'ISIC_00312713': [45.0, 1], 'ISIC_0031272': [80.0, -1], 'ISIC_0031273': [40.0, -1], 'ISIC_0031274': [75.0, -1], 'ISIC_0031275': [50.0, 1], 'ISIC_0031276': [75.0, -1], 'ISIC_00312761': [75.0, -1], 'ISIC_00312762': [75.0, -1], 'ISIC_0031277': [55.0, 1], 'ISIC_0031278': [70.0, -1], 'ISIC_0031279': [45.0, -1], 'ISIC_0031280': [60.0, -1], 'ISIC_0031281': [45.0, -1], 'ISIC_0031282': [50.0, -1], 'ISIC_0031283': [40.0, 1], 'ISIC_0031284': [75.0, -1], 'ISIC_0031285': [70.0, 1], 'ISIC_0031286': [55.0, -1], 'ISIC_0031287': [75.0, 1], 'ISIC_0031288': [35.0, 1], 'ISIC_0031289': [55.0, -1], 'ISIC_0031290': [60.0, 1], 'ISIC_0031291': [45.0, 1], 'ISIC_0031292': [60.0, -1], 'ISIC_00312921': [60.0, -1], 'ISIC_0031293': [30.0, -1], 'ISIC_0031294': [80.0, -1], 'ISIC_0031295': [50.0, -1], 'ISIC_0031296': [75.0, 1], 'ISIC_0031297': [45.0, 1], 'ISIC_0031298': [75.0, -1], 'ISIC_0031299': [55.0, 1], 'ISIC_0031300': [45.0, -1], 'ISIC_0031301': [55.0, -1], 'ISIC_0031302': [20.0, 1], 'ISIC_0031303': [65.0, -1], 'ISIC_0031304': [60.0, -1], 'ISIC_0031305': [45.0, -1], 'ISIC_0031306': [25.0, 1], 'ISIC_0031307': [65.0, -1], 'ISIC_0031308': [25.0, 1], 'ISIC_0031309': [55.0, -1], 'ISIC_00313091': [55.0, -1], 'ISIC_00313092': [55.0, -1], 'ISIC_00313093': [55.0, -1], 'ISIC_00313094': [55.0, -1], 'ISIC_0031310': [50.0, 1], 'ISIC_0031311': [50.0, -1], 'ISIC_0031312': [50.0, -1], 'ISIC_0031313': [40.0, -1], 'ISIC_0031314': [55.0, -1], 'ISIC_0031315': [30.0, -1], 'ISIC_0031316': [45.0, -1], 'ISIC_0031317': [55.0, -1], 'ISIC_0031318': [65.0, 1], 'ISIC_0031319': [55.0, -1], 'ISIC_0031320': [55.0, -1], 'ISIC_0031321': [70.0, -1], 'ISIC_0031322': [15.0, 1], 'ISIC_0031323': [30.0, 1], 'ISIC_0031324': [45.0, 1], 'ISIC_0031325': [40.0, -1], 'ISIC_0031326': [65.0, -1], 'ISIC_0031327': [65.0, -1], 'ISIC_0031328': [45.0, 1], 'ISIC_0031329': [55.0, 1], 'ISIC_0031330': [45.0, 1], 'ISIC_0031331': [50.0, 1], 'ISIC_0031332': [45.0, 1], 'ISIC_0031333': [50.0, 1], 'ISIC_0031334': [80.0, -1], 'ISIC_0031335': [60.0, -1], 'ISIC_00313351': [60.0, -1], 'ISIC_0031336': [55.0, -1], 'ISIC_0031337': [60.0, 1], 'ISIC_0031338': [55.0, 1], 'ISIC_0031339': [60.0, -1], 'ISIC_0031340': [65.0, -1], 'ISIC_0031341': [40.0, -1], 'ISIC_0031342': [60.0, -1], 'ISIC_0031343': [45.0, 1], 'ISIC_0031344': [65.0, 1], 'ISIC_00313441': [65.0, 1], 'ISIC_00313442': [65.0, 1], 'ISIC_00313443': [65.0, 1], 'ISIC_0031345': [80.0, 1], 'ISIC_0031346': [70.0, 1], 'ISIC_00313461': [70.0, 1], 'ISIC_00313462': [70.0, 1], 'ISIC_00313463': [70.0, 1], 'ISIC_0031347': [40.0, 1], 'ISIC_0031348': [40.0, 1], 'ISIC_0031349': [75.0, 1], 'ISIC_0031350': [60.0, -1], 'ISIC_0031351': [75.0, -1], 'ISIC_0031352': [55.0, -1], 'ISIC_0031353': [55.0, -1], 'ISIC_0031354': [35.0, 1], 'ISIC_0031355': [55.0, 1], 'ISIC_0031356': [50.0, 1], 'ISIC_0031357': [45.0, 1], 'ISIC_0031358': [80.0, -1], 'ISIC_00313581': [80.0, -1], 'ISIC_00313582': [80.0, -1], 'ISIC_00313583': [80.0, -1], 'ISIC_0031359': [65.0, -1], 'ISIC_0031360': [75.0, 1], 'ISIC_0031361': [40.0, -1], 'ISIC_0031362': [70.0, 1], 'ISIC_0031363': [45.0, -1], 'ISIC_0031364': [35.0, 1], 'ISIC_0031365': [50.0, -1], 'ISIC_0031366': [40.0, -1], 'ISIC_0031367': [50.0, -1], 'ISIC_0031368': [55.0, -1], 'ISIC_0031369': [85.0, -1], 'ISIC_0031370': [50.0, -1], 'ISIC_0031371': [55.0, -1], 'ISIC_0031372': [50.0, -1], 'ISIC_00313721': [50.0, -1], 'ISIC_00313722': [50.0, -1], 'ISIC_00313723': [50.0, -1], 'ISIC_0031373': [60.0, 1], 'ISIC_0031374': [80.0, -1], 'ISIC_0031375': [45.0, -1], 'ISIC_0031376': [65.0, 1], 'ISIC_0031377': [65.0, -1], 'ISIC_0031378': [55.0, 1], 'ISIC_0031379': [40.0, -1], 'ISIC_0031380': [60.0, 1], 'ISIC_0031381': [80.0, -1], 'ISIC_00313811': [80.0, -1], 'ISIC_0031382': [45.0, 1], 'ISIC_0031383': [50.0, -1], 'ISIC_0031384': [85.0, -1], 'ISIC_0031385': [75.0, -1], 'ISIC_0031386': [65.0, -1], 'ISIC_0031387': [45.0, -1], 'ISIC_0031388': [55.0, -1], 'ISIC_0031389': [55.0, 1], 'ISIC_0031390': [60.0, -1], 'ISIC_0031391': [45.0, -1], 'ISIC_0031392': [45.0, -1], 'ISIC_0031393': [50.0, 1], 'ISIC_0031394': [60.0, -1], 'ISIC_0031395': [80.0, -1], 'ISIC_0031396': [45.0, -1], 'ISIC_0031397': [60.0, -1], 'ISIC_0031398': [45.0, 1], 'ISIC_0031399': [60.0, -1], 'ISIC_0031400': [75.0, -1], 'ISIC_0031401': [50.0, -1], 'ISIC_0031402': [35.0, 1], 'ISIC_0031403': [45.0, -1], 'ISIC_0031404': [70.0, -1], 'ISIC_0031405': [45.0, -1], 'ISIC_0031406': [55.0, -1], 'ISIC_0031407': [65.0, -1], 'ISIC_0031408': [65.0, -1], 'ISIC_0031409': [70.0, -1], 'ISIC_0031410': [35.0, 1], 'ISIC_0031411': [55.0, 1], 'ISIC_0031412': [20.0, 1], 'ISIC_0031413': [85.0, -1], 'ISIC_0031414': [45.0, -1], 'ISIC_0031415': [50.0, -1], 'ISIC_0031416': [50.0, -1], 'ISIC_0031417': [35.0, 1], 'ISIC_0031418': [50.0, -1], 'ISIC_0031419': [55.0, 1], 'ISIC_0031420': [30.0, 1], 'ISIC_0031421': [80.0, 1], 'ISIC_0031422': [50.0, -1], 'ISIC_0031423': [50.0, 1], 'ISIC_0031424': [65.0, -1], 'ISIC_0031425': [40.0, 1], 'ISIC_0031426': [40.0, 1], 'ISIC_0031427': [45.0, 1], 'ISIC_0031428': [55.0, -1], 'ISIC_0031429': [75.0, -1], 'ISIC_00314291': [75.0, -1], 'ISIC_00314292': [75.0, -1], 'ISIC_00314293': [75.0, -1], 'ISIC_00314294': [75.0, -1], 'ISIC_0031430': [75.0, 1], 'ISIC_0031431': [55.0, 1], 'ISIC_0031432': [45.0, 1], 'ISIC_0031433': [50.0, -1], 'ISIC_0031434': [65.0, -1], 'ISIC_0031435': [55.0, 1], 'ISIC_0031436': [75.0, -1], 'ISIC_0031437': [40.0, -1], 'ISIC_0031438': [55.0, -1], 'ISIC_0031439': [65.0, -1], 'ISIC_0031440': [55.0, -1], 'ISIC_0031441': [55.0, -1], 'ISIC_0031442': [70.0, -1], 'ISIC_0031443': [60.0, -1], 'ISIC_00314431': [60.0, -1], 'ISIC_00314432': [60.0, -1], 'ISIC_00314433': [60.0, -1], 'ISIC_0031444': [65.0, -1], 'ISIC_0031445': [45.0, -1], 'ISIC_0031446': [35.0, 1], 'ISIC_0031447': [50.0, 1], 'ISIC_0031448': [45.0, -1], 'ISIC_0031449': [45.0, 1], 'ISIC_0031450': [65.0, -1], 'ISIC_0031451': [45.0, 1], 'ISIC_0031452': [50.0, -1], 'ISIC_0031453': [50.0, -1], 'ISIC_0031454': [65.0, -1], 'ISIC_0031455': [55.0, -1], 'ISIC_0031456': [75.0, 1], 'ISIC_0031457': [65.0, -1], 'ISIC_00314571': [65.0, -1], 'ISIC_00314572': [65.0, -1], 'ISIC_00314573': [65.0, -1], 'ISIC_0031458': [45.0, -1], 'ISIC_0031459': [60.0, 1], 'ISIC_0031460': [25.0, 1], 'ISIC_0031461': [35.0, 1], 'ISIC_0031462': [55.0, -1], 'ISIC_0031463': [45.0, -1], 'ISIC_0031464': [80.0, 1], 'ISIC_0031465': [75.0, -1], 'ISIC_0031466': [30.0, 1], 'ISIC_0031467': [45.0, -1], 'ISIC_0031468': [75.0, 1], 'ISIC_0031469': [50.0, 1], 'ISIC_0031470': [65.0, 1], 'ISIC_0031471': [45.0, 1], 'ISIC_0031472': [40.0, 1], 'ISIC_0031473': [75.0, -1], 'ISIC_0031474': [60.0, 1], 'ISIC_0031475': [45.0, -1], 'ISIC_0031476': [65.0, -1], 'ISIC_0031477': [45.0, -1], 'ISIC_0031478': [55.0, -1], 'ISIC_0031479': [75.0, 1], 'ISIC_0031480': [40.0, -1], 'ISIC_0031481': [35.0, 1], 'ISIC_0031482': [55.0, 1], 'ISIC_0031483': [25.0, -1], 'ISIC_0031484': [50.0, -1], 'ISIC_0031485': [60.0, -1], 'ISIC_0031486': [45.0, -1], 'ISIC_0031487': [40.0, -1], 'ISIC_0031488': [70.0, -1], 'ISIC_0031489': [55.0, 1], 'ISIC_0031490': [55.0, 1], 'ISIC_0031491': [65.0, -1], 'ISIC_0031492': [70.0, -1], 'ISIC_0031493': [60.0, 1], 'ISIC_0031494': [55.0, -1], 'ISIC_0031495': [40.0, -1], 'ISIC_0031496': [70.0, -1], 'ISIC_0031497': [30.0, 1], 'ISIC_0031498': [65.0, -1], 'ISIC_0031499': [85.0, 1], 'ISIC_0031500': [50.0, -1], 'ISIC_0031501': [25.0, -1], 'ISIC_0031502': [55.0, 1], 'ISIC_0031503': [45.0, 1], 'ISIC_0031504': [45.0, 1], 'ISIC_0031505': [45.0, 1], 'ISIC_0031506': [70.0, -1], 'ISIC_0031507': [65.0, -1], 'ISIC_0031508': [55.0, 1], 'ISIC_0031509': [50.0, 1], 'ISIC_0031510': [60.0, -1], 'ISIC_0031511': [80.0, -1], 'ISIC_0031512': [75.0, -1], 'ISIC_0031513': [50.0, -1], 'ISIC_0031514': [50.0, -1], 'ISIC_0031515': [55.0, 1], 'ISIC_0031516': [40.0, -1], 'ISIC_0031517': [70.0, 1], 'ISIC_0031518': [70.0, -1], 'ISIC_0031519': [70.0, 1], 'ISIC_0031520': [75.0, -1], 'ISIC_0031521': [35.0, -1], 'ISIC_0031522': [70.0, -1], 'ISIC_0031523': [65.0, 1], 'ISIC_0031524': [60.0, 1], 'ISIC_0031525': [45.0, 1], 'ISIC_0031526': [55.0, 1], 'ISIC_0031527': [80.0, 1], 'ISIC_0031528': [40.0, -1], 'ISIC_0031529': [40.0, 1], 'ISIC_0031530': [55.0, -1], 'ISIC_0031531': [70.0, -1], 'ISIC_0031532': [65.0, -1], 'ISIC_0031533': [75.0, -1], 'ISIC_0031534': [45.0, -1], 'ISIC_0031535': [50.0, -1], 'ISIC_0031536': [50.0, -1], 'ISIC_0031537': [60.0, 1], 'ISIC_0031538': [60.0, 1], 'ISIC_0031539': [75.0, -1], 'ISIC_0031540': [75.0, -1], 'ISIC_0031541': [35.0, 1], 'ISIC_0031542': [45.0, -1], 'ISIC_0031543': [60.0, 1], 'ISIC_0031544': [45.0, 1], 'ISIC_0031545': [75.0, 1], 'ISIC_0031546': [50.0, 1], 'ISIC_0031547': [20.0, -1], 'ISIC_0031548': [60.0, -1], 'ISIC_0031549': [45.0, 1], 'ISIC_0031550': [80.0, 1], 'ISIC_0031551': [50.0, 1], 'ISIC_0031552': [70.0, 1], 'ISIC_0031553': [55.0, 1], 'ISIC_0031554': [55.0, -1], 'ISIC_0031555': [35.0, 1], 'ISIC_0031556': [60.0, -1], 'ISIC_0031557': [80.0, -1], 'ISIC_0031558': [50.0, 1], 'ISIC_0031559': [35.0, 1], 'ISIC_0031560': [55.0, -1], 'ISIC_0031561': [55.0, -1], 'ISIC_0031562': [40.0, -1], 'ISIC_0031563': [55.0, 1], 'ISIC_0031564': [50.0, 1], 'ISIC_0031565': [45.0, -1], 'ISIC_0031566': [60.0, -1], 'ISIC_0031567': [70.0, -1], 'ISIC_0031568': [45.0, -1], 'ISIC_0031569': [30.0, 1], 'ISIC_0031570': [70.0, 1], 'ISIC_00315701': [70.0, 1], 'ISIC_0031571': [40.0, 1], 'ISIC_0031572': [45.0, 1], 'ISIC_0031573': [75.0, -1], 'ISIC_0031574': [55.0, 1], 'ISIC_0031575': [50.0, -1], 'ISIC_0031576': [50.0, -1], 'ISIC_0031577': [45.0, 1], 'ISIC_0031578': [65.0, -1], 'ISIC_0031579': [75.0, -1], 'ISIC_0031580': [40.0, -1], 'ISIC_0031581': [40.0, 1], 'ISIC_0031582': [40.0, 1], 'ISIC_0031583': [30.0, -1], 'ISIC_0031584': [70.0, 1], 'ISIC_0031585': [45.0, -1], 'ISIC_0031586': [55.0, 1], 'ISIC_0031587': [60.0, -1], 'ISIC_0031588': [45.0, 1], 'ISIC_0031589': [35.0, -1], 'ISIC_0031590': [50.0, -1], 'ISIC_0031591': [60.0, 1], 'ISIC_0031592': [55.0, -1], 'ISIC_0031593': [65.0, -1], 'ISIC_0031594': [75.0, -1], 'ISIC_0031595': [40.0, -1], 'ISIC_0031596': [55.0, 1], 'ISIC_0031597': [85.0, 1], 'ISIC_0031598': [45.0, 1], 'ISIC_0031599': [25.0, -1], 'ISIC_0031600': [70.0, -1], 'ISIC_0031601': [60.0, -1], 'ISIC_0031602': [65.0, -1], 'ISIC_0031603': [35.0, 1], 'ISIC_0031604': [50.0, 1], 'ISIC_0031605': [60.0, -1], 'ISIC_0031606': [55.0, 1], 'ISIC_0031607': [45.0, 1], 'ISIC_0031608': [50.0, -1], 'ISIC_0031609': [55.0, -1], 'ISIC_00316091': [55.0, -1], 'ISIC_0031610': [40.0, -1], 'ISIC_0031611': [60.0, -1], 'ISIC_0031612': [45.0, -1], 'ISIC_0031613': [65.0, 1], 'ISIC_0031614': [45.0, 1], 'ISIC_0031615': [55.0, -1], 'ISIC_0031616': [45.0, 1], 'ISIC_0031617': [55.0, 1], 'ISIC_0031618': [35.0, -1], 'ISIC_0031619': [65.0, -1], 'ISIC_0031620': [50.0, -1], 'ISIC_0031621': [35.0, 1], 'ISIC_0031622': [50.0, 1], 'ISIC_0031623': [35.0, 1], 'ISIC_0031624': [35.0, 1], 'ISIC_0031625': [45.0, -1], 'ISIC_0031626': [45.0, -1], 'ISIC_0031627': [50.0, 1], 'ISIC_0031628': [75.0, -1], 'ISIC_0031629': [45.0, 1], 'ISIC_0031630': [55.0, 1], 'ISIC_0031631': [20.0, 1], 'ISIC_0031632': [75.0, 1], 'ISIC_0031633': [75.0, -1], 'ISIC_0031634': [35.0, 1], 'ISIC_0031635': [45.0, 1], 'ISIC_0031636': [75.0, 1], 'ISIC_0031637': [65.0, 1], 'ISIC_0031638': [45.0, 1], 'ISIC_0031639': [65.0, 1], 'ISIC_0031640': [65.0, 1], 'ISIC_0031641': [35.0, 1], 'ISIC_0031642': [50.0, 1], 'ISIC_0031643': [70.0, -1], 'ISIC_0031644': [85.0, 1], 'ISIC_0031645': [35.0, -1], 'ISIC_0031646': [75.0, -1], 'ISIC_0031647': [50.0, 1], 'ISIC_0031648': [25.0, 1], 'ISIC_00316481': [25.0, 1], 'ISIC_00316482': [25.0, 1], 'ISIC_00316483': [25.0, 1], 'ISIC_0031649': [50.0, 1], 'ISIC_0031650': [85.0, -1], 'ISIC_0031651': [85.0, 1], 'ISIC_0031652': [45.0, 1], 'ISIC_0031653': [55.0, -1], 'ISIC_0031654': [15.0, 1], 'ISIC_0031655': [45.0, -1], 'ISIC_0031656': [50.0, -1], 'ISIC_0031657': [35.0, 1], 'ISIC_0031658': [40.0, 1], 'ISIC_0031659': [45.0, -1], 'ISIC_00316591': [45.0, -1], 'ISIC_0031660': [45.0, -1], 'ISIC_0031661': [55.0, 1], 'ISIC_0031662': [45.0, 1], 'ISIC_0031663': [40.0, 1], 'ISIC_0031664': [35.0, 1], 'ISIC_0031665': [50.0, -1], 'ISIC_0031666': [55.0, -1], 'ISIC_0031667': [50.0, 1], 'ISIC_0031668': [nan, -1], 'ISIC_0031669': [75.0, -1], 'ISIC_0031670': [80.0, 1], 'ISIC_0031671': [55.0, -1], 'ISIC_0031672': [55.0, 1], 'ISIC_0031673': [30.0, 1], 'ISIC_0031674': [40.0, -1], 'ISIC_0031675': [50.0, 1], 'ISIC_0031676': [40.0, -1], 'ISIC_0031677': [75.0, -1], 'ISIC_0031678': [45.0, 1], 'ISIC_0031679': [55.0, 1], 'ISIC_0031680': [45.0, 1], 'ISIC_0031681': [45.0, 1], 'ISIC_0031682': [35.0, 1], 'ISIC_0031683': [35.0, -1], 'ISIC_0031684': [50.0, 1], 'ISIC_0031685': [50.0, 1], 'ISIC_0031686': [65.0, -1], 'ISIC_0031687': [65.0, -1], 'ISIC_0031688': [40.0, 1], 'ISIC_0031689': [50.0, -1], 'ISIC_0031690': [40.0, -1], 'ISIC_0031691': [40.0, -1], 'ISIC_0031692': [60.0, -1], 'ISIC_00316921': [60.0, -1], 'ISIC_0031693': [75.0, -1], 'ISIC_0031694': [30.0, 1], 'ISIC_0031695': [45.0, 1], 'ISIC_0031696': [35.0, 1], 'ISIC_0031697': [60.0, 1], 'ISIC_0031698': [75.0, 1], 'ISIC_0031699': [75.0, -1], 'ISIC_0031700': [55.0, -1], 'ISIC_0031701': [75.0, -1], 'ISIC_0031702': [70.0, -1], 'ISIC_0031703': [30.0, 1], 'ISIC_0031704': [35.0, 1], 'ISIC_0031705': [55.0, 1], 'ISIC_0031706': [60.0, -1], 'ISIC_00317061': [60.0, -1], 'ISIC_00317062': [60.0, -1], 'ISIC_0031707': [85.0, -1], 'ISIC_0031708': [30.0, 1], 'ISIC_0031709': [65.0, -1], 'ISIC_0031710': [65.0, -1], 'ISIC_0031711': [55.0, 1], 'ISIC_0031712': [75.0, -1], 'ISIC_0031713': [60.0, 1], 'ISIC_0031714': [70.0, -1], 'ISIC_0031715': [65.0, 1], 'ISIC_0031716': [70.0, 1], 'ISIC_0031717': [40.0, -1], 'ISIC_0031718': [70.0, -1], 'ISIC_0031719': [75.0, 1], 'ISIC_00317191': [75.0, 1], 'ISIC_00317192': [75.0, 1], 'ISIC_00317193': [75.0, 1], 'ISIC_0031720': [45.0, 1], 'ISIC_0031721': [70.0, -1], 'ISIC_0031722': [50.0, -1], 'ISIC_0031723': [55.0, 1], 'ISIC_0031724': [50.0, -1], 'ISIC_0031725': [nan, 1], 'ISIC_0031726': [35.0, -1], 'ISIC_0031727': [60.0, -1], 'ISIC_0031728': [55.0, 1], 'ISIC_0031729': [50.0, -1], 'ISIC_0031730': [55.0, -1], 'ISIC_0031731': [35.0, 1], 'ISIC_0031732': [30.0, -1], 'ISIC_0031733': [70.0, -1], 'ISIC_0031734': [35.0, 1], 'ISIC_0031735': [80.0, -1], 'ISIC_00317351': [80.0, -1], 'ISIC_00317352': [80.0, -1], 'ISIC_00317353': [80.0, -1], 'ISIC_0031736': [50.0, -1], 'ISIC_0031737': [45.0, 1], 'ISIC_0031738': [85.0, -1], 'ISIC_00317381': [85.0, -1], 'ISIC_0031739': [40.0, -1], 'ISIC_0031740': [45.0, -1], 'ISIC_0031741': [45.0, 1], 'ISIC_0031742': [70.0, -1], 'ISIC_0031743': [50.0, -1], 'ISIC_00317431': [50.0, -1], 'ISIC_0031744': [35.0, 1], 'ISIC_0031745': [55.0, 1], 'ISIC_0031746': [85.0, -1], 'ISIC_0031747': [50.0, 1], 'ISIC_0031748': [25.0, -1], 'ISIC_0031749': [40.0, 1], 'ISIC_0031750': [15.0, 1], 'ISIC_0031751': [35.0, -1], 'ISIC_0031752': [50.0, -1], 'ISIC_0031753': [70.0, -1], 'ISIC_0031754': [25.0, 1], 'ISIC_0031755': [60.0, -1], 'ISIC_0031756': [70.0, -1], 'ISIC_0031757': [15.0, 1], 'ISIC_0031758': [40.0, 1], 'ISIC_0031759': [80.0, -1], 'ISIC_00317591': [80.0, -1], 'ISIC_00317592': [80.0, -1], 'ISIC_00317593': [80.0, -1], 'ISIC_0031760': [45.0, -1], 'ISIC_0031761': [35.0, 1], 'ISIC_0031762': [75.0, 1], 'ISIC_0031763': [50.0, 1], 'ISIC_0031764': [55.0, 1], 'ISIC_0031765': [50.0, 1], 'ISIC_0031766': [85.0, -1], 'ISIC_0031767': [60.0, -1], 'ISIC_0031768': [45.0, -1], 'ISIC_0031769': [50.0, 1], 'ISIC_0031770': [55.0, 1], 'ISIC_0031771': [55.0, 1], 'ISIC_0031772': [35.0, -1], 'ISIC_0031773': [50.0, 1], 'ISIC_0031774': [45.0, 1], 'ISIC_0031775': [60.0, -1], 'ISIC_0031776': [55.0, -1], 'ISIC_0031777': [45.0, 1], 'ISIC_0031778': [75.0, -1], 'ISIC_0031779': [75.0, 1], 'ISIC_0031780': [40.0, 1], 'ISIC_0031781': [40.0, -1], 'ISIC_0031782': [45.0, 1], 'ISIC_0031783': [70.0, -1], 'ISIC_0031784': [50.0, 1], 'ISIC_0031785': [60.0, -1], 'ISIC_0031786': [70.0, -1], 'ISIC_0031787': [60.0, 1], 'ISIC_0031788': [70.0, -1], 'ISIC_0031789': [75.0, -1], 'ISIC_0031790': [70.0, -1], 'ISIC_0031791': [50.0, 1], 'ISIC_0031792': [50.0, -1], 'ISIC_0031793': [45.0, -1], 'ISIC_0031794': [85.0, -1], 'ISIC_0031795': [65.0, -1], 'ISIC_0031796': [55.0, 1], 'ISIC_0031797': [45.0, 1], 'ISIC_0031798': [20.0, -1], 'ISIC_0031799': [70.0, -1], 'ISIC_00317991': [70.0, -1], 'ISIC_00317992': [70.0, -1], 'ISIC_00317993': [70.0, -1], 'ISIC_0031800': [5.0, -1], 'ISIC_0031801': [45.0, 1], 'ISIC_0031802': [55.0, -1], 'ISIC_0031803': [60.0, 1], 'ISIC_0031804': [55.0, -1], 'ISIC_0031805': [40.0, 1], 'ISIC_0031806': [60.0, 1], 'ISIC_0031807': [40.0, 1], 'ISIC_0031808': [65.0, -1], 'ISIC_0031809': [60.0, 1], 'ISIC_0031810': [65.0, -1], 'ISIC_0031811': [60.0, -1], 'ISIC_0031812': [85.0, -1], 'ISIC_0031813': [40.0, 1], 'ISIC_0031814': [30.0, 1], 'ISIC_0031815': [35.0, 1], 'ISIC_0031816': [35.0, 1], 'ISIC_0031817': [20.0, 1], 'ISIC_0031818': [50.0, 1], 'ISIC_0031819': [50.0, -1], 'ISIC_0031820': [65.0, 1], 'ISIC_0031821': [65.0, 1], 'ISIC_0031822': [35.0, 1], 'ISIC_0031823': [75.0, -1], 'ISIC_0031824': [60.0, -1], 'ISIC_0031825': [65.0, 1], 'ISIC_0031826': [25.0, 1], 'ISIC_0031827': [50.0, -1], 'ISIC_00318271': [50.0, -1], 'ISIC_00318272': [50.0, -1], 'ISIC_00318273': [50.0, -1], 'ISIC_00318274': [50.0, -1], 'ISIC_0031828': [55.0, 1], 'ISIC_0031829': [15.0, 1], 'ISIC_0031830': [55.0, 1], 'ISIC_0031831': [70.0, -1], 'ISIC_0031832': [75.0, -1], 'ISIC_0031833': [45.0, 1], 'ISIC_0031834': [55.0, 1], 'ISIC_0031835': [70.0, -1], 'ISIC_0031836': [40.0, 1], 'ISIC_0031837': [55.0, -1], 'ISIC_0031838': [60.0, -1], 'ISIC_0031839': [45.0, -1], 'ISIC_0031840': [60.0, 1], 'ISIC_0031841': [50.0, -1], 'ISIC_0031842': [45.0, -1], 'ISIC_0031843': [40.0, -1], 'ISIC_0031844': [45.0, 1], 'ISIC_0031845': [55.0, -1], 'ISIC_0031846': [75.0, 1], 'ISIC_0031847': [40.0, 1], 'ISIC_0031848': [40.0, -1], 'ISIC_0031849': [45.0, 1], 'ISIC_0031850': [50.0, 1], 'ISIC_0031851': [55.0, -1], 'ISIC_0031852': [85.0, 1], 'ISIC_00318521': [85.0, 1], 'ISIC_0031853': [55.0, 1], 'ISIC_0031854': [60.0, 1], 'ISIC_0031855': [40.0, -1], 'ISIC_0031856': [50.0, 1], 'ISIC_0031857': [25.0, 1], 'ISIC_0031858': [40.0, -1], 'ISIC_0031859': [75.0, -1], 'ISIC_0031860': [40.0, -1], 'ISIC_0031861': [40.0, 1], 'ISIC_0031862': [50.0, -1], 'ISIC_0031863': [50.0, -1], 'ISIC_0031864': [55.0, 1], 'ISIC_0031865': [45.0, 1], 'ISIC_0031866': [65.0, -1], 'ISIC_0031867': [55.0, -1], 'ISIC_0031868': [55.0, -1], 'ISIC_0031869': [35.0, -1], 'ISIC_0031870': [55.0, -1], 'ISIC_0031871': [45.0, 1], 'ISIC_0031872': [60.0, 1], 'ISIC_0031873': [45.0, 1], 'ISIC_0031874': [65.0, 1], 'ISIC_00318741': [65.0, 1], 'ISIC_0031875': [55.0, -1], 'ISIC_0031876': [70.0, 1], 'ISIC_0031877': [45.0, -1], 'ISIC_0031878': [70.0, -1], 'ISIC_0031879': [85.0, -1], 'ISIC_0031880': [40.0, -1], 'ISIC_0031881': [50.0, 1], 'ISIC_0031882': [60.0, -1], 'ISIC_0031883': [40.0, 1], 'ISIC_0031884': [50.0, 1], 'ISIC_0031885': [50.0, -1], 'ISIC_0031886': [35.0, -1], 'ISIC_0031887': [15.0, 1], 'ISIC_0031888': [85.0, 1], 'ISIC_0031889': [55.0, -1], 'ISIC_0031890': [85.0, -1], 'ISIC_0031891': [55.0, -1], 'ISIC_0031892': [55.0, 1], 'ISIC_0031893': [70.0, 1], 'ISIC_0031894': [25.0, -1], 'ISIC_0031895': [50.0, 1], 'ISIC_0031896': [35.0, 1], 'ISIC_0031897': [55.0, -1], 'ISIC_0031898': [50.0, 1], 'ISIC_0031899': [55.0, 1], 'ISIC_0031900': [55.0, -1], 'ISIC_0031901': [55.0, -1], 'ISIC_00319011': [55.0, -1], 'ISIC_00319012': [55.0, -1], 'ISIC_00319013': [55.0, -1], 'ISIC_0031902': [45.0, -1], 'ISIC_0031903': [70.0, -1], 'ISIC_0031904': [45.0, 1], 'ISIC_0031905': [35.0, -1], 'ISIC_0031906': [50.0, -1], 'ISIC_0031907': [45.0, 1], 'ISIC_0031908': [75.0, -1], 'ISIC_0031909': [45.0, -1], 'ISIC_0031910': [25.0, -1], 'ISIC_0031911': [40.0, -1], 'ISIC_0031912': [65.0, -1], 'ISIC_0031913': [65.0, -1], 'ISIC_0031914': [55.0, -1], 'ISIC_0031915': [60.0, -1], 'ISIC_0031916': [40.0, 1], 'ISIC_0031917': [30.0, -1], 'ISIC_0031918': [65.0, -1], 'ISIC_00319181': [65.0, -1], 'ISIC_0031919': [65.0, -1], 'ISIC_0031920': [50.0, -1], 'ISIC_0031921': [40.0, 1], 'ISIC_0031922': [60.0, 1], 'ISIC_0031923': [40.0, 1], 'ISIC_0031924': [30.0, 1], 'ISIC_0031925': [75.0, -1], 'ISIC_0031926': [55.0, 1], 'ISIC_0031927': [75.0, -1], 'ISIC_0031928': [50.0, 1], 'ISIC_0031929': [65.0, -1], 'ISIC_00319291': [65.0, -1], 'ISIC_0031930': [65.0, 1], 'ISIC_0031931': [70.0, 1], 'ISIC_0031932': [25.0, -1], 'ISIC_0031933': [35.0, 1], 'ISIC_0031934': [20.0, -1], 'ISIC_0031935': [55.0, -1], 'ISIC_0031936': [40.0, 1], 'ISIC_0031937': [40.0, -1], 'ISIC_0031938': [60.0, -1], 'ISIC_0031939': [45.0, 1], 'ISIC_0031940': [55.0, 1], 'ISIC_00319401': [55.0, 1], 'ISIC_0031941': [55.0, -1], 'ISIC_0031942': [65.0, -1], 'ISIC_0031943': [40.0, 1], 'ISIC_0031944': [65.0, -1], 'ISIC_0031945': [65.0, 1], 'ISIC_0031946': [65.0, 1], 'ISIC_0031947': [45.0, 1], 'ISIC_0031948': [70.0, -1], 'ISIC_0031949': [60.0, 1], 'ISIC_0031950': [40.0, -1], 'ISIC_00319501': [40.0, -1], 'ISIC_00319502': [40.0, -1], 'ISIC_00319503': [40.0, -1], 'ISIC_0031951': [60.0, -1], 'ISIC_0031952': [55.0, -1], 'ISIC_0031953': [55.0, -1], 'ISIC_0031954': [55.0, 1], 'ISIC_0031955': [30.0, 1], 'ISIC_00319551': [30.0, 1], 'ISIC_00319552': [30.0, 1], 'ISIC_0031956': [30.0, 1], 'ISIC_0031957': [70.0, 1], 'ISIC_0031958': [85.0, 1], 'ISIC_0031959': [45.0, 1], 'ISIC_0031960': [35.0, 1], 'ISIC_0031961': [60.0, 1], 'ISIC_0031962': [50.0, -1], 'ISIC_0031963': [65.0, -1], 'ISIC_0031964': [50.0, -1], 'ISIC_0031965': [35.0, -1], 'ISIC_0031966': [45.0, 1], 'ISIC_0031967': [70.0, 1], 'ISIC_0031968': [50.0, 1], 'ISIC_0031969': [75.0, 1], 'ISIC_0031970': [75.0, -1], 'ISIC_0031971': [70.0, -1], 'ISIC_0031972': [65.0, 1], 'ISIC_0031973': [5.0, -1], 'ISIC_0031974': [45.0, -1], 'ISIC_0031975': [75.0, -1], 'ISIC_0031976': [80.0, -1], 'ISIC_0031977': [85.0, -1], 'ISIC_0031978': [50.0, 1], 'ISIC_0031979': [45.0, 1], 'ISIC_0031980': [65.0, -1], 'ISIC_0031981': [40.0, -1], 'ISIC_0031982': [35.0, -1], 'ISIC_0031983': [60.0, -1], 'ISIC_0031984': [20.0, 1], 'ISIC_0031985': [20.0, 1], 'ISIC_0031986': [60.0, 1], 'ISIC_0031987': [30.0, 1], 'ISIC_0031988': [50.0, -1], 'ISIC_0031989': [50.0, -1], 'ISIC_0031990': [55.0, -1], 'ISIC_0031991': [55.0, -1], 'ISIC_0031992': [65.0, -1], 'ISIC_0031993': [45.0, -1], 'ISIC_0031994': [35.0, -1], 'ISIC_0031995': [35.0, -1], 'ISIC_0031996': [70.0, 1], 'ISIC_00319961': [70.0, 1], 'ISIC_00319962': [70.0, 1], 'ISIC_0031997': [50.0, 1], 'ISIC_0031998': [50.0, 1], 'ISIC_0031999': [40.0, -1], 'ISIC_0032000': [60.0, -1], 'ISIC_0032001': [30.0, 1], 'ISIC_0032002': [45.0, -1], 'ISIC_0032003': [30.0, 1], 'ISIC_0032004': [50.0, -1], 'ISIC_0032005': [50.0, 1], 'ISIC_0032006': [75.0, -1], 'ISIC_0032007': [25.0, -1], 'ISIC_0032008': [55.0, -1], 'ISIC_0032009': [40.0, -1], 'ISIC_0032010': [50.0, 1], 'ISIC_0032011': [45.0, 1], 'ISIC_0032012': [55.0, 1], 'ISIC_0032013': [75.0, 1], 'ISIC_0032014': [60.0, -1], 'ISIC_0032015': [50.0, 1], 'ISIC_0032016': [55.0, -1], 'ISIC_0032017': [70.0, -1], 'ISIC_0032018': [25.0, 1], 'ISIC_0032019': [50.0, -1], 'ISIC_0032020': [0.0, 1], 'ISIC_0032021': [25.0, 1], 'ISIC_0032022': [65.0, -1], 'ISIC_0032023': [55.0, 1], 'ISIC_0032024': [65.0, 1], 'ISIC_0032025': [45.0, -1], 'ISIC_0032026': [5.0, -1], 'ISIC_0032027': [60.0, 1], 'ISIC_0032028': [60.0, -1], 'ISIC_0032029': [55.0, 1], 'ISIC_0032030': [45.0, -1], 'ISIC_0032031': [65.0, 1], 'ISIC_0032032': [45.0, 1], 'ISIC_0032033': [50.0, 1], 'ISIC_0032034': [55.0, -1], 'ISIC_0032035': [40.0, -1], 'ISIC_0032036': [65.0, 1], 'ISIC_0032037': [60.0, 1], 'ISIC_0032038': [40.0, 1], 'ISIC_0032039': [45.0, -1], 'ISIC_0032040': [80.0, -1], 'ISIC_0032041': [60.0, 1], 'ISIC_0032042': [5.0, 1], 'ISIC_0032043': [55.0, -1], 'ISIC_0032044': [65.0, -1], 'ISIC_0032045': [75.0, 1], 'ISIC_0032046': [75.0, -1], 'ISIC_0032047': [50.0, 1], 'ISIC_0032048': [55.0, -1], 'ISIC_0032049': [55.0, 1], 'ISIC_0032050': [60.0, -1], 'ISIC_0032051': [50.0, -1], 'ISIC_0032052': [55.0, 1], 'ISIC_0032053': [50.0, -1], 'ISIC_0032054': [35.0, 1], 'ISIC_0032055': [40.0, 1], 'ISIC_0032056': [65.0, 1], 'ISIC_0032057': [55.0, 1], 'ISIC_00320571': [55.0, 1], 'ISIC_00320572': [55.0, 1], 'ISIC_0032058': [40.0, 1], 'ISIC_0032059': [55.0, 1], 'ISIC_0032060': [50.0, -1], 'ISIC_0032061': [75.0, -1], 'ISIC_0032062': [50.0, 1], 'ISIC_0032063': [50.0, -1], 'ISIC_0032064': [40.0, 1], 'ISIC_0032065': [40.0, 1], 'ISIC_0032066': [60.0, -1], 'ISIC_0032067': [30.0, 1], 'ISIC_0032068': [45.0, -1], 'ISIC_0032069': [45.0, 1], 'ISIC_0032070': [60.0, 1], 'ISIC_0032071': [30.0, -1], 'ISIC_0032072': [65.0, 1], 'ISIC_0032073': [50.0, 1], 'ISIC_0032074': [60.0, -1], 'ISIC_0032075': [50.0, -1], 'ISIC_0032076': [85.0, -1], 'ISIC_00320761': [85.0, -1], 'ISIC_00320762': [85.0, -1], 'ISIC_00320763': [85.0, -1], 'ISIC_0032077': [30.0, 1], 'ISIC_0032078': [45.0, 1], 'ISIC_0032079': [60.0, 1], 'ISIC_0032080': [50.0, 1], 'ISIC_0032081': [85.0, -1], 'ISIC_0032082': [55.0, 1], 'ISIC_0032083': [55.0, 1], 'ISIC_0032084': [60.0, -1], 'ISIC_0032085': [55.0, 1], 'ISIC_0032086': [55.0, -1], 'ISIC_0032087': [50.0, 1], 'ISIC_0032088': [45.0, 1], 'ISIC_0032089': [60.0, -1], 'ISIC_0032090': [45.0, 1], 'ISIC_0032091': [45.0, 1], 'ISIC_0032092': [45.0, -1], 'ISIC_0032093': [50.0, -1], 'ISIC_0032094': [45.0, -1], 'ISIC_0032095': [55.0, -1], 'ISIC_0032096': [55.0, 1], 'ISIC_0032097': [55.0, -1], 'ISIC_0032098': [35.0, 1], 'ISIC_0032099': [85.0, -1], 'ISIC_0032100': [75.0, 1], 'ISIC_0032101': [35.0, 1], 'ISIC_0032102': [30.0, -1], 'ISIC_0032103': [70.0, -1], 'ISIC_0032104': [45.0, -1], 'ISIC_0032105': [60.0, -1], 'ISIC_0032106': [45.0, -1], 'ISIC_0032107': [70.0, 1], 'ISIC_0032108': [50.0, 1], 'ISIC_0032109': [45.0, 1], 'ISIC_0032110': [75.0, 1], 'ISIC_0032111': [75.0, -1], 'ISIC_0032112': [30.0, -1], 'ISIC_0032113': [45.0, 1], 'ISIC_0032114': [65.0, -1], 'ISIC_00321141': [65.0, -1], 'ISIC_00321142': [65.0, -1], 'ISIC_00321143': [65.0, -1], 'ISIC_0032115': [45.0, 1], 'ISIC_0032116': [75.0, 1], 'ISIC_0032117': [55.0, 1], 'ISIC_0032118': [45.0, -1], 'ISIC_0032119': [35.0, 1], 'ISIC_0032120': [50.0, 1], 'ISIC_0032121': [45.0, -1], 'ISIC_0032122': [35.0, -1], 'ISIC_0032123': [70.0, 1], 'ISIC_0032124': [70.0, 1], 'ISIC_0032125': [25.0, 1], 'ISIC_0032126': [50.0, -1], 'ISIC_0032127': [70.0, -1], 'ISIC_0032128': [75.0, -1], 'ISIC_0032129': [70.0, -1], 'ISIC_0032130': [60.0, -1], 'ISIC_0032131': [35.0, 1], 'ISIC_0032132': [60.0, 1], 'ISIC_0032133': [30.0, -1], 'ISIC_0032134': [70.0, 1], 'ISIC_0032135': [65.0, 1], 'ISIC_0032136': [45.0, 1], 'ISIC_0032137': [70.0, -1], 'ISIC_0032138': [35.0, 1], 'ISIC_00321381': [35.0, 1], 'ISIC_00321382': [35.0, 1], 'ISIC_00321383': [35.0, 1], 'ISIC_00321384': [35.0, 1], 'ISIC_0032139': [85.0, 1], 'ISIC_0032140': [40.0, -1], 'ISIC_0032141': [60.0, 1], 'ISIC_0032142': [50.0, -1], 'ISIC_0032143': [60.0, 1], 'ISIC_0032144': [30.0, -1], 'ISIC_0032145': [40.0, -1], 'ISIC_0032146': [80.0, 1], 'ISIC_0032147': [30.0, -1], 'ISIC_0032148': [55.0, -1], 'ISIC_0032149': [50.0, -1], 'ISIC_0032150': [50.0, 1], 'ISIC_0032151': [40.0, -1], 'ISIC_0032152': [50.0, -1], 'ISIC_0032153': [45.0, 1], 'ISIC_0032154': [75.0, -1], 'ISIC_00321541': [75.0, -1], 'ISIC_0032155': [45.0, 1], 'ISIC_0032156': [70.0, 1], 'ISIC_0032157': [25.0, 1], 'ISIC_0032158': [45.0, 1], 'ISIC_0032159': [70.0, -1], 'ISIC_0032160': [65.0, -1], 'ISIC_0032161': [70.0, -1], 'ISIC_0032162': [35.0, 1], 'ISIC_0032163': [50.0, -1], 'ISIC_0032164': [65.0, 1], 'ISIC_0032165': [70.0, -1], 'ISIC_0032166': [40.0, -1], 'ISIC_0032167': [45.0, 1], 'ISIC_0032168': [60.0, 1], 'ISIC_0032169': [45.0, 1], 'ISIC_0032170': [0.0, 1], 'ISIC_0032171': [50.0, 1], 'ISIC_0032172': [55.0, -1], 'ISIC_0032173': [80.0, 1], 'ISIC_00321731': [80.0, 1], 'ISIC_0032174': [75.0, -1], 'ISIC_0032175': [50.0, 1], 'ISIC_0032176': [75.0, -1], 'ISIC_0032177': [45.0, -1], 'ISIC_0032178': [65.0, -1], 'ISIC_0032179': [65.0, -1], 'ISIC_0032180': [55.0, 1], 'ISIC_0032181': [45.0, 1], 'ISIC_0032182': [70.0, 1], 'ISIC_0032183': [35.0, -1], 'ISIC_0032184': [70.0, 1], 'ISIC_0032185': [45.0, 1], 'ISIC_0032186': [65.0, -1], 'ISIC_0032187': [70.0, -1], 'ISIC_0032188': [55.0, -1], 'ISIC_0032189': [40.0, -1], 'ISIC_0032190': [60.0, -1], 'ISIC_0032191': [75.0, 1], 'ISIC_0032192': [80.0, -1], 'ISIC_0032193': [35.0, -1], 'ISIC_0032194': [45.0, -1], 'ISIC_0032195': [50.0, -1], 'ISIC_0032196': [45.0, -1], 'ISIC_0032197': [50.0, -1], 'ISIC_0032198': [75.0, 1], 'ISIC_0032199': [60.0, 1], 'ISIC_0032200': [65.0, -1], 'ISIC_0032201': [45.0, -1], 'ISIC_0032202': [55.0, -1], 'ISIC_0032203': [60.0, 1], 'ISIC_00322031': [60.0, 1], 'ISIC_0032204': [55.0, -1], 'ISIC_0032205': [45.0, 1], 'ISIC_0032206': [50.0, -1], 'ISIC_0032207': [35.0, 1], 'ISIC_0032208': [50.0, -1], 'ISIC_0032209': [55.0, -1], 'ISIC_0032210': [55.0, -1], 'ISIC_0032211': [45.0, 1], 'ISIC_0032212': [45.0, 1], 'ISIC_0032213': [55.0, -1], 'ISIC_0032214': [70.0, -1], 'ISIC_0032215': [40.0, -1], 'ISIC_0032216': [45.0, -1], 'ISIC_0032217': [45.0, 1], 'ISIC_0032218': [40.0, 1], 'ISIC_0032219': [85.0, -1], 'ISIC_0032220': [70.0, 1], 'ISIC_0032221': [20.0, -1], 'ISIC_0032222': [65.0, -1], 'ISIC_0032223': [45.0, 1], 'ISIC_0032224': [45.0, 1], 'ISIC_0032225': [70.0, 1], 'ISIC_0032226': [50.0, -1], 'ISIC_0032227': [35.0, -1], 'ISIC_0032228': [30.0, -1], 'ISIC_0032229': [80.0, -1], 'ISIC_0032230': [70.0, -1], 'ISIC_0032231': [40.0, 1], 'ISIC_0032232': [85.0, -1], 'ISIC_0032233': [75.0, -1], 'ISIC_0032234': [60.0, -1], 'ISIC_0032235': [70.0, 1], 'ISIC_0032236': [40.0, 1], 'ISIC_0032237': [50.0, -1], 'ISIC_0032238': [75.0, -1], 'ISIC_0032239': [50.0, 1], 'ISIC_0032240': [65.0, 1], 'ISIC_00322401': [65.0, 1], 'ISIC_00322402': [65.0, 1], 'ISIC_00322403': [65.0, 1], 'ISIC_0032241': [50.0, -1], 'ISIC_0032242': [35.0, 1], 'ISIC_0032243': [65.0, -1], 'ISIC_0032244': [75.0, 1], 'ISIC_0032245': [85.0, -1], 'ISIC_0032246': [70.0, 1], 'ISIC_0032247': [75.0, -1], 'ISIC_00322471': [75.0, -1], 'ISIC_00322472': [75.0, -1], 'ISIC_00322473': [75.0, -1], 'ISIC_00322474': [75.0, -1], 'ISIC_0032248': [75.0, -1], 'ISIC_0032249': [45.0, -1], 'ISIC_0032250': [45.0, -1], 'ISIC_0032251': [40.0, 1], 'ISIC_0032252': [45.0, 1], 'ISIC_0032253': [40.0, 1], 'ISIC_0032254': [45.0, -1], 'ISIC_0032255': [55.0, -1], 'ISIC_0032256': [20.0, -1], 'ISIC_0032257': [40.0, -1], 'ISIC_0032258': [70.0, 1], 'ISIC_0032259': [50.0, -1], 'ISIC_0032260': [45.0, 1], 'ISIC_0032261': [40.0, -1], 'ISIC_0032262': [65.0, 1], 'ISIC_0032263': [40.0, -1], 'ISIC_0032264': [40.0, -1], 'ISIC_0032265': [50.0, -1], 'ISIC_0032266': [55.0, 1], 'ISIC_0032267': [45.0, 1], 'ISIC_0032268': [45.0, 1], 'ISIC_0032269': [60.0, -1], 'ISIC_0032270': [70.0, 1], 'ISIC_00322701': [70.0, 1], 'ISIC_00322702': [70.0, 1], 'ISIC_00322703': [70.0, 1], 'ISIC_0032271': [50.0, -1], 'ISIC_0032272': [50.0, 1], 'ISIC_0032273': [20.0, -1], 'ISIC_0032274': [50.0, 1], 'ISIC_0032275': [40.0, -1], 'ISIC_0032276': [35.0, -1], 'ISIC_0032277': [85.0, -1], 'ISIC_00322771': [85.0, -1], 'ISIC_0032278': [60.0, 1], 'ISIC_0032279': [65.0, -1], 'ISIC_0032280': [60.0, 1], 'ISIC_0032281': [40.0, -1], 'ISIC_0032282': [40.0, 1], 'ISIC_0032283': [75.0, 1], 'ISIC_0032284': [50.0, 1], 'ISIC_0032285': [45.0, 1], 'ISIC_0032286': [35.0, -1], 'ISIC_0032287': [80.0, -1], 'ISIC_0032288': [50.0, 1], 'ISIC_0032289': [40.0, 1], 'ISIC_0032290': [80.0, -1], 'ISIC_0032291': [60.0, -1], 'ISIC_0032292': [70.0, 1], 'ISIC_0032293': [50.0, 1], 'ISIC_0032294': [50.0, -1], 'ISIC_0032295': [45.0, 1], 'ISIC_0032296': [40.0, 1], 'ISIC_0032297': [75.0, -1], 'ISIC_0032298': [65.0, 1], 'ISIC_0032299': [50.0, -1], 'ISIC_0032300': [nan, 1], 'ISIC_0032301': [50.0, -1], 'ISIC_0032302': [60.0, 1], 'ISIC_0032303': [70.0, -1], 'ISIC_0032304': [65.0, 1], 'ISIC_0032305': [65.0, -1], 'ISIC_0032306': [55.0, -1], 'ISIC_0032307': [80.0, -1], 'ISIC_0032308': [75.0, -1], 'ISIC_0032309': [25.0, -1], 'ISIC_0032310': [45.0, 1], 'ISIC_0032311': [30.0, -1], 'ISIC_0032312': [30.0, 1], 'ISIC_0032313': [70.0, -1], 'ISIC_0032314': [85.0, -1], 'ISIC_0032315': [45.0, -1], 'ISIC_0032316': [65.0, -1], 'ISIC_0032317': [50.0, 1], 'ISIC_0032318': [65.0, -1], 'ISIC_0032319': [60.0, 1], 'ISIC_0032320': [50.0, 1], 'ISIC_0032321': [35.0, -1], 'ISIC_0032322': [15.0, 1], 'ISIC_0032323': [50.0, -1], 'ISIC_0032324': [55.0, 1], 'ISIC_0032325': [70.0, -1], 'ISIC_0032326': [55.0, -1], 'ISIC_0032327': [80.0, -1], 'ISIC_0032328': [5.0, -1], 'ISIC_0032329': [85.0, 1], 'ISIC_00323291': [85.0, 1], 'ISIC_0032330': [65.0, 1], 'ISIC_0032331': [80.0, -1], 'ISIC_0032332': [35.0, 1], 'ISIC_0032333': [35.0, 1], 'ISIC_0032334': [40.0, -1], 'ISIC_0032335': [80.0, -1], 'ISIC_0032336': [35.0, 1], 'ISIC_0032337': [75.0, -1], 'ISIC_0032338': [65.0, 1], 'ISIC_0032339': [55.0, 1], 'ISIC_0032340': [20.0, 1], 'ISIC_0032341': [40.0, 1], 'ISIC_0032342': [60.0, -1], 'ISIC_0032343': [70.0, 1], 'ISIC_0032344': [35.0, -1], 'ISIC_0032345': [55.0, -1], 'ISIC_0032346': [40.0, -1], 'ISIC_0032347': [35.0, 1], 'ISIC_0032348': [75.0, 1], 'ISIC_0032349': [60.0, -1], 'ISIC_00323491': [60.0, -1], 'ISIC_0032350': [45.0, -1], 'ISIC_0032351': [55.0, -1], 'ISIC_0032352': [60.0, 1], 'ISIC_0032353': [45.0, -1], 'ISIC_0032354': [30.0, 1], 'ISIC_0032355': [65.0, 1], 'ISIC_0032356': [60.0, -1], 'ISIC_00323561': [60.0, -1], 'ISIC_0032357': [50.0, -1], 'ISIC_0032358': [50.0, 1], 'ISIC_0032359': [75.0, 1], 'ISIC_0032360': [55.0, 1], 'ISIC_0032361': [50.0, 1], 'ISIC_0032362': [35.0, 1], 'ISIC_0032363': [20.0, 1], 'ISIC_0032364': [55.0, -1], 'ISIC_0032365': [60.0, 1], 'ISIC_0032366': [50.0, -1], 'ISIC_0032367': [60.0, -1], 'ISIC_0032368': [30.0, 1], 'ISIC_0032369': [50.0, 1], 'ISIC_0032370': [45.0, -1], 'ISIC_0032371': [75.0, -1], 'ISIC_00323711': [75.0, -1], 'ISIC_0032372': [60.0, -1], 'ISIC_0032373': [70.0, 1], 'ISIC_0032374': [50.0, 1], 'ISIC_0032375': [40.0, 1], 'ISIC_0032376': [55.0, -1], 'ISIC_0032377': [55.0, 1], 'ISIC_0032378': [55.0, 1], 'ISIC_0032379': [65.0, -1], 'ISIC_0032380': [30.0, 1], 'ISIC_0032381': [55.0, -1], 'ISIC_0032382': [55.0, -1], 'ISIC_0032383': [55.0, -1], 'ISIC_0032384': [50.0, -1], 'ISIC_0032385': [5.0, 1], 'ISIC_0032386': [40.0, -1], 'ISIC_0032387': [65.0, 1], 'ISIC_0032388': [5.0, -1], 'ISIC_0032389': [65.0, -1], 'ISIC_0032390': [40.0, -1], 'ISIC_0032391': [45.0, 1], 'ISIC_0032392': [65.0, -1], 'ISIC_0032393': [70.0, -1], 'ISIC_0032394': [40.0, -1], 'ISIC_0032395': [65.0, 1], 'ISIC_0032396': [55.0, -1], 'ISIC_0032397': [85.0, -1], 'ISIC_0032398': [55.0, -1], 'ISIC_0032399': [40.0, 1], 'ISIC_0032400': [60.0, 1], 'ISIC_0032401': [25.0, 1], 'ISIC_0032402': [40.0, -1], 'ISIC_0032403': [50.0, -1], 'ISIC_0032404': [70.0, -1], 'ISIC_0032405': [35.0, 1], 'ISIC_0032406': [40.0, -1], 'ISIC_0032407': [40.0, 1], 'ISIC_0032408': [60.0, 1], 'ISIC_0032409': [80.0, -1], 'ISIC_00324091': [80.0, -1], 'ISIC_00324092': [80.0, -1], 'ISIC_0032410': [30.0, -1], 'ISIC_00324101': [30.0, -1], 'ISIC_00324102': [30.0, -1], 'ISIC_00324103': [30.0, -1], 'ISIC_00324104': [30.0, -1], 'ISIC_0032411': [50.0, 1], 'ISIC_0032412': [75.0, -1], 'ISIC_0032413': [60.0, 1], 'ISIC_0032414': [75.0, 1], 'ISIC_0032415': [70.0, 1], 'ISIC_0032416': [55.0, 1], 'ISIC_0032417': [70.0, -1], 'ISIC_0032418': [55.0, 1], 'ISIC_0032419': [45.0, 1], 'ISIC_0032420': [65.0, 1], 'ISIC_0032421': [20.0, 1], 'ISIC_0032422': [70.0, -1], 'ISIC_00324221': [70.0, -1], 'ISIC_0032423': [70.0, -1], 'ISIC_0032424': [70.0, 1], 'ISIC_0032425': [70.0, 1], 'ISIC_0032426': [45.0, 1], 'ISIC_0032427': [50.0, -1], 'ISIC_0032428': [60.0, -1], 'ISIC_0032429': [75.0, -1], 'ISIC_0032430': [55.0, -1], 'ISIC_0032431': [65.0, -1], 'ISIC_0032432': [30.0, -1], 'ISIC_0032433': [55.0, 1], 'ISIC_0032434': [70.0, -1], 'ISIC_0032435': [45.0, -1], 'ISIC_0032436': [50.0, 1], 'ISIC_0032437': [65.0, -1], 'ISIC_00324371': [65.0, -1], 'ISIC_0032438': [45.0, 1], 'ISIC_0032439': [65.0, 1], 'ISIC_0032440': [25.0, 1], 'ISIC_0032441': [75.0, -1], 'ISIC_0032442': [50.0, 1], 'ISIC_0032443': [35.0, -1], 'ISIC_0032444': [65.0, -1], 'ISIC_0032445': [60.0, 1], 'ISIC_0032446': [45.0, 1], 'ISIC_0032447': [70.0, -1], 'ISIC_0032448': [25.0, 1], 'ISIC_0032449': [50.0, -1], 'ISIC_0032450': [70.0, -1], 'ISIC_0032451': [65.0, -1], 'ISIC_0032452': [65.0, -1], 'ISIC_0032453': [70.0, -1], 'ISIC_0032454': [65.0, -1], 'ISIC_0032455': [80.0, -1], 'ISIC_00324551': [80.0, -1], 'ISIC_0032456': [55.0, -1], 'ISIC_0032457': [35.0, 1], 'ISIC_0032458': [55.0, -1], 'ISIC_0032459': [45.0, 1], 'ISIC_0032460': [70.0, -1], 'ISIC_0032461': [40.0, 1], 'ISIC_0032462': [70.0, -1], 'ISIC_0032463': [75.0, -1], 'ISIC_0032464': [45.0, -1], 'ISIC_0032465': [30.0, 1], 'ISIC_0032466': [60.0, -1], 'ISIC_0032467': [50.0, 1], 'ISIC_0032468': [75.0, 1], 'ISIC_00324681': [75.0, 1], 'ISIC_00324682': [75.0, 1], 'ISIC_00324683': [75.0, 1], 'ISIC_00324684': [75.0, 1], 'ISIC_0032469': [30.0, -1], 'ISIC_0032470': [40.0, -1], 'ISIC_0032471': [55.0, -1], 'ISIC_0032472': [45.0, 1], 'ISIC_0032473': [55.0, 1], 'ISIC_0032474': [60.0, -1], 'ISIC_0032475': [50.0, -1], 'ISIC_0032476': [60.0, -1], 'ISIC_0032477': [35.0, -1], 'ISIC_0032478': [40.0, 1], 'ISIC_0032479': [45.0, 1], 'ISIC_0032480': [75.0, -1], 'ISIC_0032481': [80.0, -1], 'ISIC_0032482': [70.0, -1], 'ISIC_0032483': [45.0, 1], 'ISIC_0032484': [60.0, -1], 'ISIC_0032485': [35.0, 1], 'ISIC_0032486': [70.0, 1], 'ISIC_0032487': [45.0, 1], 'ISIC_0032488': [55.0, -1], 'ISIC_0032489': [45.0, -1], 'ISIC_0032490': [45.0, -1], 'ISIC_0032491': [70.0, -1], 'ISIC_0032492': [30.0, 1], 'ISIC_0032493': [55.0, 1], 'ISIC_0032494': [25.0, 1], 'ISIC_0032495': [50.0, -1], 'ISIC_0032496': [25.0, -1], 'ISIC_0032497': [70.0, 1], 'ISIC_0032498': [55.0, -1], 'ISIC_0032499': [45.0, -1], 'ISIC_0032500': [40.0, -1], 'ISIC_0032501': [35.0, 1], 'ISIC_0032502': [50.0, 1], 'ISIC_0032503': [55.0, 1], 'ISIC_0032504': [50.0, 1], 'ISIC_0032505': [55.0, -1], 'ISIC_0032506': [60.0, -1], 'ISIC_0032507': [45.0, 1], 'ISIC_0032508': [45.0, 1], 'ISIC_0032509': [70.0, 1], 'ISIC_0032510': [25.0, -1], 'ISIC_0032511': [70.0, -1], 'ISIC_0032512': [40.0, 1], 'ISIC_0032513': [60.0, -1], 'ISIC_0032514': [75.0, -1], 'ISIC_0032515': [35.0, 1], 'ISIC_0032516': [40.0, -1], 'ISIC_0032517': [50.0, -1], 'ISIC_0032518': [5.0, 1], 'ISIC_0032519': [65.0, -1], 'ISIC_0032520': [45.0, 1], 'ISIC_0032521': [50.0, -1], 'ISIC_0032522': [70.0, -1], 'ISIC_0032523': [65.0, -1], 'ISIC_0032524': [55.0, -1], 'ISIC_0032525': [40.0, -1], 'ISIC_0032526': [40.0, 1], 'ISIC_0032527': [45.0, -1], 'ISIC_0032528': [30.0, -1], 'ISIC_0032529': [60.0, 1], 'ISIC_0032530': [25.0, 1], 'ISIC_0032531': [45.0, -1], 'ISIC_0032532': [80.0, -1], 'ISIC_0032533': [30.0, 1], 'ISIC_0032534': [55.0, -1], 'ISIC_0032535': [65.0, -1], 'ISIC_0032536': [45.0, -1], 'ISIC_0032537': [55.0, -1], 'ISIC_0032538': [80.0, 1], 'ISIC_00325381': [80.0, 1], 'ISIC_00325382': [80.0, 1], 'ISIC_00325383': [80.0, 1], 'ISIC_0032539': [55.0, -1], 'ISIC_0032540': [30.0, -1], 'ISIC_0032541': [35.0, 1], 'ISIC_0032542': [30.0, 1], 'ISIC_0032543': [30.0, -1], 'ISIC_0032544': [60.0, -1], 'ISIC_0032545': [45.0, 1], 'ISIC_00325451': [45.0, 1], 'ISIC_00325452': [45.0, 1], 'ISIC_00325453': [45.0, 1], 'ISIC_0032546': [55.0, -1], 'ISIC_0032547': [55.0, -1], 'ISIC_0032548': [35.0, -1], 'ISIC_0032549': [25.0, 1], 'ISIC_0032550': [45.0, -1], 'ISIC_0032551': [55.0, -1], 'ISIC_0032552': [55.0, 1], 'ISIC_0032553': [60.0, 1], 'ISIC_0032554': [85.0, -1], 'ISIC_0032555': [55.0, 1], 'ISIC_0032556': [75.0, -1], 'ISIC_0032557': [55.0, -1], 'ISIC_00325571': [55.0, -1], 'ISIC_00325572': [55.0, -1], 'ISIC_00325573': [55.0, -1], 'ISIC_0032558': [45.0, 1], 'ISIC_0032559': [45.0, 1], 'ISIC_0032560': [40.0, -1], 'ISIC_0032561': [55.0, -1], 'ISIC_0032562': [40.0, 1], 'ISIC_0032563': [45.0, -1], 'ISIC_0032564': [70.0, -1], 'ISIC_0032565': [50.0, -1], 'ISIC_0032566': [70.0, 1], 'ISIC_0032567': [60.0, 1], 'ISIC_0032568': [40.0, 1], 'ISIC_0032569': [30.0, -1], 'ISIC_0032570': [60.0, 1], 'ISIC_0032571': [40.0, 1], 'ISIC_0032572': [45.0, 1], 'ISIC_0032573': [30.0, -1], 'ISIC_0032574': [45.0, -1], 'ISIC_0032575': [40.0, 1], 'ISIC_0032576': [75.0, -1], 'ISIC_0032577': [50.0, -1], 'ISIC_0032578': [nan, 1], 'ISIC_0032579': [55.0, 1], 'ISIC_0032580': [70.0, -1], 'ISIC_0032581': [50.0, 1], 'ISIC_0032582': [50.0, 1], 'ISIC_0032583': [70.0, -1], 'ISIC_0032584': [35.0, 1], 'ISIC_0032585': [25.0, -1], 'ISIC_0032586': [85.0, -1], 'ISIC_0032587': [15.0, 1], 'ISIC_0032588': [25.0, -1], 'ISIC_0032589': [70.0, -1], 'ISIC_0032590': [20.0, 1], 'ISIC_0032591': [40.0, 1], 'ISIC_0032592': [80.0, -1], 'ISIC_0032593': [30.0, 1], 'ISIC_0032594': [35.0, 1], 'ISIC_0032595': [45.0, 1], 'ISIC_0032596': [70.0, -1], 'ISIC_0032597': [25.0, 1], 'ISIC_0032598': [50.0, 1], 'ISIC_0032599': [35.0, 1], 'ISIC_0032600': [50.0, 1], 'ISIC_0032601': [50.0, 1], 'ISIC_0032602': [50.0, 1], 'ISIC_0032603': [30.0, 1], 'ISIC_0032604': [75.0, -1], 'ISIC_0032605': [40.0, 1], 'ISIC_0032606': [40.0, 1], 'ISIC_0032607': [45.0, -1], 'ISIC_0032608': [70.0, -1], 'ISIC_0032609': [35.0, -1], 'ISIC_0032610': [40.0, -1], 'ISIC_0032611': [85.0, -1], 'ISIC_0032612': [10.0, 1], 'ISIC_0032613': [25.0, 1], 'ISIC_00326131': [25.0, 1], 'ISIC_00326132': [25.0, 1], 'ISIC_00326133': [25.0, 1], 'ISIC_0032614': [55.0, 1], 'ISIC_00326141': [55.0, 1], 'ISIC_00326142': [55.0, 1], 'ISIC_00326143': [55.0, 1], 'ISIC_0032615': [35.0, 1], 'ISIC_0032616': [40.0, -1], 'ISIC_0032617': [75.0, -1], 'ISIC_0032618': [60.0, -1], 'ISIC_0032619': [40.0, 1], 'ISIC_0032620': [30.0, -1], 'ISIC_0032621': [45.0, 1], 'ISIC_0032622': [65.0, 1], 'ISIC_0032623': [40.0, 1], 'ISIC_0032624': [70.0, 1], 'ISIC_0032625': [50.0, 1], 'ISIC_0032626': [35.0, 1], 'ISIC_0032627': [15.0, 1], 'ISIC_0032628': [35.0, 1], 'ISIC_0032629': [70.0, -1], 'ISIC_0032630': [70.0, -1], 'ISIC_0032631': [30.0, -1], 'ISIC_0032632': [60.0, -1], 'ISIC_0032633': [25.0, -1], 'ISIC_0032634': [40.0, 1], 'ISIC_0032635': [40.0, 1], 'ISIC_0032636': [85.0, -1], 'ISIC_0032637': [35.0, 1], 'ISIC_0032638': [35.0, -1], 'ISIC_0032639': [35.0, 1], 'ISIC_0032640': [45.0, 1], 'ISIC_0032641': [45.0, -1], 'ISIC_0032642': [50.0, -1], 'ISIC_00326421': [50.0, -1], 'ISIC_00326422': [50.0, -1], 'ISIC_00326423': [50.0, -1], 'ISIC_00326424': [50.0, -1], 'ISIC_0032643': [80.0, -1], 'ISIC_0032644': [35.0, 1], 'ISIC_0032645': [50.0, -1], 'ISIC_0032646': [65.0, -1], 'ISIC_0032647': [40.0, -1], 'ISIC_0032648': [30.0, -1], 'ISIC_0032649': [30.0, 1], 'ISIC_0032650': [65.0, -1], 'ISIC_0032651': [30.0, 1], 'ISIC_0032652': [60.0, 1], 'ISIC_0032653': [20.0, -1], 'ISIC_0032654': [75.0, -1], 'ISIC_0032655': [40.0, -1], 'ISIC_0032656': [80.0, -1], 'ISIC_0032657': [25.0, -1], 'ISIC_0032658': [30.0, -1], 'ISIC_0032659': [40.0, 1], 'ISIC_0032660': [75.0, -1], 'ISIC_0032661': [70.0, -1], 'ISIC_0032662': [70.0, -1], 'ISIC_0032663': [5.0, 1], 'ISIC_0032664': [40.0, -1], 'ISIC_0032665': [80.0, -1], 'ISIC_0032666': [55.0, -1], 'ISIC_0032667': [35.0, 1], 'ISIC_0032668': [40.0, -1], 'ISIC_0032669': [45.0, -1], 'ISIC_0032670': [20.0, 1], 'ISIC_0032671': [70.0, 1], 'ISIC_0032672': [55.0, 1], 'ISIC_0032673': [55.0, -1], 'ISIC_0032674': [50.0, -1], 'ISIC_0032675': [75.0, -1], 'ISIC_0032676': [40.0, 1], 'ISIC_0032677': [25.0, 1], 'ISIC_0032678': [40.0, 1], 'ISIC_0032679': [60.0, 1], 'ISIC_0032680': [50.0, 1], 'ISIC_0032681': [70.0, -1], 'ISIC_0032682': [20.0, -1], 'ISIC_0032683': [40.0, 1], 'ISIC_0032684': [50.0, -1], 'ISIC_0032685': [75.0, -1], 'ISIC_0032686': [55.0, -1], 'ISIC_0032687': [45.0, -1], 'ISIC_0032688': [60.0, 1], 'ISIC_0032689': [5.0, -1], 'ISIC_0032690': [50.0, -1], 'ISIC_0032691': [30.0, -1], 'ISIC_0032692': [35.0, 1], 'ISIC_00326921': [35.0, 1], 'ISIC_00326922': [35.0, 1], 'ISIC_00326923': [35.0, 1], 'ISIC_0032693': [40.0, 1], 'ISIC_0032694': [70.0, -1], 'ISIC_0032695': [80.0, -1], 'ISIC_0032696': [70.0, -1], 'ISIC_0032697': [70.0, -1], 'ISIC_0032698': [65.0, -1], 'ISIC_0032699': [65.0, -1], 'ISIC_0032700': [40.0, 1], 'ISIC_0032701': [35.0, 1], 'ISIC_0032702': [65.0, -1], 'ISIC_0032703': [65.0, -1], 'ISIC_0032704': [50.0, -1], 'ISIC_0032705': [5.0, -1], 'ISIC_0032706': [70.0, -1], 'ISIC_0032707': [55.0, -1], 'ISIC_0032708': [65.0, 1], 'ISIC_0032709': [80.0, 1], 'ISIC_0032710': [30.0, -1], 'ISIC_0032711': [45.0, 1], 'ISIC_0032712': [40.0, 1], 'ISIC_0032713': [45.0, 1], 'ISIC_0032714': [50.0, -1], 'ISIC_0032715': [45.0, 1], 'ISIC_00327151': [45.0, 1], 'ISIC_00327152': [45.0, 1], 'ISIC_0032716': [55.0, 1], 'ISIC_0032717': [60.0, -1], 'ISIC_0032718': [65.0, -1], 'ISIC_0032719': [60.0, 1], 'ISIC_0032720': [25.0, 1], 'ISIC_0032721': [20.0, -1], 'ISIC_0032722': [45.0, -1], 'ISIC_0032723': [25.0, 1], 'ISIC_0032724': [50.0, 1], 'ISIC_0032725': [65.0, 1], 'ISIC_0032726': [65.0, -1], 'ISIC_0032727': [80.0, 1], 'ISIC_0032728': [35.0, 1], 'ISIC_0032729': [40.0, 1], 'ISIC_0032730': [80.0, 1], 'ISIC_0032731': [70.0, -1], 'ISIC_0032732': [55.0, 1], 'ISIC_0032733': [70.0, -1], 'ISIC_0032734': [40.0, 1], 'ISIC_0032735': [60.0, 1], 'ISIC_0032736': [65.0, -1], 'ISIC_0032737': [10.0, 1], 'ISIC_0032738': [nan, 1], 'ISIC_0032739': [70.0, -1], 'ISIC_0032740': [nan, 1], 'ISIC_0032741': [65.0, -1], 'ISIC_0032742': [30.0, 1], 'ISIC_0032743': [40.0, 1], 'ISIC_0032744': [25.0, -1], 'ISIC_0032745': [55.0, -1], 'ISIC_00327451': [55.0, -1], 'ISIC_00327452': [55.0, -1], 'ISIC_00327453': [55.0, -1], 'ISIC_0032746': [70.0, -1], 'ISIC_0032747': [70.0, -1], 'ISIC_0032748': [65.0, -1], 'ISIC_0032749': [40.0, 1], 'ISIC_0032750': [50.0, 1], 'ISIC_0032751': [25.0, 1], 'ISIC_0032752': [50.0, -1], 'ISIC_0032753': [70.0, -1], 'ISIC_0032754': [50.0, -1], 'ISIC_0032755': [45.0, 1], 'ISIC_0032756': [60.0, 1], 'ISIC_0032757': [45.0, 1], 'ISIC_0032758': [50.0, 1], 'ISIC_0032759': [40.0, 1], 'ISIC_0032760': [25.0, 1], 'ISIC_0032761': [30.0, -1], 'ISIC_0032762': [35.0, 1], 'ISIC_0032763': [70.0, 1], 'ISIC_0032764': [20.0, -1], 'ISIC_0032765': [40.0, 1], 'ISIC_0032766': [55.0, -1], 'ISIC_0032767': [65.0, -1], 'ISIC_0032768': [50.0, -1], 'ISIC_0032769': [55.0, -1], 'ISIC_0032770': [40.0, 1], 'ISIC_0032771': [60.0, 1], 'ISIC_0032772': [15.0, 1], 'ISIC_0032773': [70.0, -1], 'ISIC_0032774': [75.0, -1], 'ISIC_0032775': [45.0, -1], 'ISIC_00327751': [45.0, -1], 'ISIC_00327752': [45.0, -1], 'ISIC_00327753': [45.0, -1], 'ISIC_0032776': [55.0, -1], 'ISIC_0032777': [80.0, -1], 'ISIC_0032778': [55.0, 1], 'ISIC_0032779': [40.0, 1], 'ISIC_0032780': [45.0, -1], 'ISIC_0032781': [70.0, -1], 'ISIC_0032782': [70.0, -1], 'ISIC_0032783': [70.0, 1], 'ISIC_0032784': [30.0, -1], 'ISIC_0032785': [45.0, -1], 'ISIC_0032786': [10.0, 1], 'ISIC_0032787': [50.0, -1], 'ISIC_0032788': [50.0, 1], 'ISIC_0032789': [nan, 1], 'ISIC_0032790': [65.0, -1], 'ISIC_0032791': [50.0, 1], 'ISIC_0032792': [20.0, 1], 'ISIC_0032793': [40.0, 1], 'ISIC_0032794': [30.0, 1], 'ISIC_0032795': [40.0, 1], 'ISIC_0032796': [35.0, 1], 'ISIC_0032797': [70.0, -1], 'ISIC_0032798': [25.0, -1], 'ISIC_0032799': [75.0, -1], 'ISIC_0032800': [40.0, -1], 'ISIC_0032801': [30.0, 1], 'ISIC_0032802': [55.0, -1], 'ISIC_0032803': [35.0, -1], 'ISIC_0032804': [85.0, -1], 'ISIC_0032805': [70.0, -1], 'ISIC_0032806': [65.0, -1], 'ISIC_0032807': [50.0, -1], 'ISIC_0032808': [60.0, -1], 'ISIC_0032809': [15.0, 1], 'ISIC_0032810': [70.0, -1], 'ISIC_0032811': [55.0, -1], 'ISIC_0032812': [50.0, -1], 'ISIC_0032813': [50.0, -1], 'ISIC_0032814': [nan, 1], 'ISIC_0032815': [35.0, -1], 'ISIC_0032816': [65.0, 1], 'ISIC_0032817': [35.0, -1], 'ISIC_0032818': [35.0, 1], 'ISIC_0032819': [45.0, -1], 'ISIC_0032820': [35.0, -1], 'ISIC_0032821': [70.0, 1], 'ISIC_0032822': [40.0, 1], 'ISIC_0032823': [55.0, -1], 'ISIC_0032824': [55.0, -1], 'ISIC_0032825': [35.0, -1], 'ISIC_0032826': [40.0, 1], 'ISIC_0032827': [85.0, 1], 'ISIC_0032828': [20.0, -1], 'ISIC_0032829': [40.0, 1], 'ISIC_0032830': [40.0, -1], 'ISIC_0032831': [70.0, -1], 'ISIC_0032832': [45.0, 1], 'ISIC_0032833': [55.0, -1], 'ISIC_0032834': [75.0, -1], 'ISIC_0032835': [85.0, -1], 'ISIC_0032836': [50.0, -1], 'ISIC_0032837': [20.0, -1], 'ISIC_0032838': [45.0, -1], 'ISIC_0032839': [70.0, -1], 'ISIC_00328391': [70.0, -1], 'ISIC_00328392': [70.0, -1], 'ISIC_0032840': [55.0, -1], 'ISIC_0032841': [60.0, 1], 'ISIC_0032842': [60.0, -1], 'ISIC_0032843': [85.0, -1], 'ISIC_0032844': [60.0, -1], 'ISIC_0032845': [70.0, 1], 'ISIC_0032846': [65.0, 1], 'ISIC_0032847': [45.0, -1], 'ISIC_0032848': [25.0, -1], 'ISIC_0032849': [60.0, -1], 'ISIC_0032850': [70.0, -1], 'ISIC_0032851': [40.0, -1], 'ISIC_0032852': [nan, 1], 'ISIC_0032853': [25.0, 1], 'ISIC_0032854': [80.0, -1], 'ISIC_0032855': [20.0, 1], 'ISIC_0032856': [70.0, -1], 'ISIC_0032857': [65.0, -1], 'ISIC_0032858': [40.0, -1], 'ISIC_0032859': [40.0, 1], 'ISIC_0032860': [40.0, 1], 'ISIC_0032861': [45.0, -1], 'ISIC_0032862': [65.0, -1], 'ISIC_0032863': [85.0, -1], 'ISIC_0032864': [35.0, 1], 'ISIC_0032865': [35.0, 1], 'ISIC_0032866': [55.0, 1], 'ISIC_00328661': [55.0, 1], 'ISIC_00328662': [55.0, 1], 'ISIC_00328663': [55.0, 1], 'ISIC_0032867': [45.0, 1], 'ISIC_00328671': [45.0, 1], 'ISIC_00328672': [45.0, 1], 'ISIC_00328673': [45.0, 1], 'ISIC_0032868': [30.0, -1], 'ISIC_0032869': [85.0, -1], 'ISIC_0032870': [85.0, -1], 'ISIC_0032871': [60.0, 1], 'ISIC_0032872': [55.0, -1], 'ISIC_0032873': [85.0, -1], 'ISIC_0032874': [70.0, -1], 'ISIC_0032875': [75.0, -1], 'ISIC_0032876': [60.0, 1], 'ISIC_0032877': [80.0, -1], 'ISIC_0032878': [50.0, 1], 'ISIC_0032879': [80.0, -1], 'ISIC_0032880': [50.0, 1], 'ISIC_0032881': [55.0, -1], 'ISIC_0032882': [35.0, 1], 'ISIC_0032883': [60.0, 1], 'ISIC_0032884': [80.0, -1], 'ISIC_0032885': [35.0, -1], 'ISIC_0032886': [50.0, 1], 'ISIC_0032887': [40.0, -1], 'ISIC_0032888': [55.0, -1], 'ISIC_0032889': [40.0, -1], 'ISIC_0032890': [70.0, 1], 'ISIC_00328901': [70.0, 1], 'ISIC_00328902': [70.0, 1], 'ISIC_0032891': [40.0, -1], 'ISIC_0032892': [85.0, 1], 'ISIC_0032893': [40.0, 1], 'ISIC_0032894': [75.0, 1], 'ISIC_0032895': [40.0, -1], 'ISIC_0032896': [15.0, 1], 'ISIC_0032897': [60.0, 1], 'ISIC_0032898': [50.0, 1], 'ISIC_0032899': [25.0, -1], 'ISIC_0032900': [40.0, -1], 'ISIC_0032901': [30.0, -1], 'ISIC_0032902': [45.0, 1], 'ISIC_0032903': [75.0, -1], 'ISIC_0032904': [5.0, 1], 'ISIC_0032905': [40.0, -1], 'ISIC_0032906': [65.0, -1], 'ISIC_0032907': [20.0, -1], 'ISIC_0032908': [35.0, 1], 'ISIC_0032909': [30.0, 1], 'ISIC_0032910': [85.0, -1], 'ISIC_0032911': [45.0, 1], 'ISIC_0032912': [45.0, 1], 'ISIC_0032913': [85.0, -1], 'ISIC_0032914': [75.0, -1], 'ISIC_0032915': [75.0, -1], 'ISIC_0032916': [55.0, -1], 'ISIC_0032917': [40.0, -1], 'ISIC_0032918': [50.0, -1], 'ISIC_0032919': [55.0, 1], 'ISIC_00329191': [55.0, 1], 'ISIC_00329192': [55.0, 1], 'ISIC_00329193': [55.0, 1], 'ISIC_0032920': [60.0, -1], 'ISIC_0032921': [70.0, -1], 'ISIC_0032922': [80.0, 1], 'ISIC_0032923': [30.0, -1], 'ISIC_0032924': [50.0, -1], 'ISIC_0032925': [40.0, -1], 'ISIC_0032926': [35.0, -1], 'ISIC_0032927': [55.0, -1], 'ISIC_0032928': [40.0, -1], 'ISIC_0032929': [75.0, 1], 'ISIC_0032930': [40.0, -1], 'ISIC_0032931': [70.0, -1], 'ISIC_0032932': [70.0, -1], 'ISIC_00329321': [70.0, -1], 'ISIC_00329322': [70.0, -1], 'ISIC_0032933': [25.0, -1], 'ISIC_0032934': [20.0, -1], 'ISIC_0032935': [30.0, -1], 'ISIC_0032936': [25.0, -1], 'ISIC_0032937': [30.0, 1], 'ISIC_0032938': [70.0, -1], 'ISIC_0032939': [45.0, 1], 'ISIC_0032940': [70.0, -1], 'ISIC_0032941': [50.0, -1], 'ISIC_00329411': [50.0, -1], 'ISIC_00329412': [50.0, -1], 'ISIC_00329413': [50.0, -1], 'ISIC_00329414': [50.0, -1], 'ISIC_0032942': [35.0, 1], 'ISIC_0032943': [nan, -1], 'ISIC_0032944': [55.0, 1], 'ISIC_0032945': [nan, 1], 'ISIC_0032946': [45.0, 1], 'ISIC_0032947': [70.0, -1], 'ISIC_0032948': [45.0, 1], 'ISIC_0032949': [85.0, 1], 'ISIC_0032950': [50.0, 1], 'ISIC_0032951': [40.0, -1], 'ISIC_0032952': [60.0, -1], 'ISIC_0032953': [5.0, 1], 'ISIC_0032954': [35.0, 1], 'ISIC_0032955': [30.0, 1], 'ISIC_0032956': [40.0, 1], 'ISIC_0032957': [30.0, -1], 'ISIC_0032958': [70.0, -1], 'ISIC_0032959': [50.0, -1], 'ISIC_0032960': [nan, -1], 'ISIC_0032961': [30.0, 1], 'ISIC_0032962': [30.0, -1], 'ISIC_0032963': [75.0, 1], 'ISIC_0032964': [45.0, -1], 'ISIC_0032965': [45.0, 1], 'ISIC_0032966': [0.0, 1], 'ISIC_0032967': [50.0, -1], 'ISIC_0032968': [85.0, -1], 'ISIC_0032969': [40.0, -1], 'ISIC_0032970': [45.0, -1], 'ISIC_0032971': [15.0, 1], 'ISIC_0032972': [55.0, -1], 'ISIC_0032973': [40.0, -1], 'ISIC_0032974': [50.0, -1], 'ISIC_0032975': [70.0, 1], 'ISIC_0032976': [80.0, 1], 'ISIC_0032977': [50.0, 1], 'ISIC_0032978': [70.0, -1], 'ISIC_0032979': [45.0, 1], 'ISIC_0032980': [20.0, 1], 'ISIC_0032981': [55.0, -1], 'ISIC_0032982': [20.0, -1], 'ISIC_0032983': [60.0, 1], 'ISIC_0032984': [70.0, -1], 'ISIC_0032985': [25.0, -1], 'ISIC_0032986': [45.0, 1], 'ISIC_0032987': [70.0, -1], 'ISIC_0032988': [70.0, 1], 'ISIC_0032989': [15.0, -1], 'ISIC_0032990': [50.0, 1], 'ISIC_0032991': [80.0, 1], 'ISIC_0032992': [40.0, -1], 'ISIC_0032993': [35.0, 1], 'ISIC_0032994': [20.0, 1], 'ISIC_0032995': [50.0, -1], 'ISIC_0032996': [40.0, 1], 'ISIC_0032997': [75.0, -1], 'ISIC_0032998': [45.0, 1], 'ISIC_0032999': [45.0, -1], 'ISIC_0033000': [70.0, -1], 'ISIC_0033001': [70.0, -1], 'ISIC_0033002': [30.0, 1], 'ISIC_0033003': [60.0, 1], 'ISIC_0033004': [30.0, 1], 'ISIC_0033005': [45.0, 1], 'ISIC_00330051': [45.0, 1], 'ISIC_00330052': [45.0, 1], 'ISIC_00330053': [45.0, 1], 'ISIC_0033006': [5.0, 1], 'ISIC_0033007': [50.0, 1], 'ISIC_0033008': [35.0, -1], 'ISIC_0033009': [40.0, -1], 'ISIC_0033010': [55.0, 1], 'ISIC_0033011': [70.0, -1], 'ISIC_0033012': [80.0, 1], 'ISIC_0033013': [15.0, 1], 'ISIC_0033014': [40.0, -1], 'ISIC_0033015': [35.0, -1], 'ISIC_0033016': [15.0, -1], 'ISIC_0033017': [65.0, -1], 'ISIC_0033018': [35.0, 1], 'ISIC_0033019': [80.0, -1], 'ISIC_0033020': [50.0, -1], 'ISIC_0033021': [45.0, -1], 'ISIC_0033022': [85.0, 1], 'ISIC_0033023': [80.0, -1], 'ISIC_0033024': [75.0, -1], 'ISIC_0033025': [30.0, 1], 'ISIC_0033026': [45.0, 1], 'ISIC_0033027': [70.0, -1], 'ISIC_0033028': [nan, 1], 'ISIC_0033029': [60.0, -1], 'ISIC_0033030': [25.0, -1], 'ISIC_0033031': [45.0, -1], 'ISIC_00330311': [45.0, -1], 'ISIC_00330312': [45.0, -1], 'ISIC_00330313': [45.0, -1], 'ISIC_0033032': [40.0, -1], 'ISIC_0033033': [55.0, 1], 'ISIC_0033034': [70.0, 1], 'ISIC_0033035': [40.0, -1], 'ISIC_0033036': [40.0, 1], 'ISIC_0033037': [70.0, -1], 'ISIC_0033038': [70.0, 1], 'ISIC_0033039': [40.0, 1], 'ISIC_0033040': [30.0, -1], 'ISIC_0033041': [50.0, 1], 'ISIC_0033042': [60.0, 1], 'ISIC_0033043': [60.0, -1], 'ISIC_0033044': [25.0, -1], 'ISIC_0033045': [25.0, -1], 'ISIC_0033046': [5.0, -1], 'ISIC_0033047': [25.0, 1], 'ISIC_0033048': [40.0, -1], 'ISIC_0033049': [35.0, -1], 'ISIC_0033050': [75.0, 1], 'ISIC_0033051': [25.0, 1], 'ISIC_0033052': [50.0, 1], 'ISIC_0033053': [30.0, 1], 'ISIC_0033054': [60.0, -1], 'ISIC_0033055': [45.0, -1], 'ISIC_0033056': [40.0, 1], 'ISIC_0033057': [45.0, -1], 'ISIC_0033058': [50.0, -1], 'ISIC_0033059': [35.0, -1], 'ISIC_0033060': [80.0, -1], 'ISIC_0033061': [25.0, 1], 'ISIC_0033062': [40.0, 1], 'ISIC_0033063': [70.0, -1], 'ISIC_0033064': [nan, 1], 'ISIC_0033065': [nan, 1], 'ISIC_0033066': [40.0, 1], 'ISIC_0033067': [50.0, -1], 'ISIC_0033068': [80.0, -1], 'ISIC_0033069': [60.0, 1], 'ISIC_0033070': [40.0, 1], 'ISIC_0033071': [45.0, -1], 'ISIC_0033072': [40.0, 1], 'ISIC_0033073': [65.0, -1], 'ISIC_0033074': [45.0, -1], 'ISIC_0033075': [40.0, -1], 'ISIC_0033076': [40.0, 1], 'ISIC_0033077': [45.0, -1], 'ISIC_0033078': [40.0, 1], 'ISIC_0033079': [60.0, 1], 'ISIC_0033080': [60.0, -1], 'ISIC_0033081': [55.0, 1], 'ISIC_0033082': [25.0, -1], 'ISIC_0033083': [5.0, 1], 'ISIC_0033084': [40.0, -1], 'ISIC_0033085': [35.0, -1], 'ISIC_0033086': [25.0, 1], 'ISIC_0033087': [30.0, 1], 'ISIC_0033088': [60.0, 1], 'ISIC_0033089': [60.0, -1], 'ISIC_0033090': [70.0, -1], 'ISIC_0033091': [15.0, 1], 'ISIC_0033092': [55.0, -1], 'ISIC_00330921': [55.0, -1], 'ISIC_00330922': [55.0, -1], 'ISIC_00330923': [55.0, -1], 'ISIC_0033093': [25.0, 1], 'ISIC_0033094': [35.0, -1], 'ISIC_0033095': [20.0, 1], 'ISIC_0033096': [40.0, -1], 'ISIC_0033097': [45.0, -1], 'ISIC_0033098': [45.0, -1], 'ISIC_0033099': [40.0, 1], 'ISIC_0033100': [40.0, -1], 'ISIC_0033101': [40.0, 1], 'ISIC_0033102': [35.0, -1], 'ISIC_0033103': [65.0, -1], 'ISIC_0033104': [55.0, 1], 'ISIC_0033105': [45.0, 1], 'ISIC_0033106': [35.0, -1], 'ISIC_0033107': [65.0, -1], 'ISIC_0033108': [55.0, -1], 'ISIC_0033109': [45.0, 1], 'ISIC_0033110': [35.0, 1], 'ISIC_0033111': [20.0, -1], 'ISIC_0033112': [25.0, -1], 'ISIC_0033113': [35.0, -1], 'ISIC_0033114': [45.0, 1], 'ISIC_0033115': [50.0, 1], 'ISIC_0033116': [45.0, -1], 'ISIC_0033117': [45.0, 1], 'ISIC_0033118': [30.0, 1], 'ISIC_0033119': [60.0, 1], 'ISIC_0033120': [45.0, -1], 'ISIC_0033121': [55.0, -1], 'ISIC_0033122': [55.0, -1], 'ISIC_0033123': [25.0, 1], 'ISIC_00331231': [25.0, 1], 'ISIC_00331232': [25.0, 1], 'ISIC_00331233': [25.0, 1], 'ISIC_0033124': [65.0, -1], 'ISIC_0033125': [70.0, -1], 'ISIC_0033126': [40.0, 1], 'ISIC_0033127': [85.0, 1], 'ISIC_0033128': [50.0, 1], 'ISIC_0033129': [50.0, 1], 'ISIC_0033130': [80.0, -1], 'ISIC_0033131': [70.0, -1], 'ISIC_0033132': [55.0, 1], 'ISIC_0033133': [5.0, 1], 'ISIC_0033134': [30.0, 1], 'ISIC_0033135': [80.0, 1], 'ISIC_00331351': [80.0, 1], 'ISIC_00331352': [80.0, 1], 'ISIC_00331353': [80.0, 1], 'ISIC_0033136': [25.0, 1], 'ISIC_0033137': [5.0, 1], 'ISIC_0033138': [35.0, 1], 'ISIC_0033139': [35.0, -1], 'ISIC_0033140': [45.0, 1], 'ISIC_0033141': [55.0, -1], 'ISIC_0033142': [65.0, -1], 'ISIC_0033143': [25.0, -1], 'ISIC_0033144': [85.0, -1], 'ISIC_0033145': [40.0, 1], 'ISIC_0033146': [45.0, 1], 'ISIC_0033147': [35.0, 1], 'ISIC_0033148': [45.0, 1], 'ISIC_0033149': [45.0, -1], 'ISIC_0033150': [60.0, -1], 'ISIC_0033151': [65.0, 1], 'ISIC_0033152': [65.0, 1], 'ISIC_0033153': [45.0, 1], 'ISIC_0033154': [30.0, -1], 'ISIC_0033155': [35.0, -1], 'ISIC_0033156': [70.0, -1], 'ISIC_0033157': [55.0, -1], 'ISIC_0033158': [45.0, 1], 'ISIC_00331581': [45.0, 1], 'ISIC_00331582': [45.0, 1], 'ISIC_00331583': [45.0, 1], 'ISIC_0033159': [65.0, -1], 'ISIC_0033160': [30.0, -1], 'ISIC_0033161': [35.0, 1], 'ISIC_0033162': [35.0, -1], 'ISIC_0033163': [35.0, 1], 'ISIC_0033164': [40.0, 1], 'ISIC_0033165': [60.0, 1], 'ISIC_0033166': [40.0, 1], 'ISIC_0033167': [30.0, 1], 'ISIC_0033168': [65.0, -1], 'ISIC_0033169': [80.0, 1], 'ISIC_0033170': [50.0, 1], 'ISIC_0033171': [50.0, -1], 'ISIC_0033172': [40.0, 1], 'ISIC_0033173': [40.0, -1], 'ISIC_0033174': [70.0, -1], 'ISIC_0033175': [60.0, -1], 'ISIC_0033176': [30.0, -1], 'ISIC_0033177': [25.0, 1], 'ISIC_0033178': [55.0, -1], 'ISIC_0033179': [80.0, 1], 'ISIC_0033180': [30.0, 1], 'ISIC_0033181': [45.0, -1], 'ISIC_0033182': [50.0, -1], 'ISIC_0033183': [70.0, -1], 'ISIC_0033184': [55.0, -1], 'ISIC_0033185': [55.0, 1], 'ISIC_0033186': [55.0, -1], 'ISIC_0033187': [nan, 1], 'ISIC_0033188': [50.0, -1], 'ISIC_0033189': [55.0, 1], 'ISIC_0033190': [nan, 1], 'ISIC_0033191': [5.0, 1], 'ISIC_0033192': [30.0, -1], 'ISIC_0033193': [70.0, -1], 'ISIC_0033194': [45.0, -1], 'ISIC_0033195': [60.0, 1], 'ISIC_0033196': [20.0, -1], 'ISIC_0033197': [55.0, -1], 'ISIC_0033198': [65.0, -1], 'ISIC_0033199': [60.0, 1], 'ISIC_0033200': [75.0, -1], 'ISIC_0033201': [85.0, 1], 'ISIC_0033202': [35.0, 1], 'ISIC_0033203': [65.0, 1], 'ISIC_0033204': [55.0, -1], 'ISIC_0033205': [50.0, -1], 'ISIC_0033206': [80.0, 1], 'ISIC_0033207': [45.0, 1], 'ISIC_0033208': [40.0, 1], 'ISIC_0033209': [65.0, -1], 'ISIC_0033210': [40.0, 1], 'ISIC_0033211': [70.0, 1], 'ISIC_0033212': [50.0, 1], 'ISIC_0033213': [55.0, -1], 'ISIC_0033214': [5.0, 1], 'ISIC_0033215': [25.0, 1], 'ISIC_0033216': [30.0, 1], 'ISIC_0033217': [70.0, -1], 'ISIC_0033218': [60.0, -1], 'ISIC_0033219': [40.0, 1], 'ISIC_0033220': [35.0, -1], 'ISIC_0033221': [60.0, -1], 'ISIC_0033222': [55.0, -1], 'ISIC_0033223': [20.0, -1], 'ISIC_0033224': [30.0, 1], 'ISIC_0033225': [35.0, -1], 'ISIC_0033226': [65.0, -1], 'ISIC_0033227': [45.0, 1], 'ISIC_0033228': [25.0, -1], 'ISIC_0033229': [5.0, 1], 'ISIC_0033230': [60.0, -1], 'ISIC_00332301': [60.0, -1], 'ISIC_00332302': [60.0, -1], 'ISIC_00332303': [60.0, -1], 'ISIC_0033231': [40.0, -1], 'ISIC_0033232': [25.0, -1], 'ISIC_0033233': [40.0, 1], 'ISIC_0033234': [45.0, 1], 'ISIC_0033235': [85.0, -1], 'ISIC_0033236': [45.0, -1], 'ISIC_0033237': [70.0, -1], 'ISIC_0033238': [70.0, -1], 'ISIC_0033239': [70.0, -1], 'ISIC_0033240': [70.0, -1], 'ISIC_0033241': [50.0, 1], 'ISIC_0033242': [40.0, 1], 'ISIC_0033243': [30.0, -1], 'ISIC_0033244': [45.0, -1], 'ISIC_0033245': [65.0, -1], 'ISIC_0033246': [85.0, -1], 'ISIC_0033247': [40.0, -1], 'ISIC_0033248': [85.0, 1], 'ISIC_0033249': [25.0, 1], 'ISIC_0033250': [45.0, 1], 'ISIC_0033251': [45.0, -1], 'ISIC_0033252': [60.0, 1], 'ISIC_0033253': [40.0, 1], 'ISIC_0033254': [15.0, -1], 'ISIC_00332541': [15.0, -1], 'ISIC_00332542': [15.0, -1], 'ISIC_00332543': [15.0, -1], 'ISIC_0033255': [5.0, 1], 'ISIC_0033256': [25.0, 1], 'ISIC_00332561': [25.0, 1], 'ISIC_00332562': [25.0, 1], 'ISIC_00332563': [25.0, 1], 'ISIC_0033257': [70.0, -1], 'ISIC_0033258': [80.0, -1], 'ISIC_0033259': [35.0, 1], 'ISIC_0033260': [80.0, -1], 'ISIC_0033261': [55.0, -1], 'ISIC_0033262': [60.0, 1], 'ISIC_0033263': [50.0, 1], 'ISIC_0033264': [85.0, -1], 'ISIC_0033265': [35.0, 1], 'ISIC_0033266': [70.0, -1], 'ISIC_0033267': [65.0, 1], 'ISIC_0033268': [50.0, 1], 'ISIC_0033269': [55.0, 1], 'ISIC_0033270': [85.0, -1], 'ISIC_0033271': [75.0, 1], 'ISIC_0033272': [65.0, -1], 'ISIC_0033273': [35.0, 1], 'ISIC_0033274': [80.0, 1], 'ISIC_0033275': [60.0, 1], 'ISIC_0033276': [45.0, 1], 'ISIC_0033277': [55.0, -1], 'ISIC_0033278': [85.0, -1], 'ISIC_0033279': [40.0, -1], 'ISIC_0033280': [50.0, 1], 'ISIC_0033281': [35.0, 1], 'ISIC_0033282': [40.0, 1], 'ISIC_0033283': [40.0, 1], 'ISIC_0033284': [80.0, -1], 'ISIC_0033285': [35.0, 1], 'ISIC_0033286': [85.0, -1], 'ISIC_0033287': [55.0, -1], 'ISIC_0033288': [30.0, 1], 'ISIC_0033289': [50.0, -1], 'ISIC_0033290': [60.0, -1], 'ISIC_0033291': [35.0, -1], 'ISIC_0033292': [40.0, -1], 'ISIC_0033293': [35.0, 1], 'ISIC_0033294': [25.0, -1], 'ISIC_0033295': [70.0, -1], 'ISIC_0033296': [30.0, 1], 'ISIC_0033297': [60.0, 1], 'ISIC_0033298': [55.0, 1], 'ISIC_0033299': [85.0, -1], 'ISIC_0033300': [40.0, 1], 'ISIC_0033301': [65.0, -1], 'ISIC_0033302': [40.0, 1], 'ISIC_0033303': [35.0, 1], 'ISIC_0033304': [60.0, 1], 'ISIC_0033305': [75.0, -1], 'ISIC_0033306': [80.0, -1], 'ISIC_0033307': [80.0, 1], 'ISIC_0033308': [30.0, 1], 'ISIC_0033309': [75.0, -1], 'ISIC_0033310': [60.0, -1], 'ISIC_0033311': [40.0, 1], 'ISIC_0033312': [35.0, -1], 'ISIC_0033313': [45.0, 1], 'ISIC_0033314': [10.0, -1], 'ISIC_0033315': [35.0, 1], 'ISIC_0033316': [45.0, 1], 'ISIC_0033317': [80.0, -1], 'ISIC_0033318': [35.0, 1], 'ISIC_0033319': [35.0, 1], 'ISIC_0033320': [40.0, 1], 'ISIC_0033321': [65.0, -1], 'ISIC_0033322': [85.0, 1], 'ISIC_0033323': [75.0, -1], 'ISIC_0033324': [85.0, -1], 'ISIC_0033325': [60.0, -1], 'ISIC_0033326': [40.0, 1], 'ISIC_0033327': [60.0, 1], 'ISIC_0033328': [45.0, 1], 'ISIC_0033329': [55.0, -1], 'ISIC_0033330': [nan, 1], 'ISIC_0033331': [30.0, 1], 'ISIC_0033332': [nan, 1], 'ISIC_0033333': [60.0, 1], 'ISIC_0033334': [30.0, -1], 'ISIC_0033335': [20.0, -1], 'ISIC_0033336': [70.0, -1], 'ISIC_0033337': [50.0, -1], 'ISIC_0033338': [50.0, 1], 'ISIC_0033339': [40.0, 1], 'ISIC_0033340': [60.0, -1], 'ISIC_0033341': [60.0, -1], 'ISIC_0033342': [35.0, 1], 'ISIC_0033343': [35.0, 1], 'ISIC_0033344': [70.0, 1], 'ISIC_0033345': [45.0, -1], 'ISIC_0033346': [75.0, -1], 'ISIC_0033347': [40.0, -1], 'ISIC_0033348': [40.0, -1], 'ISIC_0033349': [55.0, 1], 'ISIC_00333491': [55.0, 1], 'ISIC_00333492': [55.0, 1], 'ISIC_00333493': [55.0, 1], 'ISIC_0033350': [55.0, 1], 'ISIC_0033351': [70.0, -1], 'ISIC_0033352': [5.0, 1], 'ISIC_0033353': [nan, 1], 'ISIC_0033354': [65.0, -1], 'ISIC_0033355': [20.0, 1], 'ISIC_0033356': [30.0, 1], 'ISIC_0033357': [20.0, -1], 'ISIC_0033358': [65.0, 1], 'ISIC_0033359': [40.0, 1], 'ISIC_0033360': [30.0, 1], 'ISIC_0033361': [50.0, 1], 'ISIC_0033362': [85.0, 1], 'ISIC_0033363': [50.0, -1], 'ISIC_0033364': [25.0, 1], 'ISIC_0033365': [45.0, 1], 'ISIC_0033366': [65.0, 1], 'ISIC_0033367': [40.0, -1], 'ISIC_0033368': [40.0, 1], 'ISIC_0033369': [70.0, -1], 'ISIC_0033370': [40.0, 1], 'ISIC_0033371': [35.0, 1], 'ISIC_0033372': [70.0, -1], 'ISIC_0033373': [0.0, -1], 'ISIC_0033374': [nan, 1], 'ISIC_0033375': [nan, 1], 'ISIC_0033376': [55.0, -1], 'ISIC_0033377': [55.0, 1], 'ISIC_0033378': [75.0, -1], 'ISIC_0033379': [60.0, 1], 'ISIC_0033380': [60.0, -1], 'ISIC_0033381': [45.0, 1], 'ISIC_0033382': [45.0, 1], 'ISIC_0033383': [40.0, 1], 'ISIC_0033384': [40.0, -1], 'ISIC_0033385': [70.0, -1], 'ISIC_0033386': [60.0, 1], 'ISIC_0033387': [55.0, 1], 'ISIC_0033388': [40.0, -1], 'ISIC_0033389': [10.0, 1], 'ISIC_0033390': [55.0, 1], 'ISIC_0033391': [nan, 1], 'ISIC_0033392': [85.0, -1], 'ISIC_0033393': [60.0, -1], 'ISIC_0033394': [50.0, -1], 'ISIC_0033395': [20.0, 1], 'ISIC_0033396': [80.0, -1], 'ISIC_0033397': [70.0, -1], 'ISIC_0033398': [45.0, -1], 'ISIC_0033399': [70.0, -1], 'ISIC_0033400': [60.0, 1], 'ISIC_0033401': [80.0, 1], 'ISIC_0033402': [45.0, -1], 'ISIC_0033403': [35.0, 1], 'ISIC_0033404': [55.0, -1], 'ISIC_0033405': [70.0, -1], 'ISIC_0033406': [50.0, 1], 'ISIC_0033407': [60.0, 1], 'ISIC_0033408': [50.0, 1], 'ISIC_0033409': [30.0, 1], 'ISIC_0033410': [65.0, 1], 'ISIC_0033411': [45.0, 1], 'ISIC_0033412': [40.0, 1], 'ISIC_0033413': [70.0, -1], 'ISIC_00334131': [70.0, -1], 'ISIC_0033414': [70.0, -1], 'ISIC_0033415': [70.0, -1], 'ISIC_0033416': [70.0, -1], 'ISIC_0033417': [nan, 1], 'ISIC_0033418': [35.0, -1], 'ISIC_0033419': [35.0, -1], 'ISIC_0033420': [70.0, -1], 'ISIC_0033421': [40.0, 1], 'ISIC_0033422': [45.0, -1], 'ISIC_00334221': [45.0, -1], 'ISIC_00334222': [45.0, -1], 'ISIC_00334223': [45.0, -1], 'ISIC_0033423': [35.0, 1], 'ISIC_0033424': [50.0, 1], 'ISIC_0033425': [40.0, -1], 'ISIC_0033426': [55.0, -1], 'ISIC_0033427': [60.0, -1], 'ISIC_0033428': [75.0, -1], 'ISIC_0033429': [75.0, -1], 'ISIC_0033430': [60.0, 1], 'ISIC_0033431': [65.0, 1], 'ISIC_0033432': [55.0, -1], 'ISIC_0033433': [20.0, -1], 'ISIC_0033434': [70.0, -1], 'ISIC_0033435': [30.0, -1], 'ISIC_0033436': [40.0, -1], 'ISIC_0033437': [60.0, 1], 'ISIC_0033438': [60.0, 1], 'ISIC_0033439': [30.0, 1], 'ISIC_0033440': [70.0, -1], 'ISIC_0033441': [20.0, 1], 'ISIC_0033442': [nan, -1], 'ISIC_0033443': [30.0, 1], 'ISIC_0033444': [50.0, -1], 'ISIC_0033445': [70.0, -1], 'ISIC_0033446': [75.0, -1], 'ISIC_0033447': [20.0, -1], 'ISIC_0033448': [60.0, -1], 'ISIC_0033449': [85.0, -1], 'ISIC_0033450': [15.0, -1], 'ISIC_00334501': [15.0, -1], 'ISIC_00334502': [15.0, -1], 'ISIC_00334503': [15.0, -1], 'ISIC_0033451': [45.0, -1], 'ISIC_0033452': [70.0, -1], 'ISIC_0033453': [80.0, -1], 'ISIC_0033454': [75.0, -1], 'ISIC_0033455': [25.0, 1], 'ISIC_0033456': [70.0, -1], 'ISIC_00334561': [70.0, -1], 'ISIC_0033457': [55.0, 1], 'ISIC_0033458': [45.0, -1], 'ISIC_00334581': [45.0, -1], 'ISIC_00334582': [45.0, -1], 'ISIC_00334583': [45.0, -1], 'ISIC_0033459': [30.0, -1], 'ISIC_0033460': [85.0, -1], 'ISIC_0033461': [40.0, -1], 'ISIC_0033462': [5.0, 1], 'ISIC_0033463': [10.0, 1], 'ISIC_0033464': [20.0, -1], 'ISIC_0033465': [55.0, 1], 'ISIC_0033466': [55.0, 1], 'ISIC_0033467': [40.0, 1], 'ISIC_0033468': [80.0, 1], 'ISIC_0033469': [65.0, 1], 'ISIC_0033470': [55.0, 1], 'ISIC_0033471': [70.0, -1], 'ISIC_0033472': [35.0, 1], 'ISIC_0033473': [65.0, -1], 'ISIC_0033474': [45.0, 1], 'ISIC_0033475': [40.0, 1], 'ISIC_0033476': [25.0, 1], 'ISIC_0033477': [65.0, -1], 'ISIC_0033478': [55.0, -1], 'ISIC_0033479': [40.0, 1], 'ISIC_0033480': [85.0, -1], 'ISIC_0033481': [40.0, 1], 'ISIC_0033482': [85.0, 1], 'ISIC_0033483': [45.0, -1], 'ISIC_0033484': [50.0, 1], 'ISIC_0033485': [60.0, -1], 'ISIC_0033486': [75.0, -1], 'ISIC_0033487': [60.0, -1], 'ISIC_0033488': [50.0, 1], 'ISIC_0033489': [35.0, -1], 'ISIC_0033490': [nan, 1], 'ISIC_0033491': [60.0, 1], 'ISIC_0033492': [35.0, -1], 'ISIC_0033493': [50.0, 1], 'ISIC_0033494': [70.0, -1], 'ISIC_00334941': [70.0, -1], 'ISIC_0033495': [35.0, 1], 'ISIC_0033496': [55.0, -1], 'ISIC_0033497': [35.0, 1], 'ISIC_0033498': [50.0, 1], 'ISIC_0033499': [85.0, -1], 'ISIC_0033500': [80.0, -1], 'ISIC_0033501': [25.0, 1], 'ISIC_0033502': [35.0, 1], 'ISIC_0033503': [65.0, -1], 'ISIC_0033504': [75.0, -1], 'ISIC_0033505': [45.0, -1], 'ISIC_0033506': [35.0, -1], 'ISIC_0033507': [75.0, -1], 'ISIC_0033508': [55.0, -1], 'ISIC_0033509': [70.0, -1], 'ISIC_0033510': [55.0, -1], 'ISIC_0033511': [45.0, -1], 'ISIC_0033512': [50.0, 1], 'ISIC_0033513': [75.0, -1], 'ISIC_0033514': [40.0, 1], 'ISIC_0033515': [nan, 1], 'ISIC_0033516': [55.0, 1], 'ISIC_0033517': [75.0, -1], 'ISIC_0033518': [80.0, -1], 'ISIC_0033519': [40.0, -1], 'ISIC_0033520': [55.0, -1], 'ISIC_0033521': [40.0, 1], 'ISIC_0033522': [40.0, 1], 'ISIC_0033523': [80.0, -1], 'ISIC_0033524': [85.0, -1], 'ISIC_0033525': [35.0, 1], 'ISIC_0033526': [75.0, 1], 'ISIC_0033527': [40.0, -1], 'ISIC_0033528': [70.0, -1], 'ISIC_0033529': [75.0, -1], 'ISIC_0033530': [45.0, -1], 'ISIC_0033531': [85.0, -1], 'ISIC_0033532': [45.0, 1], 'ISIC_0033533': [65.0, 1], 'ISIC_0033534': [35.0, 1], 'ISIC_0033535': [nan, 1], 'ISIC_0033536': [40.0, -1], 'ISIC_0033537': [20.0, -1], 'ISIC_0033538': [70.0, -1], 'ISIC_0033539': [60.0, -1], 'ISIC_0033540': [50.0, 1], 'ISIC_0033541': [20.0, 1], 'ISIC_0033542': [65.0, -1], 'ISIC_0033543': [45.0, -1], 'ISIC_0033544': [55.0, -1], 'ISIC_0033545': [45.0, -1], 'ISIC_0033546': [40.0, 1], 'ISIC_0033547': [35.0, -1], 'ISIC_0033548': [5.0, 1], 'ISIC_0033549': [20.0, 1], 'ISIC_0033550': [40.0, -1], 'ISIC_0033551': [60.0, 1], 'ISIC_0033552': [45.0, -1], 'ISIC_0033553': [80.0, 1], 'ISIC_0033554': [35.0, 1], 'ISIC_00335541': [35.0, 1], 'ISIC_00335542': [35.0, 1], 'ISIC_00335543': [35.0, 1], 'ISIC_0033555': [70.0, -1], 'ISIC_0033556': [40.0, 1], 'ISIC_0033557': [60.0, -1], 'ISIC_0033558': [35.0, 1], 'ISIC_0033559': [80.0, 1], 'ISIC_0033560': [55.0, 1], 'ISIC_0033561': [45.0, -1], 'ISIC_0033562': [60.0, -1], 'ISIC_0033563': [40.0, -1], 'ISIC_0033564': [15.0, 1], 'ISIC_0033565': [25.0, 1], 'ISIC_00335651': [25.0, 1], 'ISIC_00335652': [25.0, 1], 'ISIC_00335653': [25.0, 1], 'ISIC_0033566': [35.0, 1], 'ISIC_0033567': [40.0, 1], 'ISIC_0033568': [45.0, -1], 'ISIC_0033569': [65.0, -1], 'ISIC_0033570': [55.0, -1], 'ISIC_0033571': [60.0, 1], 'ISIC_0033572': [35.0, -1], 'ISIC_0033573': [50.0, -1], 'ISIC_0033574': [65.0, 1], 'ISIC_0033575': [75.0, 1], 'ISIC_0033576': [85.0, -1], 'ISIC_0033577': [40.0, 1], 'ISIC_0033578': [65.0, -1], 'ISIC_0033579': [25.0, -1], 'ISIC_0033580': [10.0, -1], 'ISIC_0033581': [75.0, -1], 'ISIC_0033582': [85.0, -1], 'ISIC_0033583': [55.0, 1], 'ISIC_0033584': [30.0, 1], 'ISIC_0033585': [35.0, 1], 'ISIC_0033586': [65.0, -1], 'ISIC_0033587': [75.0, -1], 'ISIC_0033588': [85.0, -1], 'ISIC_0033589': [50.0, 1], 'ISIC_0033590': [35.0, 1], 'ISIC_0033591': [80.0, 1], 'ISIC_00335911': [80.0, 1], 'ISIC_00335912': [80.0, 1], 'ISIC_00335913': [80.0, 1], 'ISIC_0033592': [50.0, -1], 'ISIC_0033593': [65.0, -1], 'ISIC_0033594': [50.0, -1], 'ISIC_0033595': [70.0, -1], 'ISIC_0033596': [35.0, -1], 'ISIC_0033597': [nan, 1], 'ISIC_0033598': [15.0, 1], 'ISIC_0033599': [65.0, 1], 'ISIC_0033600': [35.0, -1], 'ISIC_0033601': [40.0, 1], 'ISIC_0033602': [40.0, 1], 'ISIC_0033603': [30.0, 1], 'ISIC_0033604': [20.0, 1], 'ISIC_0033605': [35.0, 1], 'ISIC_0033606': [60.0, 1], 'ISIC_0033607': [45.0, -1], 'ISIC_0033608': [35.0, 1], 'ISIC_00336081': [35.0, 1], 'ISIC_00336082': [35.0, 1], 'ISIC_00336083': [35.0, 1], 'ISIC_0033609': [80.0, -1], 'ISIC_0033610': [40.0, -1], 'ISIC_0033611': [65.0, -1], 'ISIC_0033612': [55.0, 1], 'ISIC_0033613': [45.0, -1], 'ISIC_0033614': [40.0, -1], 'ISIC_0033615': [35.0, -1], 'ISIC_0033616': [40.0, 1], 'ISIC_0033617': [70.0, 1], 'ISIC_0033618': [15.0, -1], 'ISIC_0033619': [50.0, -1], 'ISIC_0033620': [40.0, -1], 'ISIC_0033621': [35.0, 1], 'ISIC_0033622': [40.0, -1], 'ISIC_0033623': [40.0, 1], 'ISIC_0033624': [70.0, -1], 'ISIC_0033625': [35.0, 1], 'ISIC_0033626': [35.0, 1], 'ISIC_00336261': [35.0, 1], 'ISIC_00336262': [35.0, 1], 'ISIC_00336263': [35.0, 1], 'ISIC_0033627': [65.0, -1], 'ISIC_0033628': [nan, 1], 'ISIC_0033629': [60.0, 1], 'ISIC_0033630': [80.0, -1], 'ISIC_0033631': [nan, 1], 'ISIC_0033632': [50.0, -1], 'ISIC_0033633': [45.0, 1], 'ISIC_0033634': [45.0, -1], 'ISIC_0033635': [80.0, -1], 'ISIC_0033636': [75.0, -1], 'ISIC_0033637': [35.0, 1], 'ISIC_0033638': [40.0, 1], 'ISIC_0033639': [20.0, -1], 'ISIC_0033640': [65.0, -1], 'ISIC_0033641': [40.0, -1], 'ISIC_0033642': [75.0, -1], 'ISIC_0033643': [70.0, -1], 'ISIC_0033644': [55.0, -1], 'ISIC_0033645': [45.0, -1], 'ISIC_0033646': [50.0, -1], 'ISIC_0033647': [40.0, 1], 'ISIC_0033648': [35.0, -1], 'ISIC_0033649': [75.0, -1], 'ISIC_0033650': [35.0, 1], 'ISIC_0033651': [60.0, 1], 'ISIC_0033652': [60.0, -1], 'ISIC_0033653': [70.0, 1], 'ISIC_0033654': [45.0, -1], 'ISIC_0033655': [70.0, -1], 'ISIC_0033656': [25.0, -1], 'ISIC_0033657': [40.0, 1], 'ISIC_0033658': [5.0, -1], 'ISIC_0033659': [70.0, -1], 'ISIC_0033660': [60.0, 1], 'ISIC_0033661': [45.0, -1], 'ISIC_0033662': [70.0, 1], 'ISIC_0033663': [50.0, -1], 'ISIC_0033664': [50.0, 1], 'ISIC_0033665': [50.0, -1], 'ISIC_0033666': [60.0, -1], 'ISIC_0033667': [65.0, -1], 'ISIC_0033668': [50.0, -1], 'ISIC_0033669': [35.0, -1], 'ISIC_0033670': [65.0, -1], 'ISIC_0033671': [30.0, -1], 'ISIC_0033672': [65.0, 1], 'ISIC_0033673': [60.0, -1], 'ISIC_0033674': [50.0, 1], 'ISIC_0033675': [50.0, -1], 'ISIC_00336751': [50.0, -1], 'ISIC_00336752': [50.0, -1], 'ISIC_00336753': [50.0, -1], 'ISIC_00336754': [50.0, -1], 'ISIC_0033676': [85.0, -1], 'ISIC_0033677': [60.0, 1], 'ISIC_0033678': [75.0, 1], 'ISIC_0033679': [85.0, -1], 'ISIC_0033680': [60.0, -1], 'ISIC_0033681': [60.0, -1], 'ISIC_0033682': [45.0, 1], 'ISIC_0033683': [30.0, 1], 'ISIC_0033684': [55.0, -1], 'ISIC_0033685': [nan, 1], 'ISIC_0033686': [65.0, 1], 'ISIC_0033687': [35.0, -1], 'ISIC_0033688': [60.0, -1], 'ISIC_0033689': [30.0, 1], 'ISIC_0033690': [40.0, 1], 'ISIC_0033691': [75.0, -1], 'ISIC_0033692': [70.0, -1], 'ISIC_0033693': [85.0, -1], 'ISIC_0033694': [45.0, -1], 'ISIC_0033695': [45.0, 1], 'ISIC_00336951': [45.0, 1], 'ISIC_00336952': [45.0, 1], 'ISIC_00336953': [45.0, 1], 'ISIC_0033696': [65.0, -1], 'ISIC_0033697': [25.0, -1], 'ISIC_0033698': [60.0, -1], 'ISIC_0033699': [30.0, 1], 'ISIC_0033700': [45.0, -1], 'ISIC_0033701': [70.0, -1], 'ISIC_0033702': [35.0, 1], 'ISIC_0033703': [40.0, 1], 'ISIC_0033704': [60.0, -1], 'ISIC_0033705': [60.0, -1], 'ISIC_0033706': [45.0, -1], 'ISIC_0033707': [45.0, -1], 'ISIC_0033708': [nan, -1], 'ISIC_0033709': [45.0, -1], 'ISIC_0033710': [85.0, -1], 'ISIC_0033711': [30.0, -1], 'ISIC_0033712': [60.0, 1], 'ISIC_0033713': [55.0, -1], 'ISIC_0033714': [35.0, -1], 'ISIC_0033715': [25.0, 1], 'ISIC_0033716': [45.0, -1], 'ISIC_0033717': [60.0, 1], 'ISIC_0033718': [45.0, -1], 'ISIC_0033719': [55.0, -1], 'ISIC_0033720': [75.0, -1], 'ISIC_0033721': [80.0, 1], 'ISIC_0033722': [50.0, 1], 'ISIC_0033723': [80.0, -1], 'ISIC_0033724': [35.0, -1], 'ISIC_0033725': [55.0, -1], 'ISIC_0033726': [35.0, 1], 'ISIC_0033727': [35.0, 1], 'ISIC_0033728': [80.0, -1], 'ISIC_0033729': [65.0, -1], 'ISIC_0033730': [70.0, 1], 'ISIC_0033731': [35.0, 1], 'ISIC_0033732': [80.0, -1], 'ISIC_0033733': [nan, 1], 'ISIC_0033734': [60.0, 1], 'ISIC_0033735': [nan, 1], 'ISIC_0033736': [75.0, -1], 'ISIC_0033737': [60.0, 1], 'ISIC_0033738': [40.0, 1], 'ISIC_0033739': [35.0, 1], 'ISIC_0033740': [25.0, 1], 'ISIC_0033741': [60.0, -1], 'ISIC_0033742': [20.0, -1], 'ISIC_0033743': [20.0, 1], 'ISIC_0033744': [70.0, -1], 'ISIC_0033745': [25.0, -1], 'ISIC_0033746': [50.0, -1], 'ISIC_0033747': [30.0, 1], 'ISIC_0033748': [30.0, -1], 'ISIC_0033749': [80.0, -1], 'ISIC_00337491': [80.0, -1], 'ISIC_00337492': [80.0, -1], 'ISIC_00337493': [80.0, -1], 'ISIC_0033750': [nan, 1], 'ISIC_0033751': [nan, 1], 'ISIC_0033752': [50.0, 1], 'ISIC_0033753': [15.0, 1], 'ISIC_0033754': [70.0, -1], 'ISIC_0033755': [35.0, 1], 'ISIC_0033756': [55.0, -1], 'ISIC_0033757': [10.0, 1], 'ISIC_0033758': [50.0, 1], 'ISIC_0033759': [40.0, -1], 'ISIC_0033760': [20.0, -1], 'ISIC_0033761': [45.0, -1], 'ISIC_0033762': [60.0, -1], 'ISIC_00337621': [60.0, -1], 'ISIC_00337622': [60.0, -1], 'ISIC_00337623': [60.0, -1], 'ISIC_0033763': [35.0, 1], 'ISIC_0033764': [50.0, -1], 'ISIC_0033765': [45.0, 1], 'ISIC_0033766': [35.0, -1], 'ISIC_0033767': [35.0, 1], 'ISIC_0033768': [70.0, 1], 'ISIC_0033769': [5.0, 1], 'ISIC_0033770': [50.0, 1], 'ISIC_0033771': [30.0, 1], 'ISIC_0033772': [40.0, 1], 'ISIC_0033773': [70.0, -1], 'ISIC_0033774': [45.0, 1], 'ISIC_0033775': [45.0, -1], 'ISIC_0033776': [40.0, 1], 'ISIC_0033777': [40.0, 1], 'ISIC_0033778': [85.0, -1], 'ISIC_0033779': [35.0, -1], 'ISIC_0033780': [35.0, 1], 'ISIC_00337801': [35.0, 1], 'ISIC_00337802': [35.0, 1], 'ISIC_00337803': [35.0, 1], 'ISIC_0033781': [50.0, -1], 'ISIC_0033782': [nan, 1], 'ISIC_0033783': [85.0, -1], 'ISIC_0033784': [80.0, 1], 'ISIC_0033785': [55.0, -1], 'ISIC_0033786': [35.0, -1], 'ISIC_0033787': [65.0, 1], 'ISIC_0033788': [10.0, 1], 'ISIC_0033789': [35.0, -1], 'ISIC_0033790': [50.0, -1], 'ISIC_00337901': [50.0, -1], 'ISIC_00337902': [50.0, -1], 'ISIC_00337903': [50.0, -1], 'ISIC_00337904': [50.0, -1], 'ISIC_0033791': [75.0, -1], 'ISIC_0033792': [65.0, 1], 'ISIC_0033793': [70.0, -1], 'ISIC_0033794': [50.0, -1], 'ISIC_0033795': [65.0, -1], 'ISIC_0033796': [55.0, -1], 'ISIC_0033797': [40.0, 1], 'ISIC_0033798': [40.0, -1], 'ISIC_0033799': [40.0, 1], 'ISIC_0033800': [40.0, 1], 'ISIC_0033801': [30.0, 1], 'ISIC_0033802': [75.0, -1], 'ISIC_0033803': [40.0, 1], 'ISIC_0033804': [30.0, 1], 'ISIC_0033805': [40.0, 1], 'ISIC_0033806': [85.0, -1], 'ISIC_0033807': [65.0, 1], 'ISIC_0033808': [45.0, -1], 'ISIC_00338081': [45.0, -1], 'ISIC_00338082': [45.0, -1], 'ISIC_00338083': [45.0, -1], 'ISIC_0033809': [nan, 1], 'ISIC_0033810': [35.0, 1], 'ISIC_00338101': [35.0, 1], 'ISIC_00338102': [35.0, 1], 'ISIC_00338103': [35.0, 1], 'ISIC_0033811': [65.0, 1], 'ISIC_0033812': [70.0, 1], 'ISIC_0033813': [55.0, -1], 'ISIC_0033814': [70.0, -1], 'ISIC_0033815': [50.0, 1], 'ISIC_0033816': [65.0, 1], 'ISIC_0033817': [85.0, -1], 'ISIC_00338171': [85.0, -1], 'ISIC_00338172': [85.0, -1], 'ISIC_0033818': [20.0, 1], 'ISIC_0033819': [60.0, -1], 'ISIC_0033820': [70.0, -1], 'ISIC_0033821': [55.0, 1], 'ISIC_0033822': [45.0, 1], 'ISIC_0033823': [35.0, 1], 'ISIC_0033824': [15.0, 1], 'ISIC_0033825': [70.0, -1], 'ISIC_0033826': [40.0, 1], 'ISIC_0033827': [35.0, 1], 'ISIC_0033828': [55.0, -1], 'ISIC_0033829': [nan, 1], 'ISIC_0033830': [15.0, 1], 'ISIC_0033831': [70.0, -1], 'ISIC_0033832': [40.0, 1], 'ISIC_0033833': [50.0, 1], 'ISIC_0033834': [75.0, 1], 'ISIC_0033835': [45.0, -1], 'ISIC_0033836': [55.0, 1], 'ISIC_0033837': [10.0, 1], 'ISIC_0033838': [30.0, 1], 'ISIC_0033839': [55.0, -1], 'ISIC_0033840': [60.0, 1], 'ISIC_0033841': [nan, 1], 'ISIC_0033842': [30.0, -1], 'ISIC_0033843': [80.0, -1], 'ISIC_0033844': [70.0, 1], 'ISIC_00338441': [70.0, 1], 'ISIC_00338442': [70.0, 1], 'ISIC_0033845': [80.0, -1], 'ISIC_0033846': [35.0, 1], 'ISIC_0033847': [45.0, -1], 'ISIC_00338471': [45.0, -1], 'ISIC_00338472': [45.0, -1], 'ISIC_00338473': [45.0, -1], 'ISIC_0033848': [65.0, 1], 'ISIC_0033849': [45.0, -1], 'ISIC_0033850': [70.0, 1], 'ISIC_0033851': [60.0, -1], 'ISIC_0033852': [45.0, -1], 'ISIC_0033853': [80.0, -1], 'ISIC_0033854': [70.0, -1], 'ISIC_0033855': [80.0, 1], 'ISIC_0033856': [85.0, 1], 'ISIC_0033857': [70.0, -1], 'ISIC_0033858': [40.0, 1], 'ISIC_0033859': [50.0, 1], 'ISIC_0033860': [45.0, -1], 'ISIC_00338601': [45.0, -1], 'ISIC_00338602': [45.0, -1], 'ISIC_00338603': [45.0, -1], 'ISIC_0033861': [30.0, 1], 'ISIC_0033862': [35.0, 1], 'ISIC_0033863': [65.0, 1], 'ISIC_0033864': [0.0, 1], 'ISIC_0033865': [70.0, -1], 'ISIC_0033866': [80.0, -1], 'ISIC_0033867': [35.0, 1], 'ISIC_0033868': [80.0, -1], 'ISIC_0033869': [60.0, 1], 'ISIC_0033870': [40.0, -1], 'ISIC_0033871': [30.0, 1], 'ISIC_0033872': [75.0, -1], 'ISIC_0033873': [25.0, -1], 'ISIC_0033874': [65.0, -1], 'ISIC_0033875': [55.0, -1], 'ISIC_0033876': [40.0, 1], 'ISIC_0033877': [nan, 1], 'ISIC_0033878': [80.0, 1], 'ISIC_0033879': [30.0, -1], 'ISIC_0033880': [45.0, 1], 'ISIC_0033881': [40.0, 1], 'ISIC_0033882': [nan, 1], 'ISIC_0033883': [55.0, -1], 'ISIC_0033884': [70.0, -1], 'ISIC_0033885': [60.0, 1], 'ISIC_0033886': [60.0, -1], 'ISIC_0033887': [35.0, 1], 'ISIC_0033888': [50.0, 1], 'ISIC_0033889': [70.0, 1], 'ISIC_0033890': [45.0, 1], 'ISIC_0033891': [35.0, 1], 'ISIC_00338911': [35.0, 1], 'ISIC_00338912': [35.0, 1], 'ISIC_00338913': [35.0, 1], 'ISIC_0033892': [40.0, 1], 'ISIC_0033893': [60.0, -1], 'ISIC_0033894': [40.0, -1], 'ISIC_0033895': [40.0, 1], 'ISIC_0033896': [40.0, 1], 'ISIC_0033897': [45.0, -1], 'ISIC_0033898': [40.0, -1], 'ISIC_0033899': [50.0, -1], 'ISIC_0033900': [50.0, 1], 'ISIC_0033901': [40.0, -1], 'ISIC_0033902': [75.0, -1], 'ISIC_0033903': [45.0, 1], 'ISIC_0033904': [35.0, 1], 'ISIC_0033905': [45.0, 1], 'ISIC_0033906': [55.0, 1], 'ISIC_0033907': [35.0, -1], 'ISIC_0033908': [80.0, -1], 'ISIC_0033909': [35.0, 1], 'ISIC_0033910': [75.0, -1], 'ISIC_0033911': [35.0, -1], 'ISIC_0033912': [45.0, -1], 'ISIC_0033913': [75.0, -1], 'ISIC_0033914': [45.0, -1], 'ISIC_0033915': [30.0, 1], 'ISIC_0033916': [85.0, -1], 'ISIC_0033917': [45.0, 1], 'ISIC_0033918': [40.0, -1], 'ISIC_0033919': [65.0, -1], 'ISIC_0033920': [25.0, 1], 'ISIC_0033921': [20.0, 1], 'ISIC_0033922': [55.0, -1], 'ISIC_0033923': [60.0, 1], 'ISIC_0033924': [85.0, -1], 'ISIC_0033925': [65.0, 1], 'ISIC_0033926': [65.0, 1], 'ISIC_0033927': [65.0, -1], 'ISIC_0033928': [35.0, -1], 'ISIC_0033929': [25.0, -1], 'ISIC_0033930': [30.0, -1], 'ISIC_0033931': [70.0, -1], 'ISIC_0033932': [60.0, 1], 'ISIC_0033933': [20.0, -1], 'ISIC_0033934': [50.0, -1], 'ISIC_0033935': [30.0, 1], 'ISIC_0033936': [20.0, -1], 'ISIC_0033937': [30.0, 1], 'ISIC_0033938': [60.0, 1], 'ISIC_0033939': [50.0, 1], 'ISIC_0033940': [20.0, 1], 'ISIC_0033941': [40.0, 1], 'ISIC_0033942': [65.0, -1], 'ISIC_0033943': [70.0, -1], 'ISIC_0033944': [60.0, -1], 'ISIC_0033945': [60.0, 1], 'ISIC_0033946': [70.0, -1], 'ISIC_0033947': [40.0, 1], 'ISIC_0033948': [60.0, -1], 'ISIC_0033949': [70.0, -1], 'ISIC_0033950': [40.0, 1], 'ISIC_0033951': [45.0, -1], 'ISIC_0033952': [85.0, -1], 'ISIC_0033953': [55.0, -1], 'ISIC_0033954': [30.0, 1], 'ISIC_0033955': [45.0, 1], 'ISIC_0033956': [80.0, -1], 'ISIC_0033957': [60.0, -1], 'ISIC_0033958': [50.0, -1], 'ISIC_0033959': [75.0, -1], 'ISIC_0033960': [35.0, 1], 'ISIC_0033961': [35.0, 1], 'ISIC_0033962': [30.0, 1], 'ISIC_0033963': [70.0, -1], 'ISIC_0033964': [40.0, -1], 'ISIC_0033965': [40.0, -1], 'ISIC_0033966': [15.0, 1], 'ISIC_0033967': [25.0, 1], 'ISIC_0033968': [55.0, -1], 'ISIC_0033969': [35.0, 1], 'ISIC_00339691': [35.0, 1], 'ISIC_00339692': [35.0, 1], 'ISIC_00339693': [35.0, 1], 'ISIC_0033970': [40.0, 1], 'ISIC_0033971': [45.0, -1], 'ISIC_0033972': [40.0, -1], 'ISIC_0033973': [45.0, -1], 'ISIC_0033974': [40.0, 1], 'ISIC_0033975': [85.0, -1], 'ISIC_0033976': [35.0, -1], 'ISIC_0033977': [70.0, 1], 'ISIC_0033978': [45.0, -1], 'ISIC_0033979': [80.0, 1], 'ISIC_0033980': [30.0, 1], 'ISIC_0033981': [45.0, 1], 'ISIC_0033982': [nan, 1], 'ISIC_0033983': [50.0, -1], 'ISIC_0033984': [45.0, 1], 'ISIC_0033985': [70.0, -1], 'ISIC_0033986': [30.0, 1], 'ISIC_0033987': [80.0, 1], 'ISIC_0033988': [40.0, 1], 'ISIC_0033989': [50.0, 1], 'ISIC_0033990': [30.0, 1], 'ISIC_0033991': [45.0, 1], 'ISIC_00339911': [45.0, 1], 'ISIC_00339912': [45.0, 1], 'ISIC_0033992': [25.0, 1], 'ISIC_0033993': [35.0, -1], 'ISIC_0033994': [45.0, 1], 'ISIC_0033995': [60.0, -1], 'ISIC_0033996': [45.0, -1], 'ISIC_0033997': [40.0, 1], 'ISIC_0033998': [30.0, 1], 'ISIC_0033999': [85.0, 1], 'ISIC_0034000': [75.0, -1], 'ISIC_0034001': [40.0, -1], 'ISIC_0034002': [70.0, 1], 'ISIC_0034003': [60.0, 1], 'ISIC_0034004': [45.0, -1], 'ISIC_0034005': [75.0, -1], 'ISIC_0034006': [45.0, 1], 'ISIC_0034007': [80.0, -1], 'ISIC_0034008': [45.0, 1], 'ISIC_0034009': [65.0, -1], 'ISIC_0034010': [45.0, -1], 'ISIC_0034011': [45.0, -1], 'ISIC_0034012': [85.0, -1], 'ISIC_0034013': [45.0, -1], 'ISIC_0034014': [45.0, -1], 'ISIC_0034015': [85.0, 1], 'ISIC_0034016': [30.0, -1], 'ISIC_0034017': [50.0, 1], 'ISIC_0034018': [30.0, -1], 'ISIC_0034019': [nan, 1], 'ISIC_0034020': [35.0, 1], 'ISIC_0034021': [15.0, 1], 'ISIC_0034022': [65.0, -1], 'ISIC_0034023': [45.0, -1], 'ISIC_0034024': [60.0, 1], 'ISIC_0034025': [50.0, -1], 'ISIC_0034026': [80.0, 1], 'ISIC_0034027': [70.0, -1], 'ISIC_0034028': [55.0, -1], 'ISIC_0034029': [20.0, 1], 'ISIC_0034030': [35.0, -1], 'ISIC_0034031': [65.0, -1], 'ISIC_0034032': [40.0, -1], 'ISIC_0034033': [20.0, 1], 'ISIC_0034034': [70.0, -1], 'ISIC_0034035': [30.0, 1], 'ISIC_0034036': [35.0, -1], 'ISIC_0034037': [60.0, 1], 'ISIC_0034038': [40.0, 1], 'ISIC_0034039': [10.0, 1], 'ISIC_0034040': [40.0, -1], 'ISIC_0034041': [15.0, 1], 'ISIC_0034042': [45.0, 1], 'ISIC_0034043': [75.0, 1], 'ISIC_0034044': [30.0, -1], 'ISIC_0034045': [nan, 1], 'ISIC_0034046': [45.0, -1], 'ISIC_0034047': [70.0, -1], 'ISIC_0034048': [45.0, 1], 'ISIC_0034049': [70.0, -1], 'ISIC_0034050': [45.0, 1], 'ISIC_0034051': [55.0, 1], 'ISIC_0034052': [50.0, -1], 'ISIC_0034053': [40.0, -1], 'ISIC_0034054': [35.0, -1], 'ISIC_0034055': [40.0, 1], 'ISIC_0034056': [25.0, 1], 'ISIC_0034057': [70.0, -1], 'ISIC_0034058': [70.0, -1], 'ISIC_0034059': [70.0, -1], 'ISIC_0034060': [30.0, 1], 'ISIC_0034061': [55.0, 1], 'ISIC_0034062': [80.0, 1], 'ISIC_0034063': [25.0, -1], 'ISIC_0034064': [30.0, -1], 'ISIC_0034065': [50.0, -1], 'ISIC_0034066': [70.0, -1], 'ISIC_0034067': [65.0, 1], 'ISIC_0034068': [70.0, 1], 'ISIC_0034069': [55.0, -1], 'ISIC_0034070': [45.0, -1], 'ISIC_0034071': [50.0, -1], 'ISIC_0034072': [60.0, -1], 'ISIC_0034073': [35.0, 1], 'ISIC_0034074': [65.0, -1], 'ISIC_0034075': [40.0, 1], 'ISIC_0034076': [55.0, 1], 'ISIC_0034077': [40.0, 1], 'ISIC_0034078': [35.0, 1], 'ISIC_0034079': [60.0, 1], 'ISIC_0034080': [nan, 1], 'ISIC_0034081': [40.0, 1], 'ISIC_0034082': [40.0, 1], 'ISIC_0034083': [45.0, 1], 'ISIC_0034084': [35.0, 1], 'ISIC_0034085': [35.0, -1], 'ISIC_0034086': [50.0, -1], 'ISIC_0034087': [45.0, -1], 'ISIC_0034088': [35.0, 1], 'ISIC_0034089': [70.0, -1], 'ISIC_0034090': [65.0, -1], 'ISIC_0034091': [40.0, 1], 'ISIC_0034092': [65.0, -1], 'ISIC_0034093': [80.0, 1], 'ISIC_0034094': [55.0, 1], 'ISIC_0034095': [25.0, -1], 'ISIC_0034096': [45.0, 1], 'ISIC_0034097': [65.0, -1], 'ISIC_0034098': [25.0, -1], 'ISIC_0034099': [40.0, 1], 'ISIC_0034100': [65.0, -1], 'ISIC_0034101': [80.0, -1], 'ISIC_0034102': [35.0, -1], 'ISIC_0034103': [60.0, 1], 'ISIC_0034104': [55.0, -1], 'ISIC_0034105': [35.0, 1], 'ISIC_0034106': [65.0, -1], 'ISIC_0034107': [40.0, 1], 'ISIC_0034108': [25.0, 1], 'ISIC_0034109': [30.0, 1], 'ISIC_0034110': [10.0, 1], 'ISIC_0034111': [40.0, 1], 'ISIC_0034112': [30.0, 1], 'ISIC_0034113': [70.0, -1], 'ISIC_0034114': [40.0, 1], 'ISIC_0034115': [40.0, 1], 'ISIC_0034116': [35.0, 1], 'ISIC_0034117': [70.0, -1], 'ISIC_0034118': [25.0, 1], 'ISIC_0034119': [70.0, -1], 'ISIC_0034120': [60.0, 1], 'ISIC_0034121': [20.0, -1], 'ISIC_0034122': [35.0, 1], 'ISIC_0034123': [80.0, 1], 'ISIC_0034124': [30.0, 1], 'ISIC_0034125': [80.0, -1], 'ISIC_0034126': [80.0, -1], 'ISIC_0034127': [20.0, -1], 'ISIC_0034128': [25.0, 1], 'ISIC_0034129': [60.0, -1], 'ISIC_0034130': [nan, 1], 'ISIC_0034131': [30.0, -1], 'ISIC_0034132': [70.0, 1], 'ISIC_0034133': [45.0, 1], 'ISIC_0034134': [75.0, -1], 'ISIC_0034135': [35.0, 1], 'ISIC_00341351': [35.0, 1], 'ISIC_00341352': [35.0, 1], 'ISIC_00341353': [35.0, 1], 'ISIC_0034136': [60.0, 1], 'ISIC_0034137': [65.0, -1], 'ISIC_0034138': [15.0, 1], 'ISIC_0034139': [70.0, 1], 'ISIC_0034140': [70.0, -1], 'ISIC_0034141': [70.0, -1], 'ISIC_0034142': [70.0, -1], 'ISIC_0034143': [25.0, -1], 'ISIC_0034144': [40.0, -1], 'ISIC_0034145': [55.0, -1], 'ISIC_0034146': [40.0, -1], 'ISIC_0034147': [40.0, -1], 'ISIC_0034148': [25.0, 1], 'ISIC_0034149': [40.0, 1], 'ISIC_0034150': [85.0, -1], 'ISIC_0034151': [60.0, -1], 'ISIC_0034152': [35.0, 1], 'ISIC_0034153': [50.0, 1], 'ISIC_0034154': [nan, 1], 'ISIC_0034155': [45.0, 1], 'ISIC_0034156': [50.0, 1], 'ISIC_0034157': [25.0, -1], 'ISIC_0034158': [55.0, -1], 'ISIC_0034159': [55.0, 1], 'ISIC_0034160': [75.0, -1], 'ISIC_0034161': [30.0, 1], 'ISIC_0034162': [70.0, -1], 'ISIC_0034163': [40.0, -1], 'ISIC_0034164': [25.0, -1], 'ISIC_0034165': [55.0, 1], 'ISIC_0034166': [15.0, 1], 'ISIC_0034167': [70.0, -1], 'ISIC_0034168': [85.0, -1], 'ISIC_0034169': [50.0, -1], 'ISIC_00341691': [50.0, -1], 'ISIC_00341692': [50.0, -1], 'ISIC_00341693': [50.0, -1], 'ISIC_00341694': [50.0, -1], 'ISIC_0034170': [80.0, 1], 'ISIC_0034171': [45.0, -1], 'ISIC_0034172': [60.0, -1], 'ISIC_0034173': [75.0, -1], 'ISIC_0034174': [50.0, -1], 'ISIC_0034175': [80.0, -1], 'ISIC_0034176': [35.0, 1], 'ISIC_0034177': [60.0, -1], 'ISIC_0034178': [20.0, -1], 'ISIC_0034179': [20.0, 1], 'ISIC_0034180': [65.0, 1], 'ISIC_0034181': [55.0, -1], 'ISIC_0034182': [65.0, -1], 'ISIC_0034183': [50.0, -1], 'ISIC_0034184': [40.0, 1], 'ISIC_0034185': [45.0, -1], 'ISIC_0034186': [nan, 1], 'ISIC_0034187': [15.0, -1], 'ISIC_0034188': [70.0, -1], 'ISIC_0034189': [80.0, -1], 'ISIC_0034190': [20.0, 1], 'ISIC_0034191': [55.0, -1], 'ISIC_0034192': [30.0, 1], 'ISIC_0034193': [40.0, 1], 'ISIC_0034194': [50.0, 1], 'ISIC_0034195': [nan, 1], 'ISIC_0034196': [80.0, -1], 'ISIC_00341961': [80.0, -1], 'ISIC_00341962': [80.0, -1], 'ISIC_00341963': [80.0, -1], 'ISIC_0034197': [70.0, -1], 'ISIC_0034198': [5.0, -1], 'ISIC_0034199': [45.0, 1], 'ISIC_0034200': [55.0, -1], 'ISIC_0034201': [45.0, 1], 'ISIC_0034202': [70.0, 1], 'ISIC_0034203': [40.0, 1], 'ISIC_0034204': [45.0, -1], 'ISIC_0034205': [55.0, 1], 'ISIC_0034206': [20.0, 1], 'ISIC_0034207': [50.0, 1], 'ISIC_0034208': [60.0, -1], 'ISIC_0034209': [25.0, -1], 'ISIC_0034210': [55.0, 1], 'ISIC_0034211': [45.0, -1], 'ISIC_0034212': [35.0, -1], 'ISIC_0034213': [55.0, -1], 'ISIC_0034214': [60.0, -1], 'ISIC_00342141': [60.0, -1], 'ISIC_00342142': [60.0, -1], 'ISIC_00342143': [60.0, -1], 'ISIC_0034215': [20.0, 1], 'ISIC_0034216': [35.0, -1], 'ISIC_0034217': [60.0, -1], 'ISIC_0034218': [80.0, -1], 'ISIC_0034219': [75.0, -1], 'ISIC_0034220': [40.0, -1], 'ISIC_0034221': [60.0, 1], 'ISIC_0034222': [30.0, -1], 'ISIC_0034223': [85.0, 1], 'ISIC_0034224': [30.0, 1], 'ISIC_0034225': [55.0, -1], 'ISIC_0034226': [45.0, -1], 'ISIC_0034227': [40.0, -1], 'ISIC_0034228': [40.0, 1], 'ISIC_0034229': [20.0, -1], 'ISIC_0034230': [45.0, -1], 'ISIC_0034231': [20.0, 1], 'ISIC_0034232': [20.0, -1], 'ISIC_0034233': [50.0, -1], 'ISIC_0034234': [30.0, 1], 'ISIC_0034235': [80.0, -1], 'ISIC_0034236': [55.0, -1], 'ISIC_0034237': [40.0, -1], 'ISIC_0034238': [30.0, -1], 'ISIC_0034239': [85.0, -1], 'ISIC_0034240': [60.0, -1], 'ISIC_0034241': [25.0, 1], 'ISIC_0034242': [45.0, 1], 'ISIC_0034243': [45.0, 1], 'ISIC_0034244': [20.0, 1], 'ISIC_0034245': [40.0, 1], 'ISIC_0034246': [65.0, 1], 'ISIC_0034247': [25.0, 1], 'ISIC_0034248': [40.0, 1], 'ISIC_0034249': [55.0, -1], 'ISIC_0034250': [40.0, 1], 'ISIC_0034251': [80.0, 1], 'ISIC_0034252': [nan, 1], 'ISIC_0034253': [60.0, -1], 'ISIC_0034254': [55.0, 1], 'ISIC_0034255': [75.0, -1], 'ISIC_0034256': [70.0, -1], 'ISIC_0034257': [50.0, -1], 'ISIC_0034258': [45.0, -1], 'ISIC_0034259': [75.0, -1], 'ISIC_0034260': [65.0, -1], 'ISIC_0034261': [40.0, 1], 'ISIC_0034262': [65.0, -1], 'ISIC_0034263': [80.0, -1], 'ISIC_0034264': [45.0, 1], 'ISIC_0034265': [70.0, -1], 'ISIC_0034266': [nan, 1], 'ISIC_0034267': [5.0, 1], 'ISIC_0034268': [35.0, 1], 'ISIC_0034269': [80.0, -1], 'ISIC_0034270': [45.0, 1], 'ISIC_0034271': [35.0, 1], 'ISIC_0034272': [45.0, 1], 'ISIC_0034273': [70.0, -1], 'ISIC_0034274': [30.0, 1], 'ISIC_0034275': [70.0, -1], 'ISIC_0034276': [70.0, -1], 'ISIC_0034277': [40.0, -1], 'ISIC_0034278': [35.0, -1], 'ISIC_0034279': [50.0, 1], 'ISIC_0034280': [60.0, 1], 'ISIC_0034281': [35.0, 1], 'ISIC_0034282': [20.0, -1], 'ISIC_0034283': [nan, 1], 'ISIC_0034284': [50.0, -1], 'ISIC_0034285': [15.0, 1], 'ISIC_0034286': [0.0, -1], 'ISIC_0034287': [85.0, -1], 'ISIC_0034288': [70.0, -1], 'ISIC_0034289': [50.0, 1], 'ISIC_0034290': [60.0, 1], 'ISIC_0034291': [70.0, 1], 'ISIC_0034292': [50.0, 1], 'ISIC_0034293': [55.0, 1], 'ISIC_0034294': [70.0, 1], 'ISIC_0034295': [25.0, -1], 'ISIC_0034296': [70.0, 1], 'ISIC_0034297': [25.0, -1], 'ISIC_0034298': [25.0, -1], 'ISIC_0034299': [60.0, -1], 'ISIC_0034300': [35.0, -1], 'ISIC_0034301': [30.0, 1], 'ISIC_0034302': [40.0, 1], 'ISIC_0034303': [65.0, -1], 'ISIC_0034304': [60.0, -1], 'ISIC_0034305': [65.0, -1], 'ISIC_0034306': [75.0, -1], 'ISIC_0034307': [65.0, -1], 'ISIC_0034308': [30.0, -1], 'ISIC_0034309': [40.0, -1], 'ISIC_0034310': [45.0, -1], 'ISIC_0034311': [55.0, -1], 'ISIC_0034312': [40.0, 1], 'ISIC_0034313': [55.0, -1], 'ISIC_0034314': [50.0, -1], 'ISIC_0034315': [50.0, -1], 'ISIC_0034316': [85.0, -1], 'ISIC_0034317': [70.0, 1], 'ISIC_0034318': [55.0, -1], 'ISIC_0034319': [30.0, -1], 'ISIC_0034320': [25.0, 1]}\n"
          ]
        },
        {
          "output_type": "stream",
          "name": "stderr",
          "text": [
            "100%|██████████| 5051/5051 [00:00<00:00, 823790.86it/s]\n",
            "100%|██████████| 5111/5111 [00:00<00:00, 848959.95it/s]\n",
            "100%|██████████| 3006/3006 [00:00<00:00, 459662.32it/s]"
          ]
        },
        {
          "output_type": "stream",
          "name": "stdout",
          "text": [
            "{1: 6806, 5: 1023, 3: 1634, 0: 1612, 6: 832, 2: 616, 4: 645}\n",
            "{1: 6806, 5: 1023, 3: 1634, 0: 1612, 6: 832, 2: 616, 4: 645}\n"
          ]
        },
        {
          "output_type": "stream",
          "name": "stderr",
          "text": [
            "\n"
          ]
        }
      ]
    },
    {
      "cell_type": "code",
      "source": [
        "dch.mdata"
      ],
      "metadata": {
        "colab": {
          "base_uri": "https://localhost:8080/",
          "height": 424
        },
        "id": "aQAAHoYwwsFX",
        "outputId": "9874f11b-65f4-4556-c096-9de9ba95893b"
      },
      "execution_count": null,
      "outputs": [
        {
          "output_type": "execute_result",
          "data": {
            "text/plain": [
              "        lesion_id       image_id     dx dx_type   age   sex     localization  \\\n",
              "0     HAM_0000118   ISIC_0027419    bkl   histo  80.0  male            scalp   \n",
              "1     HAM_0000118   ISIC_0025030    bkl   histo  80.0  male            scalp   \n",
              "2     HAM_0002730   ISIC_0026769    bkl   histo  80.0  male            scalp   \n",
              "3     HAM_0002730   ISIC_0025661    bkl   histo  80.0  male            scalp   \n",
              "4     HAM_0001466   ISIC_0031633    bkl   histo  75.0  male              ear   \n",
              "...           ...            ...    ...     ...   ...   ...              ...   \n",
              "3001  HAM_0000769  ISIC_00292791  akiec   histo  80.0  male  lower extremity   \n",
              "3002  HAM_0002646  ISIC_00285581  akiec   histo  75.0  male             face   \n",
              "3003  HAM_0004568  ISIC_00275291  akiec   histo  50.0  male  upper extremity   \n",
              "3004  HAM_0004568  ISIC_00244631  akiec   histo  50.0  male  upper extremity   \n",
              "3005  HAM_0004568  ISIC_00287951  akiec   histo  50.0  male  upper extremity   \n",
              "\n",
              "           dataset  Unnamed: 0  \n",
              "0     vidir_modern         NaN  \n",
              "1     vidir_modern         NaN  \n",
              "2     vidir_modern         NaN  \n",
              "3     vidir_modern         NaN  \n",
              "4     vidir_modern         NaN  \n",
              "...            ...         ...  \n",
              "3001     Augmented         0.0  \n",
              "3002     Augmented         0.0  \n",
              "3003     Augmented         0.0  \n",
              "3004     Augmented         0.0  \n",
              "3005     Augmented         0.0  \n",
              "\n",
              "[13021 rows x 9 columns]"
            ],
            "text/html": [
              "\n",
              "  <div id=\"df-74311de9-cdff-4cc9-936e-8af39a0f2343\">\n",
              "    <div class=\"colab-df-container\">\n",
              "      <div>\n",
              "<style scoped>\n",
              "    .dataframe tbody tr th:only-of-type {\n",
              "        vertical-align: middle;\n",
              "    }\n",
              "\n",
              "    .dataframe tbody tr th {\n",
              "        vertical-align: top;\n",
              "    }\n",
              "\n",
              "    .dataframe thead th {\n",
              "        text-align: right;\n",
              "    }\n",
              "</style>\n",
              "<table border=\"1\" class=\"dataframe\">\n",
              "  <thead>\n",
              "    <tr style=\"text-align: right;\">\n",
              "      <th></th>\n",
              "      <th>lesion_id</th>\n",
              "      <th>image_id</th>\n",
              "      <th>dx</th>\n",
              "      <th>dx_type</th>\n",
              "      <th>age</th>\n",
              "      <th>sex</th>\n",
              "      <th>localization</th>\n",
              "      <th>dataset</th>\n",
              "      <th>Unnamed: 0</th>\n",
              "    </tr>\n",
              "  </thead>\n",
              "  <tbody>\n",
              "    <tr>\n",
              "      <th>0</th>\n",
              "      <td>HAM_0000118</td>\n",
              "      <td>ISIC_0027419</td>\n",
              "      <td>bkl</td>\n",
              "      <td>histo</td>\n",
              "      <td>80.0</td>\n",
              "      <td>male</td>\n",
              "      <td>scalp</td>\n",
              "      <td>vidir_modern</td>\n",
              "      <td>NaN</td>\n",
              "    </tr>\n",
              "    <tr>\n",
              "      <th>1</th>\n",
              "      <td>HAM_0000118</td>\n",
              "      <td>ISIC_0025030</td>\n",
              "      <td>bkl</td>\n",
              "      <td>histo</td>\n",
              "      <td>80.0</td>\n",
              "      <td>male</td>\n",
              "      <td>scalp</td>\n",
              "      <td>vidir_modern</td>\n",
              "      <td>NaN</td>\n",
              "    </tr>\n",
              "    <tr>\n",
              "      <th>2</th>\n",
              "      <td>HAM_0002730</td>\n",
              "      <td>ISIC_0026769</td>\n",
              "      <td>bkl</td>\n",
              "      <td>histo</td>\n",
              "      <td>80.0</td>\n",
              "      <td>male</td>\n",
              "      <td>scalp</td>\n",
              "      <td>vidir_modern</td>\n",
              "      <td>NaN</td>\n",
              "    </tr>\n",
              "    <tr>\n",
              "      <th>3</th>\n",
              "      <td>HAM_0002730</td>\n",
              "      <td>ISIC_0025661</td>\n",
              "      <td>bkl</td>\n",
              "      <td>histo</td>\n",
              "      <td>80.0</td>\n",
              "      <td>male</td>\n",
              "      <td>scalp</td>\n",
              "      <td>vidir_modern</td>\n",
              "      <td>NaN</td>\n",
              "    </tr>\n",
              "    <tr>\n",
              "      <th>4</th>\n",
              "      <td>HAM_0001466</td>\n",
              "      <td>ISIC_0031633</td>\n",
              "      <td>bkl</td>\n",
              "      <td>histo</td>\n",
              "      <td>75.0</td>\n",
              "      <td>male</td>\n",
              "      <td>ear</td>\n",
              "      <td>vidir_modern</td>\n",
              "      <td>NaN</td>\n",
              "    </tr>\n",
              "    <tr>\n",
              "      <th>...</th>\n",
              "      <td>...</td>\n",
              "      <td>...</td>\n",
              "      <td>...</td>\n",
              "      <td>...</td>\n",
              "      <td>...</td>\n",
              "      <td>...</td>\n",
              "      <td>...</td>\n",
              "      <td>...</td>\n",
              "      <td>...</td>\n",
              "    </tr>\n",
              "    <tr>\n",
              "      <th>3001</th>\n",
              "      <td>HAM_0000769</td>\n",
              "      <td>ISIC_00292791</td>\n",
              "      <td>akiec</td>\n",
              "      <td>histo</td>\n",
              "      <td>80.0</td>\n",
              "      <td>male</td>\n",
              "      <td>lower extremity</td>\n",
              "      <td>Augmented</td>\n",
              "      <td>0.0</td>\n",
              "    </tr>\n",
              "    <tr>\n",
              "      <th>3002</th>\n",
              "      <td>HAM_0002646</td>\n",
              "      <td>ISIC_00285581</td>\n",
              "      <td>akiec</td>\n",
              "      <td>histo</td>\n",
              "      <td>75.0</td>\n",
              "      <td>male</td>\n",
              "      <td>face</td>\n",
              "      <td>Augmented</td>\n",
              "      <td>0.0</td>\n",
              "    </tr>\n",
              "    <tr>\n",
              "      <th>3003</th>\n",
              "      <td>HAM_0004568</td>\n",
              "      <td>ISIC_00275291</td>\n",
              "      <td>akiec</td>\n",
              "      <td>histo</td>\n",
              "      <td>50.0</td>\n",
              "      <td>male</td>\n",
              "      <td>upper extremity</td>\n",
              "      <td>Augmented</td>\n",
              "      <td>0.0</td>\n",
              "    </tr>\n",
              "    <tr>\n",
              "      <th>3004</th>\n",
              "      <td>HAM_0004568</td>\n",
              "      <td>ISIC_00244631</td>\n",
              "      <td>akiec</td>\n",
              "      <td>histo</td>\n",
              "      <td>50.0</td>\n",
              "      <td>male</td>\n",
              "      <td>upper extremity</td>\n",
              "      <td>Augmented</td>\n",
              "      <td>0.0</td>\n",
              "    </tr>\n",
              "    <tr>\n",
              "      <th>3005</th>\n",
              "      <td>HAM_0004568</td>\n",
              "      <td>ISIC_00287951</td>\n",
              "      <td>akiec</td>\n",
              "      <td>histo</td>\n",
              "      <td>50.0</td>\n",
              "      <td>male</td>\n",
              "      <td>upper extremity</td>\n",
              "      <td>Augmented</td>\n",
              "      <td>0.0</td>\n",
              "    </tr>\n",
              "  </tbody>\n",
              "</table>\n",
              "<p>13021 rows × 9 columns</p>\n",
              "</div>\n",
              "      <button class=\"colab-df-convert\" onclick=\"convertToInteractive('df-74311de9-cdff-4cc9-936e-8af39a0f2343')\"\n",
              "              title=\"Convert this dataframe to an interactive table.\"\n",
              "              style=\"display:none;\">\n",
              "        \n",
              "  <svg xmlns=\"http://www.w3.org/2000/svg\" height=\"24px\"viewBox=\"0 0 24 24\"\n",
              "       width=\"24px\">\n",
              "    <path d=\"M0 0h24v24H0V0z\" fill=\"none\"/>\n",
              "    <path d=\"M18.56 5.44l.94 2.06.94-2.06 2.06-.94-2.06-.94-.94-2.06-.94 2.06-2.06.94zm-11 1L8.5 8.5l.94-2.06 2.06-.94-2.06-.94L8.5 2.5l-.94 2.06-2.06.94zm10 10l.94 2.06.94-2.06 2.06-.94-2.06-.94-.94-2.06-.94 2.06-2.06.94z\"/><path d=\"M17.41 7.96l-1.37-1.37c-.4-.4-.92-.59-1.43-.59-.52 0-1.04.2-1.43.59L10.3 9.45l-7.72 7.72c-.78.78-.78 2.05 0 2.83L4 21.41c.39.39.9.59 1.41.59.51 0 1.02-.2 1.41-.59l7.78-7.78 2.81-2.81c.8-.78.8-2.07 0-2.86zM5.41 20L4 18.59l7.72-7.72 1.47 1.35L5.41 20z\"/>\n",
              "  </svg>\n",
              "      </button>\n",
              "      \n",
              "  <style>\n",
              "    .colab-df-container {\n",
              "      display:flex;\n",
              "      flex-wrap:wrap;\n",
              "      gap: 12px;\n",
              "    }\n",
              "\n",
              "    .colab-df-convert {\n",
              "      background-color: #E8F0FE;\n",
              "      border: none;\n",
              "      border-radius: 50%;\n",
              "      cursor: pointer;\n",
              "      display: none;\n",
              "      fill: #1967D2;\n",
              "      height: 32px;\n",
              "      padding: 0 0 0 0;\n",
              "      width: 32px;\n",
              "    }\n",
              "\n",
              "    .colab-df-convert:hover {\n",
              "      background-color: #E2EBFA;\n",
              "      box-shadow: 0px 1px 2px rgba(60, 64, 67, 0.3), 0px 1px 3px 1px rgba(60, 64, 67, 0.15);\n",
              "      fill: #174EA6;\n",
              "    }\n",
              "\n",
              "    [theme=dark] .colab-df-convert {\n",
              "      background-color: #3B4455;\n",
              "      fill: #D2E3FC;\n",
              "    }\n",
              "\n",
              "    [theme=dark] .colab-df-convert:hover {\n",
              "      background-color: #434B5C;\n",
              "      box-shadow: 0px 1px 3px 1px rgba(0, 0, 0, 0.15);\n",
              "      filter: drop-shadow(0px 1px 2px rgba(0, 0, 0, 0.3));\n",
              "      fill: #FFFFFF;\n",
              "    }\n",
              "  </style>\n",
              "\n",
              "      <script>\n",
              "        const buttonEl =\n",
              "          document.querySelector('#df-74311de9-cdff-4cc9-936e-8af39a0f2343 button.colab-df-convert');\n",
              "        buttonEl.style.display =\n",
              "          google.colab.kernel.accessAllowed ? 'block' : 'none';\n",
              "\n",
              "        async function convertToInteractive(key) {\n",
              "          const element = document.querySelector('#df-74311de9-cdff-4cc9-936e-8af39a0f2343');\n",
              "          const dataTable =\n",
              "            await google.colab.kernel.invokeFunction('convertToInteractive',\n",
              "                                                     [key], {});\n",
              "          if (!dataTable) return;\n",
              "\n",
              "          const docLinkHtml = 'Like what you see? Visit the ' +\n",
              "            '<a target=\"_blank\" href=https://colab.research.google.com/notebooks/data_table.ipynb>data table notebook</a>'\n",
              "            + ' to learn more about interactive tables.';\n",
              "          element.innerHTML = '';\n",
              "          dataTable['output_type'] = 'display_data';\n",
              "          await google.colab.output.renderOutput(dataTable, element);\n",
              "          const docLink = document.createElement('div');\n",
              "          docLink.innerHTML = docLinkHtml;\n",
              "          element.appendChild(docLink);\n",
              "        }\n",
              "      </script>\n",
              "    </div>\n",
              "  </div>\n",
              "  "
            ]
          },
          "metadata": {},
          "execution_count": 10
        }
      ]
    },
    {
      "cell_type": "code",
      "source": [
        "nancount = 0 \n",
        "for i in dch.mdata[\"age\"]:\n",
        "  if pd.isna(i):\n",
        "    print(\"nan\")\n",
        "    nancount += 1 \n",
        "print(nancount)"
      ],
      "metadata": {
        "id": "PA6EUbJQUb7u",
        "colab": {
          "base_uri": "https://localhost:8080/"
        },
        "outputId": "5ef12c4f-6c29-48a2-ab3b-dc240a7b32ca"
      },
      "execution_count": null,
      "outputs": [
        {
          "output_type": "stream",
          "name": "stdout",
          "text": [
            "nan\n",
            "nan\n",
            "nan\n",
            "nan\n",
            "nan\n",
            "nan\n",
            "nan\n",
            "nan\n",
            "nan\n",
            "nan\n",
            "nan\n",
            "nan\n",
            "nan\n",
            "nan\n",
            "nan\n",
            "nan\n",
            "nan\n",
            "nan\n",
            "nan\n",
            "nan\n",
            "nan\n",
            "nan\n",
            "nan\n",
            "nan\n",
            "nan\n",
            "nan\n",
            "nan\n",
            "nan\n",
            "nan\n",
            "nan\n",
            "nan\n",
            "nan\n",
            "nan\n",
            "nan\n",
            "nan\n",
            "nan\n",
            "nan\n",
            "nan\n",
            "nan\n",
            "nan\n",
            "nan\n",
            "nan\n",
            "nan\n",
            "nan\n",
            "nan\n",
            "nan\n",
            "nan\n",
            "nan\n",
            "nan\n",
            "nan\n",
            "nan\n",
            "nan\n",
            "nan\n",
            "nan\n",
            "nan\n",
            "nan\n",
            "nan\n",
            "57\n"
          ]
        }
      ]
    },
    {
      "cell_type": "code",
      "source": [
        "#for sex \n",
        "nancount = 0 \n",
        "for i in dch.mdata[\"sex\"]:\n",
        "  if pd.isna(i):\n",
        "    print(\"nan\")\n",
        "    nancount += 1 \n",
        "print(nancount)"
      ],
      "metadata": {
        "colab": {
          "base_uri": "https://localhost:8080/"
        },
        "id": "_dFp672ev6eg",
        "outputId": "ab930b7e-f2a5-453c-dfb6-7cf046674ba9"
      },
      "execution_count": null,
      "outputs": [
        {
          "output_type": "stream",
          "name": "stdout",
          "text": [
            "0\n"
          ]
        }
      ]
    },
    {
      "cell_type": "code",
      "source": [
        "len(dch.mdata)\n",
        "#drop the rows with nan in age\n",
        "dch.mdata = dch.mdata[dch.mdata['age'].notna()]\n",
        "len(dch.mdata)"
      ],
      "metadata": {
        "colab": {
          "base_uri": "https://localhost:8080/"
        },
        "id": "JAszy0gfu5U8",
        "outputId": "0cd4bc9f-40c6-4ea7-daa1-e3e3c1eb8524"
      },
      "execution_count": null,
      "outputs": [
        {
          "output_type": "execute_result",
          "data": {
            "text/plain": [
              "12964"
            ]
          },
          "metadata": {},
          "execution_count": 13
        }
      ]
    },
    {
      "cell_type": "code",
      "source": [
        "from skimage import io"
      ],
      "metadata": {
        "id": "CV8qDQUoSINB"
      },
      "execution_count": null,
      "outputs": []
    },
    {
      "cell_type": "code",
      "source": [
        "#write a different data loader class \n",
        "from torch.utils.data import DataLoader\n",
        "class DermClass():\n",
        "  def __init__(self, helper, csv_file, root_dir, sds, transform1=None):\n",
        "    self.derm_frame = pd.read_csv(csv_file)\n",
        "    #drop nandata \n",
        "    self.derm_frame = self.derm_frame[self.derm_frame['age'].notna()]\n",
        "    self.root_dir = root_dir\n",
        "    self.sds = sds \n",
        "    self.transform1 = transform1\n",
        "    #pass in derm class helper here\n",
        "    self.helper = helper\n",
        "\n",
        "  def __len__(self):\n",
        "    return len(self.derm_frame)\n",
        "\n",
        "  def __getitem__(self, index):\n",
        "    #1 is the image file col \n",
        "    filename = self.derm_frame.iloc[index, 1]\n",
        "    img_path = None\n",
        "    #find the image path  \n",
        "    if os.path.exists(str(self.root_dir+self.sds[0]+filename+\".jpg\")):\n",
        "      img_path = str(self.root_dir+self.sds[0]+filename+\".jpg\")\n",
        "    elif os.path.exists(str(self.root_dir+self.sds[1]+filename+\".jpg\")):\n",
        "      img_path = str(self.root_dir+self.sds[1]+filename+\".jpg\")\n",
        "\n",
        "    #get the image using PIL \n",
        "    img = Image.open(img_path)\n",
        "    # y_label = torch.tensor(np.eye(len(self.helper.labels))[self.helper.img_map[filename]]) #this is good for adam optim \n",
        "    y_label = torch.tensor(int(self.helper.img_map[filename]))\n",
        "    # print(pd.isna(self.helper.info_map[filename][0]))\n",
        "    info = torch.tensor([float(self.helper.info_map[filename][0]*.1), float(self.helper.info_map[filename][1])])\n",
        "    # info = torch.tensor([self.helper.info_map[filename][1]])\n",
        "\n",
        "    if self.transform1: \n",
        "      image = self.transform1(img)\n",
        "    return (image, y_label, info)"
      ],
      "metadata": {
        "id": "YawjtHG4IU__"
      },
      "execution_count": null,
      "outputs": []
    },
    {
      "cell_type": "code",
      "source": [
        "# g = DermClass(helper=dch, csv_file=\"/content/drive/MyDrive/HAM10000/HAM10000_metadata.csv\", root_dir=\"/content/drive/MyDrive/HAM10000\", sds=[\"/HAM10000_images_part_1/\", \"/HAM10000_images_part_2/\", \"/HAM10000_images_augmented/\"], transform1=preprocess)\n",
        "# g.__getitem__(33)"
      ],
      "metadata": {
        "id": "1x6aoVRdYy3E"
      },
      "execution_count": null,
      "outputs": []
    },
    {
      "cell_type": "code",
      "source": [
        "# i = 0 \n",
        "# g = DermClass(helper=dch, csv_file=\"/content/drive/MyDrive/HAM10000/HAM10000_metadata.csv\", root_dir=\"/content/drive/MyDrive/HAM10000\", sds=[\"/HAM10000_images_part_1/\", \"/HAM10000_images_part_2/\", \"/HAM10000_images_augmented/\"], transform1=preprocess)\n",
        "# while True: \n",
        "#   g.__getitem__(i)\n",
        "#   i += 1\n"
      ],
      "metadata": {
        "id": "YgWUxS8xWIk6"
      },
      "execution_count": null,
      "outputs": []
    },
    {
      "cell_type": "code",
      "source": [
        "class AugmentedDermClass():\n",
        "  def __init__(self, helper, csv_file, root_dir, sd, transform1=None):\n",
        "    self.derm_frame = pd.read_csv(csv_file)\n",
        "    #drop nan age data \n",
        "    self.derm_frame = self.derm_frame[self.derm_frame['age'].notna()]\n",
        "    self.root_dir = root_dir\n",
        "    self.sd = sd\n",
        "    self.transform1 = transform1\n",
        "    #pass in derm class helper here\n",
        "    self.helper = helper\n",
        "\n",
        "  def __len__(self):\n",
        "    return len(self.derm_frame)\n",
        "\n",
        "  def __getitem__(self, index):\n",
        "    #1 is the image file col \n",
        "    filename = self.derm_frame.iloc[index, 1]\n",
        "    # dataset = self.derm_frame.iloc[index, 7]\n",
        "    img_path = None\n",
        "    #find the image path  \n",
        "    if os.path.exists(str(self.root_dir+self.sd+filename+\".jpg\")):\n",
        "      img_path = str(self.root_dir+self.sd+filename+\".jpg\")\n",
        "\n",
        "    #get the image using PIL \n",
        "    img = Image.open(img_path)\n",
        "    # y_label = torch.tensor(np.eye(len(self.helper.labels))[self.helper.img_map[filename]]) #this is good for adam optim \n",
        "    y_label = torch.tensor(int(self.helper.img_map[filename]))\n",
        "    # pd.isna(self.helper.info_map[filename][0])\n",
        "    info = torch.tensor([float(self.helper.info_map[filename][0]*.1), float(self.helper.info_map[filename][1])])\n",
        "    # info = torch.tensor([self.helper.info_map[filename][1]])\n",
        "    if self.transform1: \n",
        "      image = self.transform1(img)\n",
        "    return (image, y_label, info)"
      ],
      "metadata": {
        "id": "IlWJIssSuzid"
      },
      "execution_count": null,
      "outputs": []
    },
    {
      "cell_type": "code",
      "source": [
        "# i = 0 \n",
        "# g = AugmentedDermClass(helper=dch, csv_file=\"/content/drive/MyDrive/HAM10000/HAM10000_metadata_augmented.csv\", root_dir=\"/content/drive/MyDrive/HAM10000\", sd = \"/HAM10000_images_augmented/\", transform1=preprocess)\n",
        "# while True: \n",
        "#   g.__getitem__(i)\n",
        "#   i += 1\n"
      ],
      "metadata": {
        "id": "YCtxOzWiTQ-R"
      },
      "execution_count": null,
      "outputs": []
    },
    {
      "cell_type": "code",
      "source": [
        "# g = DermClass(helper=dch, csv_files=[\"/content/drive/MyDrive/HAM10000/HAM10000_metadata.csv\", \"/content/drive/MyDrive/HAM10000/HAM10000_metadata_augmented.csv\"], root_dir=\"/content/drive/MyDrive/HAM10000\", sds=[\"/HAM10000_images_part_1/\", \"/HAM10000_images_part_2/\", \"/HAM10000_images_augmented/\"], transform1=preprocess)\n",
        "# g.__getitem__(11000)\n"
      ],
      "metadata": {
        "id": "MJLH9J_aUFU_"
      },
      "execution_count": null,
      "outputs": []
    },
    {
      "cell_type": "code",
      "source": [
        "#hyperparams\n",
        "in_channel = 3\n",
        "num_classes = 7\n",
        "learning_rate = 1e-3\n",
        "batch_size = 64\n",
        "num_epochs =10\n",
        "\n",
        "device = torch.device(\"cuda\" if torch.cuda.is_available() else \"cpu\")\n"
      ],
      "metadata": {
        "id": "IL5rwW6bQBoK"
      },
      "execution_count": null,
      "outputs": []
    },
    {
      "cell_type": "code",
      "source": [
        "dataset = DermClass(helper=dch, csv_file=\"/content/drive/MyDrive/HAM10000/HAM10000_metadata.csv\", root_dir=\"/content/drive/MyDrive/HAM10000\", sds=[\"/HAM10000_images_part_1/\", \"/HAM10000_images_part_2/\"], transform1=preprocess)\n",
        "\n",
        "augmented_dataset = AugmentedDermClass(helper=dch, csv_file=\"/content/drive/MyDrive/HAM10000/HAM10000_metadata_augmented.csv\", root_dir=\"/content/drive/MyDrive/HAM10000\", sd= \"/HAM10000_images_augmented/\", transform1=preprocess)"
      ],
      "metadata": {
        "id": "PbGuFgGFalaB"
      },
      "execution_count": null,
      "outputs": []
    },
    {
      "cell_type": "code",
      "source": [
        "train_set, test_set = torch.utils.data.random_split(dataset, [int(len(dataset)*.75), int(len(dataset)*.25)+1])"
      ],
      "metadata": {
        "id": "5xx694ndvwcD"
      },
      "execution_count": null,
      "outputs": []
    },
    {
      "cell_type": "code",
      "source": [
        "#here, we need to find a way to add augmented images to training and exclude them from testing \n",
        "train_set, test_set = torch.utils.data.random_split(dataset, [int(len(dataset)*.75), int(len(dataset)*.25)+1])\n",
        "\n",
        "#add the augmented data to the train set\n",
        "train_set = torch.utils.data.ConcatDataset([train_set, augmented_dataset])\n",
        "\n",
        "\n",
        "train_loader = DataLoader(dataset = train_set, batch_size = batch_size, shuffle=True)\n",
        "test_loader = DataLoader(dataset = test_set, batch_size = batch_size, shuffle=True)"
      ],
      "metadata": {
        "id": "43Q5_nAhPLEN"
      },
      "execution_count": null,
      "outputs": []
    },
    {
      "cell_type": "code",
      "source": [
        "len(train_loader)"
      ],
      "metadata": {
        "id": "pkKDUV25T7O4",
        "colab": {
          "base_uri": "https://localhost:8080/"
        },
        "outputId": "385ebaa2-b4bb-4a9e-c7ab-bed7720d33df"
      },
      "execution_count": null,
      "outputs": [
        {
          "output_type": "execute_result",
          "data": {
            "text/plain": [
              "164"
            ]
          },
          "metadata": {},
          "execution_count": 65
        }
      ]
    },
    {
      "cell_type": "code",
      "source": [
        "# dataset.__getitem__(0)"
      ],
      "metadata": {
        "id": "rFS6MMCw0f8v"
      },
      "execution_count": null,
      "outputs": []
    },
    {
      "cell_type": "code",
      "source": [
        "#import pretrained \n",
        "import torch\n",
        "# resnet = torch.hub.load('pytorch/vision:v0.10.0', 'resnet18',  pretrained=True)\n",
        "# or any of these variants\n",
        "# model = torch.hub.load('pytorch/vision:v0.10.0', 'resnet34', pretrained=True)\n",
        "# model = torch.hub.load('pytorch/vision:v0.10.0', 'resnet50', pretrained=True)\n",
        "resnet = torch.hub.load('pytorch/vision:v0.10.0', 'resnet101', pretrained=True)\n",
        "# model = torch.hub.load('pytorch/vision:v0.10.0', 'resnet152', pretrained=True)\n"
      ],
      "metadata": {
        "id": "APxZ_SAbBWdM",
        "colab": {
          "base_uri": "https://localhost:8080/"
        },
        "outputId": "53972d79-64a7-4084-8cc6-e16541d92f48"
      },
      "execution_count": null,
      "outputs": [
        {
          "output_type": "stream",
          "name": "stderr",
          "text": [
            "Using cache found in /root/.cache/torch/hub/pytorch_vision_v0.10.0\n"
          ]
        }
      ]
    },
    {
      "cell_type": "code",
      "source": [
        "resnet"
      ],
      "metadata": {
        "id": "8B_Pqc7FOD3i",
        "colab": {
          "base_uri": "https://localhost:8080/"
        },
        "outputId": "0e057401-c6b2-47ed-a076-4079f05ca689"
      },
      "execution_count": null,
      "outputs": [
        {
          "output_type": "execute_result",
          "data": {
            "text/plain": [
              "ResNet(\n",
              "  (conv1): Conv2d(3, 64, kernel_size=(7, 7), stride=(2, 2), padding=(3, 3), bias=False)\n",
              "  (bn1): BatchNorm2d(64, eps=1e-05, momentum=0.1, affine=True, track_running_stats=True)\n",
              "  (relu): ReLU(inplace=True)\n",
              "  (maxpool): MaxPool2d(kernel_size=3, stride=2, padding=1, dilation=1, ceil_mode=False)\n",
              "  (layer1): Sequential(\n",
              "    (0): Bottleneck(\n",
              "      (conv1): Conv2d(64, 64, kernel_size=(1, 1), stride=(1, 1), bias=False)\n",
              "      (bn1): BatchNorm2d(64, eps=1e-05, momentum=0.1, affine=True, track_running_stats=True)\n",
              "      (conv2): Conv2d(64, 64, kernel_size=(3, 3), stride=(1, 1), padding=(1, 1), bias=False)\n",
              "      (bn2): BatchNorm2d(64, eps=1e-05, momentum=0.1, affine=True, track_running_stats=True)\n",
              "      (conv3): Conv2d(64, 256, kernel_size=(1, 1), stride=(1, 1), bias=False)\n",
              "      (bn3): BatchNorm2d(256, eps=1e-05, momentum=0.1, affine=True, track_running_stats=True)\n",
              "      (relu): ReLU(inplace=True)\n",
              "      (downsample): Sequential(\n",
              "        (0): Conv2d(64, 256, kernel_size=(1, 1), stride=(1, 1), bias=False)\n",
              "        (1): BatchNorm2d(256, eps=1e-05, momentum=0.1, affine=True, track_running_stats=True)\n",
              "      )\n",
              "    )\n",
              "    (1): Bottleneck(\n",
              "      (conv1): Conv2d(256, 64, kernel_size=(1, 1), stride=(1, 1), bias=False)\n",
              "      (bn1): BatchNorm2d(64, eps=1e-05, momentum=0.1, affine=True, track_running_stats=True)\n",
              "      (conv2): Conv2d(64, 64, kernel_size=(3, 3), stride=(1, 1), padding=(1, 1), bias=False)\n",
              "      (bn2): BatchNorm2d(64, eps=1e-05, momentum=0.1, affine=True, track_running_stats=True)\n",
              "      (conv3): Conv2d(64, 256, kernel_size=(1, 1), stride=(1, 1), bias=False)\n",
              "      (bn3): BatchNorm2d(256, eps=1e-05, momentum=0.1, affine=True, track_running_stats=True)\n",
              "      (relu): ReLU(inplace=True)\n",
              "    )\n",
              "    (2): Bottleneck(\n",
              "      (conv1): Conv2d(256, 64, kernel_size=(1, 1), stride=(1, 1), bias=False)\n",
              "      (bn1): BatchNorm2d(64, eps=1e-05, momentum=0.1, affine=True, track_running_stats=True)\n",
              "      (conv2): Conv2d(64, 64, kernel_size=(3, 3), stride=(1, 1), padding=(1, 1), bias=False)\n",
              "      (bn2): BatchNorm2d(64, eps=1e-05, momentum=0.1, affine=True, track_running_stats=True)\n",
              "      (conv3): Conv2d(64, 256, kernel_size=(1, 1), stride=(1, 1), bias=False)\n",
              "      (bn3): BatchNorm2d(256, eps=1e-05, momentum=0.1, affine=True, track_running_stats=True)\n",
              "      (relu): ReLU(inplace=True)\n",
              "    )\n",
              "  )\n",
              "  (layer2): Sequential(\n",
              "    (0): Bottleneck(\n",
              "      (conv1): Conv2d(256, 128, kernel_size=(1, 1), stride=(1, 1), bias=False)\n",
              "      (bn1): BatchNorm2d(128, eps=1e-05, momentum=0.1, affine=True, track_running_stats=True)\n",
              "      (conv2): Conv2d(128, 128, kernel_size=(3, 3), stride=(2, 2), padding=(1, 1), bias=False)\n",
              "      (bn2): BatchNorm2d(128, eps=1e-05, momentum=0.1, affine=True, track_running_stats=True)\n",
              "      (conv3): Conv2d(128, 512, kernel_size=(1, 1), stride=(1, 1), bias=False)\n",
              "      (bn3): BatchNorm2d(512, eps=1e-05, momentum=0.1, affine=True, track_running_stats=True)\n",
              "      (relu): ReLU(inplace=True)\n",
              "      (downsample): Sequential(\n",
              "        (0): Conv2d(256, 512, kernel_size=(1, 1), stride=(2, 2), bias=False)\n",
              "        (1): BatchNorm2d(512, eps=1e-05, momentum=0.1, affine=True, track_running_stats=True)\n",
              "      )\n",
              "    )\n",
              "    (1): Bottleneck(\n",
              "      (conv1): Conv2d(512, 128, kernel_size=(1, 1), stride=(1, 1), bias=False)\n",
              "      (bn1): BatchNorm2d(128, eps=1e-05, momentum=0.1, affine=True, track_running_stats=True)\n",
              "      (conv2): Conv2d(128, 128, kernel_size=(3, 3), stride=(1, 1), padding=(1, 1), bias=False)\n",
              "      (bn2): BatchNorm2d(128, eps=1e-05, momentum=0.1, affine=True, track_running_stats=True)\n",
              "      (conv3): Conv2d(128, 512, kernel_size=(1, 1), stride=(1, 1), bias=False)\n",
              "      (bn3): BatchNorm2d(512, eps=1e-05, momentum=0.1, affine=True, track_running_stats=True)\n",
              "      (relu): ReLU(inplace=True)\n",
              "    )\n",
              "    (2): Bottleneck(\n",
              "      (conv1): Conv2d(512, 128, kernel_size=(1, 1), stride=(1, 1), bias=False)\n",
              "      (bn1): BatchNorm2d(128, eps=1e-05, momentum=0.1, affine=True, track_running_stats=True)\n",
              "      (conv2): Conv2d(128, 128, kernel_size=(3, 3), stride=(1, 1), padding=(1, 1), bias=False)\n",
              "      (bn2): BatchNorm2d(128, eps=1e-05, momentum=0.1, affine=True, track_running_stats=True)\n",
              "      (conv3): Conv2d(128, 512, kernel_size=(1, 1), stride=(1, 1), bias=False)\n",
              "      (bn3): BatchNorm2d(512, eps=1e-05, momentum=0.1, affine=True, track_running_stats=True)\n",
              "      (relu): ReLU(inplace=True)\n",
              "    )\n",
              "    (3): Bottleneck(\n",
              "      (conv1): Conv2d(512, 128, kernel_size=(1, 1), stride=(1, 1), bias=False)\n",
              "      (bn1): BatchNorm2d(128, eps=1e-05, momentum=0.1, affine=True, track_running_stats=True)\n",
              "      (conv2): Conv2d(128, 128, kernel_size=(3, 3), stride=(1, 1), padding=(1, 1), bias=False)\n",
              "      (bn2): BatchNorm2d(128, eps=1e-05, momentum=0.1, affine=True, track_running_stats=True)\n",
              "      (conv3): Conv2d(128, 512, kernel_size=(1, 1), stride=(1, 1), bias=False)\n",
              "      (bn3): BatchNorm2d(512, eps=1e-05, momentum=0.1, affine=True, track_running_stats=True)\n",
              "      (relu): ReLU(inplace=True)\n",
              "    )\n",
              "  )\n",
              "  (layer3): Sequential(\n",
              "    (0): Bottleneck(\n",
              "      (conv1): Conv2d(512, 256, kernel_size=(1, 1), stride=(1, 1), bias=False)\n",
              "      (bn1): BatchNorm2d(256, eps=1e-05, momentum=0.1, affine=True, track_running_stats=True)\n",
              "      (conv2): Conv2d(256, 256, kernel_size=(3, 3), stride=(2, 2), padding=(1, 1), bias=False)\n",
              "      (bn2): BatchNorm2d(256, eps=1e-05, momentum=0.1, affine=True, track_running_stats=True)\n",
              "      (conv3): Conv2d(256, 1024, kernel_size=(1, 1), stride=(1, 1), bias=False)\n",
              "      (bn3): BatchNorm2d(1024, eps=1e-05, momentum=0.1, affine=True, track_running_stats=True)\n",
              "      (relu): ReLU(inplace=True)\n",
              "      (downsample): Sequential(\n",
              "        (0): Conv2d(512, 1024, kernel_size=(1, 1), stride=(2, 2), bias=False)\n",
              "        (1): BatchNorm2d(1024, eps=1e-05, momentum=0.1, affine=True, track_running_stats=True)\n",
              "      )\n",
              "    )\n",
              "    (1): Bottleneck(\n",
              "      (conv1): Conv2d(1024, 256, kernel_size=(1, 1), stride=(1, 1), bias=False)\n",
              "      (bn1): BatchNorm2d(256, eps=1e-05, momentum=0.1, affine=True, track_running_stats=True)\n",
              "      (conv2): Conv2d(256, 256, kernel_size=(3, 3), stride=(1, 1), padding=(1, 1), bias=False)\n",
              "      (bn2): BatchNorm2d(256, eps=1e-05, momentum=0.1, affine=True, track_running_stats=True)\n",
              "      (conv3): Conv2d(256, 1024, kernel_size=(1, 1), stride=(1, 1), bias=False)\n",
              "      (bn3): BatchNorm2d(1024, eps=1e-05, momentum=0.1, affine=True, track_running_stats=True)\n",
              "      (relu): ReLU(inplace=True)\n",
              "    )\n",
              "    (2): Bottleneck(\n",
              "      (conv1): Conv2d(1024, 256, kernel_size=(1, 1), stride=(1, 1), bias=False)\n",
              "      (bn1): BatchNorm2d(256, eps=1e-05, momentum=0.1, affine=True, track_running_stats=True)\n",
              "      (conv2): Conv2d(256, 256, kernel_size=(3, 3), stride=(1, 1), padding=(1, 1), bias=False)\n",
              "      (bn2): BatchNorm2d(256, eps=1e-05, momentum=0.1, affine=True, track_running_stats=True)\n",
              "      (conv3): Conv2d(256, 1024, kernel_size=(1, 1), stride=(1, 1), bias=False)\n",
              "      (bn3): BatchNorm2d(1024, eps=1e-05, momentum=0.1, affine=True, track_running_stats=True)\n",
              "      (relu): ReLU(inplace=True)\n",
              "    )\n",
              "    (3): Bottleneck(\n",
              "      (conv1): Conv2d(1024, 256, kernel_size=(1, 1), stride=(1, 1), bias=False)\n",
              "      (bn1): BatchNorm2d(256, eps=1e-05, momentum=0.1, affine=True, track_running_stats=True)\n",
              "      (conv2): Conv2d(256, 256, kernel_size=(3, 3), stride=(1, 1), padding=(1, 1), bias=False)\n",
              "      (bn2): BatchNorm2d(256, eps=1e-05, momentum=0.1, affine=True, track_running_stats=True)\n",
              "      (conv3): Conv2d(256, 1024, kernel_size=(1, 1), stride=(1, 1), bias=False)\n",
              "      (bn3): BatchNorm2d(1024, eps=1e-05, momentum=0.1, affine=True, track_running_stats=True)\n",
              "      (relu): ReLU(inplace=True)\n",
              "    )\n",
              "    (4): Bottleneck(\n",
              "      (conv1): Conv2d(1024, 256, kernel_size=(1, 1), stride=(1, 1), bias=False)\n",
              "      (bn1): BatchNorm2d(256, eps=1e-05, momentum=0.1, affine=True, track_running_stats=True)\n",
              "      (conv2): Conv2d(256, 256, kernel_size=(3, 3), stride=(1, 1), padding=(1, 1), bias=False)\n",
              "      (bn2): BatchNorm2d(256, eps=1e-05, momentum=0.1, affine=True, track_running_stats=True)\n",
              "      (conv3): Conv2d(256, 1024, kernel_size=(1, 1), stride=(1, 1), bias=False)\n",
              "      (bn3): BatchNorm2d(1024, eps=1e-05, momentum=0.1, affine=True, track_running_stats=True)\n",
              "      (relu): ReLU(inplace=True)\n",
              "    )\n",
              "    (5): Bottleneck(\n",
              "      (conv1): Conv2d(1024, 256, kernel_size=(1, 1), stride=(1, 1), bias=False)\n",
              "      (bn1): BatchNorm2d(256, eps=1e-05, momentum=0.1, affine=True, track_running_stats=True)\n",
              "      (conv2): Conv2d(256, 256, kernel_size=(3, 3), stride=(1, 1), padding=(1, 1), bias=False)\n",
              "      (bn2): BatchNorm2d(256, eps=1e-05, momentum=0.1, affine=True, track_running_stats=True)\n",
              "      (conv3): Conv2d(256, 1024, kernel_size=(1, 1), stride=(1, 1), bias=False)\n",
              "      (bn3): BatchNorm2d(1024, eps=1e-05, momentum=0.1, affine=True, track_running_stats=True)\n",
              "      (relu): ReLU(inplace=True)\n",
              "    )\n",
              "    (6): Bottleneck(\n",
              "      (conv1): Conv2d(1024, 256, kernel_size=(1, 1), stride=(1, 1), bias=False)\n",
              "      (bn1): BatchNorm2d(256, eps=1e-05, momentum=0.1, affine=True, track_running_stats=True)\n",
              "      (conv2): Conv2d(256, 256, kernel_size=(3, 3), stride=(1, 1), padding=(1, 1), bias=False)\n",
              "      (bn2): BatchNorm2d(256, eps=1e-05, momentum=0.1, affine=True, track_running_stats=True)\n",
              "      (conv3): Conv2d(256, 1024, kernel_size=(1, 1), stride=(1, 1), bias=False)\n",
              "      (bn3): BatchNorm2d(1024, eps=1e-05, momentum=0.1, affine=True, track_running_stats=True)\n",
              "      (relu): ReLU(inplace=True)\n",
              "    )\n",
              "    (7): Bottleneck(\n",
              "      (conv1): Conv2d(1024, 256, kernel_size=(1, 1), stride=(1, 1), bias=False)\n",
              "      (bn1): BatchNorm2d(256, eps=1e-05, momentum=0.1, affine=True, track_running_stats=True)\n",
              "      (conv2): Conv2d(256, 256, kernel_size=(3, 3), stride=(1, 1), padding=(1, 1), bias=False)\n",
              "      (bn2): BatchNorm2d(256, eps=1e-05, momentum=0.1, affine=True, track_running_stats=True)\n",
              "      (conv3): Conv2d(256, 1024, kernel_size=(1, 1), stride=(1, 1), bias=False)\n",
              "      (bn3): BatchNorm2d(1024, eps=1e-05, momentum=0.1, affine=True, track_running_stats=True)\n",
              "      (relu): ReLU(inplace=True)\n",
              "    )\n",
              "    (8): Bottleneck(\n",
              "      (conv1): Conv2d(1024, 256, kernel_size=(1, 1), stride=(1, 1), bias=False)\n",
              "      (bn1): BatchNorm2d(256, eps=1e-05, momentum=0.1, affine=True, track_running_stats=True)\n",
              "      (conv2): Conv2d(256, 256, kernel_size=(3, 3), stride=(1, 1), padding=(1, 1), bias=False)\n",
              "      (bn2): BatchNorm2d(256, eps=1e-05, momentum=0.1, affine=True, track_running_stats=True)\n",
              "      (conv3): Conv2d(256, 1024, kernel_size=(1, 1), stride=(1, 1), bias=False)\n",
              "      (bn3): BatchNorm2d(1024, eps=1e-05, momentum=0.1, affine=True, track_running_stats=True)\n",
              "      (relu): ReLU(inplace=True)\n",
              "    )\n",
              "    (9): Bottleneck(\n",
              "      (conv1): Conv2d(1024, 256, kernel_size=(1, 1), stride=(1, 1), bias=False)\n",
              "      (bn1): BatchNorm2d(256, eps=1e-05, momentum=0.1, affine=True, track_running_stats=True)\n",
              "      (conv2): Conv2d(256, 256, kernel_size=(3, 3), stride=(1, 1), padding=(1, 1), bias=False)\n",
              "      (bn2): BatchNorm2d(256, eps=1e-05, momentum=0.1, affine=True, track_running_stats=True)\n",
              "      (conv3): Conv2d(256, 1024, kernel_size=(1, 1), stride=(1, 1), bias=False)\n",
              "      (bn3): BatchNorm2d(1024, eps=1e-05, momentum=0.1, affine=True, track_running_stats=True)\n",
              "      (relu): ReLU(inplace=True)\n",
              "    )\n",
              "    (10): Bottleneck(\n",
              "      (conv1): Conv2d(1024, 256, kernel_size=(1, 1), stride=(1, 1), bias=False)\n",
              "      (bn1): BatchNorm2d(256, eps=1e-05, momentum=0.1, affine=True, track_running_stats=True)\n",
              "      (conv2): Conv2d(256, 256, kernel_size=(3, 3), stride=(1, 1), padding=(1, 1), bias=False)\n",
              "      (bn2): BatchNorm2d(256, eps=1e-05, momentum=0.1, affine=True, track_running_stats=True)\n",
              "      (conv3): Conv2d(256, 1024, kernel_size=(1, 1), stride=(1, 1), bias=False)\n",
              "      (bn3): BatchNorm2d(1024, eps=1e-05, momentum=0.1, affine=True, track_running_stats=True)\n",
              "      (relu): ReLU(inplace=True)\n",
              "    )\n",
              "    (11): Bottleneck(\n",
              "      (conv1): Conv2d(1024, 256, kernel_size=(1, 1), stride=(1, 1), bias=False)\n",
              "      (bn1): BatchNorm2d(256, eps=1e-05, momentum=0.1, affine=True, track_running_stats=True)\n",
              "      (conv2): Conv2d(256, 256, kernel_size=(3, 3), stride=(1, 1), padding=(1, 1), bias=False)\n",
              "      (bn2): BatchNorm2d(256, eps=1e-05, momentum=0.1, affine=True, track_running_stats=True)\n",
              "      (conv3): Conv2d(256, 1024, kernel_size=(1, 1), stride=(1, 1), bias=False)\n",
              "      (bn3): BatchNorm2d(1024, eps=1e-05, momentum=0.1, affine=True, track_running_stats=True)\n",
              "      (relu): ReLU(inplace=True)\n",
              "    )\n",
              "    (12): Bottleneck(\n",
              "      (conv1): Conv2d(1024, 256, kernel_size=(1, 1), stride=(1, 1), bias=False)\n",
              "      (bn1): BatchNorm2d(256, eps=1e-05, momentum=0.1, affine=True, track_running_stats=True)\n",
              "      (conv2): Conv2d(256, 256, kernel_size=(3, 3), stride=(1, 1), padding=(1, 1), bias=False)\n",
              "      (bn2): BatchNorm2d(256, eps=1e-05, momentum=0.1, affine=True, track_running_stats=True)\n",
              "      (conv3): Conv2d(256, 1024, kernel_size=(1, 1), stride=(1, 1), bias=False)\n",
              "      (bn3): BatchNorm2d(1024, eps=1e-05, momentum=0.1, affine=True, track_running_stats=True)\n",
              "      (relu): ReLU(inplace=True)\n",
              "    )\n",
              "    (13): Bottleneck(\n",
              "      (conv1): Conv2d(1024, 256, kernel_size=(1, 1), stride=(1, 1), bias=False)\n",
              "      (bn1): BatchNorm2d(256, eps=1e-05, momentum=0.1, affine=True, track_running_stats=True)\n",
              "      (conv2): Conv2d(256, 256, kernel_size=(3, 3), stride=(1, 1), padding=(1, 1), bias=False)\n",
              "      (bn2): BatchNorm2d(256, eps=1e-05, momentum=0.1, affine=True, track_running_stats=True)\n",
              "      (conv3): Conv2d(256, 1024, kernel_size=(1, 1), stride=(1, 1), bias=False)\n",
              "      (bn3): BatchNorm2d(1024, eps=1e-05, momentum=0.1, affine=True, track_running_stats=True)\n",
              "      (relu): ReLU(inplace=True)\n",
              "    )\n",
              "    (14): Bottleneck(\n",
              "      (conv1): Conv2d(1024, 256, kernel_size=(1, 1), stride=(1, 1), bias=False)\n",
              "      (bn1): BatchNorm2d(256, eps=1e-05, momentum=0.1, affine=True, track_running_stats=True)\n",
              "      (conv2): Conv2d(256, 256, kernel_size=(3, 3), stride=(1, 1), padding=(1, 1), bias=False)\n",
              "      (bn2): BatchNorm2d(256, eps=1e-05, momentum=0.1, affine=True, track_running_stats=True)\n",
              "      (conv3): Conv2d(256, 1024, kernel_size=(1, 1), stride=(1, 1), bias=False)\n",
              "      (bn3): BatchNorm2d(1024, eps=1e-05, momentum=0.1, affine=True, track_running_stats=True)\n",
              "      (relu): ReLU(inplace=True)\n",
              "    )\n",
              "    (15): Bottleneck(\n",
              "      (conv1): Conv2d(1024, 256, kernel_size=(1, 1), stride=(1, 1), bias=False)\n",
              "      (bn1): BatchNorm2d(256, eps=1e-05, momentum=0.1, affine=True, track_running_stats=True)\n",
              "      (conv2): Conv2d(256, 256, kernel_size=(3, 3), stride=(1, 1), padding=(1, 1), bias=False)\n",
              "      (bn2): BatchNorm2d(256, eps=1e-05, momentum=0.1, affine=True, track_running_stats=True)\n",
              "      (conv3): Conv2d(256, 1024, kernel_size=(1, 1), stride=(1, 1), bias=False)\n",
              "      (bn3): BatchNorm2d(1024, eps=1e-05, momentum=0.1, affine=True, track_running_stats=True)\n",
              "      (relu): ReLU(inplace=True)\n",
              "    )\n",
              "    (16): Bottleneck(\n",
              "      (conv1): Conv2d(1024, 256, kernel_size=(1, 1), stride=(1, 1), bias=False)\n",
              "      (bn1): BatchNorm2d(256, eps=1e-05, momentum=0.1, affine=True, track_running_stats=True)\n",
              "      (conv2): Conv2d(256, 256, kernel_size=(3, 3), stride=(1, 1), padding=(1, 1), bias=False)\n",
              "      (bn2): BatchNorm2d(256, eps=1e-05, momentum=0.1, affine=True, track_running_stats=True)\n",
              "      (conv3): Conv2d(256, 1024, kernel_size=(1, 1), stride=(1, 1), bias=False)\n",
              "      (bn3): BatchNorm2d(1024, eps=1e-05, momentum=0.1, affine=True, track_running_stats=True)\n",
              "      (relu): ReLU(inplace=True)\n",
              "    )\n",
              "    (17): Bottleneck(\n",
              "      (conv1): Conv2d(1024, 256, kernel_size=(1, 1), stride=(1, 1), bias=False)\n",
              "      (bn1): BatchNorm2d(256, eps=1e-05, momentum=0.1, affine=True, track_running_stats=True)\n",
              "      (conv2): Conv2d(256, 256, kernel_size=(3, 3), stride=(1, 1), padding=(1, 1), bias=False)\n",
              "      (bn2): BatchNorm2d(256, eps=1e-05, momentum=0.1, affine=True, track_running_stats=True)\n",
              "      (conv3): Conv2d(256, 1024, kernel_size=(1, 1), stride=(1, 1), bias=False)\n",
              "      (bn3): BatchNorm2d(1024, eps=1e-05, momentum=0.1, affine=True, track_running_stats=True)\n",
              "      (relu): ReLU(inplace=True)\n",
              "    )\n",
              "    (18): Bottleneck(\n",
              "      (conv1): Conv2d(1024, 256, kernel_size=(1, 1), stride=(1, 1), bias=False)\n",
              "      (bn1): BatchNorm2d(256, eps=1e-05, momentum=0.1, affine=True, track_running_stats=True)\n",
              "      (conv2): Conv2d(256, 256, kernel_size=(3, 3), stride=(1, 1), padding=(1, 1), bias=False)\n",
              "      (bn2): BatchNorm2d(256, eps=1e-05, momentum=0.1, affine=True, track_running_stats=True)\n",
              "      (conv3): Conv2d(256, 1024, kernel_size=(1, 1), stride=(1, 1), bias=False)\n",
              "      (bn3): BatchNorm2d(1024, eps=1e-05, momentum=0.1, affine=True, track_running_stats=True)\n",
              "      (relu): ReLU(inplace=True)\n",
              "    )\n",
              "    (19): Bottleneck(\n",
              "      (conv1): Conv2d(1024, 256, kernel_size=(1, 1), stride=(1, 1), bias=False)\n",
              "      (bn1): BatchNorm2d(256, eps=1e-05, momentum=0.1, affine=True, track_running_stats=True)\n",
              "      (conv2): Conv2d(256, 256, kernel_size=(3, 3), stride=(1, 1), padding=(1, 1), bias=False)\n",
              "      (bn2): BatchNorm2d(256, eps=1e-05, momentum=0.1, affine=True, track_running_stats=True)\n",
              "      (conv3): Conv2d(256, 1024, kernel_size=(1, 1), stride=(1, 1), bias=False)\n",
              "      (bn3): BatchNorm2d(1024, eps=1e-05, momentum=0.1, affine=True, track_running_stats=True)\n",
              "      (relu): ReLU(inplace=True)\n",
              "    )\n",
              "    (20): Bottleneck(\n",
              "      (conv1): Conv2d(1024, 256, kernel_size=(1, 1), stride=(1, 1), bias=False)\n",
              "      (bn1): BatchNorm2d(256, eps=1e-05, momentum=0.1, affine=True, track_running_stats=True)\n",
              "      (conv2): Conv2d(256, 256, kernel_size=(3, 3), stride=(1, 1), padding=(1, 1), bias=False)\n",
              "      (bn2): BatchNorm2d(256, eps=1e-05, momentum=0.1, affine=True, track_running_stats=True)\n",
              "      (conv3): Conv2d(256, 1024, kernel_size=(1, 1), stride=(1, 1), bias=False)\n",
              "      (bn3): BatchNorm2d(1024, eps=1e-05, momentum=0.1, affine=True, track_running_stats=True)\n",
              "      (relu): ReLU(inplace=True)\n",
              "    )\n",
              "    (21): Bottleneck(\n",
              "      (conv1): Conv2d(1024, 256, kernel_size=(1, 1), stride=(1, 1), bias=False)\n",
              "      (bn1): BatchNorm2d(256, eps=1e-05, momentum=0.1, affine=True, track_running_stats=True)\n",
              "      (conv2): Conv2d(256, 256, kernel_size=(3, 3), stride=(1, 1), padding=(1, 1), bias=False)\n",
              "      (bn2): BatchNorm2d(256, eps=1e-05, momentum=0.1, affine=True, track_running_stats=True)\n",
              "      (conv3): Conv2d(256, 1024, kernel_size=(1, 1), stride=(1, 1), bias=False)\n",
              "      (bn3): BatchNorm2d(1024, eps=1e-05, momentum=0.1, affine=True, track_running_stats=True)\n",
              "      (relu): ReLU(inplace=True)\n",
              "    )\n",
              "    (22): Bottleneck(\n",
              "      (conv1): Conv2d(1024, 256, kernel_size=(1, 1), stride=(1, 1), bias=False)\n",
              "      (bn1): BatchNorm2d(256, eps=1e-05, momentum=0.1, affine=True, track_running_stats=True)\n",
              "      (conv2): Conv2d(256, 256, kernel_size=(3, 3), stride=(1, 1), padding=(1, 1), bias=False)\n",
              "      (bn2): BatchNorm2d(256, eps=1e-05, momentum=0.1, affine=True, track_running_stats=True)\n",
              "      (conv3): Conv2d(256, 1024, kernel_size=(1, 1), stride=(1, 1), bias=False)\n",
              "      (bn3): BatchNorm2d(1024, eps=1e-05, momentum=0.1, affine=True, track_running_stats=True)\n",
              "      (relu): ReLU(inplace=True)\n",
              "    )\n",
              "  )\n",
              "  (layer4): Sequential(\n",
              "    (0): Bottleneck(\n",
              "      (conv1): Conv2d(1024, 512, kernel_size=(1, 1), stride=(1, 1), bias=False)\n",
              "      (bn1): BatchNorm2d(512, eps=1e-05, momentum=0.1, affine=True, track_running_stats=True)\n",
              "      (conv2): Conv2d(512, 512, kernel_size=(3, 3), stride=(2, 2), padding=(1, 1), bias=False)\n",
              "      (bn2): BatchNorm2d(512, eps=1e-05, momentum=0.1, affine=True, track_running_stats=True)\n",
              "      (conv3): Conv2d(512, 2048, kernel_size=(1, 1), stride=(1, 1), bias=False)\n",
              "      (bn3): BatchNorm2d(2048, eps=1e-05, momentum=0.1, affine=True, track_running_stats=True)\n",
              "      (relu): ReLU(inplace=True)\n",
              "      (downsample): Sequential(\n",
              "        (0): Conv2d(1024, 2048, kernel_size=(1, 1), stride=(2, 2), bias=False)\n",
              "        (1): BatchNorm2d(2048, eps=1e-05, momentum=0.1, affine=True, track_running_stats=True)\n",
              "      )\n",
              "    )\n",
              "    (1): Bottleneck(\n",
              "      (conv1): Conv2d(2048, 512, kernel_size=(1, 1), stride=(1, 1), bias=False)\n",
              "      (bn1): BatchNorm2d(512, eps=1e-05, momentum=0.1, affine=True, track_running_stats=True)\n",
              "      (conv2): Conv2d(512, 512, kernel_size=(3, 3), stride=(1, 1), padding=(1, 1), bias=False)\n",
              "      (bn2): BatchNorm2d(512, eps=1e-05, momentum=0.1, affine=True, track_running_stats=True)\n",
              "      (conv3): Conv2d(512, 2048, kernel_size=(1, 1), stride=(1, 1), bias=False)\n",
              "      (bn3): BatchNorm2d(2048, eps=1e-05, momentum=0.1, affine=True, track_running_stats=True)\n",
              "      (relu): ReLU(inplace=True)\n",
              "    )\n",
              "    (2): Bottleneck(\n",
              "      (conv1): Conv2d(2048, 512, kernel_size=(1, 1), stride=(1, 1), bias=False)\n",
              "      (bn1): BatchNorm2d(512, eps=1e-05, momentum=0.1, affine=True, track_running_stats=True)\n",
              "      (conv2): Conv2d(512, 512, kernel_size=(3, 3), stride=(1, 1), padding=(1, 1), bias=False)\n",
              "      (bn2): BatchNorm2d(512, eps=1e-05, momentum=0.1, affine=True, track_running_stats=True)\n",
              "      (conv3): Conv2d(512, 2048, kernel_size=(1, 1), stride=(1, 1), bias=False)\n",
              "      (bn3): BatchNorm2d(2048, eps=1e-05, momentum=0.1, affine=True, track_running_stats=True)\n",
              "      (relu): ReLU(inplace=True)\n",
              "    )\n",
              "  )\n",
              "  (avgpool): AdaptiveAvgPool2d(output_size=(1, 1))\n",
              "  (fc): Linear(in_features=2048, out_features=1000, bias=True)\n",
              ")"
            ]
          },
          "metadata": {},
          "execution_count": 75
        }
      ]
    },
    {
      "cell_type": "code",
      "source": [
        "import torch.nn.functional as F \n",
        "\n",
        "#null class that will be useful for us \n",
        "class Identity(nn.Module):\n",
        "    def __init__(self):\n",
        "        super(Identity, self).__init__()\n",
        "        \n",
        "    def forward(self, x):\n",
        "        return x\n",
        "  \n",
        "class ResNetFeature(nn.Module):\n",
        "  def __init__(self, num_classes=7):\n",
        "    super(ResNetFeature, self).__init__()\n",
        "    #define the cnn component here to be resnet \n",
        "    self.cnn = resnet\n",
        "    #make the last fc layer just the identity \n",
        "    self.cnn.fc = nn.Linear(2048, 100)\n",
        "    self.enable_finetuning() #enable the finetuning\n",
        "\n",
        "    #add the additional fc layers\n",
        "    # self.fc1 = nn.Linear(2, 100) #this is where we take sex/gender and explode it to 100 dimensions\n",
        "    self.fc2 = nn.Sequential(\n",
        "                        nn.Linear(102, 100),\n",
        "                        nn.ReLU(), \n",
        "                        nn.Linear(100, 100), \n",
        "                        nn.ReLU(), \n",
        "                        nn.Dropout(p=.5), \n",
        "                        nn.Linear(100, 7))                         \n",
        "  def enable_finetuning(self):\n",
        "    #perform various changes to the layers required for finetuning\n",
        "    thresh = 5 #should be 6\n",
        "    ct = 0\n",
        "    #here we freeze up to and including the 6th layer\n",
        "    for child in self.cnn.children():\n",
        "      if ct <= thresh:\n",
        "        for param in child.parameters():\n",
        "            param.requires_grad = False\n",
        "      print(child, ct)\n",
        "      ct += 1\n",
        "\n",
        "  def forward(self, x, y):\n",
        "    x = self.cnn(x)\n",
        "    y = F.normalize(y)\n",
        "    y = F.relu(self.fc1(y)) # 100 \n",
        "    x = torch.cat((x, y), dim=1) # 102\n",
        "    x = self.fc2(x) # 7\n",
        "    return x"
      ],
      "metadata": {
        "id": "8wJ2g1-rNrV6"
      },
      "execution_count": null,
      "outputs": []
    },
    {
      "cell_type": "code",
      "source": [
        "model = ResNetFeature()\n",
        "model.train()\n",
        "model.to(device)"
      ],
      "metadata": {
        "id": "kOEFZT7YTBTj",
        "colab": {
          "base_uri": "https://localhost:8080/"
        },
        "outputId": "ba2de344-8cf3-4173-a5aa-dbe5c87c7802"
      },
      "execution_count": null,
      "outputs": [
        {
          "output_type": "stream",
          "name": "stdout",
          "text": [
            "Conv2d(3, 64, kernel_size=(7, 7), stride=(2, 2), padding=(3, 3), bias=False) 0\n",
            "BatchNorm2d(64, eps=1e-05, momentum=0.1, affine=True, track_running_stats=True) 1\n",
            "ReLU(inplace=True) 2\n",
            "MaxPool2d(kernel_size=3, stride=2, padding=1, dilation=1, ceil_mode=False) 3\n",
            "Sequential(\n",
            "  (0): Bottleneck(\n",
            "    (conv1): Conv2d(64, 64, kernel_size=(1, 1), stride=(1, 1), bias=False)\n",
            "    (bn1): BatchNorm2d(64, eps=1e-05, momentum=0.1, affine=True, track_running_stats=True)\n",
            "    (conv2): Conv2d(64, 64, kernel_size=(3, 3), stride=(1, 1), padding=(1, 1), bias=False)\n",
            "    (bn2): BatchNorm2d(64, eps=1e-05, momentum=0.1, affine=True, track_running_stats=True)\n",
            "    (conv3): Conv2d(64, 256, kernel_size=(1, 1), stride=(1, 1), bias=False)\n",
            "    (bn3): BatchNorm2d(256, eps=1e-05, momentum=0.1, affine=True, track_running_stats=True)\n",
            "    (relu): ReLU(inplace=True)\n",
            "    (downsample): Sequential(\n",
            "      (0): Conv2d(64, 256, kernel_size=(1, 1), stride=(1, 1), bias=False)\n",
            "      (1): BatchNorm2d(256, eps=1e-05, momentum=0.1, affine=True, track_running_stats=True)\n",
            "    )\n",
            "  )\n",
            "  (1): Bottleneck(\n",
            "    (conv1): Conv2d(256, 64, kernel_size=(1, 1), stride=(1, 1), bias=False)\n",
            "    (bn1): BatchNorm2d(64, eps=1e-05, momentum=0.1, affine=True, track_running_stats=True)\n",
            "    (conv2): Conv2d(64, 64, kernel_size=(3, 3), stride=(1, 1), padding=(1, 1), bias=False)\n",
            "    (bn2): BatchNorm2d(64, eps=1e-05, momentum=0.1, affine=True, track_running_stats=True)\n",
            "    (conv3): Conv2d(64, 256, kernel_size=(1, 1), stride=(1, 1), bias=False)\n",
            "    (bn3): BatchNorm2d(256, eps=1e-05, momentum=0.1, affine=True, track_running_stats=True)\n",
            "    (relu): ReLU(inplace=True)\n",
            "  )\n",
            "  (2): Bottleneck(\n",
            "    (conv1): Conv2d(256, 64, kernel_size=(1, 1), stride=(1, 1), bias=False)\n",
            "    (bn1): BatchNorm2d(64, eps=1e-05, momentum=0.1, affine=True, track_running_stats=True)\n",
            "    (conv2): Conv2d(64, 64, kernel_size=(3, 3), stride=(1, 1), padding=(1, 1), bias=False)\n",
            "    (bn2): BatchNorm2d(64, eps=1e-05, momentum=0.1, affine=True, track_running_stats=True)\n",
            "    (conv3): Conv2d(64, 256, kernel_size=(1, 1), stride=(1, 1), bias=False)\n",
            "    (bn3): BatchNorm2d(256, eps=1e-05, momentum=0.1, affine=True, track_running_stats=True)\n",
            "    (relu): ReLU(inplace=True)\n",
            "  )\n",
            ") 4\n",
            "Sequential(\n",
            "  (0): Bottleneck(\n",
            "    (conv1): Conv2d(256, 128, kernel_size=(1, 1), stride=(1, 1), bias=False)\n",
            "    (bn1): BatchNorm2d(128, eps=1e-05, momentum=0.1, affine=True, track_running_stats=True)\n",
            "    (conv2): Conv2d(128, 128, kernel_size=(3, 3), stride=(2, 2), padding=(1, 1), bias=False)\n",
            "    (bn2): BatchNorm2d(128, eps=1e-05, momentum=0.1, affine=True, track_running_stats=True)\n",
            "    (conv3): Conv2d(128, 512, kernel_size=(1, 1), stride=(1, 1), bias=False)\n",
            "    (bn3): BatchNorm2d(512, eps=1e-05, momentum=0.1, affine=True, track_running_stats=True)\n",
            "    (relu): ReLU(inplace=True)\n",
            "    (downsample): Sequential(\n",
            "      (0): Conv2d(256, 512, kernel_size=(1, 1), stride=(2, 2), bias=False)\n",
            "      (1): BatchNorm2d(512, eps=1e-05, momentum=0.1, affine=True, track_running_stats=True)\n",
            "    )\n",
            "  )\n",
            "  (1): Bottleneck(\n",
            "    (conv1): Conv2d(512, 128, kernel_size=(1, 1), stride=(1, 1), bias=False)\n",
            "    (bn1): BatchNorm2d(128, eps=1e-05, momentum=0.1, affine=True, track_running_stats=True)\n",
            "    (conv2): Conv2d(128, 128, kernel_size=(3, 3), stride=(1, 1), padding=(1, 1), bias=False)\n",
            "    (bn2): BatchNorm2d(128, eps=1e-05, momentum=0.1, affine=True, track_running_stats=True)\n",
            "    (conv3): Conv2d(128, 512, kernel_size=(1, 1), stride=(1, 1), bias=False)\n",
            "    (bn3): BatchNorm2d(512, eps=1e-05, momentum=0.1, affine=True, track_running_stats=True)\n",
            "    (relu): ReLU(inplace=True)\n",
            "  )\n",
            "  (2): Bottleneck(\n",
            "    (conv1): Conv2d(512, 128, kernel_size=(1, 1), stride=(1, 1), bias=False)\n",
            "    (bn1): BatchNorm2d(128, eps=1e-05, momentum=0.1, affine=True, track_running_stats=True)\n",
            "    (conv2): Conv2d(128, 128, kernel_size=(3, 3), stride=(1, 1), padding=(1, 1), bias=False)\n",
            "    (bn2): BatchNorm2d(128, eps=1e-05, momentum=0.1, affine=True, track_running_stats=True)\n",
            "    (conv3): Conv2d(128, 512, kernel_size=(1, 1), stride=(1, 1), bias=False)\n",
            "    (bn3): BatchNorm2d(512, eps=1e-05, momentum=0.1, affine=True, track_running_stats=True)\n",
            "    (relu): ReLU(inplace=True)\n",
            "  )\n",
            "  (3): Bottleneck(\n",
            "    (conv1): Conv2d(512, 128, kernel_size=(1, 1), stride=(1, 1), bias=False)\n",
            "    (bn1): BatchNorm2d(128, eps=1e-05, momentum=0.1, affine=True, track_running_stats=True)\n",
            "    (conv2): Conv2d(128, 128, kernel_size=(3, 3), stride=(1, 1), padding=(1, 1), bias=False)\n",
            "    (bn2): BatchNorm2d(128, eps=1e-05, momentum=0.1, affine=True, track_running_stats=True)\n",
            "    (conv3): Conv2d(128, 512, kernel_size=(1, 1), stride=(1, 1), bias=False)\n",
            "    (bn3): BatchNorm2d(512, eps=1e-05, momentum=0.1, affine=True, track_running_stats=True)\n",
            "    (relu): ReLU(inplace=True)\n",
            "  )\n",
            ") 5\n",
            "Sequential(\n",
            "  (0): Bottleneck(\n",
            "    (conv1): Conv2d(512, 256, kernel_size=(1, 1), stride=(1, 1), bias=False)\n",
            "    (bn1): BatchNorm2d(256, eps=1e-05, momentum=0.1, affine=True, track_running_stats=True)\n",
            "    (conv2): Conv2d(256, 256, kernel_size=(3, 3), stride=(2, 2), padding=(1, 1), bias=False)\n",
            "    (bn2): BatchNorm2d(256, eps=1e-05, momentum=0.1, affine=True, track_running_stats=True)\n",
            "    (conv3): Conv2d(256, 1024, kernel_size=(1, 1), stride=(1, 1), bias=False)\n",
            "    (bn3): BatchNorm2d(1024, eps=1e-05, momentum=0.1, affine=True, track_running_stats=True)\n",
            "    (relu): ReLU(inplace=True)\n",
            "    (downsample): Sequential(\n",
            "      (0): Conv2d(512, 1024, kernel_size=(1, 1), stride=(2, 2), bias=False)\n",
            "      (1): BatchNorm2d(1024, eps=1e-05, momentum=0.1, affine=True, track_running_stats=True)\n",
            "    )\n",
            "  )\n",
            "  (1): Bottleneck(\n",
            "    (conv1): Conv2d(1024, 256, kernel_size=(1, 1), stride=(1, 1), bias=False)\n",
            "    (bn1): BatchNorm2d(256, eps=1e-05, momentum=0.1, affine=True, track_running_stats=True)\n",
            "    (conv2): Conv2d(256, 256, kernel_size=(3, 3), stride=(1, 1), padding=(1, 1), bias=False)\n",
            "    (bn2): BatchNorm2d(256, eps=1e-05, momentum=0.1, affine=True, track_running_stats=True)\n",
            "    (conv3): Conv2d(256, 1024, kernel_size=(1, 1), stride=(1, 1), bias=False)\n",
            "    (bn3): BatchNorm2d(1024, eps=1e-05, momentum=0.1, affine=True, track_running_stats=True)\n",
            "    (relu): ReLU(inplace=True)\n",
            "  )\n",
            "  (2): Bottleneck(\n",
            "    (conv1): Conv2d(1024, 256, kernel_size=(1, 1), stride=(1, 1), bias=False)\n",
            "    (bn1): BatchNorm2d(256, eps=1e-05, momentum=0.1, affine=True, track_running_stats=True)\n",
            "    (conv2): Conv2d(256, 256, kernel_size=(3, 3), stride=(1, 1), padding=(1, 1), bias=False)\n",
            "    (bn2): BatchNorm2d(256, eps=1e-05, momentum=0.1, affine=True, track_running_stats=True)\n",
            "    (conv3): Conv2d(256, 1024, kernel_size=(1, 1), stride=(1, 1), bias=False)\n",
            "    (bn3): BatchNorm2d(1024, eps=1e-05, momentum=0.1, affine=True, track_running_stats=True)\n",
            "    (relu): ReLU(inplace=True)\n",
            "  )\n",
            "  (3): Bottleneck(\n",
            "    (conv1): Conv2d(1024, 256, kernel_size=(1, 1), stride=(1, 1), bias=False)\n",
            "    (bn1): BatchNorm2d(256, eps=1e-05, momentum=0.1, affine=True, track_running_stats=True)\n",
            "    (conv2): Conv2d(256, 256, kernel_size=(3, 3), stride=(1, 1), padding=(1, 1), bias=False)\n",
            "    (bn2): BatchNorm2d(256, eps=1e-05, momentum=0.1, affine=True, track_running_stats=True)\n",
            "    (conv3): Conv2d(256, 1024, kernel_size=(1, 1), stride=(1, 1), bias=False)\n",
            "    (bn3): BatchNorm2d(1024, eps=1e-05, momentum=0.1, affine=True, track_running_stats=True)\n",
            "    (relu): ReLU(inplace=True)\n",
            "  )\n",
            "  (4): Bottleneck(\n",
            "    (conv1): Conv2d(1024, 256, kernel_size=(1, 1), stride=(1, 1), bias=False)\n",
            "    (bn1): BatchNorm2d(256, eps=1e-05, momentum=0.1, affine=True, track_running_stats=True)\n",
            "    (conv2): Conv2d(256, 256, kernel_size=(3, 3), stride=(1, 1), padding=(1, 1), bias=False)\n",
            "    (bn2): BatchNorm2d(256, eps=1e-05, momentum=0.1, affine=True, track_running_stats=True)\n",
            "    (conv3): Conv2d(256, 1024, kernel_size=(1, 1), stride=(1, 1), bias=False)\n",
            "    (bn3): BatchNorm2d(1024, eps=1e-05, momentum=0.1, affine=True, track_running_stats=True)\n",
            "    (relu): ReLU(inplace=True)\n",
            "  )\n",
            "  (5): Bottleneck(\n",
            "    (conv1): Conv2d(1024, 256, kernel_size=(1, 1), stride=(1, 1), bias=False)\n",
            "    (bn1): BatchNorm2d(256, eps=1e-05, momentum=0.1, affine=True, track_running_stats=True)\n",
            "    (conv2): Conv2d(256, 256, kernel_size=(3, 3), stride=(1, 1), padding=(1, 1), bias=False)\n",
            "    (bn2): BatchNorm2d(256, eps=1e-05, momentum=0.1, affine=True, track_running_stats=True)\n",
            "    (conv3): Conv2d(256, 1024, kernel_size=(1, 1), stride=(1, 1), bias=False)\n",
            "    (bn3): BatchNorm2d(1024, eps=1e-05, momentum=0.1, affine=True, track_running_stats=True)\n",
            "    (relu): ReLU(inplace=True)\n",
            "  )\n",
            "  (6): Bottleneck(\n",
            "    (conv1): Conv2d(1024, 256, kernel_size=(1, 1), stride=(1, 1), bias=False)\n",
            "    (bn1): BatchNorm2d(256, eps=1e-05, momentum=0.1, affine=True, track_running_stats=True)\n",
            "    (conv2): Conv2d(256, 256, kernel_size=(3, 3), stride=(1, 1), padding=(1, 1), bias=False)\n",
            "    (bn2): BatchNorm2d(256, eps=1e-05, momentum=0.1, affine=True, track_running_stats=True)\n",
            "    (conv3): Conv2d(256, 1024, kernel_size=(1, 1), stride=(1, 1), bias=False)\n",
            "    (bn3): BatchNorm2d(1024, eps=1e-05, momentum=0.1, affine=True, track_running_stats=True)\n",
            "    (relu): ReLU(inplace=True)\n",
            "  )\n",
            "  (7): Bottleneck(\n",
            "    (conv1): Conv2d(1024, 256, kernel_size=(1, 1), stride=(1, 1), bias=False)\n",
            "    (bn1): BatchNorm2d(256, eps=1e-05, momentum=0.1, affine=True, track_running_stats=True)\n",
            "    (conv2): Conv2d(256, 256, kernel_size=(3, 3), stride=(1, 1), padding=(1, 1), bias=False)\n",
            "    (bn2): BatchNorm2d(256, eps=1e-05, momentum=0.1, affine=True, track_running_stats=True)\n",
            "    (conv3): Conv2d(256, 1024, kernel_size=(1, 1), stride=(1, 1), bias=False)\n",
            "    (bn3): BatchNorm2d(1024, eps=1e-05, momentum=0.1, affine=True, track_running_stats=True)\n",
            "    (relu): ReLU(inplace=True)\n",
            "  )\n",
            "  (8): Bottleneck(\n",
            "    (conv1): Conv2d(1024, 256, kernel_size=(1, 1), stride=(1, 1), bias=False)\n",
            "    (bn1): BatchNorm2d(256, eps=1e-05, momentum=0.1, affine=True, track_running_stats=True)\n",
            "    (conv2): Conv2d(256, 256, kernel_size=(3, 3), stride=(1, 1), padding=(1, 1), bias=False)\n",
            "    (bn2): BatchNorm2d(256, eps=1e-05, momentum=0.1, affine=True, track_running_stats=True)\n",
            "    (conv3): Conv2d(256, 1024, kernel_size=(1, 1), stride=(1, 1), bias=False)\n",
            "    (bn3): BatchNorm2d(1024, eps=1e-05, momentum=0.1, affine=True, track_running_stats=True)\n",
            "    (relu): ReLU(inplace=True)\n",
            "  )\n",
            "  (9): Bottleneck(\n",
            "    (conv1): Conv2d(1024, 256, kernel_size=(1, 1), stride=(1, 1), bias=False)\n",
            "    (bn1): BatchNorm2d(256, eps=1e-05, momentum=0.1, affine=True, track_running_stats=True)\n",
            "    (conv2): Conv2d(256, 256, kernel_size=(3, 3), stride=(1, 1), padding=(1, 1), bias=False)\n",
            "    (bn2): BatchNorm2d(256, eps=1e-05, momentum=0.1, affine=True, track_running_stats=True)\n",
            "    (conv3): Conv2d(256, 1024, kernel_size=(1, 1), stride=(1, 1), bias=False)\n",
            "    (bn3): BatchNorm2d(1024, eps=1e-05, momentum=0.1, affine=True, track_running_stats=True)\n",
            "    (relu): ReLU(inplace=True)\n",
            "  )\n",
            "  (10): Bottleneck(\n",
            "    (conv1): Conv2d(1024, 256, kernel_size=(1, 1), stride=(1, 1), bias=False)\n",
            "    (bn1): BatchNorm2d(256, eps=1e-05, momentum=0.1, affine=True, track_running_stats=True)\n",
            "    (conv2): Conv2d(256, 256, kernel_size=(3, 3), stride=(1, 1), padding=(1, 1), bias=False)\n",
            "    (bn2): BatchNorm2d(256, eps=1e-05, momentum=0.1, affine=True, track_running_stats=True)\n",
            "    (conv3): Conv2d(256, 1024, kernel_size=(1, 1), stride=(1, 1), bias=False)\n",
            "    (bn3): BatchNorm2d(1024, eps=1e-05, momentum=0.1, affine=True, track_running_stats=True)\n",
            "    (relu): ReLU(inplace=True)\n",
            "  )\n",
            "  (11): Bottleneck(\n",
            "    (conv1): Conv2d(1024, 256, kernel_size=(1, 1), stride=(1, 1), bias=False)\n",
            "    (bn1): BatchNorm2d(256, eps=1e-05, momentum=0.1, affine=True, track_running_stats=True)\n",
            "    (conv2): Conv2d(256, 256, kernel_size=(3, 3), stride=(1, 1), padding=(1, 1), bias=False)\n",
            "    (bn2): BatchNorm2d(256, eps=1e-05, momentum=0.1, affine=True, track_running_stats=True)\n",
            "    (conv3): Conv2d(256, 1024, kernel_size=(1, 1), stride=(1, 1), bias=False)\n",
            "    (bn3): BatchNorm2d(1024, eps=1e-05, momentum=0.1, affine=True, track_running_stats=True)\n",
            "    (relu): ReLU(inplace=True)\n",
            "  )\n",
            "  (12): Bottleneck(\n",
            "    (conv1): Conv2d(1024, 256, kernel_size=(1, 1), stride=(1, 1), bias=False)\n",
            "    (bn1): BatchNorm2d(256, eps=1e-05, momentum=0.1, affine=True, track_running_stats=True)\n",
            "    (conv2): Conv2d(256, 256, kernel_size=(3, 3), stride=(1, 1), padding=(1, 1), bias=False)\n",
            "    (bn2): BatchNorm2d(256, eps=1e-05, momentum=0.1, affine=True, track_running_stats=True)\n",
            "    (conv3): Conv2d(256, 1024, kernel_size=(1, 1), stride=(1, 1), bias=False)\n",
            "    (bn3): BatchNorm2d(1024, eps=1e-05, momentum=0.1, affine=True, track_running_stats=True)\n",
            "    (relu): ReLU(inplace=True)\n",
            "  )\n",
            "  (13): Bottleneck(\n",
            "    (conv1): Conv2d(1024, 256, kernel_size=(1, 1), stride=(1, 1), bias=False)\n",
            "    (bn1): BatchNorm2d(256, eps=1e-05, momentum=0.1, affine=True, track_running_stats=True)\n",
            "    (conv2): Conv2d(256, 256, kernel_size=(3, 3), stride=(1, 1), padding=(1, 1), bias=False)\n",
            "    (bn2): BatchNorm2d(256, eps=1e-05, momentum=0.1, affine=True, track_running_stats=True)\n",
            "    (conv3): Conv2d(256, 1024, kernel_size=(1, 1), stride=(1, 1), bias=False)\n",
            "    (bn3): BatchNorm2d(1024, eps=1e-05, momentum=0.1, affine=True, track_running_stats=True)\n",
            "    (relu): ReLU(inplace=True)\n",
            "  )\n",
            "  (14): Bottleneck(\n",
            "    (conv1): Conv2d(1024, 256, kernel_size=(1, 1), stride=(1, 1), bias=False)\n",
            "    (bn1): BatchNorm2d(256, eps=1e-05, momentum=0.1, affine=True, track_running_stats=True)\n",
            "    (conv2): Conv2d(256, 256, kernel_size=(3, 3), stride=(1, 1), padding=(1, 1), bias=False)\n",
            "    (bn2): BatchNorm2d(256, eps=1e-05, momentum=0.1, affine=True, track_running_stats=True)\n",
            "    (conv3): Conv2d(256, 1024, kernel_size=(1, 1), stride=(1, 1), bias=False)\n",
            "    (bn3): BatchNorm2d(1024, eps=1e-05, momentum=0.1, affine=True, track_running_stats=True)\n",
            "    (relu): ReLU(inplace=True)\n",
            "  )\n",
            "  (15): Bottleneck(\n",
            "    (conv1): Conv2d(1024, 256, kernel_size=(1, 1), stride=(1, 1), bias=False)\n",
            "    (bn1): BatchNorm2d(256, eps=1e-05, momentum=0.1, affine=True, track_running_stats=True)\n",
            "    (conv2): Conv2d(256, 256, kernel_size=(3, 3), stride=(1, 1), padding=(1, 1), bias=False)\n",
            "    (bn2): BatchNorm2d(256, eps=1e-05, momentum=0.1, affine=True, track_running_stats=True)\n",
            "    (conv3): Conv2d(256, 1024, kernel_size=(1, 1), stride=(1, 1), bias=False)\n",
            "    (bn3): BatchNorm2d(1024, eps=1e-05, momentum=0.1, affine=True, track_running_stats=True)\n",
            "    (relu): ReLU(inplace=True)\n",
            "  )\n",
            "  (16): Bottleneck(\n",
            "    (conv1): Conv2d(1024, 256, kernel_size=(1, 1), stride=(1, 1), bias=False)\n",
            "    (bn1): BatchNorm2d(256, eps=1e-05, momentum=0.1, affine=True, track_running_stats=True)\n",
            "    (conv2): Conv2d(256, 256, kernel_size=(3, 3), stride=(1, 1), padding=(1, 1), bias=False)\n",
            "    (bn2): BatchNorm2d(256, eps=1e-05, momentum=0.1, affine=True, track_running_stats=True)\n",
            "    (conv3): Conv2d(256, 1024, kernel_size=(1, 1), stride=(1, 1), bias=False)\n",
            "    (bn3): BatchNorm2d(1024, eps=1e-05, momentum=0.1, affine=True, track_running_stats=True)\n",
            "    (relu): ReLU(inplace=True)\n",
            "  )\n",
            "  (17): Bottleneck(\n",
            "    (conv1): Conv2d(1024, 256, kernel_size=(1, 1), stride=(1, 1), bias=False)\n",
            "    (bn1): BatchNorm2d(256, eps=1e-05, momentum=0.1, affine=True, track_running_stats=True)\n",
            "    (conv2): Conv2d(256, 256, kernel_size=(3, 3), stride=(1, 1), padding=(1, 1), bias=False)\n",
            "    (bn2): BatchNorm2d(256, eps=1e-05, momentum=0.1, affine=True, track_running_stats=True)\n",
            "    (conv3): Conv2d(256, 1024, kernel_size=(1, 1), stride=(1, 1), bias=False)\n",
            "    (bn3): BatchNorm2d(1024, eps=1e-05, momentum=0.1, affine=True, track_running_stats=True)\n",
            "    (relu): ReLU(inplace=True)\n",
            "  )\n",
            "  (18): Bottleneck(\n",
            "    (conv1): Conv2d(1024, 256, kernel_size=(1, 1), stride=(1, 1), bias=False)\n",
            "    (bn1): BatchNorm2d(256, eps=1e-05, momentum=0.1, affine=True, track_running_stats=True)\n",
            "    (conv2): Conv2d(256, 256, kernel_size=(3, 3), stride=(1, 1), padding=(1, 1), bias=False)\n",
            "    (bn2): BatchNorm2d(256, eps=1e-05, momentum=0.1, affine=True, track_running_stats=True)\n",
            "    (conv3): Conv2d(256, 1024, kernel_size=(1, 1), stride=(1, 1), bias=False)\n",
            "    (bn3): BatchNorm2d(1024, eps=1e-05, momentum=0.1, affine=True, track_running_stats=True)\n",
            "    (relu): ReLU(inplace=True)\n",
            "  )\n",
            "  (19): Bottleneck(\n",
            "    (conv1): Conv2d(1024, 256, kernel_size=(1, 1), stride=(1, 1), bias=False)\n",
            "    (bn1): BatchNorm2d(256, eps=1e-05, momentum=0.1, affine=True, track_running_stats=True)\n",
            "    (conv2): Conv2d(256, 256, kernel_size=(3, 3), stride=(1, 1), padding=(1, 1), bias=False)\n",
            "    (bn2): BatchNorm2d(256, eps=1e-05, momentum=0.1, affine=True, track_running_stats=True)\n",
            "    (conv3): Conv2d(256, 1024, kernel_size=(1, 1), stride=(1, 1), bias=False)\n",
            "    (bn3): BatchNorm2d(1024, eps=1e-05, momentum=0.1, affine=True, track_running_stats=True)\n",
            "    (relu): ReLU(inplace=True)\n",
            "  )\n",
            "  (20): Bottleneck(\n",
            "    (conv1): Conv2d(1024, 256, kernel_size=(1, 1), stride=(1, 1), bias=False)\n",
            "    (bn1): BatchNorm2d(256, eps=1e-05, momentum=0.1, affine=True, track_running_stats=True)\n",
            "    (conv2): Conv2d(256, 256, kernel_size=(3, 3), stride=(1, 1), padding=(1, 1), bias=False)\n",
            "    (bn2): BatchNorm2d(256, eps=1e-05, momentum=0.1, affine=True, track_running_stats=True)\n",
            "    (conv3): Conv2d(256, 1024, kernel_size=(1, 1), stride=(1, 1), bias=False)\n",
            "    (bn3): BatchNorm2d(1024, eps=1e-05, momentum=0.1, affine=True, track_running_stats=True)\n",
            "    (relu): ReLU(inplace=True)\n",
            "  )\n",
            "  (21): Bottleneck(\n",
            "    (conv1): Conv2d(1024, 256, kernel_size=(1, 1), stride=(1, 1), bias=False)\n",
            "    (bn1): BatchNorm2d(256, eps=1e-05, momentum=0.1, affine=True, track_running_stats=True)\n",
            "    (conv2): Conv2d(256, 256, kernel_size=(3, 3), stride=(1, 1), padding=(1, 1), bias=False)\n",
            "    (bn2): BatchNorm2d(256, eps=1e-05, momentum=0.1, affine=True, track_running_stats=True)\n",
            "    (conv3): Conv2d(256, 1024, kernel_size=(1, 1), stride=(1, 1), bias=False)\n",
            "    (bn3): BatchNorm2d(1024, eps=1e-05, momentum=0.1, affine=True, track_running_stats=True)\n",
            "    (relu): ReLU(inplace=True)\n",
            "  )\n",
            "  (22): Bottleneck(\n",
            "    (conv1): Conv2d(1024, 256, kernel_size=(1, 1), stride=(1, 1), bias=False)\n",
            "    (bn1): BatchNorm2d(256, eps=1e-05, momentum=0.1, affine=True, track_running_stats=True)\n",
            "    (conv2): Conv2d(256, 256, kernel_size=(3, 3), stride=(1, 1), padding=(1, 1), bias=False)\n",
            "    (bn2): BatchNorm2d(256, eps=1e-05, momentum=0.1, affine=True, track_running_stats=True)\n",
            "    (conv3): Conv2d(256, 1024, kernel_size=(1, 1), stride=(1, 1), bias=False)\n",
            "    (bn3): BatchNorm2d(1024, eps=1e-05, momentum=0.1, affine=True, track_running_stats=True)\n",
            "    (relu): ReLU(inplace=True)\n",
            "  )\n",
            ") 6\n",
            "Sequential(\n",
            "  (0): Bottleneck(\n",
            "    (conv1): Conv2d(1024, 512, kernel_size=(1, 1), stride=(1, 1), bias=False)\n",
            "    (bn1): BatchNorm2d(512, eps=1e-05, momentum=0.1, affine=True, track_running_stats=True)\n",
            "    (conv2): Conv2d(512, 512, kernel_size=(3, 3), stride=(2, 2), padding=(1, 1), bias=False)\n",
            "    (bn2): BatchNorm2d(512, eps=1e-05, momentum=0.1, affine=True, track_running_stats=True)\n",
            "    (conv3): Conv2d(512, 2048, kernel_size=(1, 1), stride=(1, 1), bias=False)\n",
            "    (bn3): BatchNorm2d(2048, eps=1e-05, momentum=0.1, affine=True, track_running_stats=True)\n",
            "    (relu): ReLU(inplace=True)\n",
            "    (downsample): Sequential(\n",
            "      (0): Conv2d(1024, 2048, kernel_size=(1, 1), stride=(2, 2), bias=False)\n",
            "      (1): BatchNorm2d(2048, eps=1e-05, momentum=0.1, affine=True, track_running_stats=True)\n",
            "    )\n",
            "  )\n",
            "  (1): Bottleneck(\n",
            "    (conv1): Conv2d(2048, 512, kernel_size=(1, 1), stride=(1, 1), bias=False)\n",
            "    (bn1): BatchNorm2d(512, eps=1e-05, momentum=0.1, affine=True, track_running_stats=True)\n",
            "    (conv2): Conv2d(512, 512, kernel_size=(3, 3), stride=(1, 1), padding=(1, 1), bias=False)\n",
            "    (bn2): BatchNorm2d(512, eps=1e-05, momentum=0.1, affine=True, track_running_stats=True)\n",
            "    (conv3): Conv2d(512, 2048, kernel_size=(1, 1), stride=(1, 1), bias=False)\n",
            "    (bn3): BatchNorm2d(2048, eps=1e-05, momentum=0.1, affine=True, track_running_stats=True)\n",
            "    (relu): ReLU(inplace=True)\n",
            "  )\n",
            "  (2): Bottleneck(\n",
            "    (conv1): Conv2d(2048, 512, kernel_size=(1, 1), stride=(1, 1), bias=False)\n",
            "    (bn1): BatchNorm2d(512, eps=1e-05, momentum=0.1, affine=True, track_running_stats=True)\n",
            "    (conv2): Conv2d(512, 512, kernel_size=(3, 3), stride=(1, 1), padding=(1, 1), bias=False)\n",
            "    (bn2): BatchNorm2d(512, eps=1e-05, momentum=0.1, affine=True, track_running_stats=True)\n",
            "    (conv3): Conv2d(512, 2048, kernel_size=(1, 1), stride=(1, 1), bias=False)\n",
            "    (bn3): BatchNorm2d(2048, eps=1e-05, momentum=0.1, affine=True, track_running_stats=True)\n",
            "    (relu): ReLU(inplace=True)\n",
            "  )\n",
            ") 7\n",
            "AdaptiveAvgPool2d(output_size=(1, 1)) 8\n",
            "Linear(in_features=2048, out_features=100, bias=True) 9\n"
          ]
        },
        {
          "output_type": "execute_result",
          "data": {
            "text/plain": [
              "ResNetFeature(\n",
              "  (cnn): ResNet(\n",
              "    (conv1): Conv2d(3, 64, kernel_size=(7, 7), stride=(2, 2), padding=(3, 3), bias=False)\n",
              "    (bn1): BatchNorm2d(64, eps=1e-05, momentum=0.1, affine=True, track_running_stats=True)\n",
              "    (relu): ReLU(inplace=True)\n",
              "    (maxpool): MaxPool2d(kernel_size=3, stride=2, padding=1, dilation=1, ceil_mode=False)\n",
              "    (layer1): Sequential(\n",
              "      (0): Bottleneck(\n",
              "        (conv1): Conv2d(64, 64, kernel_size=(1, 1), stride=(1, 1), bias=False)\n",
              "        (bn1): BatchNorm2d(64, eps=1e-05, momentum=0.1, affine=True, track_running_stats=True)\n",
              "        (conv2): Conv2d(64, 64, kernel_size=(3, 3), stride=(1, 1), padding=(1, 1), bias=False)\n",
              "        (bn2): BatchNorm2d(64, eps=1e-05, momentum=0.1, affine=True, track_running_stats=True)\n",
              "        (conv3): Conv2d(64, 256, kernel_size=(1, 1), stride=(1, 1), bias=False)\n",
              "        (bn3): BatchNorm2d(256, eps=1e-05, momentum=0.1, affine=True, track_running_stats=True)\n",
              "        (relu): ReLU(inplace=True)\n",
              "        (downsample): Sequential(\n",
              "          (0): Conv2d(64, 256, kernel_size=(1, 1), stride=(1, 1), bias=False)\n",
              "          (1): BatchNorm2d(256, eps=1e-05, momentum=0.1, affine=True, track_running_stats=True)\n",
              "        )\n",
              "      )\n",
              "      (1): Bottleneck(\n",
              "        (conv1): Conv2d(256, 64, kernel_size=(1, 1), stride=(1, 1), bias=False)\n",
              "        (bn1): BatchNorm2d(64, eps=1e-05, momentum=0.1, affine=True, track_running_stats=True)\n",
              "        (conv2): Conv2d(64, 64, kernel_size=(3, 3), stride=(1, 1), padding=(1, 1), bias=False)\n",
              "        (bn2): BatchNorm2d(64, eps=1e-05, momentum=0.1, affine=True, track_running_stats=True)\n",
              "        (conv3): Conv2d(64, 256, kernel_size=(1, 1), stride=(1, 1), bias=False)\n",
              "        (bn3): BatchNorm2d(256, eps=1e-05, momentum=0.1, affine=True, track_running_stats=True)\n",
              "        (relu): ReLU(inplace=True)\n",
              "      )\n",
              "      (2): Bottleneck(\n",
              "        (conv1): Conv2d(256, 64, kernel_size=(1, 1), stride=(1, 1), bias=False)\n",
              "        (bn1): BatchNorm2d(64, eps=1e-05, momentum=0.1, affine=True, track_running_stats=True)\n",
              "        (conv2): Conv2d(64, 64, kernel_size=(3, 3), stride=(1, 1), padding=(1, 1), bias=False)\n",
              "        (bn2): BatchNorm2d(64, eps=1e-05, momentum=0.1, affine=True, track_running_stats=True)\n",
              "        (conv3): Conv2d(64, 256, kernel_size=(1, 1), stride=(1, 1), bias=False)\n",
              "        (bn3): BatchNorm2d(256, eps=1e-05, momentum=0.1, affine=True, track_running_stats=True)\n",
              "        (relu): ReLU(inplace=True)\n",
              "      )\n",
              "    )\n",
              "    (layer2): Sequential(\n",
              "      (0): Bottleneck(\n",
              "        (conv1): Conv2d(256, 128, kernel_size=(1, 1), stride=(1, 1), bias=False)\n",
              "        (bn1): BatchNorm2d(128, eps=1e-05, momentum=0.1, affine=True, track_running_stats=True)\n",
              "        (conv2): Conv2d(128, 128, kernel_size=(3, 3), stride=(2, 2), padding=(1, 1), bias=False)\n",
              "        (bn2): BatchNorm2d(128, eps=1e-05, momentum=0.1, affine=True, track_running_stats=True)\n",
              "        (conv3): Conv2d(128, 512, kernel_size=(1, 1), stride=(1, 1), bias=False)\n",
              "        (bn3): BatchNorm2d(512, eps=1e-05, momentum=0.1, affine=True, track_running_stats=True)\n",
              "        (relu): ReLU(inplace=True)\n",
              "        (downsample): Sequential(\n",
              "          (0): Conv2d(256, 512, kernel_size=(1, 1), stride=(2, 2), bias=False)\n",
              "          (1): BatchNorm2d(512, eps=1e-05, momentum=0.1, affine=True, track_running_stats=True)\n",
              "        )\n",
              "      )\n",
              "      (1): Bottleneck(\n",
              "        (conv1): Conv2d(512, 128, kernel_size=(1, 1), stride=(1, 1), bias=False)\n",
              "        (bn1): BatchNorm2d(128, eps=1e-05, momentum=0.1, affine=True, track_running_stats=True)\n",
              "        (conv2): Conv2d(128, 128, kernel_size=(3, 3), stride=(1, 1), padding=(1, 1), bias=False)\n",
              "        (bn2): BatchNorm2d(128, eps=1e-05, momentum=0.1, affine=True, track_running_stats=True)\n",
              "        (conv3): Conv2d(128, 512, kernel_size=(1, 1), stride=(1, 1), bias=False)\n",
              "        (bn3): BatchNorm2d(512, eps=1e-05, momentum=0.1, affine=True, track_running_stats=True)\n",
              "        (relu): ReLU(inplace=True)\n",
              "      )\n",
              "      (2): Bottleneck(\n",
              "        (conv1): Conv2d(512, 128, kernel_size=(1, 1), stride=(1, 1), bias=False)\n",
              "        (bn1): BatchNorm2d(128, eps=1e-05, momentum=0.1, affine=True, track_running_stats=True)\n",
              "        (conv2): Conv2d(128, 128, kernel_size=(3, 3), stride=(1, 1), padding=(1, 1), bias=False)\n",
              "        (bn2): BatchNorm2d(128, eps=1e-05, momentum=0.1, affine=True, track_running_stats=True)\n",
              "        (conv3): Conv2d(128, 512, kernel_size=(1, 1), stride=(1, 1), bias=False)\n",
              "        (bn3): BatchNorm2d(512, eps=1e-05, momentum=0.1, affine=True, track_running_stats=True)\n",
              "        (relu): ReLU(inplace=True)\n",
              "      )\n",
              "      (3): Bottleneck(\n",
              "        (conv1): Conv2d(512, 128, kernel_size=(1, 1), stride=(1, 1), bias=False)\n",
              "        (bn1): BatchNorm2d(128, eps=1e-05, momentum=0.1, affine=True, track_running_stats=True)\n",
              "        (conv2): Conv2d(128, 128, kernel_size=(3, 3), stride=(1, 1), padding=(1, 1), bias=False)\n",
              "        (bn2): BatchNorm2d(128, eps=1e-05, momentum=0.1, affine=True, track_running_stats=True)\n",
              "        (conv3): Conv2d(128, 512, kernel_size=(1, 1), stride=(1, 1), bias=False)\n",
              "        (bn3): BatchNorm2d(512, eps=1e-05, momentum=0.1, affine=True, track_running_stats=True)\n",
              "        (relu): ReLU(inplace=True)\n",
              "      )\n",
              "    )\n",
              "    (layer3): Sequential(\n",
              "      (0): Bottleneck(\n",
              "        (conv1): Conv2d(512, 256, kernel_size=(1, 1), stride=(1, 1), bias=False)\n",
              "        (bn1): BatchNorm2d(256, eps=1e-05, momentum=0.1, affine=True, track_running_stats=True)\n",
              "        (conv2): Conv2d(256, 256, kernel_size=(3, 3), stride=(2, 2), padding=(1, 1), bias=False)\n",
              "        (bn2): BatchNorm2d(256, eps=1e-05, momentum=0.1, affine=True, track_running_stats=True)\n",
              "        (conv3): Conv2d(256, 1024, kernel_size=(1, 1), stride=(1, 1), bias=False)\n",
              "        (bn3): BatchNorm2d(1024, eps=1e-05, momentum=0.1, affine=True, track_running_stats=True)\n",
              "        (relu): ReLU(inplace=True)\n",
              "        (downsample): Sequential(\n",
              "          (0): Conv2d(512, 1024, kernel_size=(1, 1), stride=(2, 2), bias=False)\n",
              "          (1): BatchNorm2d(1024, eps=1e-05, momentum=0.1, affine=True, track_running_stats=True)\n",
              "        )\n",
              "      )\n",
              "      (1): Bottleneck(\n",
              "        (conv1): Conv2d(1024, 256, kernel_size=(1, 1), stride=(1, 1), bias=False)\n",
              "        (bn1): BatchNorm2d(256, eps=1e-05, momentum=0.1, affine=True, track_running_stats=True)\n",
              "        (conv2): Conv2d(256, 256, kernel_size=(3, 3), stride=(1, 1), padding=(1, 1), bias=False)\n",
              "        (bn2): BatchNorm2d(256, eps=1e-05, momentum=0.1, affine=True, track_running_stats=True)\n",
              "        (conv3): Conv2d(256, 1024, kernel_size=(1, 1), stride=(1, 1), bias=False)\n",
              "        (bn3): BatchNorm2d(1024, eps=1e-05, momentum=0.1, affine=True, track_running_stats=True)\n",
              "        (relu): ReLU(inplace=True)\n",
              "      )\n",
              "      (2): Bottleneck(\n",
              "        (conv1): Conv2d(1024, 256, kernel_size=(1, 1), stride=(1, 1), bias=False)\n",
              "        (bn1): BatchNorm2d(256, eps=1e-05, momentum=0.1, affine=True, track_running_stats=True)\n",
              "        (conv2): Conv2d(256, 256, kernel_size=(3, 3), stride=(1, 1), padding=(1, 1), bias=False)\n",
              "        (bn2): BatchNorm2d(256, eps=1e-05, momentum=0.1, affine=True, track_running_stats=True)\n",
              "        (conv3): Conv2d(256, 1024, kernel_size=(1, 1), stride=(1, 1), bias=False)\n",
              "        (bn3): BatchNorm2d(1024, eps=1e-05, momentum=0.1, affine=True, track_running_stats=True)\n",
              "        (relu): ReLU(inplace=True)\n",
              "      )\n",
              "      (3): Bottleneck(\n",
              "        (conv1): Conv2d(1024, 256, kernel_size=(1, 1), stride=(1, 1), bias=False)\n",
              "        (bn1): BatchNorm2d(256, eps=1e-05, momentum=0.1, affine=True, track_running_stats=True)\n",
              "        (conv2): Conv2d(256, 256, kernel_size=(3, 3), stride=(1, 1), padding=(1, 1), bias=False)\n",
              "        (bn2): BatchNorm2d(256, eps=1e-05, momentum=0.1, affine=True, track_running_stats=True)\n",
              "        (conv3): Conv2d(256, 1024, kernel_size=(1, 1), stride=(1, 1), bias=False)\n",
              "        (bn3): BatchNorm2d(1024, eps=1e-05, momentum=0.1, affine=True, track_running_stats=True)\n",
              "        (relu): ReLU(inplace=True)\n",
              "      )\n",
              "      (4): Bottleneck(\n",
              "        (conv1): Conv2d(1024, 256, kernel_size=(1, 1), stride=(1, 1), bias=False)\n",
              "        (bn1): BatchNorm2d(256, eps=1e-05, momentum=0.1, affine=True, track_running_stats=True)\n",
              "        (conv2): Conv2d(256, 256, kernel_size=(3, 3), stride=(1, 1), padding=(1, 1), bias=False)\n",
              "        (bn2): BatchNorm2d(256, eps=1e-05, momentum=0.1, affine=True, track_running_stats=True)\n",
              "        (conv3): Conv2d(256, 1024, kernel_size=(1, 1), stride=(1, 1), bias=False)\n",
              "        (bn3): BatchNorm2d(1024, eps=1e-05, momentum=0.1, affine=True, track_running_stats=True)\n",
              "        (relu): ReLU(inplace=True)\n",
              "      )\n",
              "      (5): Bottleneck(\n",
              "        (conv1): Conv2d(1024, 256, kernel_size=(1, 1), stride=(1, 1), bias=False)\n",
              "        (bn1): BatchNorm2d(256, eps=1e-05, momentum=0.1, affine=True, track_running_stats=True)\n",
              "        (conv2): Conv2d(256, 256, kernel_size=(3, 3), stride=(1, 1), padding=(1, 1), bias=False)\n",
              "        (bn2): BatchNorm2d(256, eps=1e-05, momentum=0.1, affine=True, track_running_stats=True)\n",
              "        (conv3): Conv2d(256, 1024, kernel_size=(1, 1), stride=(1, 1), bias=False)\n",
              "        (bn3): BatchNorm2d(1024, eps=1e-05, momentum=0.1, affine=True, track_running_stats=True)\n",
              "        (relu): ReLU(inplace=True)\n",
              "      )\n",
              "      (6): Bottleneck(\n",
              "        (conv1): Conv2d(1024, 256, kernel_size=(1, 1), stride=(1, 1), bias=False)\n",
              "        (bn1): BatchNorm2d(256, eps=1e-05, momentum=0.1, affine=True, track_running_stats=True)\n",
              "        (conv2): Conv2d(256, 256, kernel_size=(3, 3), stride=(1, 1), padding=(1, 1), bias=False)\n",
              "        (bn2): BatchNorm2d(256, eps=1e-05, momentum=0.1, affine=True, track_running_stats=True)\n",
              "        (conv3): Conv2d(256, 1024, kernel_size=(1, 1), stride=(1, 1), bias=False)\n",
              "        (bn3): BatchNorm2d(1024, eps=1e-05, momentum=0.1, affine=True, track_running_stats=True)\n",
              "        (relu): ReLU(inplace=True)\n",
              "      )\n",
              "      (7): Bottleneck(\n",
              "        (conv1): Conv2d(1024, 256, kernel_size=(1, 1), stride=(1, 1), bias=False)\n",
              "        (bn1): BatchNorm2d(256, eps=1e-05, momentum=0.1, affine=True, track_running_stats=True)\n",
              "        (conv2): Conv2d(256, 256, kernel_size=(3, 3), stride=(1, 1), padding=(1, 1), bias=False)\n",
              "        (bn2): BatchNorm2d(256, eps=1e-05, momentum=0.1, affine=True, track_running_stats=True)\n",
              "        (conv3): Conv2d(256, 1024, kernel_size=(1, 1), stride=(1, 1), bias=False)\n",
              "        (bn3): BatchNorm2d(1024, eps=1e-05, momentum=0.1, affine=True, track_running_stats=True)\n",
              "        (relu): ReLU(inplace=True)\n",
              "      )\n",
              "      (8): Bottleneck(\n",
              "        (conv1): Conv2d(1024, 256, kernel_size=(1, 1), stride=(1, 1), bias=False)\n",
              "        (bn1): BatchNorm2d(256, eps=1e-05, momentum=0.1, affine=True, track_running_stats=True)\n",
              "        (conv2): Conv2d(256, 256, kernel_size=(3, 3), stride=(1, 1), padding=(1, 1), bias=False)\n",
              "        (bn2): BatchNorm2d(256, eps=1e-05, momentum=0.1, affine=True, track_running_stats=True)\n",
              "        (conv3): Conv2d(256, 1024, kernel_size=(1, 1), stride=(1, 1), bias=False)\n",
              "        (bn3): BatchNorm2d(1024, eps=1e-05, momentum=0.1, affine=True, track_running_stats=True)\n",
              "        (relu): ReLU(inplace=True)\n",
              "      )\n",
              "      (9): Bottleneck(\n",
              "        (conv1): Conv2d(1024, 256, kernel_size=(1, 1), stride=(1, 1), bias=False)\n",
              "        (bn1): BatchNorm2d(256, eps=1e-05, momentum=0.1, affine=True, track_running_stats=True)\n",
              "        (conv2): Conv2d(256, 256, kernel_size=(3, 3), stride=(1, 1), padding=(1, 1), bias=False)\n",
              "        (bn2): BatchNorm2d(256, eps=1e-05, momentum=0.1, affine=True, track_running_stats=True)\n",
              "        (conv3): Conv2d(256, 1024, kernel_size=(1, 1), stride=(1, 1), bias=False)\n",
              "        (bn3): BatchNorm2d(1024, eps=1e-05, momentum=0.1, affine=True, track_running_stats=True)\n",
              "        (relu): ReLU(inplace=True)\n",
              "      )\n",
              "      (10): Bottleneck(\n",
              "        (conv1): Conv2d(1024, 256, kernel_size=(1, 1), stride=(1, 1), bias=False)\n",
              "        (bn1): BatchNorm2d(256, eps=1e-05, momentum=0.1, affine=True, track_running_stats=True)\n",
              "        (conv2): Conv2d(256, 256, kernel_size=(3, 3), stride=(1, 1), padding=(1, 1), bias=False)\n",
              "        (bn2): BatchNorm2d(256, eps=1e-05, momentum=0.1, affine=True, track_running_stats=True)\n",
              "        (conv3): Conv2d(256, 1024, kernel_size=(1, 1), stride=(1, 1), bias=False)\n",
              "        (bn3): BatchNorm2d(1024, eps=1e-05, momentum=0.1, affine=True, track_running_stats=True)\n",
              "        (relu): ReLU(inplace=True)\n",
              "      )\n",
              "      (11): Bottleneck(\n",
              "        (conv1): Conv2d(1024, 256, kernel_size=(1, 1), stride=(1, 1), bias=False)\n",
              "        (bn1): BatchNorm2d(256, eps=1e-05, momentum=0.1, affine=True, track_running_stats=True)\n",
              "        (conv2): Conv2d(256, 256, kernel_size=(3, 3), stride=(1, 1), padding=(1, 1), bias=False)\n",
              "        (bn2): BatchNorm2d(256, eps=1e-05, momentum=0.1, affine=True, track_running_stats=True)\n",
              "        (conv3): Conv2d(256, 1024, kernel_size=(1, 1), stride=(1, 1), bias=False)\n",
              "        (bn3): BatchNorm2d(1024, eps=1e-05, momentum=0.1, affine=True, track_running_stats=True)\n",
              "        (relu): ReLU(inplace=True)\n",
              "      )\n",
              "      (12): Bottleneck(\n",
              "        (conv1): Conv2d(1024, 256, kernel_size=(1, 1), stride=(1, 1), bias=False)\n",
              "        (bn1): BatchNorm2d(256, eps=1e-05, momentum=0.1, affine=True, track_running_stats=True)\n",
              "        (conv2): Conv2d(256, 256, kernel_size=(3, 3), stride=(1, 1), padding=(1, 1), bias=False)\n",
              "        (bn2): BatchNorm2d(256, eps=1e-05, momentum=0.1, affine=True, track_running_stats=True)\n",
              "        (conv3): Conv2d(256, 1024, kernel_size=(1, 1), stride=(1, 1), bias=False)\n",
              "        (bn3): BatchNorm2d(1024, eps=1e-05, momentum=0.1, affine=True, track_running_stats=True)\n",
              "        (relu): ReLU(inplace=True)\n",
              "      )\n",
              "      (13): Bottleneck(\n",
              "        (conv1): Conv2d(1024, 256, kernel_size=(1, 1), stride=(1, 1), bias=False)\n",
              "        (bn1): BatchNorm2d(256, eps=1e-05, momentum=0.1, affine=True, track_running_stats=True)\n",
              "        (conv2): Conv2d(256, 256, kernel_size=(3, 3), stride=(1, 1), padding=(1, 1), bias=False)\n",
              "        (bn2): BatchNorm2d(256, eps=1e-05, momentum=0.1, affine=True, track_running_stats=True)\n",
              "        (conv3): Conv2d(256, 1024, kernel_size=(1, 1), stride=(1, 1), bias=False)\n",
              "        (bn3): BatchNorm2d(1024, eps=1e-05, momentum=0.1, affine=True, track_running_stats=True)\n",
              "        (relu): ReLU(inplace=True)\n",
              "      )\n",
              "      (14): Bottleneck(\n",
              "        (conv1): Conv2d(1024, 256, kernel_size=(1, 1), stride=(1, 1), bias=False)\n",
              "        (bn1): BatchNorm2d(256, eps=1e-05, momentum=0.1, affine=True, track_running_stats=True)\n",
              "        (conv2): Conv2d(256, 256, kernel_size=(3, 3), stride=(1, 1), padding=(1, 1), bias=False)\n",
              "        (bn2): BatchNorm2d(256, eps=1e-05, momentum=0.1, affine=True, track_running_stats=True)\n",
              "        (conv3): Conv2d(256, 1024, kernel_size=(1, 1), stride=(1, 1), bias=False)\n",
              "        (bn3): BatchNorm2d(1024, eps=1e-05, momentum=0.1, affine=True, track_running_stats=True)\n",
              "        (relu): ReLU(inplace=True)\n",
              "      )\n",
              "      (15): Bottleneck(\n",
              "        (conv1): Conv2d(1024, 256, kernel_size=(1, 1), stride=(1, 1), bias=False)\n",
              "        (bn1): BatchNorm2d(256, eps=1e-05, momentum=0.1, affine=True, track_running_stats=True)\n",
              "        (conv2): Conv2d(256, 256, kernel_size=(3, 3), stride=(1, 1), padding=(1, 1), bias=False)\n",
              "        (bn2): BatchNorm2d(256, eps=1e-05, momentum=0.1, affine=True, track_running_stats=True)\n",
              "        (conv3): Conv2d(256, 1024, kernel_size=(1, 1), stride=(1, 1), bias=False)\n",
              "        (bn3): BatchNorm2d(1024, eps=1e-05, momentum=0.1, affine=True, track_running_stats=True)\n",
              "        (relu): ReLU(inplace=True)\n",
              "      )\n",
              "      (16): Bottleneck(\n",
              "        (conv1): Conv2d(1024, 256, kernel_size=(1, 1), stride=(1, 1), bias=False)\n",
              "        (bn1): BatchNorm2d(256, eps=1e-05, momentum=0.1, affine=True, track_running_stats=True)\n",
              "        (conv2): Conv2d(256, 256, kernel_size=(3, 3), stride=(1, 1), padding=(1, 1), bias=False)\n",
              "        (bn2): BatchNorm2d(256, eps=1e-05, momentum=0.1, affine=True, track_running_stats=True)\n",
              "        (conv3): Conv2d(256, 1024, kernel_size=(1, 1), stride=(1, 1), bias=False)\n",
              "        (bn3): BatchNorm2d(1024, eps=1e-05, momentum=0.1, affine=True, track_running_stats=True)\n",
              "        (relu): ReLU(inplace=True)\n",
              "      )\n",
              "      (17): Bottleneck(\n",
              "        (conv1): Conv2d(1024, 256, kernel_size=(1, 1), stride=(1, 1), bias=False)\n",
              "        (bn1): BatchNorm2d(256, eps=1e-05, momentum=0.1, affine=True, track_running_stats=True)\n",
              "        (conv2): Conv2d(256, 256, kernel_size=(3, 3), stride=(1, 1), padding=(1, 1), bias=False)\n",
              "        (bn2): BatchNorm2d(256, eps=1e-05, momentum=0.1, affine=True, track_running_stats=True)\n",
              "        (conv3): Conv2d(256, 1024, kernel_size=(1, 1), stride=(1, 1), bias=False)\n",
              "        (bn3): BatchNorm2d(1024, eps=1e-05, momentum=0.1, affine=True, track_running_stats=True)\n",
              "        (relu): ReLU(inplace=True)\n",
              "      )\n",
              "      (18): Bottleneck(\n",
              "        (conv1): Conv2d(1024, 256, kernel_size=(1, 1), stride=(1, 1), bias=False)\n",
              "        (bn1): BatchNorm2d(256, eps=1e-05, momentum=0.1, affine=True, track_running_stats=True)\n",
              "        (conv2): Conv2d(256, 256, kernel_size=(3, 3), stride=(1, 1), padding=(1, 1), bias=False)\n",
              "        (bn2): BatchNorm2d(256, eps=1e-05, momentum=0.1, affine=True, track_running_stats=True)\n",
              "        (conv3): Conv2d(256, 1024, kernel_size=(1, 1), stride=(1, 1), bias=False)\n",
              "        (bn3): BatchNorm2d(1024, eps=1e-05, momentum=0.1, affine=True, track_running_stats=True)\n",
              "        (relu): ReLU(inplace=True)\n",
              "      )\n",
              "      (19): Bottleneck(\n",
              "        (conv1): Conv2d(1024, 256, kernel_size=(1, 1), stride=(1, 1), bias=False)\n",
              "        (bn1): BatchNorm2d(256, eps=1e-05, momentum=0.1, affine=True, track_running_stats=True)\n",
              "        (conv2): Conv2d(256, 256, kernel_size=(3, 3), stride=(1, 1), padding=(1, 1), bias=False)\n",
              "        (bn2): BatchNorm2d(256, eps=1e-05, momentum=0.1, affine=True, track_running_stats=True)\n",
              "        (conv3): Conv2d(256, 1024, kernel_size=(1, 1), stride=(1, 1), bias=False)\n",
              "        (bn3): BatchNorm2d(1024, eps=1e-05, momentum=0.1, affine=True, track_running_stats=True)\n",
              "        (relu): ReLU(inplace=True)\n",
              "      )\n",
              "      (20): Bottleneck(\n",
              "        (conv1): Conv2d(1024, 256, kernel_size=(1, 1), stride=(1, 1), bias=False)\n",
              "        (bn1): BatchNorm2d(256, eps=1e-05, momentum=0.1, affine=True, track_running_stats=True)\n",
              "        (conv2): Conv2d(256, 256, kernel_size=(3, 3), stride=(1, 1), padding=(1, 1), bias=False)\n",
              "        (bn2): BatchNorm2d(256, eps=1e-05, momentum=0.1, affine=True, track_running_stats=True)\n",
              "        (conv3): Conv2d(256, 1024, kernel_size=(1, 1), stride=(1, 1), bias=False)\n",
              "        (bn3): BatchNorm2d(1024, eps=1e-05, momentum=0.1, affine=True, track_running_stats=True)\n",
              "        (relu): ReLU(inplace=True)\n",
              "      )\n",
              "      (21): Bottleneck(\n",
              "        (conv1): Conv2d(1024, 256, kernel_size=(1, 1), stride=(1, 1), bias=False)\n",
              "        (bn1): BatchNorm2d(256, eps=1e-05, momentum=0.1, affine=True, track_running_stats=True)\n",
              "        (conv2): Conv2d(256, 256, kernel_size=(3, 3), stride=(1, 1), padding=(1, 1), bias=False)\n",
              "        (bn2): BatchNorm2d(256, eps=1e-05, momentum=0.1, affine=True, track_running_stats=True)\n",
              "        (conv3): Conv2d(256, 1024, kernel_size=(1, 1), stride=(1, 1), bias=False)\n",
              "        (bn3): BatchNorm2d(1024, eps=1e-05, momentum=0.1, affine=True, track_running_stats=True)\n",
              "        (relu): ReLU(inplace=True)\n",
              "      )\n",
              "      (22): Bottleneck(\n",
              "        (conv1): Conv2d(1024, 256, kernel_size=(1, 1), stride=(1, 1), bias=False)\n",
              "        (bn1): BatchNorm2d(256, eps=1e-05, momentum=0.1, affine=True, track_running_stats=True)\n",
              "        (conv2): Conv2d(256, 256, kernel_size=(3, 3), stride=(1, 1), padding=(1, 1), bias=False)\n",
              "        (bn2): BatchNorm2d(256, eps=1e-05, momentum=0.1, affine=True, track_running_stats=True)\n",
              "        (conv3): Conv2d(256, 1024, kernel_size=(1, 1), stride=(1, 1), bias=False)\n",
              "        (bn3): BatchNorm2d(1024, eps=1e-05, momentum=0.1, affine=True, track_running_stats=True)\n",
              "        (relu): ReLU(inplace=True)\n",
              "      )\n",
              "    )\n",
              "    (layer4): Sequential(\n",
              "      (0): Bottleneck(\n",
              "        (conv1): Conv2d(1024, 512, kernel_size=(1, 1), stride=(1, 1), bias=False)\n",
              "        (bn1): BatchNorm2d(512, eps=1e-05, momentum=0.1, affine=True, track_running_stats=True)\n",
              "        (conv2): Conv2d(512, 512, kernel_size=(3, 3), stride=(2, 2), padding=(1, 1), bias=False)\n",
              "        (bn2): BatchNorm2d(512, eps=1e-05, momentum=0.1, affine=True, track_running_stats=True)\n",
              "        (conv3): Conv2d(512, 2048, kernel_size=(1, 1), stride=(1, 1), bias=False)\n",
              "        (bn3): BatchNorm2d(2048, eps=1e-05, momentum=0.1, affine=True, track_running_stats=True)\n",
              "        (relu): ReLU(inplace=True)\n",
              "        (downsample): Sequential(\n",
              "          (0): Conv2d(1024, 2048, kernel_size=(1, 1), stride=(2, 2), bias=False)\n",
              "          (1): BatchNorm2d(2048, eps=1e-05, momentum=0.1, affine=True, track_running_stats=True)\n",
              "        )\n",
              "      )\n",
              "      (1): Bottleneck(\n",
              "        (conv1): Conv2d(2048, 512, kernel_size=(1, 1), stride=(1, 1), bias=False)\n",
              "        (bn1): BatchNorm2d(512, eps=1e-05, momentum=0.1, affine=True, track_running_stats=True)\n",
              "        (conv2): Conv2d(512, 512, kernel_size=(3, 3), stride=(1, 1), padding=(1, 1), bias=False)\n",
              "        (bn2): BatchNorm2d(512, eps=1e-05, momentum=0.1, affine=True, track_running_stats=True)\n",
              "        (conv3): Conv2d(512, 2048, kernel_size=(1, 1), stride=(1, 1), bias=False)\n",
              "        (bn3): BatchNorm2d(2048, eps=1e-05, momentum=0.1, affine=True, track_running_stats=True)\n",
              "        (relu): ReLU(inplace=True)\n",
              "      )\n",
              "      (2): Bottleneck(\n",
              "        (conv1): Conv2d(2048, 512, kernel_size=(1, 1), stride=(1, 1), bias=False)\n",
              "        (bn1): BatchNorm2d(512, eps=1e-05, momentum=0.1, affine=True, track_running_stats=True)\n",
              "        (conv2): Conv2d(512, 512, kernel_size=(3, 3), stride=(1, 1), padding=(1, 1), bias=False)\n",
              "        (bn2): BatchNorm2d(512, eps=1e-05, momentum=0.1, affine=True, track_running_stats=True)\n",
              "        (conv3): Conv2d(512, 2048, kernel_size=(1, 1), stride=(1, 1), bias=False)\n",
              "        (bn3): BatchNorm2d(2048, eps=1e-05, momentum=0.1, affine=True, track_running_stats=True)\n",
              "        (relu): ReLU(inplace=True)\n",
              "      )\n",
              "    )\n",
              "    (avgpool): AdaptiveAvgPool2d(output_size=(1, 1))\n",
              "    (fc): Linear(in_features=2048, out_features=100, bias=True)\n",
              "  )\n",
              "  (fc2): Sequential(\n",
              "    (0): ReLU()\n",
              "    (1): Dropout(p=0.5, inplace=False)\n",
              "    (2): Linear(in_features=100, out_features=7, bias=True)\n",
              "  )\n",
              ")"
            ]
          },
          "metadata": {},
          "execution_count": 77
        }
      ]
    },
    {
      "cell_type": "code",
      "source": [
        "# Loss and optimizer\n",
        "import torch.optim as optim  # For all Optimization algorithms, SGD, Adam, etc.\n",
        "\n",
        "\n",
        "criterion = nn.CrossEntropyLoss()\n",
        "# criterion = tgm.losses.FocalLoss(alpha=0.5, gamma=2.0, reduction='mean') #experimenting with focal loss \n",
        "optimizer = optim.Adam(model.parameters(), lr=learning_rate)\n",
        "scheduler = optim.lr_scheduler.ReduceLROnPlateau(optimizer, factor=.1, patience=5, verbose=True)\n",
        "# Train Network\n",
        "for epoch in range(num_epochs):\n",
        "    losses = []\n",
        "\n",
        "    for batch_idx, (data, targets, info) in tqdm(enumerate(train_loader)):\n",
        "        # Get data to cuda if possible\n",
        "        data = data.to(device=device)\n",
        "        info = info.to(device=device)\n",
        "        targets = targets.to(device=device)\n",
        "        # forward\n",
        "        scores = model(data, info)\n",
        "        loss = criterion(scores, targets)\n",
        "        print(\"Batch: %d. Loss: %f\" %(batch_idx, loss))\n",
        "\n",
        "        losses.append(loss.item())\n",
        "\n",
        "        # backward\n",
        "        optimizer.zero_grad()\n",
        "        loss.backward()\n",
        "        \n",
        "        #clip gradient \n",
        "        torch.nn.utils.clip_grad_norm_(model.parameters(), 5)\n",
        "\n",
        "        # gradient descent or adam step\n",
        "        optimizer.step()\n",
        "    mean_loss = sum(losses)/len(losses)\n",
        "    scheduler.step(mean_loss)\n",
        "\n",
        "    print(f\"Cost at epoch {epoch} is {sum(losses)/len(losses)}\")\n"
      ],
      "metadata": {
        "id": "TaM8UZyvo1G6",
        "colab": {
          "base_uri": "https://localhost:8080/"
        },
        "outputId": "0d583b59-d288-4fb6-f661-d0561122f1b3"
      },
      "execution_count": null,
      "outputs": [
        {
          "output_type": "stream",
          "name": "stderr",
          "text": [
            "1it [00:00,  1.18it/s]"
          ]
        },
        {
          "output_type": "stream",
          "name": "stdout",
          "text": [
            "Batch: 0. Loss: 1.950230\n"
          ]
        },
        {
          "output_type": "stream",
          "name": "stderr",
          "text": [
            "\r2it [00:01,  1.21it/s]"
          ]
        },
        {
          "output_type": "stream",
          "name": "stdout",
          "text": [
            "Batch: 1. Loss: 1.650151\n"
          ]
        },
        {
          "output_type": "stream",
          "name": "stderr",
          "text": [
            "\r3it [00:02,  1.19it/s]"
          ]
        },
        {
          "output_type": "stream",
          "name": "stdout",
          "text": [
            "Batch: 2. Loss: 1.244332\n"
          ]
        },
        {
          "output_type": "stream",
          "name": "stderr",
          "text": [
            "\r4it [00:03,  1.19it/s]"
          ]
        },
        {
          "output_type": "stream",
          "name": "stdout",
          "text": [
            "Batch: 3. Loss: 1.444737\n"
          ]
        },
        {
          "output_type": "stream",
          "name": "stderr",
          "text": [
            "\r5it [00:04,  1.20it/s]"
          ]
        },
        {
          "output_type": "stream",
          "name": "stdout",
          "text": [
            "Batch: 4. Loss: 1.096628\n"
          ]
        },
        {
          "output_type": "stream",
          "name": "stderr",
          "text": [
            "\r6it [00:05,  1.21it/s]"
          ]
        },
        {
          "output_type": "stream",
          "name": "stdout",
          "text": [
            "Batch: 5. Loss: 1.450707\n"
          ]
        },
        {
          "output_type": "stream",
          "name": "stderr",
          "text": [
            "\r7it [00:05,  1.21it/s]"
          ]
        },
        {
          "output_type": "stream",
          "name": "stdout",
          "text": [
            "Batch: 6. Loss: 1.156555\n"
          ]
        },
        {
          "output_type": "stream",
          "name": "stderr",
          "text": [
            "\r8it [00:06,  1.21it/s]"
          ]
        },
        {
          "output_type": "stream",
          "name": "stdout",
          "text": [
            "Batch: 7. Loss: 1.160236\n"
          ]
        },
        {
          "output_type": "stream",
          "name": "stderr",
          "text": [
            "\r9it [00:07,  1.23it/s]"
          ]
        },
        {
          "output_type": "stream",
          "name": "stdout",
          "text": [
            "Batch: 8. Loss: 1.226391\n"
          ]
        },
        {
          "output_type": "stream",
          "name": "stderr",
          "text": [
            "\r10it [00:08,  1.23it/s]"
          ]
        },
        {
          "output_type": "stream",
          "name": "stdout",
          "text": [
            "Batch: 9. Loss: 1.337251\n"
          ]
        },
        {
          "output_type": "stream",
          "name": "stderr",
          "text": [
            "\r11it [00:09,  1.24it/s]"
          ]
        },
        {
          "output_type": "stream",
          "name": "stdout",
          "text": [
            "Batch: 10. Loss: 1.143205\n"
          ]
        },
        {
          "output_type": "stream",
          "name": "stderr",
          "text": [
            "\r12it [00:09,  1.22it/s]"
          ]
        },
        {
          "output_type": "stream",
          "name": "stdout",
          "text": [
            "Batch: 11. Loss: 1.129611\n"
          ]
        },
        {
          "output_type": "stream",
          "name": "stderr",
          "text": [
            "\r13it [00:10,  1.23it/s]"
          ]
        },
        {
          "output_type": "stream",
          "name": "stdout",
          "text": [
            "Batch: 12. Loss: 1.412923\n"
          ]
        },
        {
          "output_type": "stream",
          "name": "stderr",
          "text": [
            "\r14it [00:11,  1.22it/s]"
          ]
        },
        {
          "output_type": "stream",
          "name": "stdout",
          "text": [
            "Batch: 13. Loss: 1.231688\n"
          ]
        },
        {
          "output_type": "stream",
          "name": "stderr",
          "text": [
            "\r15it [00:12,  1.23it/s]"
          ]
        },
        {
          "output_type": "stream",
          "name": "stdout",
          "text": [
            "Batch: 14. Loss: 1.250556\n"
          ]
        },
        {
          "output_type": "stream",
          "name": "stderr",
          "text": [
            "\r16it [00:13,  1.22it/s]"
          ]
        },
        {
          "output_type": "stream",
          "name": "stdout",
          "text": [
            "Batch: 15. Loss: 1.108545\n"
          ]
        },
        {
          "output_type": "stream",
          "name": "stderr",
          "text": [
            "\r17it [00:13,  1.22it/s]"
          ]
        },
        {
          "output_type": "stream",
          "name": "stdout",
          "text": [
            "Batch: 16. Loss: 0.997861\n"
          ]
        },
        {
          "output_type": "stream",
          "name": "stderr",
          "text": [
            "\r18it [00:14,  1.22it/s]"
          ]
        },
        {
          "output_type": "stream",
          "name": "stdout",
          "text": [
            "Batch: 17. Loss: 1.127048\n"
          ]
        },
        {
          "output_type": "stream",
          "name": "stderr",
          "text": [
            "\r19it [00:15,  1.21it/s]"
          ]
        },
        {
          "output_type": "stream",
          "name": "stdout",
          "text": [
            "Batch: 18. Loss: 1.073791\n"
          ]
        },
        {
          "output_type": "stream",
          "name": "stderr",
          "text": [
            "\r20it [00:16,  1.23it/s]"
          ]
        },
        {
          "output_type": "stream",
          "name": "stdout",
          "text": [
            "Batch: 19. Loss: 1.273151\n"
          ]
        },
        {
          "output_type": "stream",
          "name": "stderr",
          "text": [
            "\r21it [00:17,  1.25it/s]"
          ]
        },
        {
          "output_type": "stream",
          "name": "stdout",
          "text": [
            "Batch: 20. Loss: 1.649981\n"
          ]
        },
        {
          "output_type": "stream",
          "name": "stderr",
          "text": [
            "\r22it [00:18,  1.23it/s]"
          ]
        },
        {
          "output_type": "stream",
          "name": "stdout",
          "text": [
            "Batch: 21. Loss: 1.185207\n"
          ]
        },
        {
          "output_type": "stream",
          "name": "stderr",
          "text": [
            "\r23it [00:18,  1.21it/s]"
          ]
        },
        {
          "output_type": "stream",
          "name": "stdout",
          "text": [
            "Batch: 22. Loss: 1.276385\n"
          ]
        },
        {
          "output_type": "stream",
          "name": "stderr",
          "text": [
            "\r24it [00:19,  1.22it/s]"
          ]
        },
        {
          "output_type": "stream",
          "name": "stdout",
          "text": [
            "Batch: 23. Loss: 1.403966\n"
          ]
        },
        {
          "output_type": "stream",
          "name": "stderr",
          "text": [
            "\r25it [00:20,  1.22it/s]"
          ]
        },
        {
          "output_type": "stream",
          "name": "stdout",
          "text": [
            "Batch: 24. Loss: 1.204811\n"
          ]
        },
        {
          "output_type": "stream",
          "name": "stderr",
          "text": [
            "\r26it [00:21,  1.24it/s]"
          ]
        },
        {
          "output_type": "stream",
          "name": "stdout",
          "text": [
            "Batch: 25. Loss: 1.314753\n"
          ]
        },
        {
          "output_type": "stream",
          "name": "stderr",
          "text": [
            "\r27it [00:22,  1.23it/s]"
          ]
        },
        {
          "output_type": "stream",
          "name": "stdout",
          "text": [
            "Batch: 26. Loss: 1.108076\n"
          ]
        },
        {
          "output_type": "stream",
          "name": "stderr",
          "text": [
            "\r28it [00:22,  1.23it/s]"
          ]
        },
        {
          "output_type": "stream",
          "name": "stdout",
          "text": [
            "Batch: 27. Loss: 1.245460\n"
          ]
        },
        {
          "output_type": "stream",
          "name": "stderr",
          "text": [
            "\r29it [00:23,  1.22it/s]"
          ]
        },
        {
          "output_type": "stream",
          "name": "stdout",
          "text": [
            "Batch: 28. Loss: 1.337957\n"
          ]
        },
        {
          "output_type": "stream",
          "name": "stderr",
          "text": [
            "\r30it [00:24,  1.22it/s]"
          ]
        },
        {
          "output_type": "stream",
          "name": "stdout",
          "text": [
            "Batch: 29. Loss: 1.000698\n"
          ]
        },
        {
          "output_type": "stream",
          "name": "stderr",
          "text": [
            "\r31it [00:25,  1.23it/s]"
          ]
        },
        {
          "output_type": "stream",
          "name": "stdout",
          "text": [
            "Batch: 30. Loss: 1.113140\n"
          ]
        },
        {
          "output_type": "stream",
          "name": "stderr",
          "text": [
            "\r32it [00:26,  1.23it/s]"
          ]
        },
        {
          "output_type": "stream",
          "name": "stdout",
          "text": [
            "Batch: 31. Loss: 1.077808\n"
          ]
        },
        {
          "output_type": "stream",
          "name": "stderr",
          "text": [
            "\r33it [00:27,  1.23it/s]"
          ]
        },
        {
          "output_type": "stream",
          "name": "stdout",
          "text": [
            "Batch: 32. Loss: 1.163541\n"
          ]
        },
        {
          "output_type": "stream",
          "name": "stderr",
          "text": [
            "\r34it [00:27,  1.23it/s]"
          ]
        },
        {
          "output_type": "stream",
          "name": "stdout",
          "text": [
            "Batch: 33. Loss: 1.207471\n"
          ]
        },
        {
          "output_type": "stream",
          "name": "stderr",
          "text": [
            "\r35it [00:28,  1.22it/s]"
          ]
        },
        {
          "output_type": "stream",
          "name": "stdout",
          "text": [
            "Batch: 34. Loss: 1.367287\n"
          ]
        },
        {
          "output_type": "stream",
          "name": "stderr",
          "text": [
            "\r36it [00:29,  1.23it/s]"
          ]
        },
        {
          "output_type": "stream",
          "name": "stdout",
          "text": [
            "Batch: 35. Loss: 1.402676\n"
          ]
        },
        {
          "output_type": "stream",
          "name": "stderr",
          "text": [
            "\r37it [00:30,  1.23it/s]"
          ]
        },
        {
          "output_type": "stream",
          "name": "stdout",
          "text": [
            "Batch: 36. Loss: 0.931100\n"
          ]
        },
        {
          "output_type": "stream",
          "name": "stderr",
          "text": [
            "\r38it [00:31,  1.22it/s]"
          ]
        },
        {
          "output_type": "stream",
          "name": "stdout",
          "text": [
            "Batch: 37. Loss: 1.359603\n"
          ]
        },
        {
          "output_type": "stream",
          "name": "stderr",
          "text": [
            "\r39it [00:31,  1.22it/s]"
          ]
        },
        {
          "output_type": "stream",
          "name": "stdout",
          "text": [
            "Batch: 38. Loss: 1.442936\n"
          ]
        },
        {
          "output_type": "stream",
          "name": "stderr",
          "text": [
            "\r40it [00:32,  1.21it/s]"
          ]
        },
        {
          "output_type": "stream",
          "name": "stdout",
          "text": [
            "Batch: 39. Loss: 1.149425\n"
          ]
        },
        {
          "output_type": "stream",
          "name": "stderr",
          "text": [
            "\r41it [00:33,  1.22it/s]"
          ]
        },
        {
          "output_type": "stream",
          "name": "stdout",
          "text": [
            "Batch: 40. Loss: 1.226688\n"
          ]
        },
        {
          "output_type": "stream",
          "name": "stderr",
          "text": [
            "\r42it [00:34,  1.22it/s]"
          ]
        },
        {
          "output_type": "stream",
          "name": "stdout",
          "text": [
            "Batch: 41. Loss: 1.006801\n"
          ]
        },
        {
          "output_type": "stream",
          "name": "stderr",
          "text": [
            "\r43it [00:35,  1.22it/s]"
          ]
        },
        {
          "output_type": "stream",
          "name": "stdout",
          "text": [
            "Batch: 42. Loss: 1.108388\n"
          ]
        },
        {
          "output_type": "stream",
          "name": "stderr",
          "text": [
            "\r44it [00:36,  1.21it/s]"
          ]
        },
        {
          "output_type": "stream",
          "name": "stdout",
          "text": [
            "Batch: 43. Loss: 1.223077\n"
          ]
        },
        {
          "output_type": "stream",
          "name": "stderr",
          "text": [
            "\r45it [00:36,  1.22it/s]"
          ]
        },
        {
          "output_type": "stream",
          "name": "stdout",
          "text": [
            "Batch: 44. Loss: 1.001845\n"
          ]
        },
        {
          "output_type": "stream",
          "name": "stderr",
          "text": [
            "\r46it [00:37,  1.22it/s]"
          ]
        },
        {
          "output_type": "stream",
          "name": "stdout",
          "text": [
            "Batch: 45. Loss: 1.043673\n"
          ]
        },
        {
          "output_type": "stream",
          "name": "stderr",
          "text": [
            "\r47it [00:38,  1.24it/s]"
          ]
        },
        {
          "output_type": "stream",
          "name": "stdout",
          "text": [
            "Batch: 46. Loss: 1.462336\n"
          ]
        },
        {
          "output_type": "stream",
          "name": "stderr",
          "text": [
            "\r48it [00:39,  1.20it/s]"
          ]
        },
        {
          "output_type": "stream",
          "name": "stdout",
          "text": [
            "Batch: 47. Loss: 0.944127\n"
          ]
        },
        {
          "output_type": "stream",
          "name": "stderr",
          "text": [
            "\r49it [00:40,  1.21it/s]"
          ]
        },
        {
          "output_type": "stream",
          "name": "stdout",
          "text": [
            "Batch: 48. Loss: 0.965702\n"
          ]
        },
        {
          "output_type": "stream",
          "name": "stderr",
          "text": [
            "\r50it [00:40,  1.21it/s]"
          ]
        },
        {
          "output_type": "stream",
          "name": "stdout",
          "text": [
            "Batch: 49. Loss: 1.325648\n"
          ]
        },
        {
          "output_type": "stream",
          "name": "stderr",
          "text": [
            "\r51it [00:41,  1.22it/s]"
          ]
        },
        {
          "output_type": "stream",
          "name": "stdout",
          "text": [
            "Batch: 50. Loss: 1.284420\n"
          ]
        },
        {
          "output_type": "stream",
          "name": "stderr",
          "text": [
            "\r52it [00:42,  1.24it/s]"
          ]
        },
        {
          "output_type": "stream",
          "name": "stdout",
          "text": [
            "Batch: 51. Loss: 1.038008\n"
          ]
        },
        {
          "output_type": "stream",
          "name": "stderr",
          "text": [
            "\r53it [00:43,  1.24it/s]"
          ]
        },
        {
          "output_type": "stream",
          "name": "stdout",
          "text": [
            "Batch: 52. Loss: 1.251476\n"
          ]
        },
        {
          "output_type": "stream",
          "name": "stderr",
          "text": [
            "\r54it [00:44,  1.23it/s]"
          ]
        },
        {
          "output_type": "stream",
          "name": "stdout",
          "text": [
            "Batch: 53. Loss: 1.211316\n"
          ]
        },
        {
          "output_type": "stream",
          "name": "stderr",
          "text": [
            "\r55it [00:45,  1.22it/s]"
          ]
        },
        {
          "output_type": "stream",
          "name": "stdout",
          "text": [
            "Batch: 54. Loss: 1.092773\n"
          ]
        },
        {
          "output_type": "stream",
          "name": "stderr",
          "text": [
            "\r56it [00:45,  1.22it/s]"
          ]
        },
        {
          "output_type": "stream",
          "name": "stdout",
          "text": [
            "Batch: 55. Loss: 1.156502\n"
          ]
        },
        {
          "output_type": "stream",
          "name": "stderr",
          "text": [
            "\r57it [00:46,  1.22it/s]"
          ]
        },
        {
          "output_type": "stream",
          "name": "stdout",
          "text": [
            "Batch: 56. Loss: 1.091550\n"
          ]
        },
        {
          "output_type": "stream",
          "name": "stderr",
          "text": [
            "\r58it [00:47,  1.23it/s]"
          ]
        },
        {
          "output_type": "stream",
          "name": "stdout",
          "text": [
            "Batch: 57. Loss: 1.203054\n"
          ]
        },
        {
          "output_type": "stream",
          "name": "stderr",
          "text": [
            "\r59it [00:48,  1.23it/s]"
          ]
        },
        {
          "output_type": "stream",
          "name": "stdout",
          "text": [
            "Batch: 58. Loss: 1.070991\n"
          ]
        },
        {
          "output_type": "stream",
          "name": "stderr",
          "text": [
            "\r60it [00:49,  1.22it/s]"
          ]
        },
        {
          "output_type": "stream",
          "name": "stdout",
          "text": [
            "Batch: 59. Loss: 0.914544\n"
          ]
        },
        {
          "output_type": "stream",
          "name": "stderr",
          "text": [
            "\r61it [00:49,  1.20it/s]"
          ]
        },
        {
          "output_type": "stream",
          "name": "stdout",
          "text": [
            "Batch: 60. Loss: 0.806020\n"
          ]
        },
        {
          "output_type": "stream",
          "name": "stderr",
          "text": [
            "\r62it [00:50,  1.19it/s]"
          ]
        },
        {
          "output_type": "stream",
          "name": "stdout",
          "text": [
            "Batch: 61. Loss: 0.940996\n"
          ]
        },
        {
          "output_type": "stream",
          "name": "stderr",
          "text": [
            "\r63it [00:51,  1.20it/s]"
          ]
        },
        {
          "output_type": "stream",
          "name": "stdout",
          "text": [
            "Batch: 62. Loss: 0.962300\n"
          ]
        },
        {
          "output_type": "stream",
          "name": "stderr",
          "text": [
            "\r64it [00:52,  1.20it/s]"
          ]
        },
        {
          "output_type": "stream",
          "name": "stdout",
          "text": [
            "Batch: 63. Loss: 1.110216\n"
          ]
        },
        {
          "output_type": "stream",
          "name": "stderr",
          "text": [
            "\r65it [00:53,  1.20it/s]"
          ]
        },
        {
          "output_type": "stream",
          "name": "stdout",
          "text": [
            "Batch: 64. Loss: 1.117254\n"
          ]
        },
        {
          "output_type": "stream",
          "name": "stderr",
          "text": [
            "\r66it [00:54,  1.22it/s]"
          ]
        },
        {
          "output_type": "stream",
          "name": "stdout",
          "text": [
            "Batch: 65. Loss: 0.975228\n"
          ]
        },
        {
          "output_type": "stream",
          "name": "stderr",
          "text": [
            "\r67it [00:54,  1.21it/s]"
          ]
        },
        {
          "output_type": "stream",
          "name": "stdout",
          "text": [
            "Batch: 66. Loss: 1.137485\n"
          ]
        },
        {
          "output_type": "stream",
          "name": "stderr",
          "text": [
            "\r68it [00:55,  1.19it/s]"
          ]
        },
        {
          "output_type": "stream",
          "name": "stdout",
          "text": [
            "Batch: 67. Loss: 0.986957\n"
          ]
        },
        {
          "output_type": "stream",
          "name": "stderr",
          "text": [
            "\r69it [00:56,  1.19it/s]"
          ]
        },
        {
          "output_type": "stream",
          "name": "stdout",
          "text": [
            "Batch: 68. Loss: 1.203612\n"
          ]
        },
        {
          "output_type": "stream",
          "name": "stderr",
          "text": [
            "\r70it [00:57,  1.19it/s]"
          ]
        },
        {
          "output_type": "stream",
          "name": "stdout",
          "text": [
            "Batch: 69. Loss: 1.022386\n"
          ]
        },
        {
          "output_type": "stream",
          "name": "stderr",
          "text": [
            "\r71it [00:58,  1.19it/s]"
          ]
        },
        {
          "output_type": "stream",
          "name": "stdout",
          "text": [
            "Batch: 70. Loss: 1.049684\n"
          ]
        },
        {
          "output_type": "stream",
          "name": "stderr",
          "text": [
            "\r72it [00:59,  1.21it/s]"
          ]
        },
        {
          "output_type": "stream",
          "name": "stdout",
          "text": [
            "Batch: 71. Loss: 1.198180\n"
          ]
        },
        {
          "output_type": "stream",
          "name": "stderr",
          "text": [
            "\r73it [01:00,  1.19it/s]"
          ]
        },
        {
          "output_type": "stream",
          "name": "stdout",
          "text": [
            "Batch: 72. Loss: 1.110469\n"
          ]
        },
        {
          "output_type": "stream",
          "name": "stderr",
          "text": [
            "\r74it [01:00,  1.21it/s]"
          ]
        },
        {
          "output_type": "stream",
          "name": "stdout",
          "text": [
            "Batch: 73. Loss: 1.098447\n"
          ]
        },
        {
          "output_type": "stream",
          "name": "stderr",
          "text": [
            "\r75it [01:01,  1.21it/s]"
          ]
        },
        {
          "output_type": "stream",
          "name": "stdout",
          "text": [
            "Batch: 74. Loss: 1.287223\n"
          ]
        },
        {
          "output_type": "stream",
          "name": "stderr",
          "text": [
            "\r76it [01:02,  1.21it/s]"
          ]
        },
        {
          "output_type": "stream",
          "name": "stdout",
          "text": [
            "Batch: 75. Loss: 1.300976\n"
          ]
        },
        {
          "output_type": "stream",
          "name": "stderr",
          "text": [
            "\r77it [01:03,  1.20it/s]"
          ]
        },
        {
          "output_type": "stream",
          "name": "stdout",
          "text": [
            "Batch: 76. Loss: 1.039872\n"
          ]
        },
        {
          "output_type": "stream",
          "name": "stderr",
          "text": [
            "\r78it [01:04,  1.20it/s]"
          ]
        },
        {
          "output_type": "stream",
          "name": "stdout",
          "text": [
            "Batch: 77. Loss: 1.039239\n"
          ]
        },
        {
          "output_type": "stream",
          "name": "stderr",
          "text": [
            "\r79it [01:04,  1.21it/s]"
          ]
        },
        {
          "output_type": "stream",
          "name": "stdout",
          "text": [
            "Batch: 78. Loss: 1.182040\n"
          ]
        },
        {
          "output_type": "stream",
          "name": "stderr",
          "text": [
            "\r80it [01:05,  1.22it/s]"
          ]
        },
        {
          "output_type": "stream",
          "name": "stdout",
          "text": [
            "Batch: 79. Loss: 1.020201\n"
          ]
        },
        {
          "output_type": "stream",
          "name": "stderr",
          "text": [
            "\r81it [01:06,  1.19it/s]"
          ]
        },
        {
          "output_type": "stream",
          "name": "stdout",
          "text": [
            "Batch: 80. Loss: 1.030447\n"
          ]
        },
        {
          "output_type": "stream",
          "name": "stderr",
          "text": [
            "\r82it [01:07,  1.19it/s]"
          ]
        },
        {
          "output_type": "stream",
          "name": "stdout",
          "text": [
            "Batch: 81. Loss: 1.036461\n"
          ]
        },
        {
          "output_type": "stream",
          "name": "stderr",
          "text": [
            "\r83it [01:08,  1.20it/s]"
          ]
        },
        {
          "output_type": "stream",
          "name": "stdout",
          "text": [
            "Batch: 82. Loss: 1.054133\n"
          ]
        },
        {
          "output_type": "stream",
          "name": "stderr",
          "text": [
            "\r84it [01:09,  1.21it/s]"
          ]
        },
        {
          "output_type": "stream",
          "name": "stdout",
          "text": [
            "Batch: 83. Loss: 0.955772\n"
          ]
        },
        {
          "output_type": "stream",
          "name": "stderr",
          "text": [
            "\r85it [01:09,  1.19it/s]"
          ]
        },
        {
          "output_type": "stream",
          "name": "stdout",
          "text": [
            "Batch: 84. Loss: 1.037279\n"
          ]
        },
        {
          "output_type": "stream",
          "name": "stderr",
          "text": [
            "\r86it [01:10,  1.19it/s]"
          ]
        },
        {
          "output_type": "stream",
          "name": "stdout",
          "text": [
            "Batch: 85. Loss: 0.913312\n"
          ]
        },
        {
          "output_type": "stream",
          "name": "stderr",
          "text": [
            "\r87it [01:11,  1.19it/s]"
          ]
        },
        {
          "output_type": "stream",
          "name": "stdout",
          "text": [
            "Batch: 86. Loss: 1.157917\n"
          ]
        },
        {
          "output_type": "stream",
          "name": "stderr",
          "text": [
            "\r88it [01:12,  1.20it/s]"
          ]
        },
        {
          "output_type": "stream",
          "name": "stdout",
          "text": [
            "Batch: 87. Loss: 1.066409\n"
          ]
        },
        {
          "output_type": "stream",
          "name": "stderr",
          "text": [
            "\r89it [01:13,  1.22it/s]"
          ]
        },
        {
          "output_type": "stream",
          "name": "stdout",
          "text": [
            "Batch: 88. Loss: 1.024459\n"
          ]
        },
        {
          "output_type": "stream",
          "name": "stderr",
          "text": [
            "\r90it [01:14,  1.20it/s]"
          ]
        },
        {
          "output_type": "stream",
          "name": "stdout",
          "text": [
            "Batch: 89. Loss: 1.025797\n"
          ]
        },
        {
          "output_type": "stream",
          "name": "stderr",
          "text": [
            "\r91it [01:14,  1.20it/s]"
          ]
        },
        {
          "output_type": "stream",
          "name": "stdout",
          "text": [
            "Batch: 90. Loss: 1.006651\n"
          ]
        },
        {
          "output_type": "stream",
          "name": "stderr",
          "text": [
            "\r92it [01:15,  1.21it/s]"
          ]
        },
        {
          "output_type": "stream",
          "name": "stdout",
          "text": [
            "Batch: 91. Loss: 1.096417\n"
          ]
        },
        {
          "output_type": "stream",
          "name": "stderr",
          "text": [
            "\r93it [01:16,  1.20it/s]"
          ]
        },
        {
          "output_type": "stream",
          "name": "stdout",
          "text": [
            "Batch: 92. Loss: 0.920736\n"
          ]
        },
        {
          "output_type": "stream",
          "name": "stderr",
          "text": [
            "\r94it [01:17,  1.21it/s]"
          ]
        },
        {
          "output_type": "stream",
          "name": "stdout",
          "text": [
            "Batch: 93. Loss: 1.121655\n"
          ]
        },
        {
          "output_type": "stream",
          "name": "stderr",
          "text": [
            "\r95it [01:18,  1.22it/s]"
          ]
        },
        {
          "output_type": "stream",
          "name": "stdout",
          "text": [
            "Batch: 94. Loss: 1.003720\n"
          ]
        },
        {
          "output_type": "stream",
          "name": "stderr",
          "text": [
            "\r96it [01:19,  1.21it/s]"
          ]
        },
        {
          "output_type": "stream",
          "name": "stdout",
          "text": [
            "Batch: 95. Loss: 0.953533\n"
          ]
        },
        {
          "output_type": "stream",
          "name": "stderr",
          "text": [
            "\r97it [01:19,  1.21it/s]"
          ]
        },
        {
          "output_type": "stream",
          "name": "stdout",
          "text": [
            "Batch: 96. Loss: 1.005303\n"
          ]
        },
        {
          "output_type": "stream",
          "name": "stderr",
          "text": [
            "\r98it [01:20,  1.21it/s]"
          ]
        },
        {
          "output_type": "stream",
          "name": "stdout",
          "text": [
            "Batch: 97. Loss: 1.143055\n"
          ]
        },
        {
          "output_type": "stream",
          "name": "stderr",
          "text": [
            "\r99it [01:21,  1.21it/s]"
          ]
        },
        {
          "output_type": "stream",
          "name": "stdout",
          "text": [
            "Batch: 98. Loss: 0.929257\n"
          ]
        },
        {
          "output_type": "stream",
          "name": "stderr",
          "text": [
            "\r100it [01:22,  1.22it/s]"
          ]
        },
        {
          "output_type": "stream",
          "name": "stdout",
          "text": [
            "Batch: 99. Loss: 0.975204\n"
          ]
        },
        {
          "output_type": "stream",
          "name": "stderr",
          "text": [
            "\r101it [01:23,  1.22it/s]"
          ]
        },
        {
          "output_type": "stream",
          "name": "stdout",
          "text": [
            "Batch: 100. Loss: 0.877514\n"
          ]
        },
        {
          "output_type": "stream",
          "name": "stderr",
          "text": [
            "\r102it [01:24,  1.22it/s]"
          ]
        },
        {
          "output_type": "stream",
          "name": "stdout",
          "text": [
            "Batch: 101. Loss: 0.930396\n"
          ]
        },
        {
          "output_type": "stream",
          "name": "stderr",
          "text": [
            "\r103it [01:24,  1.24it/s]"
          ]
        },
        {
          "output_type": "stream",
          "name": "stdout",
          "text": [
            "Batch: 102. Loss: 1.092124\n"
          ]
        },
        {
          "output_type": "stream",
          "name": "stderr",
          "text": [
            "\r104it [01:25,  1.25it/s]"
          ]
        },
        {
          "output_type": "stream",
          "name": "stdout",
          "text": [
            "Batch: 103. Loss: 0.885153\n"
          ]
        },
        {
          "output_type": "stream",
          "name": "stderr",
          "text": [
            "\r105it [01:26,  1.24it/s]"
          ]
        },
        {
          "output_type": "stream",
          "name": "stdout",
          "text": [
            "Batch: 104. Loss: 0.943805\n"
          ]
        },
        {
          "output_type": "stream",
          "name": "stderr",
          "text": [
            "\r106it [01:27,  1.24it/s]"
          ]
        },
        {
          "output_type": "stream",
          "name": "stdout",
          "text": [
            "Batch: 105. Loss: 0.950005\n"
          ]
        },
        {
          "output_type": "stream",
          "name": "stderr",
          "text": [
            "\r107it [01:28,  1.23it/s]"
          ]
        },
        {
          "output_type": "stream",
          "name": "stdout",
          "text": [
            "Batch: 106. Loss: 0.948154\n"
          ]
        },
        {
          "output_type": "stream",
          "name": "stderr",
          "text": [
            "\r108it [01:28,  1.21it/s]"
          ]
        },
        {
          "output_type": "stream",
          "name": "stdout",
          "text": [
            "Batch: 107. Loss: 0.934318\n"
          ]
        },
        {
          "output_type": "stream",
          "name": "stderr",
          "text": [
            "\r109it [01:29,  1.22it/s]"
          ]
        },
        {
          "output_type": "stream",
          "name": "stdout",
          "text": [
            "Batch: 108. Loss: 1.115527\n"
          ]
        },
        {
          "output_type": "stream",
          "name": "stderr",
          "text": [
            "\r110it [01:30,  1.19it/s]"
          ]
        },
        {
          "output_type": "stream",
          "name": "stdout",
          "text": [
            "Batch: 109. Loss: 1.078029\n"
          ]
        },
        {
          "output_type": "stream",
          "name": "stderr",
          "text": [
            "\r111it [01:31,  1.20it/s]"
          ]
        },
        {
          "output_type": "stream",
          "name": "stdout",
          "text": [
            "Batch: 110. Loss: 0.783049\n"
          ]
        },
        {
          "output_type": "stream",
          "name": "stderr",
          "text": [
            "\r112it [01:32,  1.21it/s]"
          ]
        },
        {
          "output_type": "stream",
          "name": "stdout",
          "text": [
            "Batch: 111. Loss: 0.856994\n"
          ]
        },
        {
          "output_type": "stream",
          "name": "stderr",
          "text": [
            "\r113it [01:33,  1.22it/s]"
          ]
        },
        {
          "output_type": "stream",
          "name": "stdout",
          "text": [
            "Batch: 112. Loss: 1.266752\n"
          ]
        },
        {
          "output_type": "stream",
          "name": "stderr",
          "text": [
            "\r114it [01:33,  1.22it/s]"
          ]
        },
        {
          "output_type": "stream",
          "name": "stdout",
          "text": [
            "Batch: 113. Loss: 0.970721\n"
          ]
        },
        {
          "output_type": "stream",
          "name": "stderr",
          "text": [
            "\r115it [01:34,  1.22it/s]"
          ]
        },
        {
          "output_type": "stream",
          "name": "stdout",
          "text": [
            "Batch: 114. Loss: 0.969069\n"
          ]
        },
        {
          "output_type": "stream",
          "name": "stderr",
          "text": [
            "\r116it [01:35,  1.22it/s]"
          ]
        },
        {
          "output_type": "stream",
          "name": "stdout",
          "text": [
            "Batch: 115. Loss: 0.863902\n"
          ]
        },
        {
          "output_type": "stream",
          "name": "stderr",
          "text": [
            "\r117it [01:36,  1.21it/s]"
          ]
        },
        {
          "output_type": "stream",
          "name": "stdout",
          "text": [
            "Batch: 116. Loss: 1.027931\n"
          ]
        },
        {
          "output_type": "stream",
          "name": "stderr",
          "text": [
            "\r118it [01:37,  1.21it/s]"
          ]
        },
        {
          "output_type": "stream",
          "name": "stdout",
          "text": [
            "Batch: 117. Loss: 0.789438\n"
          ]
        },
        {
          "output_type": "stream",
          "name": "stderr",
          "text": [
            "\r119it [01:37,  1.20it/s]"
          ]
        },
        {
          "output_type": "stream",
          "name": "stdout",
          "text": [
            "Batch: 118. Loss: 0.886397\n"
          ]
        },
        {
          "output_type": "stream",
          "name": "stderr",
          "text": [
            "\r120it [01:38,  1.22it/s]"
          ]
        },
        {
          "output_type": "stream",
          "name": "stdout",
          "text": [
            "Batch: 119. Loss: 1.182864\n"
          ]
        },
        {
          "output_type": "stream",
          "name": "stderr",
          "text": [
            "\r121it [01:39,  1.21it/s]"
          ]
        },
        {
          "output_type": "stream",
          "name": "stdout",
          "text": [
            "Batch: 120. Loss: 1.073723\n"
          ]
        },
        {
          "output_type": "stream",
          "name": "stderr",
          "text": [
            "\r122it [01:40,  1.20it/s]"
          ]
        },
        {
          "output_type": "stream",
          "name": "stdout",
          "text": [
            "Batch: 121. Loss: 1.078756\n"
          ]
        },
        {
          "output_type": "stream",
          "name": "stderr",
          "text": [
            "\r123it [01:41,  1.20it/s]"
          ]
        },
        {
          "output_type": "stream",
          "name": "stdout",
          "text": [
            "Batch: 122. Loss: 0.993665\n"
          ]
        },
        {
          "output_type": "stream",
          "name": "stderr",
          "text": [
            "\r124it [01:42,  1.21it/s]"
          ]
        },
        {
          "output_type": "stream",
          "name": "stdout",
          "text": [
            "Batch: 123. Loss: 1.221223\n"
          ]
        },
        {
          "output_type": "stream",
          "name": "stderr",
          "text": [
            "\r125it [01:42,  1.23it/s]"
          ]
        },
        {
          "output_type": "stream",
          "name": "stdout",
          "text": [
            "Batch: 124. Loss: 1.008394\n"
          ]
        },
        {
          "output_type": "stream",
          "name": "stderr",
          "text": [
            "\r126it [01:43,  1.21it/s]"
          ]
        },
        {
          "output_type": "stream",
          "name": "stdout",
          "text": [
            "Batch: 125. Loss: 1.032860\n"
          ]
        },
        {
          "output_type": "stream",
          "name": "stderr",
          "text": [
            "\r127it [01:44,  1.21it/s]"
          ]
        },
        {
          "output_type": "stream",
          "name": "stdout",
          "text": [
            "Batch: 126. Loss: 0.961058\n"
          ]
        },
        {
          "output_type": "stream",
          "name": "stderr",
          "text": [
            "\r128it [01:45,  1.21it/s]"
          ]
        },
        {
          "output_type": "stream",
          "name": "stdout",
          "text": [
            "Batch: 127. Loss: 1.122253\n"
          ]
        },
        {
          "output_type": "stream",
          "name": "stderr",
          "text": [
            "\r129it [01:46,  1.21it/s]"
          ]
        },
        {
          "output_type": "stream",
          "name": "stdout",
          "text": [
            "Batch: 128. Loss: 0.910004\n"
          ]
        },
        {
          "output_type": "stream",
          "name": "stderr",
          "text": [
            "\r130it [01:47,  1.23it/s]"
          ]
        },
        {
          "output_type": "stream",
          "name": "stdout",
          "text": [
            "Batch: 129. Loss: 1.370526\n"
          ]
        },
        {
          "output_type": "stream",
          "name": "stderr",
          "text": [
            "\r131it [01:47,  1.23it/s]"
          ]
        },
        {
          "output_type": "stream",
          "name": "stdout",
          "text": [
            "Batch: 130. Loss: 1.092542\n"
          ]
        },
        {
          "output_type": "stream",
          "name": "stderr",
          "text": [
            "\r132it [01:48,  1.20it/s]"
          ]
        },
        {
          "output_type": "stream",
          "name": "stdout",
          "text": [
            "Batch: 131. Loss: 0.943750\n"
          ]
        },
        {
          "output_type": "stream",
          "name": "stderr",
          "text": [
            "\r133it [01:49,  1.20it/s]"
          ]
        },
        {
          "output_type": "stream",
          "name": "stdout",
          "text": [
            "Batch: 132. Loss: 1.191515\n"
          ]
        },
        {
          "output_type": "stream",
          "name": "stderr",
          "text": [
            "\r134it [01:50,  1.22it/s]"
          ]
        },
        {
          "output_type": "stream",
          "name": "stdout",
          "text": [
            "Batch: 133. Loss: 1.261089\n"
          ]
        },
        {
          "output_type": "stream",
          "name": "stderr",
          "text": [
            "\r135it [01:51,  1.22it/s]"
          ]
        },
        {
          "output_type": "stream",
          "name": "stdout",
          "text": [
            "Batch: 134. Loss: 0.929253\n"
          ]
        },
        {
          "output_type": "stream",
          "name": "stderr",
          "text": [
            "\r136it [01:51,  1.22it/s]"
          ]
        },
        {
          "output_type": "stream",
          "name": "stdout",
          "text": [
            "Batch: 135. Loss: 1.108028\n"
          ]
        },
        {
          "output_type": "stream",
          "name": "stderr",
          "text": [
            "\r137it [01:52,  1.21it/s]"
          ]
        },
        {
          "output_type": "stream",
          "name": "stdout",
          "text": [
            "Batch: 136. Loss: 1.032506\n"
          ]
        },
        {
          "output_type": "stream",
          "name": "stderr",
          "text": [
            "\r138it [01:53,  1.20it/s]"
          ]
        },
        {
          "output_type": "stream",
          "name": "stdout",
          "text": [
            "Batch: 137. Loss: 1.121709\n"
          ]
        },
        {
          "output_type": "stream",
          "name": "stderr",
          "text": [
            "\r139it [01:54,  1.20it/s]"
          ]
        },
        {
          "output_type": "stream",
          "name": "stdout",
          "text": [
            "Batch: 138. Loss: 1.136947\n"
          ]
        },
        {
          "output_type": "stream",
          "name": "stderr",
          "text": [
            "\r140it [01:55,  1.22it/s]"
          ]
        },
        {
          "output_type": "stream",
          "name": "stdout",
          "text": [
            "Batch: 139. Loss: 0.963771\n"
          ]
        },
        {
          "output_type": "stream",
          "name": "stderr",
          "text": [
            "\r141it [01:56,  1.21it/s]"
          ]
        },
        {
          "output_type": "stream",
          "name": "stdout",
          "text": [
            "Batch: 140. Loss: 0.976212\n"
          ]
        },
        {
          "output_type": "stream",
          "name": "stderr",
          "text": [
            "\r142it [01:56,  1.21it/s]"
          ]
        },
        {
          "output_type": "stream",
          "name": "stdout",
          "text": [
            "Batch: 141. Loss: 1.017356\n"
          ]
        },
        {
          "output_type": "stream",
          "name": "stderr",
          "text": [
            "\r143it [01:57,  1.21it/s]"
          ]
        },
        {
          "output_type": "stream",
          "name": "stdout",
          "text": [
            "Batch: 142. Loss: 1.154419\n"
          ]
        },
        {
          "output_type": "stream",
          "name": "stderr",
          "text": [
            "\r144it [01:58,  1.22it/s]"
          ]
        },
        {
          "output_type": "stream",
          "name": "stdout",
          "text": [
            "Batch: 143. Loss: 1.253703\n"
          ]
        },
        {
          "output_type": "stream",
          "name": "stderr",
          "text": [
            "\r145it [01:59,  1.24it/s]"
          ]
        },
        {
          "output_type": "stream",
          "name": "stdout",
          "text": [
            "Batch: 144. Loss: 1.091830\n"
          ]
        },
        {
          "output_type": "stream",
          "name": "stderr",
          "text": [
            "\r146it [02:00,  1.23it/s]"
          ]
        },
        {
          "output_type": "stream",
          "name": "stdout",
          "text": [
            "Batch: 145. Loss: 0.876082\n"
          ]
        },
        {
          "output_type": "stream",
          "name": "stderr",
          "text": [
            "\r147it [02:01,  1.23it/s]"
          ]
        },
        {
          "output_type": "stream",
          "name": "stdout",
          "text": [
            "Batch: 146. Loss: 0.901670\n"
          ]
        },
        {
          "output_type": "stream",
          "name": "stderr",
          "text": [
            "\r148it [02:01,  1.22it/s]"
          ]
        },
        {
          "output_type": "stream",
          "name": "stdout",
          "text": [
            "Batch: 147. Loss: 0.931650\n"
          ]
        },
        {
          "output_type": "stream",
          "name": "stderr",
          "text": [
            "\r149it [02:02,  1.21it/s]"
          ]
        },
        {
          "output_type": "stream",
          "name": "stdout",
          "text": [
            "Batch: 148. Loss: 1.063012\n"
          ]
        },
        {
          "output_type": "stream",
          "name": "stderr",
          "text": [
            "\r150it [02:03,  1.22it/s]"
          ]
        },
        {
          "output_type": "stream",
          "name": "stdout",
          "text": [
            "Batch: 149. Loss: 1.237756\n"
          ]
        },
        {
          "output_type": "stream",
          "name": "stderr",
          "text": [
            "\r151it [02:04,  1.22it/s]"
          ]
        },
        {
          "output_type": "stream",
          "name": "stdout",
          "text": [
            "Batch: 150. Loss: 0.988521\n"
          ]
        },
        {
          "output_type": "stream",
          "name": "stderr",
          "text": [
            "\r152it [02:05,  1.21it/s]"
          ]
        },
        {
          "output_type": "stream",
          "name": "stdout",
          "text": [
            "Batch: 151. Loss: 0.924942\n"
          ]
        },
        {
          "output_type": "stream",
          "name": "stderr",
          "text": [
            "\r153it [02:05,  1.22it/s]"
          ]
        },
        {
          "output_type": "stream",
          "name": "stdout",
          "text": [
            "Batch: 152. Loss: 1.097269\n"
          ]
        },
        {
          "output_type": "stream",
          "name": "stderr",
          "text": [
            "\r154it [02:06,  1.21it/s]"
          ]
        },
        {
          "output_type": "stream",
          "name": "stdout",
          "text": [
            "Batch: 153. Loss: 0.839084\n"
          ]
        },
        {
          "output_type": "stream",
          "name": "stderr",
          "text": [
            "\r155it [02:07,  1.21it/s]"
          ]
        },
        {
          "output_type": "stream",
          "name": "stdout",
          "text": [
            "Batch: 154. Loss: 0.991934\n"
          ]
        },
        {
          "output_type": "stream",
          "name": "stderr",
          "text": [
            "\r156it [02:08,  1.21it/s]"
          ]
        },
        {
          "output_type": "stream",
          "name": "stdout",
          "text": [
            "Batch: 155. Loss: 0.927166\n"
          ]
        },
        {
          "output_type": "stream",
          "name": "stderr",
          "text": [
            "\r157it [02:09,  1.23it/s]"
          ]
        },
        {
          "output_type": "stream",
          "name": "stdout",
          "text": [
            "Batch: 156. Loss: 0.869197\n"
          ]
        },
        {
          "output_type": "stream",
          "name": "stderr",
          "text": [
            "\r158it [02:10,  1.24it/s]"
          ]
        },
        {
          "output_type": "stream",
          "name": "stdout",
          "text": [
            "Batch: 157. Loss: 1.196130\n"
          ]
        },
        {
          "output_type": "stream",
          "name": "stderr",
          "text": [
            "\r159it [02:10,  1.23it/s]"
          ]
        },
        {
          "output_type": "stream",
          "name": "stdout",
          "text": [
            "Batch: 158. Loss: 0.965767\n"
          ]
        },
        {
          "output_type": "stream",
          "name": "stderr",
          "text": [
            "\r160it [02:11,  1.22it/s]"
          ]
        },
        {
          "output_type": "stream",
          "name": "stdout",
          "text": [
            "Batch: 159. Loss: 1.143092\n"
          ]
        },
        {
          "output_type": "stream",
          "name": "stderr",
          "text": [
            "\r161it [02:12,  1.23it/s]"
          ]
        },
        {
          "output_type": "stream",
          "name": "stdout",
          "text": [
            "Batch: 160. Loss: 1.020784\n"
          ]
        },
        {
          "output_type": "stream",
          "name": "stderr",
          "text": [
            "\r162it [02:13,  1.22it/s]"
          ]
        },
        {
          "output_type": "stream",
          "name": "stdout",
          "text": [
            "Batch: 161. Loss: 0.821701\n"
          ]
        },
        {
          "output_type": "stream",
          "name": "stderr",
          "text": [
            "\r163it [02:14,  1.21it/s]"
          ]
        },
        {
          "output_type": "stream",
          "name": "stdout",
          "text": [
            "Batch: 162. Loss: 0.804364\n"
          ]
        },
        {
          "output_type": "stream",
          "name": "stderr",
          "text": [
            "164it [02:14,  1.22it/s]\n"
          ]
        },
        {
          "output_type": "stream",
          "name": "stdout",
          "text": [
            "Batch: 163. Loss: 0.847126\n",
            "Cost at epoch 0 is 1.0970949697785262\n"
          ]
        },
        {
          "output_type": "stream",
          "name": "stderr",
          "text": [
            "1it [00:00,  1.22it/s]"
          ]
        },
        {
          "output_type": "stream",
          "name": "stdout",
          "text": [
            "Batch: 0. Loss: 1.035682\n"
          ]
        },
        {
          "output_type": "stream",
          "name": "stderr",
          "text": [
            "\r2it [00:01,  1.21it/s]"
          ]
        },
        {
          "output_type": "stream",
          "name": "stdout",
          "text": [
            "Batch: 1. Loss: 1.331303\n"
          ]
        },
        {
          "output_type": "stream",
          "name": "stderr",
          "text": [
            "\r3it [00:02,  1.23it/s]"
          ]
        },
        {
          "output_type": "stream",
          "name": "stdout",
          "text": [
            "Batch: 2. Loss: 1.287311\n"
          ]
        },
        {
          "output_type": "stream",
          "name": "stderr",
          "text": [
            "\r4it [00:03,  1.21it/s]"
          ]
        },
        {
          "output_type": "stream",
          "name": "stdout",
          "text": [
            "Batch: 3. Loss: 0.883453\n"
          ]
        },
        {
          "output_type": "stream",
          "name": "stderr",
          "text": [
            "\r5it [00:04,  1.20it/s]"
          ]
        },
        {
          "output_type": "stream",
          "name": "stdout",
          "text": [
            "Batch: 4. Loss: 0.923445\n"
          ]
        },
        {
          "output_type": "stream",
          "name": "stderr",
          "text": [
            "\r6it [00:04,  1.21it/s]"
          ]
        },
        {
          "output_type": "stream",
          "name": "stdout",
          "text": [
            "Batch: 5. Loss: 0.996447\n"
          ]
        },
        {
          "output_type": "stream",
          "name": "stderr",
          "text": [
            "\r7it [00:05,  1.20it/s]"
          ]
        },
        {
          "output_type": "stream",
          "name": "stdout",
          "text": [
            "Batch: 6. Loss: 0.974594\n"
          ]
        },
        {
          "output_type": "stream",
          "name": "stderr",
          "text": [
            "\r8it [00:06,  1.19it/s]"
          ]
        },
        {
          "output_type": "stream",
          "name": "stdout",
          "text": [
            "Batch: 7. Loss: 0.931111\n"
          ]
        },
        {
          "output_type": "stream",
          "name": "stderr",
          "text": [
            "\r9it [00:07,  1.20it/s]"
          ]
        },
        {
          "output_type": "stream",
          "name": "stdout",
          "text": [
            "Batch: 8. Loss: 0.918550\n"
          ]
        },
        {
          "output_type": "stream",
          "name": "stderr",
          "text": [
            "\r10it [00:08,  1.19it/s]"
          ]
        },
        {
          "output_type": "stream",
          "name": "stdout",
          "text": [
            "Batch: 9. Loss: 0.947503\n"
          ]
        },
        {
          "output_type": "stream",
          "name": "stderr",
          "text": [
            "\r11it [00:09,  1.20it/s]"
          ]
        },
        {
          "output_type": "stream",
          "name": "stdout",
          "text": [
            "Batch: 10. Loss: 0.757365\n"
          ]
        },
        {
          "output_type": "stream",
          "name": "stderr",
          "text": [
            "\r12it [00:09,  1.20it/s]"
          ]
        },
        {
          "output_type": "stream",
          "name": "stdout",
          "text": [
            "Batch: 11. Loss: 0.988171\n"
          ]
        },
        {
          "output_type": "stream",
          "name": "stderr",
          "text": [
            "\r13it [00:10,  1.19it/s]"
          ]
        },
        {
          "output_type": "stream",
          "name": "stdout",
          "text": [
            "Batch: 12. Loss: 0.885313\n"
          ]
        },
        {
          "output_type": "stream",
          "name": "stderr",
          "text": [
            "\r14it [00:11,  1.20it/s]"
          ]
        },
        {
          "output_type": "stream",
          "name": "stdout",
          "text": [
            "Batch: 13. Loss: 1.306502\n"
          ]
        },
        {
          "output_type": "stream",
          "name": "stderr",
          "text": [
            "\r15it [00:12,  1.21it/s]"
          ]
        },
        {
          "output_type": "stream",
          "name": "stdout",
          "text": [
            "Batch: 14. Loss: 0.974496\n"
          ]
        },
        {
          "output_type": "stream",
          "name": "stderr",
          "text": [
            "\r16it [00:13,  1.19it/s]"
          ]
        },
        {
          "output_type": "stream",
          "name": "stdout",
          "text": [
            "Batch: 15. Loss: 1.110803\n"
          ]
        },
        {
          "output_type": "stream",
          "name": "stderr",
          "text": [
            "\r17it [00:14,  1.17it/s]"
          ]
        },
        {
          "output_type": "stream",
          "name": "stdout",
          "text": [
            "Batch: 16. Loss: 0.808826\n"
          ]
        },
        {
          "output_type": "stream",
          "name": "stderr",
          "text": [
            "\r18it [00:15,  1.18it/s]"
          ]
        },
        {
          "output_type": "stream",
          "name": "stdout",
          "text": [
            "Batch: 17. Loss: 1.100569\n"
          ]
        },
        {
          "output_type": "stream",
          "name": "stderr",
          "text": [
            "\r19it [00:15,  1.21it/s]"
          ]
        },
        {
          "output_type": "stream",
          "name": "stdout",
          "text": [
            "Batch: 18. Loss: 1.017320\n"
          ]
        },
        {
          "output_type": "stream",
          "name": "stderr",
          "text": [
            "\r20it [00:16,  1.20it/s]"
          ]
        },
        {
          "output_type": "stream",
          "name": "stdout",
          "text": [
            "Batch: 19. Loss: 0.893200\n"
          ]
        },
        {
          "output_type": "stream",
          "name": "stderr",
          "text": [
            "\r21it [00:17,  1.21it/s]"
          ]
        },
        {
          "output_type": "stream",
          "name": "stdout",
          "text": [
            "Batch: 20. Loss: 1.067201\n"
          ]
        },
        {
          "output_type": "stream",
          "name": "stderr",
          "text": [
            "\r22it [00:18,  1.21it/s]"
          ]
        },
        {
          "output_type": "stream",
          "name": "stdout",
          "text": [
            "Batch: 21. Loss: 1.032186\n"
          ]
        },
        {
          "output_type": "stream",
          "name": "stderr",
          "text": [
            "\r23it [00:19,  1.21it/s]"
          ]
        },
        {
          "output_type": "stream",
          "name": "stdout",
          "text": [
            "Batch: 22. Loss: 0.926402\n"
          ]
        },
        {
          "output_type": "stream",
          "name": "stderr",
          "text": [
            "\r24it [00:19,  1.22it/s]"
          ]
        },
        {
          "output_type": "stream",
          "name": "stdout",
          "text": [
            "Batch: 23. Loss: 1.037922\n"
          ]
        },
        {
          "output_type": "stream",
          "name": "stderr",
          "text": [
            "\r25it [00:20,  1.22it/s]"
          ]
        },
        {
          "output_type": "stream",
          "name": "stdout",
          "text": [
            "Batch: 24. Loss: 0.928893\n"
          ]
        },
        {
          "output_type": "stream",
          "name": "stderr",
          "text": [
            "\r26it [00:21,  1.21it/s]"
          ]
        },
        {
          "output_type": "stream",
          "name": "stdout",
          "text": [
            "Batch: 25. Loss: 1.013952\n"
          ]
        },
        {
          "output_type": "stream",
          "name": "stderr",
          "text": [
            "\r27it [00:22,  1.22it/s]"
          ]
        },
        {
          "output_type": "stream",
          "name": "stdout",
          "text": [
            "Batch: 26. Loss: 1.231779\n"
          ]
        },
        {
          "output_type": "stream",
          "name": "stderr",
          "text": [
            "\r28it [00:23,  1.23it/s]"
          ]
        },
        {
          "output_type": "stream",
          "name": "stdout",
          "text": [
            "Batch: 27. Loss: 0.873558\n"
          ]
        },
        {
          "output_type": "stream",
          "name": "stderr",
          "text": [
            "\r29it [00:24,  1.22it/s]"
          ]
        },
        {
          "output_type": "stream",
          "name": "stdout",
          "text": [
            "Batch: 28. Loss: 0.914974\n"
          ]
        },
        {
          "output_type": "stream",
          "name": "stderr",
          "text": [
            "\r30it [00:24,  1.21it/s]"
          ]
        },
        {
          "output_type": "stream",
          "name": "stdout",
          "text": [
            "Batch: 29. Loss: 0.810802\n"
          ]
        },
        {
          "output_type": "stream",
          "name": "stderr",
          "text": [
            "\r31it [00:25,  1.21it/s]"
          ]
        },
        {
          "output_type": "stream",
          "name": "stdout",
          "text": [
            "Batch: 30. Loss: 0.715340\n"
          ]
        },
        {
          "output_type": "stream",
          "name": "stderr",
          "text": [
            "\r32it [00:26,  1.22it/s]"
          ]
        },
        {
          "output_type": "stream",
          "name": "stdout",
          "text": [
            "Batch: 31. Loss: 1.006430\n"
          ]
        },
        {
          "output_type": "stream",
          "name": "stderr",
          "text": [
            "\r33it [00:27,  1.21it/s]"
          ]
        },
        {
          "output_type": "stream",
          "name": "stdout",
          "text": [
            "Batch: 32. Loss: 1.025135\n"
          ]
        },
        {
          "output_type": "stream",
          "name": "stderr",
          "text": [
            "\r34it [00:28,  1.22it/s]"
          ]
        },
        {
          "output_type": "stream",
          "name": "stdout",
          "text": [
            "Batch: 33. Loss: 1.063458\n"
          ]
        },
        {
          "output_type": "stream",
          "name": "stderr",
          "text": [
            "\r35it [00:29,  1.21it/s]"
          ]
        },
        {
          "output_type": "stream",
          "name": "stdout",
          "text": [
            "Batch: 34. Loss: 0.805834\n"
          ]
        },
        {
          "output_type": "stream",
          "name": "stderr",
          "text": [
            "\r36it [00:29,  1.21it/s]"
          ]
        },
        {
          "output_type": "stream",
          "name": "stdout",
          "text": [
            "Batch: 35. Loss: 0.967099\n"
          ]
        },
        {
          "output_type": "stream",
          "name": "stderr",
          "text": [
            "\r37it [00:30,  1.21it/s]"
          ]
        },
        {
          "output_type": "stream",
          "name": "stdout",
          "text": [
            "Batch: 36. Loss: 1.269267\n"
          ]
        },
        {
          "output_type": "stream",
          "name": "stderr",
          "text": [
            "\r38it [00:31,  1.20it/s]"
          ]
        },
        {
          "output_type": "stream",
          "name": "stdout",
          "text": [
            "Batch: 37. Loss: 0.930416\n"
          ]
        },
        {
          "output_type": "stream",
          "name": "stderr",
          "text": [
            "\r39it [00:32,  1.22it/s]"
          ]
        },
        {
          "output_type": "stream",
          "name": "stdout",
          "text": [
            "Batch: 38. Loss: 1.149909\n"
          ]
        },
        {
          "output_type": "stream",
          "name": "stderr",
          "text": [
            "\r40it [00:33,  1.20it/s]"
          ]
        },
        {
          "output_type": "stream",
          "name": "stdout",
          "text": [
            "Batch: 39. Loss: 0.856257\n"
          ]
        },
        {
          "output_type": "stream",
          "name": "stderr",
          "text": [
            "\r41it [00:33,  1.21it/s]"
          ]
        },
        {
          "output_type": "stream",
          "name": "stdout",
          "text": [
            "Batch: 40. Loss: 0.786447\n"
          ]
        },
        {
          "output_type": "stream",
          "name": "stderr",
          "text": [
            "\r42it [00:34,  1.21it/s]"
          ]
        },
        {
          "output_type": "stream",
          "name": "stdout",
          "text": [
            "Batch: 41. Loss: 0.703444\n"
          ]
        },
        {
          "output_type": "stream",
          "name": "stderr",
          "text": [
            "\r43it [00:35,  1.22it/s]"
          ]
        },
        {
          "output_type": "stream",
          "name": "stdout",
          "text": [
            "Batch: 42. Loss: 0.926109\n"
          ]
        },
        {
          "output_type": "stream",
          "name": "stderr",
          "text": [
            "\r44it [00:36,  1.23it/s]"
          ]
        },
        {
          "output_type": "stream",
          "name": "stdout",
          "text": [
            "Batch: 43. Loss: 0.923347\n"
          ]
        },
        {
          "output_type": "stream",
          "name": "stderr",
          "text": [
            "\r45it [00:37,  1.22it/s]"
          ]
        },
        {
          "output_type": "stream",
          "name": "stdout",
          "text": [
            "Batch: 44. Loss: 0.871891\n"
          ]
        },
        {
          "output_type": "stream",
          "name": "stderr",
          "text": [
            "\r46it [00:38,  1.21it/s]"
          ]
        },
        {
          "output_type": "stream",
          "name": "stdout",
          "text": [
            "Batch: 45. Loss: 1.187850\n"
          ]
        },
        {
          "output_type": "stream",
          "name": "stderr",
          "text": [
            "\r47it [00:38,  1.22it/s]"
          ]
        },
        {
          "output_type": "stream",
          "name": "stdout",
          "text": [
            "Batch: 46. Loss: 0.773907\n"
          ]
        },
        {
          "output_type": "stream",
          "name": "stderr",
          "text": [
            "\r48it [00:39,  1.22it/s]"
          ]
        },
        {
          "output_type": "stream",
          "name": "stdout",
          "text": [
            "Batch: 47. Loss: 0.800162\n"
          ]
        },
        {
          "output_type": "stream",
          "name": "stderr",
          "text": [
            "\r49it [00:40,  1.22it/s]"
          ]
        },
        {
          "output_type": "stream",
          "name": "stdout",
          "text": [
            "Batch: 48. Loss: 1.151889\n"
          ]
        },
        {
          "output_type": "stream",
          "name": "stderr",
          "text": [
            "\r50it [00:41,  1.21it/s]"
          ]
        },
        {
          "output_type": "stream",
          "name": "stdout",
          "text": [
            "Batch: 49. Loss: 0.689579\n"
          ]
        },
        {
          "output_type": "stream",
          "name": "stderr",
          "text": [
            "\r51it [00:42,  1.20it/s]"
          ]
        },
        {
          "output_type": "stream",
          "name": "stdout",
          "text": [
            "Batch: 50. Loss: 0.899106\n"
          ]
        },
        {
          "output_type": "stream",
          "name": "stderr",
          "text": [
            "\r52it [00:43,  1.20it/s]"
          ]
        },
        {
          "output_type": "stream",
          "name": "stdout",
          "text": [
            "Batch: 51. Loss: 0.967220\n"
          ]
        },
        {
          "output_type": "stream",
          "name": "stderr",
          "text": [
            "\r53it [00:43,  1.17it/s]"
          ]
        },
        {
          "output_type": "stream",
          "name": "stdout",
          "text": [
            "Batch: 52. Loss: 1.079187\n"
          ]
        },
        {
          "output_type": "stream",
          "name": "stderr",
          "text": [
            "\r54it [00:44,  1.20it/s]"
          ]
        },
        {
          "output_type": "stream",
          "name": "stdout",
          "text": [
            "Batch: 53. Loss: 0.860903\n"
          ]
        },
        {
          "output_type": "stream",
          "name": "stderr",
          "text": [
            "\r55it [00:45,  1.20it/s]"
          ]
        },
        {
          "output_type": "stream",
          "name": "stdout",
          "text": [
            "Batch: 54. Loss: 0.853275\n"
          ]
        },
        {
          "output_type": "stream",
          "name": "stderr",
          "text": [
            "\r56it [00:46,  1.22it/s]"
          ]
        },
        {
          "output_type": "stream",
          "name": "stdout",
          "text": [
            "Batch: 55. Loss: 1.103759\n"
          ]
        },
        {
          "output_type": "stream",
          "name": "stderr",
          "text": [
            "\r57it [00:47,  1.22it/s]"
          ]
        },
        {
          "output_type": "stream",
          "name": "stdout",
          "text": [
            "Batch: 56. Loss: 0.967536\n"
          ]
        },
        {
          "output_type": "stream",
          "name": "stderr",
          "text": [
            "\r58it [00:48,  1.21it/s]"
          ]
        },
        {
          "output_type": "stream",
          "name": "stdout",
          "text": [
            "Batch: 57. Loss: 0.973728\n"
          ]
        },
        {
          "output_type": "stream",
          "name": "stderr",
          "text": [
            "\r59it [00:48,  1.21it/s]"
          ]
        },
        {
          "output_type": "stream",
          "name": "stdout",
          "text": [
            "Batch: 58. Loss: 0.872462\n"
          ]
        },
        {
          "output_type": "stream",
          "name": "stderr",
          "text": [
            "\r60it [00:49,  1.20it/s]"
          ]
        },
        {
          "output_type": "stream",
          "name": "stdout",
          "text": [
            "Batch: 59. Loss: 0.982231\n"
          ]
        },
        {
          "output_type": "stream",
          "name": "stderr",
          "text": [
            "\r61it [00:50,  1.21it/s]"
          ]
        },
        {
          "output_type": "stream",
          "name": "stdout",
          "text": [
            "Batch: 60. Loss: 1.137018\n"
          ]
        },
        {
          "output_type": "stream",
          "name": "stderr",
          "text": [
            "\r62it [00:51,  1.21it/s]"
          ]
        },
        {
          "output_type": "stream",
          "name": "stdout",
          "text": [
            "Batch: 61. Loss: 0.750510\n"
          ]
        },
        {
          "output_type": "stream",
          "name": "stderr",
          "text": [
            "\r63it [00:52,  1.21it/s]"
          ]
        },
        {
          "output_type": "stream",
          "name": "stdout",
          "text": [
            "Batch: 62. Loss: 0.850845\n"
          ]
        },
        {
          "output_type": "stream",
          "name": "stderr",
          "text": [
            "\r64it [00:52,  1.22it/s]"
          ]
        },
        {
          "output_type": "stream",
          "name": "stdout",
          "text": [
            "Batch: 63. Loss: 1.115861\n"
          ]
        },
        {
          "output_type": "stream",
          "name": "stderr",
          "text": [
            "\r65it [00:53,  1.21it/s]"
          ]
        },
        {
          "output_type": "stream",
          "name": "stdout",
          "text": [
            "Batch: 64. Loss: 0.879387\n"
          ]
        },
        {
          "output_type": "stream",
          "name": "stderr",
          "text": [
            "\r66it [00:54,  1.20it/s]"
          ]
        },
        {
          "output_type": "stream",
          "name": "stdout",
          "text": [
            "Batch: 65. Loss: 0.741156\n"
          ]
        },
        {
          "output_type": "stream",
          "name": "stderr",
          "text": [
            "\r67it [00:55,  1.20it/s]"
          ]
        },
        {
          "output_type": "stream",
          "name": "stdout",
          "text": [
            "Batch: 66. Loss: 0.793091\n"
          ]
        },
        {
          "output_type": "stream",
          "name": "stderr",
          "text": [
            "\r68it [00:56,  1.22it/s]"
          ]
        },
        {
          "output_type": "stream",
          "name": "stdout",
          "text": [
            "Batch: 67. Loss: 0.975535\n"
          ]
        },
        {
          "output_type": "stream",
          "name": "stderr",
          "text": [
            "\r69it [00:57,  1.21it/s]"
          ]
        },
        {
          "output_type": "stream",
          "name": "stdout",
          "text": [
            "Batch: 68. Loss: 0.878549\n"
          ]
        },
        {
          "output_type": "stream",
          "name": "stderr",
          "text": [
            "\r70it [00:57,  1.21it/s]"
          ]
        },
        {
          "output_type": "stream",
          "name": "stdout",
          "text": [
            "Batch: 69. Loss: 0.785665\n"
          ]
        },
        {
          "output_type": "stream",
          "name": "stderr",
          "text": [
            "\r71it [00:58,  1.21it/s]"
          ]
        },
        {
          "output_type": "stream",
          "name": "stdout",
          "text": [
            "Batch: 70. Loss: 0.882485\n"
          ]
        },
        {
          "output_type": "stream",
          "name": "stderr",
          "text": [
            "\r72it [00:59,  1.23it/s]"
          ]
        },
        {
          "output_type": "stream",
          "name": "stdout",
          "text": [
            "Batch: 71. Loss: 0.936361\n"
          ]
        },
        {
          "output_type": "stream",
          "name": "stderr",
          "text": [
            "\r73it [01:00,  1.24it/s]"
          ]
        },
        {
          "output_type": "stream",
          "name": "stdout",
          "text": [
            "Batch: 72. Loss: 0.914651\n"
          ]
        },
        {
          "output_type": "stream",
          "name": "stderr",
          "text": [
            "\r74it [01:01,  1.23it/s]"
          ]
        },
        {
          "output_type": "stream",
          "name": "stdout",
          "text": [
            "Batch: 73. Loss: 1.066552\n"
          ]
        },
        {
          "output_type": "stream",
          "name": "stderr",
          "text": [
            "\r75it [01:01,  1.23it/s]"
          ]
        },
        {
          "output_type": "stream",
          "name": "stdout",
          "text": [
            "Batch: 74. Loss: 1.132120\n"
          ]
        },
        {
          "output_type": "stream",
          "name": "stderr",
          "text": [
            "\r76it [01:02,  1.23it/s]"
          ]
        },
        {
          "output_type": "stream",
          "name": "stdout",
          "text": [
            "Batch: 75. Loss: 1.015557\n"
          ]
        },
        {
          "output_type": "stream",
          "name": "stderr",
          "text": [
            "\r77it [01:03,  1.22it/s]"
          ]
        },
        {
          "output_type": "stream",
          "name": "stdout",
          "text": [
            "Batch: 76. Loss: 0.872490\n"
          ]
        },
        {
          "output_type": "stream",
          "name": "stderr",
          "text": [
            "\r78it [01:04,  1.23it/s]"
          ]
        },
        {
          "output_type": "stream",
          "name": "stdout",
          "text": [
            "Batch: 77. Loss: 1.047517\n"
          ]
        },
        {
          "output_type": "stream",
          "name": "stderr",
          "text": [
            "\r79it [01:05,  1.24it/s]"
          ]
        },
        {
          "output_type": "stream",
          "name": "stdout",
          "text": [
            "Batch: 78. Loss: 0.986530\n"
          ]
        },
        {
          "output_type": "stream",
          "name": "stderr",
          "text": [
            "\r80it [01:06,  1.24it/s]"
          ]
        },
        {
          "output_type": "stream",
          "name": "stdout",
          "text": [
            "Batch: 79. Loss: 1.110522\n"
          ]
        },
        {
          "output_type": "stream",
          "name": "stderr",
          "text": [
            "\r81it [01:06,  1.25it/s]"
          ]
        },
        {
          "output_type": "stream",
          "name": "stdout",
          "text": [
            "Batch: 80. Loss: 0.993344\n"
          ]
        },
        {
          "output_type": "stream",
          "name": "stderr",
          "text": [
            "\r82it [01:07,  1.25it/s]"
          ]
        },
        {
          "output_type": "stream",
          "name": "stdout",
          "text": [
            "Batch: 81. Loss: 0.863978\n"
          ]
        },
        {
          "output_type": "stream",
          "name": "stderr",
          "text": [
            "\r83it [01:08,  1.23it/s]"
          ]
        },
        {
          "output_type": "stream",
          "name": "stdout",
          "text": [
            "Batch: 82. Loss: 0.879981\n"
          ]
        },
        {
          "output_type": "stream",
          "name": "stderr",
          "text": [
            "\r84it [01:09,  1.24it/s]"
          ]
        },
        {
          "output_type": "stream",
          "name": "stdout",
          "text": [
            "Batch: 83. Loss: 0.951438\n"
          ]
        },
        {
          "output_type": "stream",
          "name": "stderr",
          "text": [
            "\r85it [01:10,  1.25it/s]"
          ]
        },
        {
          "output_type": "stream",
          "name": "stdout",
          "text": [
            "Batch: 84. Loss: 1.097874\n"
          ]
        },
        {
          "output_type": "stream",
          "name": "stderr",
          "text": [
            "\r86it [01:10,  1.25it/s]"
          ]
        },
        {
          "output_type": "stream",
          "name": "stdout",
          "text": [
            "Batch: 85. Loss: 0.938378\n"
          ]
        },
        {
          "output_type": "stream",
          "name": "stderr",
          "text": [
            "\r87it [01:11,  1.23it/s]"
          ]
        },
        {
          "output_type": "stream",
          "name": "stdout",
          "text": [
            "Batch: 86. Loss: 0.761660\n"
          ]
        },
        {
          "output_type": "stream",
          "name": "stderr",
          "text": [
            "\r88it [01:12,  1.22it/s]"
          ]
        },
        {
          "output_type": "stream",
          "name": "stdout",
          "text": [
            "Batch: 87. Loss: 0.869211\n"
          ]
        },
        {
          "output_type": "stream",
          "name": "stderr",
          "text": [
            "\r89it [01:13,  1.21it/s]"
          ]
        },
        {
          "output_type": "stream",
          "name": "stdout",
          "text": [
            "Batch: 88. Loss: 0.927932\n"
          ]
        },
        {
          "output_type": "stream",
          "name": "stderr",
          "text": [
            "\r90it [01:14,  1.22it/s]"
          ]
        },
        {
          "output_type": "stream",
          "name": "stdout",
          "text": [
            "Batch: 89. Loss: 0.894922\n"
          ]
        },
        {
          "output_type": "stream",
          "name": "stderr",
          "text": [
            "\r91it [01:14,  1.22it/s]"
          ]
        },
        {
          "output_type": "stream",
          "name": "stdout",
          "text": [
            "Batch: 90. Loss: 0.777194\n"
          ]
        },
        {
          "output_type": "stream",
          "name": "stderr",
          "text": [
            "\r92it [01:15,  1.21it/s]"
          ]
        },
        {
          "output_type": "stream",
          "name": "stdout",
          "text": [
            "Batch: 91. Loss: 0.893228\n"
          ]
        },
        {
          "output_type": "stream",
          "name": "stderr",
          "text": [
            "\r93it [01:16,  1.20it/s]"
          ]
        },
        {
          "output_type": "stream",
          "name": "stdout",
          "text": [
            "Batch: 92. Loss: 1.108353\n"
          ]
        },
        {
          "output_type": "stream",
          "name": "stderr",
          "text": [
            "\r94it [01:17,  1.20it/s]"
          ]
        },
        {
          "output_type": "stream",
          "name": "stdout",
          "text": [
            "Batch: 93. Loss: 0.846959\n"
          ]
        },
        {
          "output_type": "stream",
          "name": "stderr",
          "text": [
            "\r95it [01:18,  1.20it/s]"
          ]
        },
        {
          "output_type": "stream",
          "name": "stdout",
          "text": [
            "Batch: 94. Loss: 1.103728\n"
          ]
        },
        {
          "output_type": "stream",
          "name": "stderr",
          "text": [
            "\r96it [01:19,  1.22it/s]"
          ]
        },
        {
          "output_type": "stream",
          "name": "stdout",
          "text": [
            "Batch: 95. Loss: 1.205932\n"
          ]
        },
        {
          "output_type": "stream",
          "name": "stderr",
          "text": [
            "\r97it [01:19,  1.21it/s]"
          ]
        },
        {
          "output_type": "stream",
          "name": "stdout",
          "text": [
            "Batch: 96. Loss: 0.976177\n"
          ]
        },
        {
          "output_type": "stream",
          "name": "stderr",
          "text": [
            "\r98it [01:20,  1.22it/s]"
          ]
        },
        {
          "output_type": "stream",
          "name": "stdout",
          "text": [
            "Batch: 97. Loss: 0.843438\n"
          ]
        },
        {
          "output_type": "stream",
          "name": "stderr",
          "text": [
            "\r99it [01:21,  1.22it/s]"
          ]
        },
        {
          "output_type": "stream",
          "name": "stdout",
          "text": [
            "Batch: 98. Loss: 0.935976\n"
          ]
        },
        {
          "output_type": "stream",
          "name": "stderr",
          "text": [
            "\r100it [01:22,  1.22it/s]"
          ]
        },
        {
          "output_type": "stream",
          "name": "stdout",
          "text": [
            "Batch: 99. Loss: 0.953082\n"
          ]
        },
        {
          "output_type": "stream",
          "name": "stderr",
          "text": [
            "\r101it [01:23,  1.23it/s]"
          ]
        },
        {
          "output_type": "stream",
          "name": "stdout",
          "text": [
            "Batch: 100. Loss: 1.054090\n"
          ]
        },
        {
          "output_type": "stream",
          "name": "stderr",
          "text": [
            "\r102it [01:24,  1.22it/s]"
          ]
        },
        {
          "output_type": "stream",
          "name": "stdout",
          "text": [
            "Batch: 101. Loss: 0.911970\n"
          ]
        },
        {
          "output_type": "stream",
          "name": "stderr",
          "text": [
            "\r103it [01:24,  1.22it/s]"
          ]
        },
        {
          "output_type": "stream",
          "name": "stdout",
          "text": [
            "Batch: 102. Loss: 0.958403\n"
          ]
        },
        {
          "output_type": "stream",
          "name": "stderr",
          "text": [
            "\r104it [01:25,  1.21it/s]"
          ]
        },
        {
          "output_type": "stream",
          "name": "stdout",
          "text": [
            "Batch: 103. Loss: 0.715391\n"
          ]
        },
        {
          "output_type": "stream",
          "name": "stderr",
          "text": [
            "\r105it [01:26,  1.20it/s]"
          ]
        },
        {
          "output_type": "stream",
          "name": "stdout",
          "text": [
            "Batch: 104. Loss: 0.635973\n"
          ]
        },
        {
          "output_type": "stream",
          "name": "stderr",
          "text": [
            "\r106it [01:27,  1.20it/s]"
          ]
        },
        {
          "output_type": "stream",
          "name": "stdout",
          "text": [
            "Batch: 105. Loss: 0.887647\n"
          ]
        },
        {
          "output_type": "stream",
          "name": "stderr",
          "text": [
            "\r107it [01:28,  1.20it/s]"
          ]
        },
        {
          "output_type": "stream",
          "name": "stdout",
          "text": [
            "Batch: 106. Loss: 0.935082\n"
          ]
        },
        {
          "output_type": "stream",
          "name": "stderr",
          "text": [
            "\r108it [01:29,  1.20it/s]"
          ]
        },
        {
          "output_type": "stream",
          "name": "stdout",
          "text": [
            "Batch: 107. Loss: 1.016073\n"
          ]
        },
        {
          "output_type": "stream",
          "name": "stderr",
          "text": [
            "\r109it [01:29,  1.20it/s]"
          ]
        },
        {
          "output_type": "stream",
          "name": "stdout",
          "text": [
            "Batch: 108. Loss: 0.871684\n"
          ]
        },
        {
          "output_type": "stream",
          "name": "stderr",
          "text": [
            "\r110it [01:30,  1.21it/s]"
          ]
        },
        {
          "output_type": "stream",
          "name": "stdout",
          "text": [
            "Batch: 109. Loss: 0.984106\n"
          ]
        },
        {
          "output_type": "stream",
          "name": "stderr",
          "text": [
            "\r111it [01:31,  1.20it/s]"
          ]
        },
        {
          "output_type": "stream",
          "name": "stdout",
          "text": [
            "Batch: 110. Loss: 0.835526\n"
          ]
        },
        {
          "output_type": "stream",
          "name": "stderr",
          "text": [
            "\r112it [01:32,  1.21it/s]"
          ]
        },
        {
          "output_type": "stream",
          "name": "stdout",
          "text": [
            "Batch: 111. Loss: 0.978364\n"
          ]
        },
        {
          "output_type": "stream",
          "name": "stderr",
          "text": [
            "\r113it [01:33,  1.21it/s]"
          ]
        },
        {
          "output_type": "stream",
          "name": "stdout",
          "text": [
            "Batch: 112. Loss: 0.791935\n"
          ]
        },
        {
          "output_type": "stream",
          "name": "stderr",
          "text": [
            "\r114it [01:34,  1.20it/s]"
          ]
        },
        {
          "output_type": "stream",
          "name": "stdout",
          "text": [
            "Batch: 113. Loss: 0.730346\n"
          ]
        },
        {
          "output_type": "stream",
          "name": "stderr",
          "text": [
            "\r115it [01:34,  1.21it/s]"
          ]
        },
        {
          "output_type": "stream",
          "name": "stdout",
          "text": [
            "Batch: 114. Loss: 0.841752\n"
          ]
        },
        {
          "output_type": "stream",
          "name": "stderr",
          "text": [
            "\r116it [01:35,  1.21it/s]"
          ]
        },
        {
          "output_type": "stream",
          "name": "stdout",
          "text": [
            "Batch: 115. Loss: 0.734849\n"
          ]
        },
        {
          "output_type": "stream",
          "name": "stderr",
          "text": [
            "\r117it [01:36,  1.22it/s]"
          ]
        },
        {
          "output_type": "stream",
          "name": "stdout",
          "text": [
            "Batch: 116. Loss: 0.979168\n"
          ]
        },
        {
          "output_type": "stream",
          "name": "stderr",
          "text": [
            "\r118it [01:37,  1.21it/s]"
          ]
        },
        {
          "output_type": "stream",
          "name": "stdout",
          "text": [
            "Batch: 117. Loss: 0.927205\n"
          ]
        },
        {
          "output_type": "stream",
          "name": "stderr",
          "text": [
            "\r119it [01:38,  1.22it/s]"
          ]
        },
        {
          "output_type": "stream",
          "name": "stdout",
          "text": [
            "Batch: 118. Loss: 1.021105\n"
          ]
        },
        {
          "output_type": "stream",
          "name": "stderr",
          "text": [
            "\r120it [01:38,  1.22it/s]"
          ]
        },
        {
          "output_type": "stream",
          "name": "stdout",
          "text": [
            "Batch: 119. Loss: 1.116247\n"
          ]
        },
        {
          "output_type": "stream",
          "name": "stderr",
          "text": [
            "\r121it [01:39,  1.23it/s]"
          ]
        },
        {
          "output_type": "stream",
          "name": "stdout",
          "text": [
            "Batch: 120. Loss: 0.892323\n"
          ]
        },
        {
          "output_type": "stream",
          "name": "stderr",
          "text": [
            "\r122it [01:40,  1.21it/s]"
          ]
        },
        {
          "output_type": "stream",
          "name": "stdout",
          "text": [
            "Batch: 121. Loss: 0.730832\n"
          ]
        },
        {
          "output_type": "stream",
          "name": "stderr",
          "text": [
            "\r123it [01:41,  1.20it/s]"
          ]
        },
        {
          "output_type": "stream",
          "name": "stdout",
          "text": [
            "Batch: 122. Loss: 0.877438\n"
          ]
        },
        {
          "output_type": "stream",
          "name": "stderr",
          "text": [
            "\r124it [01:42,  1.22it/s]"
          ]
        },
        {
          "output_type": "stream",
          "name": "stdout",
          "text": [
            "Batch: 123. Loss: 0.943308\n"
          ]
        },
        {
          "output_type": "stream",
          "name": "stderr",
          "text": [
            "\r125it [01:43,  1.22it/s]"
          ]
        },
        {
          "output_type": "stream",
          "name": "stdout",
          "text": [
            "Batch: 124. Loss: 0.855641\n"
          ]
        },
        {
          "output_type": "stream",
          "name": "stderr",
          "text": [
            "\r126it [01:43,  1.24it/s]"
          ]
        },
        {
          "output_type": "stream",
          "name": "stdout",
          "text": [
            "Batch: 125. Loss: 0.893846\n"
          ]
        },
        {
          "output_type": "stream",
          "name": "stderr",
          "text": [
            "\r127it [01:44,  1.23it/s]"
          ]
        },
        {
          "output_type": "stream",
          "name": "stdout",
          "text": [
            "Batch: 126. Loss: 0.936919\n"
          ]
        },
        {
          "output_type": "stream",
          "name": "stderr",
          "text": [
            "\r128it [01:45,  1.22it/s]"
          ]
        },
        {
          "output_type": "stream",
          "name": "stdout",
          "text": [
            "Batch: 127. Loss: 0.816038\n"
          ]
        },
        {
          "output_type": "stream",
          "name": "stderr",
          "text": [
            "\r129it [01:46,  1.21it/s]"
          ]
        },
        {
          "output_type": "stream",
          "name": "stdout",
          "text": [
            "Batch: 128. Loss: 0.894847\n"
          ]
        },
        {
          "output_type": "stream",
          "name": "stderr",
          "text": [
            "\r130it [01:47,  1.21it/s]"
          ]
        },
        {
          "output_type": "stream",
          "name": "stdout",
          "text": [
            "Batch: 129. Loss: 0.879144\n"
          ]
        },
        {
          "output_type": "stream",
          "name": "stderr",
          "text": [
            "\r131it [01:47,  1.21it/s]"
          ]
        },
        {
          "output_type": "stream",
          "name": "stdout",
          "text": [
            "Batch: 130. Loss: 0.782334\n"
          ]
        },
        {
          "output_type": "stream",
          "name": "stderr",
          "text": [
            "\r132it [01:48,  1.20it/s]"
          ]
        },
        {
          "output_type": "stream",
          "name": "stdout",
          "text": [
            "Batch: 131. Loss: 0.759698\n"
          ]
        },
        {
          "output_type": "stream",
          "name": "stderr",
          "text": [
            "\r133it [01:49,  1.24it/s]"
          ]
        },
        {
          "output_type": "stream",
          "name": "stdout",
          "text": [
            "Batch: 132. Loss: 0.876743\n"
          ]
        },
        {
          "output_type": "stream",
          "name": "stderr",
          "text": [
            "\r134it [01:50,  1.22it/s]"
          ]
        },
        {
          "output_type": "stream",
          "name": "stdout",
          "text": [
            "Batch: 133. Loss: 1.001606\n"
          ]
        },
        {
          "output_type": "stream",
          "name": "stderr",
          "text": [
            "\r135it [01:51,  1.21it/s]"
          ]
        },
        {
          "output_type": "stream",
          "name": "stdout",
          "text": [
            "Batch: 134. Loss: 0.706064\n"
          ]
        },
        {
          "output_type": "stream",
          "name": "stderr",
          "text": [
            "\r136it [01:52,  1.21it/s]"
          ]
        },
        {
          "output_type": "stream",
          "name": "stdout",
          "text": [
            "Batch: 135. Loss: 0.887215\n"
          ]
        },
        {
          "output_type": "stream",
          "name": "stderr",
          "text": [
            "\r137it [01:52,  1.21it/s]"
          ]
        },
        {
          "output_type": "stream",
          "name": "stdout",
          "text": [
            "Batch: 136. Loss: 0.907168\n"
          ]
        },
        {
          "output_type": "stream",
          "name": "stderr",
          "text": [
            "\r138it [01:53,  1.22it/s]"
          ]
        },
        {
          "output_type": "stream",
          "name": "stdout",
          "text": [
            "Batch: 137. Loss: 0.791918\n"
          ]
        },
        {
          "output_type": "stream",
          "name": "stderr",
          "text": [
            "\r139it [01:54,  1.21it/s]"
          ]
        },
        {
          "output_type": "stream",
          "name": "stdout",
          "text": [
            "Batch: 138. Loss: 0.891573\n"
          ]
        },
        {
          "output_type": "stream",
          "name": "stderr",
          "text": [
            "\r140it [01:55,  1.23it/s]"
          ]
        },
        {
          "output_type": "stream",
          "name": "stdout",
          "text": [
            "Batch: 139. Loss: 0.707372\n"
          ]
        },
        {
          "output_type": "stream",
          "name": "stderr",
          "text": [
            "\r141it [01:56,  1.23it/s]"
          ]
        },
        {
          "output_type": "stream",
          "name": "stdout",
          "text": [
            "Batch: 140. Loss: 0.780328\n"
          ]
        },
        {
          "output_type": "stream",
          "name": "stderr",
          "text": [
            "\r142it [01:57,  1.22it/s]"
          ]
        },
        {
          "output_type": "stream",
          "name": "stdout",
          "text": [
            "Batch: 141. Loss: 0.837309\n"
          ]
        },
        {
          "output_type": "stream",
          "name": "stderr",
          "text": [
            "\r143it [01:57,  1.23it/s]"
          ]
        },
        {
          "output_type": "stream",
          "name": "stdout",
          "text": [
            "Batch: 142. Loss: 0.955644\n"
          ]
        },
        {
          "output_type": "stream",
          "name": "stderr",
          "text": [
            "\r144it [01:58,  1.24it/s]"
          ]
        },
        {
          "output_type": "stream",
          "name": "stdout",
          "text": [
            "Batch: 143. Loss: 0.995998\n"
          ]
        },
        {
          "output_type": "stream",
          "name": "stderr",
          "text": [
            "\r145it [01:59,  1.22it/s]"
          ]
        },
        {
          "output_type": "stream",
          "name": "stdout",
          "text": [
            "Batch: 144. Loss: 0.879286\n"
          ]
        },
        {
          "output_type": "stream",
          "name": "stderr",
          "text": [
            "\r146it [02:00,  1.22it/s]"
          ]
        },
        {
          "output_type": "stream",
          "name": "stdout",
          "text": [
            "Batch: 145. Loss: 0.939423\n"
          ]
        },
        {
          "output_type": "stream",
          "name": "stderr",
          "text": [
            "\r147it [02:01,  1.22it/s]"
          ]
        },
        {
          "output_type": "stream",
          "name": "stdout",
          "text": [
            "Batch: 146. Loss: 0.897305\n"
          ]
        },
        {
          "output_type": "stream",
          "name": "stderr",
          "text": [
            "\r148it [02:01,  1.23it/s]"
          ]
        },
        {
          "output_type": "stream",
          "name": "stdout",
          "text": [
            "Batch: 147. Loss: 1.003112\n"
          ]
        },
        {
          "output_type": "stream",
          "name": "stderr",
          "text": [
            "\r149it [02:02,  1.23it/s]"
          ]
        },
        {
          "output_type": "stream",
          "name": "stdout",
          "text": [
            "Batch: 148. Loss: 0.955395\n"
          ]
        },
        {
          "output_type": "stream",
          "name": "stderr",
          "text": [
            "\r150it [02:03,  1.21it/s]"
          ]
        },
        {
          "output_type": "stream",
          "name": "stdout",
          "text": [
            "Batch: 149. Loss: 0.853197\n"
          ]
        },
        {
          "output_type": "stream",
          "name": "stderr",
          "text": [
            "\r151it [02:04,  1.20it/s]"
          ]
        },
        {
          "output_type": "stream",
          "name": "stdout",
          "text": [
            "Batch: 150. Loss: 0.777567\n"
          ]
        },
        {
          "output_type": "stream",
          "name": "stderr",
          "text": [
            "\r152it [02:05,  1.20it/s]"
          ]
        },
        {
          "output_type": "stream",
          "name": "stdout",
          "text": [
            "Batch: 151. Loss: 0.884158\n"
          ]
        },
        {
          "output_type": "stream",
          "name": "stderr",
          "text": [
            "\r153it [02:06,  1.21it/s]"
          ]
        },
        {
          "output_type": "stream",
          "name": "stdout",
          "text": [
            "Batch: 152. Loss: 0.781809\n"
          ]
        },
        {
          "output_type": "stream",
          "name": "stderr",
          "text": [
            "\r154it [02:06,  1.21it/s]"
          ]
        },
        {
          "output_type": "stream",
          "name": "stdout",
          "text": [
            "Batch: 153. Loss: 0.868483\n"
          ]
        },
        {
          "output_type": "stream",
          "name": "stderr",
          "text": [
            "\r155it [02:07,  1.21it/s]"
          ]
        },
        {
          "output_type": "stream",
          "name": "stdout",
          "text": [
            "Batch: 154. Loss: 1.002757\n"
          ]
        },
        {
          "output_type": "stream",
          "name": "stderr",
          "text": [
            "\r156it [02:08,  1.21it/s]"
          ]
        },
        {
          "output_type": "stream",
          "name": "stdout",
          "text": [
            "Batch: 155. Loss: 1.022913\n"
          ]
        },
        {
          "output_type": "stream",
          "name": "stderr",
          "text": [
            "\r157it [02:09,  1.23it/s]"
          ]
        },
        {
          "output_type": "stream",
          "name": "stdout",
          "text": [
            "Batch: 156. Loss: 1.175840\n"
          ]
        },
        {
          "output_type": "stream",
          "name": "stderr",
          "text": [
            "\r158it [02:10,  1.24it/s]"
          ]
        },
        {
          "output_type": "stream",
          "name": "stdout",
          "text": [
            "Batch: 157. Loss: 0.891227\n"
          ]
        },
        {
          "output_type": "stream",
          "name": "stderr",
          "text": [
            "\r159it [02:10,  1.22it/s]"
          ]
        },
        {
          "output_type": "stream",
          "name": "stdout",
          "text": [
            "Batch: 158. Loss: 0.795205\n"
          ]
        },
        {
          "output_type": "stream",
          "name": "stderr",
          "text": [
            "\r160it [02:11,  1.21it/s]"
          ]
        },
        {
          "output_type": "stream",
          "name": "stdout",
          "text": [
            "Batch: 159. Loss: 0.842247\n"
          ]
        },
        {
          "output_type": "stream",
          "name": "stderr",
          "text": [
            "\r161it [02:12,  1.19it/s]"
          ]
        },
        {
          "output_type": "stream",
          "name": "stdout",
          "text": [
            "Batch: 160. Loss: 0.801663\n"
          ]
        },
        {
          "output_type": "stream",
          "name": "stderr",
          "text": [
            "\r162it [02:13,  1.20it/s]"
          ]
        },
        {
          "output_type": "stream",
          "name": "stdout",
          "text": [
            "Batch: 161. Loss: 0.985614\n"
          ]
        },
        {
          "output_type": "stream",
          "name": "stderr",
          "text": [
            "\r163it [02:14,  1.22it/s]"
          ]
        },
        {
          "output_type": "stream",
          "name": "stdout",
          "text": [
            "Batch: 162. Loss: 0.859753\n"
          ]
        },
        {
          "output_type": "stream",
          "name": "stderr",
          "text": [
            "164it [02:14,  1.22it/s]\n"
          ]
        },
        {
          "output_type": "stream",
          "name": "stdout",
          "text": [
            "Batch: 163. Loss: 1.034842\n",
            "Cost at epoch 1 is 0.9301708754969806\n"
          ]
        },
        {
          "output_type": "stream",
          "name": "stderr",
          "text": [
            "1it [00:00,  1.22it/s]"
          ]
        },
        {
          "output_type": "stream",
          "name": "stdout",
          "text": [
            "Batch: 0. Loss: 0.979863\n"
          ]
        },
        {
          "output_type": "stream",
          "name": "stderr",
          "text": [
            "\r2it [00:01,  1.21it/s]"
          ]
        },
        {
          "output_type": "stream",
          "name": "stdout",
          "text": [
            "Batch: 1. Loss: 0.938207\n"
          ]
        },
        {
          "output_type": "stream",
          "name": "stderr",
          "text": [
            "\r3it [00:02,  1.21it/s]"
          ]
        },
        {
          "output_type": "stream",
          "name": "stdout",
          "text": [
            "Batch: 2. Loss: 0.837745\n"
          ]
        },
        {
          "output_type": "stream",
          "name": "stderr",
          "text": [
            "\r4it [00:03,  1.21it/s]"
          ]
        },
        {
          "output_type": "stream",
          "name": "stdout",
          "text": [
            "Batch: 3. Loss: 0.939685\n"
          ]
        },
        {
          "output_type": "stream",
          "name": "stderr",
          "text": [
            "\r5it [00:04,  1.21it/s]"
          ]
        },
        {
          "output_type": "stream",
          "name": "stdout",
          "text": [
            "Batch: 4. Loss: 0.796230\n"
          ]
        },
        {
          "output_type": "stream",
          "name": "stderr",
          "text": [
            "\r6it [00:04,  1.20it/s]"
          ]
        },
        {
          "output_type": "stream",
          "name": "stdout",
          "text": [
            "Batch: 5. Loss: 1.002341\n"
          ]
        },
        {
          "output_type": "stream",
          "name": "stderr",
          "text": [
            "\r7it [00:05,  1.19it/s]"
          ]
        },
        {
          "output_type": "stream",
          "name": "stdout",
          "text": [
            "Batch: 6. Loss: 0.965546\n"
          ]
        },
        {
          "output_type": "stream",
          "name": "stderr",
          "text": [
            "\r8it [00:06,  1.15it/s]"
          ]
        },
        {
          "output_type": "stream",
          "name": "stdout",
          "text": [
            "Batch: 7. Loss: 0.773638\n"
          ]
        },
        {
          "output_type": "stream",
          "name": "stderr",
          "text": [
            "\r9it [00:07,  1.17it/s]"
          ]
        },
        {
          "output_type": "stream",
          "name": "stdout",
          "text": [
            "Batch: 8. Loss: 0.718243\n"
          ]
        },
        {
          "output_type": "stream",
          "name": "stderr",
          "text": [
            "\r10it [00:08,  1.18it/s]"
          ]
        },
        {
          "output_type": "stream",
          "name": "stdout",
          "text": [
            "Batch: 9. Loss: 0.903522\n"
          ]
        },
        {
          "output_type": "stream",
          "name": "stderr",
          "text": [
            "\r11it [00:09,  1.20it/s]"
          ]
        },
        {
          "output_type": "stream",
          "name": "stdout",
          "text": [
            "Batch: 10. Loss: 0.998199\n"
          ]
        },
        {
          "output_type": "stream",
          "name": "stderr",
          "text": [
            "\r12it [00:10,  1.19it/s]"
          ]
        },
        {
          "output_type": "stream",
          "name": "stdout",
          "text": [
            "Batch: 11. Loss: 0.893553\n"
          ]
        },
        {
          "output_type": "stream",
          "name": "stderr",
          "text": [
            "\r13it [00:10,  1.20it/s]"
          ]
        },
        {
          "output_type": "stream",
          "name": "stdout",
          "text": [
            "Batch: 12. Loss: 0.799601\n"
          ]
        },
        {
          "output_type": "stream",
          "name": "stderr",
          "text": [
            "\r14it [00:11,  1.20it/s]"
          ]
        },
        {
          "output_type": "stream",
          "name": "stdout",
          "text": [
            "Batch: 13. Loss: 0.851012\n"
          ]
        },
        {
          "output_type": "stream",
          "name": "stderr",
          "text": [
            "\r15it [00:12,  1.21it/s]"
          ]
        },
        {
          "output_type": "stream",
          "name": "stdout",
          "text": [
            "Batch: 14. Loss: 0.802345\n"
          ]
        },
        {
          "output_type": "stream",
          "name": "stderr",
          "text": [
            "\r16it [00:13,  1.19it/s]"
          ]
        },
        {
          "output_type": "stream",
          "name": "stdout",
          "text": [
            "Batch: 15. Loss: 0.712273\n"
          ]
        },
        {
          "output_type": "stream",
          "name": "stderr",
          "text": [
            "\r17it [00:14,  1.19it/s]"
          ]
        },
        {
          "output_type": "stream",
          "name": "stdout",
          "text": [
            "Batch: 16. Loss: 0.943532\n"
          ]
        },
        {
          "output_type": "stream",
          "name": "stderr",
          "text": [
            "\r18it [00:15,  1.21it/s]"
          ]
        },
        {
          "output_type": "stream",
          "name": "stdout",
          "text": [
            "Batch: 17. Loss: 0.778224\n"
          ]
        },
        {
          "output_type": "stream",
          "name": "stderr",
          "text": [
            "\r19it [00:15,  1.21it/s]"
          ]
        },
        {
          "output_type": "stream",
          "name": "stdout",
          "text": [
            "Batch: 18. Loss: 1.154681\n"
          ]
        },
        {
          "output_type": "stream",
          "name": "stderr",
          "text": [
            "\r20it [00:16,  1.22it/s]"
          ]
        },
        {
          "output_type": "stream",
          "name": "stdout",
          "text": [
            "Batch: 19. Loss: 0.901572\n"
          ]
        },
        {
          "output_type": "stream",
          "name": "stderr",
          "text": [
            "\r21it [00:17,  1.21it/s]"
          ]
        },
        {
          "output_type": "stream",
          "name": "stdout",
          "text": [
            "Batch: 20. Loss: 0.816406\n"
          ]
        },
        {
          "output_type": "stream",
          "name": "stderr",
          "text": [
            "\r22it [00:18,  1.22it/s]"
          ]
        },
        {
          "output_type": "stream",
          "name": "stdout",
          "text": [
            "Batch: 21. Loss: 1.110011\n"
          ]
        },
        {
          "output_type": "stream",
          "name": "stderr",
          "text": [
            "\r23it [00:19,  1.22it/s]"
          ]
        },
        {
          "output_type": "stream",
          "name": "stdout",
          "text": [
            "Batch: 22. Loss: 0.775802\n"
          ]
        },
        {
          "output_type": "stream",
          "name": "stderr",
          "text": [
            "\r24it [00:19,  1.23it/s]"
          ]
        },
        {
          "output_type": "stream",
          "name": "stdout",
          "text": [
            "Batch: 23. Loss: 0.679019\n"
          ]
        },
        {
          "output_type": "stream",
          "name": "stderr",
          "text": [
            "\r25it [00:20,  1.23it/s]"
          ]
        },
        {
          "output_type": "stream",
          "name": "stdout",
          "text": [
            "Batch: 24. Loss: 0.788520\n"
          ]
        },
        {
          "output_type": "stream",
          "name": "stderr",
          "text": [
            "\r26it [00:21,  1.21it/s]"
          ]
        },
        {
          "output_type": "stream",
          "name": "stdout",
          "text": [
            "Batch: 25. Loss: 0.719070\n"
          ]
        },
        {
          "output_type": "stream",
          "name": "stderr",
          "text": [
            "\r27it [00:22,  1.22it/s]"
          ]
        },
        {
          "output_type": "stream",
          "name": "stdout",
          "text": [
            "Batch: 26. Loss: 1.011309\n"
          ]
        },
        {
          "output_type": "stream",
          "name": "stderr",
          "text": [
            "\r28it [00:23,  1.23it/s]"
          ]
        },
        {
          "output_type": "stream",
          "name": "stdout",
          "text": [
            "Batch: 27. Loss: 0.891046\n"
          ]
        },
        {
          "output_type": "stream",
          "name": "stderr",
          "text": [
            "\r29it [00:24,  1.22it/s]"
          ]
        },
        {
          "output_type": "stream",
          "name": "stdout",
          "text": [
            "Batch: 28. Loss: 0.749014\n"
          ]
        },
        {
          "output_type": "stream",
          "name": "stderr",
          "text": [
            "\r30it [00:24,  1.23it/s]"
          ]
        },
        {
          "output_type": "stream",
          "name": "stdout",
          "text": [
            "Batch: 29. Loss: 1.080000\n"
          ]
        },
        {
          "output_type": "stream",
          "name": "stderr",
          "text": [
            "\r31it [00:25,  1.23it/s]"
          ]
        },
        {
          "output_type": "stream",
          "name": "stdout",
          "text": [
            "Batch: 30. Loss: 0.745734\n"
          ]
        },
        {
          "output_type": "stream",
          "name": "stderr",
          "text": [
            "\r32it [00:26,  1.21it/s]"
          ]
        },
        {
          "output_type": "stream",
          "name": "stdout",
          "text": [
            "Batch: 31. Loss: 0.571615\n"
          ]
        },
        {
          "output_type": "stream",
          "name": "stderr",
          "text": [
            "\r33it [00:27,  1.22it/s]"
          ]
        },
        {
          "output_type": "stream",
          "name": "stdout",
          "text": [
            "Batch: 32. Loss: 0.764746\n"
          ]
        },
        {
          "output_type": "stream",
          "name": "stderr",
          "text": [
            "\r34it [00:28,  1.21it/s]"
          ]
        },
        {
          "output_type": "stream",
          "name": "stdout",
          "text": [
            "Batch: 33. Loss: 0.761993\n"
          ]
        },
        {
          "output_type": "stream",
          "name": "stderr",
          "text": [
            "\r35it [00:28,  1.21it/s]"
          ]
        },
        {
          "output_type": "stream",
          "name": "stdout",
          "text": [
            "Batch: 34. Loss: 0.820515\n"
          ]
        },
        {
          "output_type": "stream",
          "name": "stderr",
          "text": [
            "\r36it [00:29,  1.20it/s]"
          ]
        },
        {
          "output_type": "stream",
          "name": "stdout",
          "text": [
            "Batch: 35. Loss: 0.780569\n"
          ]
        },
        {
          "output_type": "stream",
          "name": "stderr",
          "text": [
            "\r37it [00:30,  1.19it/s]"
          ]
        },
        {
          "output_type": "stream",
          "name": "stdout",
          "text": [
            "Batch: 36. Loss: 1.028775\n"
          ]
        },
        {
          "output_type": "stream",
          "name": "stderr",
          "text": [
            "\r38it [00:31,  1.16it/s]"
          ]
        },
        {
          "output_type": "stream",
          "name": "stdout",
          "text": [
            "Batch: 37. Loss: 0.682601\n"
          ]
        },
        {
          "output_type": "stream",
          "name": "stderr",
          "text": [
            "\r39it [00:32,  1.17it/s]"
          ]
        },
        {
          "output_type": "stream",
          "name": "stdout",
          "text": [
            "Batch: 38. Loss: 1.084732\n"
          ]
        },
        {
          "output_type": "stream",
          "name": "stderr",
          "text": [
            "\r40it [00:33,  1.19it/s]"
          ]
        },
        {
          "output_type": "stream",
          "name": "stdout",
          "text": [
            "Batch: 39. Loss: 1.065647\n"
          ]
        },
        {
          "output_type": "stream",
          "name": "stderr",
          "text": [
            "\r41it [00:34,  1.19it/s]"
          ]
        },
        {
          "output_type": "stream",
          "name": "stdout",
          "text": [
            "Batch: 40. Loss: 0.926993\n"
          ]
        },
        {
          "output_type": "stream",
          "name": "stderr",
          "text": [
            "\r42it [00:34,  1.17it/s]"
          ]
        },
        {
          "output_type": "stream",
          "name": "stdout",
          "text": [
            "Batch: 41. Loss: 0.989332\n"
          ]
        },
        {
          "output_type": "stream",
          "name": "stderr",
          "text": [
            "\r43it [00:35,  1.16it/s]"
          ]
        },
        {
          "output_type": "stream",
          "name": "stdout",
          "text": [
            "Batch: 42. Loss: 0.824421\n"
          ]
        },
        {
          "output_type": "stream",
          "name": "stderr",
          "text": [
            "\r44it [00:36,  1.16it/s]"
          ]
        },
        {
          "output_type": "stream",
          "name": "stdout",
          "text": [
            "Batch: 43. Loss: 0.922858\n"
          ]
        },
        {
          "output_type": "stream",
          "name": "stderr",
          "text": [
            "\r45it [00:37,  1.18it/s]"
          ]
        },
        {
          "output_type": "stream",
          "name": "stdout",
          "text": [
            "Batch: 44. Loss: 0.858466\n"
          ]
        },
        {
          "output_type": "stream",
          "name": "stderr",
          "text": [
            "\r46it [00:38,  1.20it/s]"
          ]
        },
        {
          "output_type": "stream",
          "name": "stdout",
          "text": [
            "Batch: 45. Loss: 0.662689\n"
          ]
        },
        {
          "output_type": "stream",
          "name": "stderr",
          "text": [
            "\r47it [00:39,  1.20it/s]"
          ]
        },
        {
          "output_type": "stream",
          "name": "stdout",
          "text": [
            "Batch: 46. Loss: 0.799512\n"
          ]
        },
        {
          "output_type": "stream",
          "name": "stderr",
          "text": [
            "\r48it [00:40,  1.18it/s]"
          ]
        },
        {
          "output_type": "stream",
          "name": "stdout",
          "text": [
            "Batch: 47. Loss: 0.583091\n"
          ]
        },
        {
          "output_type": "stream",
          "name": "stderr",
          "text": [
            "\r49it [00:40,  1.18it/s]"
          ]
        },
        {
          "output_type": "stream",
          "name": "stdout",
          "text": [
            "Batch: 48. Loss: 0.828887\n"
          ]
        },
        {
          "output_type": "stream",
          "name": "stderr",
          "text": [
            "\r50it [00:41,  1.18it/s]"
          ]
        },
        {
          "output_type": "stream",
          "name": "stdout",
          "text": [
            "Batch: 49. Loss: 0.694680\n"
          ]
        },
        {
          "output_type": "stream",
          "name": "stderr",
          "text": [
            "\r51it [00:42,  1.18it/s]"
          ]
        },
        {
          "output_type": "stream",
          "name": "stdout",
          "text": [
            "Batch: 50. Loss: 0.976350\n"
          ]
        },
        {
          "output_type": "stream",
          "name": "stderr",
          "text": [
            "\r52it [00:43,  1.19it/s]"
          ]
        },
        {
          "output_type": "stream",
          "name": "stdout",
          "text": [
            "Batch: 51. Loss: 0.920706\n"
          ]
        },
        {
          "output_type": "stream",
          "name": "stderr",
          "text": [
            "\r53it [00:44,  1.19it/s]"
          ]
        },
        {
          "output_type": "stream",
          "name": "stdout",
          "text": [
            "Batch: 52. Loss: 0.914781\n"
          ]
        },
        {
          "output_type": "stream",
          "name": "stderr",
          "text": [
            "\r54it [00:45,  1.20it/s]"
          ]
        },
        {
          "output_type": "stream",
          "name": "stdout",
          "text": [
            "Batch: 53. Loss: 0.770590\n"
          ]
        },
        {
          "output_type": "stream",
          "name": "stderr",
          "text": [
            "\r55it [00:45,  1.19it/s]"
          ]
        },
        {
          "output_type": "stream",
          "name": "stdout",
          "text": [
            "Batch: 54. Loss: 0.895791\n"
          ]
        },
        {
          "output_type": "stream",
          "name": "stderr",
          "text": [
            "\r56it [00:46,  1.19it/s]"
          ]
        },
        {
          "output_type": "stream",
          "name": "stdout",
          "text": [
            "Batch: 55. Loss: 0.726321\n"
          ]
        },
        {
          "output_type": "stream",
          "name": "stderr",
          "text": [
            "\r57it [00:47,  1.21it/s]"
          ]
        },
        {
          "output_type": "stream",
          "name": "stdout",
          "text": [
            "Batch: 56. Loss: 1.020617\n"
          ]
        },
        {
          "output_type": "stream",
          "name": "stderr",
          "text": [
            "\r58it [00:48,  1.22it/s]"
          ]
        },
        {
          "output_type": "stream",
          "name": "stdout",
          "text": [
            "Batch: 57. Loss: 0.907633\n"
          ]
        },
        {
          "output_type": "stream",
          "name": "stderr",
          "text": [
            "\r59it [00:49,  1.21it/s]"
          ]
        },
        {
          "output_type": "stream",
          "name": "stdout",
          "text": [
            "Batch: 58. Loss: 1.199863\n"
          ]
        },
        {
          "output_type": "stream",
          "name": "stderr",
          "text": [
            "\r60it [00:50,  1.20it/s]"
          ]
        },
        {
          "output_type": "stream",
          "name": "stdout",
          "text": [
            "Batch: 59. Loss: 0.577841\n"
          ]
        },
        {
          "output_type": "stream",
          "name": "stderr",
          "text": [
            "\r61it [00:50,  1.19it/s]"
          ]
        },
        {
          "output_type": "stream",
          "name": "stdout",
          "text": [
            "Batch: 60. Loss: 0.927617\n"
          ]
        },
        {
          "output_type": "stream",
          "name": "stderr",
          "text": [
            "\r62it [00:51,  1.20it/s]"
          ]
        },
        {
          "output_type": "stream",
          "name": "stdout",
          "text": [
            "Batch: 61. Loss: 0.905510\n"
          ]
        },
        {
          "output_type": "stream",
          "name": "stderr",
          "text": [
            "\r63it [00:52,  1.21it/s]"
          ]
        },
        {
          "output_type": "stream",
          "name": "stdout",
          "text": [
            "Batch: 62. Loss: 0.943869\n"
          ]
        },
        {
          "output_type": "stream",
          "name": "stderr",
          "text": [
            "\r64it [00:53,  1.20it/s]"
          ]
        },
        {
          "output_type": "stream",
          "name": "stdout",
          "text": [
            "Batch: 63. Loss: 0.745215\n"
          ]
        },
        {
          "output_type": "stream",
          "name": "stderr",
          "text": [
            "\r65it [00:54,  1.21it/s]"
          ]
        },
        {
          "output_type": "stream",
          "name": "stdout",
          "text": [
            "Batch: 64. Loss: 0.898541\n"
          ]
        },
        {
          "output_type": "stream",
          "name": "stderr",
          "text": [
            "\r66it [00:55,  1.22it/s]"
          ]
        },
        {
          "output_type": "stream",
          "name": "stdout",
          "text": [
            "Batch: 65. Loss: 0.925417\n"
          ]
        },
        {
          "output_type": "stream",
          "name": "stderr",
          "text": [
            "\r67it [00:55,  1.21it/s]"
          ]
        },
        {
          "output_type": "stream",
          "name": "stdout",
          "text": [
            "Batch: 66. Loss: 0.866917\n"
          ]
        },
        {
          "output_type": "stream",
          "name": "stderr",
          "text": [
            "\r68it [00:56,  1.21it/s]"
          ]
        },
        {
          "output_type": "stream",
          "name": "stdout",
          "text": [
            "Batch: 67. Loss: 0.974416\n"
          ]
        },
        {
          "output_type": "stream",
          "name": "stderr",
          "text": [
            "\r69it [00:57,  1.20it/s]"
          ]
        },
        {
          "output_type": "stream",
          "name": "stdout",
          "text": [
            "Batch: 68. Loss: 0.947668\n"
          ]
        },
        {
          "output_type": "stream",
          "name": "stderr",
          "text": [
            "\r70it [00:58,  1.22it/s]"
          ]
        },
        {
          "output_type": "stream",
          "name": "stdout",
          "text": [
            "Batch: 69. Loss: 0.857355\n"
          ]
        },
        {
          "output_type": "stream",
          "name": "stderr",
          "text": [
            "\r71it [00:59,  1.21it/s]"
          ]
        },
        {
          "output_type": "stream",
          "name": "stdout",
          "text": [
            "Batch: 70. Loss: 0.974497\n"
          ]
        },
        {
          "output_type": "stream",
          "name": "stderr",
          "text": [
            "\r72it [00:59,  1.21it/s]"
          ]
        },
        {
          "output_type": "stream",
          "name": "stdout",
          "text": [
            "Batch: 71. Loss: 0.917134\n"
          ]
        },
        {
          "output_type": "stream",
          "name": "stderr",
          "text": [
            "\r73it [01:00,  1.20it/s]"
          ]
        },
        {
          "output_type": "stream",
          "name": "stdout",
          "text": [
            "Batch: 72. Loss: 0.683950\n"
          ]
        },
        {
          "output_type": "stream",
          "name": "stderr",
          "text": [
            "\r74it [01:01,  1.23it/s]"
          ]
        },
        {
          "output_type": "stream",
          "name": "stdout",
          "text": [
            "Batch: 73. Loss: 0.850926\n"
          ]
        },
        {
          "output_type": "stream",
          "name": "stderr",
          "text": [
            "\r75it [01:02,  1.23it/s]"
          ]
        },
        {
          "output_type": "stream",
          "name": "stdout",
          "text": [
            "Batch: 74. Loss: 1.049800\n"
          ]
        },
        {
          "output_type": "stream",
          "name": "stderr",
          "text": [
            "\r76it [01:03,  1.22it/s]"
          ]
        },
        {
          "output_type": "stream",
          "name": "stdout",
          "text": [
            "Batch: 75. Loss: 0.696451\n"
          ]
        },
        {
          "output_type": "stream",
          "name": "stderr",
          "text": [
            "\r77it [01:04,  1.21it/s]"
          ]
        },
        {
          "output_type": "stream",
          "name": "stdout",
          "text": [
            "Batch: 76. Loss: 0.812276\n"
          ]
        },
        {
          "output_type": "stream",
          "name": "stderr",
          "text": [
            "\r78it [01:04,  1.22it/s]"
          ]
        },
        {
          "output_type": "stream",
          "name": "stdout",
          "text": [
            "Batch: 77. Loss: 0.703183\n"
          ]
        },
        {
          "output_type": "stream",
          "name": "stderr",
          "text": [
            "\r79it [01:05,  1.20it/s]"
          ]
        },
        {
          "output_type": "stream",
          "name": "stdout",
          "text": [
            "Batch: 78. Loss: 0.704763\n"
          ]
        },
        {
          "output_type": "stream",
          "name": "stderr",
          "text": [
            "\r80it [01:06,  1.22it/s]"
          ]
        },
        {
          "output_type": "stream",
          "name": "stdout",
          "text": [
            "Batch: 79. Loss: 0.720583\n"
          ]
        },
        {
          "output_type": "stream",
          "name": "stderr",
          "text": [
            "\r81it [01:07,  1.22it/s]"
          ]
        },
        {
          "output_type": "stream",
          "name": "stdout",
          "text": [
            "Batch: 80. Loss: 0.959973\n"
          ]
        },
        {
          "output_type": "stream",
          "name": "stderr",
          "text": [
            "\r82it [01:08,  1.22it/s]"
          ]
        },
        {
          "output_type": "stream",
          "name": "stdout",
          "text": [
            "Batch: 81. Loss: 0.720917\n"
          ]
        },
        {
          "output_type": "stream",
          "name": "stderr",
          "text": [
            "\r83it [01:09,  1.21it/s]"
          ]
        },
        {
          "output_type": "stream",
          "name": "stdout",
          "text": [
            "Batch: 82. Loss: 0.619223\n"
          ]
        },
        {
          "output_type": "stream",
          "name": "stderr",
          "text": [
            "\r84it [01:09,  1.23it/s]"
          ]
        },
        {
          "output_type": "stream",
          "name": "stdout",
          "text": [
            "Batch: 83. Loss: 0.807278\n"
          ]
        },
        {
          "output_type": "stream",
          "name": "stderr",
          "text": [
            "\r85it [01:10,  1.21it/s]"
          ]
        },
        {
          "output_type": "stream",
          "name": "stdout",
          "text": [
            "Batch: 84. Loss: 0.845489\n"
          ]
        },
        {
          "output_type": "stream",
          "name": "stderr",
          "text": [
            "\r86it [01:11,  1.23it/s]"
          ]
        },
        {
          "output_type": "stream",
          "name": "stdout",
          "text": [
            "Batch: 85. Loss: 0.781934\n"
          ]
        },
        {
          "output_type": "stream",
          "name": "stderr",
          "text": [
            "\r87it [01:12,  1.21it/s]"
          ]
        },
        {
          "output_type": "stream",
          "name": "stdout",
          "text": [
            "Batch: 86. Loss: 0.798271\n"
          ]
        },
        {
          "output_type": "stream",
          "name": "stderr",
          "text": [
            "\r88it [01:13,  1.23it/s]"
          ]
        },
        {
          "output_type": "stream",
          "name": "stdout",
          "text": [
            "Batch: 87. Loss: 0.857197\n"
          ]
        },
        {
          "output_type": "stream",
          "name": "stderr",
          "text": [
            "\r89it [01:13,  1.23it/s]"
          ]
        },
        {
          "output_type": "stream",
          "name": "stdout",
          "text": [
            "Batch: 88. Loss: 0.828567\n"
          ]
        },
        {
          "output_type": "stream",
          "name": "stderr",
          "text": [
            "\r90it [01:14,  1.24it/s]"
          ]
        },
        {
          "output_type": "stream",
          "name": "stdout",
          "text": [
            "Batch: 89. Loss: 0.824735\n"
          ]
        },
        {
          "output_type": "stream",
          "name": "stderr",
          "text": [
            "\r91it [01:15,  1.27it/s]"
          ]
        },
        {
          "output_type": "stream",
          "name": "stdout",
          "text": [
            "Batch: 90. Loss: 1.188654\n"
          ]
        },
        {
          "output_type": "stream",
          "name": "stderr",
          "text": [
            "\r92it [01:16,  1.25it/s]"
          ]
        },
        {
          "output_type": "stream",
          "name": "stdout",
          "text": [
            "Batch: 91. Loss: 0.787529\n"
          ]
        },
        {
          "output_type": "stream",
          "name": "stderr",
          "text": [
            "\r93it [01:17,  1.25it/s]"
          ]
        },
        {
          "output_type": "stream",
          "name": "stdout",
          "text": [
            "Batch: 92. Loss: 0.755755\n"
          ]
        },
        {
          "output_type": "stream",
          "name": "stderr",
          "text": [
            "\r94it [01:17,  1.24it/s]"
          ]
        },
        {
          "output_type": "stream",
          "name": "stdout",
          "text": [
            "Batch: 93. Loss: 0.758293\n"
          ]
        },
        {
          "output_type": "stream",
          "name": "stderr",
          "text": [
            "\r95it [01:18,  1.22it/s]"
          ]
        },
        {
          "output_type": "stream",
          "name": "stdout",
          "text": [
            "Batch: 94. Loss: 0.720205\n"
          ]
        },
        {
          "output_type": "stream",
          "name": "stderr",
          "text": [
            "\r96it [01:19,  1.20it/s]"
          ]
        },
        {
          "output_type": "stream",
          "name": "stdout",
          "text": [
            "Batch: 95. Loss: 0.823855\n"
          ]
        },
        {
          "output_type": "stream",
          "name": "stderr",
          "text": [
            "\r97it [01:20,  1.20it/s]"
          ]
        },
        {
          "output_type": "stream",
          "name": "stdout",
          "text": [
            "Batch: 96. Loss: 0.787452\n"
          ]
        },
        {
          "output_type": "stream",
          "name": "stderr",
          "text": [
            "\r98it [01:21,  1.20it/s]"
          ]
        },
        {
          "output_type": "stream",
          "name": "stdout",
          "text": [
            "Batch: 97. Loss: 0.656941\n"
          ]
        },
        {
          "output_type": "stream",
          "name": "stderr",
          "text": [
            "\r99it [01:22,  1.20it/s]"
          ]
        },
        {
          "output_type": "stream",
          "name": "stdout",
          "text": [
            "Batch: 98. Loss: 1.011045\n"
          ]
        },
        {
          "output_type": "stream",
          "name": "stderr",
          "text": [
            "\r100it [01:22,  1.23it/s]"
          ]
        },
        {
          "output_type": "stream",
          "name": "stdout",
          "text": [
            "Batch: 99. Loss: 0.596022\n"
          ]
        },
        {
          "output_type": "stream",
          "name": "stderr",
          "text": [
            "\r101it [01:23,  1.23it/s]"
          ]
        },
        {
          "output_type": "stream",
          "name": "stdout",
          "text": [
            "Batch: 100. Loss: 0.946407\n"
          ]
        },
        {
          "output_type": "stream",
          "name": "stderr",
          "text": [
            "\r102it [01:24,  1.22it/s]"
          ]
        },
        {
          "output_type": "stream",
          "name": "stdout",
          "text": [
            "Batch: 101. Loss: 0.918199\n"
          ]
        },
        {
          "output_type": "stream",
          "name": "stderr",
          "text": [
            "\r103it [01:25,  1.19it/s]"
          ]
        },
        {
          "output_type": "stream",
          "name": "stdout",
          "text": [
            "Batch: 102. Loss: 0.861608\n"
          ]
        },
        {
          "output_type": "stream",
          "name": "stderr",
          "text": [
            "\r104it [01:26,  1.18it/s]"
          ]
        },
        {
          "output_type": "stream",
          "name": "stdout",
          "text": [
            "Batch: 103. Loss: 0.696593\n"
          ]
        },
        {
          "output_type": "stream",
          "name": "stderr",
          "text": [
            "\r105it [01:27,  1.21it/s]"
          ]
        },
        {
          "output_type": "stream",
          "name": "stdout",
          "text": [
            "Batch: 104. Loss: 1.000890\n"
          ]
        },
        {
          "output_type": "stream",
          "name": "stderr",
          "text": [
            "\r106it [01:27,  1.21it/s]"
          ]
        },
        {
          "output_type": "stream",
          "name": "stdout",
          "text": [
            "Batch: 105. Loss: 0.932149\n"
          ]
        },
        {
          "output_type": "stream",
          "name": "stderr",
          "text": [
            "\r107it [01:28,  1.20it/s]"
          ]
        },
        {
          "output_type": "stream",
          "name": "stdout",
          "text": [
            "Batch: 106. Loss: 0.737497\n"
          ]
        },
        {
          "output_type": "stream",
          "name": "stderr",
          "text": [
            "\r108it [01:29,  1.19it/s]"
          ]
        },
        {
          "output_type": "stream",
          "name": "stdout",
          "text": [
            "Batch: 107. Loss: 0.772941\n"
          ]
        },
        {
          "output_type": "stream",
          "name": "stderr",
          "text": [
            "\r109it [01:30,  1.20it/s]"
          ]
        },
        {
          "output_type": "stream",
          "name": "stdout",
          "text": [
            "Batch: 108. Loss: 1.094334\n"
          ]
        },
        {
          "output_type": "stream",
          "name": "stderr",
          "text": [
            "\r110it [01:31,  1.21it/s]"
          ]
        },
        {
          "output_type": "stream",
          "name": "stdout",
          "text": [
            "Batch: 109. Loss: 0.629984\n"
          ]
        },
        {
          "output_type": "stream",
          "name": "stderr",
          "text": [
            "\r111it [01:32,  1.21it/s]"
          ]
        },
        {
          "output_type": "stream",
          "name": "stdout",
          "text": [
            "Batch: 110. Loss: 0.969410\n"
          ]
        },
        {
          "output_type": "stream",
          "name": "stderr",
          "text": [
            "\r112it [01:32,  1.22it/s]"
          ]
        },
        {
          "output_type": "stream",
          "name": "stdout",
          "text": [
            "Batch: 111. Loss: 0.825925\n"
          ]
        },
        {
          "output_type": "stream",
          "name": "stderr",
          "text": [
            "\r113it [01:33,  1.22it/s]"
          ]
        },
        {
          "output_type": "stream",
          "name": "stdout",
          "text": [
            "Batch: 112. Loss: 0.872857\n"
          ]
        },
        {
          "output_type": "stream",
          "name": "stderr",
          "text": [
            "\r114it [01:34,  1.21it/s]"
          ]
        },
        {
          "output_type": "stream",
          "name": "stdout",
          "text": [
            "Batch: 113. Loss: 0.722881\n"
          ]
        },
        {
          "output_type": "stream",
          "name": "stderr",
          "text": [
            "\r115it [01:35,  1.19it/s]"
          ]
        },
        {
          "output_type": "stream",
          "name": "stdout",
          "text": [
            "Batch: 114. Loss: 0.941450\n"
          ]
        },
        {
          "output_type": "stream",
          "name": "stderr",
          "text": [
            "\r116it [01:36,  1.21it/s]"
          ]
        },
        {
          "output_type": "stream",
          "name": "stdout",
          "text": [
            "Batch: 115. Loss: 0.821431\n"
          ]
        },
        {
          "output_type": "stream",
          "name": "stderr",
          "text": [
            "\r117it [01:37,  1.20it/s]"
          ]
        },
        {
          "output_type": "stream",
          "name": "stdout",
          "text": [
            "Batch: 116. Loss: 0.816373\n"
          ]
        },
        {
          "output_type": "stream",
          "name": "stderr",
          "text": [
            "\r118it [01:37,  1.20it/s]"
          ]
        },
        {
          "output_type": "stream",
          "name": "stdout",
          "text": [
            "Batch: 117. Loss: 0.818633\n"
          ]
        },
        {
          "output_type": "stream",
          "name": "stderr",
          "text": [
            "\r119it [01:38,  1.20it/s]"
          ]
        },
        {
          "output_type": "stream",
          "name": "stdout",
          "text": [
            "Batch: 118. Loss: 0.934795\n"
          ]
        },
        {
          "output_type": "stream",
          "name": "stderr",
          "text": [
            "\r120it [01:39,  1.21it/s]"
          ]
        },
        {
          "output_type": "stream",
          "name": "stdout",
          "text": [
            "Batch: 119. Loss: 0.957639\n"
          ]
        },
        {
          "output_type": "stream",
          "name": "stderr",
          "text": [
            "\r121it [01:40,  1.23it/s]"
          ]
        },
        {
          "output_type": "stream",
          "name": "stdout",
          "text": [
            "Batch: 120. Loss: 1.026870\n"
          ]
        },
        {
          "output_type": "stream",
          "name": "stderr",
          "text": [
            "\r122it [01:41,  1.24it/s]"
          ]
        },
        {
          "output_type": "stream",
          "name": "stdout",
          "text": [
            "Batch: 121. Loss: 0.821901\n"
          ]
        },
        {
          "output_type": "stream",
          "name": "stderr",
          "text": [
            "\r123it [01:41,  1.23it/s]"
          ]
        },
        {
          "output_type": "stream",
          "name": "stdout",
          "text": [
            "Batch: 122. Loss: 0.591152\n"
          ]
        },
        {
          "output_type": "stream",
          "name": "stderr",
          "text": [
            "\r124it [01:42,  1.22it/s]"
          ]
        },
        {
          "output_type": "stream",
          "name": "stdout",
          "text": [
            "Batch: 123. Loss: 0.568991\n"
          ]
        },
        {
          "output_type": "stream",
          "name": "stderr",
          "text": [
            "\r125it [01:43,  1.23it/s]"
          ]
        },
        {
          "output_type": "stream",
          "name": "stdout",
          "text": [
            "Batch: 124. Loss: 0.746538\n"
          ]
        },
        {
          "output_type": "stream",
          "name": "stderr",
          "text": [
            "\r126it [01:44,  1.22it/s]"
          ]
        },
        {
          "output_type": "stream",
          "name": "stdout",
          "text": [
            "Batch: 125. Loss: 0.616538\n"
          ]
        },
        {
          "output_type": "stream",
          "name": "stderr",
          "text": [
            "\r127it [01:45,  1.22it/s]"
          ]
        },
        {
          "output_type": "stream",
          "name": "stdout",
          "text": [
            "Batch: 126. Loss: 0.695350\n"
          ]
        },
        {
          "output_type": "stream",
          "name": "stderr",
          "text": [
            "\r128it [01:45,  1.22it/s]"
          ]
        },
        {
          "output_type": "stream",
          "name": "stdout",
          "text": [
            "Batch: 127. Loss: 0.687402\n"
          ]
        },
        {
          "output_type": "stream",
          "name": "stderr",
          "text": [
            "\r129it [01:46,  1.22it/s]"
          ]
        },
        {
          "output_type": "stream",
          "name": "stdout",
          "text": [
            "Batch: 128. Loss: 0.808119\n"
          ]
        },
        {
          "output_type": "stream",
          "name": "stderr",
          "text": [
            "\r130it [01:47,  1.22it/s]"
          ]
        },
        {
          "output_type": "stream",
          "name": "stdout",
          "text": [
            "Batch: 129. Loss: 0.945628\n"
          ]
        },
        {
          "output_type": "stream",
          "name": "stderr",
          "text": [
            "\r131it [01:48,  1.22it/s]"
          ]
        },
        {
          "output_type": "stream",
          "name": "stdout",
          "text": [
            "Batch: 130. Loss: 0.809440\n"
          ]
        },
        {
          "output_type": "stream",
          "name": "stderr",
          "text": [
            "\r132it [01:49,  1.22it/s]"
          ]
        },
        {
          "output_type": "stream",
          "name": "stdout",
          "text": [
            "Batch: 131. Loss: 0.691854\n"
          ]
        },
        {
          "output_type": "stream",
          "name": "stderr",
          "text": [
            "\r133it [01:50,  1.24it/s]"
          ]
        },
        {
          "output_type": "stream",
          "name": "stdout",
          "text": [
            "Batch: 132. Loss: 0.845096\n"
          ]
        },
        {
          "output_type": "stream",
          "name": "stderr",
          "text": [
            "\r134it [01:50,  1.23it/s]"
          ]
        },
        {
          "output_type": "stream",
          "name": "stdout",
          "text": [
            "Batch: 133. Loss: 0.908824\n"
          ]
        },
        {
          "output_type": "stream",
          "name": "stderr",
          "text": [
            "\r135it [01:51,  1.26it/s]"
          ]
        },
        {
          "output_type": "stream",
          "name": "stdout",
          "text": [
            "Batch: 134. Loss: 1.321183\n"
          ]
        },
        {
          "output_type": "stream",
          "name": "stderr",
          "text": [
            "\r136it [01:52,  1.25it/s]"
          ]
        },
        {
          "output_type": "stream",
          "name": "stdout",
          "text": [
            "Batch: 135. Loss: 0.861161\n"
          ]
        },
        {
          "output_type": "stream",
          "name": "stderr",
          "text": [
            "\r137it [01:53,  1.24it/s]"
          ]
        },
        {
          "output_type": "stream",
          "name": "stdout",
          "text": [
            "Batch: 136. Loss: 0.956659\n"
          ]
        },
        {
          "output_type": "stream",
          "name": "stderr",
          "text": [
            "\r138it [01:54,  1.23it/s]"
          ]
        },
        {
          "output_type": "stream",
          "name": "stdout",
          "text": [
            "Batch: 137. Loss: 0.549435\n"
          ]
        },
        {
          "output_type": "stream",
          "name": "stderr",
          "text": [
            "\r139it [01:54,  1.23it/s]"
          ]
        },
        {
          "output_type": "stream",
          "name": "stdout",
          "text": [
            "Batch: 138. Loss: 0.736181\n"
          ]
        },
        {
          "output_type": "stream",
          "name": "stderr",
          "text": [
            "\r140it [01:55,  1.23it/s]"
          ]
        },
        {
          "output_type": "stream",
          "name": "stdout",
          "text": [
            "Batch: 139. Loss: 0.922612\n"
          ]
        },
        {
          "output_type": "stream",
          "name": "stderr",
          "text": [
            "\r141it [01:56,  1.23it/s]"
          ]
        },
        {
          "output_type": "stream",
          "name": "stdout",
          "text": [
            "Batch: 140. Loss: 1.064341\n"
          ]
        },
        {
          "output_type": "stream",
          "name": "stderr",
          "text": [
            "\r142it [01:57,  1.21it/s]"
          ]
        },
        {
          "output_type": "stream",
          "name": "stdout",
          "text": [
            "Batch: 141. Loss: 0.597597\n"
          ]
        },
        {
          "output_type": "stream",
          "name": "stderr",
          "text": [
            "\r143it [01:58,  1.21it/s]"
          ]
        },
        {
          "output_type": "stream",
          "name": "stdout",
          "text": [
            "Batch: 142. Loss: 0.637808\n"
          ]
        },
        {
          "output_type": "stream",
          "name": "stderr",
          "text": [
            "\r144it [01:59,  1.21it/s]"
          ]
        },
        {
          "output_type": "stream",
          "name": "stdout",
          "text": [
            "Batch: 143. Loss: 0.888310\n"
          ]
        },
        {
          "output_type": "stream",
          "name": "stderr",
          "text": [
            "\r145it [01:59,  1.22it/s]"
          ]
        },
        {
          "output_type": "stream",
          "name": "stdout",
          "text": [
            "Batch: 144. Loss: 0.957671\n"
          ]
        },
        {
          "output_type": "stream",
          "name": "stderr",
          "text": [
            "\r146it [02:00,  1.20it/s]"
          ]
        },
        {
          "output_type": "stream",
          "name": "stdout",
          "text": [
            "Batch: 145. Loss: 0.704472\n"
          ]
        },
        {
          "output_type": "stream",
          "name": "stderr",
          "text": [
            "\r147it [02:01,  1.20it/s]"
          ]
        },
        {
          "output_type": "stream",
          "name": "stdout",
          "text": [
            "Batch: 146. Loss: 0.636844\n"
          ]
        },
        {
          "output_type": "stream",
          "name": "stderr",
          "text": [
            "\r148it [02:02,  1.20it/s]"
          ]
        },
        {
          "output_type": "stream",
          "name": "stdout",
          "text": [
            "Batch: 147. Loss: 0.890643\n"
          ]
        },
        {
          "output_type": "stream",
          "name": "stderr",
          "text": [
            "\r149it [02:03,  1.20it/s]"
          ]
        },
        {
          "output_type": "stream",
          "name": "stdout",
          "text": [
            "Batch: 148. Loss: 0.814007\n"
          ]
        },
        {
          "output_type": "stream",
          "name": "stderr",
          "text": [
            "\r150it [02:04,  1.20it/s]"
          ]
        },
        {
          "output_type": "stream",
          "name": "stdout",
          "text": [
            "Batch: 149. Loss: 1.058702\n"
          ]
        },
        {
          "output_type": "stream",
          "name": "stderr",
          "text": [
            "\r151it [02:04,  1.20it/s]"
          ]
        },
        {
          "output_type": "stream",
          "name": "stdout",
          "text": [
            "Batch: 150. Loss: 0.733639\n"
          ]
        },
        {
          "output_type": "stream",
          "name": "stderr",
          "text": [
            "\r152it [02:05,  1.21it/s]"
          ]
        },
        {
          "output_type": "stream",
          "name": "stdout",
          "text": [
            "Batch: 151. Loss: 0.759683\n"
          ]
        },
        {
          "output_type": "stream",
          "name": "stderr",
          "text": [
            "\r153it [02:06,  1.21it/s]"
          ]
        },
        {
          "output_type": "stream",
          "name": "stdout",
          "text": [
            "Batch: 152. Loss: 0.923636\n"
          ]
        },
        {
          "output_type": "stream",
          "name": "stderr",
          "text": [
            "\r154it [02:07,  1.23it/s]"
          ]
        },
        {
          "output_type": "stream",
          "name": "stdout",
          "text": [
            "Batch: 153. Loss: 1.074183\n"
          ]
        },
        {
          "output_type": "stream",
          "name": "stderr",
          "text": [
            "\r155it [02:08,  1.22it/s]"
          ]
        },
        {
          "output_type": "stream",
          "name": "stdout",
          "text": [
            "Batch: 154. Loss: 0.785770\n"
          ]
        },
        {
          "output_type": "stream",
          "name": "stderr",
          "text": [
            "\r156it [02:08,  1.22it/s]"
          ]
        },
        {
          "output_type": "stream",
          "name": "stdout",
          "text": [
            "Batch: 155. Loss: 0.870822\n"
          ]
        },
        {
          "output_type": "stream",
          "name": "stderr",
          "text": [
            "\r157it [02:09,  1.22it/s]"
          ]
        },
        {
          "output_type": "stream",
          "name": "stdout",
          "text": [
            "Batch: 156. Loss: 0.832089\n"
          ]
        },
        {
          "output_type": "stream",
          "name": "stderr",
          "text": [
            "\r158it [02:10,  1.23it/s]"
          ]
        },
        {
          "output_type": "stream",
          "name": "stdout",
          "text": [
            "Batch: 157. Loss: 0.699781\n"
          ]
        },
        {
          "output_type": "stream",
          "name": "stderr",
          "text": [
            "\r159it [02:11,  1.24it/s]"
          ]
        },
        {
          "output_type": "stream",
          "name": "stdout",
          "text": [
            "Batch: 158. Loss: 0.727838\n"
          ]
        },
        {
          "output_type": "stream",
          "name": "stderr",
          "text": [
            "\r160it [02:12,  1.23it/s]"
          ]
        },
        {
          "output_type": "stream",
          "name": "stdout",
          "text": [
            "Batch: 159. Loss: 0.575270\n"
          ]
        },
        {
          "output_type": "stream",
          "name": "stderr",
          "text": [
            "\r161it [02:13,  1.23it/s]"
          ]
        },
        {
          "output_type": "stream",
          "name": "stdout",
          "text": [
            "Batch: 160. Loss: 0.781994\n"
          ]
        },
        {
          "output_type": "stream",
          "name": "stderr",
          "text": [
            "\r162it [02:13,  1.24it/s]"
          ]
        },
        {
          "output_type": "stream",
          "name": "stdout",
          "text": [
            "Batch: 161. Loss: 0.938752\n"
          ]
        },
        {
          "output_type": "stream",
          "name": "stderr",
          "text": [
            "\r163it [02:14,  1.22it/s]"
          ]
        },
        {
          "output_type": "stream",
          "name": "stdout",
          "text": [
            "Batch: 162. Loss: 0.901180\n"
          ]
        },
        {
          "output_type": "stream",
          "name": "stderr",
          "text": [
            "164it [02:15,  1.21it/s]\n"
          ]
        },
        {
          "output_type": "stream",
          "name": "stdout",
          "text": [
            "Batch: 163. Loss: 0.723686\n",
            "Cost at epoch 2 is 0.8403391976182054\n"
          ]
        },
        {
          "output_type": "stream",
          "name": "stderr",
          "text": [
            "1it [00:00,  1.22it/s]"
          ]
        },
        {
          "output_type": "stream",
          "name": "stdout",
          "text": [
            "Batch: 0. Loss: 0.745431\n"
          ]
        },
        {
          "output_type": "stream",
          "name": "stderr",
          "text": [
            "\r2it [00:01,  1.20it/s]"
          ]
        },
        {
          "output_type": "stream",
          "name": "stdout",
          "text": [
            "Batch: 1. Loss: 0.659777\n"
          ]
        },
        {
          "output_type": "stream",
          "name": "stderr",
          "text": [
            "\r3it [00:02,  1.23it/s]"
          ]
        },
        {
          "output_type": "stream",
          "name": "stdout",
          "text": [
            "Batch: 2. Loss: 0.817688\n"
          ]
        },
        {
          "output_type": "stream",
          "name": "stderr",
          "text": [
            "\r4it [00:03,  1.21it/s]"
          ]
        },
        {
          "output_type": "stream",
          "name": "stdout",
          "text": [
            "Batch: 3. Loss: 0.609179\n"
          ]
        },
        {
          "output_type": "stream",
          "name": "stderr",
          "text": [
            "\r5it [00:04,  1.20it/s]"
          ]
        },
        {
          "output_type": "stream",
          "name": "stdout",
          "text": [
            "Batch: 4. Loss: 0.672716\n"
          ]
        },
        {
          "output_type": "stream",
          "name": "stderr",
          "text": [
            "\r6it [00:04,  1.23it/s]"
          ]
        },
        {
          "output_type": "stream",
          "name": "stdout",
          "text": [
            "Batch: 5. Loss: 0.599531\n"
          ]
        },
        {
          "output_type": "stream",
          "name": "stderr",
          "text": [
            "\r7it [00:05,  1.24it/s]"
          ]
        },
        {
          "output_type": "stream",
          "name": "stdout",
          "text": [
            "Batch: 6. Loss: 1.048925\n"
          ]
        },
        {
          "output_type": "stream",
          "name": "stderr",
          "text": [
            "\r8it [00:06,  1.23it/s]"
          ]
        },
        {
          "output_type": "stream",
          "name": "stdout",
          "text": [
            "Batch: 7. Loss: 0.727138\n"
          ]
        },
        {
          "output_type": "stream",
          "name": "stderr",
          "text": [
            "\r9it [00:07,  1.21it/s]"
          ]
        },
        {
          "output_type": "stream",
          "name": "stdout",
          "text": [
            "Batch: 8. Loss: 0.621075\n"
          ]
        },
        {
          "output_type": "stream",
          "name": "stderr",
          "text": [
            "\r10it [00:08,  1.21it/s]"
          ]
        },
        {
          "output_type": "stream",
          "name": "stdout",
          "text": [
            "Batch: 9. Loss: 0.656574\n"
          ]
        },
        {
          "output_type": "stream",
          "name": "stderr",
          "text": [
            "\r11it [00:09,  1.21it/s]"
          ]
        },
        {
          "output_type": "stream",
          "name": "stdout",
          "text": [
            "Batch: 10. Loss: 0.868117\n"
          ]
        },
        {
          "output_type": "stream",
          "name": "stderr",
          "text": [
            "\r12it [00:09,  1.22it/s]"
          ]
        },
        {
          "output_type": "stream",
          "name": "stdout",
          "text": [
            "Batch: 11. Loss: 0.700816\n"
          ]
        },
        {
          "output_type": "stream",
          "name": "stderr",
          "text": [
            "\r13it [00:10,  1.21it/s]"
          ]
        },
        {
          "output_type": "stream",
          "name": "stdout",
          "text": [
            "Batch: 12. Loss: 0.859143\n"
          ]
        },
        {
          "output_type": "stream",
          "name": "stderr",
          "text": [
            "\r14it [00:11,  1.21it/s]"
          ]
        },
        {
          "output_type": "stream",
          "name": "stdout",
          "text": [
            "Batch: 13. Loss: 0.940122\n"
          ]
        },
        {
          "output_type": "stream",
          "name": "stderr",
          "text": [
            "\r15it [00:12,  1.19it/s]"
          ]
        },
        {
          "output_type": "stream",
          "name": "stdout",
          "text": [
            "Batch: 14. Loss: 0.682035\n"
          ]
        },
        {
          "output_type": "stream",
          "name": "stderr",
          "text": [
            "\r16it [00:13,  1.19it/s]"
          ]
        },
        {
          "output_type": "stream",
          "name": "stdout",
          "text": [
            "Batch: 15. Loss: 0.867898\n"
          ]
        },
        {
          "output_type": "stream",
          "name": "stderr",
          "text": [
            "\r17it [00:14,  1.18it/s]"
          ]
        },
        {
          "output_type": "stream",
          "name": "stdout",
          "text": [
            "Batch: 16. Loss: 0.624068\n"
          ]
        },
        {
          "output_type": "stream",
          "name": "stderr",
          "text": [
            "\r18it [00:14,  1.21it/s]"
          ]
        },
        {
          "output_type": "stream",
          "name": "stdout",
          "text": [
            "Batch: 17. Loss: 0.654700\n"
          ]
        },
        {
          "output_type": "stream",
          "name": "stderr",
          "text": [
            "\r19it [00:15,  1.21it/s]"
          ]
        },
        {
          "output_type": "stream",
          "name": "stdout",
          "text": [
            "Batch: 18. Loss: 0.739683\n"
          ]
        },
        {
          "output_type": "stream",
          "name": "stderr",
          "text": [
            "\r20it [00:16,  1.20it/s]"
          ]
        },
        {
          "output_type": "stream",
          "name": "stdout",
          "text": [
            "Batch: 19. Loss: 0.948470\n"
          ]
        },
        {
          "output_type": "stream",
          "name": "stderr",
          "text": [
            "\r21it [00:17,  1.20it/s]"
          ]
        },
        {
          "output_type": "stream",
          "name": "stdout",
          "text": [
            "Batch: 20. Loss: 0.797783\n"
          ]
        },
        {
          "output_type": "stream",
          "name": "stderr",
          "text": [
            "\r22it [00:18,  1.21it/s]"
          ]
        },
        {
          "output_type": "stream",
          "name": "stdout",
          "text": [
            "Batch: 21. Loss: 0.934604\n"
          ]
        },
        {
          "output_type": "stream",
          "name": "stderr",
          "text": [
            "\r23it [00:18,  1.22it/s]"
          ]
        },
        {
          "output_type": "stream",
          "name": "stdout",
          "text": [
            "Batch: 22. Loss: 0.684070\n"
          ]
        },
        {
          "output_type": "stream",
          "name": "stderr",
          "text": [
            "\r24it [00:19,  1.23it/s]"
          ]
        },
        {
          "output_type": "stream",
          "name": "stdout",
          "text": [
            "Batch: 23. Loss: 0.667965\n"
          ]
        },
        {
          "output_type": "stream",
          "name": "stderr",
          "text": [
            "\r25it [00:20,  1.23it/s]"
          ]
        },
        {
          "output_type": "stream",
          "name": "stdout",
          "text": [
            "Batch: 24. Loss: 0.659774\n"
          ]
        },
        {
          "output_type": "stream",
          "name": "stderr",
          "text": [
            "\r26it [00:21,  1.20it/s]"
          ]
        },
        {
          "output_type": "stream",
          "name": "stdout",
          "text": [
            "Batch: 25. Loss: 0.735272\n"
          ]
        },
        {
          "output_type": "stream",
          "name": "stderr",
          "text": [
            "\r27it [00:22,  1.19it/s]"
          ]
        },
        {
          "output_type": "stream",
          "name": "stdout",
          "text": [
            "Batch: 26. Loss: 0.606112\n"
          ]
        },
        {
          "output_type": "stream",
          "name": "stderr",
          "text": [
            "\r28it [00:23,  1.20it/s]"
          ]
        },
        {
          "output_type": "stream",
          "name": "stdout",
          "text": [
            "Batch: 27. Loss: 0.704095\n"
          ]
        },
        {
          "output_type": "stream",
          "name": "stderr",
          "text": [
            "\r29it [00:23,  1.23it/s]"
          ]
        },
        {
          "output_type": "stream",
          "name": "stdout",
          "text": [
            "Batch: 28. Loss: 0.969735\n"
          ]
        },
        {
          "output_type": "stream",
          "name": "stderr",
          "text": [
            "\r30it [00:24,  1.22it/s]"
          ]
        },
        {
          "output_type": "stream",
          "name": "stdout",
          "text": [
            "Batch: 29. Loss: 0.799562\n"
          ]
        },
        {
          "output_type": "stream",
          "name": "stderr",
          "text": [
            "\r31it [00:25,  1.22it/s]"
          ]
        },
        {
          "output_type": "stream",
          "name": "stdout",
          "text": [
            "Batch: 30. Loss: 0.798563\n"
          ]
        },
        {
          "output_type": "stream",
          "name": "stderr",
          "text": [
            "\r32it [00:26,  1.21it/s]"
          ]
        },
        {
          "output_type": "stream",
          "name": "stdout",
          "text": [
            "Batch: 31. Loss: 0.715977\n"
          ]
        },
        {
          "output_type": "stream",
          "name": "stderr",
          "text": [
            "\r33it [00:27,  1.21it/s]"
          ]
        },
        {
          "output_type": "stream",
          "name": "stdout",
          "text": [
            "Batch: 32. Loss: 0.666593\n"
          ]
        },
        {
          "output_type": "stream",
          "name": "stderr",
          "text": [
            "\r34it [00:28,  1.22it/s]"
          ]
        },
        {
          "output_type": "stream",
          "name": "stdout",
          "text": [
            "Batch: 33. Loss: 0.825889\n"
          ]
        },
        {
          "output_type": "stream",
          "name": "stderr",
          "text": [
            "\r35it [00:28,  1.21it/s]"
          ]
        },
        {
          "output_type": "stream",
          "name": "stdout",
          "text": [
            "Batch: 34. Loss: 0.897033\n"
          ]
        },
        {
          "output_type": "stream",
          "name": "stderr",
          "text": [
            "\r36it [00:29,  1.20it/s]"
          ]
        },
        {
          "output_type": "stream",
          "name": "stdout",
          "text": [
            "Batch: 35. Loss: 0.609393\n"
          ]
        },
        {
          "output_type": "stream",
          "name": "stderr",
          "text": [
            "\r37it [00:30,  1.22it/s]"
          ]
        },
        {
          "output_type": "stream",
          "name": "stdout",
          "text": [
            "Batch: 36. Loss: 0.705185\n"
          ]
        },
        {
          "output_type": "stream",
          "name": "stderr",
          "text": [
            "\r38it [00:31,  1.22it/s]"
          ]
        },
        {
          "output_type": "stream",
          "name": "stdout",
          "text": [
            "Batch: 37. Loss: 0.611577\n"
          ]
        },
        {
          "output_type": "stream",
          "name": "stderr",
          "text": [
            "\r39it [00:32,  1.23it/s]"
          ]
        },
        {
          "output_type": "stream",
          "name": "stdout",
          "text": [
            "Batch: 38. Loss: 0.714667\n"
          ]
        },
        {
          "output_type": "stream",
          "name": "stderr",
          "text": [
            "\r40it [00:32,  1.23it/s]"
          ]
        },
        {
          "output_type": "stream",
          "name": "stdout",
          "text": [
            "Batch: 39. Loss: 0.704196\n"
          ]
        },
        {
          "output_type": "stream",
          "name": "stderr",
          "text": [
            "\r41it [00:33,  1.20it/s]"
          ]
        },
        {
          "output_type": "stream",
          "name": "stdout",
          "text": [
            "Batch: 40. Loss: 0.735178\n"
          ]
        },
        {
          "output_type": "stream",
          "name": "stderr",
          "text": [
            "\r42it [00:34,  1.22it/s]"
          ]
        },
        {
          "output_type": "stream",
          "name": "stdout",
          "text": [
            "Batch: 41. Loss: 0.926600\n"
          ]
        },
        {
          "output_type": "stream",
          "name": "stderr",
          "text": [
            "\r43it [00:35,  1.20it/s]"
          ]
        },
        {
          "output_type": "stream",
          "name": "stdout",
          "text": [
            "Batch: 42. Loss: 0.860124\n"
          ]
        },
        {
          "output_type": "stream",
          "name": "stderr",
          "text": [
            "\r44it [00:36,  1.21it/s]"
          ]
        },
        {
          "output_type": "stream",
          "name": "stdout",
          "text": [
            "Batch: 43. Loss: 0.642729\n"
          ]
        },
        {
          "output_type": "stream",
          "name": "stderr",
          "text": [
            "\r45it [00:37,  1.21it/s]"
          ]
        },
        {
          "output_type": "stream",
          "name": "stdout",
          "text": [
            "Batch: 44. Loss: 0.573132\n"
          ]
        },
        {
          "output_type": "stream",
          "name": "stderr",
          "text": [
            "\r46it [00:37,  1.22it/s]"
          ]
        },
        {
          "output_type": "stream",
          "name": "stdout",
          "text": [
            "Batch: 45. Loss: 0.884223\n"
          ]
        },
        {
          "output_type": "stream",
          "name": "stderr",
          "text": [
            "\r47it [00:38,  1.20it/s]"
          ]
        },
        {
          "output_type": "stream",
          "name": "stdout",
          "text": [
            "Batch: 46. Loss: 0.666147\n"
          ]
        },
        {
          "output_type": "stream",
          "name": "stderr",
          "text": [
            "\r48it [00:39,  1.20it/s]"
          ]
        },
        {
          "output_type": "stream",
          "name": "stdout",
          "text": [
            "Batch: 47. Loss: 0.910783\n"
          ]
        },
        {
          "output_type": "stream",
          "name": "stderr",
          "text": [
            "\r49it [00:40,  1.20it/s]"
          ]
        },
        {
          "output_type": "stream",
          "name": "stdout",
          "text": [
            "Batch: 48. Loss: 0.848409\n"
          ]
        },
        {
          "output_type": "stream",
          "name": "stderr",
          "text": [
            "\r50it [00:41,  1.21it/s]"
          ]
        },
        {
          "output_type": "stream",
          "name": "stdout",
          "text": [
            "Batch: 49. Loss: 0.715440\n"
          ]
        },
        {
          "output_type": "stream",
          "name": "stderr",
          "text": [
            "\r51it [00:42,  1.21it/s]"
          ]
        },
        {
          "output_type": "stream",
          "name": "stdout",
          "text": [
            "Batch: 50. Loss: 0.793939\n"
          ]
        },
        {
          "output_type": "stream",
          "name": "stderr",
          "text": [
            "\r52it [00:42,  1.21it/s]"
          ]
        },
        {
          "output_type": "stream",
          "name": "stdout",
          "text": [
            "Batch: 51. Loss: 0.777062\n"
          ]
        },
        {
          "output_type": "stream",
          "name": "stderr",
          "text": [
            "\r53it [00:43,  1.21it/s]"
          ]
        },
        {
          "output_type": "stream",
          "name": "stdout",
          "text": [
            "Batch: 52. Loss: 0.748437\n"
          ]
        },
        {
          "output_type": "stream",
          "name": "stderr",
          "text": [
            "\r54it [00:44,  1.22it/s]"
          ]
        },
        {
          "output_type": "stream",
          "name": "stdout",
          "text": [
            "Batch: 53. Loss: 0.735334\n"
          ]
        },
        {
          "output_type": "stream",
          "name": "stderr",
          "text": [
            "\r55it [00:45,  1.20it/s]"
          ]
        },
        {
          "output_type": "stream",
          "name": "stdout",
          "text": [
            "Batch: 54. Loss: 0.618925\n"
          ]
        },
        {
          "output_type": "stream",
          "name": "stderr",
          "text": [
            "\r56it [00:46,  1.22it/s]"
          ]
        },
        {
          "output_type": "stream",
          "name": "stdout",
          "text": [
            "Batch: 55. Loss: 0.725644\n"
          ]
        },
        {
          "output_type": "stream",
          "name": "stderr",
          "text": [
            "\r57it [00:47,  1.21it/s]"
          ]
        },
        {
          "output_type": "stream",
          "name": "stdout",
          "text": [
            "Batch: 56. Loss: 0.779692\n"
          ]
        },
        {
          "output_type": "stream",
          "name": "stderr",
          "text": [
            "\r58it [00:47,  1.19it/s]"
          ]
        },
        {
          "output_type": "stream",
          "name": "stdout",
          "text": [
            "Batch: 57. Loss: 0.987486\n"
          ]
        },
        {
          "output_type": "stream",
          "name": "stderr",
          "text": [
            "\r59it [00:48,  1.20it/s]"
          ]
        },
        {
          "output_type": "stream",
          "name": "stdout",
          "text": [
            "Batch: 58. Loss: 0.690921\n"
          ]
        },
        {
          "output_type": "stream",
          "name": "stderr",
          "text": [
            "\r60it [00:49,  1.21it/s]"
          ]
        },
        {
          "output_type": "stream",
          "name": "stdout",
          "text": [
            "Batch: 59. Loss: 0.922100\n"
          ]
        },
        {
          "output_type": "stream",
          "name": "stderr",
          "text": [
            "\r61it [00:50,  1.21it/s]"
          ]
        },
        {
          "output_type": "stream",
          "name": "stdout",
          "text": [
            "Batch: 60. Loss: 0.736276\n"
          ]
        },
        {
          "output_type": "stream",
          "name": "stderr",
          "text": [
            "\r62it [00:51,  1.21it/s]"
          ]
        },
        {
          "output_type": "stream",
          "name": "stdout",
          "text": [
            "Batch: 61. Loss: 0.604631\n"
          ]
        },
        {
          "output_type": "stream",
          "name": "stderr",
          "text": [
            "\r63it [00:51,  1.22it/s]"
          ]
        },
        {
          "output_type": "stream",
          "name": "stdout",
          "text": [
            "Batch: 62. Loss: 0.826029\n"
          ]
        },
        {
          "output_type": "stream",
          "name": "stderr",
          "text": [
            "\r64it [00:52,  1.23it/s]"
          ]
        },
        {
          "output_type": "stream",
          "name": "stdout",
          "text": [
            "Batch: 63. Loss: 0.774424\n"
          ]
        },
        {
          "output_type": "stream",
          "name": "stderr",
          "text": [
            "\r65it [00:53,  1.20it/s]"
          ]
        },
        {
          "output_type": "stream",
          "name": "stdout",
          "text": [
            "Batch: 64. Loss: 0.483653\n"
          ]
        },
        {
          "output_type": "stream",
          "name": "stderr",
          "text": [
            "\r66it [00:54,  1.21it/s]"
          ]
        },
        {
          "output_type": "stream",
          "name": "stdout",
          "text": [
            "Batch: 65. Loss: 0.769231\n"
          ]
        },
        {
          "output_type": "stream",
          "name": "stderr",
          "text": [
            "\r67it [00:55,  1.19it/s]"
          ]
        },
        {
          "output_type": "stream",
          "name": "stdout",
          "text": [
            "Batch: 66. Loss: 0.577795\n"
          ]
        },
        {
          "output_type": "stream",
          "name": "stderr",
          "text": [
            "\r68it [00:56,  1.19it/s]"
          ]
        },
        {
          "output_type": "stream",
          "name": "stdout",
          "text": [
            "Batch: 67. Loss: 0.525564\n"
          ]
        },
        {
          "output_type": "stream",
          "name": "stderr",
          "text": [
            "\r69it [00:57,  1.19it/s]"
          ]
        },
        {
          "output_type": "stream",
          "name": "stdout",
          "text": [
            "Batch: 68. Loss: 0.826013\n"
          ]
        },
        {
          "output_type": "stream",
          "name": "stderr",
          "text": [
            "\r70it [00:57,  1.21it/s]"
          ]
        },
        {
          "output_type": "stream",
          "name": "stdout",
          "text": [
            "Batch: 69. Loss: 0.517223\n"
          ]
        },
        {
          "output_type": "stream",
          "name": "stderr",
          "text": [
            "\r71it [00:58,  1.20it/s]"
          ]
        },
        {
          "output_type": "stream",
          "name": "stdout",
          "text": [
            "Batch: 70. Loss: 0.484856\n"
          ]
        },
        {
          "output_type": "stream",
          "name": "stderr",
          "text": [
            "\r72it [00:59,  1.21it/s]"
          ]
        },
        {
          "output_type": "stream",
          "name": "stdout",
          "text": [
            "Batch: 71. Loss: 0.813441\n"
          ]
        },
        {
          "output_type": "stream",
          "name": "stderr",
          "text": [
            "\r73it [01:00,  1.21it/s]"
          ]
        },
        {
          "output_type": "stream",
          "name": "stdout",
          "text": [
            "Batch: 72. Loss: 0.737961\n"
          ]
        },
        {
          "output_type": "stream",
          "name": "stderr",
          "text": [
            "\r74it [01:01,  1.23it/s]"
          ]
        },
        {
          "output_type": "stream",
          "name": "stdout",
          "text": [
            "Batch: 73. Loss: 0.874515\n"
          ]
        },
        {
          "output_type": "stream",
          "name": "stderr",
          "text": [
            "\r75it [01:01,  1.22it/s]"
          ]
        },
        {
          "output_type": "stream",
          "name": "stdout",
          "text": [
            "Batch: 74. Loss: 1.058980\n"
          ]
        },
        {
          "output_type": "stream",
          "name": "stderr",
          "text": [
            "\r76it [01:02,  1.23it/s]"
          ]
        },
        {
          "output_type": "stream",
          "name": "stdout",
          "text": [
            "Batch: 75. Loss: 0.825081\n"
          ]
        },
        {
          "output_type": "stream",
          "name": "stderr",
          "text": [
            "\r77it [01:03,  1.22it/s]"
          ]
        },
        {
          "output_type": "stream",
          "name": "stdout",
          "text": [
            "Batch: 76. Loss: 0.758250\n"
          ]
        },
        {
          "output_type": "stream",
          "name": "stderr",
          "text": [
            "\r78it [01:04,  1.22it/s]"
          ]
        },
        {
          "output_type": "stream",
          "name": "stdout",
          "text": [
            "Batch: 77. Loss: 0.559299\n"
          ]
        },
        {
          "output_type": "stream",
          "name": "stderr",
          "text": [
            "\r79it [01:05,  1.22it/s]"
          ]
        },
        {
          "output_type": "stream",
          "name": "stdout",
          "text": [
            "Batch: 78. Loss: 0.617821\n"
          ]
        },
        {
          "output_type": "stream",
          "name": "stderr",
          "text": [
            "\r80it [01:06,  1.23it/s]"
          ]
        },
        {
          "output_type": "stream",
          "name": "stdout",
          "text": [
            "Batch: 79. Loss: 0.838008\n"
          ]
        },
        {
          "output_type": "stream",
          "name": "stderr",
          "text": [
            "\r81it [01:06,  1.23it/s]"
          ]
        },
        {
          "output_type": "stream",
          "name": "stdout",
          "text": [
            "Batch: 80. Loss: 0.734361\n"
          ]
        },
        {
          "output_type": "stream",
          "name": "stderr",
          "text": [
            "\r82it [01:07,  1.23it/s]"
          ]
        },
        {
          "output_type": "stream",
          "name": "stdout",
          "text": [
            "Batch: 81. Loss: 0.661578\n"
          ]
        },
        {
          "output_type": "stream",
          "name": "stderr",
          "text": [
            "\r83it [01:08,  1.23it/s]"
          ]
        },
        {
          "output_type": "stream",
          "name": "stdout",
          "text": [
            "Batch: 82. Loss: 0.890316\n"
          ]
        },
        {
          "output_type": "stream",
          "name": "stderr",
          "text": [
            "\r84it [01:09,  1.23it/s]"
          ]
        },
        {
          "output_type": "stream",
          "name": "stdout",
          "text": [
            "Batch: 83. Loss: 0.860180\n"
          ]
        },
        {
          "output_type": "stream",
          "name": "stderr",
          "text": [
            "\r85it [01:10,  1.24it/s]"
          ]
        },
        {
          "output_type": "stream",
          "name": "stdout",
          "text": [
            "Batch: 84. Loss: 0.939844\n"
          ]
        },
        {
          "output_type": "stream",
          "name": "stderr",
          "text": [
            "\r86it [01:10,  1.24it/s]"
          ]
        },
        {
          "output_type": "stream",
          "name": "stdout",
          "text": [
            "Batch: 85. Loss: 0.842180\n"
          ]
        },
        {
          "output_type": "stream",
          "name": "stderr",
          "text": [
            "\r87it [01:11,  1.23it/s]"
          ]
        },
        {
          "output_type": "stream",
          "name": "stdout",
          "text": [
            "Batch: 86. Loss: 0.680217\n"
          ]
        },
        {
          "output_type": "stream",
          "name": "stderr",
          "text": [
            "\r88it [01:12,  1.22it/s]"
          ]
        },
        {
          "output_type": "stream",
          "name": "stdout",
          "text": [
            "Batch: 87. Loss: 0.633701\n"
          ]
        },
        {
          "output_type": "stream",
          "name": "stderr",
          "text": [
            "\r89it [01:13,  1.23it/s]"
          ]
        },
        {
          "output_type": "stream",
          "name": "stdout",
          "text": [
            "Batch: 88. Loss: 0.979948\n"
          ]
        },
        {
          "output_type": "stream",
          "name": "stderr",
          "text": [
            "\r90it [01:14,  1.21it/s]"
          ]
        },
        {
          "output_type": "stream",
          "name": "stdout",
          "text": [
            "Batch: 89. Loss: 0.707913\n"
          ]
        },
        {
          "output_type": "stream",
          "name": "stderr",
          "text": [
            "\r91it [01:14,  1.23it/s]"
          ]
        },
        {
          "output_type": "stream",
          "name": "stdout",
          "text": [
            "Batch: 90. Loss: 0.784746\n"
          ]
        },
        {
          "output_type": "stream",
          "name": "stderr",
          "text": [
            "\r92it [01:15,  1.21it/s]"
          ]
        },
        {
          "output_type": "stream",
          "name": "stdout",
          "text": [
            "Batch: 91. Loss: 0.664369\n"
          ]
        },
        {
          "output_type": "stream",
          "name": "stderr",
          "text": [
            "\r93it [01:16,  1.21it/s]"
          ]
        },
        {
          "output_type": "stream",
          "name": "stdout",
          "text": [
            "Batch: 92. Loss: 0.764441\n"
          ]
        },
        {
          "output_type": "stream",
          "name": "stderr",
          "text": [
            "\r94it [01:17,  1.20it/s]"
          ]
        },
        {
          "output_type": "stream",
          "name": "stdout",
          "text": [
            "Batch: 93. Loss: 0.763294\n"
          ]
        },
        {
          "output_type": "stream",
          "name": "stderr",
          "text": [
            "\r95it [01:18,  1.20it/s]"
          ]
        },
        {
          "output_type": "stream",
          "name": "stdout",
          "text": [
            "Batch: 94. Loss: 0.609651\n"
          ]
        },
        {
          "output_type": "stream",
          "name": "stderr",
          "text": [
            "\r96it [01:19,  1.21it/s]"
          ]
        },
        {
          "output_type": "stream",
          "name": "stdout",
          "text": [
            "Batch: 95. Loss: 0.767747\n"
          ]
        },
        {
          "output_type": "stream",
          "name": "stderr",
          "text": [
            "\r97it [01:19,  1.22it/s]"
          ]
        },
        {
          "output_type": "stream",
          "name": "stdout",
          "text": [
            "Batch: 96. Loss: 0.661259\n"
          ]
        },
        {
          "output_type": "stream",
          "name": "stderr",
          "text": [
            "\r98it [01:20,  1.23it/s]"
          ]
        },
        {
          "output_type": "stream",
          "name": "stdout",
          "text": [
            "Batch: 97. Loss: 0.952169\n"
          ]
        },
        {
          "output_type": "stream",
          "name": "stderr",
          "text": [
            "\r99it [01:21,  1.23it/s]"
          ]
        },
        {
          "output_type": "stream",
          "name": "stdout",
          "text": [
            "Batch: 98. Loss: 0.733908\n"
          ]
        },
        {
          "output_type": "stream",
          "name": "stderr",
          "text": [
            "\r100it [01:22,  1.23it/s]"
          ]
        },
        {
          "output_type": "stream",
          "name": "stdout",
          "text": [
            "Batch: 99. Loss: 0.758404\n"
          ]
        },
        {
          "output_type": "stream",
          "name": "stderr",
          "text": [
            "\r101it [01:23,  1.25it/s]"
          ]
        },
        {
          "output_type": "stream",
          "name": "stdout",
          "text": [
            "Batch: 100. Loss: 0.843305\n"
          ]
        },
        {
          "output_type": "stream",
          "name": "stderr",
          "text": [
            "\r102it [01:23,  1.23it/s]"
          ]
        },
        {
          "output_type": "stream",
          "name": "stdout",
          "text": [
            "Batch: 101. Loss: 0.624007\n"
          ]
        },
        {
          "output_type": "stream",
          "name": "stderr",
          "text": [
            "\r103it [01:24,  1.22it/s]"
          ]
        },
        {
          "output_type": "stream",
          "name": "stdout",
          "text": [
            "Batch: 102. Loss: 0.866918\n"
          ]
        },
        {
          "output_type": "stream",
          "name": "stderr",
          "text": [
            "\r104it [01:25,  1.22it/s]"
          ]
        },
        {
          "output_type": "stream",
          "name": "stdout",
          "text": [
            "Batch: 103. Loss: 0.801388\n"
          ]
        },
        {
          "output_type": "stream",
          "name": "stderr",
          "text": [
            "\r105it [01:26,  1.21it/s]"
          ]
        },
        {
          "output_type": "stream",
          "name": "stdout",
          "text": [
            "Batch: 104. Loss: 1.001075\n"
          ]
        },
        {
          "output_type": "stream",
          "name": "stderr",
          "text": [
            "\r106it [01:27,  1.20it/s]"
          ]
        },
        {
          "output_type": "stream",
          "name": "stdout",
          "text": [
            "Batch: 105. Loss: 0.789472\n"
          ]
        },
        {
          "output_type": "stream",
          "name": "stderr",
          "text": [
            "\r107it [01:28,  1.19it/s]"
          ]
        },
        {
          "output_type": "stream",
          "name": "stdout",
          "text": [
            "Batch: 106. Loss: 0.708891\n"
          ]
        },
        {
          "output_type": "stream",
          "name": "stderr",
          "text": [
            "\r108it [01:29,  1.18it/s]"
          ]
        },
        {
          "output_type": "stream",
          "name": "stdout",
          "text": [
            "Batch: 107. Loss: 0.743230\n"
          ]
        },
        {
          "output_type": "stream",
          "name": "stderr",
          "text": [
            "\r109it [01:29,  1.19it/s]"
          ]
        },
        {
          "output_type": "stream",
          "name": "stdout",
          "text": [
            "Batch: 108. Loss: 0.792892\n"
          ]
        },
        {
          "output_type": "stream",
          "name": "stderr",
          "text": [
            "\r110it [01:30,  1.19it/s]"
          ]
        },
        {
          "output_type": "stream",
          "name": "stdout",
          "text": [
            "Batch: 109. Loss: 0.665890\n"
          ]
        },
        {
          "output_type": "stream",
          "name": "stderr",
          "text": [
            "\r111it [01:31,  1.19it/s]"
          ]
        },
        {
          "output_type": "stream",
          "name": "stdout",
          "text": [
            "Batch: 110. Loss: 0.922144\n"
          ]
        },
        {
          "output_type": "stream",
          "name": "stderr",
          "text": [
            "\r112it [01:32,  1.19it/s]"
          ]
        },
        {
          "output_type": "stream",
          "name": "stdout",
          "text": [
            "Batch: 111. Loss: 0.829757\n"
          ]
        },
        {
          "output_type": "stream",
          "name": "stderr",
          "text": [
            "\r113it [01:33,  1.21it/s]"
          ]
        },
        {
          "output_type": "stream",
          "name": "stdout",
          "text": [
            "Batch: 112. Loss: 0.812859\n"
          ]
        },
        {
          "output_type": "stream",
          "name": "stderr",
          "text": [
            "\r114it [01:34,  1.21it/s]"
          ]
        },
        {
          "output_type": "stream",
          "name": "stdout",
          "text": [
            "Batch: 113. Loss: 0.712295\n"
          ]
        },
        {
          "output_type": "stream",
          "name": "stderr",
          "text": [
            "\r115it [01:34,  1.21it/s]"
          ]
        },
        {
          "output_type": "stream",
          "name": "stdout",
          "text": [
            "Batch: 114. Loss: 0.576319\n"
          ]
        },
        {
          "output_type": "stream",
          "name": "stderr",
          "text": [
            "\r116it [01:35,  1.21it/s]"
          ]
        },
        {
          "output_type": "stream",
          "name": "stdout",
          "text": [
            "Batch: 115. Loss: 0.791675\n"
          ]
        },
        {
          "output_type": "stream",
          "name": "stderr",
          "text": [
            "\r117it [01:36,  1.20it/s]"
          ]
        },
        {
          "output_type": "stream",
          "name": "stdout",
          "text": [
            "Batch: 116. Loss: 0.669601\n"
          ]
        },
        {
          "output_type": "stream",
          "name": "stderr",
          "text": [
            "\r118it [01:37,  1.19it/s]"
          ]
        },
        {
          "output_type": "stream",
          "name": "stdout",
          "text": [
            "Batch: 117. Loss: 0.780190\n"
          ]
        },
        {
          "output_type": "stream",
          "name": "stderr",
          "text": [
            "\r119it [01:38,  1.18it/s]"
          ]
        },
        {
          "output_type": "stream",
          "name": "stdout",
          "text": [
            "Batch: 118. Loss: 0.827780\n"
          ]
        },
        {
          "output_type": "stream",
          "name": "stderr",
          "text": [
            "\r120it [01:39,  1.20it/s]"
          ]
        },
        {
          "output_type": "stream",
          "name": "stdout",
          "text": [
            "Batch: 119. Loss: 0.962723\n"
          ]
        },
        {
          "output_type": "stream",
          "name": "stderr",
          "text": [
            "\r121it [01:39,  1.22it/s]"
          ]
        },
        {
          "output_type": "stream",
          "name": "stdout",
          "text": [
            "Batch: 120. Loss: 1.025978\n"
          ]
        },
        {
          "output_type": "stream",
          "name": "stderr",
          "text": [
            "\r122it [01:40,  1.23it/s]"
          ]
        },
        {
          "output_type": "stream",
          "name": "stdout",
          "text": [
            "Batch: 121. Loss: 0.985942\n"
          ]
        },
        {
          "output_type": "stream",
          "name": "stderr",
          "text": [
            "\r123it [01:41,  1.22it/s]"
          ]
        },
        {
          "output_type": "stream",
          "name": "stdout",
          "text": [
            "Batch: 122. Loss: 0.664367\n"
          ]
        },
        {
          "output_type": "stream",
          "name": "stderr",
          "text": [
            "\r124it [01:42,  1.23it/s]"
          ]
        },
        {
          "output_type": "stream",
          "name": "stdout",
          "text": [
            "Batch: 123. Loss: 0.883136\n"
          ]
        },
        {
          "output_type": "stream",
          "name": "stderr",
          "text": [
            "\r125it [01:43,  1.22it/s]"
          ]
        },
        {
          "output_type": "stream",
          "name": "stdout",
          "text": [
            "Batch: 124. Loss: 0.592039\n"
          ]
        },
        {
          "output_type": "stream",
          "name": "stderr",
          "text": [
            "\r126it [01:43,  1.22it/s]"
          ]
        },
        {
          "output_type": "stream",
          "name": "stdout",
          "text": [
            "Batch: 125. Loss: 0.947271\n"
          ]
        },
        {
          "output_type": "stream",
          "name": "stderr",
          "text": [
            "\r127it [01:44,  1.23it/s]"
          ]
        },
        {
          "output_type": "stream",
          "name": "stdout",
          "text": [
            "Batch: 126. Loss: 0.704859\n"
          ]
        },
        {
          "output_type": "stream",
          "name": "stderr",
          "text": [
            "\r128it [01:45,  1.24it/s]"
          ]
        },
        {
          "output_type": "stream",
          "name": "stdout",
          "text": [
            "Batch: 127. Loss: 0.889972\n"
          ]
        },
        {
          "output_type": "stream",
          "name": "stderr",
          "text": [
            "\r129it [01:46,  1.22it/s]"
          ]
        },
        {
          "output_type": "stream",
          "name": "stdout",
          "text": [
            "Batch: 128. Loss: 0.865275\n"
          ]
        },
        {
          "output_type": "stream",
          "name": "stderr",
          "text": [
            "\r130it [01:47,  1.21it/s]"
          ]
        },
        {
          "output_type": "stream",
          "name": "stdout",
          "text": [
            "Batch: 129. Loss: 1.111167\n"
          ]
        },
        {
          "output_type": "stream",
          "name": "stderr",
          "text": [
            "\r131it [01:48,  1.22it/s]"
          ]
        },
        {
          "output_type": "stream",
          "name": "stdout",
          "text": [
            "Batch: 130. Loss: 0.771313\n"
          ]
        },
        {
          "output_type": "stream",
          "name": "stderr",
          "text": [
            "\r132it [01:48,  1.21it/s]"
          ]
        },
        {
          "output_type": "stream",
          "name": "stdout",
          "text": [
            "Batch: 131. Loss: 0.632956\n"
          ]
        },
        {
          "output_type": "stream",
          "name": "stderr",
          "text": [
            "\r133it [01:49,  1.20it/s]"
          ]
        },
        {
          "output_type": "stream",
          "name": "stdout",
          "text": [
            "Batch: 132. Loss: 0.718426\n"
          ]
        },
        {
          "output_type": "stream",
          "name": "stderr",
          "text": [
            "\r134it [01:50,  1.22it/s]"
          ]
        },
        {
          "output_type": "stream",
          "name": "stdout",
          "text": [
            "Batch: 133. Loss: 1.136555\n"
          ]
        },
        {
          "output_type": "stream",
          "name": "stderr",
          "text": [
            "\r135it [01:51,  1.21it/s]"
          ]
        },
        {
          "output_type": "stream",
          "name": "stdout",
          "text": [
            "Batch: 134. Loss: 0.744710\n"
          ]
        },
        {
          "output_type": "stream",
          "name": "stderr",
          "text": [
            "\r136it [01:52,  1.22it/s]"
          ]
        },
        {
          "output_type": "stream",
          "name": "stdout",
          "text": [
            "Batch: 135. Loss: 0.530681\n"
          ]
        },
        {
          "output_type": "stream",
          "name": "stderr",
          "text": [
            "\r137it [01:52,  1.22it/s]"
          ]
        },
        {
          "output_type": "stream",
          "name": "stdout",
          "text": [
            "Batch: 136. Loss: 0.758295\n"
          ]
        },
        {
          "output_type": "stream",
          "name": "stderr",
          "text": [
            "\r138it [01:53,  1.22it/s]"
          ]
        },
        {
          "output_type": "stream",
          "name": "stdout",
          "text": [
            "Batch: 137. Loss: 0.754470\n"
          ]
        },
        {
          "output_type": "stream",
          "name": "stderr",
          "text": [
            "\r139it [01:54,  1.22it/s]"
          ]
        },
        {
          "output_type": "stream",
          "name": "stdout",
          "text": [
            "Batch: 138. Loss: 0.721434\n"
          ]
        },
        {
          "output_type": "stream",
          "name": "stderr",
          "text": [
            "\r140it [01:55,  1.21it/s]"
          ]
        },
        {
          "output_type": "stream",
          "name": "stdout",
          "text": [
            "Batch: 139. Loss: 0.732530\n"
          ]
        },
        {
          "output_type": "stream",
          "name": "stderr",
          "text": [
            "\r141it [01:56,  1.22it/s]"
          ]
        },
        {
          "output_type": "stream",
          "name": "stdout",
          "text": [
            "Batch: 140. Loss: 0.789089\n"
          ]
        },
        {
          "output_type": "stream",
          "name": "stderr",
          "text": [
            "\r142it [01:57,  1.23it/s]"
          ]
        },
        {
          "output_type": "stream",
          "name": "stdout",
          "text": [
            "Batch: 141. Loss: 0.575935\n"
          ]
        },
        {
          "output_type": "stream",
          "name": "stderr",
          "text": [
            "\r143it [01:57,  1.22it/s]"
          ]
        },
        {
          "output_type": "stream",
          "name": "stdout",
          "text": [
            "Batch: 142. Loss: 0.819509\n"
          ]
        },
        {
          "output_type": "stream",
          "name": "stderr",
          "text": [
            "\r144it [01:58,  1.20it/s]"
          ]
        },
        {
          "output_type": "stream",
          "name": "stdout",
          "text": [
            "Batch: 143. Loss: 0.575452\n"
          ]
        },
        {
          "output_type": "stream",
          "name": "stderr",
          "text": [
            "\r145it [01:59,  1.19it/s]"
          ]
        },
        {
          "output_type": "stream",
          "name": "stdout",
          "text": [
            "Batch: 144. Loss: 0.583549\n"
          ]
        },
        {
          "output_type": "stream",
          "name": "stderr",
          "text": [
            "\r146it [02:00,  1.19it/s]"
          ]
        },
        {
          "output_type": "stream",
          "name": "stdout",
          "text": [
            "Batch: 145. Loss: 0.485457\n"
          ]
        },
        {
          "output_type": "stream",
          "name": "stderr",
          "text": [
            "\r147it [02:01,  1.20it/s]"
          ]
        },
        {
          "output_type": "stream",
          "name": "stdout",
          "text": [
            "Batch: 146. Loss: 0.725670\n"
          ]
        },
        {
          "output_type": "stream",
          "name": "stderr",
          "text": [
            "\r148it [02:02,  1.21it/s]"
          ]
        },
        {
          "output_type": "stream",
          "name": "stdout",
          "text": [
            "Batch: 147. Loss: 0.786599\n"
          ]
        },
        {
          "output_type": "stream",
          "name": "stderr",
          "text": [
            "\r149it [02:02,  1.20it/s]"
          ]
        },
        {
          "output_type": "stream",
          "name": "stdout",
          "text": [
            "Batch: 148. Loss: 1.121561\n"
          ]
        },
        {
          "output_type": "stream",
          "name": "stderr",
          "text": [
            "\r150it [02:03,  1.22it/s]"
          ]
        },
        {
          "output_type": "stream",
          "name": "stdout",
          "text": [
            "Batch: 149. Loss: 0.769410\n"
          ]
        },
        {
          "output_type": "stream",
          "name": "stderr",
          "text": [
            "\r151it [02:04,  1.22it/s]"
          ]
        },
        {
          "output_type": "stream",
          "name": "stdout",
          "text": [
            "Batch: 150. Loss: 0.679400\n"
          ]
        },
        {
          "output_type": "stream",
          "name": "stderr",
          "text": [
            "\r152it [02:05,  1.24it/s]"
          ]
        },
        {
          "output_type": "stream",
          "name": "stdout",
          "text": [
            "Batch: 151. Loss: 0.796885\n"
          ]
        },
        {
          "output_type": "stream",
          "name": "stderr",
          "text": [
            "\r153it [02:06,  1.25it/s]"
          ]
        },
        {
          "output_type": "stream",
          "name": "stdout",
          "text": [
            "Batch: 152. Loss: 0.716674\n"
          ]
        },
        {
          "output_type": "stream",
          "name": "stderr",
          "text": [
            "\r154it [02:06,  1.26it/s]"
          ]
        },
        {
          "output_type": "stream",
          "name": "stdout",
          "text": [
            "Batch: 153. Loss: 0.862857\n"
          ]
        },
        {
          "output_type": "stream",
          "name": "stderr",
          "text": [
            "\r155it [02:07,  1.25it/s]"
          ]
        },
        {
          "output_type": "stream",
          "name": "stdout",
          "text": [
            "Batch: 154. Loss: 0.629896\n"
          ]
        },
        {
          "output_type": "stream",
          "name": "stderr",
          "text": [
            "\r156it [02:08,  1.25it/s]"
          ]
        },
        {
          "output_type": "stream",
          "name": "stdout",
          "text": [
            "Batch: 155. Loss: 0.825506\n"
          ]
        },
        {
          "output_type": "stream",
          "name": "stderr",
          "text": [
            "\r157it [02:09,  1.25it/s]"
          ]
        },
        {
          "output_type": "stream",
          "name": "stdout",
          "text": [
            "Batch: 156. Loss: 0.805722\n"
          ]
        },
        {
          "output_type": "stream",
          "name": "stderr",
          "text": [
            "\r158it [02:10,  1.22it/s]"
          ]
        },
        {
          "output_type": "stream",
          "name": "stdout",
          "text": [
            "Batch: 157. Loss: 0.594343\n"
          ]
        },
        {
          "output_type": "stream",
          "name": "stderr",
          "text": [
            "\r159it [02:10,  1.22it/s]"
          ]
        },
        {
          "output_type": "stream",
          "name": "stdout",
          "text": [
            "Batch: 158. Loss: 0.880282\n"
          ]
        },
        {
          "output_type": "stream",
          "name": "stderr",
          "text": [
            "\r160it [02:11,  1.20it/s]"
          ]
        },
        {
          "output_type": "stream",
          "name": "stdout",
          "text": [
            "Batch: 159. Loss: 0.713763\n"
          ]
        },
        {
          "output_type": "stream",
          "name": "stderr",
          "text": [
            "\r161it [02:12,  1.21it/s]"
          ]
        },
        {
          "output_type": "stream",
          "name": "stdout",
          "text": [
            "Batch: 160. Loss: 0.746525\n"
          ]
        },
        {
          "output_type": "stream",
          "name": "stderr",
          "text": [
            "\r162it [02:13,  1.22it/s]"
          ]
        },
        {
          "output_type": "stream",
          "name": "stdout",
          "text": [
            "Batch: 161. Loss: 0.773742\n"
          ]
        },
        {
          "output_type": "stream",
          "name": "stderr",
          "text": [
            "\r163it [02:14,  1.20it/s]"
          ]
        },
        {
          "output_type": "stream",
          "name": "stdout",
          "text": [
            "Batch: 162. Loss: 0.604640\n"
          ]
        },
        {
          "output_type": "stream",
          "name": "stderr",
          "text": [
            "164it [02:14,  1.22it/s]\n"
          ]
        },
        {
          "output_type": "stream",
          "name": "stdout",
          "text": [
            "Batch: 163. Loss: 0.771041\n",
            "Cost at epoch 3 is 0.75926836325628\n"
          ]
        },
        {
          "output_type": "stream",
          "name": "stderr",
          "text": [
            "1it [00:00,  1.25it/s]"
          ]
        },
        {
          "output_type": "stream",
          "name": "stdout",
          "text": [
            "Batch: 0. Loss: 0.512085\n"
          ]
        },
        {
          "output_type": "stream",
          "name": "stderr",
          "text": [
            "\r2it [00:01,  1.26it/s]"
          ]
        },
        {
          "output_type": "stream",
          "name": "stdout",
          "text": [
            "Batch: 1. Loss: 0.693746\n"
          ]
        },
        {
          "output_type": "stream",
          "name": "stderr",
          "text": [
            "\r3it [00:02,  1.22it/s]"
          ]
        },
        {
          "output_type": "stream",
          "name": "stdout",
          "text": [
            "Batch: 2. Loss: 0.638187\n"
          ]
        },
        {
          "output_type": "stream",
          "name": "stderr",
          "text": [
            "\r4it [00:03,  1.22it/s]"
          ]
        },
        {
          "output_type": "stream",
          "name": "stdout",
          "text": [
            "Batch: 3. Loss: 0.651409\n"
          ]
        },
        {
          "output_type": "stream",
          "name": "stderr",
          "text": [
            "\r5it [00:04,  1.23it/s]"
          ]
        },
        {
          "output_type": "stream",
          "name": "stdout",
          "text": [
            "Batch: 4. Loss: 0.559712\n"
          ]
        },
        {
          "output_type": "stream",
          "name": "stderr",
          "text": [
            "\r6it [00:04,  1.24it/s]"
          ]
        },
        {
          "output_type": "stream",
          "name": "stdout",
          "text": [
            "Batch: 5. Loss: 0.601752\n"
          ]
        },
        {
          "output_type": "stream",
          "name": "stderr",
          "text": [
            "\r7it [00:05,  1.22it/s]"
          ]
        },
        {
          "output_type": "stream",
          "name": "stdout",
          "text": [
            "Batch: 6. Loss: 0.759011\n"
          ]
        },
        {
          "output_type": "stream",
          "name": "stderr",
          "text": [
            "\r8it [00:06,  1.21it/s]"
          ]
        },
        {
          "output_type": "stream",
          "name": "stdout",
          "text": [
            "Batch: 7. Loss: 0.569221\n"
          ]
        },
        {
          "output_type": "stream",
          "name": "stderr",
          "text": [
            "\r9it [00:07,  1.22it/s]"
          ]
        },
        {
          "output_type": "stream",
          "name": "stdout",
          "text": [
            "Batch: 8. Loss: 0.641847\n"
          ]
        },
        {
          "output_type": "stream",
          "name": "stderr",
          "text": [
            "\r10it [00:08,  1.22it/s]"
          ]
        },
        {
          "output_type": "stream",
          "name": "stdout",
          "text": [
            "Batch: 9. Loss: 0.601842\n"
          ]
        },
        {
          "output_type": "stream",
          "name": "stderr",
          "text": [
            "\r11it [00:08,  1.22it/s]"
          ]
        },
        {
          "output_type": "stream",
          "name": "stdout",
          "text": [
            "Batch: 10. Loss: 0.529543\n"
          ]
        },
        {
          "output_type": "stream",
          "name": "stderr",
          "text": [
            "\r12it [00:09,  1.22it/s]"
          ]
        },
        {
          "output_type": "stream",
          "name": "stdout",
          "text": [
            "Batch: 11. Loss: 0.637737\n"
          ]
        },
        {
          "output_type": "stream",
          "name": "stderr",
          "text": [
            "\r13it [00:10,  1.20it/s]"
          ]
        },
        {
          "output_type": "stream",
          "name": "stdout",
          "text": [
            "Batch: 12. Loss: 0.463805\n"
          ]
        },
        {
          "output_type": "stream",
          "name": "stderr",
          "text": [
            "\r14it [00:11,  1.20it/s]"
          ]
        },
        {
          "output_type": "stream",
          "name": "stdout",
          "text": [
            "Batch: 13. Loss: 0.787035\n"
          ]
        },
        {
          "output_type": "stream",
          "name": "stderr",
          "text": [
            "\r15it [00:12,  1.21it/s]"
          ]
        },
        {
          "output_type": "stream",
          "name": "stdout",
          "text": [
            "Batch: 14. Loss: 0.686722\n"
          ]
        },
        {
          "output_type": "stream",
          "name": "stderr",
          "text": [
            "\r16it [00:13,  1.21it/s]"
          ]
        },
        {
          "output_type": "stream",
          "name": "stdout",
          "text": [
            "Batch: 15. Loss: 0.655514\n"
          ]
        },
        {
          "output_type": "stream",
          "name": "stderr",
          "text": [
            "\r17it [00:13,  1.20it/s]"
          ]
        },
        {
          "output_type": "stream",
          "name": "stdout",
          "text": [
            "Batch: 16. Loss: 0.522577\n"
          ]
        },
        {
          "output_type": "stream",
          "name": "stderr",
          "text": [
            "\r18it [00:14,  1.19it/s]"
          ]
        },
        {
          "output_type": "stream",
          "name": "stdout",
          "text": [
            "Batch: 17. Loss: 0.557504\n"
          ]
        },
        {
          "output_type": "stream",
          "name": "stderr",
          "text": [
            "\r19it [00:15,  1.20it/s]"
          ]
        },
        {
          "output_type": "stream",
          "name": "stdout",
          "text": [
            "Batch: 18. Loss: 0.491543\n"
          ]
        },
        {
          "output_type": "stream",
          "name": "stderr",
          "text": [
            "\r20it [00:16,  1.22it/s]"
          ]
        },
        {
          "output_type": "stream",
          "name": "stdout",
          "text": [
            "Batch: 19. Loss: 0.792971\n"
          ]
        },
        {
          "output_type": "stream",
          "name": "stderr",
          "text": [
            "\r21it [00:17,  1.23it/s]"
          ]
        },
        {
          "output_type": "stream",
          "name": "stdout",
          "text": [
            "Batch: 20. Loss: 0.604385\n"
          ]
        },
        {
          "output_type": "stream",
          "name": "stderr",
          "text": [
            "\r22it [00:18,  1.23it/s]"
          ]
        },
        {
          "output_type": "stream",
          "name": "stdout",
          "text": [
            "Batch: 21. Loss: 0.694167\n"
          ]
        },
        {
          "output_type": "stream",
          "name": "stderr",
          "text": [
            "\r23it [00:18,  1.22it/s]"
          ]
        },
        {
          "output_type": "stream",
          "name": "stdout",
          "text": [
            "Batch: 22. Loss: 0.607009\n"
          ]
        },
        {
          "output_type": "stream",
          "name": "stderr",
          "text": [
            "\r24it [00:19,  1.21it/s]"
          ]
        },
        {
          "output_type": "stream",
          "name": "stdout",
          "text": [
            "Batch: 23. Loss: 0.469656\n"
          ]
        },
        {
          "output_type": "stream",
          "name": "stderr",
          "text": [
            "\r25it [00:20,  1.23it/s]"
          ]
        },
        {
          "output_type": "stream",
          "name": "stdout",
          "text": [
            "Batch: 24. Loss: 0.717934\n"
          ]
        },
        {
          "output_type": "stream",
          "name": "stderr",
          "text": [
            "\r26it [00:21,  1.23it/s]"
          ]
        },
        {
          "output_type": "stream",
          "name": "stdout",
          "text": [
            "Batch: 25. Loss: 0.716237\n"
          ]
        },
        {
          "output_type": "stream",
          "name": "stderr",
          "text": [
            "\r27it [00:22,  1.22it/s]"
          ]
        },
        {
          "output_type": "stream",
          "name": "stdout",
          "text": [
            "Batch: 26. Loss: 0.676607\n"
          ]
        },
        {
          "output_type": "stream",
          "name": "stderr",
          "text": [
            "\r28it [00:22,  1.22it/s]"
          ]
        },
        {
          "output_type": "stream",
          "name": "stdout",
          "text": [
            "Batch: 27. Loss: 0.633741\n"
          ]
        },
        {
          "output_type": "stream",
          "name": "stderr",
          "text": [
            "\r29it [00:23,  1.22it/s]"
          ]
        },
        {
          "output_type": "stream",
          "name": "stdout",
          "text": [
            "Batch: 28. Loss: 0.424620\n"
          ]
        },
        {
          "output_type": "stream",
          "name": "stderr",
          "text": [
            "\r30it [00:24,  1.21it/s]"
          ]
        },
        {
          "output_type": "stream",
          "name": "stdout",
          "text": [
            "Batch: 29. Loss: 0.564255\n"
          ]
        },
        {
          "output_type": "stream",
          "name": "stderr",
          "text": [
            "\r31it [00:25,  1.22it/s]"
          ]
        },
        {
          "output_type": "stream",
          "name": "stdout",
          "text": [
            "Batch: 30. Loss: 0.666570\n"
          ]
        },
        {
          "output_type": "stream",
          "name": "stderr",
          "text": [
            "\r32it [00:26,  1.22it/s]"
          ]
        },
        {
          "output_type": "stream",
          "name": "stdout",
          "text": [
            "Batch: 31. Loss: 0.638177\n"
          ]
        },
        {
          "output_type": "stream",
          "name": "stderr",
          "text": [
            "\r33it [00:27,  1.23it/s]"
          ]
        },
        {
          "output_type": "stream",
          "name": "stdout",
          "text": [
            "Batch: 32. Loss: 0.780804\n"
          ]
        },
        {
          "output_type": "stream",
          "name": "stderr",
          "text": [
            "\r34it [00:27,  1.22it/s]"
          ]
        },
        {
          "output_type": "stream",
          "name": "stdout",
          "text": [
            "Batch: 33. Loss: 0.587335\n"
          ]
        },
        {
          "output_type": "stream",
          "name": "stderr",
          "text": [
            "\r35it [00:28,  1.22it/s]"
          ]
        },
        {
          "output_type": "stream",
          "name": "stdout",
          "text": [
            "Batch: 34. Loss: 0.533510\n"
          ]
        },
        {
          "output_type": "stream",
          "name": "stderr",
          "text": [
            "\r36it [00:29,  1.22it/s]"
          ]
        },
        {
          "output_type": "stream",
          "name": "stdout",
          "text": [
            "Batch: 35. Loss: 0.688034\n"
          ]
        },
        {
          "output_type": "stream",
          "name": "stderr",
          "text": [
            "\r37it [00:30,  1.21it/s]"
          ]
        },
        {
          "output_type": "stream",
          "name": "stdout",
          "text": [
            "Batch: 36. Loss: 0.594145\n"
          ]
        },
        {
          "output_type": "stream",
          "name": "stderr",
          "text": [
            "\r38it [00:31,  1.20it/s]"
          ]
        },
        {
          "output_type": "stream",
          "name": "stdout",
          "text": [
            "Batch: 37. Loss: 0.611171\n"
          ]
        },
        {
          "output_type": "stream",
          "name": "stderr",
          "text": [
            "\r39it [00:32,  1.21it/s]"
          ]
        },
        {
          "output_type": "stream",
          "name": "stdout",
          "text": [
            "Batch: 38. Loss: 0.518792\n"
          ]
        },
        {
          "output_type": "stream",
          "name": "stderr",
          "text": [
            "\r40it [00:32,  1.20it/s]"
          ]
        },
        {
          "output_type": "stream",
          "name": "stdout",
          "text": [
            "Batch: 39. Loss: 0.602693\n"
          ]
        },
        {
          "output_type": "stream",
          "name": "stderr",
          "text": [
            "\r41it [00:33,  1.20it/s]"
          ]
        },
        {
          "output_type": "stream",
          "name": "stdout",
          "text": [
            "Batch: 40. Loss: 0.575321\n"
          ]
        },
        {
          "output_type": "stream",
          "name": "stderr",
          "text": [
            "\r42it [00:34,  1.21it/s]"
          ]
        },
        {
          "output_type": "stream",
          "name": "stdout",
          "text": [
            "Batch: 41. Loss: 0.633456\n"
          ]
        },
        {
          "output_type": "stream",
          "name": "stderr",
          "text": [
            "\r43it [00:35,  1.20it/s]"
          ]
        },
        {
          "output_type": "stream",
          "name": "stdout",
          "text": [
            "Batch: 42. Loss: 0.752545\n"
          ]
        },
        {
          "output_type": "stream",
          "name": "stderr",
          "text": [
            "\r44it [00:36,  1.22it/s]"
          ]
        },
        {
          "output_type": "stream",
          "name": "stdout",
          "text": [
            "Batch: 43. Loss: 0.853295\n"
          ]
        },
        {
          "output_type": "stream",
          "name": "stderr",
          "text": [
            "\r45it [00:37,  1.21it/s]"
          ]
        },
        {
          "output_type": "stream",
          "name": "stdout",
          "text": [
            "Batch: 44. Loss: 0.625484\n"
          ]
        },
        {
          "output_type": "stream",
          "name": "stderr",
          "text": [
            "\r46it [00:37,  1.21it/s]"
          ]
        },
        {
          "output_type": "stream",
          "name": "stdout",
          "text": [
            "Batch: 45. Loss: 0.651635\n"
          ]
        },
        {
          "output_type": "stream",
          "name": "stderr",
          "text": [
            "\r47it [00:38,  1.22it/s]"
          ]
        },
        {
          "output_type": "stream",
          "name": "stdout",
          "text": [
            "Batch: 46. Loss: 0.749489\n"
          ]
        },
        {
          "output_type": "stream",
          "name": "stderr",
          "text": [
            "\r48it [00:39,  1.21it/s]"
          ]
        },
        {
          "output_type": "stream",
          "name": "stdout",
          "text": [
            "Batch: 47. Loss: 0.768593\n"
          ]
        },
        {
          "output_type": "stream",
          "name": "stderr",
          "text": [
            "\r49it [00:40,  1.22it/s]"
          ]
        },
        {
          "output_type": "stream",
          "name": "stdout",
          "text": [
            "Batch: 48. Loss: 0.677789\n"
          ]
        },
        {
          "output_type": "stream",
          "name": "stderr",
          "text": [
            "\r50it [00:41,  1.23it/s]"
          ]
        },
        {
          "output_type": "stream",
          "name": "stdout",
          "text": [
            "Batch: 49. Loss: 0.625416\n"
          ]
        },
        {
          "output_type": "stream",
          "name": "stderr",
          "text": [
            "\r51it [00:41,  1.23it/s]"
          ]
        },
        {
          "output_type": "stream",
          "name": "stdout",
          "text": [
            "Batch: 50. Loss: 0.761704\n"
          ]
        },
        {
          "output_type": "stream",
          "name": "stderr",
          "text": [
            "\r52it [00:42,  1.23it/s]"
          ]
        },
        {
          "output_type": "stream",
          "name": "stdout",
          "text": [
            "Batch: 51. Loss: 0.573367\n"
          ]
        },
        {
          "output_type": "stream",
          "name": "stderr",
          "text": [
            "\r53it [00:43,  1.24it/s]"
          ]
        },
        {
          "output_type": "stream",
          "name": "stdout",
          "text": [
            "Batch: 52. Loss: 0.749463\n"
          ]
        },
        {
          "output_type": "stream",
          "name": "stderr",
          "text": [
            "\r54it [00:44,  1.22it/s]"
          ]
        },
        {
          "output_type": "stream",
          "name": "stdout",
          "text": [
            "Batch: 53. Loss: 0.603288\n"
          ]
        },
        {
          "output_type": "stream",
          "name": "stderr",
          "text": [
            "\r55it [00:45,  1.22it/s]"
          ]
        },
        {
          "output_type": "stream",
          "name": "stdout",
          "text": [
            "Batch: 54. Loss: 0.668878\n"
          ]
        },
        {
          "output_type": "stream",
          "name": "stderr",
          "text": [
            "\r56it [00:45,  1.22it/s]"
          ]
        },
        {
          "output_type": "stream",
          "name": "stdout",
          "text": [
            "Batch: 55. Loss: 0.517618\n"
          ]
        },
        {
          "output_type": "stream",
          "name": "stderr",
          "text": [
            "\r57it [00:46,  1.22it/s]"
          ]
        },
        {
          "output_type": "stream",
          "name": "stdout",
          "text": [
            "Batch: 56. Loss: 0.602637\n"
          ]
        },
        {
          "output_type": "stream",
          "name": "stderr",
          "text": [
            "\r58it [00:47,  1.23it/s]"
          ]
        },
        {
          "output_type": "stream",
          "name": "stdout",
          "text": [
            "Batch: 57. Loss: 0.633331\n"
          ]
        },
        {
          "output_type": "stream",
          "name": "stderr",
          "text": [
            "\r59it [00:48,  1.22it/s]"
          ]
        },
        {
          "output_type": "stream",
          "name": "stdout",
          "text": [
            "Batch: 58. Loss: 0.574865\n"
          ]
        },
        {
          "output_type": "stream",
          "name": "stderr",
          "text": [
            "\r60it [00:49,  1.21it/s]"
          ]
        },
        {
          "output_type": "stream",
          "name": "stdout",
          "text": [
            "Batch: 59. Loss: 0.632223\n"
          ]
        },
        {
          "output_type": "stream",
          "name": "stderr",
          "text": [
            "\r61it [00:50,  1.21it/s]"
          ]
        },
        {
          "output_type": "stream",
          "name": "stdout",
          "text": [
            "Batch: 60. Loss: 0.779975\n"
          ]
        },
        {
          "output_type": "stream",
          "name": "stderr",
          "text": [
            "\r62it [00:50,  1.24it/s]"
          ]
        },
        {
          "output_type": "stream",
          "name": "stdout",
          "text": [
            "Batch: 61. Loss: 0.927072\n"
          ]
        },
        {
          "output_type": "stream",
          "name": "stderr",
          "text": [
            "\r63it [00:51,  1.24it/s]"
          ]
        },
        {
          "output_type": "stream",
          "name": "stdout",
          "text": [
            "Batch: 62. Loss: 0.580349\n"
          ]
        },
        {
          "output_type": "stream",
          "name": "stderr",
          "text": [
            "\r64it [00:52,  1.23it/s]"
          ]
        },
        {
          "output_type": "stream",
          "name": "stdout",
          "text": [
            "Batch: 63. Loss: 0.810638\n"
          ]
        },
        {
          "output_type": "stream",
          "name": "stderr",
          "text": [
            "\r65it [00:53,  1.22it/s]"
          ]
        },
        {
          "output_type": "stream",
          "name": "stdout",
          "text": [
            "Batch: 64. Loss: 0.735195\n"
          ]
        },
        {
          "output_type": "stream",
          "name": "stderr",
          "text": [
            "\r66it [00:54,  1.22it/s]"
          ]
        },
        {
          "output_type": "stream",
          "name": "stdout",
          "text": [
            "Batch: 65. Loss: 0.682382\n"
          ]
        },
        {
          "output_type": "stream",
          "name": "stderr",
          "text": [
            "\r67it [00:54,  1.23it/s]"
          ]
        },
        {
          "output_type": "stream",
          "name": "stdout",
          "text": [
            "Batch: 66. Loss: 0.627499\n"
          ]
        },
        {
          "output_type": "stream",
          "name": "stderr",
          "text": [
            "\r68it [00:55,  1.22it/s]"
          ]
        },
        {
          "output_type": "stream",
          "name": "stdout",
          "text": [
            "Batch: 67. Loss: 0.645837\n"
          ]
        },
        {
          "output_type": "stream",
          "name": "stderr",
          "text": [
            "\r69it [00:56,  1.21it/s]"
          ]
        },
        {
          "output_type": "stream",
          "name": "stdout",
          "text": [
            "Batch: 68. Loss: 0.636414\n"
          ]
        },
        {
          "output_type": "stream",
          "name": "stderr",
          "text": [
            "\r70it [00:57,  1.21it/s]"
          ]
        },
        {
          "output_type": "stream",
          "name": "stdout",
          "text": [
            "Batch: 69. Loss: 0.740727\n"
          ]
        },
        {
          "output_type": "stream",
          "name": "stderr",
          "text": [
            "\r71it [00:58,  1.21it/s]"
          ]
        },
        {
          "output_type": "stream",
          "name": "stdout",
          "text": [
            "Batch: 70. Loss: 0.499688\n"
          ]
        },
        {
          "output_type": "stream",
          "name": "stderr",
          "text": [
            "\r72it [00:59,  1.22it/s]"
          ]
        },
        {
          "output_type": "stream",
          "name": "stdout",
          "text": [
            "Batch: 71. Loss: 0.707461\n"
          ]
        },
        {
          "output_type": "stream",
          "name": "stderr",
          "text": [
            "\r73it [00:59,  1.21it/s]"
          ]
        },
        {
          "output_type": "stream",
          "name": "stdout",
          "text": [
            "Batch: 72. Loss: 0.676904\n"
          ]
        },
        {
          "output_type": "stream",
          "name": "stderr",
          "text": [
            "\r74it [01:00,  1.22it/s]"
          ]
        },
        {
          "output_type": "stream",
          "name": "stdout",
          "text": [
            "Batch: 73. Loss: 0.704486\n"
          ]
        },
        {
          "output_type": "stream",
          "name": "stderr",
          "text": [
            "\r75it [01:01,  1.22it/s]"
          ]
        },
        {
          "output_type": "stream",
          "name": "stdout",
          "text": [
            "Batch: 74. Loss: 0.604632\n"
          ]
        },
        {
          "output_type": "stream",
          "name": "stderr",
          "text": [
            "\r76it [01:02,  1.23it/s]"
          ]
        },
        {
          "output_type": "stream",
          "name": "stdout",
          "text": [
            "Batch: 75. Loss: 0.698985\n"
          ]
        },
        {
          "output_type": "stream",
          "name": "stderr",
          "text": [
            "\r77it [01:03,  1.22it/s]"
          ]
        },
        {
          "output_type": "stream",
          "name": "stdout",
          "text": [
            "Batch: 76. Loss: 0.675205\n"
          ]
        },
        {
          "output_type": "stream",
          "name": "stderr",
          "text": [
            "\r78it [01:03,  1.24it/s]"
          ]
        },
        {
          "output_type": "stream",
          "name": "stdout",
          "text": [
            "Batch: 77. Loss: 0.608202\n"
          ]
        },
        {
          "output_type": "stream",
          "name": "stderr",
          "text": [
            "\r79it [01:04,  1.23it/s]"
          ]
        },
        {
          "output_type": "stream",
          "name": "stdout",
          "text": [
            "Batch: 78. Loss: 0.787548\n"
          ]
        },
        {
          "output_type": "stream",
          "name": "stderr",
          "text": [
            "\r80it [01:05,  1.23it/s]"
          ]
        },
        {
          "output_type": "stream",
          "name": "stdout",
          "text": [
            "Batch: 79. Loss: 0.633380\n"
          ]
        },
        {
          "output_type": "stream",
          "name": "stderr",
          "text": [
            "\r81it [01:06,  1.22it/s]"
          ]
        },
        {
          "output_type": "stream",
          "name": "stdout",
          "text": [
            "Batch: 80. Loss: 0.388073\n"
          ]
        },
        {
          "output_type": "stream",
          "name": "stderr",
          "text": [
            "\r82it [01:07,  1.24it/s]"
          ]
        },
        {
          "output_type": "stream",
          "name": "stdout",
          "text": [
            "Batch: 81. Loss: 0.956638\n"
          ]
        },
        {
          "output_type": "stream",
          "name": "stderr",
          "text": [
            "\r83it [01:08,  1.22it/s]"
          ]
        },
        {
          "output_type": "stream",
          "name": "stdout",
          "text": [
            "Batch: 82. Loss: 0.614239\n"
          ]
        },
        {
          "output_type": "stream",
          "name": "stderr",
          "text": [
            "\r84it [01:08,  1.22it/s]"
          ]
        },
        {
          "output_type": "stream",
          "name": "stdout",
          "text": [
            "Batch: 83. Loss: 0.754203\n"
          ]
        },
        {
          "output_type": "stream",
          "name": "stderr",
          "text": [
            "\r85it [01:09,  1.22it/s]"
          ]
        },
        {
          "output_type": "stream",
          "name": "stdout",
          "text": [
            "Batch: 84. Loss: 0.665154\n"
          ]
        },
        {
          "output_type": "stream",
          "name": "stderr",
          "text": [
            "\r86it [01:10,  1.22it/s]"
          ]
        },
        {
          "output_type": "stream",
          "name": "stdout",
          "text": [
            "Batch: 85. Loss: 0.689415\n"
          ]
        },
        {
          "output_type": "stream",
          "name": "stderr",
          "text": [
            "\r87it [01:11,  1.22it/s]"
          ]
        },
        {
          "output_type": "stream",
          "name": "stdout",
          "text": [
            "Batch: 86. Loss: 0.448243\n"
          ]
        },
        {
          "output_type": "stream",
          "name": "stderr",
          "text": [
            "\r88it [01:12,  1.21it/s]"
          ]
        },
        {
          "output_type": "stream",
          "name": "stdout",
          "text": [
            "Batch: 87. Loss: 0.642052\n"
          ]
        },
        {
          "output_type": "stream",
          "name": "stderr",
          "text": [
            "\r89it [01:12,  1.23it/s]"
          ]
        },
        {
          "output_type": "stream",
          "name": "stdout",
          "text": [
            "Batch: 88. Loss: 0.989594\n"
          ]
        },
        {
          "output_type": "stream",
          "name": "stderr",
          "text": [
            "\r90it [01:13,  1.24it/s]"
          ]
        },
        {
          "output_type": "stream",
          "name": "stdout",
          "text": [
            "Batch: 89. Loss: 0.718583\n"
          ]
        },
        {
          "output_type": "stream",
          "name": "stderr",
          "text": [
            "\r91it [01:14,  1.24it/s]"
          ]
        },
        {
          "output_type": "stream",
          "name": "stdout",
          "text": [
            "Batch: 90. Loss: 0.491505\n"
          ]
        },
        {
          "output_type": "stream",
          "name": "stderr",
          "text": [
            "\r92it [01:15,  1.23it/s]"
          ]
        },
        {
          "output_type": "stream",
          "name": "stdout",
          "text": [
            "Batch: 91. Loss: 0.782336\n"
          ]
        },
        {
          "output_type": "stream",
          "name": "stderr",
          "text": [
            "\r93it [01:16,  1.21it/s]"
          ]
        },
        {
          "output_type": "stream",
          "name": "stdout",
          "text": [
            "Batch: 92. Loss: 0.579607\n"
          ]
        },
        {
          "output_type": "stream",
          "name": "stderr",
          "text": [
            "\r94it [01:17,  1.21it/s]"
          ]
        },
        {
          "output_type": "stream",
          "name": "stdout",
          "text": [
            "Batch: 93. Loss: 0.697835\n"
          ]
        },
        {
          "output_type": "stream",
          "name": "stderr",
          "text": [
            "\r95it [01:17,  1.21it/s]"
          ]
        },
        {
          "output_type": "stream",
          "name": "stdout",
          "text": [
            "Batch: 94. Loss: 0.631872\n"
          ]
        },
        {
          "output_type": "stream",
          "name": "stderr",
          "text": [
            "\r96it [01:18,  1.20it/s]"
          ]
        },
        {
          "output_type": "stream",
          "name": "stdout",
          "text": [
            "Batch: 95. Loss: 0.541365\n"
          ]
        },
        {
          "output_type": "stream",
          "name": "stderr",
          "text": [
            "\r97it [01:19,  1.21it/s]"
          ]
        },
        {
          "output_type": "stream",
          "name": "stdout",
          "text": [
            "Batch: 96. Loss: 0.608633\n"
          ]
        },
        {
          "output_type": "stream",
          "name": "stderr",
          "text": [
            "\r98it [01:20,  1.21it/s]"
          ]
        },
        {
          "output_type": "stream",
          "name": "stdout",
          "text": [
            "Batch: 97. Loss: 0.751301\n"
          ]
        },
        {
          "output_type": "stream",
          "name": "stderr",
          "text": [
            "\r99it [01:21,  1.21it/s]"
          ]
        },
        {
          "output_type": "stream",
          "name": "stdout",
          "text": [
            "Batch: 98. Loss: 0.601488\n"
          ]
        },
        {
          "output_type": "stream",
          "name": "stderr",
          "text": [
            "\r100it [01:22,  1.21it/s]"
          ]
        },
        {
          "output_type": "stream",
          "name": "stdout",
          "text": [
            "Batch: 99. Loss: 0.433120\n"
          ]
        },
        {
          "output_type": "stream",
          "name": "stderr",
          "text": [
            "\r101it [01:22,  1.21it/s]"
          ]
        },
        {
          "output_type": "stream",
          "name": "stdout",
          "text": [
            "Batch: 100. Loss: 0.456662\n"
          ]
        },
        {
          "output_type": "stream",
          "name": "stderr",
          "text": [
            "\r102it [01:23,  1.23it/s]"
          ]
        },
        {
          "output_type": "stream",
          "name": "stdout",
          "text": [
            "Batch: 101. Loss: 0.659620\n"
          ]
        },
        {
          "output_type": "stream",
          "name": "stderr",
          "text": [
            "\r103it [01:24,  1.21it/s]"
          ]
        },
        {
          "output_type": "stream",
          "name": "stdout",
          "text": [
            "Batch: 102. Loss: 0.509023\n"
          ]
        },
        {
          "output_type": "stream",
          "name": "stderr",
          "text": [
            "\r104it [01:25,  1.21it/s]"
          ]
        },
        {
          "output_type": "stream",
          "name": "stdout",
          "text": [
            "Batch: 103. Loss: 0.537961\n"
          ]
        },
        {
          "output_type": "stream",
          "name": "stderr",
          "text": [
            "\r105it [01:26,  1.20it/s]"
          ]
        },
        {
          "output_type": "stream",
          "name": "stdout",
          "text": [
            "Batch: 104. Loss: 0.582498\n"
          ]
        },
        {
          "output_type": "stream",
          "name": "stderr",
          "text": [
            "\r106it [01:27,  1.20it/s]"
          ]
        },
        {
          "output_type": "stream",
          "name": "stdout",
          "text": [
            "Batch: 105. Loss: 0.654969\n"
          ]
        },
        {
          "output_type": "stream",
          "name": "stderr",
          "text": [
            "\r107it [01:27,  1.19it/s]"
          ]
        },
        {
          "output_type": "stream",
          "name": "stdout",
          "text": [
            "Batch: 106. Loss: 0.588791\n"
          ]
        },
        {
          "output_type": "stream",
          "name": "stderr",
          "text": [
            "\r108it [01:28,  1.22it/s]"
          ]
        },
        {
          "output_type": "stream",
          "name": "stdout",
          "text": [
            "Batch: 107. Loss: 0.799536\n"
          ]
        },
        {
          "output_type": "stream",
          "name": "stderr",
          "text": [
            "\r109it [01:29,  1.23it/s]"
          ]
        },
        {
          "output_type": "stream",
          "name": "stdout",
          "text": [
            "Batch: 108. Loss: 0.642592\n"
          ]
        },
        {
          "output_type": "stream",
          "name": "stderr",
          "text": [
            "\r110it [01:30,  1.24it/s]"
          ]
        },
        {
          "output_type": "stream",
          "name": "stdout",
          "text": [
            "Batch: 109. Loss: 0.721797\n"
          ]
        },
        {
          "output_type": "stream",
          "name": "stderr",
          "text": [
            "\r111it [01:31,  1.23it/s]"
          ]
        },
        {
          "output_type": "stream",
          "name": "stdout",
          "text": [
            "Batch: 110. Loss: 0.698804\n"
          ]
        },
        {
          "output_type": "stream",
          "name": "stderr",
          "text": [
            "\r112it [01:31,  1.23it/s]"
          ]
        },
        {
          "output_type": "stream",
          "name": "stdout",
          "text": [
            "Batch: 111. Loss: 0.964752\n"
          ]
        },
        {
          "output_type": "stream",
          "name": "stderr",
          "text": [
            "\r113it [01:32,  1.21it/s]"
          ]
        },
        {
          "output_type": "stream",
          "name": "stdout",
          "text": [
            "Batch: 112. Loss: 0.631102\n"
          ]
        },
        {
          "output_type": "stream",
          "name": "stderr",
          "text": [
            "\r114it [01:33,  1.21it/s]"
          ]
        },
        {
          "output_type": "stream",
          "name": "stdout",
          "text": [
            "Batch: 113. Loss: 0.540329\n"
          ]
        },
        {
          "output_type": "stream",
          "name": "stderr",
          "text": [
            "\r115it [01:34,  1.21it/s]"
          ]
        },
        {
          "output_type": "stream",
          "name": "stdout",
          "text": [
            "Batch: 114. Loss: 0.545722\n"
          ]
        },
        {
          "output_type": "stream",
          "name": "stderr",
          "text": [
            "\r116it [01:35,  1.21it/s]"
          ]
        },
        {
          "output_type": "stream",
          "name": "stdout",
          "text": [
            "Batch: 115. Loss: 0.508199\n"
          ]
        },
        {
          "output_type": "stream",
          "name": "stderr",
          "text": [
            "\r117it [01:36,  1.20it/s]"
          ]
        },
        {
          "output_type": "stream",
          "name": "stdout",
          "text": [
            "Batch: 116. Loss: 0.744352\n"
          ]
        },
        {
          "output_type": "stream",
          "name": "stderr",
          "text": [
            "\r118it [01:36,  1.21it/s]"
          ]
        },
        {
          "output_type": "stream",
          "name": "stdout",
          "text": [
            "Batch: 117. Loss: 0.884422\n"
          ]
        },
        {
          "output_type": "stream",
          "name": "stderr",
          "text": [
            "\r119it [01:37,  1.21it/s]"
          ]
        },
        {
          "output_type": "stream",
          "name": "stdout",
          "text": [
            "Batch: 118. Loss: 0.622365\n"
          ]
        },
        {
          "output_type": "stream",
          "name": "stderr",
          "text": [
            "\r120it [01:38,  1.22it/s]"
          ]
        },
        {
          "output_type": "stream",
          "name": "stdout",
          "text": [
            "Batch: 119. Loss: 0.633489\n"
          ]
        },
        {
          "output_type": "stream",
          "name": "stderr",
          "text": [
            "\r121it [01:39,  1.20it/s]"
          ]
        },
        {
          "output_type": "stream",
          "name": "stdout",
          "text": [
            "Batch: 120. Loss: 0.557798\n"
          ]
        },
        {
          "output_type": "stream",
          "name": "stderr",
          "text": [
            "\r122it [01:40,  1.21it/s]"
          ]
        },
        {
          "output_type": "stream",
          "name": "stdout",
          "text": [
            "Batch: 121. Loss: 0.562074\n"
          ]
        },
        {
          "output_type": "stream",
          "name": "stderr",
          "text": [
            "\r123it [01:41,  1.20it/s]"
          ]
        },
        {
          "output_type": "stream",
          "name": "stdout",
          "text": [
            "Batch: 122. Loss: 0.718469\n"
          ]
        },
        {
          "output_type": "stream",
          "name": "stderr",
          "text": [
            "\r124it [01:41,  1.20it/s]"
          ]
        },
        {
          "output_type": "stream",
          "name": "stdout",
          "text": [
            "Batch: 123. Loss: 0.712584\n"
          ]
        },
        {
          "output_type": "stream",
          "name": "stderr",
          "text": [
            "\r125it [01:42,  1.22it/s]"
          ]
        },
        {
          "output_type": "stream",
          "name": "stdout",
          "text": [
            "Batch: 124. Loss: 0.482785\n"
          ]
        },
        {
          "output_type": "stream",
          "name": "stderr",
          "text": [
            "\r126it [01:43,  1.22it/s]"
          ]
        },
        {
          "output_type": "stream",
          "name": "stdout",
          "text": [
            "Batch: 125. Loss: 0.951288\n"
          ]
        },
        {
          "output_type": "stream",
          "name": "stderr",
          "text": [
            "\r127it [01:44,  1.21it/s]"
          ]
        },
        {
          "output_type": "stream",
          "name": "stdout",
          "text": [
            "Batch: 126. Loss: 0.606991\n"
          ]
        },
        {
          "output_type": "stream",
          "name": "stderr",
          "text": [
            "\r128it [01:45,  1.20it/s]"
          ]
        },
        {
          "output_type": "stream",
          "name": "stdout",
          "text": [
            "Batch: 127. Loss: 0.622912\n"
          ]
        },
        {
          "output_type": "stream",
          "name": "stderr",
          "text": [
            "\r129it [01:46,  1.20it/s]"
          ]
        },
        {
          "output_type": "stream",
          "name": "stdout",
          "text": [
            "Batch: 128. Loss: 0.438127\n"
          ]
        },
        {
          "output_type": "stream",
          "name": "stderr",
          "text": [
            "\r130it [01:46,  1.19it/s]"
          ]
        },
        {
          "output_type": "stream",
          "name": "stdout",
          "text": [
            "Batch: 129. Loss: 0.584970\n"
          ]
        },
        {
          "output_type": "stream",
          "name": "stderr",
          "text": [
            "\r131it [01:47,  1.20it/s]"
          ]
        },
        {
          "output_type": "stream",
          "name": "stdout",
          "text": [
            "Batch: 130. Loss: 0.670497\n"
          ]
        },
        {
          "output_type": "stream",
          "name": "stderr",
          "text": [
            "\r132it [01:48,  1.19it/s]"
          ]
        },
        {
          "output_type": "stream",
          "name": "stdout",
          "text": [
            "Batch: 131. Loss: 0.604022\n"
          ]
        },
        {
          "output_type": "stream",
          "name": "stderr",
          "text": [
            "\r133it [01:49,  1.16it/s]"
          ]
        },
        {
          "output_type": "stream",
          "name": "stdout",
          "text": [
            "Batch: 132. Loss: 0.740654\n"
          ]
        },
        {
          "output_type": "stream",
          "name": "stderr",
          "text": [
            "\r134it [01:50,  1.18it/s]"
          ]
        },
        {
          "output_type": "stream",
          "name": "stdout",
          "text": [
            "Batch: 133. Loss: 0.806737\n"
          ]
        },
        {
          "output_type": "stream",
          "name": "stderr",
          "text": [
            "\r135it [01:51,  1.18it/s]"
          ]
        },
        {
          "output_type": "stream",
          "name": "stdout",
          "text": [
            "Batch: 134. Loss: 0.554083\n"
          ]
        },
        {
          "output_type": "stream",
          "name": "stderr",
          "text": [
            "\r136it [01:51,  1.20it/s]"
          ]
        },
        {
          "output_type": "stream",
          "name": "stdout",
          "text": [
            "Batch: 135. Loss: 0.683315\n"
          ]
        },
        {
          "output_type": "stream",
          "name": "stderr",
          "text": [
            "\r137it [01:52,  1.21it/s]"
          ]
        },
        {
          "output_type": "stream",
          "name": "stdout",
          "text": [
            "Batch: 136. Loss: 0.953581\n"
          ]
        },
        {
          "output_type": "stream",
          "name": "stderr",
          "text": [
            "\r138it [01:53,  1.22it/s]"
          ]
        },
        {
          "output_type": "stream",
          "name": "stdout",
          "text": [
            "Batch: 137. Loss: 0.649584\n"
          ]
        },
        {
          "output_type": "stream",
          "name": "stderr",
          "text": [
            "\r139it [01:54,  1.21it/s]"
          ]
        },
        {
          "output_type": "stream",
          "name": "stdout",
          "text": [
            "Batch: 138. Loss: 0.501401\n"
          ]
        },
        {
          "output_type": "stream",
          "name": "stderr",
          "text": [
            "\r140it [01:55,  1.23it/s]"
          ]
        },
        {
          "output_type": "stream",
          "name": "stdout",
          "text": [
            "Batch: 139. Loss: 0.709402\n"
          ]
        },
        {
          "output_type": "stream",
          "name": "stderr",
          "text": [
            "\r141it [01:55,  1.24it/s]"
          ]
        },
        {
          "output_type": "stream",
          "name": "stdout",
          "text": [
            "Batch: 140. Loss: 0.670095\n"
          ]
        },
        {
          "output_type": "stream",
          "name": "stderr",
          "text": [
            "\r142it [01:56,  1.26it/s]"
          ]
        },
        {
          "output_type": "stream",
          "name": "stdout",
          "text": [
            "Batch: 141. Loss: 0.913287\n"
          ]
        },
        {
          "output_type": "stream",
          "name": "stderr",
          "text": [
            "\r143it [01:57,  1.26it/s]"
          ]
        },
        {
          "output_type": "stream",
          "name": "stdout",
          "text": [
            "Batch: 142. Loss: 0.756824\n"
          ]
        },
        {
          "output_type": "stream",
          "name": "stderr",
          "text": [
            "\r144it [01:58,  1.25it/s]"
          ]
        },
        {
          "output_type": "stream",
          "name": "stdout",
          "text": [
            "Batch: 143. Loss: 0.865483\n"
          ]
        },
        {
          "output_type": "stream",
          "name": "stderr",
          "text": [
            "\r145it [01:59,  1.23it/s]"
          ]
        },
        {
          "output_type": "stream",
          "name": "stdout",
          "text": [
            "Batch: 144. Loss: 0.574805\n"
          ]
        },
        {
          "output_type": "stream",
          "name": "stderr",
          "text": [
            "\r146it [01:59,  1.23it/s]"
          ]
        },
        {
          "output_type": "stream",
          "name": "stdout",
          "text": [
            "Batch: 145. Loss: 0.630117\n"
          ]
        },
        {
          "output_type": "stream",
          "name": "stderr",
          "text": [
            "\r147it [02:00,  1.22it/s]"
          ]
        },
        {
          "output_type": "stream",
          "name": "stdout",
          "text": [
            "Batch: 146. Loss: 0.784214\n"
          ]
        },
        {
          "output_type": "stream",
          "name": "stderr",
          "text": [
            "\r148it [02:01,  1.23it/s]"
          ]
        },
        {
          "output_type": "stream",
          "name": "stdout",
          "text": [
            "Batch: 147. Loss: 0.676426\n"
          ]
        },
        {
          "output_type": "stream",
          "name": "stderr",
          "text": [
            "\r149it [02:02,  1.23it/s]"
          ]
        },
        {
          "output_type": "stream",
          "name": "stdout",
          "text": [
            "Batch: 148. Loss: 0.561543\n"
          ]
        },
        {
          "output_type": "stream",
          "name": "stderr",
          "text": [
            "\r150it [02:03,  1.21it/s]"
          ]
        },
        {
          "output_type": "stream",
          "name": "stdout",
          "text": [
            "Batch: 149. Loss: 0.582648\n"
          ]
        },
        {
          "output_type": "stream",
          "name": "stderr",
          "text": [
            "\r151it [02:04,  1.22it/s]"
          ]
        },
        {
          "output_type": "stream",
          "name": "stdout",
          "text": [
            "Batch: 150. Loss: 0.729636\n"
          ]
        },
        {
          "output_type": "stream",
          "name": "stderr",
          "text": [
            "\r152it [02:04,  1.21it/s]"
          ]
        },
        {
          "output_type": "stream",
          "name": "stdout",
          "text": [
            "Batch: 151. Loss: 0.771870\n"
          ]
        },
        {
          "output_type": "stream",
          "name": "stderr",
          "text": [
            "\r153it [02:05,  1.21it/s]"
          ]
        },
        {
          "output_type": "stream",
          "name": "stdout",
          "text": [
            "Batch: 152. Loss: 0.516500\n"
          ]
        },
        {
          "output_type": "stream",
          "name": "stderr",
          "text": [
            "\r154it [02:06,  1.21it/s]"
          ]
        },
        {
          "output_type": "stream",
          "name": "stdout",
          "text": [
            "Batch: 153. Loss: 0.595737\n"
          ]
        },
        {
          "output_type": "stream",
          "name": "stderr",
          "text": [
            "\r155it [02:07,  1.20it/s]"
          ]
        },
        {
          "output_type": "stream",
          "name": "stdout",
          "text": [
            "Batch: 154. Loss: 0.845676\n"
          ]
        },
        {
          "output_type": "stream",
          "name": "stderr",
          "text": [
            "\r156it [02:08,  1.20it/s]"
          ]
        },
        {
          "output_type": "stream",
          "name": "stdout",
          "text": [
            "Batch: 155. Loss: 0.549708\n"
          ]
        },
        {
          "output_type": "stream",
          "name": "stderr",
          "text": [
            "\r157it [02:09,  1.20it/s]"
          ]
        },
        {
          "output_type": "stream",
          "name": "stdout",
          "text": [
            "Batch: 156. Loss: 0.820324\n"
          ]
        },
        {
          "output_type": "stream",
          "name": "stderr",
          "text": [
            "\r158it [02:09,  1.20it/s]"
          ]
        },
        {
          "output_type": "stream",
          "name": "stdout",
          "text": [
            "Batch: 157. Loss: 0.557861\n"
          ]
        },
        {
          "output_type": "stream",
          "name": "stderr",
          "text": [
            "\r159it [02:10,  1.21it/s]"
          ]
        },
        {
          "output_type": "stream",
          "name": "stdout",
          "text": [
            "Batch: 158. Loss: 0.760321\n"
          ]
        },
        {
          "output_type": "stream",
          "name": "stderr",
          "text": [
            "\r160it [02:11,  1.20it/s]"
          ]
        },
        {
          "output_type": "stream",
          "name": "stdout",
          "text": [
            "Batch: 159. Loss: 0.747367\n"
          ]
        },
        {
          "output_type": "stream",
          "name": "stderr",
          "text": [
            "\r161it [02:12,  1.21it/s]"
          ]
        },
        {
          "output_type": "stream",
          "name": "stdout",
          "text": [
            "Batch: 160. Loss: 0.669954\n"
          ]
        },
        {
          "output_type": "stream",
          "name": "stderr",
          "text": [
            "\r162it [02:13,  1.22it/s]"
          ]
        },
        {
          "output_type": "stream",
          "name": "stdout",
          "text": [
            "Batch: 161. Loss: 0.707514\n"
          ]
        },
        {
          "output_type": "stream",
          "name": "stderr",
          "text": [
            "\r163it [02:13,  1.23it/s]"
          ]
        },
        {
          "output_type": "stream",
          "name": "stdout",
          "text": [
            "Batch: 162. Loss: 0.786058\n"
          ]
        },
        {
          "output_type": "stream",
          "name": "stderr",
          "text": [
            "164it [02:14,  1.22it/s]\n"
          ]
        },
        {
          "output_type": "stream",
          "name": "stdout",
          "text": [
            "Batch: 163. Loss: 0.846599\n",
            "Cost at epoch 4 is 0.6562235422614144\n"
          ]
        },
        {
          "output_type": "stream",
          "name": "stderr",
          "text": [
            "1it [00:00,  1.26it/s]"
          ]
        },
        {
          "output_type": "stream",
          "name": "stdout",
          "text": [
            "Batch: 0. Loss: 0.600511\n"
          ]
        },
        {
          "output_type": "stream",
          "name": "stderr",
          "text": [
            "\r2it [00:01,  1.26it/s]"
          ]
        },
        {
          "output_type": "stream",
          "name": "stdout",
          "text": [
            "Batch: 1. Loss: 0.660800\n"
          ]
        },
        {
          "output_type": "stream",
          "name": "stderr",
          "text": [
            "\r3it [00:02,  1.24it/s]"
          ]
        },
        {
          "output_type": "stream",
          "name": "stdout",
          "text": [
            "Batch: 2. Loss: 0.590506\n"
          ]
        },
        {
          "output_type": "stream",
          "name": "stderr",
          "text": [
            "\r4it [00:03,  1.23it/s]"
          ]
        },
        {
          "output_type": "stream",
          "name": "stdout",
          "text": [
            "Batch: 3. Loss: 0.604463\n"
          ]
        },
        {
          "output_type": "stream",
          "name": "stderr",
          "text": [
            "\r5it [00:04,  1.21it/s]"
          ]
        },
        {
          "output_type": "stream",
          "name": "stdout",
          "text": [
            "Batch: 4. Loss: 0.526878\n"
          ]
        },
        {
          "output_type": "stream",
          "name": "stderr",
          "text": [
            "\r6it [00:04,  1.22it/s]"
          ]
        },
        {
          "output_type": "stream",
          "name": "stdout",
          "text": [
            "Batch: 5. Loss: 0.694674\n"
          ]
        },
        {
          "output_type": "stream",
          "name": "stderr",
          "text": [
            "\r7it [00:05,  1.22it/s]"
          ]
        },
        {
          "output_type": "stream",
          "name": "stdout",
          "text": [
            "Batch: 6. Loss: 0.470467\n"
          ]
        },
        {
          "output_type": "stream",
          "name": "stderr",
          "text": [
            "\r8it [00:06,  1.22it/s]"
          ]
        },
        {
          "output_type": "stream",
          "name": "stdout",
          "text": [
            "Batch: 7. Loss: 0.808324\n"
          ]
        },
        {
          "output_type": "stream",
          "name": "stderr",
          "text": [
            "\r9it [00:07,  1.22it/s]"
          ]
        },
        {
          "output_type": "stream",
          "name": "stdout",
          "text": [
            "Batch: 8. Loss: 0.847501\n"
          ]
        },
        {
          "output_type": "stream",
          "name": "stderr",
          "text": [
            "\r10it [00:08,  1.22it/s]"
          ]
        },
        {
          "output_type": "stream",
          "name": "stdout",
          "text": [
            "Batch: 9. Loss: 0.556229\n"
          ]
        },
        {
          "output_type": "stream",
          "name": "stderr",
          "text": [
            "\r11it [00:08,  1.22it/s]"
          ]
        },
        {
          "output_type": "stream",
          "name": "stdout",
          "text": [
            "Batch: 10. Loss: 0.724255\n"
          ]
        },
        {
          "output_type": "stream",
          "name": "stderr",
          "text": [
            "\r12it [00:09,  1.23it/s]"
          ]
        },
        {
          "output_type": "stream",
          "name": "stdout",
          "text": [
            "Batch: 11. Loss: 0.571953\n"
          ]
        },
        {
          "output_type": "stream",
          "name": "stderr",
          "text": [
            "\r13it [00:10,  1.22it/s]"
          ]
        },
        {
          "output_type": "stream",
          "name": "stdout",
          "text": [
            "Batch: 12. Loss: 0.493754\n"
          ]
        },
        {
          "output_type": "stream",
          "name": "stderr",
          "text": [
            "\r14it [00:11,  1.22it/s]"
          ]
        },
        {
          "output_type": "stream",
          "name": "stdout",
          "text": [
            "Batch: 13. Loss: 0.531615\n"
          ]
        },
        {
          "output_type": "stream",
          "name": "stderr",
          "text": [
            "\r15it [00:12,  1.20it/s]"
          ]
        },
        {
          "output_type": "stream",
          "name": "stdout",
          "text": [
            "Batch: 14. Loss: 0.535697\n"
          ]
        },
        {
          "output_type": "stream",
          "name": "stderr",
          "text": [
            "\r16it [00:13,  1.20it/s]"
          ]
        },
        {
          "output_type": "stream",
          "name": "stdout",
          "text": [
            "Batch: 15. Loss: 0.650118\n"
          ]
        },
        {
          "output_type": "stream",
          "name": "stderr",
          "text": [
            "\r17it [00:13,  1.21it/s]"
          ]
        },
        {
          "output_type": "stream",
          "name": "stdout",
          "text": [
            "Batch: 16. Loss: 0.729362\n"
          ]
        },
        {
          "output_type": "stream",
          "name": "stderr",
          "text": [
            "\r18it [00:14,  1.23it/s]"
          ]
        },
        {
          "output_type": "stream",
          "name": "stdout",
          "text": [
            "Batch: 17. Loss: 0.822150\n"
          ]
        },
        {
          "output_type": "stream",
          "name": "stderr",
          "text": [
            "\r19it [00:15,  1.22it/s]"
          ]
        },
        {
          "output_type": "stream",
          "name": "stdout",
          "text": [
            "Batch: 18. Loss: 0.641164\n"
          ]
        },
        {
          "output_type": "stream",
          "name": "stderr",
          "text": [
            "\r20it [00:16,  1.22it/s]"
          ]
        },
        {
          "output_type": "stream",
          "name": "stdout",
          "text": [
            "Batch: 19. Loss: 0.536908\n"
          ]
        },
        {
          "output_type": "stream",
          "name": "stderr",
          "text": [
            "\r21it [00:17,  1.22it/s]"
          ]
        },
        {
          "output_type": "stream",
          "name": "stdout",
          "text": [
            "Batch: 20. Loss: 0.750826\n"
          ]
        },
        {
          "output_type": "stream",
          "name": "stderr",
          "text": [
            "\r22it [00:18,  1.22it/s]"
          ]
        },
        {
          "output_type": "stream",
          "name": "stdout",
          "text": [
            "Batch: 21. Loss: 0.694397\n"
          ]
        },
        {
          "output_type": "stream",
          "name": "stderr",
          "text": [
            "\r23it [00:18,  1.23it/s]"
          ]
        },
        {
          "output_type": "stream",
          "name": "stdout",
          "text": [
            "Batch: 22. Loss: 0.566435\n"
          ]
        },
        {
          "output_type": "stream",
          "name": "stderr",
          "text": [
            "\r24it [00:19,  1.21it/s]"
          ]
        },
        {
          "output_type": "stream",
          "name": "stdout",
          "text": [
            "Batch: 23. Loss: 0.689400\n"
          ]
        },
        {
          "output_type": "stream",
          "name": "stderr",
          "text": [
            "\r25it [00:20,  1.22it/s]"
          ]
        },
        {
          "output_type": "stream",
          "name": "stdout",
          "text": [
            "Batch: 24. Loss: 0.656263\n"
          ]
        },
        {
          "output_type": "stream",
          "name": "stderr",
          "text": [
            "\r26it [00:21,  1.20it/s]"
          ]
        },
        {
          "output_type": "stream",
          "name": "stdout",
          "text": [
            "Batch: 25. Loss: 0.599191\n"
          ]
        },
        {
          "output_type": "stream",
          "name": "stderr",
          "text": [
            "\r27it [00:22,  1.22it/s]"
          ]
        },
        {
          "output_type": "stream",
          "name": "stdout",
          "text": [
            "Batch: 26. Loss: 0.610260\n"
          ]
        },
        {
          "output_type": "stream",
          "name": "stderr",
          "text": [
            "\r28it [00:22,  1.21it/s]"
          ]
        },
        {
          "output_type": "stream",
          "name": "stdout",
          "text": [
            "Batch: 27. Loss: 0.482218\n"
          ]
        },
        {
          "output_type": "stream",
          "name": "stderr",
          "text": [
            "\r29it [00:23,  1.20it/s]"
          ]
        },
        {
          "output_type": "stream",
          "name": "stdout",
          "text": [
            "Batch: 28. Loss: 0.563894\n"
          ]
        },
        {
          "output_type": "stream",
          "name": "stderr",
          "text": [
            "\r30it [00:24,  1.19it/s]"
          ]
        },
        {
          "output_type": "stream",
          "name": "stdout",
          "text": [
            "Batch: 29. Loss: 0.566016\n"
          ]
        },
        {
          "output_type": "stream",
          "name": "stderr",
          "text": [
            "\r31it [00:25,  1.20it/s]"
          ]
        },
        {
          "output_type": "stream",
          "name": "stdout",
          "text": [
            "Batch: 30. Loss: 0.594458\n"
          ]
        },
        {
          "output_type": "stream",
          "name": "stderr",
          "text": [
            "\r32it [00:26,  1.21it/s]"
          ]
        },
        {
          "output_type": "stream",
          "name": "stdout",
          "text": [
            "Batch: 31. Loss: 0.765095\n"
          ]
        },
        {
          "output_type": "stream",
          "name": "stderr",
          "text": [
            "\r33it [00:27,  1.20it/s]"
          ]
        },
        {
          "output_type": "stream",
          "name": "stdout",
          "text": [
            "Batch: 32. Loss: 0.456682\n"
          ]
        },
        {
          "output_type": "stream",
          "name": "stderr",
          "text": [
            "\r34it [00:27,  1.20it/s]"
          ]
        },
        {
          "output_type": "stream",
          "name": "stdout",
          "text": [
            "Batch: 33. Loss: 0.644626\n"
          ]
        },
        {
          "output_type": "stream",
          "name": "stderr",
          "text": [
            "\r35it [00:28,  1.22it/s]"
          ]
        },
        {
          "output_type": "stream",
          "name": "stdout",
          "text": [
            "Batch: 34. Loss: 0.560233\n"
          ]
        },
        {
          "output_type": "stream",
          "name": "stderr",
          "text": [
            "\r36it [00:29,  1.22it/s]"
          ]
        },
        {
          "output_type": "stream",
          "name": "stdout",
          "text": [
            "Batch: 35. Loss: 0.462387\n"
          ]
        },
        {
          "output_type": "stream",
          "name": "stderr",
          "text": [
            "\r37it [00:30,  1.22it/s]"
          ]
        },
        {
          "output_type": "stream",
          "name": "stdout",
          "text": [
            "Batch: 36. Loss: 0.497939\n"
          ]
        },
        {
          "output_type": "stream",
          "name": "stderr",
          "text": [
            "\r38it [00:31,  1.22it/s]"
          ]
        },
        {
          "output_type": "stream",
          "name": "stdout",
          "text": [
            "Batch: 37. Loss: 0.549977\n"
          ]
        },
        {
          "output_type": "stream",
          "name": "stderr",
          "text": [
            "\r39it [00:32,  1.20it/s]"
          ]
        },
        {
          "output_type": "stream",
          "name": "stdout",
          "text": [
            "Batch: 38. Loss: 0.347186\n"
          ]
        },
        {
          "output_type": "stream",
          "name": "stderr",
          "text": [
            "\r40it [00:32,  1.20it/s]"
          ]
        },
        {
          "output_type": "stream",
          "name": "stdout",
          "text": [
            "Batch: 39. Loss: 0.525430\n"
          ]
        },
        {
          "output_type": "stream",
          "name": "stderr",
          "text": [
            "\r41it [00:33,  1.21it/s]"
          ]
        },
        {
          "output_type": "stream",
          "name": "stdout",
          "text": [
            "Batch: 40. Loss: 0.404798\n"
          ]
        },
        {
          "output_type": "stream",
          "name": "stderr",
          "text": [
            "\r42it [00:34,  1.21it/s]"
          ]
        },
        {
          "output_type": "stream",
          "name": "stdout",
          "text": [
            "Batch: 41. Loss: 0.648123\n"
          ]
        },
        {
          "output_type": "stream",
          "name": "stderr",
          "text": [
            "\r43it [00:35,  1.20it/s]"
          ]
        },
        {
          "output_type": "stream",
          "name": "stdout",
          "text": [
            "Batch: 42. Loss: 0.764053\n"
          ]
        },
        {
          "output_type": "stream",
          "name": "stderr",
          "text": [
            "\r44it [00:36,  1.21it/s]"
          ]
        },
        {
          "output_type": "stream",
          "name": "stdout",
          "text": [
            "Batch: 43. Loss: 0.620477\n"
          ]
        },
        {
          "output_type": "stream",
          "name": "stderr",
          "text": [
            "\r45it [00:37,  1.21it/s]"
          ]
        },
        {
          "output_type": "stream",
          "name": "stdout",
          "text": [
            "Batch: 44. Loss: 0.315524\n"
          ]
        },
        {
          "output_type": "stream",
          "name": "stderr",
          "text": [
            "\r46it [00:37,  1.22it/s]"
          ]
        },
        {
          "output_type": "stream",
          "name": "stdout",
          "text": [
            "Batch: 45. Loss: 0.492605\n"
          ]
        },
        {
          "output_type": "stream",
          "name": "stderr",
          "text": [
            "\r47it [00:38,  1.21it/s]"
          ]
        },
        {
          "output_type": "stream",
          "name": "stdout",
          "text": [
            "Batch: 46. Loss: 0.558417\n"
          ]
        },
        {
          "output_type": "stream",
          "name": "stderr",
          "text": [
            "\r48it [00:39,  1.21it/s]"
          ]
        },
        {
          "output_type": "stream",
          "name": "stdout",
          "text": [
            "Batch: 47. Loss: 0.634415\n"
          ]
        },
        {
          "output_type": "stream",
          "name": "stderr",
          "text": [
            "\r49it [00:40,  1.22it/s]"
          ]
        },
        {
          "output_type": "stream",
          "name": "stdout",
          "text": [
            "Batch: 48. Loss: 0.413692\n"
          ]
        },
        {
          "output_type": "stream",
          "name": "stderr",
          "text": [
            "\r50it [00:41,  1.21it/s]"
          ]
        },
        {
          "output_type": "stream",
          "name": "stdout",
          "text": [
            "Batch: 49. Loss: 0.682003\n"
          ]
        },
        {
          "output_type": "stream",
          "name": "stderr",
          "text": [
            "\r51it [00:41,  1.23it/s]"
          ]
        },
        {
          "output_type": "stream",
          "name": "stdout",
          "text": [
            "Batch: 50. Loss: 0.384878\n"
          ]
        },
        {
          "output_type": "stream",
          "name": "stderr",
          "text": [
            "\r52it [00:42,  1.21it/s]"
          ]
        },
        {
          "output_type": "stream",
          "name": "stdout",
          "text": [
            "Batch: 51. Loss: 0.549365\n"
          ]
        },
        {
          "output_type": "stream",
          "name": "stderr",
          "text": [
            "\r53it [00:43,  1.21it/s]"
          ]
        },
        {
          "output_type": "stream",
          "name": "stdout",
          "text": [
            "Batch: 52. Loss: 0.700241\n"
          ]
        },
        {
          "output_type": "stream",
          "name": "stderr",
          "text": [
            "\r54it [00:44,  1.21it/s]"
          ]
        },
        {
          "output_type": "stream",
          "name": "stdout",
          "text": [
            "Batch: 53. Loss: 0.604717\n"
          ]
        },
        {
          "output_type": "stream",
          "name": "stderr",
          "text": [
            "\r55it [00:45,  1.21it/s]"
          ]
        },
        {
          "output_type": "stream",
          "name": "stdout",
          "text": [
            "Batch: 54. Loss: 0.641511\n"
          ]
        },
        {
          "output_type": "stream",
          "name": "stderr",
          "text": [
            "\r56it [00:46,  1.23it/s]"
          ]
        },
        {
          "output_type": "stream",
          "name": "stdout",
          "text": [
            "Batch: 55. Loss: 0.492304\n"
          ]
        },
        {
          "output_type": "stream",
          "name": "stderr",
          "text": [
            "\r57it [00:46,  1.23it/s]"
          ]
        },
        {
          "output_type": "stream",
          "name": "stdout",
          "text": [
            "Batch: 56. Loss: 0.448350\n"
          ]
        },
        {
          "output_type": "stream",
          "name": "stderr",
          "text": [
            "\r58it [00:47,  1.24it/s]"
          ]
        },
        {
          "output_type": "stream",
          "name": "stdout",
          "text": [
            "Batch: 57. Loss: 0.541911\n"
          ]
        },
        {
          "output_type": "stream",
          "name": "stderr",
          "text": [
            "\r59it [00:48,  1.24it/s]"
          ]
        },
        {
          "output_type": "stream",
          "name": "stdout",
          "text": [
            "Batch: 58. Loss: 0.973865\n"
          ]
        },
        {
          "output_type": "stream",
          "name": "stderr",
          "text": [
            "\r60it [00:49,  1.24it/s]"
          ]
        },
        {
          "output_type": "stream",
          "name": "stdout",
          "text": [
            "Batch: 59. Loss: 0.500197\n"
          ]
        },
        {
          "output_type": "stream",
          "name": "stderr",
          "text": [
            "\r61it [00:50,  1.22it/s]"
          ]
        },
        {
          "output_type": "stream",
          "name": "stdout",
          "text": [
            "Batch: 60. Loss: 0.650056\n"
          ]
        },
        {
          "output_type": "stream",
          "name": "stderr",
          "text": [
            "\r62it [00:50,  1.22it/s]"
          ]
        },
        {
          "output_type": "stream",
          "name": "stdout",
          "text": [
            "Batch: 61. Loss: 0.727382\n"
          ]
        },
        {
          "output_type": "stream",
          "name": "stderr",
          "text": [
            "\r63it [00:51,  1.21it/s]"
          ]
        },
        {
          "output_type": "stream",
          "name": "stdout",
          "text": [
            "Batch: 62. Loss: 0.671572\n"
          ]
        },
        {
          "output_type": "stream",
          "name": "stderr",
          "text": [
            "\r64it [00:52,  1.20it/s]"
          ]
        },
        {
          "output_type": "stream",
          "name": "stdout",
          "text": [
            "Batch: 63. Loss: 0.459667\n"
          ]
        },
        {
          "output_type": "stream",
          "name": "stderr",
          "text": [
            "\r65it [00:53,  1.19it/s]"
          ]
        },
        {
          "output_type": "stream",
          "name": "stdout",
          "text": [
            "Batch: 64. Loss: 0.547586\n"
          ]
        },
        {
          "output_type": "stream",
          "name": "stderr",
          "text": [
            "\r66it [00:54,  1.19it/s]"
          ]
        },
        {
          "output_type": "stream",
          "name": "stdout",
          "text": [
            "Batch: 65. Loss: 0.596418\n"
          ]
        },
        {
          "output_type": "stream",
          "name": "stderr",
          "text": [
            "\r67it [00:55,  1.20it/s]"
          ]
        },
        {
          "output_type": "stream",
          "name": "stdout",
          "text": [
            "Batch: 66. Loss: 0.517895\n"
          ]
        },
        {
          "output_type": "stream",
          "name": "stderr",
          "text": [
            "\r68it [00:55,  1.20it/s]"
          ]
        },
        {
          "output_type": "stream",
          "name": "stdout",
          "text": [
            "Batch: 67. Loss: 0.727920\n"
          ]
        },
        {
          "output_type": "stream",
          "name": "stderr",
          "text": [
            "\r69it [00:56,  1.21it/s]"
          ]
        },
        {
          "output_type": "stream",
          "name": "stdout",
          "text": [
            "Batch: 68. Loss: 0.421958\n"
          ]
        },
        {
          "output_type": "stream",
          "name": "stderr",
          "text": [
            "\r70it [00:57,  1.21it/s]"
          ]
        },
        {
          "output_type": "stream",
          "name": "stdout",
          "text": [
            "Batch: 69. Loss: 0.506439\n"
          ]
        },
        {
          "output_type": "stream",
          "name": "stderr",
          "text": [
            "\r71it [00:58,  1.21it/s]"
          ]
        },
        {
          "output_type": "stream",
          "name": "stdout",
          "text": [
            "Batch: 70. Loss: 0.531668\n"
          ]
        },
        {
          "output_type": "stream",
          "name": "stderr",
          "text": [
            "\r72it [00:59,  1.22it/s]"
          ]
        },
        {
          "output_type": "stream",
          "name": "stdout",
          "text": [
            "Batch: 71. Loss: 0.543057\n"
          ]
        },
        {
          "output_type": "stream",
          "name": "stderr",
          "text": [
            "\r73it [01:00,  1.22it/s]"
          ]
        },
        {
          "output_type": "stream",
          "name": "stdout",
          "text": [
            "Batch: 72. Loss: 0.833863\n"
          ]
        },
        {
          "output_type": "stream",
          "name": "stderr",
          "text": [
            "\r74it [01:00,  1.23it/s]"
          ]
        },
        {
          "output_type": "stream",
          "name": "stdout",
          "text": [
            "Batch: 73. Loss: 0.551109\n"
          ]
        },
        {
          "output_type": "stream",
          "name": "stderr",
          "text": [
            "\r75it [01:01,  1.23it/s]"
          ]
        },
        {
          "output_type": "stream",
          "name": "stdout",
          "text": [
            "Batch: 74. Loss: 0.645779\n"
          ]
        },
        {
          "output_type": "stream",
          "name": "stderr",
          "text": [
            "\r76it [01:02,  1.23it/s]"
          ]
        },
        {
          "output_type": "stream",
          "name": "stdout",
          "text": [
            "Batch: 75. Loss: 0.909820\n"
          ]
        },
        {
          "output_type": "stream",
          "name": "stderr",
          "text": [
            "\r77it [01:03,  1.22it/s]"
          ]
        },
        {
          "output_type": "stream",
          "name": "stdout",
          "text": [
            "Batch: 76. Loss: 0.611851\n"
          ]
        },
        {
          "output_type": "stream",
          "name": "stderr",
          "text": [
            "\r78it [01:04,  1.22it/s]"
          ]
        },
        {
          "output_type": "stream",
          "name": "stdout",
          "text": [
            "Batch: 77. Loss: 0.569009\n"
          ]
        },
        {
          "output_type": "stream",
          "name": "stderr",
          "text": [
            "\r79it [01:04,  1.22it/s]"
          ]
        },
        {
          "output_type": "stream",
          "name": "stdout",
          "text": [
            "Batch: 78. Loss: 0.698737\n"
          ]
        },
        {
          "output_type": "stream",
          "name": "stderr",
          "text": [
            "\r80it [01:05,  1.21it/s]"
          ]
        },
        {
          "output_type": "stream",
          "name": "stdout",
          "text": [
            "Batch: 79. Loss: 0.579152\n"
          ]
        },
        {
          "output_type": "stream",
          "name": "stderr",
          "text": [
            "\r81it [01:06,  1.21it/s]"
          ]
        },
        {
          "output_type": "stream",
          "name": "stdout",
          "text": [
            "Batch: 80. Loss: 0.437321\n"
          ]
        },
        {
          "output_type": "stream",
          "name": "stderr",
          "text": [
            "\r82it [01:07,  1.21it/s]"
          ]
        },
        {
          "output_type": "stream",
          "name": "stdout",
          "text": [
            "Batch: 81. Loss: 0.651912\n"
          ]
        },
        {
          "output_type": "stream",
          "name": "stderr",
          "text": [
            "\r83it [01:08,  1.20it/s]"
          ]
        },
        {
          "output_type": "stream",
          "name": "stdout",
          "text": [
            "Batch: 82. Loss: 0.631481\n"
          ]
        },
        {
          "output_type": "stream",
          "name": "stderr",
          "text": [
            "\r84it [01:09,  1.22it/s]"
          ]
        },
        {
          "output_type": "stream",
          "name": "stdout",
          "text": [
            "Batch: 83. Loss: 0.602669\n"
          ]
        },
        {
          "output_type": "stream",
          "name": "stderr",
          "text": [
            "\r85it [01:09,  1.23it/s]"
          ]
        },
        {
          "output_type": "stream",
          "name": "stdout",
          "text": [
            "Batch: 84. Loss: 0.643848\n"
          ]
        },
        {
          "output_type": "stream",
          "name": "stderr",
          "text": [
            "\r86it [01:10,  1.23it/s]"
          ]
        },
        {
          "output_type": "stream",
          "name": "stdout",
          "text": [
            "Batch: 85. Loss: 0.417359\n"
          ]
        },
        {
          "output_type": "stream",
          "name": "stderr",
          "text": [
            "\r87it [01:11,  1.23it/s]"
          ]
        },
        {
          "output_type": "stream",
          "name": "stdout",
          "text": [
            "Batch: 86. Loss: 0.598647\n"
          ]
        },
        {
          "output_type": "stream",
          "name": "stderr",
          "text": [
            "\r88it [01:12,  1.23it/s]"
          ]
        },
        {
          "output_type": "stream",
          "name": "stdout",
          "text": [
            "Batch: 87. Loss: 0.432011\n"
          ]
        },
        {
          "output_type": "stream",
          "name": "stderr",
          "text": [
            "\r89it [01:13,  1.22it/s]"
          ]
        },
        {
          "output_type": "stream",
          "name": "stdout",
          "text": [
            "Batch: 88. Loss: 0.683897\n"
          ]
        },
        {
          "output_type": "stream",
          "name": "stderr",
          "text": [
            "\r90it [01:13,  1.25it/s]"
          ]
        },
        {
          "output_type": "stream",
          "name": "stdout",
          "text": [
            "Batch: 89. Loss: 0.567523\n"
          ]
        },
        {
          "output_type": "stream",
          "name": "stderr",
          "text": [
            "\r91it [01:14,  1.25it/s]"
          ]
        },
        {
          "output_type": "stream",
          "name": "stdout",
          "text": [
            "Batch: 90. Loss: 0.844795\n"
          ]
        },
        {
          "output_type": "stream",
          "name": "stderr",
          "text": [
            "\r92it [01:15,  1.25it/s]"
          ]
        },
        {
          "output_type": "stream",
          "name": "stdout",
          "text": [
            "Batch: 91. Loss: 0.649798\n"
          ]
        },
        {
          "output_type": "stream",
          "name": "stderr",
          "text": [
            "\r93it [01:16,  1.21it/s]"
          ]
        },
        {
          "output_type": "stream",
          "name": "stdout",
          "text": [
            "Batch: 92. Loss: 0.383892\n"
          ]
        },
        {
          "output_type": "stream",
          "name": "stderr",
          "text": [
            "\r94it [01:17,  1.22it/s]"
          ]
        },
        {
          "output_type": "stream",
          "name": "stdout",
          "text": [
            "Batch: 93. Loss: 0.538242\n"
          ]
        },
        {
          "output_type": "stream",
          "name": "stderr",
          "text": [
            "\r95it [01:18,  1.22it/s]"
          ]
        },
        {
          "output_type": "stream",
          "name": "stdout",
          "text": [
            "Batch: 94. Loss: 0.574112\n"
          ]
        },
        {
          "output_type": "stream",
          "name": "stderr",
          "text": [
            "\r96it [01:18,  1.23it/s]"
          ]
        },
        {
          "output_type": "stream",
          "name": "stdout",
          "text": [
            "Batch: 95. Loss: 0.527688\n"
          ]
        },
        {
          "output_type": "stream",
          "name": "stderr",
          "text": [
            "\r97it [01:19,  1.23it/s]"
          ]
        },
        {
          "output_type": "stream",
          "name": "stdout",
          "text": [
            "Batch: 96. Loss: 0.552731\n"
          ]
        },
        {
          "output_type": "stream",
          "name": "stderr",
          "text": [
            "\r98it [01:20,  1.23it/s]"
          ]
        },
        {
          "output_type": "stream",
          "name": "stdout",
          "text": [
            "Batch: 97. Loss: 0.584237\n"
          ]
        },
        {
          "output_type": "stream",
          "name": "stderr",
          "text": [
            "\r99it [01:21,  1.21it/s]"
          ]
        },
        {
          "output_type": "stream",
          "name": "stdout",
          "text": [
            "Batch: 98. Loss: 0.543411\n"
          ]
        },
        {
          "output_type": "stream",
          "name": "stderr",
          "text": [
            "\r100it [01:22,  1.23it/s]"
          ]
        },
        {
          "output_type": "stream",
          "name": "stdout",
          "text": [
            "Batch: 99. Loss: 0.645454\n"
          ]
        },
        {
          "output_type": "stream",
          "name": "stderr",
          "text": [
            "\r101it [01:22,  1.24it/s]"
          ]
        },
        {
          "output_type": "stream",
          "name": "stdout",
          "text": [
            "Batch: 100. Loss: 0.586050\n"
          ]
        },
        {
          "output_type": "stream",
          "name": "stderr",
          "text": [
            "\r102it [01:23,  1.22it/s]"
          ]
        },
        {
          "output_type": "stream",
          "name": "stdout",
          "text": [
            "Batch: 101. Loss: 0.515823\n"
          ]
        },
        {
          "output_type": "stream",
          "name": "stderr",
          "text": [
            "\r103it [01:24,  1.20it/s]"
          ]
        },
        {
          "output_type": "stream",
          "name": "stdout",
          "text": [
            "Batch: 102. Loss: 0.537647\n"
          ]
        },
        {
          "output_type": "stream",
          "name": "stderr",
          "text": [
            "\r104it [01:25,  1.21it/s]"
          ]
        },
        {
          "output_type": "stream",
          "name": "stdout",
          "text": [
            "Batch: 103. Loss: 0.596440\n"
          ]
        },
        {
          "output_type": "stream",
          "name": "stderr",
          "text": [
            "\r105it [01:26,  1.23it/s]"
          ]
        },
        {
          "output_type": "stream",
          "name": "stdout",
          "text": [
            "Batch: 104. Loss: 0.472245\n"
          ]
        },
        {
          "output_type": "stream",
          "name": "stderr",
          "text": [
            "\r106it [01:27,  1.22it/s]"
          ]
        },
        {
          "output_type": "stream",
          "name": "stdout",
          "text": [
            "Batch: 105. Loss: 0.515541\n"
          ]
        },
        {
          "output_type": "stream",
          "name": "stderr",
          "text": [
            "\r107it [01:27,  1.22it/s]"
          ]
        },
        {
          "output_type": "stream",
          "name": "stdout",
          "text": [
            "Batch: 106. Loss: 0.315267\n"
          ]
        },
        {
          "output_type": "stream",
          "name": "stderr",
          "text": [
            "\r108it [01:28,  1.21it/s]"
          ]
        },
        {
          "output_type": "stream",
          "name": "stdout",
          "text": [
            "Batch: 107. Loss: 0.456874\n"
          ]
        },
        {
          "output_type": "stream",
          "name": "stderr",
          "text": [
            "\r109it [01:29,  1.21it/s]"
          ]
        },
        {
          "output_type": "stream",
          "name": "stdout",
          "text": [
            "Batch: 108. Loss: 0.538227\n"
          ]
        },
        {
          "output_type": "stream",
          "name": "stderr",
          "text": [
            "\r110it [01:30,  1.21it/s]"
          ]
        },
        {
          "output_type": "stream",
          "name": "stdout",
          "text": [
            "Batch: 109. Loss: 0.651024\n"
          ]
        },
        {
          "output_type": "stream",
          "name": "stderr",
          "text": [
            "\r111it [01:31,  1.21it/s]"
          ]
        },
        {
          "output_type": "stream",
          "name": "stdout",
          "text": [
            "Batch: 110. Loss: 0.495195\n"
          ]
        },
        {
          "output_type": "stream",
          "name": "stderr",
          "text": [
            "\r112it [01:32,  1.21it/s]"
          ]
        },
        {
          "output_type": "stream",
          "name": "stdout",
          "text": [
            "Batch: 111. Loss: 0.656756\n"
          ]
        },
        {
          "output_type": "stream",
          "name": "stderr",
          "text": [
            "\r113it [01:32,  1.22it/s]"
          ]
        },
        {
          "output_type": "stream",
          "name": "stdout",
          "text": [
            "Batch: 112. Loss: 0.544560\n"
          ]
        },
        {
          "output_type": "stream",
          "name": "stderr",
          "text": [
            "\r114it [01:33,  1.22it/s]"
          ]
        },
        {
          "output_type": "stream",
          "name": "stdout",
          "text": [
            "Batch: 113. Loss: 0.484548\n"
          ]
        },
        {
          "output_type": "stream",
          "name": "stderr",
          "text": [
            "\r115it [01:34,  1.22it/s]"
          ]
        },
        {
          "output_type": "stream",
          "name": "stdout",
          "text": [
            "Batch: 114. Loss: 0.467954\n"
          ]
        },
        {
          "output_type": "stream",
          "name": "stderr",
          "text": [
            "\r116it [01:35,  1.24it/s]"
          ]
        },
        {
          "output_type": "stream",
          "name": "stdout",
          "text": [
            "Batch: 115. Loss: 0.513251\n"
          ]
        },
        {
          "output_type": "stream",
          "name": "stderr",
          "text": [
            "\r117it [01:36,  1.24it/s]"
          ]
        },
        {
          "output_type": "stream",
          "name": "stdout",
          "text": [
            "Batch: 116. Loss: 0.629032\n"
          ]
        },
        {
          "output_type": "stream",
          "name": "stderr",
          "text": [
            "\r118it [01:36,  1.22it/s]"
          ]
        },
        {
          "output_type": "stream",
          "name": "stdout",
          "text": [
            "Batch: 117. Loss: 0.505872\n"
          ]
        },
        {
          "output_type": "stream",
          "name": "stderr",
          "text": [
            "\r119it [01:37,  1.22it/s]"
          ]
        },
        {
          "output_type": "stream",
          "name": "stdout",
          "text": [
            "Batch: 118. Loss: 0.583486\n"
          ]
        },
        {
          "output_type": "stream",
          "name": "stderr",
          "text": [
            "\r120it [01:38,  1.19it/s]"
          ]
        },
        {
          "output_type": "stream",
          "name": "stdout",
          "text": [
            "Batch: 119. Loss: 0.695242\n"
          ]
        },
        {
          "output_type": "stream",
          "name": "stderr",
          "text": [
            "\r121it [01:39,  1.21it/s]"
          ]
        },
        {
          "output_type": "stream",
          "name": "stdout",
          "text": [
            "Batch: 120. Loss: 0.547219\n"
          ]
        },
        {
          "output_type": "stream",
          "name": "stderr",
          "text": [
            "\r122it [01:40,  1.21it/s]"
          ]
        },
        {
          "output_type": "stream",
          "name": "stdout",
          "text": [
            "Batch: 121. Loss: 0.495050\n"
          ]
        },
        {
          "output_type": "stream",
          "name": "stderr",
          "text": [
            "\r123it [01:41,  1.22it/s]"
          ]
        },
        {
          "output_type": "stream",
          "name": "stdout",
          "text": [
            "Batch: 122. Loss: 0.330016\n"
          ]
        },
        {
          "output_type": "stream",
          "name": "stderr",
          "text": [
            "\r124it [01:41,  1.22it/s]"
          ]
        },
        {
          "output_type": "stream",
          "name": "stdout",
          "text": [
            "Batch: 123. Loss: 0.499961\n"
          ]
        },
        {
          "output_type": "stream",
          "name": "stderr",
          "text": [
            "\r125it [01:42,  1.22it/s]"
          ]
        },
        {
          "output_type": "stream",
          "name": "stdout",
          "text": [
            "Batch: 124. Loss: 0.686523\n"
          ]
        },
        {
          "output_type": "stream",
          "name": "stderr",
          "text": [
            "\r126it [01:43,  1.22it/s]"
          ]
        },
        {
          "output_type": "stream",
          "name": "stdout",
          "text": [
            "Batch: 125. Loss: 0.493679\n"
          ]
        },
        {
          "output_type": "stream",
          "name": "stderr",
          "text": [
            "\r127it [01:44,  1.21it/s]"
          ]
        },
        {
          "output_type": "stream",
          "name": "stdout",
          "text": [
            "Batch: 126. Loss: 0.564781\n"
          ]
        },
        {
          "output_type": "stream",
          "name": "stderr",
          "text": [
            "\r128it [01:45,  1.22it/s]"
          ]
        },
        {
          "output_type": "stream",
          "name": "stdout",
          "text": [
            "Batch: 127. Loss: 0.444162\n"
          ]
        },
        {
          "output_type": "stream",
          "name": "stderr",
          "text": [
            "\r129it [01:45,  1.21it/s]"
          ]
        },
        {
          "output_type": "stream",
          "name": "stdout",
          "text": [
            "Batch: 128. Loss: 0.420692\n"
          ]
        },
        {
          "output_type": "stream",
          "name": "stderr",
          "text": [
            "\r130it [01:46,  1.20it/s]"
          ]
        },
        {
          "output_type": "stream",
          "name": "stdout",
          "text": [
            "Batch: 129. Loss: 0.654737\n"
          ]
        },
        {
          "output_type": "stream",
          "name": "stderr",
          "text": [
            "\r131it [01:47,  1.20it/s]"
          ]
        },
        {
          "output_type": "stream",
          "name": "stdout",
          "text": [
            "Batch: 130. Loss: 0.639659\n"
          ]
        },
        {
          "output_type": "stream",
          "name": "stderr",
          "text": [
            "\r132it [01:48,  1.20it/s]"
          ]
        },
        {
          "output_type": "stream",
          "name": "stdout",
          "text": [
            "Batch: 131. Loss: 0.643462\n"
          ]
        },
        {
          "output_type": "stream",
          "name": "stderr",
          "text": [
            "\r133it [01:49,  1.21it/s]"
          ]
        },
        {
          "output_type": "stream",
          "name": "stdout",
          "text": [
            "Batch: 132. Loss: 0.830723\n"
          ]
        },
        {
          "output_type": "stream",
          "name": "stderr",
          "text": [
            "\r134it [01:50,  1.20it/s]"
          ]
        },
        {
          "output_type": "stream",
          "name": "stdout",
          "text": [
            "Batch: 133. Loss: 0.626891\n"
          ]
        },
        {
          "output_type": "stream",
          "name": "stderr",
          "text": [
            "\r135it [01:50,  1.21it/s]"
          ]
        },
        {
          "output_type": "stream",
          "name": "stdout",
          "text": [
            "Batch: 134. Loss: 0.527312\n"
          ]
        },
        {
          "output_type": "stream",
          "name": "stderr",
          "text": [
            "\r136it [01:51,  1.19it/s]"
          ]
        },
        {
          "output_type": "stream",
          "name": "stdout",
          "text": [
            "Batch: 135. Loss: 0.360231\n"
          ]
        },
        {
          "output_type": "stream",
          "name": "stderr",
          "text": [
            "\r137it [01:52,  1.21it/s]"
          ]
        },
        {
          "output_type": "stream",
          "name": "stdout",
          "text": [
            "Batch: 136. Loss: 0.598284\n"
          ]
        },
        {
          "output_type": "stream",
          "name": "stderr",
          "text": [
            "\r138it [01:53,  1.21it/s]"
          ]
        },
        {
          "output_type": "stream",
          "name": "stdout",
          "text": [
            "Batch: 137. Loss: 0.453785\n"
          ]
        },
        {
          "output_type": "stream",
          "name": "stderr",
          "text": [
            "\r139it [01:54,  1.23it/s]"
          ]
        },
        {
          "output_type": "stream",
          "name": "stdout",
          "text": [
            "Batch: 138. Loss: 0.689991\n"
          ]
        },
        {
          "output_type": "stream",
          "name": "stderr",
          "text": [
            "\r140it [01:55,  1.23it/s]"
          ]
        },
        {
          "output_type": "stream",
          "name": "stdout",
          "text": [
            "Batch: 139. Loss: 0.562530\n"
          ]
        },
        {
          "output_type": "stream",
          "name": "stderr",
          "text": [
            "\r141it [01:55,  1.21it/s]"
          ]
        },
        {
          "output_type": "stream",
          "name": "stdout",
          "text": [
            "Batch: 140. Loss: 0.462392\n"
          ]
        },
        {
          "output_type": "stream",
          "name": "stderr",
          "text": [
            "\r142it [01:56,  1.21it/s]"
          ]
        },
        {
          "output_type": "stream",
          "name": "stdout",
          "text": [
            "Batch: 141. Loss: 0.663295\n"
          ]
        },
        {
          "output_type": "stream",
          "name": "stderr",
          "text": [
            "\r143it [01:57,  1.20it/s]"
          ]
        },
        {
          "output_type": "stream",
          "name": "stdout",
          "text": [
            "Batch: 142. Loss: 0.604823\n"
          ]
        },
        {
          "output_type": "stream",
          "name": "stderr",
          "text": [
            "\r144it [01:58,  1.21it/s]"
          ]
        },
        {
          "output_type": "stream",
          "name": "stdout",
          "text": [
            "Batch: 143. Loss: 0.584955\n"
          ]
        },
        {
          "output_type": "stream",
          "name": "stderr",
          "text": [
            "\r145it [01:59,  1.21it/s]"
          ]
        },
        {
          "output_type": "stream",
          "name": "stdout",
          "text": [
            "Batch: 144. Loss: 0.572267\n"
          ]
        },
        {
          "output_type": "stream",
          "name": "stderr",
          "text": [
            "\r146it [02:00,  1.20it/s]"
          ]
        },
        {
          "output_type": "stream",
          "name": "stdout",
          "text": [
            "Batch: 145. Loss: 0.692765\n"
          ]
        },
        {
          "output_type": "stream",
          "name": "stderr",
          "text": [
            "\r147it [02:00,  1.22it/s]"
          ]
        },
        {
          "output_type": "stream",
          "name": "stdout",
          "text": [
            "Batch: 146. Loss: 0.567282\n"
          ]
        },
        {
          "output_type": "stream",
          "name": "stderr",
          "text": [
            "\r148it [02:01,  1.23it/s]"
          ]
        },
        {
          "output_type": "stream",
          "name": "stdout",
          "text": [
            "Batch: 147. Loss: 0.566371\n"
          ]
        },
        {
          "output_type": "stream",
          "name": "stderr",
          "text": [
            "\r149it [02:02,  1.23it/s]"
          ]
        },
        {
          "output_type": "stream",
          "name": "stdout",
          "text": [
            "Batch: 148. Loss: 0.656514\n"
          ]
        },
        {
          "output_type": "stream",
          "name": "stderr",
          "text": [
            "\r150it [02:03,  1.22it/s]"
          ]
        },
        {
          "output_type": "stream",
          "name": "stdout",
          "text": [
            "Batch: 149. Loss: 0.556254\n"
          ]
        },
        {
          "output_type": "stream",
          "name": "stderr",
          "text": [
            "\r151it [02:04,  1.22it/s]"
          ]
        },
        {
          "output_type": "stream",
          "name": "stdout",
          "text": [
            "Batch: 150. Loss: 0.504249\n"
          ]
        },
        {
          "output_type": "stream",
          "name": "stderr",
          "text": [
            "\r152it [02:04,  1.22it/s]"
          ]
        },
        {
          "output_type": "stream",
          "name": "stdout",
          "text": [
            "Batch: 151. Loss: 0.508125\n"
          ]
        },
        {
          "output_type": "stream",
          "name": "stderr",
          "text": [
            "\r153it [02:05,  1.21it/s]"
          ]
        },
        {
          "output_type": "stream",
          "name": "stdout",
          "text": [
            "Batch: 152. Loss: 0.620631\n"
          ]
        },
        {
          "output_type": "stream",
          "name": "stderr",
          "text": [
            "\r154it [02:06,  1.21it/s]"
          ]
        },
        {
          "output_type": "stream",
          "name": "stdout",
          "text": [
            "Batch: 153. Loss: 0.639079\n"
          ]
        },
        {
          "output_type": "stream",
          "name": "stderr",
          "text": [
            "\r155it [02:07,  1.20it/s]"
          ]
        },
        {
          "output_type": "stream",
          "name": "stdout",
          "text": [
            "Batch: 154. Loss: 0.657278\n"
          ]
        },
        {
          "output_type": "stream",
          "name": "stderr",
          "text": [
            "\r156it [02:08,  1.21it/s]"
          ]
        },
        {
          "output_type": "stream",
          "name": "stdout",
          "text": [
            "Batch: 155. Loss: 0.714160\n"
          ]
        },
        {
          "output_type": "stream",
          "name": "stderr",
          "text": [
            "\r157it [02:09,  1.21it/s]"
          ]
        },
        {
          "output_type": "stream",
          "name": "stdout",
          "text": [
            "Batch: 156. Loss: 0.548973\n"
          ]
        },
        {
          "output_type": "stream",
          "name": "stderr",
          "text": [
            "\r158it [02:09,  1.21it/s]"
          ]
        },
        {
          "output_type": "stream",
          "name": "stdout",
          "text": [
            "Batch: 157. Loss: 0.445218\n"
          ]
        },
        {
          "output_type": "stream",
          "name": "stderr",
          "text": [
            "\r159it [02:10,  1.21it/s]"
          ]
        },
        {
          "output_type": "stream",
          "name": "stdout",
          "text": [
            "Batch: 158. Loss: 0.785927\n"
          ]
        },
        {
          "output_type": "stream",
          "name": "stderr",
          "text": [
            "\r160it [02:11,  1.21it/s]"
          ]
        },
        {
          "output_type": "stream",
          "name": "stdout",
          "text": [
            "Batch: 159. Loss: 0.424001\n"
          ]
        },
        {
          "output_type": "stream",
          "name": "stderr",
          "text": [
            "\r161it [02:12,  1.22it/s]"
          ]
        },
        {
          "output_type": "stream",
          "name": "stdout",
          "text": [
            "Batch: 160. Loss: 0.445480\n"
          ]
        },
        {
          "output_type": "stream",
          "name": "stderr",
          "text": [
            "\r162it [02:13,  1.21it/s]"
          ]
        },
        {
          "output_type": "stream",
          "name": "stdout",
          "text": [
            "Batch: 161. Loss: 0.496558\n"
          ]
        },
        {
          "output_type": "stream",
          "name": "stderr",
          "text": [
            "\r163it [02:14,  1.21it/s]"
          ]
        },
        {
          "output_type": "stream",
          "name": "stdout",
          "text": [
            "Batch: 162. Loss: 0.433661\n"
          ]
        },
        {
          "output_type": "stream",
          "name": "stderr",
          "text": [
            "164it [02:14,  1.22it/s]\n"
          ]
        },
        {
          "output_type": "stream",
          "name": "stdout",
          "text": [
            "Batch: 163. Loss: 0.774343\n",
            "Cost at epoch 5 is 0.579993766618938\n"
          ]
        },
        {
          "output_type": "stream",
          "name": "stderr",
          "text": [
            "1it [00:00,  1.16it/s]"
          ]
        },
        {
          "output_type": "stream",
          "name": "stdout",
          "text": [
            "Batch: 0. Loss: 0.576048\n"
          ]
        },
        {
          "output_type": "stream",
          "name": "stderr",
          "text": [
            "\r2it [00:01,  1.18it/s]"
          ]
        },
        {
          "output_type": "stream",
          "name": "stdout",
          "text": [
            "Batch: 1. Loss: 0.379320\n"
          ]
        },
        {
          "output_type": "stream",
          "name": "stderr",
          "text": [
            "\r3it [00:02,  1.21it/s]"
          ]
        },
        {
          "output_type": "stream",
          "name": "stdout",
          "text": [
            "Batch: 2. Loss: 0.555783\n"
          ]
        },
        {
          "output_type": "stream",
          "name": "stderr",
          "text": [
            "\r4it [00:03,  1.22it/s]"
          ]
        },
        {
          "output_type": "stream",
          "name": "stdout",
          "text": [
            "Batch: 3. Loss: 0.496385\n"
          ]
        },
        {
          "output_type": "stream",
          "name": "stderr",
          "text": [
            "\r5it [00:04,  1.23it/s]"
          ]
        },
        {
          "output_type": "stream",
          "name": "stdout",
          "text": [
            "Batch: 4. Loss: 0.468718\n"
          ]
        },
        {
          "output_type": "stream",
          "name": "stderr",
          "text": [
            "\r6it [00:04,  1.20it/s]"
          ]
        },
        {
          "output_type": "stream",
          "name": "stdout",
          "text": [
            "Batch: 5. Loss: 0.323915\n"
          ]
        },
        {
          "output_type": "stream",
          "name": "stderr",
          "text": [
            "\r7it [00:05,  1.20it/s]"
          ]
        },
        {
          "output_type": "stream",
          "name": "stdout",
          "text": [
            "Batch: 6. Loss: 0.606932\n"
          ]
        },
        {
          "output_type": "stream",
          "name": "stderr",
          "text": [
            "\r8it [00:06,  1.18it/s]"
          ]
        },
        {
          "output_type": "stream",
          "name": "stdout",
          "text": [
            "Batch: 7. Loss: 0.527655\n"
          ]
        },
        {
          "output_type": "stream",
          "name": "stderr",
          "text": [
            "\r9it [00:07,  1.17it/s]"
          ]
        },
        {
          "output_type": "stream",
          "name": "stdout",
          "text": [
            "Batch: 8. Loss: 0.352134\n"
          ]
        },
        {
          "output_type": "stream",
          "name": "stderr",
          "text": [
            "\r10it [00:08,  1.20it/s]"
          ]
        },
        {
          "output_type": "stream",
          "name": "stdout",
          "text": [
            "Batch: 9. Loss: 0.578364\n"
          ]
        },
        {
          "output_type": "stream",
          "name": "stderr",
          "text": [
            "\r11it [00:09,  1.21it/s]"
          ]
        },
        {
          "output_type": "stream",
          "name": "stdout",
          "text": [
            "Batch: 10. Loss: 0.753230\n"
          ]
        },
        {
          "output_type": "stream",
          "name": "stderr",
          "text": [
            "\r12it [00:09,  1.22it/s]"
          ]
        },
        {
          "output_type": "stream",
          "name": "stdout",
          "text": [
            "Batch: 11. Loss: 0.611415\n"
          ]
        },
        {
          "output_type": "stream",
          "name": "stderr",
          "text": [
            "\r13it [00:10,  1.23it/s]"
          ]
        },
        {
          "output_type": "stream",
          "name": "stdout",
          "text": [
            "Batch: 12. Loss: 0.352920\n"
          ]
        },
        {
          "output_type": "stream",
          "name": "stderr",
          "text": [
            "\r14it [00:11,  1.21it/s]"
          ]
        },
        {
          "output_type": "stream",
          "name": "stdout",
          "text": [
            "Batch: 13. Loss: 0.321330\n"
          ]
        },
        {
          "output_type": "stream",
          "name": "stderr",
          "text": [
            "\r15it [00:12,  1.20it/s]"
          ]
        },
        {
          "output_type": "stream",
          "name": "stdout",
          "text": [
            "Batch: 14. Loss: 0.402215\n"
          ]
        },
        {
          "output_type": "stream",
          "name": "stderr",
          "text": [
            "\r16it [00:13,  1.19it/s]"
          ]
        },
        {
          "output_type": "stream",
          "name": "stdout",
          "text": [
            "Batch: 15. Loss: 0.531540\n"
          ]
        },
        {
          "output_type": "stream",
          "name": "stderr",
          "text": [
            "\r17it [00:14,  1.20it/s]"
          ]
        },
        {
          "output_type": "stream",
          "name": "stdout",
          "text": [
            "Batch: 16. Loss: 0.538719\n"
          ]
        },
        {
          "output_type": "stream",
          "name": "stderr",
          "text": [
            "\r18it [00:14,  1.20it/s]"
          ]
        },
        {
          "output_type": "stream",
          "name": "stdout",
          "text": [
            "Batch: 17. Loss: 0.321498\n"
          ]
        },
        {
          "output_type": "stream",
          "name": "stderr",
          "text": [
            "\r19it [00:15,  1.22it/s]"
          ]
        },
        {
          "output_type": "stream",
          "name": "stdout",
          "text": [
            "Batch: 18. Loss: 0.375164\n"
          ]
        },
        {
          "output_type": "stream",
          "name": "stderr",
          "text": [
            "\r20it [00:16,  1.21it/s]"
          ]
        },
        {
          "output_type": "stream",
          "name": "stdout",
          "text": [
            "Batch: 19. Loss: 0.508751\n"
          ]
        },
        {
          "output_type": "stream",
          "name": "stderr",
          "text": [
            "\r21it [00:17,  1.22it/s]"
          ]
        },
        {
          "output_type": "stream",
          "name": "stdout",
          "text": [
            "Batch: 20. Loss: 0.480097\n"
          ]
        },
        {
          "output_type": "stream",
          "name": "stderr",
          "text": [
            "\r22it [00:18,  1.22it/s]"
          ]
        },
        {
          "output_type": "stream",
          "name": "stdout",
          "text": [
            "Batch: 21. Loss: 0.389767\n"
          ]
        },
        {
          "output_type": "stream",
          "name": "stderr",
          "text": [
            "\r23it [00:19,  1.20it/s]"
          ]
        },
        {
          "output_type": "stream",
          "name": "stdout",
          "text": [
            "Batch: 22. Loss: 0.451313\n"
          ]
        },
        {
          "output_type": "stream",
          "name": "stderr",
          "text": [
            "\r24it [00:19,  1.20it/s]"
          ]
        },
        {
          "output_type": "stream",
          "name": "stdout",
          "text": [
            "Batch: 23. Loss: 0.435113\n"
          ]
        },
        {
          "output_type": "stream",
          "name": "stderr",
          "text": [
            "\r25it [00:20,  1.21it/s]"
          ]
        },
        {
          "output_type": "stream",
          "name": "stdout",
          "text": [
            "Batch: 24. Loss: 0.451039\n"
          ]
        },
        {
          "output_type": "stream",
          "name": "stderr",
          "text": [
            "\r26it [00:21,  1.21it/s]"
          ]
        },
        {
          "output_type": "stream",
          "name": "stdout",
          "text": [
            "Batch: 25. Loss: 0.536562\n"
          ]
        },
        {
          "output_type": "stream",
          "name": "stderr",
          "text": [
            "\r27it [00:22,  1.21it/s]"
          ]
        },
        {
          "output_type": "stream",
          "name": "stdout",
          "text": [
            "Batch: 26. Loss: 0.644739\n"
          ]
        },
        {
          "output_type": "stream",
          "name": "stderr",
          "text": [
            "\r28it [00:23,  1.20it/s]"
          ]
        },
        {
          "output_type": "stream",
          "name": "stdout",
          "text": [
            "Batch: 27. Loss: 0.397912\n"
          ]
        },
        {
          "output_type": "stream",
          "name": "stderr",
          "text": [
            "\r29it [00:24,  1.22it/s]"
          ]
        },
        {
          "output_type": "stream",
          "name": "stdout",
          "text": [
            "Batch: 28. Loss: 0.470944\n"
          ]
        },
        {
          "output_type": "stream",
          "name": "stderr",
          "text": [
            "\r30it [00:24,  1.21it/s]"
          ]
        },
        {
          "output_type": "stream",
          "name": "stdout",
          "text": [
            "Batch: 29. Loss: 0.412242\n"
          ]
        },
        {
          "output_type": "stream",
          "name": "stderr",
          "text": [
            "\r31it [00:25,  1.21it/s]"
          ]
        },
        {
          "output_type": "stream",
          "name": "stdout",
          "text": [
            "Batch: 30. Loss: 0.340552\n"
          ]
        },
        {
          "output_type": "stream",
          "name": "stderr",
          "text": [
            "\r32it [00:26,  1.21it/s]"
          ]
        },
        {
          "output_type": "stream",
          "name": "stdout",
          "text": [
            "Batch: 31. Loss: 0.412424\n"
          ]
        },
        {
          "output_type": "stream",
          "name": "stderr",
          "text": [
            "\r33it [00:27,  1.21it/s]"
          ]
        },
        {
          "output_type": "stream",
          "name": "stdout",
          "text": [
            "Batch: 32. Loss: 0.355280\n"
          ]
        },
        {
          "output_type": "stream",
          "name": "stderr",
          "text": [
            "\r34it [00:28,  1.22it/s]"
          ]
        },
        {
          "output_type": "stream",
          "name": "stdout",
          "text": [
            "Batch: 33. Loss: 0.478549\n"
          ]
        },
        {
          "output_type": "stream",
          "name": "stderr",
          "text": [
            "\r35it [00:28,  1.23it/s]"
          ]
        },
        {
          "output_type": "stream",
          "name": "stdout",
          "text": [
            "Batch: 34. Loss: 0.454083\n"
          ]
        },
        {
          "output_type": "stream",
          "name": "stderr",
          "text": [
            "\r36it [00:29,  1.21it/s]"
          ]
        },
        {
          "output_type": "stream",
          "name": "stdout",
          "text": [
            "Batch: 35. Loss: 0.315766\n"
          ]
        },
        {
          "output_type": "stream",
          "name": "stderr",
          "text": [
            "\r37it [00:30,  1.21it/s]"
          ]
        },
        {
          "output_type": "stream",
          "name": "stdout",
          "text": [
            "Batch: 36. Loss: 0.267907\n"
          ]
        },
        {
          "output_type": "stream",
          "name": "stderr",
          "text": [
            "\r38it [00:31,  1.21it/s]"
          ]
        },
        {
          "output_type": "stream",
          "name": "stdout",
          "text": [
            "Batch: 37. Loss: 0.364393\n"
          ]
        },
        {
          "output_type": "stream",
          "name": "stderr",
          "text": [
            "\r39it [00:32,  1.22it/s]"
          ]
        },
        {
          "output_type": "stream",
          "name": "stdout",
          "text": [
            "Batch: 38. Loss: 0.484937\n"
          ]
        },
        {
          "output_type": "stream",
          "name": "stderr",
          "text": [
            "\r40it [00:33,  1.20it/s]"
          ]
        },
        {
          "output_type": "stream",
          "name": "stdout",
          "text": [
            "Batch: 39. Loss: 0.433227\n"
          ]
        },
        {
          "output_type": "stream",
          "name": "stderr",
          "text": [
            "\r41it [00:34,  1.17it/s]"
          ]
        },
        {
          "output_type": "stream",
          "name": "stdout",
          "text": [
            "Batch: 40. Loss: 0.291383\n"
          ]
        },
        {
          "output_type": "stream",
          "name": "stderr",
          "text": [
            "\r42it [00:34,  1.19it/s]"
          ]
        },
        {
          "output_type": "stream",
          "name": "stdout",
          "text": [
            "Batch: 41. Loss: 0.501728\n"
          ]
        },
        {
          "output_type": "stream",
          "name": "stderr",
          "text": [
            "\r43it [00:35,  1.21it/s]"
          ]
        },
        {
          "output_type": "stream",
          "name": "stdout",
          "text": [
            "Batch: 42. Loss: 0.351762\n"
          ]
        },
        {
          "output_type": "stream",
          "name": "stderr",
          "text": [
            "\r44it [00:36,  1.22it/s]"
          ]
        },
        {
          "output_type": "stream",
          "name": "stdout",
          "text": [
            "Batch: 43. Loss: 0.275349\n"
          ]
        },
        {
          "output_type": "stream",
          "name": "stderr",
          "text": [
            "\r45it [00:37,  1.22it/s]"
          ]
        },
        {
          "output_type": "stream",
          "name": "stdout",
          "text": [
            "Batch: 44. Loss: 0.495429\n"
          ]
        },
        {
          "output_type": "stream",
          "name": "stderr",
          "text": [
            "\r46it [00:38,  1.21it/s]"
          ]
        },
        {
          "output_type": "stream",
          "name": "stdout",
          "text": [
            "Batch: 45. Loss: 0.392957\n"
          ]
        },
        {
          "output_type": "stream",
          "name": "stderr",
          "text": [
            "\r47it [00:38,  1.21it/s]"
          ]
        },
        {
          "output_type": "stream",
          "name": "stdout",
          "text": [
            "Batch: 46. Loss: 0.339512\n"
          ]
        },
        {
          "output_type": "stream",
          "name": "stderr",
          "text": [
            "\r48it [00:39,  1.22it/s]"
          ]
        },
        {
          "output_type": "stream",
          "name": "stdout",
          "text": [
            "Batch: 47. Loss: 0.411635\n"
          ]
        },
        {
          "output_type": "stream",
          "name": "stderr",
          "text": [
            "\r49it [00:40,  1.24it/s]"
          ]
        },
        {
          "output_type": "stream",
          "name": "stdout",
          "text": [
            "Batch: 48. Loss: 0.550929\n"
          ]
        },
        {
          "output_type": "stream",
          "name": "stderr",
          "text": [
            "\r50it [00:41,  1.23it/s]"
          ]
        },
        {
          "output_type": "stream",
          "name": "stdout",
          "text": [
            "Batch: 49. Loss: 0.446909\n"
          ]
        },
        {
          "output_type": "stream",
          "name": "stderr",
          "text": [
            "\r51it [00:42,  1.23it/s]"
          ]
        },
        {
          "output_type": "stream",
          "name": "stdout",
          "text": [
            "Batch: 50. Loss: 0.644933\n"
          ]
        },
        {
          "output_type": "stream",
          "name": "stderr",
          "text": [
            "\r52it [00:42,  1.22it/s]"
          ]
        },
        {
          "output_type": "stream",
          "name": "stdout",
          "text": [
            "Batch: 51. Loss: 0.788444\n"
          ]
        },
        {
          "output_type": "stream",
          "name": "stderr",
          "text": [
            "\r53it [00:43,  1.21it/s]"
          ]
        },
        {
          "output_type": "stream",
          "name": "stdout",
          "text": [
            "Batch: 52. Loss: 0.466477\n"
          ]
        },
        {
          "output_type": "stream",
          "name": "stderr",
          "text": [
            "\r54it [00:44,  1.22it/s]"
          ]
        },
        {
          "output_type": "stream",
          "name": "stdout",
          "text": [
            "Batch: 53. Loss: 0.540777\n"
          ]
        },
        {
          "output_type": "stream",
          "name": "stderr",
          "text": [
            "\r55it [00:45,  1.24it/s]"
          ]
        },
        {
          "output_type": "stream",
          "name": "stdout",
          "text": [
            "Batch: 54. Loss: 0.638847\n"
          ]
        },
        {
          "output_type": "stream",
          "name": "stderr",
          "text": [
            "\r56it [00:46,  1.24it/s]"
          ]
        },
        {
          "output_type": "stream",
          "name": "stdout",
          "text": [
            "Batch: 55. Loss: 0.559508\n"
          ]
        },
        {
          "output_type": "stream",
          "name": "stderr",
          "text": [
            "\r57it [00:47,  1.22it/s]"
          ]
        },
        {
          "output_type": "stream",
          "name": "stdout",
          "text": [
            "Batch: 56. Loss: 0.523829\n"
          ]
        },
        {
          "output_type": "stream",
          "name": "stderr",
          "text": [
            "\r58it [00:47,  1.22it/s]"
          ]
        },
        {
          "output_type": "stream",
          "name": "stdout",
          "text": [
            "Batch: 57. Loss: 0.354102\n"
          ]
        },
        {
          "output_type": "stream",
          "name": "stderr",
          "text": [
            "\r59it [00:48,  1.21it/s]"
          ]
        },
        {
          "output_type": "stream",
          "name": "stdout",
          "text": [
            "Batch: 58. Loss: 0.319539\n"
          ]
        },
        {
          "output_type": "stream",
          "name": "stderr",
          "text": [
            "\r60it [00:49,  1.20it/s]"
          ]
        },
        {
          "output_type": "stream",
          "name": "stdout",
          "text": [
            "Batch: 59. Loss: 0.519404\n"
          ]
        },
        {
          "output_type": "stream",
          "name": "stderr",
          "text": [
            "\r61it [00:50,  1.20it/s]"
          ]
        },
        {
          "output_type": "stream",
          "name": "stdout",
          "text": [
            "Batch: 60. Loss: 0.615234\n"
          ]
        },
        {
          "output_type": "stream",
          "name": "stderr",
          "text": [
            "\r62it [00:51,  1.20it/s]"
          ]
        },
        {
          "output_type": "stream",
          "name": "stdout",
          "text": [
            "Batch: 61. Loss: 0.441547\n"
          ]
        },
        {
          "output_type": "stream",
          "name": "stderr",
          "text": [
            "\r63it [00:52,  1.20it/s]"
          ]
        },
        {
          "output_type": "stream",
          "name": "stdout",
          "text": [
            "Batch: 62. Loss: 0.412092\n"
          ]
        },
        {
          "output_type": "stream",
          "name": "stderr",
          "text": [
            "\r64it [00:52,  1.20it/s]"
          ]
        },
        {
          "output_type": "stream",
          "name": "stdout",
          "text": [
            "Batch: 63. Loss: 0.494761\n"
          ]
        },
        {
          "output_type": "stream",
          "name": "stderr",
          "text": [
            "\r65it [00:53,  1.20it/s]"
          ]
        },
        {
          "output_type": "stream",
          "name": "stdout",
          "text": [
            "Batch: 64. Loss: 0.340669\n"
          ]
        },
        {
          "output_type": "stream",
          "name": "stderr",
          "text": [
            "\r66it [00:54,  1.22it/s]"
          ]
        },
        {
          "output_type": "stream",
          "name": "stdout",
          "text": [
            "Batch: 65. Loss: 0.468918\n"
          ]
        },
        {
          "output_type": "stream",
          "name": "stderr",
          "text": [
            "\r67it [00:55,  1.23it/s]"
          ]
        },
        {
          "output_type": "stream",
          "name": "stdout",
          "text": [
            "Batch: 66. Loss: 0.677012\n"
          ]
        },
        {
          "output_type": "stream",
          "name": "stderr",
          "text": [
            "\r68it [00:56,  1.22it/s]"
          ]
        },
        {
          "output_type": "stream",
          "name": "stdout",
          "text": [
            "Batch: 67. Loss: 0.433199\n"
          ]
        },
        {
          "output_type": "stream",
          "name": "stderr",
          "text": [
            "\r69it [00:56,  1.21it/s]"
          ]
        },
        {
          "output_type": "stream",
          "name": "stdout",
          "text": [
            "Batch: 68. Loss: 0.681001\n"
          ]
        },
        {
          "output_type": "stream",
          "name": "stderr",
          "text": [
            "\r70it [00:57,  1.20it/s]"
          ]
        },
        {
          "output_type": "stream",
          "name": "stdout",
          "text": [
            "Batch: 69. Loss: 0.500623\n"
          ]
        },
        {
          "output_type": "stream",
          "name": "stderr",
          "text": [
            "\r71it [00:58,  1.21it/s]"
          ]
        },
        {
          "output_type": "stream",
          "name": "stdout",
          "text": [
            "Batch: 70. Loss: 0.507082\n"
          ]
        },
        {
          "output_type": "stream",
          "name": "stderr",
          "text": [
            "\r72it [00:59,  1.21it/s]"
          ]
        },
        {
          "output_type": "stream",
          "name": "stdout",
          "text": [
            "Batch: 71. Loss: 0.433495\n"
          ]
        },
        {
          "output_type": "stream",
          "name": "stderr",
          "text": [
            "\r73it [01:00,  1.23it/s]"
          ]
        },
        {
          "output_type": "stream",
          "name": "stdout",
          "text": [
            "Batch: 72. Loss: 0.479989\n"
          ]
        },
        {
          "output_type": "stream",
          "name": "stderr",
          "text": [
            "\r74it [01:01,  1.22it/s]"
          ]
        },
        {
          "output_type": "stream",
          "name": "stdout",
          "text": [
            "Batch: 73. Loss: 0.466122\n"
          ]
        },
        {
          "output_type": "stream",
          "name": "stderr",
          "text": [
            "\r75it [01:01,  1.23it/s]"
          ]
        },
        {
          "output_type": "stream",
          "name": "stdout",
          "text": [
            "Batch: 74. Loss: 0.300436\n"
          ]
        },
        {
          "output_type": "stream",
          "name": "stderr",
          "text": [
            "\r76it [01:02,  1.22it/s]"
          ]
        },
        {
          "output_type": "stream",
          "name": "stdout",
          "text": [
            "Batch: 75. Loss: 0.418029\n"
          ]
        },
        {
          "output_type": "stream",
          "name": "stderr",
          "text": [
            "\r77it [01:03,  1.20it/s]"
          ]
        },
        {
          "output_type": "stream",
          "name": "stdout",
          "text": [
            "Batch: 76. Loss: 0.469869\n"
          ]
        },
        {
          "output_type": "stream",
          "name": "stderr",
          "text": [
            "\r78it [01:04,  1.23it/s]"
          ]
        },
        {
          "output_type": "stream",
          "name": "stdout",
          "text": [
            "Batch: 77. Loss: 0.633517\n"
          ]
        },
        {
          "output_type": "stream",
          "name": "stderr",
          "text": [
            "\r79it [01:05,  1.22it/s]"
          ]
        },
        {
          "output_type": "stream",
          "name": "stdout",
          "text": [
            "Batch: 78. Loss: 0.444222\n"
          ]
        },
        {
          "output_type": "stream",
          "name": "stderr",
          "text": [
            "\r80it [01:06,  1.21it/s]"
          ]
        },
        {
          "output_type": "stream",
          "name": "stdout",
          "text": [
            "Batch: 79. Loss: 0.480447\n"
          ]
        },
        {
          "output_type": "stream",
          "name": "stderr",
          "text": [
            "\r81it [01:06,  1.21it/s]"
          ]
        },
        {
          "output_type": "stream",
          "name": "stdout",
          "text": [
            "Batch: 80. Loss: 0.562871\n"
          ]
        },
        {
          "output_type": "stream",
          "name": "stderr",
          "text": [
            "\r82it [01:07,  1.21it/s]"
          ]
        },
        {
          "output_type": "stream",
          "name": "stdout",
          "text": [
            "Batch: 81. Loss: 0.525527\n"
          ]
        },
        {
          "output_type": "stream",
          "name": "stderr",
          "text": [
            "\r83it [01:08,  1.20it/s]"
          ]
        },
        {
          "output_type": "stream",
          "name": "stdout",
          "text": [
            "Batch: 82. Loss: 0.358686\n"
          ]
        },
        {
          "output_type": "stream",
          "name": "stderr",
          "text": [
            "\r84it [01:09,  1.20it/s]"
          ]
        },
        {
          "output_type": "stream",
          "name": "stdout",
          "text": [
            "Batch: 83. Loss: 0.455433\n"
          ]
        },
        {
          "output_type": "stream",
          "name": "stderr",
          "text": [
            "\r85it [01:10,  1.21it/s]"
          ]
        },
        {
          "output_type": "stream",
          "name": "stdout",
          "text": [
            "Batch: 84. Loss: 0.513288\n"
          ]
        },
        {
          "output_type": "stream",
          "name": "stderr",
          "text": [
            "\r86it [01:10,  1.22it/s]"
          ]
        },
        {
          "output_type": "stream",
          "name": "stdout",
          "text": [
            "Batch: 85. Loss: 0.478685\n"
          ]
        },
        {
          "output_type": "stream",
          "name": "stderr",
          "text": [
            "\r87it [01:11,  1.23it/s]"
          ]
        },
        {
          "output_type": "stream",
          "name": "stdout",
          "text": [
            "Batch: 86. Loss: 0.791075\n"
          ]
        },
        {
          "output_type": "stream",
          "name": "stderr",
          "text": [
            "\r88it [01:12,  1.24it/s]"
          ]
        },
        {
          "output_type": "stream",
          "name": "stdout",
          "text": [
            "Batch: 87. Loss: 0.413001\n"
          ]
        },
        {
          "output_type": "stream",
          "name": "stderr",
          "text": [
            "\r89it [01:13,  1.24it/s]"
          ]
        },
        {
          "output_type": "stream",
          "name": "stdout",
          "text": [
            "Batch: 88. Loss: 0.495015\n"
          ]
        },
        {
          "output_type": "stream",
          "name": "stderr",
          "text": [
            "\r90it [01:14,  1.24it/s]"
          ]
        },
        {
          "output_type": "stream",
          "name": "stdout",
          "text": [
            "Batch: 89. Loss: 0.596757\n"
          ]
        },
        {
          "output_type": "stream",
          "name": "stderr",
          "text": [
            "\r91it [01:14,  1.24it/s]"
          ]
        },
        {
          "output_type": "stream",
          "name": "stdout",
          "text": [
            "Batch: 90. Loss: 0.463321\n"
          ]
        },
        {
          "output_type": "stream",
          "name": "stderr",
          "text": [
            "\r92it [01:15,  1.25it/s]"
          ]
        },
        {
          "output_type": "stream",
          "name": "stdout",
          "text": [
            "Batch: 91. Loss: 0.344449\n"
          ]
        },
        {
          "output_type": "stream",
          "name": "stderr",
          "text": [
            "\r93it [01:16,  1.22it/s]"
          ]
        },
        {
          "output_type": "stream",
          "name": "stdout",
          "text": [
            "Batch: 92. Loss: 0.240982\n"
          ]
        },
        {
          "output_type": "stream",
          "name": "stderr",
          "text": [
            "\r94it [01:17,  1.22it/s]"
          ]
        },
        {
          "output_type": "stream",
          "name": "stdout",
          "text": [
            "Batch: 93. Loss: 0.361344\n"
          ]
        },
        {
          "output_type": "stream",
          "name": "stderr",
          "text": [
            "\r95it [01:18,  1.22it/s]"
          ]
        },
        {
          "output_type": "stream",
          "name": "stdout",
          "text": [
            "Batch: 94. Loss: 0.411655\n"
          ]
        },
        {
          "output_type": "stream",
          "name": "stderr",
          "text": [
            "\r96it [01:19,  1.21it/s]"
          ]
        },
        {
          "output_type": "stream",
          "name": "stdout",
          "text": [
            "Batch: 95. Loss: 0.470109\n"
          ]
        },
        {
          "output_type": "stream",
          "name": "stderr",
          "text": [
            "\r97it [01:19,  1.22it/s]"
          ]
        },
        {
          "output_type": "stream",
          "name": "stdout",
          "text": [
            "Batch: 96. Loss: 0.351194\n"
          ]
        },
        {
          "output_type": "stream",
          "name": "stderr",
          "text": [
            "\r98it [01:20,  1.22it/s]"
          ]
        },
        {
          "output_type": "stream",
          "name": "stdout",
          "text": [
            "Batch: 97. Loss: 0.419322\n"
          ]
        },
        {
          "output_type": "stream",
          "name": "stderr",
          "text": [
            "\r99it [01:21,  1.23it/s]"
          ]
        },
        {
          "output_type": "stream",
          "name": "stdout",
          "text": [
            "Batch: 98. Loss: 0.644836\n"
          ]
        },
        {
          "output_type": "stream",
          "name": "stderr",
          "text": [
            "\r100it [01:22,  1.23it/s]"
          ]
        },
        {
          "output_type": "stream",
          "name": "stdout",
          "text": [
            "Batch: 99. Loss: 0.285770\n"
          ]
        },
        {
          "output_type": "stream",
          "name": "stderr",
          "text": [
            "\r101it [01:23,  1.24it/s]"
          ]
        },
        {
          "output_type": "stream",
          "name": "stdout",
          "text": [
            "Batch: 100. Loss: 0.713027\n"
          ]
        },
        {
          "output_type": "stream",
          "name": "stderr",
          "text": [
            "\r102it [01:23,  1.23it/s]"
          ]
        },
        {
          "output_type": "stream",
          "name": "stdout",
          "text": [
            "Batch: 101. Loss: 0.562150\n"
          ]
        },
        {
          "output_type": "stream",
          "name": "stderr",
          "text": [
            "\r103it [01:24,  1.24it/s]"
          ]
        },
        {
          "output_type": "stream",
          "name": "stdout",
          "text": [
            "Batch: 102. Loss: 0.215013\n"
          ]
        },
        {
          "output_type": "stream",
          "name": "stderr",
          "text": [
            "\r104it [01:25,  1.22it/s]"
          ]
        },
        {
          "output_type": "stream",
          "name": "stdout",
          "text": [
            "Batch: 103. Loss: 0.404109\n"
          ]
        },
        {
          "output_type": "stream",
          "name": "stderr",
          "text": [
            "\r105it [01:26,  1.23it/s]"
          ]
        },
        {
          "output_type": "stream",
          "name": "stdout",
          "text": [
            "Batch: 104. Loss: 0.477096\n"
          ]
        },
        {
          "output_type": "stream",
          "name": "stderr",
          "text": [
            "\r106it [01:27,  1.24it/s]"
          ]
        },
        {
          "output_type": "stream",
          "name": "stdout",
          "text": [
            "Batch: 105. Loss: 0.533783\n"
          ]
        },
        {
          "output_type": "stream",
          "name": "stderr",
          "text": [
            "\r107it [01:28,  1.25it/s]"
          ]
        },
        {
          "output_type": "stream",
          "name": "stdout",
          "text": [
            "Batch: 106. Loss: 0.466590\n"
          ]
        },
        {
          "output_type": "stream",
          "name": "stderr",
          "text": [
            "\r108it [01:28,  1.24it/s]"
          ]
        },
        {
          "output_type": "stream",
          "name": "stdout",
          "text": [
            "Batch: 107. Loss: 0.424912\n"
          ]
        },
        {
          "output_type": "stream",
          "name": "stderr",
          "text": [
            "\r109it [01:29,  1.21it/s]"
          ]
        },
        {
          "output_type": "stream",
          "name": "stdout",
          "text": [
            "Batch: 108. Loss: 0.734080\n"
          ]
        },
        {
          "output_type": "stream",
          "name": "stderr",
          "text": [
            "\r110it [01:30,  1.21it/s]"
          ]
        },
        {
          "output_type": "stream",
          "name": "stdout",
          "text": [
            "Batch: 109. Loss: 0.479755\n"
          ]
        },
        {
          "output_type": "stream",
          "name": "stderr",
          "text": [
            "\r111it [01:31,  1.20it/s]"
          ]
        },
        {
          "output_type": "stream",
          "name": "stdout",
          "text": [
            "Batch: 110. Loss: 0.471782\n"
          ]
        },
        {
          "output_type": "stream",
          "name": "stderr",
          "text": [
            "\r112it [01:32,  1.18it/s]"
          ]
        },
        {
          "output_type": "stream",
          "name": "stdout",
          "text": [
            "Batch: 111. Loss: 0.622438\n"
          ]
        },
        {
          "output_type": "stream",
          "name": "stderr",
          "text": [
            "\r113it [01:33,  1.18it/s]"
          ]
        },
        {
          "output_type": "stream",
          "name": "stdout",
          "text": [
            "Batch: 112. Loss: 0.454777\n"
          ]
        },
        {
          "output_type": "stream",
          "name": "stderr",
          "text": [
            "\r114it [01:33,  1.21it/s]"
          ]
        },
        {
          "output_type": "stream",
          "name": "stdout",
          "text": [
            "Batch: 113. Loss: 0.478505\n"
          ]
        },
        {
          "output_type": "stream",
          "name": "stderr",
          "text": [
            "\r115it [01:34,  1.22it/s]"
          ]
        },
        {
          "output_type": "stream",
          "name": "stdout",
          "text": [
            "Batch: 114. Loss: 0.711565\n"
          ]
        },
        {
          "output_type": "stream",
          "name": "stderr",
          "text": [
            "\r116it [01:35,  1.21it/s]"
          ]
        },
        {
          "output_type": "stream",
          "name": "stdout",
          "text": [
            "Batch: 115. Loss: 0.466597\n"
          ]
        },
        {
          "output_type": "stream",
          "name": "stderr",
          "text": [
            "\r117it [01:36,  1.21it/s]"
          ]
        },
        {
          "output_type": "stream",
          "name": "stdout",
          "text": [
            "Batch: 116. Loss: 0.469848\n"
          ]
        },
        {
          "output_type": "stream",
          "name": "stderr",
          "text": [
            "\r118it [01:37,  1.22it/s]"
          ]
        },
        {
          "output_type": "stream",
          "name": "stdout",
          "text": [
            "Batch: 117. Loss: 0.709514\n"
          ]
        },
        {
          "output_type": "stream",
          "name": "stderr",
          "text": [
            "\r119it [01:37,  1.22it/s]"
          ]
        },
        {
          "output_type": "stream",
          "name": "stdout",
          "text": [
            "Batch: 118. Loss: 0.540105\n"
          ]
        },
        {
          "output_type": "stream",
          "name": "stderr",
          "text": [
            "\r120it [01:38,  1.21it/s]"
          ]
        },
        {
          "output_type": "stream",
          "name": "stdout",
          "text": [
            "Batch: 119. Loss: 0.358012\n"
          ]
        },
        {
          "output_type": "stream",
          "name": "stderr",
          "text": [
            "\r121it [01:39,  1.21it/s]"
          ]
        },
        {
          "output_type": "stream",
          "name": "stdout",
          "text": [
            "Batch: 120. Loss: 0.545078\n"
          ]
        },
        {
          "output_type": "stream",
          "name": "stderr",
          "text": [
            "\r122it [01:40,  1.20it/s]"
          ]
        },
        {
          "output_type": "stream",
          "name": "stdout",
          "text": [
            "Batch: 121. Loss: 0.456690\n"
          ]
        },
        {
          "output_type": "stream",
          "name": "stderr",
          "text": [
            "\r123it [01:41,  1.20it/s]"
          ]
        },
        {
          "output_type": "stream",
          "name": "stdout",
          "text": [
            "Batch: 122. Loss: 0.591257\n"
          ]
        },
        {
          "output_type": "stream",
          "name": "stderr",
          "text": [
            "\r124it [01:42,  1.23it/s]"
          ]
        },
        {
          "output_type": "stream",
          "name": "stdout",
          "text": [
            "Batch: 123. Loss: 0.438392\n"
          ]
        },
        {
          "output_type": "stream",
          "name": "stderr",
          "text": [
            "\r125it [01:42,  1.23it/s]"
          ]
        },
        {
          "output_type": "stream",
          "name": "stdout",
          "text": [
            "Batch: 124. Loss: 0.554967\n"
          ]
        },
        {
          "output_type": "stream",
          "name": "stderr",
          "text": [
            "\r126it [01:43,  1.23it/s]"
          ]
        },
        {
          "output_type": "stream",
          "name": "stdout",
          "text": [
            "Batch: 125. Loss: 0.433340\n"
          ]
        },
        {
          "output_type": "stream",
          "name": "stderr",
          "text": [
            "\r127it [01:44,  1.23it/s]"
          ]
        },
        {
          "output_type": "stream",
          "name": "stdout",
          "text": [
            "Batch: 126. Loss: 0.449636\n"
          ]
        },
        {
          "output_type": "stream",
          "name": "stderr",
          "text": [
            "\r128it [01:45,  1.24it/s]"
          ]
        },
        {
          "output_type": "stream",
          "name": "stdout",
          "text": [
            "Batch: 127. Loss: 0.510883\n"
          ]
        },
        {
          "output_type": "stream",
          "name": "stderr",
          "text": [
            "\r129it [01:46,  1.23it/s]"
          ]
        },
        {
          "output_type": "stream",
          "name": "stdout",
          "text": [
            "Batch: 128. Loss: 0.394897\n"
          ]
        },
        {
          "output_type": "stream",
          "name": "stderr",
          "text": [
            "\r130it [01:46,  1.23it/s]"
          ]
        },
        {
          "output_type": "stream",
          "name": "stdout",
          "text": [
            "Batch: 129. Loss: 0.476571\n"
          ]
        },
        {
          "output_type": "stream",
          "name": "stderr",
          "text": [
            "\r131it [01:47,  1.23it/s]"
          ]
        },
        {
          "output_type": "stream",
          "name": "stdout",
          "text": [
            "Batch: 130. Loss: 0.578237\n"
          ]
        },
        {
          "output_type": "stream",
          "name": "stderr",
          "text": [
            "\r132it [01:48,  1.24it/s]"
          ]
        },
        {
          "output_type": "stream",
          "name": "stdout",
          "text": [
            "Batch: 131. Loss: 0.674158\n"
          ]
        },
        {
          "output_type": "stream",
          "name": "stderr",
          "text": [
            "\r133it [01:49,  1.22it/s]"
          ]
        },
        {
          "output_type": "stream",
          "name": "stdout",
          "text": [
            "Batch: 132. Loss: 0.294008\n"
          ]
        },
        {
          "output_type": "stream",
          "name": "stderr",
          "text": [
            "\r134it [01:50,  1.22it/s]"
          ]
        },
        {
          "output_type": "stream",
          "name": "stdout",
          "text": [
            "Batch: 133. Loss: 0.496650\n"
          ]
        },
        {
          "output_type": "stream",
          "name": "stderr",
          "text": [
            "\r135it [01:51,  1.22it/s]"
          ]
        },
        {
          "output_type": "stream",
          "name": "stdout",
          "text": [
            "Batch: 134. Loss: 0.678590\n"
          ]
        },
        {
          "output_type": "stream",
          "name": "stderr",
          "text": [
            "\r136it [01:51,  1.22it/s]"
          ]
        },
        {
          "output_type": "stream",
          "name": "stdout",
          "text": [
            "Batch: 135. Loss: 0.631663\n"
          ]
        },
        {
          "output_type": "stream",
          "name": "stderr",
          "text": [
            "\r137it [01:52,  1.22it/s]"
          ]
        },
        {
          "output_type": "stream",
          "name": "stdout",
          "text": [
            "Batch: 136. Loss: 0.436050\n"
          ]
        },
        {
          "output_type": "stream",
          "name": "stderr",
          "text": [
            "\r138it [01:53,  1.23it/s]"
          ]
        },
        {
          "output_type": "stream",
          "name": "stdout",
          "text": [
            "Batch: 137. Loss: 0.542162\n"
          ]
        },
        {
          "output_type": "stream",
          "name": "stderr",
          "text": [
            "\r139it [01:54,  1.21it/s]"
          ]
        },
        {
          "output_type": "stream",
          "name": "stdout",
          "text": [
            "Batch: 138. Loss: 0.342898\n"
          ]
        },
        {
          "output_type": "stream",
          "name": "stderr",
          "text": [
            "\r140it [01:55,  1.21it/s]"
          ]
        },
        {
          "output_type": "stream",
          "name": "stdout",
          "text": [
            "Batch: 139. Loss: 0.490214\n"
          ]
        },
        {
          "output_type": "stream",
          "name": "stderr",
          "text": [
            "\r141it [01:55,  1.22it/s]"
          ]
        },
        {
          "output_type": "stream",
          "name": "stdout",
          "text": [
            "Batch: 140. Loss: 0.484327\n"
          ]
        },
        {
          "output_type": "stream",
          "name": "stderr",
          "text": [
            "\r142it [01:56,  1.24it/s]"
          ]
        },
        {
          "output_type": "stream",
          "name": "stdout",
          "text": [
            "Batch: 141. Loss: 0.369011\n"
          ]
        },
        {
          "output_type": "stream",
          "name": "stderr",
          "text": [
            "\r143it [01:57,  1.24it/s]"
          ]
        },
        {
          "output_type": "stream",
          "name": "stdout",
          "text": [
            "Batch: 142. Loss: 0.562525\n"
          ]
        },
        {
          "output_type": "stream",
          "name": "stderr",
          "text": [
            "\r144it [01:58,  1.25it/s]"
          ]
        },
        {
          "output_type": "stream",
          "name": "stdout",
          "text": [
            "Batch: 143. Loss: 0.596835\n"
          ]
        },
        {
          "output_type": "stream",
          "name": "stderr",
          "text": [
            "\r145it [01:59,  1.24it/s]"
          ]
        },
        {
          "output_type": "stream",
          "name": "stdout",
          "text": [
            "Batch: 144. Loss: 0.596361\n"
          ]
        },
        {
          "output_type": "stream",
          "name": "stderr",
          "text": [
            "\r146it [01:59,  1.23it/s]"
          ]
        },
        {
          "output_type": "stream",
          "name": "stdout",
          "text": [
            "Batch: 145. Loss: 0.544922\n"
          ]
        },
        {
          "output_type": "stream",
          "name": "stderr",
          "text": [
            "\r147it [02:00,  1.22it/s]"
          ]
        },
        {
          "output_type": "stream",
          "name": "stdout",
          "text": [
            "Batch: 146. Loss: 0.294279\n"
          ]
        },
        {
          "output_type": "stream",
          "name": "stderr",
          "text": [
            "\r148it [02:01,  1.20it/s]"
          ]
        },
        {
          "output_type": "stream",
          "name": "stdout",
          "text": [
            "Batch: 147. Loss: 0.422820\n"
          ]
        },
        {
          "output_type": "stream",
          "name": "stderr",
          "text": [
            "\r149it [02:02,  1.21it/s]"
          ]
        },
        {
          "output_type": "stream",
          "name": "stdout",
          "text": [
            "Batch: 148. Loss: 0.467729\n"
          ]
        },
        {
          "output_type": "stream",
          "name": "stderr",
          "text": [
            "\r150it [02:03,  1.19it/s]"
          ]
        },
        {
          "output_type": "stream",
          "name": "stdout",
          "text": [
            "Batch: 149. Loss: 0.454863\n"
          ]
        },
        {
          "output_type": "stream",
          "name": "stderr",
          "text": [
            "\r151it [02:04,  1.19it/s]"
          ]
        },
        {
          "output_type": "stream",
          "name": "stdout",
          "text": [
            "Batch: 150. Loss: 0.422631\n"
          ]
        },
        {
          "output_type": "stream",
          "name": "stderr",
          "text": [
            "\r152it [02:05,  1.19it/s]"
          ]
        },
        {
          "output_type": "stream",
          "name": "stdout",
          "text": [
            "Batch: 151. Loss: 0.429938\n"
          ]
        },
        {
          "output_type": "stream",
          "name": "stderr",
          "text": [
            "\r153it [02:05,  1.19it/s]"
          ]
        },
        {
          "output_type": "stream",
          "name": "stdout",
          "text": [
            "Batch: 152. Loss: 0.648027\n"
          ]
        },
        {
          "output_type": "stream",
          "name": "stderr",
          "text": [
            "\r154it [02:06,  1.19it/s]"
          ]
        },
        {
          "output_type": "stream",
          "name": "stdout",
          "text": [
            "Batch: 153. Loss: 0.444538\n"
          ]
        },
        {
          "output_type": "stream",
          "name": "stderr",
          "text": [
            "\r155it [02:07,  1.20it/s]"
          ]
        },
        {
          "output_type": "stream",
          "name": "stdout",
          "text": [
            "Batch: 154. Loss: 0.476305\n"
          ]
        },
        {
          "output_type": "stream",
          "name": "stderr",
          "text": [
            "\r156it [02:08,  1.21it/s]"
          ]
        },
        {
          "output_type": "stream",
          "name": "stdout",
          "text": [
            "Batch: 155. Loss: 0.489861\n"
          ]
        },
        {
          "output_type": "stream",
          "name": "stderr",
          "text": [
            "\r157it [02:09,  1.22it/s]"
          ]
        },
        {
          "output_type": "stream",
          "name": "stdout",
          "text": [
            "Batch: 156. Loss: 0.459077\n"
          ]
        },
        {
          "output_type": "stream",
          "name": "stderr",
          "text": [
            "\r158it [02:09,  1.23it/s]"
          ]
        },
        {
          "output_type": "stream",
          "name": "stdout",
          "text": [
            "Batch: 157. Loss: 0.634083\n"
          ]
        },
        {
          "output_type": "stream",
          "name": "stderr",
          "text": [
            "\r159it [02:10,  1.22it/s]"
          ]
        },
        {
          "output_type": "stream",
          "name": "stdout",
          "text": [
            "Batch: 158. Loss: 0.364246\n"
          ]
        },
        {
          "output_type": "stream",
          "name": "stderr",
          "text": [
            "\r160it [02:11,  1.22it/s]"
          ]
        },
        {
          "output_type": "stream",
          "name": "stdout",
          "text": [
            "Batch: 159. Loss: 0.536942\n"
          ]
        },
        {
          "output_type": "stream",
          "name": "stderr",
          "text": [
            "\r161it [02:12,  1.23it/s]"
          ]
        },
        {
          "output_type": "stream",
          "name": "stdout",
          "text": [
            "Batch: 160. Loss: 0.409865\n"
          ]
        },
        {
          "output_type": "stream",
          "name": "stderr",
          "text": [
            "\r162it [02:13,  1.20it/s]"
          ]
        },
        {
          "output_type": "stream",
          "name": "stdout",
          "text": [
            "Batch: 161. Loss: 0.571098\n"
          ]
        },
        {
          "output_type": "stream",
          "name": "stderr",
          "text": [
            "\r163it [02:14,  1.22it/s]"
          ]
        },
        {
          "output_type": "stream",
          "name": "stdout",
          "text": [
            "Batch: 162. Loss: 0.692422\n"
          ]
        },
        {
          "output_type": "stream",
          "name": "stderr",
          "text": [
            "164it [02:14,  1.22it/s]\n"
          ]
        },
        {
          "output_type": "stream",
          "name": "stdout",
          "text": [
            "Batch: 163. Loss: 0.931207\n",
            "Cost at epoch 6 is 0.4821208964397268\n"
          ]
        },
        {
          "output_type": "stream",
          "name": "stderr",
          "text": [
            "1it [00:00,  1.16it/s]"
          ]
        },
        {
          "output_type": "stream",
          "name": "stdout",
          "text": [
            "Batch: 0. Loss: 0.524343\n"
          ]
        },
        {
          "output_type": "stream",
          "name": "stderr",
          "text": [
            "\r2it [00:01,  1.21it/s]"
          ]
        },
        {
          "output_type": "stream",
          "name": "stdout",
          "text": [
            "Batch: 1. Loss: 0.490339\n"
          ]
        },
        {
          "output_type": "stream",
          "name": "stderr",
          "text": [
            "\r3it [00:02,  1.24it/s]"
          ]
        },
        {
          "output_type": "stream",
          "name": "stdout",
          "text": [
            "Batch: 2. Loss: 0.428554\n"
          ]
        },
        {
          "output_type": "stream",
          "name": "stderr",
          "text": [
            "\r4it [00:03,  1.24it/s]"
          ]
        },
        {
          "output_type": "stream",
          "name": "stdout",
          "text": [
            "Batch: 3. Loss: 0.399459\n"
          ]
        },
        {
          "output_type": "stream",
          "name": "stderr",
          "text": [
            "\r5it [00:04,  1.23it/s]"
          ]
        },
        {
          "output_type": "stream",
          "name": "stdout",
          "text": [
            "Batch: 4. Loss: 0.501059\n"
          ]
        },
        {
          "output_type": "stream",
          "name": "stderr",
          "text": [
            "\r6it [00:04,  1.22it/s]"
          ]
        },
        {
          "output_type": "stream",
          "name": "stdout",
          "text": [
            "Batch: 5. Loss: 0.409626\n"
          ]
        },
        {
          "output_type": "stream",
          "name": "stderr",
          "text": [
            "\r7it [00:05,  1.20it/s]"
          ]
        },
        {
          "output_type": "stream",
          "name": "stdout",
          "text": [
            "Batch: 6. Loss: 0.352496\n"
          ]
        },
        {
          "output_type": "stream",
          "name": "stderr",
          "text": [
            "\r8it [00:06,  1.21it/s]"
          ]
        },
        {
          "output_type": "stream",
          "name": "stdout",
          "text": [
            "Batch: 7. Loss: 0.338103\n"
          ]
        },
        {
          "output_type": "stream",
          "name": "stderr",
          "text": [
            "\r9it [00:07,  1.20it/s]"
          ]
        },
        {
          "output_type": "stream",
          "name": "stdout",
          "text": [
            "Batch: 8. Loss: 0.472136\n"
          ]
        },
        {
          "output_type": "stream",
          "name": "stderr",
          "text": [
            "\r10it [00:08,  1.22it/s]"
          ]
        },
        {
          "output_type": "stream",
          "name": "stdout",
          "text": [
            "Batch: 9. Loss: 0.485447\n"
          ]
        },
        {
          "output_type": "stream",
          "name": "stderr",
          "text": [
            "\r11it [00:09,  1.20it/s]"
          ]
        },
        {
          "output_type": "stream",
          "name": "stdout",
          "text": [
            "Batch: 10. Loss: 0.304946\n"
          ]
        },
        {
          "output_type": "stream",
          "name": "stderr",
          "text": [
            "\r12it [00:09,  1.19it/s]"
          ]
        },
        {
          "output_type": "stream",
          "name": "stdout",
          "text": [
            "Batch: 11. Loss: 0.318865\n"
          ]
        },
        {
          "output_type": "stream",
          "name": "stderr",
          "text": [
            "\r13it [00:10,  1.20it/s]"
          ]
        },
        {
          "output_type": "stream",
          "name": "stdout",
          "text": [
            "Batch: 12. Loss: 0.246388\n"
          ]
        },
        {
          "output_type": "stream",
          "name": "stderr",
          "text": [
            "\r14it [00:11,  1.18it/s]"
          ]
        },
        {
          "output_type": "stream",
          "name": "stdout",
          "text": [
            "Batch: 13. Loss: 0.365198\n"
          ]
        },
        {
          "output_type": "stream",
          "name": "stderr",
          "text": [
            "\r15it [00:12,  1.19it/s]"
          ]
        },
        {
          "output_type": "stream",
          "name": "stdout",
          "text": [
            "Batch: 14. Loss: 0.331156\n"
          ]
        },
        {
          "output_type": "stream",
          "name": "stderr",
          "text": [
            "\r16it [00:13,  1.19it/s]"
          ]
        },
        {
          "output_type": "stream",
          "name": "stdout",
          "text": [
            "Batch: 15. Loss: 0.252837\n"
          ]
        },
        {
          "output_type": "stream",
          "name": "stderr",
          "text": [
            "\r17it [00:14,  1.19it/s]"
          ]
        },
        {
          "output_type": "stream",
          "name": "stdout",
          "text": [
            "Batch: 16. Loss: 0.294605\n"
          ]
        },
        {
          "output_type": "stream",
          "name": "stderr",
          "text": [
            "\r18it [00:14,  1.20it/s]"
          ]
        },
        {
          "output_type": "stream",
          "name": "stdout",
          "text": [
            "Batch: 17. Loss: 0.349496\n"
          ]
        },
        {
          "output_type": "stream",
          "name": "stderr",
          "text": [
            "\r19it [00:15,  1.22it/s]"
          ]
        },
        {
          "output_type": "stream",
          "name": "stdout",
          "text": [
            "Batch: 18. Loss: 0.476890\n"
          ]
        },
        {
          "output_type": "stream",
          "name": "stderr",
          "text": [
            "\r20it [00:16,  1.21it/s]"
          ]
        },
        {
          "output_type": "stream",
          "name": "stdout",
          "text": [
            "Batch: 19. Loss: 0.403991\n"
          ]
        },
        {
          "output_type": "stream",
          "name": "stderr",
          "text": [
            "\r21it [00:17,  1.22it/s]"
          ]
        },
        {
          "output_type": "stream",
          "name": "stdout",
          "text": [
            "Batch: 20. Loss: 0.330442\n"
          ]
        },
        {
          "output_type": "stream",
          "name": "stderr",
          "text": [
            "\r22it [00:18,  1.23it/s]"
          ]
        },
        {
          "output_type": "stream",
          "name": "stdout",
          "text": [
            "Batch: 21. Loss: 0.331971\n"
          ]
        },
        {
          "output_type": "stream",
          "name": "stderr",
          "text": [
            "\r23it [00:19,  1.20it/s]"
          ]
        },
        {
          "output_type": "stream",
          "name": "stdout",
          "text": [
            "Batch: 22. Loss: 0.251355\n"
          ]
        },
        {
          "output_type": "stream",
          "name": "stderr",
          "text": [
            "\r24it [00:19,  1.21it/s]"
          ]
        },
        {
          "output_type": "stream",
          "name": "stdout",
          "text": [
            "Batch: 23. Loss: 0.405839\n"
          ]
        },
        {
          "output_type": "stream",
          "name": "stderr",
          "text": [
            "\r25it [00:20,  1.21it/s]"
          ]
        },
        {
          "output_type": "stream",
          "name": "stdout",
          "text": [
            "Batch: 24. Loss: 0.433923\n"
          ]
        },
        {
          "output_type": "stream",
          "name": "stderr",
          "text": [
            "\r26it [00:21,  1.22it/s]"
          ]
        },
        {
          "output_type": "stream",
          "name": "stdout",
          "text": [
            "Batch: 25. Loss: 0.337440\n"
          ]
        },
        {
          "output_type": "stream",
          "name": "stderr",
          "text": [
            "\r27it [00:22,  1.23it/s]"
          ]
        },
        {
          "output_type": "stream",
          "name": "stdout",
          "text": [
            "Batch: 26. Loss: 0.280952\n"
          ]
        },
        {
          "output_type": "stream",
          "name": "stderr",
          "text": [
            "\r28it [00:23,  1.22it/s]"
          ]
        },
        {
          "output_type": "stream",
          "name": "stdout",
          "text": [
            "Batch: 27. Loss: 0.380127\n"
          ]
        },
        {
          "output_type": "stream",
          "name": "stderr",
          "text": [
            "\r29it [00:23,  1.22it/s]"
          ]
        },
        {
          "output_type": "stream",
          "name": "stdout",
          "text": [
            "Batch: 28. Loss: 0.441657\n"
          ]
        },
        {
          "output_type": "stream",
          "name": "stderr",
          "text": [
            "\r30it [00:24,  1.20it/s]"
          ]
        },
        {
          "output_type": "stream",
          "name": "stdout",
          "text": [
            "Batch: 29. Loss: 0.284806\n"
          ]
        },
        {
          "output_type": "stream",
          "name": "stderr",
          "text": [
            "\r31it [00:25,  1.22it/s]"
          ]
        },
        {
          "output_type": "stream",
          "name": "stdout",
          "text": [
            "Batch: 30. Loss: 0.374132\n"
          ]
        },
        {
          "output_type": "stream",
          "name": "stderr",
          "text": [
            "\r32it [00:26,  1.20it/s]"
          ]
        },
        {
          "output_type": "stream",
          "name": "stdout",
          "text": [
            "Batch: 31. Loss: 0.283052\n"
          ]
        },
        {
          "output_type": "stream",
          "name": "stderr",
          "text": [
            "\r33it [00:27,  1.20it/s]"
          ]
        },
        {
          "output_type": "stream",
          "name": "stdout",
          "text": [
            "Batch: 32. Loss: 0.211441\n"
          ]
        },
        {
          "output_type": "stream",
          "name": "stderr",
          "text": [
            "\r34it [00:28,  1.20it/s]"
          ]
        },
        {
          "output_type": "stream",
          "name": "stdout",
          "text": [
            "Batch: 33. Loss: 0.532633\n"
          ]
        },
        {
          "output_type": "stream",
          "name": "stderr",
          "text": [
            "\r35it [00:28,  1.20it/s]"
          ]
        },
        {
          "output_type": "stream",
          "name": "stdout",
          "text": [
            "Batch: 34. Loss: 0.246108\n"
          ]
        },
        {
          "output_type": "stream",
          "name": "stderr",
          "text": [
            "\r36it [00:29,  1.21it/s]"
          ]
        },
        {
          "output_type": "stream",
          "name": "stdout",
          "text": [
            "Batch: 35. Loss: 0.359818\n"
          ]
        },
        {
          "output_type": "stream",
          "name": "stderr",
          "text": [
            "\r37it [00:30,  1.20it/s]"
          ]
        },
        {
          "output_type": "stream",
          "name": "stdout",
          "text": [
            "Batch: 36. Loss: 0.238843\n"
          ]
        },
        {
          "output_type": "stream",
          "name": "stderr",
          "text": [
            "\r38it [00:31,  1.20it/s]"
          ]
        },
        {
          "output_type": "stream",
          "name": "stdout",
          "text": [
            "Batch: 37. Loss: 0.296869\n"
          ]
        },
        {
          "output_type": "stream",
          "name": "stderr",
          "text": [
            "\r39it [00:32,  1.19it/s]"
          ]
        },
        {
          "output_type": "stream",
          "name": "stdout",
          "text": [
            "Batch: 38. Loss: 0.376787\n"
          ]
        },
        {
          "output_type": "stream",
          "name": "stderr",
          "text": [
            "\r40it [00:33,  1.21it/s]"
          ]
        },
        {
          "output_type": "stream",
          "name": "stdout",
          "text": [
            "Batch: 39. Loss: 0.314312\n"
          ]
        },
        {
          "output_type": "stream",
          "name": "stderr",
          "text": [
            "\r41it [00:33,  1.20it/s]"
          ]
        },
        {
          "output_type": "stream",
          "name": "stdout",
          "text": [
            "Batch: 40. Loss: 0.348808\n"
          ]
        },
        {
          "output_type": "stream",
          "name": "stderr",
          "text": [
            "\r42it [00:34,  1.22it/s]"
          ]
        },
        {
          "output_type": "stream",
          "name": "stdout",
          "text": [
            "Batch: 41. Loss: 0.511178\n"
          ]
        },
        {
          "output_type": "stream",
          "name": "stderr",
          "text": [
            "\r43it [00:35,  1.21it/s]"
          ]
        },
        {
          "output_type": "stream",
          "name": "stdout",
          "text": [
            "Batch: 42. Loss: 0.319965\n"
          ]
        },
        {
          "output_type": "stream",
          "name": "stderr",
          "text": [
            "\r44it [00:36,  1.21it/s]"
          ]
        },
        {
          "output_type": "stream",
          "name": "stdout",
          "text": [
            "Batch: 43. Loss: 0.524943\n"
          ]
        },
        {
          "output_type": "stream",
          "name": "stderr",
          "text": [
            "\r45it [00:37,  1.22it/s]"
          ]
        },
        {
          "output_type": "stream",
          "name": "stdout",
          "text": [
            "Batch: 44. Loss: 0.329476\n"
          ]
        },
        {
          "output_type": "stream",
          "name": "stderr",
          "text": [
            "\r46it [00:38,  1.21it/s]"
          ]
        },
        {
          "output_type": "stream",
          "name": "stdout",
          "text": [
            "Batch: 45. Loss: 0.208642\n"
          ]
        },
        {
          "output_type": "stream",
          "name": "stderr",
          "text": [
            "\r47it [00:38,  1.22it/s]"
          ]
        },
        {
          "output_type": "stream",
          "name": "stdout",
          "text": [
            "Batch: 46. Loss: 0.586236\n"
          ]
        },
        {
          "output_type": "stream",
          "name": "stderr",
          "text": [
            "\r48it [00:39,  1.20it/s]"
          ]
        },
        {
          "output_type": "stream",
          "name": "stdout",
          "text": [
            "Batch: 47. Loss: 0.669556\n"
          ]
        },
        {
          "output_type": "stream",
          "name": "stderr",
          "text": [
            "\r49it [00:40,  1.21it/s]"
          ]
        },
        {
          "output_type": "stream",
          "name": "stdout",
          "text": [
            "Batch: 48. Loss: 0.321520\n"
          ]
        },
        {
          "output_type": "stream",
          "name": "stderr",
          "text": [
            "\r50it [00:41,  1.21it/s]"
          ]
        },
        {
          "output_type": "stream",
          "name": "stdout",
          "text": [
            "Batch: 49. Loss: 0.438635\n"
          ]
        },
        {
          "output_type": "stream",
          "name": "stderr",
          "text": [
            "\r51it [00:42,  1.23it/s]"
          ]
        },
        {
          "output_type": "stream",
          "name": "stdout",
          "text": [
            "Batch: 50. Loss: 0.306129\n"
          ]
        },
        {
          "output_type": "stream",
          "name": "stderr",
          "text": [
            "\r52it [00:42,  1.22it/s]"
          ]
        },
        {
          "output_type": "stream",
          "name": "stdout",
          "text": [
            "Batch: 51. Loss: 0.647927\n"
          ]
        },
        {
          "output_type": "stream",
          "name": "stderr",
          "text": [
            "\r53it [00:43,  1.22it/s]"
          ]
        },
        {
          "output_type": "stream",
          "name": "stdout",
          "text": [
            "Batch: 52. Loss: 0.405847\n"
          ]
        },
        {
          "output_type": "stream",
          "name": "stderr",
          "text": [
            "\r54it [00:44,  1.22it/s]"
          ]
        },
        {
          "output_type": "stream",
          "name": "stdout",
          "text": [
            "Batch: 53. Loss: 0.426387\n"
          ]
        },
        {
          "output_type": "stream",
          "name": "stderr",
          "text": [
            "\r55it [00:45,  1.22it/s]"
          ]
        },
        {
          "output_type": "stream",
          "name": "stdout",
          "text": [
            "Batch: 54. Loss: 0.503135\n"
          ]
        },
        {
          "output_type": "stream",
          "name": "stderr",
          "text": [
            "\r56it [00:46,  1.23it/s]"
          ]
        },
        {
          "output_type": "stream",
          "name": "stdout",
          "text": [
            "Batch: 55. Loss: 0.288641\n"
          ]
        },
        {
          "output_type": "stream",
          "name": "stderr",
          "text": [
            "\r57it [00:47,  1.23it/s]"
          ]
        },
        {
          "output_type": "stream",
          "name": "stdout",
          "text": [
            "Batch: 56. Loss: 0.499823\n"
          ]
        },
        {
          "output_type": "stream",
          "name": "stderr",
          "text": [
            "\r58it [00:47,  1.23it/s]"
          ]
        },
        {
          "output_type": "stream",
          "name": "stdout",
          "text": [
            "Batch: 57. Loss: 0.404947\n"
          ]
        },
        {
          "output_type": "stream",
          "name": "stderr",
          "text": [
            "\r59it [00:48,  1.22it/s]"
          ]
        },
        {
          "output_type": "stream",
          "name": "stdout",
          "text": [
            "Batch: 58. Loss: 0.459857\n"
          ]
        },
        {
          "output_type": "stream",
          "name": "stderr",
          "text": [
            "\r60it [00:49,  1.22it/s]"
          ]
        },
        {
          "output_type": "stream",
          "name": "stdout",
          "text": [
            "Batch: 59. Loss: 0.364960\n"
          ]
        },
        {
          "output_type": "stream",
          "name": "stderr",
          "text": [
            "\r61it [00:50,  1.20it/s]"
          ]
        },
        {
          "output_type": "stream",
          "name": "stdout",
          "text": [
            "Batch: 60. Loss: 0.530793\n"
          ]
        },
        {
          "output_type": "stream",
          "name": "stderr",
          "text": [
            "\r62it [00:51,  1.20it/s]"
          ]
        },
        {
          "output_type": "stream",
          "name": "stdout",
          "text": [
            "Batch: 61. Loss: 0.253925\n"
          ]
        },
        {
          "output_type": "stream",
          "name": "stderr",
          "text": [
            "\r63it [00:52,  1.20it/s]"
          ]
        },
        {
          "output_type": "stream",
          "name": "stdout",
          "text": [
            "Batch: 62. Loss: 0.329758\n"
          ]
        },
        {
          "output_type": "stream",
          "name": "stderr",
          "text": [
            "\r64it [00:52,  1.20it/s]"
          ]
        },
        {
          "output_type": "stream",
          "name": "stdout",
          "text": [
            "Batch: 63. Loss: 0.262282\n"
          ]
        },
        {
          "output_type": "stream",
          "name": "stderr",
          "text": [
            "\r65it [00:53,  1.22it/s]"
          ]
        },
        {
          "output_type": "stream",
          "name": "stdout",
          "text": [
            "Batch: 64. Loss: 0.865730\n"
          ]
        },
        {
          "output_type": "stream",
          "name": "stderr",
          "text": [
            "\r66it [00:54,  1.22it/s]"
          ]
        },
        {
          "output_type": "stream",
          "name": "stdout",
          "text": [
            "Batch: 65. Loss: 0.387749\n"
          ]
        },
        {
          "output_type": "stream",
          "name": "stderr",
          "text": [
            "\r67it [00:55,  1.22it/s]"
          ]
        },
        {
          "output_type": "stream",
          "name": "stdout",
          "text": [
            "Batch: 66. Loss: 0.204175\n"
          ]
        },
        {
          "output_type": "stream",
          "name": "stderr",
          "text": [
            "\r68it [00:56,  1.23it/s]"
          ]
        },
        {
          "output_type": "stream",
          "name": "stdout",
          "text": [
            "Batch: 67. Loss: 0.235760\n"
          ]
        },
        {
          "output_type": "stream",
          "name": "stderr",
          "text": [
            "\r69it [00:56,  1.23it/s]"
          ]
        },
        {
          "output_type": "stream",
          "name": "stdout",
          "text": [
            "Batch: 68. Loss: 0.371850\n"
          ]
        },
        {
          "output_type": "stream",
          "name": "stderr",
          "text": [
            "\r70it [00:57,  1.25it/s]"
          ]
        },
        {
          "output_type": "stream",
          "name": "stdout",
          "text": [
            "Batch: 69. Loss: 0.418658\n"
          ]
        },
        {
          "output_type": "stream",
          "name": "stderr",
          "text": [
            "\r71it [00:58,  1.24it/s]"
          ]
        },
        {
          "output_type": "stream",
          "name": "stdout",
          "text": [
            "Batch: 70. Loss: 0.327146\n"
          ]
        },
        {
          "output_type": "stream",
          "name": "stderr",
          "text": [
            "\r72it [00:59,  1.23it/s]"
          ]
        },
        {
          "output_type": "stream",
          "name": "stdout",
          "text": [
            "Batch: 71. Loss: 0.602657\n"
          ]
        },
        {
          "output_type": "stream",
          "name": "stderr",
          "text": [
            "\r73it [01:00,  1.23it/s]"
          ]
        },
        {
          "output_type": "stream",
          "name": "stdout",
          "text": [
            "Batch: 72. Loss: 0.332402\n"
          ]
        },
        {
          "output_type": "stream",
          "name": "stderr",
          "text": [
            "\r74it [01:00,  1.23it/s]"
          ]
        },
        {
          "output_type": "stream",
          "name": "stdout",
          "text": [
            "Batch: 73. Loss: 0.317852\n"
          ]
        },
        {
          "output_type": "stream",
          "name": "stderr",
          "text": [
            "\r75it [01:01,  1.24it/s]"
          ]
        },
        {
          "output_type": "stream",
          "name": "stdout",
          "text": [
            "Batch: 74. Loss: 0.337900\n"
          ]
        },
        {
          "output_type": "stream",
          "name": "stderr",
          "text": [
            "\r76it [01:02,  1.23it/s]"
          ]
        },
        {
          "output_type": "stream",
          "name": "stdout",
          "text": [
            "Batch: 75. Loss: 0.364171\n"
          ]
        },
        {
          "output_type": "stream",
          "name": "stderr",
          "text": [
            "\r77it [01:03,  1.22it/s]"
          ]
        },
        {
          "output_type": "stream",
          "name": "stdout",
          "text": [
            "Batch: 76. Loss: 0.183554\n"
          ]
        },
        {
          "output_type": "stream",
          "name": "stderr",
          "text": [
            "\r78it [01:04,  1.20it/s]"
          ]
        },
        {
          "output_type": "stream",
          "name": "stdout",
          "text": [
            "Batch: 77. Loss: 0.275084\n"
          ]
        },
        {
          "output_type": "stream",
          "name": "stderr",
          "text": [
            "\r79it [01:05,  1.20it/s]"
          ]
        },
        {
          "output_type": "stream",
          "name": "stdout",
          "text": [
            "Batch: 78. Loss: 0.392839\n"
          ]
        },
        {
          "output_type": "stream",
          "name": "stderr",
          "text": [
            "\r80it [01:05,  1.20it/s]"
          ]
        },
        {
          "output_type": "stream",
          "name": "stdout",
          "text": [
            "Batch: 79. Loss: 0.491332\n"
          ]
        },
        {
          "output_type": "stream",
          "name": "stderr",
          "text": [
            "\r81it [01:06,  1.20it/s]"
          ]
        },
        {
          "output_type": "stream",
          "name": "stdout",
          "text": [
            "Batch: 80. Loss: 0.468940\n"
          ]
        },
        {
          "output_type": "stream",
          "name": "stderr",
          "text": [
            "\r82it [01:07,  1.21it/s]"
          ]
        },
        {
          "output_type": "stream",
          "name": "stdout",
          "text": [
            "Batch: 81. Loss: 0.369197\n"
          ]
        },
        {
          "output_type": "stream",
          "name": "stderr",
          "text": [
            "\r83it [01:08,  1.21it/s]"
          ]
        },
        {
          "output_type": "stream",
          "name": "stdout",
          "text": [
            "Batch: 82. Loss: 0.363950\n"
          ]
        },
        {
          "output_type": "stream",
          "name": "stderr",
          "text": [
            "\r84it [01:09,  1.23it/s]"
          ]
        },
        {
          "output_type": "stream",
          "name": "stdout",
          "text": [
            "Batch: 83. Loss: 0.743533\n"
          ]
        },
        {
          "output_type": "stream",
          "name": "stderr",
          "text": [
            "\r85it [01:10,  1.23it/s]"
          ]
        },
        {
          "output_type": "stream",
          "name": "stdout",
          "text": [
            "Batch: 84. Loss: 0.307583\n"
          ]
        },
        {
          "output_type": "stream",
          "name": "stderr",
          "text": [
            "\r86it [01:10,  1.23it/s]"
          ]
        },
        {
          "output_type": "stream",
          "name": "stdout",
          "text": [
            "Batch: 85. Loss: 0.253869\n"
          ]
        },
        {
          "output_type": "stream",
          "name": "stderr",
          "text": [
            "\r87it [01:11,  1.23it/s]"
          ]
        },
        {
          "output_type": "stream",
          "name": "stdout",
          "text": [
            "Batch: 86. Loss: 0.565804\n"
          ]
        },
        {
          "output_type": "stream",
          "name": "stderr",
          "text": [
            "\r88it [01:12,  1.21it/s]"
          ]
        },
        {
          "output_type": "stream",
          "name": "stdout",
          "text": [
            "Batch: 87. Loss: 0.240657\n"
          ]
        },
        {
          "output_type": "stream",
          "name": "stderr",
          "text": [
            "\r89it [01:13,  1.21it/s]"
          ]
        },
        {
          "output_type": "stream",
          "name": "stdout",
          "text": [
            "Batch: 88. Loss: 0.633923\n"
          ]
        },
        {
          "output_type": "stream",
          "name": "stderr",
          "text": [
            "\r90it [01:14,  1.19it/s]"
          ]
        },
        {
          "output_type": "stream",
          "name": "stdout",
          "text": [
            "Batch: 89. Loss: 0.428710\n"
          ]
        },
        {
          "output_type": "stream",
          "name": "stderr",
          "text": [
            "\r91it [01:15,  1.22it/s]"
          ]
        },
        {
          "output_type": "stream",
          "name": "stdout",
          "text": [
            "Batch: 90. Loss: 0.494577\n"
          ]
        },
        {
          "output_type": "stream",
          "name": "stderr",
          "text": [
            "\r92it [01:15,  1.21it/s]"
          ]
        },
        {
          "output_type": "stream",
          "name": "stdout",
          "text": [
            "Batch: 91. Loss: 0.440143\n"
          ]
        },
        {
          "output_type": "stream",
          "name": "stderr",
          "text": [
            "\r93it [01:16,  1.20it/s]"
          ]
        },
        {
          "output_type": "stream",
          "name": "stdout",
          "text": [
            "Batch: 92. Loss: 0.387541\n"
          ]
        },
        {
          "output_type": "stream",
          "name": "stderr",
          "text": [
            "\r94it [01:17,  1.21it/s]"
          ]
        },
        {
          "output_type": "stream",
          "name": "stdout",
          "text": [
            "Batch: 93. Loss: 0.359768\n"
          ]
        },
        {
          "output_type": "stream",
          "name": "stderr",
          "text": [
            "\r95it [01:18,  1.21it/s]"
          ]
        },
        {
          "output_type": "stream",
          "name": "stdout",
          "text": [
            "Batch: 94. Loss: 0.253870\n"
          ]
        },
        {
          "output_type": "stream",
          "name": "stderr",
          "text": [
            "\r96it [01:19,  1.22it/s]"
          ]
        },
        {
          "output_type": "stream",
          "name": "stdout",
          "text": [
            "Batch: 95. Loss: 0.417685\n"
          ]
        },
        {
          "output_type": "stream",
          "name": "stderr",
          "text": [
            "\r97it [01:19,  1.21it/s]"
          ]
        },
        {
          "output_type": "stream",
          "name": "stdout",
          "text": [
            "Batch: 96. Loss: 0.445795\n"
          ]
        },
        {
          "output_type": "stream",
          "name": "stderr",
          "text": [
            "\r98it [01:20,  1.24it/s]"
          ]
        },
        {
          "output_type": "stream",
          "name": "stdout",
          "text": [
            "Batch: 97. Loss: 0.403062\n"
          ]
        },
        {
          "output_type": "stream",
          "name": "stderr",
          "text": [
            "\r99it [01:21,  1.23it/s]"
          ]
        },
        {
          "output_type": "stream",
          "name": "stdout",
          "text": [
            "Batch: 98. Loss: 0.441178\n"
          ]
        },
        {
          "output_type": "stream",
          "name": "stderr",
          "text": [
            "\r100it [01:22,  1.24it/s]"
          ]
        },
        {
          "output_type": "stream",
          "name": "stdout",
          "text": [
            "Batch: 99. Loss: 0.477466\n"
          ]
        },
        {
          "output_type": "stream",
          "name": "stderr",
          "text": [
            "\r101it [01:23,  1.23it/s]"
          ]
        },
        {
          "output_type": "stream",
          "name": "stdout",
          "text": [
            "Batch: 100. Loss: 0.279881\n"
          ]
        },
        {
          "output_type": "stream",
          "name": "stderr",
          "text": [
            "\r102it [01:23,  1.25it/s]"
          ]
        },
        {
          "output_type": "stream",
          "name": "stdout",
          "text": [
            "Batch: 101. Loss: 0.413736\n"
          ]
        },
        {
          "output_type": "stream",
          "name": "stderr",
          "text": [
            "\r103it [01:24,  1.22it/s]"
          ]
        },
        {
          "output_type": "stream",
          "name": "stdout",
          "text": [
            "Batch: 102. Loss: 0.525296\n"
          ]
        },
        {
          "output_type": "stream",
          "name": "stderr",
          "text": [
            "\r104it [01:25,  1.23it/s]"
          ]
        },
        {
          "output_type": "stream",
          "name": "stdout",
          "text": [
            "Batch: 103. Loss: 0.275026\n"
          ]
        },
        {
          "output_type": "stream",
          "name": "stderr",
          "text": [
            "\r105it [01:26,  1.24it/s]"
          ]
        },
        {
          "output_type": "stream",
          "name": "stdout",
          "text": [
            "Batch: 104. Loss: 0.388803\n"
          ]
        },
        {
          "output_type": "stream",
          "name": "stderr",
          "text": [
            "\r106it [01:27,  1.21it/s]"
          ]
        },
        {
          "output_type": "stream",
          "name": "stdout",
          "text": [
            "Batch: 105. Loss: 0.381475\n"
          ]
        },
        {
          "output_type": "stream",
          "name": "stderr",
          "text": [
            "\r107it [01:28,  1.23it/s]"
          ]
        },
        {
          "output_type": "stream",
          "name": "stdout",
          "text": [
            "Batch: 106. Loss: 0.606995\n"
          ]
        },
        {
          "output_type": "stream",
          "name": "stderr",
          "text": [
            "\r108it [01:28,  1.24it/s]"
          ]
        },
        {
          "output_type": "stream",
          "name": "stdout",
          "text": [
            "Batch: 107. Loss: 0.254109\n"
          ]
        },
        {
          "output_type": "stream",
          "name": "stderr",
          "text": [
            "\r109it [01:29,  1.23it/s]"
          ]
        },
        {
          "output_type": "stream",
          "name": "stdout",
          "text": [
            "Batch: 108. Loss: 0.348094\n"
          ]
        },
        {
          "output_type": "stream",
          "name": "stderr",
          "text": [
            "\r110it [01:30,  1.23it/s]"
          ]
        },
        {
          "output_type": "stream",
          "name": "stdout",
          "text": [
            "Batch: 109. Loss: 0.549698\n"
          ]
        },
        {
          "output_type": "stream",
          "name": "stderr",
          "text": [
            "\r111it [01:31,  1.23it/s]"
          ]
        },
        {
          "output_type": "stream",
          "name": "stdout",
          "text": [
            "Batch: 110. Loss: 0.411897\n"
          ]
        },
        {
          "output_type": "stream",
          "name": "stderr",
          "text": [
            "\r112it [01:32,  1.24it/s]"
          ]
        },
        {
          "output_type": "stream",
          "name": "stdout",
          "text": [
            "Batch: 111. Loss: 0.459628\n"
          ]
        },
        {
          "output_type": "stream",
          "name": "stderr",
          "text": [
            "\r113it [01:32,  1.22it/s]"
          ]
        },
        {
          "output_type": "stream",
          "name": "stdout",
          "text": [
            "Batch: 112. Loss: 0.437507\n"
          ]
        },
        {
          "output_type": "stream",
          "name": "stderr",
          "text": [
            "\r114it [01:33,  1.22it/s]"
          ]
        },
        {
          "output_type": "stream",
          "name": "stdout",
          "text": [
            "Batch: 113. Loss: 0.261384\n"
          ]
        },
        {
          "output_type": "stream",
          "name": "stderr",
          "text": [
            "\r115it [01:34,  1.23it/s]"
          ]
        },
        {
          "output_type": "stream",
          "name": "stdout",
          "text": [
            "Batch: 114. Loss: 0.299846\n"
          ]
        },
        {
          "output_type": "stream",
          "name": "stderr",
          "text": [
            "\r116it [01:35,  1.23it/s]"
          ]
        },
        {
          "output_type": "stream",
          "name": "stdout",
          "text": [
            "Batch: 115. Loss: 0.330024\n"
          ]
        },
        {
          "output_type": "stream",
          "name": "stderr",
          "text": [
            "\r117it [01:36,  1.21it/s]"
          ]
        },
        {
          "output_type": "stream",
          "name": "stdout",
          "text": [
            "Batch: 116. Loss: 0.384156\n"
          ]
        },
        {
          "output_type": "stream",
          "name": "stderr",
          "text": [
            "\r118it [01:37,  1.20it/s]"
          ]
        },
        {
          "output_type": "stream",
          "name": "stdout",
          "text": [
            "Batch: 117. Loss: 0.472595\n"
          ]
        },
        {
          "output_type": "stream",
          "name": "stderr",
          "text": [
            "\r119it [01:37,  1.21it/s]"
          ]
        },
        {
          "output_type": "stream",
          "name": "stdout",
          "text": [
            "Batch: 118. Loss: 0.479865\n"
          ]
        },
        {
          "output_type": "stream",
          "name": "stderr",
          "text": [
            "\r120it [01:38,  1.21it/s]"
          ]
        },
        {
          "output_type": "stream",
          "name": "stdout",
          "text": [
            "Batch: 119. Loss: 0.369532\n"
          ]
        },
        {
          "output_type": "stream",
          "name": "stderr",
          "text": [
            "\r121it [01:39,  1.20it/s]"
          ]
        },
        {
          "output_type": "stream",
          "name": "stdout",
          "text": [
            "Batch: 120. Loss: 0.294708\n"
          ]
        },
        {
          "output_type": "stream",
          "name": "stderr",
          "text": [
            "\r122it [01:40,  1.19it/s]"
          ]
        },
        {
          "output_type": "stream",
          "name": "stdout",
          "text": [
            "Batch: 121. Loss: 0.346009\n"
          ]
        },
        {
          "output_type": "stream",
          "name": "stderr",
          "text": [
            "\r123it [01:41,  1.19it/s]"
          ]
        },
        {
          "output_type": "stream",
          "name": "stdout",
          "text": [
            "Batch: 122. Loss: 0.523745\n"
          ]
        },
        {
          "output_type": "stream",
          "name": "stderr",
          "text": [
            "\r124it [01:42,  1.20it/s]"
          ]
        },
        {
          "output_type": "stream",
          "name": "stdout",
          "text": [
            "Batch: 123. Loss: 0.362286\n"
          ]
        },
        {
          "output_type": "stream",
          "name": "stderr",
          "text": [
            "\r125it [01:42,  1.20it/s]"
          ]
        },
        {
          "output_type": "stream",
          "name": "stdout",
          "text": [
            "Batch: 124. Loss: 0.617916\n"
          ]
        },
        {
          "output_type": "stream",
          "name": "stderr",
          "text": [
            "\r126it [01:43,  1.20it/s]"
          ]
        },
        {
          "output_type": "stream",
          "name": "stdout",
          "text": [
            "Batch: 125. Loss: 0.346009\n"
          ]
        },
        {
          "output_type": "stream",
          "name": "stderr",
          "text": [
            "\r127it [01:44,  1.19it/s]"
          ]
        },
        {
          "output_type": "stream",
          "name": "stdout",
          "text": [
            "Batch: 126. Loss: 0.343479\n"
          ]
        },
        {
          "output_type": "stream",
          "name": "stderr",
          "text": [
            "\r128it [01:45,  1.17it/s]"
          ]
        },
        {
          "output_type": "stream",
          "name": "stdout",
          "text": [
            "Batch: 127. Loss: 0.390989\n"
          ]
        },
        {
          "output_type": "stream",
          "name": "stderr",
          "text": [
            "\r129it [01:46,  1.17it/s]"
          ]
        },
        {
          "output_type": "stream",
          "name": "stdout",
          "text": [
            "Batch: 128. Loss: 0.615677\n"
          ]
        },
        {
          "output_type": "stream",
          "name": "stderr",
          "text": [
            "\r130it [01:47,  1.17it/s]"
          ]
        },
        {
          "output_type": "stream",
          "name": "stdout",
          "text": [
            "Batch: 129. Loss: 0.441710\n"
          ]
        },
        {
          "output_type": "stream",
          "name": "stderr",
          "text": [
            "\r131it [01:48,  1.19it/s]"
          ]
        },
        {
          "output_type": "stream",
          "name": "stdout",
          "text": [
            "Batch: 130. Loss: 0.412978\n"
          ]
        },
        {
          "output_type": "stream",
          "name": "stderr",
          "text": [
            "\r132it [01:48,  1.19it/s]"
          ]
        },
        {
          "output_type": "stream",
          "name": "stdout",
          "text": [
            "Batch: 131. Loss: 0.533962\n"
          ]
        },
        {
          "output_type": "stream",
          "name": "stderr",
          "text": [
            "\r133it [01:49,  1.19it/s]"
          ]
        },
        {
          "output_type": "stream",
          "name": "stdout",
          "text": [
            "Batch: 132. Loss: 0.334944\n"
          ]
        },
        {
          "output_type": "stream",
          "name": "stderr",
          "text": [
            "\r134it [01:50,  1.20it/s]"
          ]
        },
        {
          "output_type": "stream",
          "name": "stdout",
          "text": [
            "Batch: 133. Loss: 0.523048\n"
          ]
        },
        {
          "output_type": "stream",
          "name": "stderr",
          "text": [
            "\r135it [01:51,  1.20it/s]"
          ]
        },
        {
          "output_type": "stream",
          "name": "stdout",
          "text": [
            "Batch: 134. Loss: 0.391535\n"
          ]
        },
        {
          "output_type": "stream",
          "name": "stderr",
          "text": [
            "\r136it [01:52,  1.20it/s]"
          ]
        },
        {
          "output_type": "stream",
          "name": "stdout",
          "text": [
            "Batch: 135. Loss: 0.581865\n"
          ]
        },
        {
          "output_type": "stream",
          "name": "stderr",
          "text": [
            "\r137it [01:52,  1.21it/s]"
          ]
        },
        {
          "output_type": "stream",
          "name": "stdout",
          "text": [
            "Batch: 136. Loss: 0.693124\n"
          ]
        },
        {
          "output_type": "stream",
          "name": "stderr",
          "text": [
            "\r138it [01:53,  1.23it/s]"
          ]
        },
        {
          "output_type": "stream",
          "name": "stdout",
          "text": [
            "Batch: 137. Loss: 0.334687\n"
          ]
        },
        {
          "output_type": "stream",
          "name": "stderr",
          "text": [
            "\r139it [01:54,  1.23it/s]"
          ]
        },
        {
          "output_type": "stream",
          "name": "stdout",
          "text": [
            "Batch: 138. Loss: 0.501169\n"
          ]
        },
        {
          "output_type": "stream",
          "name": "stderr",
          "text": [
            "\r140it [01:55,  1.23it/s]"
          ]
        },
        {
          "output_type": "stream",
          "name": "stdout",
          "text": [
            "Batch: 139. Loss: 0.453823\n"
          ]
        },
        {
          "output_type": "stream",
          "name": "stderr",
          "text": [
            "\r141it [01:56,  1.21it/s]"
          ]
        },
        {
          "output_type": "stream",
          "name": "stdout",
          "text": [
            "Batch: 140. Loss: 0.363729\n"
          ]
        },
        {
          "output_type": "stream",
          "name": "stderr",
          "text": [
            "\r142it [01:57,  1.21it/s]"
          ]
        },
        {
          "output_type": "stream",
          "name": "stdout",
          "text": [
            "Batch: 141. Loss: 0.408778\n"
          ]
        },
        {
          "output_type": "stream",
          "name": "stderr",
          "text": [
            "\r143it [01:57,  1.23it/s]"
          ]
        },
        {
          "output_type": "stream",
          "name": "stdout",
          "text": [
            "Batch: 142. Loss: 0.480320\n"
          ]
        },
        {
          "output_type": "stream",
          "name": "stderr",
          "text": [
            "\r144it [01:58,  1.23it/s]"
          ]
        },
        {
          "output_type": "stream",
          "name": "stdout",
          "text": [
            "Batch: 143. Loss: 0.402013\n"
          ]
        },
        {
          "output_type": "stream",
          "name": "stderr",
          "text": [
            "\r145it [01:59,  1.25it/s]"
          ]
        },
        {
          "output_type": "stream",
          "name": "stdout",
          "text": [
            "Batch: 144. Loss: 0.454708\n"
          ]
        },
        {
          "output_type": "stream",
          "name": "stderr",
          "text": [
            "\r146it [02:00,  1.24it/s]"
          ]
        },
        {
          "output_type": "stream",
          "name": "stdout",
          "text": [
            "Batch: 145. Loss: 0.385258\n"
          ]
        },
        {
          "output_type": "stream",
          "name": "stderr",
          "text": [
            "\r147it [02:01,  1.20it/s]"
          ]
        },
        {
          "output_type": "stream",
          "name": "stdout",
          "text": [
            "Batch: 146. Loss: 0.510942\n"
          ]
        },
        {
          "output_type": "stream",
          "name": "stderr",
          "text": [
            "\r148it [02:02,  1.20it/s]"
          ]
        },
        {
          "output_type": "stream",
          "name": "stdout",
          "text": [
            "Batch: 147. Loss: 0.503672\n"
          ]
        },
        {
          "output_type": "stream",
          "name": "stderr",
          "text": [
            "\r149it [02:02,  1.20it/s]"
          ]
        },
        {
          "output_type": "stream",
          "name": "stdout",
          "text": [
            "Batch: 148. Loss: 0.440805\n"
          ]
        },
        {
          "output_type": "stream",
          "name": "stderr",
          "text": [
            "\r150it [02:03,  1.20it/s]"
          ]
        },
        {
          "output_type": "stream",
          "name": "stdout",
          "text": [
            "Batch: 149. Loss: 0.309509\n"
          ]
        },
        {
          "output_type": "stream",
          "name": "stderr",
          "text": [
            "\r151it [02:04,  1.19it/s]"
          ]
        },
        {
          "output_type": "stream",
          "name": "stdout",
          "text": [
            "Batch: 150. Loss: 0.289902\n"
          ]
        },
        {
          "output_type": "stream",
          "name": "stderr",
          "text": [
            "\r152it [02:05,  1.21it/s]"
          ]
        },
        {
          "output_type": "stream",
          "name": "stdout",
          "text": [
            "Batch: 151. Loss: 0.406755\n"
          ]
        },
        {
          "output_type": "stream",
          "name": "stderr",
          "text": [
            "\r153it [02:06,  1.21it/s]"
          ]
        },
        {
          "output_type": "stream",
          "name": "stdout",
          "text": [
            "Batch: 152. Loss: 0.269243\n"
          ]
        },
        {
          "output_type": "stream",
          "name": "stderr",
          "text": [
            "\r154it [02:06,  1.20it/s]"
          ]
        },
        {
          "output_type": "stream",
          "name": "stdout",
          "text": [
            "Batch: 153. Loss: 0.273588\n"
          ]
        },
        {
          "output_type": "stream",
          "name": "stderr",
          "text": [
            "\r155it [02:07,  1.20it/s]"
          ]
        },
        {
          "output_type": "stream",
          "name": "stdout",
          "text": [
            "Batch: 154. Loss: 0.369367\n"
          ]
        },
        {
          "output_type": "stream",
          "name": "stderr",
          "text": [
            "\r156it [02:08,  1.21it/s]"
          ]
        },
        {
          "output_type": "stream",
          "name": "stdout",
          "text": [
            "Batch: 155. Loss: 0.408043\n"
          ]
        },
        {
          "output_type": "stream",
          "name": "stderr",
          "text": [
            "\r157it [02:09,  1.22it/s]"
          ]
        },
        {
          "output_type": "stream",
          "name": "stdout",
          "text": [
            "Batch: 156. Loss: 0.378882\n"
          ]
        },
        {
          "output_type": "stream",
          "name": "stderr",
          "text": [
            "\r158it [02:10,  1.23it/s]"
          ]
        },
        {
          "output_type": "stream",
          "name": "stdout",
          "text": [
            "Batch: 157. Loss: 0.506941\n"
          ]
        },
        {
          "output_type": "stream",
          "name": "stderr",
          "text": [
            "\r159it [02:11,  1.21it/s]"
          ]
        },
        {
          "output_type": "stream",
          "name": "stdout",
          "text": [
            "Batch: 158. Loss: 0.344628\n"
          ]
        },
        {
          "output_type": "stream",
          "name": "stderr",
          "text": [
            "\r160it [02:11,  1.22it/s]"
          ]
        },
        {
          "output_type": "stream",
          "name": "stdout",
          "text": [
            "Batch: 159. Loss: 0.289978\n"
          ]
        },
        {
          "output_type": "stream",
          "name": "stderr",
          "text": [
            "\r161it [02:12,  1.20it/s]"
          ]
        },
        {
          "output_type": "stream",
          "name": "stdout",
          "text": [
            "Batch: 160. Loss: 0.286934\n"
          ]
        },
        {
          "output_type": "stream",
          "name": "stderr",
          "text": [
            "\r162it [02:13,  1.20it/s]"
          ]
        },
        {
          "output_type": "stream",
          "name": "stdout",
          "text": [
            "Batch: 161. Loss: 0.268370\n"
          ]
        },
        {
          "output_type": "stream",
          "name": "stderr",
          "text": [
            "\r163it [02:14,  1.20it/s]"
          ]
        },
        {
          "output_type": "stream",
          "name": "stdout",
          "text": [
            "Batch: 162. Loss: 0.504273\n"
          ]
        },
        {
          "output_type": "stream",
          "name": "stderr",
          "text": [
            "164it [02:15,  1.21it/s]\n"
          ]
        },
        {
          "output_type": "stream",
          "name": "stdout",
          "text": [
            "Batch: 163. Loss: 0.695354\n",
            "Cost at epoch 7 is 0.3995921987040741\n"
          ]
        },
        {
          "output_type": "stream",
          "name": "stderr",
          "text": [
            "1it [00:00,  1.18it/s]"
          ]
        },
        {
          "output_type": "stream",
          "name": "stdout",
          "text": [
            "Batch: 0. Loss: 0.300323\n"
          ]
        },
        {
          "output_type": "stream",
          "name": "stderr",
          "text": [
            "\r2it [00:01,  1.18it/s]"
          ]
        },
        {
          "output_type": "stream",
          "name": "stdout",
          "text": [
            "Batch: 1. Loss: 0.185143\n"
          ]
        },
        {
          "output_type": "stream",
          "name": "stderr",
          "text": [
            "\r3it [00:02,  1.21it/s]"
          ]
        },
        {
          "output_type": "stream",
          "name": "stdout",
          "text": [
            "Batch: 2. Loss: 0.137340\n"
          ]
        },
        {
          "output_type": "stream",
          "name": "stderr",
          "text": [
            "\r4it [00:03,  1.21it/s]"
          ]
        },
        {
          "output_type": "stream",
          "name": "stdout",
          "text": [
            "Batch: 3. Loss: 0.592118\n"
          ]
        },
        {
          "output_type": "stream",
          "name": "stderr",
          "text": [
            "\r5it [00:04,  1.20it/s]"
          ]
        },
        {
          "output_type": "stream",
          "name": "stdout",
          "text": [
            "Batch: 4. Loss: 0.355424\n"
          ]
        },
        {
          "output_type": "stream",
          "name": "stderr",
          "text": [
            "\r6it [00:04,  1.21it/s]"
          ]
        },
        {
          "output_type": "stream",
          "name": "stdout",
          "text": [
            "Batch: 5. Loss: 0.231200\n"
          ]
        },
        {
          "output_type": "stream",
          "name": "stderr",
          "text": [
            "\r7it [00:05,  1.22it/s]"
          ]
        },
        {
          "output_type": "stream",
          "name": "stdout",
          "text": [
            "Batch: 6. Loss: 0.305418\n"
          ]
        },
        {
          "output_type": "stream",
          "name": "stderr",
          "text": [
            "\r8it [00:06,  1.22it/s]"
          ]
        },
        {
          "output_type": "stream",
          "name": "stdout",
          "text": [
            "Batch: 7. Loss: 0.228370\n"
          ]
        },
        {
          "output_type": "stream",
          "name": "stderr",
          "text": [
            "\r9it [00:07,  1.21it/s]"
          ]
        },
        {
          "output_type": "stream",
          "name": "stdout",
          "text": [
            "Batch: 8. Loss: 0.392312\n"
          ]
        },
        {
          "output_type": "stream",
          "name": "stderr",
          "text": [
            "\r10it [00:08,  1.23it/s]"
          ]
        },
        {
          "output_type": "stream",
          "name": "stdout",
          "text": [
            "Batch: 9. Loss: 0.302346\n"
          ]
        },
        {
          "output_type": "stream",
          "name": "stderr",
          "text": [
            "\r11it [00:09,  1.21it/s]"
          ]
        },
        {
          "output_type": "stream",
          "name": "stdout",
          "text": [
            "Batch: 10. Loss: 0.243035\n"
          ]
        },
        {
          "output_type": "stream",
          "name": "stderr",
          "text": [
            "\r12it [00:09,  1.21it/s]"
          ]
        },
        {
          "output_type": "stream",
          "name": "stdout",
          "text": [
            "Batch: 11. Loss: 0.178453\n"
          ]
        },
        {
          "output_type": "stream",
          "name": "stderr",
          "text": [
            "\r13it [00:10,  1.20it/s]"
          ]
        },
        {
          "output_type": "stream",
          "name": "stdout",
          "text": [
            "Batch: 12. Loss: 0.170393\n"
          ]
        },
        {
          "output_type": "stream",
          "name": "stderr",
          "text": [
            "\r14it [00:11,  1.21it/s]"
          ]
        },
        {
          "output_type": "stream",
          "name": "stdout",
          "text": [
            "Batch: 13. Loss: 0.322500\n"
          ]
        },
        {
          "output_type": "stream",
          "name": "stderr",
          "text": [
            "\r15it [00:12,  1.21it/s]"
          ]
        },
        {
          "output_type": "stream",
          "name": "stdout",
          "text": [
            "Batch: 14. Loss: 0.309431\n"
          ]
        },
        {
          "output_type": "stream",
          "name": "stderr",
          "text": [
            "\r16it [00:13,  1.22it/s]"
          ]
        },
        {
          "output_type": "stream",
          "name": "stdout",
          "text": [
            "Batch: 15. Loss: 0.210560\n"
          ]
        },
        {
          "output_type": "stream",
          "name": "stderr",
          "text": [
            "\r17it [00:14,  1.22it/s]"
          ]
        },
        {
          "output_type": "stream",
          "name": "stdout",
          "text": [
            "Batch: 16. Loss: 0.175801\n"
          ]
        },
        {
          "output_type": "stream",
          "name": "stderr",
          "text": [
            "\r18it [00:14,  1.23it/s]"
          ]
        },
        {
          "output_type": "stream",
          "name": "stdout",
          "text": [
            "Batch: 17. Loss: 0.269931\n"
          ]
        },
        {
          "output_type": "stream",
          "name": "stderr",
          "text": [
            "\r19it [00:15,  1.23it/s]"
          ]
        },
        {
          "output_type": "stream",
          "name": "stdout",
          "text": [
            "Batch: 18. Loss: 0.396978\n"
          ]
        },
        {
          "output_type": "stream",
          "name": "stderr",
          "text": [
            "\r20it [00:16,  1.23it/s]"
          ]
        },
        {
          "output_type": "stream",
          "name": "stdout",
          "text": [
            "Batch: 19. Loss: 0.290905\n"
          ]
        },
        {
          "output_type": "stream",
          "name": "stderr",
          "text": [
            "\r21it [00:17,  1.23it/s]"
          ]
        },
        {
          "output_type": "stream",
          "name": "stdout",
          "text": [
            "Batch: 20. Loss: 0.375286\n"
          ]
        },
        {
          "output_type": "stream",
          "name": "stderr",
          "text": [
            "\r22it [00:18,  1.21it/s]"
          ]
        },
        {
          "output_type": "stream",
          "name": "stdout",
          "text": [
            "Batch: 21. Loss: 0.301626\n"
          ]
        },
        {
          "output_type": "stream",
          "name": "stderr",
          "text": [
            "\r23it [00:18,  1.20it/s]"
          ]
        },
        {
          "output_type": "stream",
          "name": "stdout",
          "text": [
            "Batch: 22. Loss: 0.336389\n"
          ]
        },
        {
          "output_type": "stream",
          "name": "stderr",
          "text": [
            "\r24it [00:19,  1.21it/s]"
          ]
        },
        {
          "output_type": "stream",
          "name": "stdout",
          "text": [
            "Batch: 23. Loss: 0.294060\n"
          ]
        },
        {
          "output_type": "stream",
          "name": "stderr",
          "text": [
            "\r25it [00:20,  1.21it/s]"
          ]
        },
        {
          "output_type": "stream",
          "name": "stdout",
          "text": [
            "Batch: 24. Loss: 0.101865\n"
          ]
        },
        {
          "output_type": "stream",
          "name": "stderr",
          "text": [
            "\r26it [00:21,  1.23it/s]"
          ]
        },
        {
          "output_type": "stream",
          "name": "stdout",
          "text": [
            "Batch: 25. Loss: 0.310750\n"
          ]
        },
        {
          "output_type": "stream",
          "name": "stderr",
          "text": [
            "\r27it [00:22,  1.23it/s]"
          ]
        },
        {
          "output_type": "stream",
          "name": "stdout",
          "text": [
            "Batch: 26. Loss: 0.464484\n"
          ]
        },
        {
          "output_type": "stream",
          "name": "stderr",
          "text": [
            "\r28it [00:22,  1.23it/s]"
          ]
        },
        {
          "output_type": "stream",
          "name": "stdout",
          "text": [
            "Batch: 27. Loss: 0.652556\n"
          ]
        },
        {
          "output_type": "stream",
          "name": "stderr",
          "text": [
            "\r29it [00:23,  1.23it/s]"
          ]
        },
        {
          "output_type": "stream",
          "name": "stdout",
          "text": [
            "Batch: 28. Loss: 0.285382\n"
          ]
        },
        {
          "output_type": "stream",
          "name": "stderr",
          "text": [
            "\r30it [00:24,  1.23it/s]"
          ]
        },
        {
          "output_type": "stream",
          "name": "stdout",
          "text": [
            "Batch: 29. Loss: 0.418196\n"
          ]
        },
        {
          "output_type": "stream",
          "name": "stderr",
          "text": [
            "\r31it [00:25,  1.23it/s]"
          ]
        },
        {
          "output_type": "stream",
          "name": "stdout",
          "text": [
            "Batch: 30. Loss: 0.284172\n"
          ]
        },
        {
          "output_type": "stream",
          "name": "stderr",
          "text": [
            "\r32it [00:26,  1.23it/s]"
          ]
        },
        {
          "output_type": "stream",
          "name": "stdout",
          "text": [
            "Batch: 31. Loss: 0.224561\n"
          ]
        },
        {
          "output_type": "stream",
          "name": "stderr",
          "text": [
            "\r33it [00:27,  1.24it/s]"
          ]
        },
        {
          "output_type": "stream",
          "name": "stdout",
          "text": [
            "Batch: 32. Loss: 0.167586\n"
          ]
        },
        {
          "output_type": "stream",
          "name": "stderr",
          "text": [
            "\r34it [00:27,  1.22it/s]"
          ]
        },
        {
          "output_type": "stream",
          "name": "stdout",
          "text": [
            "Batch: 33. Loss: 0.331900\n"
          ]
        },
        {
          "output_type": "stream",
          "name": "stderr",
          "text": [
            "\r35it [00:28,  1.21it/s]"
          ]
        },
        {
          "output_type": "stream",
          "name": "stdout",
          "text": [
            "Batch: 34. Loss: 0.279330\n"
          ]
        },
        {
          "output_type": "stream",
          "name": "stderr",
          "text": [
            "\r36it [00:29,  1.22it/s]"
          ]
        },
        {
          "output_type": "stream",
          "name": "stdout",
          "text": [
            "Batch: 35. Loss: 0.195149\n"
          ]
        },
        {
          "output_type": "stream",
          "name": "stderr",
          "text": [
            "\r37it [00:30,  1.21it/s]"
          ]
        },
        {
          "output_type": "stream",
          "name": "stdout",
          "text": [
            "Batch: 36. Loss: 0.191373\n"
          ]
        },
        {
          "output_type": "stream",
          "name": "stderr",
          "text": [
            "\r38it [00:31,  1.23it/s]"
          ]
        },
        {
          "output_type": "stream",
          "name": "stdout",
          "text": [
            "Batch: 37. Loss: 0.225504\n"
          ]
        },
        {
          "output_type": "stream",
          "name": "stderr",
          "text": [
            "\r39it [00:31,  1.24it/s]"
          ]
        },
        {
          "output_type": "stream",
          "name": "stdout",
          "text": [
            "Batch: 38. Loss: 0.497687\n"
          ]
        },
        {
          "output_type": "stream",
          "name": "stderr",
          "text": [
            "\r40it [00:32,  1.22it/s]"
          ]
        },
        {
          "output_type": "stream",
          "name": "stdout",
          "text": [
            "Batch: 39. Loss: 0.248909\n"
          ]
        },
        {
          "output_type": "stream",
          "name": "stderr",
          "text": [
            "\r41it [00:33,  1.22it/s]"
          ]
        },
        {
          "output_type": "stream",
          "name": "stdout",
          "text": [
            "Batch: 40. Loss: 0.217819\n"
          ]
        },
        {
          "output_type": "stream",
          "name": "stderr",
          "text": [
            "\r42it [00:34,  1.22it/s]"
          ]
        },
        {
          "output_type": "stream",
          "name": "stdout",
          "text": [
            "Batch: 41. Loss: 0.134659\n"
          ]
        },
        {
          "output_type": "stream",
          "name": "stderr",
          "text": [
            "\r43it [00:35,  1.20it/s]"
          ]
        },
        {
          "output_type": "stream",
          "name": "stdout",
          "text": [
            "Batch: 42. Loss: 0.251662\n"
          ]
        },
        {
          "output_type": "stream",
          "name": "stderr",
          "text": [
            "\r44it [00:36,  1.18it/s]"
          ]
        },
        {
          "output_type": "stream",
          "name": "stdout",
          "text": [
            "Batch: 43. Loss: 0.148186\n"
          ]
        },
        {
          "output_type": "stream",
          "name": "stderr",
          "text": [
            "\r45it [00:37,  1.19it/s]"
          ]
        },
        {
          "output_type": "stream",
          "name": "stdout",
          "text": [
            "Batch: 44. Loss: 0.358999\n"
          ]
        },
        {
          "output_type": "stream",
          "name": "stderr",
          "text": [
            "\r46it [00:37,  1.20it/s]"
          ]
        },
        {
          "output_type": "stream",
          "name": "stdout",
          "text": [
            "Batch: 45. Loss: 0.234507\n"
          ]
        },
        {
          "output_type": "stream",
          "name": "stderr",
          "text": [
            "\r47it [00:38,  1.21it/s]"
          ]
        },
        {
          "output_type": "stream",
          "name": "stdout",
          "text": [
            "Batch: 46. Loss: 0.245354\n"
          ]
        },
        {
          "output_type": "stream",
          "name": "stderr",
          "text": [
            "\r48it [00:39,  1.21it/s]"
          ]
        },
        {
          "output_type": "stream",
          "name": "stdout",
          "text": [
            "Batch: 47. Loss: 0.239477\n"
          ]
        },
        {
          "output_type": "stream",
          "name": "stderr",
          "text": [
            "\r49it [00:40,  1.23it/s]"
          ]
        },
        {
          "output_type": "stream",
          "name": "stdout",
          "text": [
            "Batch: 48. Loss: 0.264572\n"
          ]
        },
        {
          "output_type": "stream",
          "name": "stderr",
          "text": [
            "\r50it [00:41,  1.22it/s]"
          ]
        },
        {
          "output_type": "stream",
          "name": "stdout",
          "text": [
            "Batch: 49. Loss: 0.240036\n"
          ]
        },
        {
          "output_type": "stream",
          "name": "stderr",
          "text": [
            "\r51it [00:41,  1.21it/s]"
          ]
        },
        {
          "output_type": "stream",
          "name": "stdout",
          "text": [
            "Batch: 50. Loss: 0.135723\n"
          ]
        },
        {
          "output_type": "stream",
          "name": "stderr",
          "text": [
            "\r52it [00:42,  1.21it/s]"
          ]
        },
        {
          "output_type": "stream",
          "name": "stdout",
          "text": [
            "Batch: 51. Loss: 0.231295\n"
          ]
        },
        {
          "output_type": "stream",
          "name": "stderr",
          "text": [
            "\r53it [00:43,  1.21it/s]"
          ]
        },
        {
          "output_type": "stream",
          "name": "stdout",
          "text": [
            "Batch: 52. Loss: 0.169597\n"
          ]
        },
        {
          "output_type": "stream",
          "name": "stderr",
          "text": [
            "\r54it [00:44,  1.22it/s]"
          ]
        },
        {
          "output_type": "stream",
          "name": "stdout",
          "text": [
            "Batch: 53. Loss: 0.289917\n"
          ]
        },
        {
          "output_type": "stream",
          "name": "stderr",
          "text": [
            "\r55it [00:45,  1.21it/s]"
          ]
        },
        {
          "output_type": "stream",
          "name": "stdout",
          "text": [
            "Batch: 54. Loss: 0.391302\n"
          ]
        },
        {
          "output_type": "stream",
          "name": "stderr",
          "text": [
            "\r56it [00:46,  1.21it/s]"
          ]
        },
        {
          "output_type": "stream",
          "name": "stdout",
          "text": [
            "Batch: 55. Loss: 0.264760\n"
          ]
        },
        {
          "output_type": "stream",
          "name": "stderr",
          "text": [
            "\r57it [00:46,  1.20it/s]"
          ]
        },
        {
          "output_type": "stream",
          "name": "stdout",
          "text": [
            "Batch: 56. Loss: 0.265735\n"
          ]
        },
        {
          "output_type": "stream",
          "name": "stderr",
          "text": [
            "\r58it [00:47,  1.20it/s]"
          ]
        },
        {
          "output_type": "stream",
          "name": "stdout",
          "text": [
            "Batch: 57. Loss: 0.425994\n"
          ]
        },
        {
          "output_type": "stream",
          "name": "stderr",
          "text": [
            "\r59it [00:48,  1.21it/s]"
          ]
        },
        {
          "output_type": "stream",
          "name": "stdout",
          "text": [
            "Batch: 58. Loss: 0.241779\n"
          ]
        },
        {
          "output_type": "stream",
          "name": "stderr",
          "text": [
            "\r60it [00:49,  1.20it/s]"
          ]
        },
        {
          "output_type": "stream",
          "name": "stdout",
          "text": [
            "Batch: 59. Loss: 0.203006\n"
          ]
        },
        {
          "output_type": "stream",
          "name": "stderr",
          "text": [
            "\r61it [00:50,  1.22it/s]"
          ]
        },
        {
          "output_type": "stream",
          "name": "stdout",
          "text": [
            "Batch: 60. Loss: 0.536815\n"
          ]
        },
        {
          "output_type": "stream",
          "name": "stderr",
          "text": [
            "\r62it [00:50,  1.23it/s]"
          ]
        },
        {
          "output_type": "stream",
          "name": "stdout",
          "text": [
            "Batch: 61. Loss: 0.128799\n"
          ]
        },
        {
          "output_type": "stream",
          "name": "stderr",
          "text": [
            "\r63it [00:51,  1.23it/s]"
          ]
        },
        {
          "output_type": "stream",
          "name": "stdout",
          "text": [
            "Batch: 62. Loss: 0.590427\n"
          ]
        },
        {
          "output_type": "stream",
          "name": "stderr",
          "text": [
            "\r64it [00:52,  1.22it/s]"
          ]
        },
        {
          "output_type": "stream",
          "name": "stdout",
          "text": [
            "Batch: 63. Loss: 0.148087\n"
          ]
        },
        {
          "output_type": "stream",
          "name": "stderr",
          "text": [
            "\r65it [00:53,  1.23it/s]"
          ]
        },
        {
          "output_type": "stream",
          "name": "stdout",
          "text": [
            "Batch: 64. Loss: 0.440396\n"
          ]
        },
        {
          "output_type": "stream",
          "name": "stderr",
          "text": [
            "\r66it [00:54,  1.25it/s]"
          ]
        },
        {
          "output_type": "stream",
          "name": "stdout",
          "text": [
            "Batch: 65. Loss: 0.575087\n"
          ]
        },
        {
          "output_type": "stream",
          "name": "stderr",
          "text": [
            "\r67it [00:54,  1.24it/s]"
          ]
        },
        {
          "output_type": "stream",
          "name": "stdout",
          "text": [
            "Batch: 66. Loss: 0.389134\n"
          ]
        },
        {
          "output_type": "stream",
          "name": "stderr",
          "text": [
            "\r68it [00:55,  1.25it/s]"
          ]
        },
        {
          "output_type": "stream",
          "name": "stdout",
          "text": [
            "Batch: 67. Loss: 0.321659\n"
          ]
        },
        {
          "output_type": "stream",
          "name": "stderr",
          "text": [
            "\r69it [00:56,  1.23it/s]"
          ]
        },
        {
          "output_type": "stream",
          "name": "stdout",
          "text": [
            "Batch: 68. Loss: 0.243588\n"
          ]
        },
        {
          "output_type": "stream",
          "name": "stderr",
          "text": [
            "\r70it [00:57,  1.22it/s]"
          ]
        },
        {
          "output_type": "stream",
          "name": "stdout",
          "text": [
            "Batch: 69. Loss: 0.281166\n"
          ]
        },
        {
          "output_type": "stream",
          "name": "stderr",
          "text": [
            "\r71it [00:58,  1.21it/s]"
          ]
        },
        {
          "output_type": "stream",
          "name": "stdout",
          "text": [
            "Batch: 70. Loss: 0.444843\n"
          ]
        },
        {
          "output_type": "stream",
          "name": "stderr",
          "text": [
            "\r72it [00:59,  1.22it/s]"
          ]
        },
        {
          "output_type": "stream",
          "name": "stdout",
          "text": [
            "Batch: 71. Loss: 0.309526\n"
          ]
        },
        {
          "output_type": "stream",
          "name": "stderr",
          "text": [
            "\r73it [00:59,  1.23it/s]"
          ]
        },
        {
          "output_type": "stream",
          "name": "stdout",
          "text": [
            "Batch: 72. Loss: 0.217856\n"
          ]
        },
        {
          "output_type": "stream",
          "name": "stderr",
          "text": [
            "\r74it [01:00,  1.24it/s]"
          ]
        },
        {
          "output_type": "stream",
          "name": "stdout",
          "text": [
            "Batch: 73. Loss: 0.356475\n"
          ]
        },
        {
          "output_type": "stream",
          "name": "stderr",
          "text": [
            "\r75it [01:01,  1.24it/s]"
          ]
        },
        {
          "output_type": "stream",
          "name": "stdout",
          "text": [
            "Batch: 74. Loss: 0.417996\n"
          ]
        },
        {
          "output_type": "stream",
          "name": "stderr",
          "text": [
            "\r76it [01:02,  1.24it/s]"
          ]
        },
        {
          "output_type": "stream",
          "name": "stdout",
          "text": [
            "Batch: 75. Loss: 0.269364\n"
          ]
        },
        {
          "output_type": "stream",
          "name": "stderr",
          "text": [
            "\r77it [01:03,  1.22it/s]"
          ]
        },
        {
          "output_type": "stream",
          "name": "stdout",
          "text": [
            "Batch: 76. Loss: 0.399962\n"
          ]
        },
        {
          "output_type": "stream",
          "name": "stderr",
          "text": [
            "\r78it [01:03,  1.22it/s]"
          ]
        },
        {
          "output_type": "stream",
          "name": "stdout",
          "text": [
            "Batch: 77. Loss: 0.405680\n"
          ]
        },
        {
          "output_type": "stream",
          "name": "stderr",
          "text": [
            "\r79it [01:04,  1.22it/s]"
          ]
        },
        {
          "output_type": "stream",
          "name": "stdout",
          "text": [
            "Batch: 78. Loss: 0.187707\n"
          ]
        },
        {
          "output_type": "stream",
          "name": "stderr",
          "text": [
            "\r80it [01:05,  1.23it/s]"
          ]
        },
        {
          "output_type": "stream",
          "name": "stdout",
          "text": [
            "Batch: 79. Loss: 0.288377\n"
          ]
        },
        {
          "output_type": "stream",
          "name": "stderr",
          "text": [
            "\r81it [01:06,  1.22it/s]"
          ]
        },
        {
          "output_type": "stream",
          "name": "stdout",
          "text": [
            "Batch: 80. Loss: 0.212512\n"
          ]
        },
        {
          "output_type": "stream",
          "name": "stderr",
          "text": [
            "\r82it [01:07,  1.24it/s]"
          ]
        },
        {
          "output_type": "stream",
          "name": "stdout",
          "text": [
            "Batch: 81. Loss: 0.382297\n"
          ]
        },
        {
          "output_type": "stream",
          "name": "stderr",
          "text": [
            "\r83it [01:08,  1.22it/s]"
          ]
        },
        {
          "output_type": "stream",
          "name": "stdout",
          "text": [
            "Batch: 82. Loss: 0.228531\n"
          ]
        },
        {
          "output_type": "stream",
          "name": "stderr",
          "text": [
            "\r84it [01:08,  1.20it/s]"
          ]
        },
        {
          "output_type": "stream",
          "name": "stdout",
          "text": [
            "Batch: 83. Loss: 0.285522\n"
          ]
        },
        {
          "output_type": "stream",
          "name": "stderr",
          "text": [
            "\r85it [01:09,  1.19it/s]"
          ]
        },
        {
          "output_type": "stream",
          "name": "stdout",
          "text": [
            "Batch: 84. Loss: 0.323743\n"
          ]
        },
        {
          "output_type": "stream",
          "name": "stderr",
          "text": [
            "\r86it [01:10,  1.17it/s]"
          ]
        },
        {
          "output_type": "stream",
          "name": "stdout",
          "text": [
            "Batch: 85. Loss: 0.164068\n"
          ]
        },
        {
          "output_type": "stream",
          "name": "stderr",
          "text": [
            "\r87it [01:11,  1.18it/s]"
          ]
        },
        {
          "output_type": "stream",
          "name": "stdout",
          "text": [
            "Batch: 86. Loss: 0.395930\n"
          ]
        },
        {
          "output_type": "stream",
          "name": "stderr",
          "text": [
            "\r88it [01:12,  1.21it/s]"
          ]
        },
        {
          "output_type": "stream",
          "name": "stdout",
          "text": [
            "Batch: 87. Loss: 0.510644\n"
          ]
        },
        {
          "output_type": "stream",
          "name": "stderr",
          "text": [
            "\r89it [01:13,  1.21it/s]"
          ]
        },
        {
          "output_type": "stream",
          "name": "stdout",
          "text": [
            "Batch: 88. Loss: 0.387678\n"
          ]
        },
        {
          "output_type": "stream",
          "name": "stderr",
          "text": [
            "\r90it [01:13,  1.22it/s]"
          ]
        },
        {
          "output_type": "stream",
          "name": "stdout",
          "text": [
            "Batch: 89. Loss: 0.542275\n"
          ]
        },
        {
          "output_type": "stream",
          "name": "stderr",
          "text": [
            "\r91it [01:14,  1.21it/s]"
          ]
        },
        {
          "output_type": "stream",
          "name": "stdout",
          "text": [
            "Batch: 90. Loss: 0.269607\n"
          ]
        },
        {
          "output_type": "stream",
          "name": "stderr",
          "text": [
            "\r92it [01:15,  1.20it/s]"
          ]
        },
        {
          "output_type": "stream",
          "name": "stdout",
          "text": [
            "Batch: 91. Loss: 0.444747\n"
          ]
        },
        {
          "output_type": "stream",
          "name": "stderr",
          "text": [
            "\r93it [01:16,  1.22it/s]"
          ]
        },
        {
          "output_type": "stream",
          "name": "stdout",
          "text": [
            "Batch: 92. Loss: 0.222733\n"
          ]
        },
        {
          "output_type": "stream",
          "name": "stderr",
          "text": [
            "\r94it [01:17,  1.21it/s]"
          ]
        },
        {
          "output_type": "stream",
          "name": "stdout",
          "text": [
            "Batch: 93. Loss: 0.245052\n"
          ]
        },
        {
          "output_type": "stream",
          "name": "stderr",
          "text": [
            "\r95it [01:18,  1.23it/s]"
          ]
        },
        {
          "output_type": "stream",
          "name": "stdout",
          "text": [
            "Batch: 94. Loss: 0.353875\n"
          ]
        },
        {
          "output_type": "stream",
          "name": "stderr",
          "text": [
            "\r96it [01:18,  1.23it/s]"
          ]
        },
        {
          "output_type": "stream",
          "name": "stdout",
          "text": [
            "Batch: 95. Loss: 0.387164\n"
          ]
        },
        {
          "output_type": "stream",
          "name": "stderr",
          "text": [
            "\r97it [01:19,  1.22it/s]"
          ]
        },
        {
          "output_type": "stream",
          "name": "stdout",
          "text": [
            "Batch: 96. Loss: 0.308310\n"
          ]
        },
        {
          "output_type": "stream",
          "name": "stderr",
          "text": [
            "\r98it [01:20,  1.22it/s]"
          ]
        },
        {
          "output_type": "stream",
          "name": "stdout",
          "text": [
            "Batch: 97. Loss: 0.261495\n"
          ]
        },
        {
          "output_type": "stream",
          "name": "stderr",
          "text": [
            "\r99it [01:21,  1.20it/s]"
          ]
        },
        {
          "output_type": "stream",
          "name": "stdout",
          "text": [
            "Batch: 98. Loss: 0.263647\n"
          ]
        },
        {
          "output_type": "stream",
          "name": "stderr",
          "text": [
            "\r100it [01:22,  1.19it/s]"
          ]
        },
        {
          "output_type": "stream",
          "name": "stdout",
          "text": [
            "Batch: 99. Loss: 0.270207\n"
          ]
        },
        {
          "output_type": "stream",
          "name": "stderr",
          "text": [
            "\r101it [01:23,  1.19it/s]"
          ]
        },
        {
          "output_type": "stream",
          "name": "stdout",
          "text": [
            "Batch: 100. Loss: 0.249035\n"
          ]
        },
        {
          "output_type": "stream",
          "name": "stderr",
          "text": [
            "\r102it [01:23,  1.19it/s]"
          ]
        },
        {
          "output_type": "stream",
          "name": "stdout",
          "text": [
            "Batch: 101. Loss: 0.334617\n"
          ]
        },
        {
          "output_type": "stream",
          "name": "stderr",
          "text": [
            "\r103it [01:24,  1.20it/s]"
          ]
        },
        {
          "output_type": "stream",
          "name": "stdout",
          "text": [
            "Batch: 102. Loss: 0.162616\n"
          ]
        },
        {
          "output_type": "stream",
          "name": "stderr",
          "text": [
            "\r104it [01:25,  1.19it/s]"
          ]
        },
        {
          "output_type": "stream",
          "name": "stdout",
          "text": [
            "Batch: 103. Loss: 0.261660\n"
          ]
        },
        {
          "output_type": "stream",
          "name": "stderr",
          "text": [
            "\r105it [01:26,  1.20it/s]"
          ]
        },
        {
          "output_type": "stream",
          "name": "stdout",
          "text": [
            "Batch: 104. Loss: 0.320612\n"
          ]
        },
        {
          "output_type": "stream",
          "name": "stderr",
          "text": [
            "\r106it [01:27,  1.20it/s]"
          ]
        },
        {
          "output_type": "stream",
          "name": "stdout",
          "text": [
            "Batch: 105. Loss: 0.469728\n"
          ]
        },
        {
          "output_type": "stream",
          "name": "stderr",
          "text": [
            "\r107it [01:28,  1.19it/s]"
          ]
        },
        {
          "output_type": "stream",
          "name": "stdout",
          "text": [
            "Batch: 106. Loss: 0.441643\n"
          ]
        },
        {
          "output_type": "stream",
          "name": "stderr",
          "text": [
            "\r108it [01:28,  1.21it/s]"
          ]
        },
        {
          "output_type": "stream",
          "name": "stdout",
          "text": [
            "Batch: 107. Loss: 0.345345\n"
          ]
        },
        {
          "output_type": "stream",
          "name": "stderr",
          "text": [
            "\r109it [01:29,  1.19it/s]"
          ]
        },
        {
          "output_type": "stream",
          "name": "stdout",
          "text": [
            "Batch: 108. Loss: 0.121991\n"
          ]
        },
        {
          "output_type": "stream",
          "name": "stderr",
          "text": [
            "\r110it [01:30,  1.20it/s]"
          ]
        },
        {
          "output_type": "stream",
          "name": "stdout",
          "text": [
            "Batch: 109. Loss: 0.628635\n"
          ]
        },
        {
          "output_type": "stream",
          "name": "stderr",
          "text": [
            "\r111it [01:31,  1.21it/s]"
          ]
        },
        {
          "output_type": "stream",
          "name": "stdout",
          "text": [
            "Batch: 110. Loss: 0.285392\n"
          ]
        },
        {
          "output_type": "stream",
          "name": "stderr",
          "text": [
            "\r112it [01:32,  1.20it/s]"
          ]
        },
        {
          "output_type": "stream",
          "name": "stdout",
          "text": [
            "Batch: 111. Loss: 0.280212\n"
          ]
        },
        {
          "output_type": "stream",
          "name": "stderr",
          "text": [
            "\r113it [01:33,  1.21it/s]"
          ]
        },
        {
          "output_type": "stream",
          "name": "stdout",
          "text": [
            "Batch: 112. Loss: 0.193610\n"
          ]
        },
        {
          "output_type": "stream",
          "name": "stderr",
          "text": [
            "\r114it [01:33,  1.21it/s]"
          ]
        },
        {
          "output_type": "stream",
          "name": "stdout",
          "text": [
            "Batch: 113. Loss: 0.369009\n"
          ]
        },
        {
          "output_type": "stream",
          "name": "stderr",
          "text": [
            "\r115it [01:34,  1.21it/s]"
          ]
        },
        {
          "output_type": "stream",
          "name": "stdout",
          "text": [
            "Batch: 114. Loss: 0.181904\n"
          ]
        },
        {
          "output_type": "stream",
          "name": "stderr",
          "text": [
            "\r116it [01:35,  1.21it/s]"
          ]
        },
        {
          "output_type": "stream",
          "name": "stdout",
          "text": [
            "Batch: 115. Loss: 0.323306\n"
          ]
        },
        {
          "output_type": "stream",
          "name": "stderr",
          "text": [
            "\r117it [01:36,  1.22it/s]"
          ]
        },
        {
          "output_type": "stream",
          "name": "stdout",
          "text": [
            "Batch: 116. Loss: 0.408145\n"
          ]
        },
        {
          "output_type": "stream",
          "name": "stderr",
          "text": [
            "\r118it [01:37,  1.22it/s]"
          ]
        },
        {
          "output_type": "stream",
          "name": "stdout",
          "text": [
            "Batch: 117. Loss: 0.369398\n"
          ]
        },
        {
          "output_type": "stream",
          "name": "stderr",
          "text": [
            "\r119it [01:37,  1.21it/s]"
          ]
        },
        {
          "output_type": "stream",
          "name": "stdout",
          "text": [
            "Batch: 118. Loss: 0.325962\n"
          ]
        },
        {
          "output_type": "stream",
          "name": "stderr",
          "text": [
            "\r120it [01:38,  1.21it/s]"
          ]
        },
        {
          "output_type": "stream",
          "name": "stdout",
          "text": [
            "Batch: 119. Loss: 0.441005\n"
          ]
        },
        {
          "output_type": "stream",
          "name": "stderr",
          "text": [
            "\r121it [01:39,  1.22it/s]"
          ]
        },
        {
          "output_type": "stream",
          "name": "stdout",
          "text": [
            "Batch: 120. Loss: 0.247440\n"
          ]
        },
        {
          "output_type": "stream",
          "name": "stderr",
          "text": [
            "\r122it [01:40,  1.21it/s]"
          ]
        },
        {
          "output_type": "stream",
          "name": "stdout",
          "text": [
            "Batch: 121. Loss: 0.219844\n"
          ]
        },
        {
          "output_type": "stream",
          "name": "stderr",
          "text": [
            "\r123it [01:41,  1.22it/s]"
          ]
        },
        {
          "output_type": "stream",
          "name": "stdout",
          "text": [
            "Batch: 122. Loss: 0.319976\n"
          ]
        },
        {
          "output_type": "stream",
          "name": "stderr",
          "text": [
            "\r124it [01:42,  1.23it/s]"
          ]
        },
        {
          "output_type": "stream",
          "name": "stdout",
          "text": [
            "Batch: 123. Loss: 0.138656\n"
          ]
        },
        {
          "output_type": "stream",
          "name": "stderr",
          "text": [
            "\r125it [01:42,  1.21it/s]"
          ]
        },
        {
          "output_type": "stream",
          "name": "stdout",
          "text": [
            "Batch: 124. Loss: 0.379257\n"
          ]
        },
        {
          "output_type": "stream",
          "name": "stderr",
          "text": [
            "\r126it [01:43,  1.20it/s]"
          ]
        },
        {
          "output_type": "stream",
          "name": "stdout",
          "text": [
            "Batch: 125. Loss: 0.179048\n"
          ]
        },
        {
          "output_type": "stream",
          "name": "stderr",
          "text": [
            "\r127it [01:44,  1.20it/s]"
          ]
        },
        {
          "output_type": "stream",
          "name": "stdout",
          "text": [
            "Batch: 126. Loss: 0.271540\n"
          ]
        },
        {
          "output_type": "stream",
          "name": "stderr",
          "text": [
            "\r128it [01:45,  1.20it/s]"
          ]
        },
        {
          "output_type": "stream",
          "name": "stdout",
          "text": [
            "Batch: 127. Loss: 0.400572\n"
          ]
        },
        {
          "output_type": "stream",
          "name": "stderr",
          "text": [
            "\r129it [01:46,  1.20it/s]"
          ]
        },
        {
          "output_type": "stream",
          "name": "stdout",
          "text": [
            "Batch: 128. Loss: 0.266623\n"
          ]
        },
        {
          "output_type": "stream",
          "name": "stderr",
          "text": [
            "\r130it [01:47,  1.19it/s]"
          ]
        },
        {
          "output_type": "stream",
          "name": "stdout",
          "text": [
            "Batch: 129. Loss: 0.328684\n"
          ]
        },
        {
          "output_type": "stream",
          "name": "stderr",
          "text": [
            "\r131it [01:47,  1.19it/s]"
          ]
        },
        {
          "output_type": "stream",
          "name": "stdout",
          "text": [
            "Batch: 130. Loss: 0.215648\n"
          ]
        },
        {
          "output_type": "stream",
          "name": "stderr",
          "text": [
            "\r132it [01:48,  1.20it/s]"
          ]
        },
        {
          "output_type": "stream",
          "name": "stdout",
          "text": [
            "Batch: 131. Loss: 0.188706\n"
          ]
        },
        {
          "output_type": "stream",
          "name": "stderr",
          "text": [
            "\r133it [01:49,  1.19it/s]"
          ]
        },
        {
          "output_type": "stream",
          "name": "stdout",
          "text": [
            "Batch: 132. Loss: 0.343668\n"
          ]
        },
        {
          "output_type": "stream",
          "name": "stderr",
          "text": [
            "\r134it [01:50,  1.21it/s]"
          ]
        },
        {
          "output_type": "stream",
          "name": "stdout",
          "text": [
            "Batch: 133. Loss: 0.242590\n"
          ]
        },
        {
          "output_type": "stream",
          "name": "stderr",
          "text": [
            "\r135it [01:51,  1.21it/s]"
          ]
        },
        {
          "output_type": "stream",
          "name": "stdout",
          "text": [
            "Batch: 134. Loss: 0.190731\n"
          ]
        },
        {
          "output_type": "stream",
          "name": "stderr",
          "text": [
            "\r136it [01:52,  1.21it/s]"
          ]
        },
        {
          "output_type": "stream",
          "name": "stdout",
          "text": [
            "Batch: 135. Loss: 0.280078\n"
          ]
        },
        {
          "output_type": "stream",
          "name": "stderr",
          "text": [
            "\r137it [01:52,  1.22it/s]"
          ]
        },
        {
          "output_type": "stream",
          "name": "stdout",
          "text": [
            "Batch: 136. Loss: 0.262787\n"
          ]
        },
        {
          "output_type": "stream",
          "name": "stderr",
          "text": [
            "\r138it [01:53,  1.21it/s]"
          ]
        },
        {
          "output_type": "stream",
          "name": "stdout",
          "text": [
            "Batch: 137. Loss: 0.252245\n"
          ]
        },
        {
          "output_type": "stream",
          "name": "stderr",
          "text": [
            "\r139it [01:54,  1.23it/s]"
          ]
        },
        {
          "output_type": "stream",
          "name": "stdout",
          "text": [
            "Batch: 138. Loss: 0.475005\n"
          ]
        },
        {
          "output_type": "stream",
          "name": "stderr",
          "text": [
            "\r140it [01:55,  1.21it/s]"
          ]
        },
        {
          "output_type": "stream",
          "name": "stdout",
          "text": [
            "Batch: 139. Loss: 0.160276\n"
          ]
        },
        {
          "output_type": "stream",
          "name": "stderr",
          "text": [
            "\r141it [01:56,  1.22it/s]"
          ]
        },
        {
          "output_type": "stream",
          "name": "stdout",
          "text": [
            "Batch: 140. Loss: 0.156508\n"
          ]
        },
        {
          "output_type": "stream",
          "name": "stderr",
          "text": [
            "\r142it [01:56,  1.22it/s]"
          ]
        },
        {
          "output_type": "stream",
          "name": "stdout",
          "text": [
            "Batch: 141. Loss: 0.299466\n"
          ]
        },
        {
          "output_type": "stream",
          "name": "stderr",
          "text": [
            "\r143it [01:57,  1.21it/s]"
          ]
        },
        {
          "output_type": "stream",
          "name": "stdout",
          "text": [
            "Batch: 142. Loss: 0.194731\n"
          ]
        },
        {
          "output_type": "stream",
          "name": "stderr",
          "text": [
            "\r144it [01:58,  1.22it/s]"
          ]
        },
        {
          "output_type": "stream",
          "name": "stdout",
          "text": [
            "Batch: 143. Loss: 0.475154\n"
          ]
        },
        {
          "output_type": "stream",
          "name": "stderr",
          "text": [
            "\r145it [01:59,  1.23it/s]"
          ]
        },
        {
          "output_type": "stream",
          "name": "stdout",
          "text": [
            "Batch: 144. Loss: 0.443329\n"
          ]
        },
        {
          "output_type": "stream",
          "name": "stderr",
          "text": [
            "\r146it [02:00,  1.23it/s]"
          ]
        },
        {
          "output_type": "stream",
          "name": "stdout",
          "text": [
            "Batch: 145. Loss: 0.444588\n"
          ]
        },
        {
          "output_type": "stream",
          "name": "stderr",
          "text": [
            "\r147it [02:01,  1.22it/s]"
          ]
        },
        {
          "output_type": "stream",
          "name": "stdout",
          "text": [
            "Batch: 146. Loss: 0.165221\n"
          ]
        },
        {
          "output_type": "stream",
          "name": "stderr",
          "text": [
            "\r148it [02:01,  1.21it/s]"
          ]
        },
        {
          "output_type": "stream",
          "name": "stdout",
          "text": [
            "Batch: 147. Loss: 0.209832\n"
          ]
        },
        {
          "output_type": "stream",
          "name": "stderr",
          "text": [
            "\r149it [02:02,  1.19it/s]"
          ]
        },
        {
          "output_type": "stream",
          "name": "stdout",
          "text": [
            "Batch: 148. Loss: 0.171054\n"
          ]
        },
        {
          "output_type": "stream",
          "name": "stderr",
          "text": [
            "\r150it [02:03,  1.21it/s]"
          ]
        },
        {
          "output_type": "stream",
          "name": "stdout",
          "text": [
            "Batch: 149. Loss: 0.372826\n"
          ]
        },
        {
          "output_type": "stream",
          "name": "stderr",
          "text": [
            "\r151it [02:04,  1.22it/s]"
          ]
        },
        {
          "output_type": "stream",
          "name": "stdout",
          "text": [
            "Batch: 150. Loss: 0.530080\n"
          ]
        },
        {
          "output_type": "stream",
          "name": "stderr",
          "text": [
            "\r152it [02:05,  1.22it/s]"
          ]
        },
        {
          "output_type": "stream",
          "name": "stdout",
          "text": [
            "Batch: 151. Loss: 0.231930\n"
          ]
        },
        {
          "output_type": "stream",
          "name": "stderr",
          "text": [
            "\r153it [02:05,  1.23it/s]"
          ]
        },
        {
          "output_type": "stream",
          "name": "stdout",
          "text": [
            "Batch: 152. Loss: 0.230895\n"
          ]
        },
        {
          "output_type": "stream",
          "name": "stderr",
          "text": [
            "\r154it [02:06,  1.23it/s]"
          ]
        },
        {
          "output_type": "stream",
          "name": "stdout",
          "text": [
            "Batch: 153. Loss: 0.239617\n"
          ]
        },
        {
          "output_type": "stream",
          "name": "stderr",
          "text": [
            "\r155it [02:07,  1.23it/s]"
          ]
        },
        {
          "output_type": "stream",
          "name": "stdout",
          "text": [
            "Batch: 154. Loss: 0.294543\n"
          ]
        },
        {
          "output_type": "stream",
          "name": "stderr",
          "text": [
            "\r156it [02:08,  1.25it/s]"
          ]
        },
        {
          "output_type": "stream",
          "name": "stdout",
          "text": [
            "Batch: 155. Loss: 0.342039\n"
          ]
        },
        {
          "output_type": "stream",
          "name": "stderr",
          "text": [
            "\r157it [02:09,  1.24it/s]"
          ]
        },
        {
          "output_type": "stream",
          "name": "stdout",
          "text": [
            "Batch: 156. Loss: 0.475136\n"
          ]
        },
        {
          "output_type": "stream",
          "name": "stderr",
          "text": [
            "\r158it [02:10,  1.22it/s]"
          ]
        },
        {
          "output_type": "stream",
          "name": "stdout",
          "text": [
            "Batch: 157. Loss: 0.279027\n"
          ]
        },
        {
          "output_type": "stream",
          "name": "stderr",
          "text": [
            "\r159it [02:10,  1.22it/s]"
          ]
        },
        {
          "output_type": "stream",
          "name": "stdout",
          "text": [
            "Batch: 158. Loss: 0.267975\n"
          ]
        },
        {
          "output_type": "stream",
          "name": "stderr",
          "text": [
            "\r160it [02:11,  1.23it/s]"
          ]
        },
        {
          "output_type": "stream",
          "name": "stdout",
          "text": [
            "Batch: 159. Loss: 0.369795\n"
          ]
        },
        {
          "output_type": "stream",
          "name": "stderr",
          "text": [
            "\r161it [02:12,  1.21it/s]"
          ]
        },
        {
          "output_type": "stream",
          "name": "stdout",
          "text": [
            "Batch: 160. Loss: 0.218778\n"
          ]
        },
        {
          "output_type": "stream",
          "name": "stderr",
          "text": [
            "\r162it [02:13,  1.22it/s]"
          ]
        },
        {
          "output_type": "stream",
          "name": "stdout",
          "text": [
            "Batch: 161. Loss: 0.333487\n"
          ]
        },
        {
          "output_type": "stream",
          "name": "stderr",
          "text": [
            "\r163it [02:14,  1.21it/s]"
          ]
        },
        {
          "output_type": "stream",
          "name": "stdout",
          "text": [
            "Batch: 162. Loss: 0.193618\n"
          ]
        },
        {
          "output_type": "stream",
          "name": "stderr",
          "text": [
            "164it [02:14,  1.22it/s]\n"
          ]
        },
        {
          "output_type": "stream",
          "name": "stdout",
          "text": [
            "Batch: 163. Loss: 0.411144\n",
            "Cost at epoch 8 is 0.3010980692215082\n"
          ]
        },
        {
          "output_type": "stream",
          "name": "stderr",
          "text": [
            "1it [00:00,  1.23it/s]"
          ]
        },
        {
          "output_type": "stream",
          "name": "stdout",
          "text": [
            "Batch: 0. Loss: 0.159451\n"
          ]
        },
        {
          "output_type": "stream",
          "name": "stderr",
          "text": [
            "\r2it [00:01,  1.21it/s]"
          ]
        },
        {
          "output_type": "stream",
          "name": "stdout",
          "text": [
            "Batch: 1. Loss: 0.303391\n"
          ]
        },
        {
          "output_type": "stream",
          "name": "stderr",
          "text": [
            "\r3it [00:02,  1.20it/s]"
          ]
        },
        {
          "output_type": "stream",
          "name": "stdout",
          "text": [
            "Batch: 2. Loss: 0.173394\n"
          ]
        },
        {
          "output_type": "stream",
          "name": "stderr",
          "text": [
            "\r4it [00:03,  1.21it/s]"
          ]
        },
        {
          "output_type": "stream",
          "name": "stdout",
          "text": [
            "Batch: 3. Loss: 0.068637\n"
          ]
        },
        {
          "output_type": "stream",
          "name": "stderr",
          "text": [
            "\r5it [00:04,  1.23it/s]"
          ]
        },
        {
          "output_type": "stream",
          "name": "stdout",
          "text": [
            "Batch: 4. Loss: 0.222260\n"
          ]
        },
        {
          "output_type": "stream",
          "name": "stderr",
          "text": [
            "\r6it [00:04,  1.22it/s]"
          ]
        },
        {
          "output_type": "stream",
          "name": "stdout",
          "text": [
            "Batch: 5. Loss: 0.237542\n"
          ]
        },
        {
          "output_type": "stream",
          "name": "stderr",
          "text": [
            "\r7it [00:05,  1.21it/s]"
          ]
        },
        {
          "output_type": "stream",
          "name": "stdout",
          "text": [
            "Batch: 6. Loss: 0.221785\n"
          ]
        },
        {
          "output_type": "stream",
          "name": "stderr",
          "text": [
            "\r8it [00:06,  1.23it/s]"
          ]
        },
        {
          "output_type": "stream",
          "name": "stdout",
          "text": [
            "Batch: 7. Loss: 0.311987\n"
          ]
        },
        {
          "output_type": "stream",
          "name": "stderr",
          "text": [
            "\r9it [00:07,  1.24it/s]"
          ]
        },
        {
          "output_type": "stream",
          "name": "stdout",
          "text": [
            "Batch: 8. Loss: 0.273872\n"
          ]
        },
        {
          "output_type": "stream",
          "name": "stderr",
          "text": [
            "\r10it [00:08,  1.22it/s]"
          ]
        },
        {
          "output_type": "stream",
          "name": "stdout",
          "text": [
            "Batch: 9. Loss: 0.196600\n"
          ]
        },
        {
          "output_type": "stream",
          "name": "stderr",
          "text": [
            "\r11it [00:09,  1.21it/s]"
          ]
        },
        {
          "output_type": "stream",
          "name": "stdout",
          "text": [
            "Batch: 10. Loss: 0.370765\n"
          ]
        },
        {
          "output_type": "stream",
          "name": "stderr",
          "text": [
            "\r12it [00:09,  1.20it/s]"
          ]
        },
        {
          "output_type": "stream",
          "name": "stdout",
          "text": [
            "Batch: 11. Loss: 0.316322\n"
          ]
        },
        {
          "output_type": "stream",
          "name": "stderr",
          "text": [
            "\r13it [00:10,  1.21it/s]"
          ]
        },
        {
          "output_type": "stream",
          "name": "stdout",
          "text": [
            "Batch: 12. Loss: 0.261226\n"
          ]
        },
        {
          "output_type": "stream",
          "name": "stderr",
          "text": [
            "\r14it [00:11,  1.21it/s]"
          ]
        },
        {
          "output_type": "stream",
          "name": "stdout",
          "text": [
            "Batch: 13. Loss: 0.214181\n"
          ]
        },
        {
          "output_type": "stream",
          "name": "stderr",
          "text": [
            "\r15it [00:12,  1.20it/s]"
          ]
        },
        {
          "output_type": "stream",
          "name": "stdout",
          "text": [
            "Batch: 14. Loss: 0.283527\n"
          ]
        },
        {
          "output_type": "stream",
          "name": "stderr",
          "text": [
            "\r16it [00:13,  1.20it/s]"
          ]
        },
        {
          "output_type": "stream",
          "name": "stdout",
          "text": [
            "Batch: 15. Loss: 0.286906\n"
          ]
        },
        {
          "output_type": "stream",
          "name": "stderr",
          "text": [
            "\r17it [00:14,  1.21it/s]"
          ]
        },
        {
          "output_type": "stream",
          "name": "stdout",
          "text": [
            "Batch: 16. Loss: 0.242611\n"
          ]
        },
        {
          "output_type": "stream",
          "name": "stderr",
          "text": [
            "\r18it [00:14,  1.21it/s]"
          ]
        },
        {
          "output_type": "stream",
          "name": "stdout",
          "text": [
            "Batch: 17. Loss: 0.223181\n"
          ]
        },
        {
          "output_type": "stream",
          "name": "stderr",
          "text": [
            "\r19it [00:15,  1.21it/s]"
          ]
        },
        {
          "output_type": "stream",
          "name": "stdout",
          "text": [
            "Batch: 18. Loss: 0.099849\n"
          ]
        },
        {
          "output_type": "stream",
          "name": "stderr",
          "text": [
            "\r20it [00:16,  1.21it/s]"
          ]
        },
        {
          "output_type": "stream",
          "name": "stdout",
          "text": [
            "Batch: 19. Loss: 0.169079\n"
          ]
        },
        {
          "output_type": "stream",
          "name": "stderr",
          "text": [
            "\r21it [00:17,  1.20it/s]"
          ]
        },
        {
          "output_type": "stream",
          "name": "stdout",
          "text": [
            "Batch: 20. Loss: 0.204240\n"
          ]
        },
        {
          "output_type": "stream",
          "name": "stderr",
          "text": [
            "\r22it [00:18,  1.20it/s]"
          ]
        },
        {
          "output_type": "stream",
          "name": "stdout",
          "text": [
            "Batch: 21. Loss: 0.200533\n"
          ]
        },
        {
          "output_type": "stream",
          "name": "stderr",
          "text": [
            "\r23it [00:18,  1.22it/s]"
          ]
        },
        {
          "output_type": "stream",
          "name": "stdout",
          "text": [
            "Batch: 22. Loss: 0.194107\n"
          ]
        },
        {
          "output_type": "stream",
          "name": "stderr",
          "text": [
            "\r24it [00:19,  1.22it/s]"
          ]
        },
        {
          "output_type": "stream",
          "name": "stdout",
          "text": [
            "Batch: 23. Loss: 0.130734\n"
          ]
        },
        {
          "output_type": "stream",
          "name": "stderr",
          "text": [
            "\r25it [00:20,  1.23it/s]"
          ]
        },
        {
          "output_type": "stream",
          "name": "stdout",
          "text": [
            "Batch: 24. Loss: 0.132864\n"
          ]
        },
        {
          "output_type": "stream",
          "name": "stderr",
          "text": [
            "\r26it [00:21,  1.21it/s]"
          ]
        },
        {
          "output_type": "stream",
          "name": "stdout",
          "text": [
            "Batch: 25. Loss: 0.383997\n"
          ]
        },
        {
          "output_type": "stream",
          "name": "stderr",
          "text": [
            "\r27it [00:22,  1.21it/s]"
          ]
        },
        {
          "output_type": "stream",
          "name": "stdout",
          "text": [
            "Batch: 26. Loss: 0.143381\n"
          ]
        },
        {
          "output_type": "stream",
          "name": "stderr",
          "text": [
            "\r28it [00:23,  1.21it/s]"
          ]
        },
        {
          "output_type": "stream",
          "name": "stdout",
          "text": [
            "Batch: 27. Loss: 0.124837\n"
          ]
        },
        {
          "output_type": "stream",
          "name": "stderr",
          "text": [
            "\r29it [00:23,  1.23it/s]"
          ]
        },
        {
          "output_type": "stream",
          "name": "stdout",
          "text": [
            "Batch: 28. Loss: 0.313828\n"
          ]
        },
        {
          "output_type": "stream",
          "name": "stderr",
          "text": [
            "\r30it [00:24,  1.22it/s]"
          ]
        },
        {
          "output_type": "stream",
          "name": "stdout",
          "text": [
            "Batch: 29. Loss: 0.237125\n"
          ]
        },
        {
          "output_type": "stream",
          "name": "stderr",
          "text": [
            "\r31it [00:25,  1.22it/s]"
          ]
        },
        {
          "output_type": "stream",
          "name": "stdout",
          "text": [
            "Batch: 30. Loss: 0.389559\n"
          ]
        },
        {
          "output_type": "stream",
          "name": "stderr",
          "text": [
            "\r32it [00:26,  1.23it/s]"
          ]
        },
        {
          "output_type": "stream",
          "name": "stdout",
          "text": [
            "Batch: 31. Loss: 0.165945\n"
          ]
        },
        {
          "output_type": "stream",
          "name": "stderr",
          "text": [
            "\r33it [00:27,  1.20it/s]"
          ]
        },
        {
          "output_type": "stream",
          "name": "stdout",
          "text": [
            "Batch: 32. Loss: 0.234286\n"
          ]
        },
        {
          "output_type": "stream",
          "name": "stderr",
          "text": [
            "\r34it [00:28,  1.21it/s]"
          ]
        },
        {
          "output_type": "stream",
          "name": "stdout",
          "text": [
            "Batch: 33. Loss: 0.190369\n"
          ]
        },
        {
          "output_type": "stream",
          "name": "stderr",
          "text": [
            "\r35it [00:28,  1.19it/s]"
          ]
        },
        {
          "output_type": "stream",
          "name": "stdout",
          "text": [
            "Batch: 34. Loss: 0.182820\n"
          ]
        },
        {
          "output_type": "stream",
          "name": "stderr",
          "text": [
            "\r36it [00:29,  1.21it/s]"
          ]
        },
        {
          "output_type": "stream",
          "name": "stdout",
          "text": [
            "Batch: 35. Loss: 0.207964\n"
          ]
        },
        {
          "output_type": "stream",
          "name": "stderr",
          "text": [
            "\r37it [00:30,  1.22it/s]"
          ]
        },
        {
          "output_type": "stream",
          "name": "stdout",
          "text": [
            "Batch: 36. Loss: 0.327423\n"
          ]
        },
        {
          "output_type": "stream",
          "name": "stderr",
          "text": [
            "\r38it [00:31,  1.20it/s]"
          ]
        },
        {
          "output_type": "stream",
          "name": "stdout",
          "text": [
            "Batch: 37. Loss: 0.445718\n"
          ]
        },
        {
          "output_type": "stream",
          "name": "stderr",
          "text": [
            "\r39it [00:32,  1.20it/s]"
          ]
        },
        {
          "output_type": "stream",
          "name": "stdout",
          "text": [
            "Batch: 38. Loss: 0.310602\n"
          ]
        },
        {
          "output_type": "stream",
          "name": "stderr",
          "text": [
            "\r40it [00:32,  1.22it/s]"
          ]
        },
        {
          "output_type": "stream",
          "name": "stdout",
          "text": [
            "Batch: 39. Loss: 0.511351\n"
          ]
        },
        {
          "output_type": "stream",
          "name": "stderr",
          "text": [
            "\r41it [00:33,  1.22it/s]"
          ]
        },
        {
          "output_type": "stream",
          "name": "stdout",
          "text": [
            "Batch: 40. Loss: 0.279236\n"
          ]
        },
        {
          "output_type": "stream",
          "name": "stderr",
          "text": [
            "\r42it [00:34,  1.20it/s]"
          ]
        },
        {
          "output_type": "stream",
          "name": "stdout",
          "text": [
            "Batch: 41. Loss: 0.127089\n"
          ]
        },
        {
          "output_type": "stream",
          "name": "stderr",
          "text": [
            "\r43it [00:35,  1.22it/s]"
          ]
        },
        {
          "output_type": "stream",
          "name": "stdout",
          "text": [
            "Batch: 42. Loss: 0.444446\n"
          ]
        },
        {
          "output_type": "stream",
          "name": "stderr",
          "text": [
            "\r44it [00:36,  1.22it/s]"
          ]
        },
        {
          "output_type": "stream",
          "name": "stdout",
          "text": [
            "Batch: 43. Loss: 0.182771\n"
          ]
        },
        {
          "output_type": "stream",
          "name": "stderr",
          "text": [
            "\r45it [00:37,  1.23it/s]"
          ]
        },
        {
          "output_type": "stream",
          "name": "stdout",
          "text": [
            "Batch: 44. Loss: 0.274485\n"
          ]
        },
        {
          "output_type": "stream",
          "name": "stderr",
          "text": [
            "\r46it [00:37,  1.23it/s]"
          ]
        },
        {
          "output_type": "stream",
          "name": "stdout",
          "text": [
            "Batch: 45. Loss: 0.137946\n"
          ]
        },
        {
          "output_type": "stream",
          "name": "stderr",
          "text": [
            "\r47it [00:38,  1.23it/s]"
          ]
        },
        {
          "output_type": "stream",
          "name": "stdout",
          "text": [
            "Batch: 46. Loss: 0.242586\n"
          ]
        },
        {
          "output_type": "stream",
          "name": "stderr",
          "text": [
            "\r48it [00:39,  1.21it/s]"
          ]
        },
        {
          "output_type": "stream",
          "name": "stdout",
          "text": [
            "Batch: 47. Loss: 0.176611\n"
          ]
        },
        {
          "output_type": "stream",
          "name": "stderr",
          "text": [
            "\r49it [00:40,  1.22it/s]"
          ]
        },
        {
          "output_type": "stream",
          "name": "stdout",
          "text": [
            "Batch: 48. Loss: 0.317399\n"
          ]
        },
        {
          "output_type": "stream",
          "name": "stderr",
          "text": [
            "\r50it [00:41,  1.22it/s]"
          ]
        },
        {
          "output_type": "stream",
          "name": "stdout",
          "text": [
            "Batch: 49. Loss: 0.201509\n"
          ]
        },
        {
          "output_type": "stream",
          "name": "stderr",
          "text": [
            "\r51it [00:42,  1.22it/s]"
          ]
        },
        {
          "output_type": "stream",
          "name": "stdout",
          "text": [
            "Batch: 50. Loss: 0.245098\n"
          ]
        },
        {
          "output_type": "stream",
          "name": "stderr",
          "text": [
            "\r52it [00:42,  1.22it/s]"
          ]
        },
        {
          "output_type": "stream",
          "name": "stdout",
          "text": [
            "Batch: 51. Loss: 0.194315\n"
          ]
        },
        {
          "output_type": "stream",
          "name": "stderr",
          "text": [
            "\r53it [00:43,  1.22it/s]"
          ]
        },
        {
          "output_type": "stream",
          "name": "stdout",
          "text": [
            "Batch: 52. Loss: 0.243296\n"
          ]
        },
        {
          "output_type": "stream",
          "name": "stderr",
          "text": [
            "\r54it [00:44,  1.23it/s]"
          ]
        },
        {
          "output_type": "stream",
          "name": "stdout",
          "text": [
            "Batch: 53. Loss: 0.258980\n"
          ]
        },
        {
          "output_type": "stream",
          "name": "stderr",
          "text": [
            "\r55it [00:45,  1.21it/s]"
          ]
        },
        {
          "output_type": "stream",
          "name": "stdout",
          "text": [
            "Batch: 54. Loss: 0.242411\n"
          ]
        },
        {
          "output_type": "stream",
          "name": "stderr",
          "text": [
            "\r56it [00:46,  1.20it/s]"
          ]
        },
        {
          "output_type": "stream",
          "name": "stdout",
          "text": [
            "Batch: 55. Loss: 0.286451\n"
          ]
        },
        {
          "output_type": "stream",
          "name": "stderr",
          "text": [
            "\r57it [00:47,  1.19it/s]"
          ]
        },
        {
          "output_type": "stream",
          "name": "stdout",
          "text": [
            "Batch: 56. Loss: 0.291099\n"
          ]
        },
        {
          "output_type": "stream",
          "name": "stderr",
          "text": [
            "\r58it [00:47,  1.22it/s]"
          ]
        },
        {
          "output_type": "stream",
          "name": "stdout",
          "text": [
            "Batch: 57. Loss: 0.286863\n"
          ]
        },
        {
          "output_type": "stream",
          "name": "stderr",
          "text": [
            "\r59it [00:48,  1.23it/s]"
          ]
        },
        {
          "output_type": "stream",
          "name": "stdout",
          "text": [
            "Batch: 58. Loss: 0.255913\n"
          ]
        },
        {
          "output_type": "stream",
          "name": "stderr",
          "text": [
            "\r60it [00:49,  1.22it/s]"
          ]
        },
        {
          "output_type": "stream",
          "name": "stdout",
          "text": [
            "Batch: 59. Loss: 0.129231\n"
          ]
        },
        {
          "output_type": "stream",
          "name": "stderr",
          "text": [
            "\r61it [00:50,  1.23it/s]"
          ]
        },
        {
          "output_type": "stream",
          "name": "stdout",
          "text": [
            "Batch: 60. Loss: 0.435811\n"
          ]
        },
        {
          "output_type": "stream",
          "name": "stderr",
          "text": [
            "\r62it [00:51,  1.21it/s]"
          ]
        },
        {
          "output_type": "stream",
          "name": "stdout",
          "text": [
            "Batch: 61. Loss: 0.180843\n"
          ]
        },
        {
          "output_type": "stream",
          "name": "stderr",
          "text": [
            "\r63it [00:51,  1.21it/s]"
          ]
        },
        {
          "output_type": "stream",
          "name": "stdout",
          "text": [
            "Batch: 62. Loss: 0.238546\n"
          ]
        },
        {
          "output_type": "stream",
          "name": "stderr",
          "text": [
            "\r64it [00:52,  1.22it/s]"
          ]
        },
        {
          "output_type": "stream",
          "name": "stdout",
          "text": [
            "Batch: 63. Loss: 0.136467\n"
          ]
        },
        {
          "output_type": "stream",
          "name": "stderr",
          "text": [
            "\r65it [00:53,  1.20it/s]"
          ]
        },
        {
          "output_type": "stream",
          "name": "stdout",
          "text": [
            "Batch: 64. Loss: 0.259187\n"
          ]
        },
        {
          "output_type": "stream",
          "name": "stderr",
          "text": [
            "\r66it [00:54,  1.21it/s]"
          ]
        },
        {
          "output_type": "stream",
          "name": "stdout",
          "text": [
            "Batch: 65. Loss: 0.396351\n"
          ]
        },
        {
          "output_type": "stream",
          "name": "stderr",
          "text": [
            "\r67it [00:55,  1.21it/s]"
          ]
        },
        {
          "output_type": "stream",
          "name": "stdout",
          "text": [
            "Batch: 66. Loss: 0.318614\n"
          ]
        },
        {
          "output_type": "stream",
          "name": "stderr",
          "text": [
            "\r68it [00:55,  1.23it/s]"
          ]
        },
        {
          "output_type": "stream",
          "name": "stdout",
          "text": [
            "Batch: 67. Loss: 0.222886\n"
          ]
        },
        {
          "output_type": "stream",
          "name": "stderr",
          "text": [
            "\r69it [00:56,  1.23it/s]"
          ]
        },
        {
          "output_type": "stream",
          "name": "stdout",
          "text": [
            "Batch: 68. Loss: 0.138881\n"
          ]
        },
        {
          "output_type": "stream",
          "name": "stderr",
          "text": [
            "\r70it [00:57,  1.22it/s]"
          ]
        },
        {
          "output_type": "stream",
          "name": "stdout",
          "text": [
            "Batch: 69. Loss: 0.112831\n"
          ]
        },
        {
          "output_type": "stream",
          "name": "stderr",
          "text": [
            "\r71it [00:58,  1.22it/s]"
          ]
        },
        {
          "output_type": "stream",
          "name": "stdout",
          "text": [
            "Batch: 70. Loss: 0.155568\n"
          ]
        },
        {
          "output_type": "stream",
          "name": "stderr",
          "text": [
            "\r72it [00:59,  1.21it/s]"
          ]
        },
        {
          "output_type": "stream",
          "name": "stdout",
          "text": [
            "Batch: 71. Loss: 0.150440\n"
          ]
        },
        {
          "output_type": "stream",
          "name": "stderr",
          "text": [
            "\r73it [01:00,  1.20it/s]"
          ]
        },
        {
          "output_type": "stream",
          "name": "stdout",
          "text": [
            "Batch: 72. Loss: 0.310340\n"
          ]
        },
        {
          "output_type": "stream",
          "name": "stderr",
          "text": [
            "\r74it [01:00,  1.21it/s]"
          ]
        },
        {
          "output_type": "stream",
          "name": "stdout",
          "text": [
            "Batch: 73. Loss: 0.206107\n"
          ]
        },
        {
          "output_type": "stream",
          "name": "stderr",
          "text": [
            "\r75it [01:01,  1.21it/s]"
          ]
        },
        {
          "output_type": "stream",
          "name": "stdout",
          "text": [
            "Batch: 74. Loss: 0.339058\n"
          ]
        },
        {
          "output_type": "stream",
          "name": "stderr",
          "text": [
            "\r76it [01:02,  1.21it/s]"
          ]
        },
        {
          "output_type": "stream",
          "name": "stdout",
          "text": [
            "Batch: 75. Loss: 0.165275\n"
          ]
        },
        {
          "output_type": "stream",
          "name": "stderr",
          "text": [
            "\r77it [01:03,  1.20it/s]"
          ]
        },
        {
          "output_type": "stream",
          "name": "stdout",
          "text": [
            "Batch: 76. Loss: 0.241829\n"
          ]
        },
        {
          "output_type": "stream",
          "name": "stderr",
          "text": [
            "\r78it [01:04,  1.21it/s]"
          ]
        },
        {
          "output_type": "stream",
          "name": "stdout",
          "text": [
            "Batch: 77. Loss: 0.235487\n"
          ]
        },
        {
          "output_type": "stream",
          "name": "stderr",
          "text": [
            "\r79it [01:05,  1.20it/s]"
          ]
        },
        {
          "output_type": "stream",
          "name": "stdout",
          "text": [
            "Batch: 78. Loss: 0.380616\n"
          ]
        },
        {
          "output_type": "stream",
          "name": "stderr",
          "text": [
            "\r80it [01:05,  1.19it/s]"
          ]
        },
        {
          "output_type": "stream",
          "name": "stdout",
          "text": [
            "Batch: 79. Loss: 0.247487\n"
          ]
        },
        {
          "output_type": "stream",
          "name": "stderr",
          "text": [
            "\r81it [01:06,  1.22it/s]"
          ]
        },
        {
          "output_type": "stream",
          "name": "stdout",
          "text": [
            "Batch: 80. Loss: 0.271427\n"
          ]
        },
        {
          "output_type": "stream",
          "name": "stderr",
          "text": [
            "\r82it [01:07,  1.20it/s]"
          ]
        },
        {
          "output_type": "stream",
          "name": "stdout",
          "text": [
            "Batch: 81. Loss: 0.248604\n"
          ]
        },
        {
          "output_type": "stream",
          "name": "stderr",
          "text": [
            "\r83it [01:08,  1.22it/s]"
          ]
        },
        {
          "output_type": "stream",
          "name": "stdout",
          "text": [
            "Batch: 82. Loss: 0.436491\n"
          ]
        },
        {
          "output_type": "stream",
          "name": "stderr",
          "text": [
            "\r84it [01:09,  1.21it/s]"
          ]
        },
        {
          "output_type": "stream",
          "name": "stdout",
          "text": [
            "Batch: 83. Loss: 0.349009\n"
          ]
        },
        {
          "output_type": "stream",
          "name": "stderr",
          "text": [
            "\r85it [01:10,  1.22it/s]"
          ]
        },
        {
          "output_type": "stream",
          "name": "stdout",
          "text": [
            "Batch: 84. Loss: 0.305219\n"
          ]
        },
        {
          "output_type": "stream",
          "name": "stderr",
          "text": [
            "\r86it [01:10,  1.23it/s]"
          ]
        },
        {
          "output_type": "stream",
          "name": "stdout",
          "text": [
            "Batch: 85. Loss: 0.252370\n"
          ]
        },
        {
          "output_type": "stream",
          "name": "stderr",
          "text": [
            "\r87it [01:11,  1.22it/s]"
          ]
        },
        {
          "output_type": "stream",
          "name": "stdout",
          "text": [
            "Batch: 86. Loss: 0.294945\n"
          ]
        },
        {
          "output_type": "stream",
          "name": "stderr",
          "text": [
            "\r88it [01:12,  1.20it/s]"
          ]
        },
        {
          "output_type": "stream",
          "name": "stdout",
          "text": [
            "Batch: 87. Loss: 0.106434\n"
          ]
        },
        {
          "output_type": "stream",
          "name": "stderr",
          "text": [
            "\r89it [01:13,  1.20it/s]"
          ]
        },
        {
          "output_type": "stream",
          "name": "stdout",
          "text": [
            "Batch: 88. Loss: 0.179500\n"
          ]
        },
        {
          "output_type": "stream",
          "name": "stderr",
          "text": [
            "\r90it [01:14,  1.21it/s]"
          ]
        },
        {
          "output_type": "stream",
          "name": "stdout",
          "text": [
            "Batch: 89. Loss: 0.249245\n"
          ]
        },
        {
          "output_type": "stream",
          "name": "stderr",
          "text": [
            "\r91it [01:14,  1.21it/s]"
          ]
        },
        {
          "output_type": "stream",
          "name": "stdout",
          "text": [
            "Batch: 90. Loss: 0.216471\n"
          ]
        },
        {
          "output_type": "stream",
          "name": "stderr",
          "text": [
            "\r92it [01:15,  1.21it/s]"
          ]
        },
        {
          "output_type": "stream",
          "name": "stdout",
          "text": [
            "Batch: 91. Loss: 0.173011\n"
          ]
        },
        {
          "output_type": "stream",
          "name": "stderr",
          "text": [
            "\r93it [01:16,  1.20it/s]"
          ]
        },
        {
          "output_type": "stream",
          "name": "stdout",
          "text": [
            "Batch: 92. Loss: 0.307624\n"
          ]
        },
        {
          "output_type": "stream",
          "name": "stderr",
          "text": [
            "\r94it [01:17,  1.21it/s]"
          ]
        },
        {
          "output_type": "stream",
          "name": "stdout",
          "text": [
            "Batch: 93. Loss: 0.198216\n"
          ]
        },
        {
          "output_type": "stream",
          "name": "stderr",
          "text": [
            "\r95it [01:18,  1.20it/s]"
          ]
        },
        {
          "output_type": "stream",
          "name": "stdout",
          "text": [
            "Batch: 94. Loss: 0.195567\n"
          ]
        },
        {
          "output_type": "stream",
          "name": "stderr",
          "text": [
            "\r96it [01:19,  1.19it/s]"
          ]
        },
        {
          "output_type": "stream",
          "name": "stdout",
          "text": [
            "Batch: 95. Loss: 0.165455\n"
          ]
        },
        {
          "output_type": "stream",
          "name": "stderr",
          "text": [
            "\r97it [01:19,  1.21it/s]"
          ]
        },
        {
          "output_type": "stream",
          "name": "stdout",
          "text": [
            "Batch: 96. Loss: 0.219149\n"
          ]
        },
        {
          "output_type": "stream",
          "name": "stderr",
          "text": [
            "\r98it [01:20,  1.22it/s]"
          ]
        },
        {
          "output_type": "stream",
          "name": "stdout",
          "text": [
            "Batch: 97. Loss: 0.302053\n"
          ]
        },
        {
          "output_type": "stream",
          "name": "stderr",
          "text": [
            "\r99it [01:21,  1.20it/s]"
          ]
        },
        {
          "output_type": "stream",
          "name": "stdout",
          "text": [
            "Batch: 98. Loss: 0.148092\n"
          ]
        },
        {
          "output_type": "stream",
          "name": "stderr",
          "text": [
            "\r100it [01:22,  1.20it/s]"
          ]
        },
        {
          "output_type": "stream",
          "name": "stdout",
          "text": [
            "Batch: 99. Loss: 0.089599\n"
          ]
        },
        {
          "output_type": "stream",
          "name": "stderr",
          "text": [
            "\r101it [01:23,  1.21it/s]"
          ]
        },
        {
          "output_type": "stream",
          "name": "stdout",
          "text": [
            "Batch: 100. Loss: 0.277130\n"
          ]
        },
        {
          "output_type": "stream",
          "name": "stderr",
          "text": [
            "\r102it [01:24,  1.23it/s]"
          ]
        },
        {
          "output_type": "stream",
          "name": "stdout",
          "text": [
            "Batch: 101. Loss: 0.432437\n"
          ]
        },
        {
          "output_type": "stream",
          "name": "stderr",
          "text": [
            "\r103it [01:24,  1.24it/s]"
          ]
        },
        {
          "output_type": "stream",
          "name": "stdout",
          "text": [
            "Batch: 102. Loss: 0.267667\n"
          ]
        },
        {
          "output_type": "stream",
          "name": "stderr",
          "text": [
            "\r104it [01:25,  1.22it/s]"
          ]
        },
        {
          "output_type": "stream",
          "name": "stdout",
          "text": [
            "Batch: 103. Loss: 0.273280\n"
          ]
        },
        {
          "output_type": "stream",
          "name": "stderr",
          "text": [
            "\r105it [01:26,  1.22it/s]"
          ]
        },
        {
          "output_type": "stream",
          "name": "stdout",
          "text": [
            "Batch: 104. Loss: 0.295004\n"
          ]
        },
        {
          "output_type": "stream",
          "name": "stderr",
          "text": [
            "\r106it [01:27,  1.22it/s]"
          ]
        },
        {
          "output_type": "stream",
          "name": "stdout",
          "text": [
            "Batch: 105. Loss: 0.213621\n"
          ]
        },
        {
          "output_type": "stream",
          "name": "stderr",
          "text": [
            "\r107it [01:28,  1.23it/s]"
          ]
        },
        {
          "output_type": "stream",
          "name": "stdout",
          "text": [
            "Batch: 106. Loss: 0.402050\n"
          ]
        },
        {
          "output_type": "stream",
          "name": "stderr",
          "text": [
            "\r108it [01:28,  1.22it/s]"
          ]
        },
        {
          "output_type": "stream",
          "name": "stdout",
          "text": [
            "Batch: 107. Loss: 0.216505\n"
          ]
        },
        {
          "output_type": "stream",
          "name": "stderr",
          "text": [
            "\r109it [01:29,  1.21it/s]"
          ]
        },
        {
          "output_type": "stream",
          "name": "stdout",
          "text": [
            "Batch: 108. Loss: 0.165085\n"
          ]
        },
        {
          "output_type": "stream",
          "name": "stderr",
          "text": [
            "\r110it [01:30,  1.22it/s]"
          ]
        },
        {
          "output_type": "stream",
          "name": "stdout",
          "text": [
            "Batch: 109. Loss: 0.286545\n"
          ]
        },
        {
          "output_type": "stream",
          "name": "stderr",
          "text": [
            "\r111it [01:31,  1.21it/s]"
          ]
        },
        {
          "output_type": "stream",
          "name": "stdout",
          "text": [
            "Batch: 110. Loss: 0.242496\n"
          ]
        },
        {
          "output_type": "stream",
          "name": "stderr",
          "text": [
            "\r112it [01:32,  1.23it/s]"
          ]
        },
        {
          "output_type": "stream",
          "name": "stdout",
          "text": [
            "Batch: 111. Loss: 0.367594\n"
          ]
        },
        {
          "output_type": "stream",
          "name": "stderr",
          "text": [
            "\r113it [01:33,  1.22it/s]"
          ]
        },
        {
          "output_type": "stream",
          "name": "stdout",
          "text": [
            "Batch: 112. Loss: 0.250606\n"
          ]
        },
        {
          "output_type": "stream",
          "name": "stderr",
          "text": [
            "\r114it [01:33,  1.22it/s]"
          ]
        },
        {
          "output_type": "stream",
          "name": "stdout",
          "text": [
            "Batch: 113. Loss: 0.169928\n"
          ]
        },
        {
          "output_type": "stream",
          "name": "stderr",
          "text": [
            "\r115it [01:34,  1.20it/s]"
          ]
        },
        {
          "output_type": "stream",
          "name": "stdout",
          "text": [
            "Batch: 114. Loss: 0.344712\n"
          ]
        },
        {
          "output_type": "stream",
          "name": "stderr",
          "text": [
            "\r116it [01:35,  1.18it/s]"
          ]
        },
        {
          "output_type": "stream",
          "name": "stdout",
          "text": [
            "Batch: 115. Loss: 0.474375\n"
          ]
        },
        {
          "output_type": "stream",
          "name": "stderr",
          "text": [
            "\r117it [01:36,  1.20it/s]"
          ]
        },
        {
          "output_type": "stream",
          "name": "stdout",
          "text": [
            "Batch: 116. Loss: 0.345917\n"
          ]
        },
        {
          "output_type": "stream",
          "name": "stderr",
          "text": [
            "\r118it [01:37,  1.21it/s]"
          ]
        },
        {
          "output_type": "stream",
          "name": "stdout",
          "text": [
            "Batch: 117. Loss: 0.356717\n"
          ]
        },
        {
          "output_type": "stream",
          "name": "stderr",
          "text": [
            "\r119it [01:38,  1.21it/s]"
          ]
        },
        {
          "output_type": "stream",
          "name": "stdout",
          "text": [
            "Batch: 118. Loss: 0.186937\n"
          ]
        },
        {
          "output_type": "stream",
          "name": "stderr",
          "text": [
            "\r120it [01:38,  1.21it/s]"
          ]
        },
        {
          "output_type": "stream",
          "name": "stdout",
          "text": [
            "Batch: 119. Loss: 0.231617\n"
          ]
        },
        {
          "output_type": "stream",
          "name": "stderr",
          "text": [
            "\r121it [01:39,  1.20it/s]"
          ]
        },
        {
          "output_type": "stream",
          "name": "stdout",
          "text": [
            "Batch: 120. Loss: 0.241467\n"
          ]
        },
        {
          "output_type": "stream",
          "name": "stderr",
          "text": [
            "\r122it [01:40,  1.20it/s]"
          ]
        },
        {
          "output_type": "stream",
          "name": "stdout",
          "text": [
            "Batch: 121. Loss: 0.377483\n"
          ]
        },
        {
          "output_type": "stream",
          "name": "stderr",
          "text": [
            "\r123it [01:41,  1.22it/s]"
          ]
        },
        {
          "output_type": "stream",
          "name": "stdout",
          "text": [
            "Batch: 122. Loss: 0.333743\n"
          ]
        },
        {
          "output_type": "stream",
          "name": "stderr",
          "text": [
            "\r124it [01:42,  1.21it/s]"
          ]
        },
        {
          "output_type": "stream",
          "name": "stdout",
          "text": [
            "Batch: 123. Loss: 0.331333\n"
          ]
        },
        {
          "output_type": "stream",
          "name": "stderr",
          "text": [
            "\r125it [01:43,  1.21it/s]"
          ]
        },
        {
          "output_type": "stream",
          "name": "stdout",
          "text": [
            "Batch: 124. Loss: 0.374810\n"
          ]
        },
        {
          "output_type": "stream",
          "name": "stderr",
          "text": [
            "\r126it [01:43,  1.22it/s]"
          ]
        },
        {
          "output_type": "stream",
          "name": "stdout",
          "text": [
            "Batch: 125. Loss: 0.175855\n"
          ]
        },
        {
          "output_type": "stream",
          "name": "stderr",
          "text": [
            "\r127it [01:44,  1.21it/s]"
          ]
        },
        {
          "output_type": "stream",
          "name": "stdout",
          "text": [
            "Batch: 126. Loss: 0.299996\n"
          ]
        },
        {
          "output_type": "stream",
          "name": "stderr",
          "text": [
            "\r128it [01:45,  1.20it/s]"
          ]
        },
        {
          "output_type": "stream",
          "name": "stdout",
          "text": [
            "Batch: 127. Loss: 0.264138\n"
          ]
        },
        {
          "output_type": "stream",
          "name": "stderr",
          "text": [
            "\r129it [01:46,  1.19it/s]"
          ]
        },
        {
          "output_type": "stream",
          "name": "stdout",
          "text": [
            "Batch: 128. Loss: 0.156457\n"
          ]
        },
        {
          "output_type": "stream",
          "name": "stderr",
          "text": [
            "\r130it [01:47,  1.21it/s]"
          ]
        },
        {
          "output_type": "stream",
          "name": "stdout",
          "text": [
            "Batch: 129. Loss: 0.333008\n"
          ]
        },
        {
          "output_type": "stream",
          "name": "stderr",
          "text": [
            "\r131it [01:47,  1.22it/s]"
          ]
        },
        {
          "output_type": "stream",
          "name": "stdout",
          "text": [
            "Batch: 130. Loss: 0.186678\n"
          ]
        },
        {
          "output_type": "stream",
          "name": "stderr",
          "text": [
            "\r132it [01:48,  1.20it/s]"
          ]
        },
        {
          "output_type": "stream",
          "name": "stdout",
          "text": [
            "Batch: 131. Loss: 0.140436\n"
          ]
        },
        {
          "output_type": "stream",
          "name": "stderr",
          "text": [
            "\r133it [01:49,  1.21it/s]"
          ]
        },
        {
          "output_type": "stream",
          "name": "stdout",
          "text": [
            "Batch: 132. Loss: 0.160260\n"
          ]
        },
        {
          "output_type": "stream",
          "name": "stderr",
          "text": [
            "\r134it [01:50,  1.22it/s]"
          ]
        },
        {
          "output_type": "stream",
          "name": "stdout",
          "text": [
            "Batch: 133. Loss: 0.206487\n"
          ]
        },
        {
          "output_type": "stream",
          "name": "stderr",
          "text": [
            "\r135it [01:51,  1.22it/s]"
          ]
        },
        {
          "output_type": "stream",
          "name": "stdout",
          "text": [
            "Batch: 134. Loss: 0.237985\n"
          ]
        },
        {
          "output_type": "stream",
          "name": "stderr",
          "text": [
            "\r136it [01:52,  1.21it/s]"
          ]
        },
        {
          "output_type": "stream",
          "name": "stdout",
          "text": [
            "Batch: 135. Loss: 0.413930\n"
          ]
        },
        {
          "output_type": "stream",
          "name": "stderr",
          "text": [
            "\r137it [01:52,  1.21it/s]"
          ]
        },
        {
          "output_type": "stream",
          "name": "stdout",
          "text": [
            "Batch: 136. Loss: 0.215183\n"
          ]
        },
        {
          "output_type": "stream",
          "name": "stderr",
          "text": [
            "\r138it [01:53,  1.20it/s]"
          ]
        },
        {
          "output_type": "stream",
          "name": "stdout",
          "text": [
            "Batch: 137. Loss: 0.161083\n"
          ]
        },
        {
          "output_type": "stream",
          "name": "stderr",
          "text": [
            "\r139it [01:54,  1.21it/s]"
          ]
        },
        {
          "output_type": "stream",
          "name": "stdout",
          "text": [
            "Batch: 138. Loss: 0.214830\n"
          ]
        },
        {
          "output_type": "stream",
          "name": "stderr",
          "text": [
            "\r140it [01:55,  1.22it/s]"
          ]
        },
        {
          "output_type": "stream",
          "name": "stdout",
          "text": [
            "Batch: 139. Loss: 0.252904\n"
          ]
        },
        {
          "output_type": "stream",
          "name": "stderr",
          "text": [
            "\r141it [01:56,  1.21it/s]"
          ]
        },
        {
          "output_type": "stream",
          "name": "stdout",
          "text": [
            "Batch: 140. Loss: 0.229634\n"
          ]
        },
        {
          "output_type": "stream",
          "name": "stderr",
          "text": [
            "\r142it [01:57,  1.21it/s]"
          ]
        },
        {
          "output_type": "stream",
          "name": "stdout",
          "text": [
            "Batch: 141. Loss: 0.251956\n"
          ]
        },
        {
          "output_type": "stream",
          "name": "stderr",
          "text": [
            "\r143it [01:57,  1.21it/s]"
          ]
        },
        {
          "output_type": "stream",
          "name": "stdout",
          "text": [
            "Batch: 142. Loss: 0.334399\n"
          ]
        },
        {
          "output_type": "stream",
          "name": "stderr",
          "text": [
            "\r144it [01:58,  1.22it/s]"
          ]
        },
        {
          "output_type": "stream",
          "name": "stdout",
          "text": [
            "Batch: 143. Loss: 0.461866\n"
          ]
        },
        {
          "output_type": "stream",
          "name": "stderr",
          "text": [
            "\r145it [01:59,  1.21it/s]"
          ]
        },
        {
          "output_type": "stream",
          "name": "stdout",
          "text": [
            "Batch: 144. Loss: 0.232885\n"
          ]
        },
        {
          "output_type": "stream",
          "name": "stderr",
          "text": [
            "\r146it [02:00,  1.22it/s]"
          ]
        },
        {
          "output_type": "stream",
          "name": "stdout",
          "text": [
            "Batch: 145. Loss: 0.320313\n"
          ]
        },
        {
          "output_type": "stream",
          "name": "stderr",
          "text": [
            "\r147it [02:01,  1.21it/s]"
          ]
        },
        {
          "output_type": "stream",
          "name": "stdout",
          "text": [
            "Batch: 146. Loss: 0.194722\n"
          ]
        },
        {
          "output_type": "stream",
          "name": "stderr",
          "text": [
            "\r148it [02:02,  1.22it/s]"
          ]
        },
        {
          "output_type": "stream",
          "name": "stdout",
          "text": [
            "Batch: 147. Loss: 0.153839\n"
          ]
        },
        {
          "output_type": "stream",
          "name": "stderr",
          "text": [
            "\r149it [02:02,  1.20it/s]"
          ]
        },
        {
          "output_type": "stream",
          "name": "stdout",
          "text": [
            "Batch: 148. Loss: 0.175787\n"
          ]
        },
        {
          "output_type": "stream",
          "name": "stderr",
          "text": [
            "\r150it [02:03,  1.21it/s]"
          ]
        },
        {
          "output_type": "stream",
          "name": "stdout",
          "text": [
            "Batch: 149. Loss: 0.262782\n"
          ]
        },
        {
          "output_type": "stream",
          "name": "stderr",
          "text": [
            "\r151it [02:04,  1.20it/s]"
          ]
        },
        {
          "output_type": "stream",
          "name": "stdout",
          "text": [
            "Batch: 150. Loss: 0.197892\n"
          ]
        },
        {
          "output_type": "stream",
          "name": "stderr",
          "text": [
            "\r152it [02:05,  1.20it/s]"
          ]
        },
        {
          "output_type": "stream",
          "name": "stdout",
          "text": [
            "Batch: 151. Loss: 0.198871\n"
          ]
        },
        {
          "output_type": "stream",
          "name": "stderr",
          "text": [
            "\r153it [02:06,  1.20it/s]"
          ]
        },
        {
          "output_type": "stream",
          "name": "stdout",
          "text": [
            "Batch: 152. Loss: 0.385050\n"
          ]
        },
        {
          "output_type": "stream",
          "name": "stderr",
          "text": [
            "\r154it [02:07,  1.20it/s]"
          ]
        },
        {
          "output_type": "stream",
          "name": "stdout",
          "text": [
            "Batch: 153. Loss: 0.124491\n"
          ]
        },
        {
          "output_type": "stream",
          "name": "stderr",
          "text": [
            "\r155it [02:07,  1.22it/s]"
          ]
        },
        {
          "output_type": "stream",
          "name": "stdout",
          "text": [
            "Batch: 154. Loss: 0.213780\n"
          ]
        },
        {
          "output_type": "stream",
          "name": "stderr",
          "text": [
            "\r156it [02:08,  1.22it/s]"
          ]
        },
        {
          "output_type": "stream",
          "name": "stdout",
          "text": [
            "Batch: 155. Loss: 0.243972\n"
          ]
        },
        {
          "output_type": "stream",
          "name": "stderr",
          "text": [
            "\r157it [02:09,  1.22it/s]"
          ]
        },
        {
          "output_type": "stream",
          "name": "stdout",
          "text": [
            "Batch: 156. Loss: 0.221821\n"
          ]
        },
        {
          "output_type": "stream",
          "name": "stderr",
          "text": [
            "\r158it [02:10,  1.21it/s]"
          ]
        },
        {
          "output_type": "stream",
          "name": "stdout",
          "text": [
            "Batch: 157. Loss: 0.347630\n"
          ]
        },
        {
          "output_type": "stream",
          "name": "stderr",
          "text": [
            "\r159it [02:11,  1.21it/s]"
          ]
        },
        {
          "output_type": "stream",
          "name": "stdout",
          "text": [
            "Batch: 158. Loss: 0.080204\n"
          ]
        },
        {
          "output_type": "stream",
          "name": "stderr",
          "text": [
            "\r160it [02:11,  1.21it/s]"
          ]
        },
        {
          "output_type": "stream",
          "name": "stdout",
          "text": [
            "Batch: 159. Loss: 0.266077\n"
          ]
        },
        {
          "output_type": "stream",
          "name": "stderr",
          "text": [
            "\r161it [02:12,  1.22it/s]"
          ]
        },
        {
          "output_type": "stream",
          "name": "stdout",
          "text": [
            "Batch: 160. Loss: 0.218462\n"
          ]
        },
        {
          "output_type": "stream",
          "name": "stderr",
          "text": [
            "\r162it [02:13,  1.21it/s]"
          ]
        },
        {
          "output_type": "stream",
          "name": "stdout",
          "text": [
            "Batch: 161. Loss: 0.173798\n"
          ]
        },
        {
          "output_type": "stream",
          "name": "stderr",
          "text": [
            "\r163it [02:14,  1.22it/s]"
          ]
        },
        {
          "output_type": "stream",
          "name": "stdout",
          "text": [
            "Batch: 162. Loss: 0.365741\n"
          ]
        },
        {
          "output_type": "stream",
          "name": "stderr",
          "text": [
            "164it [02:14,  1.22it/s]"
          ]
        },
        {
          "output_type": "stream",
          "name": "stdout",
          "text": [
            "Batch: 163. Loss: 0.155422\n",
            "Cost at epoch 9 is 0.2485168587143828\n"
          ]
        },
        {
          "output_type": "stream",
          "name": "stderr",
          "text": [
            "\n"
          ]
        }
      ]
    },
    {
      "cell_type": "code",
      "source": [
        "\n",
        "# Check accuracy on training to see how good our model is\n",
        "def check_accuracy(loader, model):\n",
        "    num_correct = 0\n",
        "    num_samples = 0\n",
        "    model.eval()\n",
        "    correct = {0:0, 1:0, 2:0, 3:0, 4:0, 5:0, 6:0}\n",
        "    total = {0:0, 1:0, 2:0, 3:0, 4:0, 5:0, 6:0}\n",
        "    with torch.no_grad():\n",
        "        for x, y, info in tqdm(loader):\n",
        "            x = x.to(device=device)\n",
        "            y = y.to(device=device)\n",
        "            info = info.to(device=device)\n",
        "            scores = model(x, info)\n",
        "            \n",
        "            _, predictions = scores.max(1)\n",
        "            for i,j in zip(predictions, y):\n",
        "              if i.item() == j.item():\n",
        "                correct[i.item()] +=1\n",
        "              total[j.item()] += 1\n",
        "            num_correct += (predictions == y).sum()\n",
        "            num_samples += predictions.size(0)\n",
        "\n",
        "        print(\n",
        "              f\"Got {num_correct} / {num_samples} with accuracy {float(num_correct)/float(num_samples)*100:.2f}\"\n",
        "          )\n",
        "        #find the accuracies for each class \n",
        "        return correct, total\n",
        "\n",
        "    model.train()\n",
        "\n",
        "\n",
        "# print(\"Checking accuracy on Training Set\")\n",
        "# check_accuracy(train_loader, model)\n",
        "\n",
        "print(\"Checking accuracy on Test Set\")\n",
        "correct, total = check_accuracy(test_loader, model)\n",
        "\n",
        "for k in correct:\n",
        "  print(\"for class %d, the accuracy is: %f\" %(k, correct[k]/total[k]))"
      ],
      "metadata": {
        "id": "mCL73uFl7Okw",
        "colab": {
          "base_uri": "https://localhost:8080/"
        },
        "outputId": "f35d79af-de03-4f64-b427-54713726cab6"
      },
      "execution_count": null,
      "outputs": [
        {
          "output_type": "stream",
          "name": "stdout",
          "text": [
            "Checking accuracy on Test Set\n"
          ]
        },
        {
          "output_type": "stream",
          "name": "stderr",
          "text": [
            "100%|██████████| 39/39 [00:33<00:00,  1.18it/s]"
          ]
        },
        {
          "output_type": "stream",
          "name": "stdout",
          "text": [
            "Got 1932 / 2490 with accuracy 77.59\n",
            "for class 0, the accuracy is: 0.380952\n",
            "for class 1, the accuracy is: 0.969091\n",
            "for class 2, the accuracy is: 0.440000\n",
            "for class 3, the accuracy is: 0.318519\n",
            "for class 4, the accuracy is: 0.902439\n",
            "for class 5, the accuracy is: 0.588235\n",
            "for class 6, the accuracy is: 0.157895\n"
          ]
        },
        {
          "output_type": "stream",
          "name": "stderr",
          "text": [
            "\n"
          ]
        }
      ]
    },
    {
      "cell_type": "code",
      "source": [
        "print(correct, total)"
      ],
      "metadata": {
        "id": "tw-VRTz4RCEN",
        "colab": {
          "base_uri": "https://localhost:8080/"
        },
        "outputId": "0342b604-7f33-47b3-8bd8-2648e9e56040"
      },
      "execution_count": null,
      "outputs": [
        {
          "output_type": "stream",
          "name": "stdout",
          "text": [
            "{0: 104, 1: 1599, 2: 11, 3: 86, 4: 37, 5: 80, 6: 15} {0: 273, 1: 1650, 2: 25, 3: 270, 4: 41, 5: 136, 6: 95}\n"
          ]
        }
      ]
    },
    {
      "cell_type": "code",
      "source": [],
      "metadata": {
        "id": "wZUgLNE41xKG"
      },
      "execution_count": null,
      "outputs": []
    },
    {
      "cell_type": "code",
      "source": [
        "from google.colab import runtime\n",
        "runtime.unassign()"
      ],
      "metadata": {
        "id": "I3b_CBaY_sTO"
      },
      "execution_count": null,
      "outputs": []
    },
    {
      "cell_type": "code",
      "source": [],
      "metadata": {
        "id": "Io6268U7-gwR"
      },
      "execution_count": null,
      "outputs": []
    }
  ]
}