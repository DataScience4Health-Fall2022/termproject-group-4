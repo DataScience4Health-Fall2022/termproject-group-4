{
  "nbformat": 4,
  "nbformat_minor": 0,
  "metadata": {
    "colab": {
      "provenance": [],
      "machine_shape": "hm"
    },
    "kernelspec": {
      "name": "python3",
      "display_name": "Python 3"
    },
    "language_info": {
      "name": "python"
    },
    "accelerator": "GPU",
    "gpuClass": "premium"
  },
  "cells": [
    {
      "cell_type": "code",
      "execution_count": 2,
      "metadata": {
        "colab": {
          "base_uri": "https://localhost:8080/"
        },
        "id": "N3neGwSsk44A",
        "outputId": "209c0a7b-bfef-48c1-8567-7695405357c6"
      },
      "outputs": [
        {
          "output_type": "stream",
          "name": "stdout",
          "text": [
            "Drive already mounted at /content/drive; to attempt to forcibly remount, call drive.mount(\"/content/drive\", force_remount=True).\n"
          ]
        }
      ],
      "source": [
        "#mount drive, upload datasets, and import necessary packages\n",
        "from google.colab import drive\n",
        "drive.mount('/content/drive')"
      ]
    },
    {
      "cell_type": "code",
      "source": [
        "! unzip '/content/drive/MyDrive/HAM10000_metadata_gc.zip'"
      ],
      "metadata": {
        "colab": {
          "base_uri": "https://localhost:8080/"
        },
        "id": "oHUwT4VSmI6J",
        "outputId": "03837f21-a083-41e1-8333-3c18d4115c9d"
      },
      "execution_count": 3,
      "outputs": [
        {
          "output_type": "stream",
          "name": "stdout",
          "text": [
            "Archive:  /content/drive/MyDrive/HAM10000_metadata_gc.zip\n",
            "  inflating: HAM10000_metadata       \n"
          ]
        }
      ]
    },
    {
      "cell_type": "code",
      "source": [
        "! unzip '/content/drive/MyDrive/HAM10000_images_part_1_gc'"
      ],
      "metadata": {
        "id": "kPmgHtwfmPR5"
      },
      "execution_count": null,
      "outputs": []
    },
    {
      "cell_type": "code",
      "source": [
        "! unzip '/content/drive/MyDrive/HAM10000_images_part_2_gc'"
      ],
      "metadata": {
        "id": "cqdvTwCAmRsd"
      },
      "execution_count": null,
      "outputs": []
    },
    {
      "cell_type": "code",
      "source": [
        "#import statements\n",
        "import matplotlib.pyplot as plt\n",
        "import numpy as np\n",
        "import pandas as pd\n",
        "import os\n",
        "from glob import glob\n",
        "import seaborn as sns\n",
        "from PIL import Image\n",
        "from sklearn.metrics import confusion_matrix\n",
        "import keras\n",
        "from keras.utils.np_utils import to_categorical \n",
        "from keras.models import Sequential\n",
        "from keras.layers import Dense, Dropout, Flatten, Conv2D, MaxPool2D, BatchNormalization\n",
        "from sklearn.model_selection import train_test_split\n",
        "from scipy import stats\n",
        "from sklearn.preprocessing import LabelEncoder\n",
        "from sklearn.utils import resample"
      ],
      "metadata": {
        "id": "PACimiHDmZcY"
      },
      "execution_count": 6,
      "outputs": []
    },
    {
      "cell_type": "code",
      "source": [
        "md = pd.read_csv(\"/content/HAM10000_metadata\")\n",
        "md"
      ],
      "metadata": {
        "colab": {
          "base_uri": "https://localhost:8080/",
          "height": 423
        },
        "id": "bDMQgqpRmdJh",
        "outputId": "1c0cc31d-fdb1-49d1-bf63-94a70c897844"
      },
      "execution_count": 7,
      "outputs": [
        {
          "output_type": "execute_result",
          "data": {
            "text/plain": [
              "         lesion_id      image_id     dx dx_type   age     sex localization  \\\n",
              "0      HAM_0000118  ISIC_0027419    bkl   histo  80.0    male        scalp   \n",
              "1      HAM_0000118  ISIC_0025030    bkl   histo  80.0    male        scalp   \n",
              "2      HAM_0002730  ISIC_0026769    bkl   histo  80.0    male        scalp   \n",
              "3      HAM_0002730  ISIC_0025661    bkl   histo  80.0    male        scalp   \n",
              "4      HAM_0001466  ISIC_0031633    bkl   histo  75.0    male          ear   \n",
              "...            ...           ...    ...     ...   ...     ...          ...   \n",
              "10010  HAM_0002867  ISIC_0033084  akiec   histo  40.0    male      abdomen   \n",
              "10011  HAM_0002867  ISIC_0033550  akiec   histo  40.0    male      abdomen   \n",
              "10012  HAM_0002867  ISIC_0033536  akiec   histo  40.0    male      abdomen   \n",
              "10013  HAM_0000239  ISIC_0032854  akiec   histo  80.0    male         face   \n",
              "10014  HAM_0003521  ISIC_0032258    mel   histo  70.0  female         back   \n",
              "\n",
              "            dataset  \n",
              "0      vidir_modern  \n",
              "1      vidir_modern  \n",
              "2      vidir_modern  \n",
              "3      vidir_modern  \n",
              "4      vidir_modern  \n",
              "...             ...  \n",
              "10010  vidir_modern  \n",
              "10011  vidir_modern  \n",
              "10012  vidir_modern  \n",
              "10013  vidir_modern  \n",
              "10014  vidir_modern  \n",
              "\n",
              "[10015 rows x 8 columns]"
            ],
            "text/html": [
              "\n",
              "  <div id=\"df-74bcd5ac-8478-4702-9ca4-56661c19640d\">\n",
              "    <div class=\"colab-df-container\">\n",
              "      <div>\n",
              "<style scoped>\n",
              "    .dataframe tbody tr th:only-of-type {\n",
              "        vertical-align: middle;\n",
              "    }\n",
              "\n",
              "    .dataframe tbody tr th {\n",
              "        vertical-align: top;\n",
              "    }\n",
              "\n",
              "    .dataframe thead th {\n",
              "        text-align: right;\n",
              "    }\n",
              "</style>\n",
              "<table border=\"1\" class=\"dataframe\">\n",
              "  <thead>\n",
              "    <tr style=\"text-align: right;\">\n",
              "      <th></th>\n",
              "      <th>lesion_id</th>\n",
              "      <th>image_id</th>\n",
              "      <th>dx</th>\n",
              "      <th>dx_type</th>\n",
              "      <th>age</th>\n",
              "      <th>sex</th>\n",
              "      <th>localization</th>\n",
              "      <th>dataset</th>\n",
              "    </tr>\n",
              "  </thead>\n",
              "  <tbody>\n",
              "    <tr>\n",
              "      <th>0</th>\n",
              "      <td>HAM_0000118</td>\n",
              "      <td>ISIC_0027419</td>\n",
              "      <td>bkl</td>\n",
              "      <td>histo</td>\n",
              "      <td>80.0</td>\n",
              "      <td>male</td>\n",
              "      <td>scalp</td>\n",
              "      <td>vidir_modern</td>\n",
              "    </tr>\n",
              "    <tr>\n",
              "      <th>1</th>\n",
              "      <td>HAM_0000118</td>\n",
              "      <td>ISIC_0025030</td>\n",
              "      <td>bkl</td>\n",
              "      <td>histo</td>\n",
              "      <td>80.0</td>\n",
              "      <td>male</td>\n",
              "      <td>scalp</td>\n",
              "      <td>vidir_modern</td>\n",
              "    </tr>\n",
              "    <tr>\n",
              "      <th>2</th>\n",
              "      <td>HAM_0002730</td>\n",
              "      <td>ISIC_0026769</td>\n",
              "      <td>bkl</td>\n",
              "      <td>histo</td>\n",
              "      <td>80.0</td>\n",
              "      <td>male</td>\n",
              "      <td>scalp</td>\n",
              "      <td>vidir_modern</td>\n",
              "    </tr>\n",
              "    <tr>\n",
              "      <th>3</th>\n",
              "      <td>HAM_0002730</td>\n",
              "      <td>ISIC_0025661</td>\n",
              "      <td>bkl</td>\n",
              "      <td>histo</td>\n",
              "      <td>80.0</td>\n",
              "      <td>male</td>\n",
              "      <td>scalp</td>\n",
              "      <td>vidir_modern</td>\n",
              "    </tr>\n",
              "    <tr>\n",
              "      <th>4</th>\n",
              "      <td>HAM_0001466</td>\n",
              "      <td>ISIC_0031633</td>\n",
              "      <td>bkl</td>\n",
              "      <td>histo</td>\n",
              "      <td>75.0</td>\n",
              "      <td>male</td>\n",
              "      <td>ear</td>\n",
              "      <td>vidir_modern</td>\n",
              "    </tr>\n",
              "    <tr>\n",
              "      <th>...</th>\n",
              "      <td>...</td>\n",
              "      <td>...</td>\n",
              "      <td>...</td>\n",
              "      <td>...</td>\n",
              "      <td>...</td>\n",
              "      <td>...</td>\n",
              "      <td>...</td>\n",
              "      <td>...</td>\n",
              "    </tr>\n",
              "    <tr>\n",
              "      <th>10010</th>\n",
              "      <td>HAM_0002867</td>\n",
              "      <td>ISIC_0033084</td>\n",
              "      <td>akiec</td>\n",
              "      <td>histo</td>\n",
              "      <td>40.0</td>\n",
              "      <td>male</td>\n",
              "      <td>abdomen</td>\n",
              "      <td>vidir_modern</td>\n",
              "    </tr>\n",
              "    <tr>\n",
              "      <th>10011</th>\n",
              "      <td>HAM_0002867</td>\n",
              "      <td>ISIC_0033550</td>\n",
              "      <td>akiec</td>\n",
              "      <td>histo</td>\n",
              "      <td>40.0</td>\n",
              "      <td>male</td>\n",
              "      <td>abdomen</td>\n",
              "      <td>vidir_modern</td>\n",
              "    </tr>\n",
              "    <tr>\n",
              "      <th>10012</th>\n",
              "      <td>HAM_0002867</td>\n",
              "      <td>ISIC_0033536</td>\n",
              "      <td>akiec</td>\n",
              "      <td>histo</td>\n",
              "      <td>40.0</td>\n",
              "      <td>male</td>\n",
              "      <td>abdomen</td>\n",
              "      <td>vidir_modern</td>\n",
              "    </tr>\n",
              "    <tr>\n",
              "      <th>10013</th>\n",
              "      <td>HAM_0000239</td>\n",
              "      <td>ISIC_0032854</td>\n",
              "      <td>akiec</td>\n",
              "      <td>histo</td>\n",
              "      <td>80.0</td>\n",
              "      <td>male</td>\n",
              "      <td>face</td>\n",
              "      <td>vidir_modern</td>\n",
              "    </tr>\n",
              "    <tr>\n",
              "      <th>10014</th>\n",
              "      <td>HAM_0003521</td>\n",
              "      <td>ISIC_0032258</td>\n",
              "      <td>mel</td>\n",
              "      <td>histo</td>\n",
              "      <td>70.0</td>\n",
              "      <td>female</td>\n",
              "      <td>back</td>\n",
              "      <td>vidir_modern</td>\n",
              "    </tr>\n",
              "  </tbody>\n",
              "</table>\n",
              "<p>10015 rows × 8 columns</p>\n",
              "</div>\n",
              "      <button class=\"colab-df-convert\" onclick=\"convertToInteractive('df-74bcd5ac-8478-4702-9ca4-56661c19640d')\"\n",
              "              title=\"Convert this dataframe to an interactive table.\"\n",
              "              style=\"display:none;\">\n",
              "        \n",
              "  <svg xmlns=\"http://www.w3.org/2000/svg\" height=\"24px\"viewBox=\"0 0 24 24\"\n",
              "       width=\"24px\">\n",
              "    <path d=\"M0 0h24v24H0V0z\" fill=\"none\"/>\n",
              "    <path d=\"M18.56 5.44l.94 2.06.94-2.06 2.06-.94-2.06-.94-.94-2.06-.94 2.06-2.06.94zm-11 1L8.5 8.5l.94-2.06 2.06-.94-2.06-.94L8.5 2.5l-.94 2.06-2.06.94zm10 10l.94 2.06.94-2.06 2.06-.94-2.06-.94-.94-2.06-.94 2.06-2.06.94z\"/><path d=\"M17.41 7.96l-1.37-1.37c-.4-.4-.92-.59-1.43-.59-.52 0-1.04.2-1.43.59L10.3 9.45l-7.72 7.72c-.78.78-.78 2.05 0 2.83L4 21.41c.39.39.9.59 1.41.59.51 0 1.02-.2 1.41-.59l7.78-7.78 2.81-2.81c.8-.78.8-2.07 0-2.86zM5.41 20L4 18.59l7.72-7.72 1.47 1.35L5.41 20z\"/>\n",
              "  </svg>\n",
              "      </button>\n",
              "      \n",
              "  <style>\n",
              "    .colab-df-container {\n",
              "      display:flex;\n",
              "      flex-wrap:wrap;\n",
              "      gap: 12px;\n",
              "    }\n",
              "\n",
              "    .colab-df-convert {\n",
              "      background-color: #E8F0FE;\n",
              "      border: none;\n",
              "      border-radius: 50%;\n",
              "      cursor: pointer;\n",
              "      display: none;\n",
              "      fill: #1967D2;\n",
              "      height: 32px;\n",
              "      padding: 0 0 0 0;\n",
              "      width: 32px;\n",
              "    }\n",
              "\n",
              "    .colab-df-convert:hover {\n",
              "      background-color: #E2EBFA;\n",
              "      box-shadow: 0px 1px 2px rgba(60, 64, 67, 0.3), 0px 1px 3px 1px rgba(60, 64, 67, 0.15);\n",
              "      fill: #174EA6;\n",
              "    }\n",
              "\n",
              "    [theme=dark] .colab-df-convert {\n",
              "      background-color: #3B4455;\n",
              "      fill: #D2E3FC;\n",
              "    }\n",
              "\n",
              "    [theme=dark] .colab-df-convert:hover {\n",
              "      background-color: #434B5C;\n",
              "      box-shadow: 0px 1px 3px 1px rgba(0, 0, 0, 0.15);\n",
              "      filter: drop-shadow(0px 1px 2px rgba(0, 0, 0, 0.3));\n",
              "      fill: #FFFFFF;\n",
              "    }\n",
              "  </style>\n",
              "\n",
              "      <script>\n",
              "        const buttonEl =\n",
              "          document.querySelector('#df-74bcd5ac-8478-4702-9ca4-56661c19640d button.colab-df-convert');\n",
              "        buttonEl.style.display =\n",
              "          google.colab.kernel.accessAllowed ? 'block' : 'none';\n",
              "\n",
              "        async function convertToInteractive(key) {\n",
              "          const element = document.querySelector('#df-74bcd5ac-8478-4702-9ca4-56661c19640d');\n",
              "          const dataTable =\n",
              "            await google.colab.kernel.invokeFunction('convertToInteractive',\n",
              "                                                     [key], {});\n",
              "          if (!dataTable) return;\n",
              "\n",
              "          const docLinkHtml = 'Like what you see? Visit the ' +\n",
              "            '<a target=\"_blank\" href=https://colab.research.google.com/notebooks/data_table.ipynb>data table notebook</a>'\n",
              "            + ' to learn more about interactive tables.';\n",
              "          element.innerHTML = '';\n",
              "          dataTable['output_type'] = 'display_data';\n",
              "          await google.colab.output.renderOutput(dataTable, element);\n",
              "          const docLink = document.createElement('div');\n",
              "          docLink.innerHTML = docLinkHtml;\n",
              "          element.appendChild(docLink);\n",
              "        }\n",
              "      </script>\n",
              "    </div>\n",
              "  </div>\n",
              "  "
            ]
          },
          "metadata": {},
          "execution_count": 7
        }
      ]
    },
    {
      "cell_type": "code",
      "source": [
        "#load all datasets and examine them\n",
        "#create numerical labels based on disease categories"
      ],
      "metadata": {
        "id": "ABrMihzU6KQg"
      },
      "execution_count": 8,
      "outputs": []
    },
    {
      "cell_type": "code",
      "source": [
        "lab_enc = LabelEncoder()\n",
        "lab_enc.fit(md['dx'])\n",
        "LabelEncoder()\n",
        "print(list(lab_enc.classes_))"
      ],
      "metadata": {
        "colab": {
          "base_uri": "https://localhost:8080/"
        },
        "id": "ymSd6QhAmweV",
        "outputId": "d14a0fe2-c074-4244-c7c4-8acafa66c9c8"
      },
      "execution_count": 9,
      "outputs": [
        {
          "output_type": "stream",
          "name": "stdout",
          "text": [
            "['akiec', 'bcc', 'bkl', 'df', 'mel', 'nv', 'vasc']\n"
          ]
        }
      ]
    },
    {
      "cell_type": "code",
      "source": [
        "md['label'] = lab_enc.transform(md[\"dx\"]) "
      ],
      "metadata": {
        "id": "swwYUrMYnav5"
      },
      "execution_count": 10,
      "outputs": []
    },
    {
      "cell_type": "code",
      "source": [
        "#add image paths and image ndarrays to metadata set"
      ],
      "metadata": {
        "id": "vtCo1vmf6PCX"
      },
      "execution_count": 11,
      "outputs": []
    },
    {
      "cell_type": "code",
      "source": [
        "fldr1 = '/content/HAM10000_images_part_1'\n",
        "fldr2 = '/content/HAM10000_images_part_2'\n",
        "\n",
        "im_paths = []\n",
        "\n",
        "for i in md['image_id']:\n",
        "  fid = i\n",
        "\n",
        "  fn = '/' + fid + '.jpg'\n",
        "\n",
        "  if os.path.isfile(fldr1 + fn) == True:\n",
        "    im_paths.append(fldr1+fn)\n",
        "  else:\n",
        "    im_paths.append(fldr2+fn)"
      ],
      "metadata": {
        "id": "k79Elb3qnbcP"
      },
      "execution_count": 12,
      "outputs": []
    },
    {
      "cell_type": "code",
      "source": [
        "md['image_paths'] = im_paths\n",
        "md"
      ],
      "metadata": {
        "colab": {
          "base_uri": "https://localhost:8080/",
          "height": 423
        },
        "id": "nnwsmFUanf7L",
        "outputId": "e8ded049-181b-40e9-e558-f4efd8fc4cf1"
      },
      "execution_count": 13,
      "outputs": [
        {
          "output_type": "execute_result",
          "data": {
            "text/plain": [
              "         lesion_id      image_id     dx dx_type   age     sex localization  \\\n",
              "0      HAM_0000118  ISIC_0027419    bkl   histo  80.0    male        scalp   \n",
              "1      HAM_0000118  ISIC_0025030    bkl   histo  80.0    male        scalp   \n",
              "2      HAM_0002730  ISIC_0026769    bkl   histo  80.0    male        scalp   \n",
              "3      HAM_0002730  ISIC_0025661    bkl   histo  80.0    male        scalp   \n",
              "4      HAM_0001466  ISIC_0031633    bkl   histo  75.0    male          ear   \n",
              "...            ...           ...    ...     ...   ...     ...          ...   \n",
              "10010  HAM_0002867  ISIC_0033084  akiec   histo  40.0    male      abdomen   \n",
              "10011  HAM_0002867  ISIC_0033550  akiec   histo  40.0    male      abdomen   \n",
              "10012  HAM_0002867  ISIC_0033536  akiec   histo  40.0    male      abdomen   \n",
              "10013  HAM_0000239  ISIC_0032854  akiec   histo  80.0    male         face   \n",
              "10014  HAM_0003521  ISIC_0032258    mel   histo  70.0  female         back   \n",
              "\n",
              "            dataset  label                                       image_paths  \n",
              "0      vidir_modern      2  /content/HAM10000_images_part_1/ISIC_0027419.jpg  \n",
              "1      vidir_modern      2  /content/HAM10000_images_part_1/ISIC_0025030.jpg  \n",
              "2      vidir_modern      2  /content/HAM10000_images_part_1/ISIC_0026769.jpg  \n",
              "3      vidir_modern      2  /content/HAM10000_images_part_1/ISIC_0025661.jpg  \n",
              "4      vidir_modern      2  /content/HAM10000_images_part_2/ISIC_0031633.jpg  \n",
              "...             ...    ...                                               ...  \n",
              "10010  vidir_modern      0  /content/HAM10000_images_part_2/ISIC_0033084.jpg  \n",
              "10011  vidir_modern      0  /content/HAM10000_images_part_2/ISIC_0033550.jpg  \n",
              "10012  vidir_modern      0  /content/HAM10000_images_part_2/ISIC_0033536.jpg  \n",
              "10013  vidir_modern      0  /content/HAM10000_images_part_2/ISIC_0032854.jpg  \n",
              "10014  vidir_modern      4  /content/HAM10000_images_part_2/ISIC_0032258.jpg  \n",
              "\n",
              "[10015 rows x 10 columns]"
            ],
            "text/html": [
              "\n",
              "  <div id=\"df-7680ab11-76e7-49af-894c-776a73351fec\">\n",
              "    <div class=\"colab-df-container\">\n",
              "      <div>\n",
              "<style scoped>\n",
              "    .dataframe tbody tr th:only-of-type {\n",
              "        vertical-align: middle;\n",
              "    }\n",
              "\n",
              "    .dataframe tbody tr th {\n",
              "        vertical-align: top;\n",
              "    }\n",
              "\n",
              "    .dataframe thead th {\n",
              "        text-align: right;\n",
              "    }\n",
              "</style>\n",
              "<table border=\"1\" class=\"dataframe\">\n",
              "  <thead>\n",
              "    <tr style=\"text-align: right;\">\n",
              "      <th></th>\n",
              "      <th>lesion_id</th>\n",
              "      <th>image_id</th>\n",
              "      <th>dx</th>\n",
              "      <th>dx_type</th>\n",
              "      <th>age</th>\n",
              "      <th>sex</th>\n",
              "      <th>localization</th>\n",
              "      <th>dataset</th>\n",
              "      <th>label</th>\n",
              "      <th>image_paths</th>\n",
              "    </tr>\n",
              "  </thead>\n",
              "  <tbody>\n",
              "    <tr>\n",
              "      <th>0</th>\n",
              "      <td>HAM_0000118</td>\n",
              "      <td>ISIC_0027419</td>\n",
              "      <td>bkl</td>\n",
              "      <td>histo</td>\n",
              "      <td>80.0</td>\n",
              "      <td>male</td>\n",
              "      <td>scalp</td>\n",
              "      <td>vidir_modern</td>\n",
              "      <td>2</td>\n",
              "      <td>/content/HAM10000_images_part_1/ISIC_0027419.jpg</td>\n",
              "    </tr>\n",
              "    <tr>\n",
              "      <th>1</th>\n",
              "      <td>HAM_0000118</td>\n",
              "      <td>ISIC_0025030</td>\n",
              "      <td>bkl</td>\n",
              "      <td>histo</td>\n",
              "      <td>80.0</td>\n",
              "      <td>male</td>\n",
              "      <td>scalp</td>\n",
              "      <td>vidir_modern</td>\n",
              "      <td>2</td>\n",
              "      <td>/content/HAM10000_images_part_1/ISIC_0025030.jpg</td>\n",
              "    </tr>\n",
              "    <tr>\n",
              "      <th>2</th>\n",
              "      <td>HAM_0002730</td>\n",
              "      <td>ISIC_0026769</td>\n",
              "      <td>bkl</td>\n",
              "      <td>histo</td>\n",
              "      <td>80.0</td>\n",
              "      <td>male</td>\n",
              "      <td>scalp</td>\n",
              "      <td>vidir_modern</td>\n",
              "      <td>2</td>\n",
              "      <td>/content/HAM10000_images_part_1/ISIC_0026769.jpg</td>\n",
              "    </tr>\n",
              "    <tr>\n",
              "      <th>3</th>\n",
              "      <td>HAM_0002730</td>\n",
              "      <td>ISIC_0025661</td>\n",
              "      <td>bkl</td>\n",
              "      <td>histo</td>\n",
              "      <td>80.0</td>\n",
              "      <td>male</td>\n",
              "      <td>scalp</td>\n",
              "      <td>vidir_modern</td>\n",
              "      <td>2</td>\n",
              "      <td>/content/HAM10000_images_part_1/ISIC_0025661.jpg</td>\n",
              "    </tr>\n",
              "    <tr>\n",
              "      <th>4</th>\n",
              "      <td>HAM_0001466</td>\n",
              "      <td>ISIC_0031633</td>\n",
              "      <td>bkl</td>\n",
              "      <td>histo</td>\n",
              "      <td>75.0</td>\n",
              "      <td>male</td>\n",
              "      <td>ear</td>\n",
              "      <td>vidir_modern</td>\n",
              "      <td>2</td>\n",
              "      <td>/content/HAM10000_images_part_2/ISIC_0031633.jpg</td>\n",
              "    </tr>\n",
              "    <tr>\n",
              "      <th>...</th>\n",
              "      <td>...</td>\n",
              "      <td>...</td>\n",
              "      <td>...</td>\n",
              "      <td>...</td>\n",
              "      <td>...</td>\n",
              "      <td>...</td>\n",
              "      <td>...</td>\n",
              "      <td>...</td>\n",
              "      <td>...</td>\n",
              "      <td>...</td>\n",
              "    </tr>\n",
              "    <tr>\n",
              "      <th>10010</th>\n",
              "      <td>HAM_0002867</td>\n",
              "      <td>ISIC_0033084</td>\n",
              "      <td>akiec</td>\n",
              "      <td>histo</td>\n",
              "      <td>40.0</td>\n",
              "      <td>male</td>\n",
              "      <td>abdomen</td>\n",
              "      <td>vidir_modern</td>\n",
              "      <td>0</td>\n",
              "      <td>/content/HAM10000_images_part_2/ISIC_0033084.jpg</td>\n",
              "    </tr>\n",
              "    <tr>\n",
              "      <th>10011</th>\n",
              "      <td>HAM_0002867</td>\n",
              "      <td>ISIC_0033550</td>\n",
              "      <td>akiec</td>\n",
              "      <td>histo</td>\n",
              "      <td>40.0</td>\n",
              "      <td>male</td>\n",
              "      <td>abdomen</td>\n",
              "      <td>vidir_modern</td>\n",
              "      <td>0</td>\n",
              "      <td>/content/HAM10000_images_part_2/ISIC_0033550.jpg</td>\n",
              "    </tr>\n",
              "    <tr>\n",
              "      <th>10012</th>\n",
              "      <td>HAM_0002867</td>\n",
              "      <td>ISIC_0033536</td>\n",
              "      <td>akiec</td>\n",
              "      <td>histo</td>\n",
              "      <td>40.0</td>\n",
              "      <td>male</td>\n",
              "      <td>abdomen</td>\n",
              "      <td>vidir_modern</td>\n",
              "      <td>0</td>\n",
              "      <td>/content/HAM10000_images_part_2/ISIC_0033536.jpg</td>\n",
              "    </tr>\n",
              "    <tr>\n",
              "      <th>10013</th>\n",
              "      <td>HAM_0000239</td>\n",
              "      <td>ISIC_0032854</td>\n",
              "      <td>akiec</td>\n",
              "      <td>histo</td>\n",
              "      <td>80.0</td>\n",
              "      <td>male</td>\n",
              "      <td>face</td>\n",
              "      <td>vidir_modern</td>\n",
              "      <td>0</td>\n",
              "      <td>/content/HAM10000_images_part_2/ISIC_0032854.jpg</td>\n",
              "    </tr>\n",
              "    <tr>\n",
              "      <th>10014</th>\n",
              "      <td>HAM_0003521</td>\n",
              "      <td>ISIC_0032258</td>\n",
              "      <td>mel</td>\n",
              "      <td>histo</td>\n",
              "      <td>70.0</td>\n",
              "      <td>female</td>\n",
              "      <td>back</td>\n",
              "      <td>vidir_modern</td>\n",
              "      <td>4</td>\n",
              "      <td>/content/HAM10000_images_part_2/ISIC_0032258.jpg</td>\n",
              "    </tr>\n",
              "  </tbody>\n",
              "</table>\n",
              "<p>10015 rows × 10 columns</p>\n",
              "</div>\n",
              "      <button class=\"colab-df-convert\" onclick=\"convertToInteractive('df-7680ab11-76e7-49af-894c-776a73351fec')\"\n",
              "              title=\"Convert this dataframe to an interactive table.\"\n",
              "              style=\"display:none;\">\n",
              "        \n",
              "  <svg xmlns=\"http://www.w3.org/2000/svg\" height=\"24px\"viewBox=\"0 0 24 24\"\n",
              "       width=\"24px\">\n",
              "    <path d=\"M0 0h24v24H0V0z\" fill=\"none\"/>\n",
              "    <path d=\"M18.56 5.44l.94 2.06.94-2.06 2.06-.94-2.06-.94-.94-2.06-.94 2.06-2.06.94zm-11 1L8.5 8.5l.94-2.06 2.06-.94-2.06-.94L8.5 2.5l-.94 2.06-2.06.94zm10 10l.94 2.06.94-2.06 2.06-.94-2.06-.94-.94-2.06-.94 2.06-2.06.94z\"/><path d=\"M17.41 7.96l-1.37-1.37c-.4-.4-.92-.59-1.43-.59-.52 0-1.04.2-1.43.59L10.3 9.45l-7.72 7.72c-.78.78-.78 2.05 0 2.83L4 21.41c.39.39.9.59 1.41.59.51 0 1.02-.2 1.41-.59l7.78-7.78 2.81-2.81c.8-.78.8-2.07 0-2.86zM5.41 20L4 18.59l7.72-7.72 1.47 1.35L5.41 20z\"/>\n",
              "  </svg>\n",
              "      </button>\n",
              "      \n",
              "  <style>\n",
              "    .colab-df-container {\n",
              "      display:flex;\n",
              "      flex-wrap:wrap;\n",
              "      gap: 12px;\n",
              "    }\n",
              "\n",
              "    .colab-df-convert {\n",
              "      background-color: #E8F0FE;\n",
              "      border: none;\n",
              "      border-radius: 50%;\n",
              "      cursor: pointer;\n",
              "      display: none;\n",
              "      fill: #1967D2;\n",
              "      height: 32px;\n",
              "      padding: 0 0 0 0;\n",
              "      width: 32px;\n",
              "    }\n",
              "\n",
              "    .colab-df-convert:hover {\n",
              "      background-color: #E2EBFA;\n",
              "      box-shadow: 0px 1px 2px rgba(60, 64, 67, 0.3), 0px 1px 3px 1px rgba(60, 64, 67, 0.15);\n",
              "      fill: #174EA6;\n",
              "    }\n",
              "\n",
              "    [theme=dark] .colab-df-convert {\n",
              "      background-color: #3B4455;\n",
              "      fill: #D2E3FC;\n",
              "    }\n",
              "\n",
              "    [theme=dark] .colab-df-convert:hover {\n",
              "      background-color: #434B5C;\n",
              "      box-shadow: 0px 1px 3px 1px rgba(0, 0, 0, 0.15);\n",
              "      filter: drop-shadow(0px 1px 2px rgba(0, 0, 0, 0.3));\n",
              "      fill: #FFFFFF;\n",
              "    }\n",
              "  </style>\n",
              "\n",
              "      <script>\n",
              "        const buttonEl =\n",
              "          document.querySelector('#df-7680ab11-76e7-49af-894c-776a73351fec button.colab-df-convert');\n",
              "        buttonEl.style.display =\n",
              "          google.colab.kernel.accessAllowed ? 'block' : 'none';\n",
              "\n",
              "        async function convertToInteractive(key) {\n",
              "          const element = document.querySelector('#df-7680ab11-76e7-49af-894c-776a73351fec');\n",
              "          const dataTable =\n",
              "            await google.colab.kernel.invokeFunction('convertToInteractive',\n",
              "                                                     [key], {});\n",
              "          if (!dataTable) return;\n",
              "\n",
              "          const docLinkHtml = 'Like what you see? Visit the ' +\n",
              "            '<a target=\"_blank\" href=https://colab.research.google.com/notebooks/data_table.ipynb>data table notebook</a>'\n",
              "            + ' to learn more about interactive tables.';\n",
              "          element.innerHTML = '';\n",
              "          dataTable['output_type'] = 'display_data';\n",
              "          await google.colab.output.renderOutput(dataTable, element);\n",
              "          const docLink = document.createElement('div');\n",
              "          docLink.innerHTML = docLinkHtml;\n",
              "          element.appendChild(docLink);\n",
              "        }\n",
              "      </script>\n",
              "    </div>\n",
              "  </div>\n",
              "  "
            ]
          },
          "metadata": {},
          "execution_count": 13
        }
      ]
    },
    {
      "cell_type": "code",
      "source": [
        "#resize image\n",
        "im_size = 224"
      ],
      "metadata": {
        "id": "8h8Rr1hgni_L"
      },
      "execution_count": 14,
      "outputs": []
    },
    {
      "cell_type": "code",
      "source": [
        "md['image'] = md['image_paths'].map(lambda x: np.asarray(Image.open(x).resize((im_size,im_size))))\n",
        "md"
      ],
      "metadata": {
        "colab": {
          "base_uri": "https://localhost:8080/",
          "height": 423
        },
        "id": "6hpwkLusnm31",
        "outputId": "84ec9bf4-138b-4e3d-d5b5-a190593d9473"
      },
      "execution_count": 15,
      "outputs": [
        {
          "output_type": "execute_result",
          "data": {
            "text/plain": [
              "         lesion_id      image_id     dx dx_type   age     sex localization  \\\n",
              "0      HAM_0000118  ISIC_0027419    bkl   histo  80.0    male        scalp   \n",
              "1      HAM_0000118  ISIC_0025030    bkl   histo  80.0    male        scalp   \n",
              "2      HAM_0002730  ISIC_0026769    bkl   histo  80.0    male        scalp   \n",
              "3      HAM_0002730  ISIC_0025661    bkl   histo  80.0    male        scalp   \n",
              "4      HAM_0001466  ISIC_0031633    bkl   histo  75.0    male          ear   \n",
              "...            ...           ...    ...     ...   ...     ...          ...   \n",
              "10010  HAM_0002867  ISIC_0033084  akiec   histo  40.0    male      abdomen   \n",
              "10011  HAM_0002867  ISIC_0033550  akiec   histo  40.0    male      abdomen   \n",
              "10012  HAM_0002867  ISIC_0033536  akiec   histo  40.0    male      abdomen   \n",
              "10013  HAM_0000239  ISIC_0032854  akiec   histo  80.0    male         face   \n",
              "10014  HAM_0003521  ISIC_0032258    mel   histo  70.0  female         back   \n",
              "\n",
              "            dataset  label                                       image_paths  \\\n",
              "0      vidir_modern      2  /content/HAM10000_images_part_1/ISIC_0027419.jpg   \n",
              "1      vidir_modern      2  /content/HAM10000_images_part_1/ISIC_0025030.jpg   \n",
              "2      vidir_modern      2  /content/HAM10000_images_part_1/ISIC_0026769.jpg   \n",
              "3      vidir_modern      2  /content/HAM10000_images_part_1/ISIC_0025661.jpg   \n",
              "4      vidir_modern      2  /content/HAM10000_images_part_2/ISIC_0031633.jpg   \n",
              "...             ...    ...                                               ...   \n",
              "10010  vidir_modern      0  /content/HAM10000_images_part_2/ISIC_0033084.jpg   \n",
              "10011  vidir_modern      0  /content/HAM10000_images_part_2/ISIC_0033550.jpg   \n",
              "10012  vidir_modern      0  /content/HAM10000_images_part_2/ISIC_0033536.jpg   \n",
              "10013  vidir_modern      0  /content/HAM10000_images_part_2/ISIC_0032854.jpg   \n",
              "10014  vidir_modern      4  /content/HAM10000_images_part_2/ISIC_0032258.jpg   \n",
              "\n",
              "                                                   image  \n",
              "0      [[[187, 150, 192], [190, 154, 195], [192, 156,...  \n",
              "1      [[[24, 13, 22], [25, 13, 23], [24, 14, 23], [2...  \n",
              "2      [[[186, 127, 135], [188, 129, 137], [191, 135,...  \n",
              "3      [[[23, 11, 15], [24, 11, 18], [24, 10, 19], [2...  \n",
              "4      [[[125, 83, 105], [132, 89, 112], [138, 93, 11...  \n",
              "...                                                  ...  \n",
              "10010  [[[115, 92, 101], [108, 92, 96], [108, 91, 98]...  \n",
              "10011  [[[4, 6, 3], [5, 6, 3], [6, 6, 5], [7, 8, 4], ...  \n",
              "10012  [[[105, 92, 96], [109, 102, 103], [118, 109, 1...  \n",
              "10013  [[[156, 115, 138], [158, 117, 138], [160, 121,...  \n",
              "10014  [[[177, 145, 124], [181, 152, 141], [178, 147,...  \n",
              "\n",
              "[10015 rows x 11 columns]"
            ],
            "text/html": [
              "\n",
              "  <div id=\"df-16955c50-31a9-4694-b215-af5bdcd87b8e\">\n",
              "    <div class=\"colab-df-container\">\n",
              "      <div>\n",
              "<style scoped>\n",
              "    .dataframe tbody tr th:only-of-type {\n",
              "        vertical-align: middle;\n",
              "    }\n",
              "\n",
              "    .dataframe tbody tr th {\n",
              "        vertical-align: top;\n",
              "    }\n",
              "\n",
              "    .dataframe thead th {\n",
              "        text-align: right;\n",
              "    }\n",
              "</style>\n",
              "<table border=\"1\" class=\"dataframe\">\n",
              "  <thead>\n",
              "    <tr style=\"text-align: right;\">\n",
              "      <th></th>\n",
              "      <th>lesion_id</th>\n",
              "      <th>image_id</th>\n",
              "      <th>dx</th>\n",
              "      <th>dx_type</th>\n",
              "      <th>age</th>\n",
              "      <th>sex</th>\n",
              "      <th>localization</th>\n",
              "      <th>dataset</th>\n",
              "      <th>label</th>\n",
              "      <th>image_paths</th>\n",
              "      <th>image</th>\n",
              "    </tr>\n",
              "  </thead>\n",
              "  <tbody>\n",
              "    <tr>\n",
              "      <th>0</th>\n",
              "      <td>HAM_0000118</td>\n",
              "      <td>ISIC_0027419</td>\n",
              "      <td>bkl</td>\n",
              "      <td>histo</td>\n",
              "      <td>80.0</td>\n",
              "      <td>male</td>\n",
              "      <td>scalp</td>\n",
              "      <td>vidir_modern</td>\n",
              "      <td>2</td>\n",
              "      <td>/content/HAM10000_images_part_1/ISIC_0027419.jpg</td>\n",
              "      <td>[[[187, 150, 192], [190, 154, 195], [192, 156,...</td>\n",
              "    </tr>\n",
              "    <tr>\n",
              "      <th>1</th>\n",
              "      <td>HAM_0000118</td>\n",
              "      <td>ISIC_0025030</td>\n",
              "      <td>bkl</td>\n",
              "      <td>histo</td>\n",
              "      <td>80.0</td>\n",
              "      <td>male</td>\n",
              "      <td>scalp</td>\n",
              "      <td>vidir_modern</td>\n",
              "      <td>2</td>\n",
              "      <td>/content/HAM10000_images_part_1/ISIC_0025030.jpg</td>\n",
              "      <td>[[[24, 13, 22], [25, 13, 23], [24, 14, 23], [2...</td>\n",
              "    </tr>\n",
              "    <tr>\n",
              "      <th>2</th>\n",
              "      <td>HAM_0002730</td>\n",
              "      <td>ISIC_0026769</td>\n",
              "      <td>bkl</td>\n",
              "      <td>histo</td>\n",
              "      <td>80.0</td>\n",
              "      <td>male</td>\n",
              "      <td>scalp</td>\n",
              "      <td>vidir_modern</td>\n",
              "      <td>2</td>\n",
              "      <td>/content/HAM10000_images_part_1/ISIC_0026769.jpg</td>\n",
              "      <td>[[[186, 127, 135], [188, 129, 137], [191, 135,...</td>\n",
              "    </tr>\n",
              "    <tr>\n",
              "      <th>3</th>\n",
              "      <td>HAM_0002730</td>\n",
              "      <td>ISIC_0025661</td>\n",
              "      <td>bkl</td>\n",
              "      <td>histo</td>\n",
              "      <td>80.0</td>\n",
              "      <td>male</td>\n",
              "      <td>scalp</td>\n",
              "      <td>vidir_modern</td>\n",
              "      <td>2</td>\n",
              "      <td>/content/HAM10000_images_part_1/ISIC_0025661.jpg</td>\n",
              "      <td>[[[23, 11, 15], [24, 11, 18], [24, 10, 19], [2...</td>\n",
              "    </tr>\n",
              "    <tr>\n",
              "      <th>4</th>\n",
              "      <td>HAM_0001466</td>\n",
              "      <td>ISIC_0031633</td>\n",
              "      <td>bkl</td>\n",
              "      <td>histo</td>\n",
              "      <td>75.0</td>\n",
              "      <td>male</td>\n",
              "      <td>ear</td>\n",
              "      <td>vidir_modern</td>\n",
              "      <td>2</td>\n",
              "      <td>/content/HAM10000_images_part_2/ISIC_0031633.jpg</td>\n",
              "      <td>[[[125, 83, 105], [132, 89, 112], [138, 93, 11...</td>\n",
              "    </tr>\n",
              "    <tr>\n",
              "      <th>...</th>\n",
              "      <td>...</td>\n",
              "      <td>...</td>\n",
              "      <td>...</td>\n",
              "      <td>...</td>\n",
              "      <td>...</td>\n",
              "      <td>...</td>\n",
              "      <td>...</td>\n",
              "      <td>...</td>\n",
              "      <td>...</td>\n",
              "      <td>...</td>\n",
              "      <td>...</td>\n",
              "    </tr>\n",
              "    <tr>\n",
              "      <th>10010</th>\n",
              "      <td>HAM_0002867</td>\n",
              "      <td>ISIC_0033084</td>\n",
              "      <td>akiec</td>\n",
              "      <td>histo</td>\n",
              "      <td>40.0</td>\n",
              "      <td>male</td>\n",
              "      <td>abdomen</td>\n",
              "      <td>vidir_modern</td>\n",
              "      <td>0</td>\n",
              "      <td>/content/HAM10000_images_part_2/ISIC_0033084.jpg</td>\n",
              "      <td>[[[115, 92, 101], [108, 92, 96], [108, 91, 98]...</td>\n",
              "    </tr>\n",
              "    <tr>\n",
              "      <th>10011</th>\n",
              "      <td>HAM_0002867</td>\n",
              "      <td>ISIC_0033550</td>\n",
              "      <td>akiec</td>\n",
              "      <td>histo</td>\n",
              "      <td>40.0</td>\n",
              "      <td>male</td>\n",
              "      <td>abdomen</td>\n",
              "      <td>vidir_modern</td>\n",
              "      <td>0</td>\n",
              "      <td>/content/HAM10000_images_part_2/ISIC_0033550.jpg</td>\n",
              "      <td>[[[4, 6, 3], [5, 6, 3], [6, 6, 5], [7, 8, 4], ...</td>\n",
              "    </tr>\n",
              "    <tr>\n",
              "      <th>10012</th>\n",
              "      <td>HAM_0002867</td>\n",
              "      <td>ISIC_0033536</td>\n",
              "      <td>akiec</td>\n",
              "      <td>histo</td>\n",
              "      <td>40.0</td>\n",
              "      <td>male</td>\n",
              "      <td>abdomen</td>\n",
              "      <td>vidir_modern</td>\n",
              "      <td>0</td>\n",
              "      <td>/content/HAM10000_images_part_2/ISIC_0033536.jpg</td>\n",
              "      <td>[[[105, 92, 96], [109, 102, 103], [118, 109, 1...</td>\n",
              "    </tr>\n",
              "    <tr>\n",
              "      <th>10013</th>\n",
              "      <td>HAM_0000239</td>\n",
              "      <td>ISIC_0032854</td>\n",
              "      <td>akiec</td>\n",
              "      <td>histo</td>\n",
              "      <td>80.0</td>\n",
              "      <td>male</td>\n",
              "      <td>face</td>\n",
              "      <td>vidir_modern</td>\n",
              "      <td>0</td>\n",
              "      <td>/content/HAM10000_images_part_2/ISIC_0032854.jpg</td>\n",
              "      <td>[[[156, 115, 138], [158, 117, 138], [160, 121,...</td>\n",
              "    </tr>\n",
              "    <tr>\n",
              "      <th>10014</th>\n",
              "      <td>HAM_0003521</td>\n",
              "      <td>ISIC_0032258</td>\n",
              "      <td>mel</td>\n",
              "      <td>histo</td>\n",
              "      <td>70.0</td>\n",
              "      <td>female</td>\n",
              "      <td>back</td>\n",
              "      <td>vidir_modern</td>\n",
              "      <td>4</td>\n",
              "      <td>/content/HAM10000_images_part_2/ISIC_0032258.jpg</td>\n",
              "      <td>[[[177, 145, 124], [181, 152, 141], [178, 147,...</td>\n",
              "    </tr>\n",
              "  </tbody>\n",
              "</table>\n",
              "<p>10015 rows × 11 columns</p>\n",
              "</div>\n",
              "      <button class=\"colab-df-convert\" onclick=\"convertToInteractive('df-16955c50-31a9-4694-b215-af5bdcd87b8e')\"\n",
              "              title=\"Convert this dataframe to an interactive table.\"\n",
              "              style=\"display:none;\">\n",
              "        \n",
              "  <svg xmlns=\"http://www.w3.org/2000/svg\" height=\"24px\"viewBox=\"0 0 24 24\"\n",
              "       width=\"24px\">\n",
              "    <path d=\"M0 0h24v24H0V0z\" fill=\"none\"/>\n",
              "    <path d=\"M18.56 5.44l.94 2.06.94-2.06 2.06-.94-2.06-.94-.94-2.06-.94 2.06-2.06.94zm-11 1L8.5 8.5l.94-2.06 2.06-.94-2.06-.94L8.5 2.5l-.94 2.06-2.06.94zm10 10l.94 2.06.94-2.06 2.06-.94-2.06-.94-.94-2.06-.94 2.06-2.06.94z\"/><path d=\"M17.41 7.96l-1.37-1.37c-.4-.4-.92-.59-1.43-.59-.52 0-1.04.2-1.43.59L10.3 9.45l-7.72 7.72c-.78.78-.78 2.05 0 2.83L4 21.41c.39.39.9.59 1.41.59.51 0 1.02-.2 1.41-.59l7.78-7.78 2.81-2.81c.8-.78.8-2.07 0-2.86zM5.41 20L4 18.59l7.72-7.72 1.47 1.35L5.41 20z\"/>\n",
              "  </svg>\n",
              "      </button>\n",
              "      \n",
              "  <style>\n",
              "    .colab-df-container {\n",
              "      display:flex;\n",
              "      flex-wrap:wrap;\n",
              "      gap: 12px;\n",
              "    }\n",
              "\n",
              "    .colab-df-convert {\n",
              "      background-color: #E8F0FE;\n",
              "      border: none;\n",
              "      border-radius: 50%;\n",
              "      cursor: pointer;\n",
              "      display: none;\n",
              "      fill: #1967D2;\n",
              "      height: 32px;\n",
              "      padding: 0 0 0 0;\n",
              "      width: 32px;\n",
              "    }\n",
              "\n",
              "    .colab-df-convert:hover {\n",
              "      background-color: #E2EBFA;\n",
              "      box-shadow: 0px 1px 2px rgba(60, 64, 67, 0.3), 0px 1px 3px 1px rgba(60, 64, 67, 0.15);\n",
              "      fill: #174EA6;\n",
              "    }\n",
              "\n",
              "    [theme=dark] .colab-df-convert {\n",
              "      background-color: #3B4455;\n",
              "      fill: #D2E3FC;\n",
              "    }\n",
              "\n",
              "    [theme=dark] .colab-df-convert:hover {\n",
              "      background-color: #434B5C;\n",
              "      box-shadow: 0px 1px 3px 1px rgba(0, 0, 0, 0.15);\n",
              "      filter: drop-shadow(0px 1px 2px rgba(0, 0, 0, 0.3));\n",
              "      fill: #FFFFFF;\n",
              "    }\n",
              "  </style>\n",
              "\n",
              "      <script>\n",
              "        const buttonEl =\n",
              "          document.querySelector('#df-16955c50-31a9-4694-b215-af5bdcd87b8e button.colab-df-convert');\n",
              "        buttonEl.style.display =\n",
              "          google.colab.kernel.accessAllowed ? 'block' : 'none';\n",
              "\n",
              "        async function convertToInteractive(key) {\n",
              "          const element = document.querySelector('#df-16955c50-31a9-4694-b215-af5bdcd87b8e');\n",
              "          const dataTable =\n",
              "            await google.colab.kernel.invokeFunction('convertToInteractive',\n",
              "                                                     [key], {});\n",
              "          if (!dataTable) return;\n",
              "\n",
              "          const docLinkHtml = 'Like what you see? Visit the ' +\n",
              "            '<a target=\"_blank\" href=https://colab.research.google.com/notebooks/data_table.ipynb>data table notebook</a>'\n",
              "            + ' to learn more about interactive tables.';\n",
              "          element.innerHTML = '';\n",
              "          dataTable['output_type'] = 'display_data';\n",
              "          await google.colab.output.renderOutput(dataTable, element);\n",
              "          const docLink = document.createElement('div');\n",
              "          docLink.innerHTML = docLinkHtml;\n",
              "          element.appendChild(docLink);\n",
              "        }\n",
              "      </script>\n",
              "    </div>\n",
              "  </div>\n",
              "  "
            ]
          },
          "metadata": {},
          "execution_count": 15
        }
      ]
    },
    {
      "cell_type": "code",
      "source": [
        "#create training and testing set\n",
        "#standardize arrays by pixel values\n",
        "#create labels arrays for output"
      ],
      "metadata": {
        "id": "3Hch9gff6jUI"
      },
      "execution_count": 16,
      "outputs": []
    },
    {
      "cell_type": "code",
      "source": [
        "train, test = train_test_split(md, test_size=0.25, random_state=29, shuffle=True)"
      ],
      "metadata": {
        "id": "WIH4pLeJnsYs"
      },
      "execution_count": 17,
      "outputs": []
    },
    {
      "cell_type": "code",
      "source": [
        "trainX = np.array(train[\"image\"].tolist())\n",
        "trainX = trainX/225\n",
        "\n",
        "trainY = train['label']\n",
        "trainY_dx = to_categorical(trainY, num_classes=7)"
      ],
      "metadata": {
        "id": "cgKhJ4_9ntGQ"
      },
      "execution_count": 18,
      "outputs": []
    },
    {
      "cell_type": "code",
      "source": [
        "testX = np.array(test[\"image\"].tolist())\n",
        "testX = testX/225\n",
        "\n",
        "testY = test['label']\n",
        "testY_dx = to_categorical(testY, num_classes=7)"
      ],
      "metadata": {
        "id": "2OL0EGaToAMC"
      },
      "execution_count": 19,
      "outputs": []
    },
    {
      "cell_type": "code",
      "source": [
        "#model creation: 3 convolutional layers with pooling layers and dropout layers, then two dense layers ending in softmax activation"
      ],
      "metadata": {
        "id": "GcShaUuM6vmc"
      },
      "execution_count": 20,
      "outputs": []
    },
    {
      "cell_type": "code",
      "source": [
        "num_classes = 7\n",
        "\n",
        "model = Sequential()\n",
        "model.add(Conv2D(256, (3, 3), activation=\"relu\", input_shape=(im_size, im_size, 3)))\n",
        "#model.add(BatchNormalization())\n",
        "model.add(MaxPool2D(pool_size=(2, 2)))  \n",
        "model.add(Dropout(0.3))\n",
        "\n",
        "model.add(Conv2D(128, (3, 3),activation='relu'))\n",
        "#model.add(BatchNormalization())\n",
        "model.add(MaxPool2D(pool_size=(2, 2)))  \n",
        "model.add(Dropout(0.3))\n",
        "\n",
        "model.add(Conv2D(64, (3, 3),activation='relu'))\n",
        "#model.add(BatchNormalization())\n",
        "model.add(MaxPool2D(pool_size=(2, 2)))  \n",
        "model.add(Dropout(0.3))\n",
        "model.add(Flatten())\n",
        "\n",
        "model.add(Dense(32))\n",
        "model.add(Dense(7, activation='softmax'))\n",
        "model.summary()\n",
        "\n",
        "model.compile(loss='categorical_crossentropy', optimizer='Adam', metrics=['acc'])"
      ],
      "metadata": {
        "colab": {
          "base_uri": "https://localhost:8080/"
        },
        "id": "43HVO_z8oHp0",
        "outputId": "440ac00b-6165-4b6e-ce8f-1eda15d4d09f"
      },
      "execution_count": 21,
      "outputs": [
        {
          "output_type": "stream",
          "name": "stdout",
          "text": [
            "Model: \"sequential\"\n",
            "_________________________________________________________________\n",
            " Layer (type)                Output Shape              Param #   \n",
            "=================================================================\n",
            " conv2d (Conv2D)             (None, 222, 222, 256)     7168      \n",
            "                                                                 \n",
            " max_pooling2d (MaxPooling2D  (None, 111, 111, 256)    0         \n",
            " )                                                               \n",
            "                                                                 \n",
            " dropout (Dropout)           (None, 111, 111, 256)     0         \n",
            "                                                                 \n",
            " conv2d_1 (Conv2D)           (None, 109, 109, 128)     295040    \n",
            "                                                                 \n",
            " max_pooling2d_1 (MaxPooling  (None, 54, 54, 128)      0         \n",
            " 2D)                                                             \n",
            "                                                                 \n",
            " dropout_1 (Dropout)         (None, 54, 54, 128)       0         \n",
            "                                                                 \n",
            " conv2d_2 (Conv2D)           (None, 52, 52, 64)        73792     \n",
            "                                                                 \n",
            " max_pooling2d_2 (MaxPooling  (None, 26, 26, 64)       0         \n",
            " 2D)                                                             \n",
            "                                                                 \n",
            " dropout_2 (Dropout)         (None, 26, 26, 64)        0         \n",
            "                                                                 \n",
            " flatten (Flatten)           (None, 43264)             0         \n",
            "                                                                 \n",
            " dense (Dense)               (None, 32)                1384480   \n",
            "                                                                 \n",
            " dense_1 (Dense)             (None, 7)                 231       \n",
            "                                                                 \n",
            "=================================================================\n",
            "Total params: 1,760,711\n",
            "Trainable params: 1,760,711\n",
            "Non-trainable params: 0\n",
            "_________________________________________________________________\n"
          ]
        }
      ]
    },
    {
      "cell_type": "code",
      "source": [
        "#hyperparameters and model fitting\n",
        "batch_size = 16 \n",
        "epochs = 75"
      ],
      "metadata": {
        "id": "Y3nsStHLoLs4"
      },
      "execution_count": 22,
      "outputs": []
    },
    {
      "cell_type": "code",
      "source": [
        "mod_fit = model.fit(\n",
        "    trainX, trainY_dx,\n",
        "    epochs=epochs,\n",
        "    batch_size = batch_size,\n",
        "    verbose=2)"
      ],
      "metadata": {
        "colab": {
          "base_uri": "https://localhost:8080/"
        },
        "id": "smAjGlQ_oOj3",
        "outputId": "8a58f822-f0b9-4057-e5aa-748755005dd7"
      },
      "execution_count": 23,
      "outputs": [
        {
          "output_type": "stream",
          "name": "stdout",
          "text": [
            "Epoch 1/75\n",
            "470/470 - 23s - loss: 1.0635 - acc: 0.6689 - 23s/epoch - 48ms/step\n",
            "Epoch 2/75\n",
            "470/470 - 11s - loss: 0.9597 - acc: 0.6729 - 11s/epoch - 24ms/step\n",
            "Epoch 3/75\n",
            "470/470 - 11s - loss: 0.9053 - acc: 0.6867 - 11s/epoch - 24ms/step\n",
            "Epoch 4/75\n",
            "470/470 - 11s - loss: 0.8528 - acc: 0.7002 - 11s/epoch - 24ms/step\n",
            "Epoch 5/75\n",
            "470/470 - 11s - loss: 0.8023 - acc: 0.7188 - 11s/epoch - 24ms/step\n",
            "Epoch 6/75\n",
            "470/470 - 11s - loss: 0.7612 - acc: 0.7305 - 11s/epoch - 24ms/step\n",
            "Epoch 7/75\n",
            "470/470 - 11s - loss: 0.7171 - acc: 0.7472 - 11s/epoch - 24ms/step\n",
            "Epoch 8/75\n",
            "470/470 - 11s - loss: 0.6763 - acc: 0.7572 - 11s/epoch - 24ms/step\n",
            "Epoch 9/75\n",
            "470/470 - 11s - loss: 0.6478 - acc: 0.7702 - 11s/epoch - 24ms/step\n",
            "Epoch 10/75\n",
            "470/470 - 11s - loss: 0.5927 - acc: 0.7876 - 11s/epoch - 24ms/step\n",
            "Epoch 11/75\n",
            "470/470 - 11s - loss: 0.5790 - acc: 0.7918 - 11s/epoch - 24ms/step\n",
            "Epoch 12/75\n",
            "470/470 - 11s - loss: 0.5444 - acc: 0.8055 - 11s/epoch - 24ms/step\n",
            "Epoch 13/75\n",
            "470/470 - 11s - loss: 0.5224 - acc: 0.8111 - 11s/epoch - 24ms/step\n",
            "Epoch 14/75\n",
            "470/470 - 11s - loss: 0.4971 - acc: 0.8187 - 11s/epoch - 24ms/step\n",
            "Epoch 15/75\n",
            "470/470 - 11s - loss: 0.4742 - acc: 0.8291 - 11s/epoch - 24ms/step\n",
            "Epoch 16/75\n",
            "470/470 - 11s - loss: 0.4591 - acc: 0.8321 - 11s/epoch - 24ms/step\n",
            "Epoch 17/75\n",
            "470/470 - 11s - loss: 0.4249 - acc: 0.8430 - 11s/epoch - 24ms/step\n",
            "Epoch 18/75\n",
            "470/470 - 11s - loss: 0.4107 - acc: 0.8489 - 11s/epoch - 24ms/step\n",
            "Epoch 19/75\n",
            "470/470 - 11s - loss: 0.4043 - acc: 0.8553 - 11s/epoch - 24ms/step\n",
            "Epoch 20/75\n",
            "470/470 - 11s - loss: 0.4006 - acc: 0.8549 - 11s/epoch - 24ms/step\n",
            "Epoch 21/75\n",
            "470/470 - 11s - loss: 0.3690 - acc: 0.8674 - 11s/epoch - 24ms/step\n",
            "Epoch 22/75\n",
            "470/470 - 12s - loss: 0.3644 - acc: 0.8658 - 12s/epoch - 24ms/step\n",
            "Epoch 23/75\n",
            "470/470 - 11s - loss: 0.3510 - acc: 0.8731 - 11s/epoch - 24ms/step\n",
            "Epoch 24/75\n",
            "470/470 - 11s - loss: 0.3313 - acc: 0.8780 - 11s/epoch - 24ms/step\n",
            "Epoch 25/75\n",
            "470/470 - 11s - loss: 0.3503 - acc: 0.8734 - 11s/epoch - 24ms/step\n",
            "Epoch 26/75\n",
            "470/470 - 11s - loss: 0.3331 - acc: 0.8792 - 11s/epoch - 24ms/step\n",
            "Epoch 27/75\n",
            "470/470 - 11s - loss: 0.3123 - acc: 0.8830 - 11s/epoch - 24ms/step\n",
            "Epoch 28/75\n",
            "470/470 - 11s - loss: 0.3187 - acc: 0.8823 - 11s/epoch - 24ms/step\n",
            "Epoch 29/75\n",
            "470/470 - 11s - loss: 0.3069 - acc: 0.8847 - 11s/epoch - 24ms/step\n",
            "Epoch 30/75\n",
            "470/470 - 11s - loss: 0.2896 - acc: 0.8939 - 11s/epoch - 24ms/step\n",
            "Epoch 31/75\n",
            "470/470 - 11s - loss: 0.3036 - acc: 0.8890 - 11s/epoch - 24ms/step\n",
            "Epoch 32/75\n",
            "470/470 - 11s - loss: 0.2951 - acc: 0.8976 - 11s/epoch - 24ms/step\n",
            "Epoch 33/75\n",
            "470/470 - 11s - loss: 0.2811 - acc: 0.8992 - 11s/epoch - 24ms/step\n",
            "Epoch 34/75\n",
            "470/470 - 11s - loss: 0.2704 - acc: 0.9025 - 11s/epoch - 24ms/step\n",
            "Epoch 35/75\n",
            "470/470 - 11s - loss: 0.2877 - acc: 0.8975 - 11s/epoch - 24ms/step\n",
            "Epoch 36/75\n",
            "470/470 - 11s - loss: 0.2783 - acc: 0.9028 - 11s/epoch - 24ms/step\n",
            "Epoch 37/75\n",
            "470/470 - 11s - loss: 0.2683 - acc: 0.9009 - 11s/epoch - 24ms/step\n",
            "Epoch 38/75\n",
            "470/470 - 11s - loss: 0.2390 - acc: 0.9108 - 11s/epoch - 24ms/step\n",
            "Epoch 39/75\n",
            "470/470 - 11s - loss: 0.2566 - acc: 0.9104 - 11s/epoch - 24ms/step\n",
            "Epoch 40/75\n",
            "470/470 - 11s - loss: 0.2480 - acc: 0.9115 - 11s/epoch - 24ms/step\n",
            "Epoch 41/75\n",
            "470/470 - 11s - loss: 0.2356 - acc: 0.9131 - 11s/epoch - 24ms/step\n",
            "Epoch 42/75\n",
            "470/470 - 11s - loss: 0.2481 - acc: 0.9105 - 11s/epoch - 24ms/step\n",
            "Epoch 43/75\n",
            "470/470 - 11s - loss: 0.2269 - acc: 0.9218 - 11s/epoch - 24ms/step\n",
            "Epoch 44/75\n",
            "470/470 - 11s - loss: 0.2270 - acc: 0.9197 - 11s/epoch - 24ms/step\n",
            "Epoch 45/75\n",
            "470/470 - 11s - loss: 0.2333 - acc: 0.9185 - 11s/epoch - 24ms/step\n",
            "Epoch 46/75\n",
            "470/470 - 11s - loss: 0.2188 - acc: 0.9244 - 11s/epoch - 24ms/step\n",
            "Epoch 47/75\n",
            "470/470 - 11s - loss: 0.2150 - acc: 0.9278 - 11s/epoch - 24ms/step\n",
            "Epoch 48/75\n",
            "470/470 - 11s - loss: 0.2230 - acc: 0.9236 - 11s/epoch - 24ms/step\n",
            "Epoch 49/75\n",
            "470/470 - 11s - loss: 0.2052 - acc: 0.9272 - 11s/epoch - 24ms/step\n",
            "Epoch 50/75\n",
            "470/470 - 11s - loss: 0.2145 - acc: 0.9238 - 11s/epoch - 24ms/step\n",
            "Epoch 51/75\n",
            "470/470 - 11s - loss: 0.1950 - acc: 0.9317 - 11s/epoch - 24ms/step\n",
            "Epoch 52/75\n",
            "470/470 - 11s - loss: 0.2071 - acc: 0.9290 - 11s/epoch - 24ms/step\n",
            "Epoch 53/75\n",
            "470/470 - 11s - loss: 0.1947 - acc: 0.9302 - 11s/epoch - 24ms/step\n",
            "Epoch 54/75\n",
            "470/470 - 11s - loss: 0.1969 - acc: 0.9281 - 11s/epoch - 24ms/step\n",
            "Epoch 55/75\n",
            "470/470 - 11s - loss: 0.1724 - acc: 0.9373 - 11s/epoch - 24ms/step\n",
            "Epoch 56/75\n",
            "470/470 - 12s - loss: 0.1853 - acc: 0.9348 - 12s/epoch - 25ms/step\n",
            "Epoch 57/75\n",
            "470/470 - 11s - loss: 0.1940 - acc: 0.9301 - 11s/epoch - 24ms/step\n",
            "Epoch 58/75\n",
            "470/470 - 11s - loss: 0.1882 - acc: 0.9336 - 11s/epoch - 24ms/step\n",
            "Epoch 59/75\n",
            "470/470 - 11s - loss: 0.1712 - acc: 0.9357 - 11s/epoch - 24ms/step\n",
            "Epoch 60/75\n",
            "470/470 - 11s - loss: 0.1701 - acc: 0.9430 - 11s/epoch - 24ms/step\n",
            "Epoch 61/75\n",
            "470/470 - 11s - loss: 0.1869 - acc: 0.9354 - 11s/epoch - 24ms/step\n",
            "Epoch 62/75\n",
            "470/470 - 11s - loss: 0.1893 - acc: 0.9349 - 11s/epoch - 24ms/step\n",
            "Epoch 63/75\n",
            "470/470 - 11s - loss: 0.1633 - acc: 0.9422 - 11s/epoch - 24ms/step\n",
            "Epoch 64/75\n",
            "470/470 - 11s - loss: 0.1494 - acc: 0.9467 - 11s/epoch - 24ms/step\n",
            "Epoch 65/75\n",
            "470/470 - 11s - loss: 0.1727 - acc: 0.9398 - 11s/epoch - 24ms/step\n",
            "Epoch 66/75\n",
            "470/470 - 11s - loss: 0.1635 - acc: 0.9412 - 11s/epoch - 24ms/step\n",
            "Epoch 67/75\n",
            "470/470 - 11s - loss: 0.1524 - acc: 0.9469 - 11s/epoch - 24ms/step\n",
            "Epoch 68/75\n",
            "470/470 - 11s - loss: 0.1537 - acc: 0.9449 - 11s/epoch - 24ms/step\n",
            "Epoch 69/75\n",
            "470/470 - 12s - loss: 0.1598 - acc: 0.9437 - 12s/epoch - 24ms/step\n",
            "Epoch 70/75\n",
            "470/470 - 11s - loss: 0.1544 - acc: 0.9459 - 11s/epoch - 24ms/step\n",
            "Epoch 71/75\n",
            "470/470 - 12s - loss: 0.1677 - acc: 0.9463 - 12s/epoch - 25ms/step\n",
            "Epoch 72/75\n",
            "470/470 - 11s - loss: 0.1566 - acc: 0.9461 - 11s/epoch - 24ms/step\n",
            "Epoch 73/75\n",
            "470/470 - 11s - loss: 0.1418 - acc: 0.9481 - 11s/epoch - 24ms/step\n",
            "Epoch 74/75\n",
            "470/470 - 11s - loss: 0.1546 - acc: 0.9459 - 11s/epoch - 24ms/step\n",
            "Epoch 75/75\n",
            "470/470 - 11s - loss: 0.1466 - acc: 0.9521 - 11s/epoch - 24ms/step\n"
          ]
        }
      ]
    },
    {
      "cell_type": "code",
      "source": [
        "#model accuracies, classwise accuracies, predictions"
      ],
      "metadata": {
        "id": "Fb6vyBN366Bg"
      },
      "execution_count": 24,
      "outputs": []
    },
    {
      "cell_type": "code",
      "source": [
        "mod_acc = model.evaluate(testX, testY_dx)\n",
        "print('Test Accuracy: ', mod_acc[1])"
      ],
      "metadata": {
        "colab": {
          "base_uri": "https://localhost:8080/"
        },
        "id": "AT4U9at5oTQ5",
        "outputId": "5328427b-8dbd-495e-8439-81410e9ee67a"
      },
      "execution_count": 25,
      "outputs": [
        {
          "output_type": "stream",
          "name": "stdout",
          "text": [
            "79/79 [==============================] - 2s 21ms/step - loss: 2.1285 - acc: 0.6701\n",
            "Test Accuracy:  0.670127809047699\n"
          ]
        }
      ]
    },
    {
      "cell_type": "code",
      "source": [
        "y_preds = model.predict(testX)"
      ],
      "metadata": {
        "colab": {
          "base_uri": "https://localhost:8080/"
        },
        "id": "oYcdBmjqoYdi",
        "outputId": "4a484268-ff3e-4ede-f7ec-c781a6b362a7"
      },
      "execution_count": 26,
      "outputs": [
        {
          "output_type": "stream",
          "name": "stdout",
          "text": [
            "79/79 [==============================] - 2s 18ms/step\n"
          ]
        }
      ]
    },
    {
      "cell_type": "code",
      "source": [
        "y_pred_classes = np.argmax(y_preds, axis=1)"
      ],
      "metadata": {
        "id": "fXTWDCxSoa_l"
      },
      "execution_count": 27,
      "outputs": []
    },
    {
      "cell_type": "code",
      "source": [
        "y_true = np.argmax(testY_dx, axis=1)"
      ],
      "metadata": {
        "id": "KhtVUD6MofJk"
      },
      "execution_count": 28,
      "outputs": []
    },
    {
      "cell_type": "code",
      "source": [
        "import sklearn.metrics as metrics\n",
        "from sklearn.metrics import classification_report\n",
        "\n",
        "report = classification_report(y_true, y_pred_classes, target_names = ['Akiec', 'Bcc', 'Bkl', 'Df', 'Mel', 'Nv', 'Vasc'])\n",
        "print(report)"
      ],
      "metadata": {
        "colab": {
          "base_uri": "https://localhost:8080/"
        },
        "id": "cA-6pxyx7DXH",
        "outputId": "91c17a6b-c1c1-4268-b67d-af32fa2ff699"
      },
      "execution_count": 29,
      "outputs": [
        {
          "output_type": "stream",
          "name": "stdout",
          "text": [
            "              precision    recall  f1-score   support\n",
            "\n",
            "       Akiec       0.31      0.09      0.14        91\n",
            "         Bcc       0.25      0.11      0.15       132\n",
            "         Bkl       0.28      0.27      0.28       271\n",
            "          Df       0.33      0.07      0.11        30\n",
            "         Mel       0.36      0.32      0.34       277\n",
            "          Nv       0.78      0.89      0.83      1669\n",
            "        Vasc       0.50      0.21      0.29        34\n",
            "\n",
            "    accuracy                           0.67      2504\n",
            "   macro avg       0.40      0.28      0.31      2504\n",
            "weighted avg       0.63      0.67      0.64      2504\n",
            "\n"
          ]
        }
      ]
    },
    {
      "cell_type": "code",
      "source": [
        "def classwise_accuracy():\n",
        "   a = pd.crosstab(y_true,y_pred_classes)\n",
        "   print(a.max(axis=1)/a.sum(axis=1))\n",
        "classwise_accuracy()"
      ],
      "metadata": {
        "colab": {
          "base_uri": "https://localhost:8080/"
        },
        "id": "t_poP8vT7OPP",
        "outputId": "2d800187-84d7-4ef4-c0f8-a1018216765d"
      },
      "execution_count": 30,
      "outputs": [
        {
          "output_type": "stream",
          "name": "stdout",
          "text": [
            "row_0\n",
            "0    0.373626\n",
            "1    0.401515\n",
            "2    0.538745\n",
            "3    0.366667\n",
            "4    0.537906\n",
            "5    0.889754\n",
            "6    0.441176\n",
            "dtype: float64\n"
          ]
        }
      ]
    },
    {
      "cell_type": "code",
      "source": [
        "#confusion matrix and percent misclassified by disease categories"
      ],
      "metadata": {
        "id": "clha33AC6-Fq"
      },
      "execution_count": 31,
      "outputs": []
    },
    {
      "cell_type": "code",
      "source": [
        "cm = confusion_matrix(y_true, y_pred_classes)\n",
        "fig, ax = plt.subplots(figsize=(10,10))\n",
        "sns.set(font_scale=1.6)\n",
        "sns.heatmap(cm, annot=True, linewidths=.5, ax=ax)"
      ],
      "metadata": {
        "colab": {
          "base_uri": "https://localhost:8080/",
          "height": 610
        },
        "id": "Lm6Mk5TCoha4",
        "outputId": "f6cc312e-4380-43b5-ec6d-b97974862bf3"
      },
      "execution_count": 32,
      "outputs": [
        {
          "output_type": "execute_result",
          "data": {
            "text/plain": [
              "<matplotlib.axes._subplots.AxesSubplot at 0x7f7c76517d50>"
            ]
          },
          "metadata": {},
          "execution_count": 32
        },
        {
          "output_type": "display_data",
          "data": {
            "text/plain": [
              "<Figure size 720x720 with 2 Axes>"
            ],
            "image/png": "[encoded data removed]"
          },
          "metadata": {
            "needs_background": "light"
          }
        }
      ]
    },
    {
      "cell_type": "code",
      "source": [
        "incorr_fraction = 1 - np.diag(cm) / np.sum(cm, axis=1)\n",
        "\n",
        "incorr_fraction = incorr_fraction.tolist()\n",
        "\n",
        "incorr_fraction = [round(item, 2) for item in incorr_fraction]\n",
        "\n",
        "incorr_fraction"
      ],
      "metadata": {
        "colab": {
          "base_uri": "https://localhost:8080/"
        },
        "id": "GwMtPgCKokAd",
        "outputId": "90402550-b22f-498e-d296-c2149732b8a2"
      },
      "execution_count": 33,
      "outputs": [
        {
          "output_type": "execute_result",
          "data": {
            "text/plain": [
              "[0.91, 0.89, 0.73, 0.93, 0.68, 0.11, 0.79]"
            ]
          },
          "metadata": {},
          "execution_count": 33
        }
      ]
    },
    {
      "cell_type": "code",
      "source": [
        "def addlabels(x,y):\n",
        "    for i in range(len(x)):\n",
        "        plt.text(i, y[i], y[i], ha = 'center')\n",
        "  \n",
        "if __name__ == '__main__':\n",
        "  plt.bar(np.arange(7), incorr_fraction)\n",
        "  addlabels(np.arange(7), incorr_fraction)\n",
        "  plt.title(\"Fraction Misclassified per Diagnosis Label\")\n",
        "  plt.xlabel('True Label')\n",
        "  plt.ylabel('Fraction of incorrect predictions')"
      ],
      "metadata": {
        "colab": {
          "base_uri": "https://localhost:8080/",
          "height": 343
        },
        "id": "GRvhUK8Oom0T",
        "outputId": "71db6f14-a5ee-4e54-93cd-4235a1a955ea"
      },
      "execution_count": 34,
      "outputs": [
        {
          "output_type": "display_data",
          "data": {
            "text/plain": [
              "<Figure size 432x288 with 1 Axes>"
            ],
            "image/png": "[encoded data removed]"
          },
          "metadata": {}
        }
      ]
    }
  ]
}